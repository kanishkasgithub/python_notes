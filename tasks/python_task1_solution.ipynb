{
  "nbformat": 4,
  "nbformat_minor": 0,
  "metadata": {
    "colab": {
      "provenance": []
    },
    "kernelspec": {
      "name": "python3",
      "display_name": "Python 3"
    },
    "language_info": {
      "name": "python"
    }
  },
  "cells": [
    {
      "cell_type": "markdown",
      "source": [
        "# Task : Session 1\n"
      ],
      "metadata": {
        "id": "ig0VVwS9b9W4"
      }
    },
    {
      "cell_type": "markdown",
      "source": [
        "### Q1 :- Print the given strings as per stated format.\n",
        "\n",
        "**Given strings**:\n",
        "```\n",
        "\"Data\" \"Science\" \"Mentorship\" \"Program\"\n",
        "\"By\" \"CampusX\"\n",
        "```\n",
        "**Output**:\n",
        "```\n",
        "Data-Science-Mentorship-Program-started-By-CampusX\n",
        "```\n",
        "\n",
        "Concept- [Seperator and End]"
      ],
      "metadata": {
        "id": "zdCPRAStcKdv"
      }
    },
    {
      "cell_type": "code",
      "execution_count": 4,
      "metadata": {
        "colab": {
          "base_uri": "https://localhost:8080/"
        },
        "id": "kLE2v-6vb4y9",
        "outputId": "2c455a1a-8fd8-4208-f627-4b20f5991676"
      },
      "outputs": [
        {
          "output_type": "stream",
          "name": "stdout",
          "text": [
            "Data-Science-Mentorship-Program-By-CampusX\n"
          ]
        }
      ],
      "source": [
        "print('Data','Science','Mentorship','Program',sep='-',end='-')\n",
        "print('By','CampusX',sep='-')"
      ]
    },
    {
      "cell_type": "markdown",
      "source": [
        "### Q2:- Write a program that will convert celsius value to fahrenheit."
      ],
      "metadata": {
        "id": "XpPp6hOedZ7y"
      }
    },
    {
      "cell_type": "code",
      "source": [
        "celsius = float(input(\"Enter temperature in Celsius: \"))\n",
        "fahrenheit = (celsius * 9/5) + 32\n",
        "print(fahrenheit)"
      ],
      "metadata": {
        "colab": {
          "base_uri": "https://localhost:8080/"
        },
        "id": "bl2ULHRXcpD_",
        "outputId": "e85320e8-ea79-4372-88ee-d962aa872218"
      },
      "execution_count": 10,
      "outputs": [
        {
          "output_type": "stream",
          "name": "stdout",
          "text": [
            "Enter temperature in Celsius: 43\n",
            "109.4\n"
          ]
        }
      ]
    },
    {
      "cell_type": "markdown",
      "source": [
        "### Q3:- Take 2 numbers as input from the user.Write a program to swap the numbers without using any special python syntax."
      ],
      "metadata": {
        "id": "QY0fb0v7eTqM"
      }
    },
    {
      "cell_type": "code",
      "source": [
        "num1 = int(input(\"Enter first number: \"))\n",
        "num2 = int(input(\"Enter second number: \"))\n",
        "print(\"Before swapping: num1 = {}, num2 = {}\".format(num1, num2))\n",
        "temp = num1\n",
        "num1 = num2\n",
        "num2 = temp\n",
        "print(\"After swapping: num1 = {}, num2 = {}\".format(num1, num2))"
      ],
      "metadata": {
        "colab": {
          "base_uri": "https://localhost:8080/"
        },
        "id": "9qIbFAD7eoWE",
        "outputId": "593e1636-6208-4acc-d378-37ed0b033431"
      },
      "execution_count": 11,
      "outputs": [
        {
          "output_type": "stream",
          "name": "stdout",
          "text": [
            "Enter first number: 10\n",
            "Enter second number: 30\n",
            "Before swapping: num1 = 10, num2 = 30\n",
            "After swapping: num1 = 30, num2 = 10\n"
          ]
        }
      ]
    },
    {
      "cell_type": "code",
      "source": [
        "num1 = int(input(\"Enter first number: \"))\n",
        "num2 = int(input(\"Enter second number: \"))\n",
        "print(\"Before swapping: num1 = {}, num2 = {}\".format(num1, num2))\n",
        "num1, num2 = num2, num1   # special python syntax\n",
        "print(\"After swapping: num1 = {}, num2 = {}\".format(num1, num2))"
      ],
      "metadata": {
        "colab": {
          "base_uri": "https://localhost:8080/"
        },
        "id": "ghIh8JW3d3LA",
        "outputId": "590c9b57-a5a4-4c0c-a061-0b03bc17b119"
      },
      "execution_count": 12,
      "outputs": [
        {
          "output_type": "stream",
          "name": "stdout",
          "text": [
            "Enter first number: 23\n",
            "Enter second number: 89\n",
            "Before swapping: num1 = 23, num2 = 89\n",
            "After swapping: num1 = 89, num2 = 23\n"
          ]
        }
      ]
    },
    {
      "cell_type": "markdown",
      "source": [
        "### Q4:- Write a program to find the euclidean distance between two coordinates.Take both the coordinates from the user as input."
      ],
      "metadata": {
        "id": "0s-a-9G0fEyp"
      }
    },
    {
      "cell_type": "code",
      "source": [
        "x1 = float(input(\"Enter x1: \"))\n",
        "y1 = float(input(\"Enter y1: \"))\n",
        "x2 = float(input(\"Enter x2: \"))\n",
        "y2 = float(input(\"Enter y2: \"))\n",
        "distance = ((x2 - x1)**2 + (y2 - y1)**2)**0.5\n",
        "print(\"Euclidean distance between two coordinates:\", round(distance,2))"
      ],
      "metadata": {
        "colab": {
          "base_uri": "https://localhost:8080/"
        },
        "id": "ipTuuPOkfJRG",
        "outputId": "0ef891ae-e7e7-44fd-c8fa-71262f4af870"
      },
      "execution_count": 15,
      "outputs": [
        {
          "output_type": "stream",
          "name": "stdout",
          "text": [
            "Enter x1: 9\n",
            "Enter y1: 9\n",
            "Enter x2: 0\n",
            "Enter y2: 0\n",
            "Euclidean distance between two coordinates: 12.73\n"
          ]
        }
      ]
    },
    {
      "cell_type": "markdown",
      "source": [
        "### Q5:- Write a program to find the simple interest when the value of principle,rate of interest and time period is provided by the user."
      ],
      "metadata": {
        "id": "aeLQi__-gFEm"
      }
    },
    {
      "cell_type": "code",
      "source": [
        "p = float(input(\"Enter the principle amount: \"))\n",
        "r = float(input(\"Enter the rate of interest: \"))\n",
        "t = float(input(\"Enter the time period: \"))\n",
        "si = (p * r * t) / 100\n",
        "print(\"Simple interest:\", round(si,2))"
      ],
      "metadata": {
        "colab": {
          "base_uri": "https://localhost:8080/"
        },
        "id": "nU9fk8uBfryO",
        "outputId": "7d8e5b9c-1688-49b0-b00d-1d9c89a07ab9"
      },
      "execution_count": 17,
      "outputs": [
        {
          "output_type": "stream",
          "name": "stdout",
          "text": [
            "Enter the principle amount: 45000\n",
            "Enter the rate of interest: 6.8\n",
            "Enter the time period: 3\n",
            "Simple interest: 9180.0\n"
          ]
        }
      ]
    },
    {
      "cell_type": "markdown",
      "source": [
        "### Q6:- Write a program that will tell the number of dogs and chicken are there when the user will provide the value of total heads and legs.\n",
        "\n",
        "For example:\n",
        "Input:\n",
        "heads -> 4\n",
        "legs -> 12\n",
        "<br>\n",
        "Output:\n",
        "dogs -> 2\n",
        "chicken -> 2"
      ],
      "metadata": {
        "id": "lu45iv7_k7L5"
      }
    },
    {
      "cell_type": "code",
      "source": [
        "head = int(input(\"Enter the number of heads: \"))\n",
        "leg = int(input(\"Enter the number of legs: \"))\n",
        "dogs = head\n",
        "chickens = 0\n",
        "while (dogs*4)+(chickens*2) != leg:\n",
        "    chickens += 1\n",
        "    dogs -= 1\n",
        "print(\"Dogs:\", dogs)\n",
        "print(\"Chickens:\", chickens)"
      ],
      "metadata": {
        "colab": {
          "base_uri": "https://localhost:8080/"
        },
        "id": "JDtqR--RnBEE",
        "outputId": "1a966490-57a6-442f-8b6b-0bb6d02803c1"
      },
      "execution_count": 26,
      "outputs": [
        {
          "output_type": "stream",
          "name": "stdout",
          "text": [
            "Enter the number of heads: 14\n",
            "Enter the number of legs: 38\n",
            "Dogs: 5\n",
            "Chickens: 9\n"
          ]
        }
      ]
    },
    {
      "cell_type": "code",
      "source": [
        "head = int(input(\"Enter the number of heads: \"))\n",
        "leg = int(input(\"Enter the number of legs: \"))\n",
        "dog = (leg - 2 * head) // 2\n",
        "chicken = head - dog\n",
        "print(\"Dogs:\", dog)\n",
        "print(\"Chicken:\", chicken)"
      ],
      "metadata": {
        "colab": {
          "base_uri": "https://localhost:8080/"
        },
        "id": "oGb5Q1-ef44_",
        "outputId": "645e372c-59f5-44cd-c1fd-253180901040"
      },
      "execution_count": 23,
      "outputs": [
        {
          "output_type": "stream",
          "name": "stdout",
          "text": [
            "Enter the number of heads: 10\n",
            "Enter the number of legs: 38\n",
            "Dogs: 9\n",
            "Chicken: 1\n"
          ]
        }
      ]
    },
    {
      "cell_type": "markdown",
      "source": [
        "Explanation:\n",
        "\n",
        "legs = 4*dogs + 2*chickens\n",
        "<br>\n",
        "heads = dogs + chickens\n",
        "\n",
        "Then, find dogs in terms of heads and legs and then find chickens.\n",
        "\n",
        "dogs = (legs - 2*heads) // 2"
      ],
      "metadata": {
        "id": "-V0U4bKkoiCB"
      }
    },
    {
      "cell_type": "markdown",
      "source": [
        "### Q7:- Write a program to find the sum of squares of first n natural numbers where n will be provided by the user."
      ],
      "metadata": {
        "id": "J4lfKm1cpfST"
      }
    },
    {
      "cell_type": "code",
      "source": [
        "n = int(input(\"Enter the value of n: \"))\n",
        "sum = 0\n",
        "for i in range(1, n+1):\n",
        "    sum += i**2\n",
        "print(\"Sum of squares of first {} natural numbers: {}\".format(n,sum))"
      ],
      "metadata": {
        "colab": {
          "base_uri": "https://localhost:8080/"
        },
        "id": "Tz8EcSqRpJ6C",
        "outputId": "f03901aa-75d4-41df-b1c8-35f4f7ad350d"
      },
      "execution_count": 33,
      "outputs": [
        {
          "output_type": "stream",
          "name": "stdout",
          "text": [
            "Enter the value of n: 10\n",
            "Sum of squares of first 10 natural numbers: 385\n"
          ]
        }
      ]
    },
    {
      "cell_type": "markdown",
      "source": [
        "### Q8:- Given the first 2 terms of an Arithmetic Series.Find the Nth term of the series. Assume all inputs are provided by the user."
      ],
      "metadata": {
        "id": "DfQdxu9zqgCM"
      }
    },
    {
      "cell_type": "code",
      "source": [
        "fterm = int(input(\"Enter the first term: \"))\n",
        "sterm = int(input(\"Enter the second term: \"))\n",
        "nth = int(input(\"Enter the nth term: \"))\n",
        "nterm = fterm + (nth-1)*(sterm-fterm)\n",
        "print(\"The {}th term of the series is: {}\".format(nth,nterm))"
      ],
      "metadata": {
        "colab": {
          "base_uri": "https://localhost:8080/"
        },
        "id": "ioKj_Hosqg8u",
        "outputId": "d44c0982-f8f9-48bd-e611-4767ba6479e5"
      },
      "execution_count": 37,
      "outputs": [
        {
          "output_type": "stream",
          "name": "stdout",
          "text": [
            "Enter the first term: 5\n",
            "Enter the second term: 3\n",
            "Enter the nth term: 10\n",
            "The 10th term of the series is: -13\n"
          ]
        }
      ]
    },
    {
      "cell_type": "markdown",
      "source": [
        "### Q9:- Given 2 fractions, find the sum of those 2 fractions.Take the numerator and denominator values of the fractions from the user."
      ],
      "metadata": {
        "id": "mABYLvlFrtQS"
      }
    },
    {
      "cell_type": "code",
      "source": [
        "num1 = int(input(\"Enter the numerator of the first fraction: \"))\n",
        "den1 = int(input(\"Enter the denominator of the first fraction: \"))\n",
        "num2 = int(input(\"Enter the numerator of the second fraction: \"))\n",
        "den2 = int(input(\"Enter the denominator of the second fraction: \"))\n",
        "sum_num = num1*den2 + num2*den1\n",
        "sum_den = den1*den2\n",
        "print(\"Sum of the fractions: {}/{}\".format(sum_num,sum_den))"
      ],
      "metadata": {
        "colab": {
          "base_uri": "https://localhost:8080/"
        },
        "id": "QdkPMtx8rs4B",
        "outputId": "0a752456-ba78-4661-90a8-14dc0efa8b2e"
      },
      "execution_count": 39,
      "outputs": [
        {
          "output_type": "stream",
          "name": "stdout",
          "text": [
            "Enter the numerator of the first fraction: 5\n",
            "Enter the denominator of the first fraction: 7\n",
            "Enter the numerator of the second fraction: 9\n",
            "Enter the denominator of the second fraction: 3\n",
            "Sum of the fractions: 78/21\n"
          ]
        }
      ]
    },
    {
      "cell_type": "markdown",
      "source": [
        "### Q10:- Given the height, width and breadth of a milk tank, you have to find out how many glasses of milk can be obtained? Assume all the inputs are provided by the user.\n",
        "\n",
        "Input:<br>\n",
        "Dimensions of the milk tank<br>\n",
        "H = 20cm, L = 20cm, B = 20cm\n",
        "<br><br>\n",
        "Dimensions of the glass<br>\n",
        "h = 3cm, r = 1cm"
      ],
      "metadata": {
        "id": "u0B7IkH3vGOs"
      }
    },
    {
      "cell_type": "code",
      "source": [
        "htank = int(input(\"Enter the height of the milk tank: \"))\n",
        "ltank = int(input(\"Enter the length of the milk tank: \"))\n",
        "btank = int(input(\"Enter the breadth of the milk tank: \"))\n",
        "hglass = int(input(\"Enter the height of the glass: \"))\n",
        "rglass = int(input(\"Enter the radius of the glass: \"))\n",
        "total = (htank*ltank*btank)//(3.14*hglass*(rglass**2))\n",
        "print(\"Number of glasses of milk can be obtained: {}\".format(total))"
      ],
      "metadata": {
        "colab": {
          "base_uri": "https://localhost:8080/"
        },
        "id": "byH2_Y5zvN9r",
        "outputId": "5be68560-591d-4ff8-920e-4f05485048f6"
      },
      "execution_count": 43,
      "outputs": [
        {
          "output_type": "stream",
          "name": "stdout",
          "text": [
            "Enter the height of the milk tank: 20\n",
            "Enter the length of the milk tank: 20\n",
            "Enter the breadth of the milk tank: 20\n",
            "Enter the height of the glass: 3\n",
            "Enter the radius of the glass: 1\n",
            "Number of glasses of milk can be obtained: 849.0\n"
          ]
        }
      ]
    }
  ]
}