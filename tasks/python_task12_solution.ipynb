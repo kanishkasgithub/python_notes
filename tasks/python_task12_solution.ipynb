{
  "nbformat": 4,
  "nbformat_minor": 0,
  "metadata": {
    "colab": {
      "provenance": []
    },
    "kernelspec": {
      "name": "python3",
      "display_name": "Python 3"
    },
    "language_info": {
      "name": "python"
    }
  },
  "cells": [
    {
      "cell_type": "markdown",
      "source": [
        "Task-12"
      ],
      "metadata": {
        "id": "MGzmYYgRFK_s"
      }
    },
    {
      "cell_type": "markdown",
      "source": [
        "## Namespace and Scope"
      ],
      "metadata": {
        "id": "tYrEi67sGc26"
      }
    },
    {
      "cell_type": "markdown",
      "source": [
        "###`Q1:` Write `Person` Class as given below and then display it's namespace.\n",
        "\n"
      ],
      "metadata": {
        "id": "Kh0-QyIrFP81"
      }
    },
    {
      "cell_type": "markdown",
      "source": [
        "```\n",
        "Class Name - Person\n",
        "\n",
        "Attributes:\n",
        "name - public\n",
        "state - public\n",
        "city - private\n",
        "age - private\n",
        "\n",
        "Methods:\n",
        "address - public\n",
        "It give address of the person as \"<name>, <city>, <state>\"\n",
        "```"
      ],
      "metadata": {
        "id": "3rlI7yqWFVn1"
      }
    },
    {
      "cell_type": "code",
      "execution_count": 4,
      "metadata": {
        "id": "wUp1HCcxFC7Q"
      },
      "outputs": [],
      "source": [
        "class Person:\n",
        "\n",
        "  def __init__(self, name, state, city, age):\n",
        "    self.name = name\n",
        "    self.state = state\n",
        "    self.__city = city\n",
        "    self.__age = age\n",
        "\n",
        "  def address(self):\n",
        "    return \"{}, {}, {}\".format(self.name,self.__city,self.state)"
      ]
    },
    {
      "cell_type": "code",
      "source": [
        "p = Person('kiran','haryana','gurgoan',34)\n",
        "print(p.address())"
      ],
      "metadata": {
        "colab": {
          "base_uri": "https://localhost:8080/"
        },
        "id": "1-TB2no5GD6T",
        "outputId": "786ad3bf-30d4-4242-86af-cf6840e916c3"
      },
      "execution_count": 5,
      "outputs": [
        {
          "output_type": "stream",
          "name": "stdout",
          "text": [
            "kiran, gurgoan, haryana\n"
          ]
        }
      ]
    },
    {
      "cell_type": "code",
      "source": [
        "who"
      ],
      "metadata": {
        "colab": {
          "base_uri": "https://localhost:8080/"
        },
        "id": "VBRjCwxBHXwk",
        "outputId": "14f24837-65e7-493a-ac9a-f0dda1737eda"
      },
      "execution_count": 6,
      "outputs": [
        {
          "output_type": "stream",
          "name": "stdout",
          "text": [
            "Person\t p\t \n"
          ]
        }
      ]
    },
    {
      "cell_type": "code",
      "source": [
        "whos"
      ],
      "metadata": {
        "colab": {
          "base_uri": "https://localhost:8080/"
        },
        "id": "UeHPPWAzHYOl",
        "outputId": "81499509-f82a-4135-8521-123568678ff7"
      },
      "execution_count": 7,
      "outputs": [
        {
          "output_type": "stream",
          "name": "stdout",
          "text": [
            "Variable   Type      Data/Info\n",
            "------------------------------\n",
            "Person     type      <class '__main__.Person'>\n",
            "p          Person    <__main__.Person object at 0x7f242b52b940>\n"
          ]
        }
      ]
    },
    {
      "cell_type": "code",
      "source": [
        "dir(Person)"
      ],
      "metadata": {
        "colab": {
          "base_uri": "https://localhost:8080/"
        },
        "id": "WXBn4HppOBra",
        "outputId": "30361646-cd62-439e-9eef-7bae4aa9a299"
      },
      "execution_count": 17,
      "outputs": [
        {
          "output_type": "execute_result",
          "data": {
            "text/plain": [
              "['__annotations__',\n",
              " '__class__',\n",
              " '__delattr__',\n",
              " '__dict__',\n",
              " '__dir__',\n",
              " '__doc__',\n",
              " '__eq__',\n",
              " '__format__',\n",
              " '__ge__',\n",
              " '__getattribute__',\n",
              " '__gt__',\n",
              " '__hash__',\n",
              " '__init__',\n",
              " '__init_subclass__',\n",
              " '__le__',\n",
              " '__lt__',\n",
              " '__module__',\n",
              " '__ne__',\n",
              " '__new__',\n",
              " '__reduce__',\n",
              " '__reduce_ex__',\n",
              " '__repr__',\n",
              " '__setattr__',\n",
              " '__sizeof__',\n",
              " '__str__',\n",
              " '__subclasshook__',\n",
              " '__weakref__',\n",
              " 'address']"
            ]
          },
          "metadata": {},
          "execution_count": 17
        }
      ]
    },
    {
      "cell_type": "code",
      "source": [
        "Person.__dict__"
      ],
      "metadata": {
        "colab": {
          "base_uri": "https://localhost:8080/"
        },
        "id": "_B4_cAEnORVn",
        "outputId": "56c909a9-4d4e-463b-951c-0446fc66fb57"
      },
      "execution_count": 21,
      "outputs": [
        {
          "output_type": "execute_result",
          "data": {
            "text/plain": [
              "mappingproxy({'__module__': '__main__',\n",
              "              '__init__': <function __main__.Person.__init__(self, name, state, city, age)>,\n",
              "              'address': <function __main__.Person.address(self)>,\n",
              "              '__dict__': <attribute '__dict__' of 'Person' objects>,\n",
              "              '__weakref__': <attribute '__weakref__' of 'Person' objects>,\n",
              "              '__doc__': None,\n",
              "              '__annotations__': {}})"
            ]
          },
          "metadata": {},
          "execution_count": 21
        }
      ]
    },
    {
      "cell_type": "code",
      "source": [
        "for i in Person.__dict__:\n",
        "  print(i)"
      ],
      "metadata": {
        "colab": {
          "base_uri": "https://localhost:8080/"
        },
        "id": "IJ5ktci0IAQQ",
        "outputId": "7e8e0a52-82b4-4a72-991a-cf736a2fd300"
      },
      "execution_count": 14,
      "outputs": [
        {
          "output_type": "stream",
          "name": "stdout",
          "text": [
            "__module__\n",
            "__init__\n",
            "address\n",
            "__dict__\n",
            "__weakref__\n",
            "__doc__\n",
            "__annotations__\n"
          ]
        }
      ]
    },
    {
      "cell_type": "markdown",
      "source": [
        "![image.png](data:image/png;base64,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)"
      ],
      "metadata": {
        "id": "NIxt-QO0KRkK"
      }
    },
    {
      "cell_type": "markdown",
      "source": [
        "###`Q2:` Write a program to show namespace of object/instance of above(Person) class."
      ],
      "metadata": {
        "id": "_r6UUvSsMtYF"
      }
    },
    {
      "cell_type": "code",
      "source": [
        "p.__dict__"
      ],
      "metadata": {
        "colab": {
          "base_uri": "https://localhost:8080/"
        },
        "id": "ymX0OLxvIWDe",
        "outputId": "8c50921c-6279-4952-a477-773b6759af3a"
      },
      "execution_count": 15,
      "outputs": [
        {
          "output_type": "execute_result",
          "data": {
            "text/plain": [
              "{'name': 'kiran',\n",
              " 'state': 'haryana',\n",
              " '_Person__city': 'gurgoan',\n",
              " '_Person__age': 34}"
            ]
          },
          "metadata": {},
          "execution_count": 15
        }
      ]
    },
    {
      "cell_type": "code",
      "source": [
        "p2 = Person('james','maharashtra','mumbai',23)\n",
        "p2.__dict__"
      ],
      "metadata": {
        "colab": {
          "base_uri": "https://localhost:8080/"
        },
        "id": "VVelRsZcNark",
        "outputId": "407186af-19d7-4b76-d875-e81de8e0f51c"
      },
      "execution_count": 16,
      "outputs": [
        {
          "output_type": "execute_result",
          "data": {
            "text/plain": [
              "{'name': 'james',\n",
              " 'state': 'maharashtra',\n",
              " '_Person__city': 'mumbai',\n",
              " '_Person__age': 23}"
            ]
          },
          "metadata": {},
          "execution_count": 16
        }
      ]
    },
    {
      "cell_type": "code",
      "source": [
        "dir(p)"
      ],
      "metadata": {
        "colab": {
          "base_uri": "https://localhost:8080/"
        },
        "id": "-ciEz6mTOOOP",
        "outputId": "ff93bbed-b5d8-490e-ac48-759725607a82"
      },
      "execution_count": 18,
      "outputs": [
        {
          "output_type": "execute_result",
          "data": {
            "text/plain": [
              "['_Person__age',\n",
              " '_Person__city',\n",
              " '__annotations__',\n",
              " '__class__',\n",
              " '__delattr__',\n",
              " '__dict__',\n",
              " '__dir__',\n",
              " '__doc__',\n",
              " '__eq__',\n",
              " '__format__',\n",
              " '__ge__',\n",
              " '__getattribute__',\n",
              " '__gt__',\n",
              " '__hash__',\n",
              " '__init__',\n",
              " '__init_subclass__',\n",
              " '__le__',\n",
              " '__lt__',\n",
              " '__module__',\n",
              " '__ne__',\n",
              " '__new__',\n",
              " '__reduce__',\n",
              " '__reduce_ex__',\n",
              " '__repr__',\n",
              " '__setattr__',\n",
              " '__sizeof__',\n",
              " '__str__',\n",
              " '__subclasshook__',\n",
              " '__weakref__',\n",
              " 'address',\n",
              " 'name',\n",
              " 'state']"
            ]
          },
          "metadata": {},
          "execution_count": 18
        }
      ]
    },
    {
      "cell_type": "markdown",
      "source": [
        "###`Q3:` Write a recursive program to to calculate `gcd` and print no. of function calls taken to find the solution.\n",
        "```\n",
        "gcd(5,10) -> result in 5 as gcd and function call 4\n",
        "```"
      ],
      "metadata": {
        "id": "j4C_vYnkPR6z"
      }
    },
    {
      "cell_type": "code",
      "source": [
        "counter = 0\n",
        "def gcd(a,b):\n",
        "  global counter\n",
        "  counter += 1\n",
        "  if b==0:\n",
        "    return a\n",
        "  return gcd(b,a%b)"
      ],
      "metadata": {
        "id": "0rvbrCZoOs3-"
      },
      "execution_count": 45,
      "outputs": []
    },
    {
      "cell_type": "code",
      "source": [
        "gcd(10,5)"
      ],
      "metadata": {
        "colab": {
          "base_uri": "https://localhost:8080/"
        },
        "id": "HJ2YR3eDR7cL",
        "outputId": "a4874538-b2b0-4b04-ee35-3c7ba7c6c885"
      },
      "execution_count": 46,
      "outputs": [
        {
          "output_type": "execute_result",
          "data": {
            "text/plain": [
              "5"
            ]
          },
          "metadata": {},
          "execution_count": 46
        }
      ]
    },
    {
      "cell_type": "code",
      "source": [
        "counter"
      ],
      "metadata": {
        "colab": {
          "base_uri": "https://localhost:8080/"
        },
        "id": "Sq9alhLvUcta",
        "outputId": "8b9a42eb-bd18-406b-d76d-161c4e6279f1"
      },
      "execution_count": 47,
      "outputs": [
        {
          "output_type": "execute_result",
          "data": {
            "text/plain": [
              "2"
            ]
          },
          "metadata": {},
          "execution_count": 47
        }
      ]
    },
    {
      "cell_type": "markdown",
      "source": [
        "## Iterator And Generator"
      ],
      "metadata": {
        "id": "KbPKwFVtPa00"
      }
    },
    {
      "cell_type": "markdown",
      "source": [
        "###`Q4:` Create MyEnumerate class,\n",
        "Create your own `MyEnumerate` class such that someone can use it instead of enumerate. It will need to return a `tuple` with each iteration, with the first element in the tuple being the `index` (starting with 0) and the second element being the `current element` from the underlying data structure. Trying to use `MyEnumerate` with a noniterable argument will result in an error.\n",
        "\n",
        "```\n",
        "for index, letter in MyEnumerate('abc'):\n",
        "    print(f'{index} : {letter}')\n",
        "```\n",
        "\n",
        "Output:\n",
        "```\n",
        "0 : a\n",
        "1 : b\n",
        "2 : c\n",
        "```"
      ],
      "metadata": {
        "id": "d_wnJzIcPgEb"
      }
    },
    {
      "cell_type": "code",
      "source": [
        "# iterator\n",
        "class MyEnumerate:\n",
        "\n",
        "  def __init__(self,data):\n",
        "    self.data = data\n",
        "    self.index = 0\n",
        "\n",
        "  def __iter__(self):\n",
        "    return self\n",
        "\n",
        "  def __next__(self):\n",
        "    if '__iter__' not in dir(self.data):\n",
        "      raise TypeError('Data must be iterable')\n",
        "    else:\n",
        "      if self.index >= len(self.data):\n",
        "        raise StopIteration\n",
        "      current = self.data[self.index]\n",
        "      self.index += 1\n",
        "      return '{} : {}'.format(self.index - 1, current)\n",
        "\n",
        "  def __repr__(self):\n",
        "    return f'{type(self).__name__}({self.data})'"
      ],
      "metadata": {
        "id": "7obTIwOeriTK"
      },
      "execution_count": 38,
      "outputs": []
    },
    {
      "cell_type": "code",
      "source": [
        "e = MyEnumerate('abc')\n",
        "f = MyEnumerate(['apple', 'banana', 'cherry'])\n",
        "g = MyEnumerate(10)"
      ],
      "metadata": {
        "id": "0OZFgvHNnTil"
      },
      "execution_count": 39,
      "outputs": []
    },
    {
      "cell_type": "code",
      "source": [
        "f"
      ],
      "metadata": {
        "colab": {
          "base_uri": "https://localhost:8080/"
        },
        "id": "7-1lJnxpoiWJ",
        "outputId": "ccd2e64d-e850-44f7-f507-f969bfa49a56"
      },
      "execution_count": 42,
      "outputs": [
        {
          "output_type": "execute_result",
          "data": {
            "text/plain": [
              "MyEnumerate(['apple', 'banana', 'cherry'])"
            ]
          },
          "metadata": {},
          "execution_count": 42
        }
      ]
    },
    {
      "cell_type": "code",
      "source": [
        "for i in e:\n",
        "  print(i)"
      ],
      "metadata": {
        "colab": {
          "base_uri": "https://localhost:8080/"
        },
        "id": "bk20S9ZSnXRZ",
        "outputId": "1353c4e6-5630-46cb-c84c-8ca4e1e9ab94"
      },
      "execution_count": 40,
      "outputs": [
        {
          "output_type": "stream",
          "name": "stdout",
          "text": [
            "0 : a\n",
            "1 : b\n",
            "2 : c\n"
          ]
        }
      ]
    },
    {
      "cell_type": "code",
      "source": [
        "for i in f:\n",
        "  print(i)"
      ],
      "metadata": {
        "colab": {
          "base_uri": "https://localhost:8080/"
        },
        "id": "0rkNFXwgoGNY",
        "outputId": "bb7ab4d4-c107-4373-e454-24283966da21"
      },
      "execution_count": 41,
      "outputs": [
        {
          "output_type": "stream",
          "name": "stdout",
          "text": [
            "0 : apple\n",
            "1 : banana\n",
            "2 : cherry\n"
          ]
        }
      ]
    },
    {
      "cell_type": "code",
      "source": [
        "g"
      ],
      "metadata": {
        "colab": {
          "base_uri": "https://localhost:8080/"
        },
        "id": "UqxnF4_3pvCn",
        "outputId": "702a19e7-3fca-4e2f-a73d-ec160a0fd779"
      },
      "execution_count": 43,
      "outputs": [
        {
          "output_type": "execute_result",
          "data": {
            "text/plain": [
              "MyEnumerate(10)"
            ]
          },
          "metadata": {},
          "execution_count": 43
        }
      ]
    },
    {
      "cell_type": "code",
      "source": [
        "for i in g:\n",
        "  print(i)"
      ],
      "metadata": {
        "colab": {
          "base_uri": "https://localhost:8080/",
          "height": 280
        },
        "id": "gJC-jmsIpxGU",
        "outputId": "e85f7c2b-94d1-42d9-cb77-022aa2062dc1"
      },
      "execution_count": 44,
      "outputs": [
        {
          "output_type": "error",
          "ename": "TypeError",
          "evalue": "Data must be iterable",
          "traceback": [
            "\u001b[0;31m---------------------------------------------------------------------------\u001b[0m",
            "\u001b[0;31mTypeError\u001b[0m                                 Traceback (most recent call last)",
            "\u001b[0;32m<ipython-input-44-e345aabcbcd2>\u001b[0m in \u001b[0;36m<cell line: 1>\u001b[0;34m()\u001b[0m\n\u001b[0;32m----> 1\u001b[0;31m \u001b[0;32mfor\u001b[0m \u001b[0mi\u001b[0m \u001b[0;32min\u001b[0m \u001b[0mg\u001b[0m\u001b[0;34m:\u001b[0m\u001b[0;34m\u001b[0m\u001b[0;34m\u001b[0m\u001b[0m\n\u001b[0m\u001b[1;32m      2\u001b[0m   \u001b[0mprint\u001b[0m\u001b[0;34m(\u001b[0m\u001b[0mi\u001b[0m\u001b[0;34m)\u001b[0m\u001b[0;34m\u001b[0m\u001b[0;34m\u001b[0m\u001b[0m\n",
            "\u001b[0;32m<ipython-input-38-4550d8d32bfe>\u001b[0m in \u001b[0;36m__next__\u001b[0;34m(self)\u001b[0m\n\u001b[1;32m     10\u001b[0m   \u001b[0;32mdef\u001b[0m \u001b[0m__next__\u001b[0m\u001b[0;34m(\u001b[0m\u001b[0mself\u001b[0m\u001b[0;34m)\u001b[0m\u001b[0;34m:\u001b[0m\u001b[0;34m\u001b[0m\u001b[0;34m\u001b[0m\u001b[0m\n\u001b[1;32m     11\u001b[0m     \u001b[0;32mif\u001b[0m \u001b[0;34m'__iter__'\u001b[0m \u001b[0;32mnot\u001b[0m \u001b[0;32min\u001b[0m \u001b[0mdir\u001b[0m\u001b[0;34m(\u001b[0m\u001b[0mself\u001b[0m\u001b[0;34m.\u001b[0m\u001b[0mdata\u001b[0m\u001b[0;34m)\u001b[0m\u001b[0;34m:\u001b[0m\u001b[0;34m\u001b[0m\u001b[0;34m\u001b[0m\u001b[0m\n\u001b[0;32m---> 12\u001b[0;31m       \u001b[0;32mraise\u001b[0m \u001b[0mTypeError\u001b[0m\u001b[0;34m(\u001b[0m\u001b[0;34m'Data must be iterable'\u001b[0m\u001b[0;34m)\u001b[0m\u001b[0;34m\u001b[0m\u001b[0;34m\u001b[0m\u001b[0m\n\u001b[0m\u001b[1;32m     13\u001b[0m     \u001b[0;32melse\u001b[0m\u001b[0;34m:\u001b[0m\u001b[0;34m\u001b[0m\u001b[0;34m\u001b[0m\u001b[0m\n\u001b[1;32m     14\u001b[0m       \u001b[0;32mif\u001b[0m \u001b[0mself\u001b[0m\u001b[0;34m.\u001b[0m\u001b[0mindex\u001b[0m \u001b[0;34m>=\u001b[0m \u001b[0mlen\u001b[0m\u001b[0;34m(\u001b[0m\u001b[0mself\u001b[0m\u001b[0;34m.\u001b[0m\u001b[0mdata\u001b[0m\u001b[0;34m)\u001b[0m\u001b[0;34m:\u001b[0m\u001b[0;34m\u001b[0m\u001b[0;34m\u001b[0m\u001b[0m\n",
            "\u001b[0;31mTypeError\u001b[0m: Data must be iterable"
          ]
        }
      ]
    },
    {
      "cell_type": "code",
      "source": [
        "# using generator\n",
        "def gen_demo(data):\n",
        "  if '__iter__' not in dir(data):\n",
        "    raise TypeError('Data must be iterable')\n",
        "  else:\n",
        "    for i in range(len(data)):\n",
        "      yield '{} : {}'.format(i,data[i])"
      ],
      "metadata": {
        "id": "RkWPyBqqpZxZ"
      },
      "execution_count": 48,
      "outputs": []
    },
    {
      "cell_type": "code",
      "source": [
        "g = gen_demo('abc')\n",
        "for i in g:\n",
        "  print(i)"
      ],
      "metadata": {
        "colab": {
          "base_uri": "https://localhost:8080/"
        },
        "id": "uXaE34b1sIsW",
        "outputId": "d30e88bb-d51b-4daf-d4d2-878214a5b78a"
      },
      "execution_count": 49,
      "outputs": [
        {
          "output_type": "stream",
          "name": "stdout",
          "text": [
            "0 : a\n",
            "1 : b\n",
            "2 : c\n"
          ]
        }
      ]
    },
    {
      "cell_type": "code",
      "source": [
        "h = gen_demo(10)\n",
        "for i in h:\n",
        "  print(i)"
      ],
      "metadata": {
        "colab": {
          "base_uri": "https://localhost:8080/",
          "height": 297
        },
        "id": "jFTUzZmEsMaX",
        "outputId": "7ce575f1-68c0-43c4-fe7b-afe822132052"
      },
      "execution_count": 50,
      "outputs": [
        {
          "output_type": "error",
          "ename": "TypeError",
          "evalue": "Data must be iterable",
          "traceback": [
            "\u001b[0;31m---------------------------------------------------------------------------\u001b[0m",
            "\u001b[0;31mTypeError\u001b[0m                                 Traceback (most recent call last)",
            "\u001b[0;32m<ipython-input-50-0fe33375f517>\u001b[0m in \u001b[0;36m<cell line: 2>\u001b[0;34m()\u001b[0m\n\u001b[1;32m      1\u001b[0m \u001b[0mh\u001b[0m \u001b[0;34m=\u001b[0m \u001b[0mgen_demo\u001b[0m\u001b[0;34m(\u001b[0m\u001b[0;36m10\u001b[0m\u001b[0;34m)\u001b[0m\u001b[0;34m\u001b[0m\u001b[0;34m\u001b[0m\u001b[0m\n\u001b[0;32m----> 2\u001b[0;31m \u001b[0;32mfor\u001b[0m \u001b[0mi\u001b[0m \u001b[0;32min\u001b[0m \u001b[0mh\u001b[0m\u001b[0;34m:\u001b[0m\u001b[0;34m\u001b[0m\u001b[0;34m\u001b[0m\u001b[0m\n\u001b[0m\u001b[1;32m      3\u001b[0m   \u001b[0mprint\u001b[0m\u001b[0;34m(\u001b[0m\u001b[0mi\u001b[0m\u001b[0;34m)\u001b[0m\u001b[0;34m\u001b[0m\u001b[0;34m\u001b[0m\u001b[0m\n",
            "\u001b[0;32m<ipython-input-48-067f3a0b2fb6>\u001b[0m in \u001b[0;36mgen_demo\u001b[0;34m(data)\u001b[0m\n\u001b[1;32m      1\u001b[0m \u001b[0;32mdef\u001b[0m \u001b[0mgen_demo\u001b[0m\u001b[0;34m(\u001b[0m\u001b[0mdata\u001b[0m\u001b[0;34m)\u001b[0m\u001b[0;34m:\u001b[0m\u001b[0;34m\u001b[0m\u001b[0;34m\u001b[0m\u001b[0m\n\u001b[1;32m      2\u001b[0m   \u001b[0;32mif\u001b[0m \u001b[0;34m'__iter__'\u001b[0m \u001b[0;32mnot\u001b[0m \u001b[0;32min\u001b[0m \u001b[0mdir\u001b[0m\u001b[0;34m(\u001b[0m\u001b[0mdata\u001b[0m\u001b[0;34m)\u001b[0m\u001b[0;34m:\u001b[0m\u001b[0;34m\u001b[0m\u001b[0;34m\u001b[0m\u001b[0m\n\u001b[0;32m----> 3\u001b[0;31m     \u001b[0;32mraise\u001b[0m \u001b[0mTypeError\u001b[0m\u001b[0;34m(\u001b[0m\u001b[0;34m'Data must be iterable'\u001b[0m\u001b[0;34m)\u001b[0m\u001b[0;34m\u001b[0m\u001b[0;34m\u001b[0m\u001b[0m\n\u001b[0m\u001b[1;32m      4\u001b[0m   \u001b[0;32melse\u001b[0m\u001b[0;34m:\u001b[0m\u001b[0;34m\u001b[0m\u001b[0;34m\u001b[0m\u001b[0m\n\u001b[1;32m      5\u001b[0m     \u001b[0;32mfor\u001b[0m \u001b[0mi\u001b[0m \u001b[0;32min\u001b[0m \u001b[0mrange\u001b[0m\u001b[0;34m(\u001b[0m\u001b[0mlen\u001b[0m\u001b[0;34m(\u001b[0m\u001b[0mdata\u001b[0m\u001b[0;34m)\u001b[0m\u001b[0;34m)\u001b[0m\u001b[0;34m:\u001b[0m\u001b[0;34m\u001b[0m\u001b[0;34m\u001b[0m\u001b[0m\n",
            "\u001b[0;31mTypeError\u001b[0m: Data must be iterable"
          ]
        }
      ]
    },
    {
      "cell_type": "markdown",
      "source": [
        "###`Q5:` Iterate in circle\n",
        "Define a class, `Circle`, that takes two arguments when defined: a sequence and a number. The idea is that the object will then return elements the defined number of times. If the number is greater than the number of elements, then the sequence  repeats as necessary. You can define an another class used as a helper (like I call `CircleIterator`).\n",
        "\n",
        "```\n",
        "c = Circle('abc', 5)\n",
        "d = Circle('abc', 7)\n",
        "print(list(c))\n",
        "print(list(d))\n",
        "```\n",
        "\n",
        "Output\n",
        "```\n",
        "[a, b, c, a, b]\n",
        "[a, b, c, a, b, c, a]\n",
        "```"
      ],
      "metadata": {
        "id": "OtY4Ro-nPlXF"
      }
    },
    {
      "cell_type": "code",
      "source": [
        "class Circle:\n",
        "\n",
        "  def __init__(self,data,num):\n",
        "    self.data = data\n",
        "    self.num = num\n",
        "    self.index = 0\n",
        "\n",
        "  def __iter__(self):\n",
        "    return self\n",
        "\n",
        "  def __next__(self):\n",
        "    if self.index >= self.num:\n",
        "      raise StopIteration\n",
        "    current = self.data[self.index % len(self.data)]\n",
        "    self.index += 1\n",
        "    return current\n",
        "\n",
        "  def __repr__(self):\n",
        "    return f'{type(self).__name__}({self.data},{self.num})'"
      ],
      "metadata": {
        "id": "6kNwhxRif_rM"
      },
      "execution_count": 22,
      "outputs": []
    },
    {
      "cell_type": "code",
      "source": [
        "c = Circle('abc', 5)\n",
        "d = Circle('abc', 7)"
      ],
      "metadata": {
        "id": "Ww-9BvQZgXZx"
      },
      "execution_count": 27,
      "outputs": []
    },
    {
      "cell_type": "code",
      "source": [
        "print(list(c))"
      ],
      "metadata": {
        "colab": {
          "base_uri": "https://localhost:8080/"
        },
        "id": "sT8yzk6CgZxz",
        "outputId": "6ff03a1f-ed90-461c-95a3-5326380ee958"
      },
      "execution_count": 28,
      "outputs": [
        {
          "output_type": "stream",
          "name": "stdout",
          "text": [
            "['a', 'b', 'c', 'a', 'b']\n"
          ]
        }
      ]
    },
    {
      "cell_type": "code",
      "source": [
        "print(list(d))"
      ],
      "metadata": {
        "colab": {
          "base_uri": "https://localhost:8080/"
        },
        "id": "tR-HxFn4gwTp",
        "outputId": "76c23c85-a4bf-46b4-d68e-b42d60baf24f"
      },
      "execution_count": 29,
      "outputs": [
        {
          "output_type": "stream",
          "name": "stdout",
          "text": [
            "['a', 'b', 'c', 'a', 'b', 'c', 'a']\n"
          ]
        }
      ]
    },
    {
      "cell_type": "code",
      "source": [
        "c"
      ],
      "metadata": {
        "colab": {
          "base_uri": "https://localhost:8080/"
        },
        "id": "QgbX3z2hg7jT",
        "outputId": "e3355f2c-c3c9-456c-ba6d-0c947e4a6623"
      },
      "execution_count": 30,
      "outputs": [
        {
          "output_type": "execute_result",
          "data": {
            "text/plain": [
              "Circle(abc,5)"
            ]
          },
          "metadata": {},
          "execution_count": 30
        }
      ]
    },
    {
      "cell_type": "markdown",
      "source": [
        "###`Q6:` Generator time elapsed\n",
        "Write a generator function whose argument must be iterable. With each iteration, the generator will return a two-element tuple. The first element in the tuple will be an integer indicating how many seconds have passed since the previous iteration. The tuple’s second element will be the next item from the passed argument.\n",
        "\n",
        "Note that the timing should be relative to the previous iteration, not when the\n",
        "generator was first created or invoked. Thus the timing number in the first iteration\n",
        "will be 0\n",
        "\n",
        "```\n",
        "for t in elapsed_since('abcd'):\n",
        "    print(t)\n",
        "    time.sleep(2)\n",
        "```\n",
        "\n",
        "Output:\n",
        "```\n",
        "(0.0, 'a')\n",
        "(2.005651817999933, 'b')\n",
        "(2.0023095009998997, 'c')\n",
        "(2.001949742000079, 'd')\n",
        "```\n",
        "Note: Your output may differ because of diffrent system has different processing configuration."
      ],
      "metadata": {
        "id": "F8MKwJwwPwKK"
      }
    },
    {
      "cell_type": "code",
      "source": [
        "import time\n",
        "def elapsed_since(data):\n",
        "  if '__iter__' not in dir(data):\n",
        "    raise TypeError('Data must be iterable')\n",
        "  else:\n",
        "    last_time = time.perf_counter()\n",
        "    for item in data:\n",
        "      current_time = time.perf_counter()\n",
        "      delta = current_time - last_time\n",
        "      last_time = current_time\n",
        "      yield (delta, item)"
      ],
      "metadata": {
        "id": "de19zIeQPxTv"
      },
      "execution_count": 1,
      "outputs": []
    },
    {
      "cell_type": "code",
      "source": [
        "for t in elapsed_since('abcd'):\n",
        "    print(t)\n",
        "    time.sleep(2)"
      ],
      "metadata": {
        "colab": {
          "base_uri": "https://localhost:8080/"
        },
        "id": "BMGJyBPUmYKE",
        "outputId": "72cf8fb5-76d1-457b-be90-8966d57469fc"
      },
      "execution_count": 2,
      "outputs": [
        {
          "output_type": "stream",
          "name": "stdout",
          "text": [
            "(1.5890000213403255e-06, 'a')\n",
            "(2.0022500449999825, 'b')\n",
            "(2.0021231700000044, 'c')\n",
            "(2.002369038000012, 'd')\n"
          ]
        }
      ]
    },
    {
      "cell_type": "code",
      "source": [
        "for t in elapsed_since(1):\n",
        "  print(t)"
      ],
      "metadata": {
        "colab": {
          "base_uri": "https://localhost:8080/",
          "height": 280
        },
        "id": "lk8BkGZp-43U",
        "outputId": "2a1736b4-8f49-4055-87e7-00e52806fd1f"
      },
      "execution_count": 3,
      "outputs": [
        {
          "output_type": "error",
          "ename": "TypeError",
          "evalue": "Data must be iterable",
          "traceback": [
            "\u001b[0;31m---------------------------------------------------------------------------\u001b[0m",
            "\u001b[0;31mTypeError\u001b[0m                                 Traceback (most recent call last)",
            "\u001b[0;32m<ipython-input-3-223f97a8064c>\u001b[0m in \u001b[0;36m<cell line: 1>\u001b[0;34m()\u001b[0m\n\u001b[0;32m----> 1\u001b[0;31m \u001b[0;32mfor\u001b[0m \u001b[0mt\u001b[0m \u001b[0;32min\u001b[0m \u001b[0melapsed_since\u001b[0m\u001b[0;34m(\u001b[0m\u001b[0;36m1\u001b[0m\u001b[0;34m)\u001b[0m\u001b[0;34m:\u001b[0m\u001b[0;34m\u001b[0m\u001b[0;34m\u001b[0m\u001b[0m\n\u001b[0m\u001b[1;32m      2\u001b[0m   \u001b[0mprint\u001b[0m\u001b[0;34m(\u001b[0m\u001b[0mt\u001b[0m\u001b[0;34m)\u001b[0m\u001b[0;34m\u001b[0m\u001b[0;34m\u001b[0m\u001b[0m\n",
            "\u001b[0;32m<ipython-input-1-b9b1723488f2>\u001b[0m in \u001b[0;36melapsed_since\u001b[0;34m(data)\u001b[0m\n\u001b[1;32m      2\u001b[0m \u001b[0;32mdef\u001b[0m \u001b[0melapsed_since\u001b[0m\u001b[0;34m(\u001b[0m\u001b[0mdata\u001b[0m\u001b[0;34m)\u001b[0m\u001b[0;34m:\u001b[0m\u001b[0;34m\u001b[0m\u001b[0;34m\u001b[0m\u001b[0m\n\u001b[1;32m      3\u001b[0m   \u001b[0;32mif\u001b[0m \u001b[0;34m'__iter__'\u001b[0m \u001b[0;32mnot\u001b[0m \u001b[0;32min\u001b[0m \u001b[0mdir\u001b[0m\u001b[0;34m(\u001b[0m\u001b[0mdata\u001b[0m\u001b[0;34m)\u001b[0m\u001b[0;34m:\u001b[0m\u001b[0;34m\u001b[0m\u001b[0;34m\u001b[0m\u001b[0m\n\u001b[0;32m----> 4\u001b[0;31m     \u001b[0;32mraise\u001b[0m \u001b[0mTypeError\u001b[0m\u001b[0;34m(\u001b[0m\u001b[0;34m'Data must be iterable'\u001b[0m\u001b[0;34m)\u001b[0m\u001b[0;34m\u001b[0m\u001b[0;34m\u001b[0m\u001b[0m\n\u001b[0m\u001b[1;32m      5\u001b[0m   \u001b[0;32melse\u001b[0m\u001b[0;34m:\u001b[0m\u001b[0;34m\u001b[0m\u001b[0;34m\u001b[0m\u001b[0m\n\u001b[1;32m      6\u001b[0m     \u001b[0mlast_time\u001b[0m \u001b[0;34m=\u001b[0m \u001b[0mtime\u001b[0m\u001b[0;34m.\u001b[0m\u001b[0mperf_counter\u001b[0m\u001b[0;34m(\u001b[0m\u001b[0;34m)\u001b[0m\u001b[0;34m\u001b[0m\u001b[0;34m\u001b[0m\u001b[0m\n",
            "\u001b[0;31mTypeError\u001b[0m: Data must be iterable"
          ]
        }
      ]
    },
    {
      "cell_type": "code",
      "source": [
        "help(time.perf_counter)"
      ],
      "metadata": {
        "colab": {
          "base_uri": "https://localhost:8080/"
        },
        "id": "BKLay6Z0v5Fx",
        "outputId": "26f4751b-5342-4f23-c253-67f58869a73c"
      },
      "execution_count": 44,
      "outputs": [
        {
          "output_type": "stream",
          "name": "stdout",
          "text": [
            "Help on built-in function perf_counter in module time:\n",
            "\n",
            "perf_counter(...)\n",
            "    perf_counter() -> float\n",
            "    \n",
            "    Performance counter for benchmarking.\n",
            "\n"
          ]
        }
      ]
    },
    {
      "cell_type": "markdown",
      "source": [
        "## Decorators"
      ],
      "metadata": {
        "id": "ekiUvxDFjeTI"
      }
    },
    {
      "cell_type": "markdown",
      "source": [
        "###`Q7:` Write a Python program to make a chain of function decorators (bold, italic, underline etc.) on a given function which prints \"hello world\"\n",
        "\n",
        "```\n",
        "def hello():\n",
        "    return \"hello world\"\n",
        "```\n",
        "\n",
        "```\n",
        "bold - wrap string with <b> tag. <b>Str</b>\n",
        "italic - wrap string with <i> tag. <i>Str</i>\n",
        "underline- wrap string with <u> tag. <u>Str</u>\n",
        "```"
      ],
      "metadata": {
        "id": "AGlRtXbujfVN"
      }
    },
    {
      "cell_type": "code",
      "source": [
        "def bold(func):\n",
        "  def wrapper():\n",
        "    return '\\033[1m' + func() + '\\033[0m'\n",
        "  return wrapper\n",
        "\n",
        "def italic(func):\n",
        "  def wrapper():\n",
        "    return '\\033[3m' + func() + '\\033[0m'\n",
        "  return wrapper\n",
        "\n",
        "def underline(func):\n",
        "  def wrapper():\n",
        "    return '\\033[4m' + func() + '\\033[0m'\n",
        "  return wrapper"
      ],
      "metadata": {
        "id": "ClQiPIbpCVNW"
      },
      "execution_count": 45,
      "outputs": []
    },
    {
      "cell_type": "code",
      "source": [
        "@bold\n",
        "@italic\n",
        "@underline\n",
        "def hello():\n",
        "  return 'hello world'"
      ],
      "metadata": {
        "id": "DvN7fzOSeTvQ"
      },
      "execution_count": 46,
      "outputs": []
    },
    {
      "cell_type": "code",
      "source": [
        "print(hello())"
      ],
      "metadata": {
        "colab": {
          "base_uri": "https://localhost:8080/"
        },
        "id": "LcjWWNFEeWJx",
        "outputId": "1285eef8-056c-4f69-8eaf-115480e3948b"
      },
      "execution_count": 47,
      "outputs": [
        {
          "output_type": "stream",
          "name": "stdout",
          "text": [
            "\u001b[1m\u001b[3m\u001b[4mhello world\u001b[0m\u001b[0m\u001b[0m\n"
          ]
        }
      ]
    },
    {
      "cell_type": "code",
      "source": [
        "s = 'hello world'\n",
        "print(s)\n",
        "print(\"\\033[91m\" + s + '\\033[0m')\n",
        "print(\"\\033[92m\" + s + '\\033[0m')\n",
        "print(\"\\033[94m\" + s + '\\033[0m')\n",
        "print(\"\\033[1m\" + s + '\\033[0m')\n",
        "print(\"\\033[3m\" + s + '\\033[0m')\n",
        "print(\"\\033[4m\" + s + '\\033[0m')"
      ],
      "metadata": {
        "colab": {
          "base_uri": "https://localhost:8080/"
        },
        "id": "gVMRe9oojj0Q",
        "outputId": "73b81a09-bebc-48dc-fe46-d4b2fce0f3eb"
      },
      "execution_count": 50,
      "outputs": [
        {
          "output_type": "stream",
          "name": "stdout",
          "text": [
            "hello world\n",
            "\u001b[91mhello world\u001b[0m\n",
            "\u001b[92mhello world\u001b[0m\n",
            "\u001b[94mhello world\u001b[0m\n",
            "\u001b[1mhello world\u001b[0m\n",
            "\u001b[3mhello world\u001b[0m\n",
            "\u001b[4mhello world\u001b[0m\n"
          ]
        }
      ]
    },
    {
      "cell_type": "code",
      "source": [
        "# codes\n",
        "red = '\\033[91m'\n",
        "green = '\\033[92m'\n",
        "blue = '\\033[94m'\n",
        "bold = '\\033[1m'\n",
        "italics = '\\033[3m'\n",
        "underline = '\\033[4m'\n",
        "end = '\\033[0m'"
      ],
      "metadata": {
        "id": "IbOiK1mmwTSU"
      },
      "execution_count": null,
      "outputs": []
    },
    {
      "cell_type": "code",
      "source": [
        "def make_bold(func):\n",
        "    def wrapped():\n",
        "        return \"<b>\"+ func() + \"</b>\"\n",
        "    return wrapped\n",
        "def make_italic(func):\n",
        "    def wrapped():\n",
        "        return \"<i>\"+ func() + \"</i>\"\n",
        "    return wrapped\n",
        "def make_underline(func):\n",
        "    def wrapped():\n",
        "        return \"<u>\"+ func() + \"</u>\"\n",
        "    return wrapped\n",
        "\n",
        "@make_bold\n",
        "@make_italic\n",
        "@make_underline\n",
        "def hello():\n",
        "    return \"hello world\"\n",
        "\n",
        "print(hello())"
      ],
      "metadata": {
        "colab": {
          "base_uri": "https://localhost:8080/"
        },
        "id": "ZPo9X3wnw3H1",
        "outputId": "0f2be3cc-4f8a-4c7e-b275-1b68400d4459"
      },
      "execution_count": 51,
      "outputs": [
        {
          "output_type": "stream",
          "name": "stdout",
          "text": [
            "<b><i><u>hello world</u></i></b>\n"
          ]
        }
      ]
    },
    {
      "cell_type": "markdown",
      "source": [
        "###`Q8:` Write a decorator called `printer` which causes any decorated function to print their return values. If the return value of a given function is `None`, printer should do nothing.\n",
        "\n"
      ],
      "metadata": {
        "id": "YflTWGNqjkgC"
      }
    },
    {
      "cell_type": "code",
      "source": [
        "def printer(func):\n",
        "  def wrapper(*args,**kwargs):\n",
        "    result = func(*args,**kwargs)\n",
        "    if result is not None:\n",
        "      return result\n",
        "  return wrapper"
      ],
      "metadata": {
        "id": "KEezJ6bTzI59"
      },
      "execution_count": 89,
      "outputs": []
    },
    {
      "cell_type": "code",
      "source": [
        "@printer\n",
        "def add(a,b):\n",
        "  return a+b\n",
        "\n",
        "print(add(5,6))\n",
        "\n",
        "@printer\n",
        "def mul(a,b,c):\n",
        "  return a*b*c\n",
        "\n",
        "print(mul(5,6,10))\n",
        "\n",
        "@printer\n",
        "def hello():\n",
        "  pass\n",
        "\n",
        "print(hello())"
      ],
      "metadata": {
        "colab": {
          "base_uri": "https://localhost:8080/"
        },
        "id": "01yMIsZhx8T0",
        "outputId": "a00c0392-7161-48f1-fc36-11ec753d4097"
      },
      "execution_count": 90,
      "outputs": [
        {
          "output_type": "stream",
          "name": "stdout",
          "text": [
            "11\n",
            "300\n",
            "None\n"
          ]
        }
      ]
    },
    {
      "cell_type": "markdown",
      "source": [
        "###`Q9:` Make a decorator which calls a given function twice. You can assume the functions don't return anything important, but they may take arguments.\n",
        "```\n",
        "#Lets say given function\n",
        "def hello(string):\n",
        "    print(string)\n",
        "\n",
        "#on calling after specified decorator is inplaced\n",
        "hello('hello')\n",
        "```\n",
        "\n",
        "Output:\n",
        "```\n",
        "hello\n",
        "hello\n",
        "```"
      ],
      "metadata": {
        "id": "lRVUGxWqjn2k"
      }
    },
    {
      "cell_type": "code",
      "source": [
        "def double(func):\n",
        "  def wrapper(*args,**kwargs):\n",
        "    func(*args,**kwargs)\n",
        "    func(*args,**kwargs)\n",
        "  return wrapper"
      ],
      "metadata": {
        "id": "EneFDapUjrnC"
      },
      "execution_count": 91,
      "outputs": []
    },
    {
      "cell_type": "code",
      "source": [
        "@double\n",
        "def hello(string):\n",
        "  print(string)"
      ],
      "metadata": {
        "id": "EY63G7UB0-3j"
      },
      "execution_count": 92,
      "outputs": []
    },
    {
      "cell_type": "code",
      "source": [
        "hello('hello world')"
      ],
      "metadata": {
        "colab": {
          "base_uri": "https://localhost:8080/"
        },
        "id": "1jzmx55F1DPe",
        "outputId": "c84ef139-04fc-4655-9e4e-906fa3716141"
      },
      "execution_count": 93,
      "outputs": [
        {
          "output_type": "stream",
          "name": "stdout",
          "text": [
            "hello world\n",
            "hello world\n"
          ]
        }
      ]
    },
    {
      "cell_type": "code",
      "source": [
        "@double\n",
        "def add(a,b):\n",
        "  print(a+b)"
      ],
      "metadata": {
        "id": "TochJ-NF1Hay"
      },
      "execution_count": 96,
      "outputs": []
    },
    {
      "cell_type": "code",
      "source": [
        "add(5,7)"
      ],
      "metadata": {
        "colab": {
          "base_uri": "https://localhost:8080/"
        },
        "id": "vEnVy8Y_1JlK",
        "outputId": "c67d435d-af44-4c46-c275-5d53696b2011"
      },
      "execution_count": 97,
      "outputs": [
        {
          "output_type": "stream",
          "name": "stdout",
          "text": [
            "12\n",
            "12\n"
          ]
        }
      ]
    },
    {
      "cell_type": "markdown",
      "source": [
        "### `Q10:` Write a decorator which doubles the return value of any function. And test that decoratos is working correctly or not using `assert`.\n",
        "\n",
        "```\n",
        "add(2,3) -> result in 10. Without decorator it should be 5.\n",
        "```"
      ],
      "metadata": {
        "id": "0btzBjMbjsJ4"
      }
    },
    {
      "cell_type": "code",
      "source": [
        "def doubleValue(func):\n",
        "  def wrapper(*args,**kwargs):\n",
        "    result = func(*args,**kwargs)\n",
        "    return result*2\n",
        "  return wrapper"
      ],
      "metadata": {
        "id": "8o7-ZQqcjvrC"
      },
      "execution_count": 113,
      "outputs": []
    },
    {
      "cell_type": "code",
      "source": [
        "@doubleValue\n",
        "def addWithDecorator(a,b):\n",
        "  return a+b\n",
        "\n",
        "def add(a,b):\n",
        "  return a+b\n",
        "\n",
        "a = 2\n",
        "b = 3\n",
        "assert add(a,b) == addWithDecorator(a,b), 'Values are not equal'\n",
        "print('Values are equal')"
      ],
      "metadata": {
        "colab": {
          "base_uri": "https://localhost:8080/",
          "height": 193
        },
        "id": "uYsxUQ4P2Gsj",
        "outputId": "74669902-933c-48b1-8d8c-120e99b48bb8"
      },
      "execution_count": 116,
      "outputs": [
        {
          "output_type": "error",
          "ename": "AssertionError",
          "evalue": "Values are not equal",
          "traceback": [
            "\u001b[0;31m---------------------------------------------------------------------------\u001b[0m",
            "\u001b[0;31mAssertionError\u001b[0m                            Traceback (most recent call last)",
            "\u001b[0;32m<ipython-input-116-319272d39e23>\u001b[0m in \u001b[0;36m<cell line: 10>\u001b[0;34m()\u001b[0m\n\u001b[1;32m      8\u001b[0m \u001b[0ma\u001b[0m \u001b[0;34m=\u001b[0m \u001b[0;36m2\u001b[0m\u001b[0;34m\u001b[0m\u001b[0;34m\u001b[0m\u001b[0m\n\u001b[1;32m      9\u001b[0m \u001b[0mb\u001b[0m \u001b[0;34m=\u001b[0m \u001b[0;36m3\u001b[0m\u001b[0;34m\u001b[0m\u001b[0;34m\u001b[0m\u001b[0m\n\u001b[0;32m---> 10\u001b[0;31m \u001b[0;32massert\u001b[0m \u001b[0madd\u001b[0m\u001b[0;34m(\u001b[0m\u001b[0ma\u001b[0m\u001b[0;34m,\u001b[0m\u001b[0mb\u001b[0m\u001b[0;34m)\u001b[0m \u001b[0;34m==\u001b[0m \u001b[0maddWithDecorator\u001b[0m\u001b[0;34m(\u001b[0m\u001b[0ma\u001b[0m\u001b[0;34m,\u001b[0m\u001b[0mb\u001b[0m\u001b[0;34m)\u001b[0m\u001b[0;34m,\u001b[0m \u001b[0;34m'Values are not equal'\u001b[0m\u001b[0;34m\u001b[0m\u001b[0;34m\u001b[0m\u001b[0m\n\u001b[0m\u001b[1;32m     11\u001b[0m \u001b[0mprint\u001b[0m\u001b[0;34m(\u001b[0m\u001b[0;34m'Values are equal'\u001b[0m\u001b[0;34m)\u001b[0m\u001b[0;34m\u001b[0m\u001b[0;34m\u001b[0m\u001b[0m\n",
            "\u001b[0;31mAssertionError\u001b[0m: Values are not equal"
          ]
        }
      ]
    },
    {
      "cell_type": "code",
      "source": [
        "assert add(a,b)*2 == addWithDecorator(a,b), 'Values are not equal'\n",
        "print('Values are equal')"
      ],
      "metadata": {
        "colab": {
          "base_uri": "https://localhost:8080/"
        },
        "id": "5XSI5HTU7klO",
        "outputId": "26f26ce6-598f-4654-93c7-ee60c70a9f3f"
      },
      "execution_count": 117,
      "outputs": [
        {
          "output_type": "stream",
          "name": "stdout",
          "text": [
            "Values are equal\n"
          ]
        }
      ]
    },
    {
      "cell_type": "code",
      "source": [
        "add(2,3)"
      ],
      "metadata": {
        "colab": {
          "base_uri": "https://localhost:8080/"
        },
        "id": "bx5wPeyy2I2x",
        "outputId": "e764496d-7e53-47a6-fbe0-03ed06ee0c32"
      },
      "execution_count": 118,
      "outputs": [
        {
          "output_type": "execute_result",
          "data": {
            "text/plain": [
              "5"
            ]
          },
          "metadata": {},
          "execution_count": 118
        }
      ]
    },
    {
      "cell_type": "code",
      "source": [
        "addWithDecorator(2,3)"
      ],
      "metadata": {
        "colab": {
          "base_uri": "https://localhost:8080/"
        },
        "id": "VrCS5B148LjG",
        "outputId": "209344dc-9bd7-45a2-fbf0-e7db75ab2e3a"
      },
      "execution_count": 119,
      "outputs": [
        {
          "output_type": "execute_result",
          "data": {
            "text/plain": [
              "10"
            ]
          },
          "metadata": {},
          "execution_count": 119
        }
      ]
    },
    {
      "cell_type": "code",
      "source": [
        "@doubleValue\n",
        "def mul(a,b,c):\n",
        "  return a*b*c\n",
        "\n",
        "mul(2,3,4)"
      ],
      "metadata": {
        "colab": {
          "base_uri": "https://localhost:8080/"
        },
        "id": "9sHUKLJY2PXV",
        "outputId": "6d35229c-7324-4af8-ebed-84c6a1ca65f1"
      },
      "execution_count": 103,
      "outputs": [
        {
          "output_type": "execute_result",
          "data": {
            "text/plain": [
              "48"
            ]
          },
          "metadata": {},
          "execution_count": 103
        }
      ]
    },
    {
      "cell_type": "code",
      "source": [
        "@doubleValue\n",
        "def hello():\n",
        "  return 'hello world'\n",
        "\n",
        "hello()"
      ],
      "metadata": {
        "colab": {
          "base_uri": "https://localhost:8080/",
          "height": 35
        },
        "id": "9giSCHB72Uad",
        "outputId": "934aed2e-e108-4d10-e782-7782a5109d4a"
      },
      "execution_count": 104,
      "outputs": [
        {
          "output_type": "execute_result",
          "data": {
            "text/plain": [
              "'hello worldhello world'"
            ],
            "application/vnd.google.colaboratory.intrinsic+json": {
              "type": "string"
            }
          },
          "metadata": {},
          "execution_count": 104
        }
      ]
    },
    {
      "cell_type": "markdown",
      "source": [
        "[assert](https://www.geeksforgeeks.org/python-assert-keyword/)<br>\n",
        "[refer this](https://www.w3schools.com/python/ref_keyword_assert.asp)\n"
      ],
      "metadata": {
        "id": "9NQzz4Tm8VVa"
      }
    }
  ]
}