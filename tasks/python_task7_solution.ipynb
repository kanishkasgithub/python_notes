{
  "nbformat": 4,
  "nbformat_minor": 0,
  "metadata": {
    "colab": {
      "provenance": []
    },
    "kernelspec": {
      "name": "python3",
      "display_name": "Python 3"
    },
    "language_info": {
      "name": "python"
    }
  },
  "cells": [
    {
      "cell_type": "markdown",
      "source": [
        "Task-7"
      ],
      "metadata": {
        "id": "vySZ2dxYuMKO"
      }
    },
    {
      "cell_type": "markdown",
      "source": [
        "##`Q-1:` Rectangle Class\n",
        "1. Write a Rectangle class in Python language, allowing you to build a rectangle with length and width attributes.\n",
        "\n",
        "2. Create a Perimeter() method to calculate the perimeter of the rectangle and a Area() method to calculate the area of ​​the rectangle.\n",
        "\n",
        "3. Create a method display() that display the length, width, perimeter and area of an object created using an instantiation on rectangle class."
      ],
      "metadata": {
        "id": "ztMAJaKLuQzI"
      }
    },
    {
      "cell_type": "markdown",
      "source": [
        "Eg.\n",
        "After making above classes and methods, on executing below code:-\n",
        "```\n",
        "my_rectangle = Rectangle(3 , 4)\n",
        "my_rectangle.display()\n",
        "```\n",
        "\n",
        "`Output:`\n",
        "```\n",
        "The length of rectangle is:  3\n",
        "The width of rectangle is:  4\n",
        "The perimeter of rectangle is:  14\n",
        "The area of rectangle is:  12\n",
        "```\n"
      ],
      "metadata": {
        "id": "R42C0A_auVrg"
      }
    },
    {
      "cell_type": "code",
      "execution_count": 1,
      "metadata": {
        "id": "iX6yq79huIO5"
      },
      "outputs": [],
      "source": [
        "class Rectangle:\n",
        "\n",
        "  def __init__(self,length,width):\n",
        "    self.__length=length\n",
        "    self.__width=width\n",
        "\n",
        "  def Perimeter(self):\n",
        "    return 2*(self.__length+self.__width)\n",
        "\n",
        "  def Area(self):\n",
        "    return self.__length*self.__width\n",
        "\n",
        "  def display(self):\n",
        "    print(\"The length of rectangle is: \",self.__length)\n",
        "    print(\"The width of rectangle is: \",self.__width)\n",
        "    print(\"The perimeter of rectangle is: \",self.Perimeter())\n",
        "    print(\"The area of rectangle is: \",self.Area())"
      ]
    },
    {
      "cell_type": "code",
      "source": [
        "my_rectangle = Rectangle(3,4)\n",
        "my_rectangle.display()"
      ],
      "metadata": {
        "colab": {
          "base_uri": "https://localhost:8080/"
        },
        "id": "Y21TYDkEmHgs",
        "outputId": "de57226d-d5c9-4c5f-b6fd-5f1393c8d854"
      },
      "execution_count": 4,
      "outputs": [
        {
          "output_type": "stream",
          "name": "stdout",
          "text": [
            "The length of rectangle is:  3\n",
            "The width of rectangle is:  4\n",
            "The perimeter of rectangle is:  14\n",
            "The area of rectangle is:  12\n"
          ]
        }
      ]
    },
    {
      "cell_type": "markdown",
      "source": [
        "##`Q-2: Bank Class`\n",
        "\n",
        "1. Create a Python class called `BankAccount` which represents a bank account, having as attributes: `accountNumber` (numeric type), `name` (name of the account owner as string type), `balance`.\n",
        "2. Create a constructor with parameters: `accountNumber, name, balance`.\n",
        "3. Create a `Deposit()` method which manages the deposit actions.\n",
        "4. Create a `Withdrawal()` method  which manages withdrawals actions.\n",
        "5. Create an `bankFees()` method to apply the bank fees with a percentage of 5% of the balance account.\n",
        "6. Create a `display()` method to display account details.\n",
        "Give the complete code for the  BankAccount class."
      ],
      "metadata": {
        "id": "9666fFrouXXc"
      }
    },
    {
      "cell_type": "markdown",
      "source": [
        "Eg.\n",
        "After making above classes and methods, on executing below code:-\n",
        "```\n",
        "newAccount = BankAccount(2178514584, \"Mandy\" , 2800)\n",
        "\n",
        "newAccount.Withdrawal(700)\n",
        "\n",
        "newAccount.Deposit(1000)\n",
        "\n",
        "newAccount.display()\n",
        "```\n",
        "\n",
        "`Output:`\n",
        "```\n",
        "Account Number :  2178514584\n",
        "Account Name :  Mandy\n",
        "Account Balance :  3100 ₹\n",
        "```"
      ],
      "metadata": {
        "id": "HBndyNcSucPv"
      }
    },
    {
      "cell_type": "code",
      "source": [
        "class BankAccount:\n",
        "\n",
        "  def __init__(self,accountNumber,name,balance):\n",
        "    self.__accountNumber=accountNumber\n",
        "    self.__name=name\n",
        "    self.__balance=balance\n",
        "\n",
        "  def deposit(self,amount):\n",
        "    self.__balance=self.__balance+amount\n",
        "\n",
        "  def withdrawal(self,amount):\n",
        "    if self.__balance>=amount:\n",
        "      self.__balance=self.__balance-amount\n",
        "    else:\n",
        "      print(\"Insufficient Balance\")\n",
        "\n",
        "  def bankFees(self):\n",
        "    return '{} ₹'.format(self.__balance*0.05)\n",
        "\n",
        "  def display(self):\n",
        "    print(\"Account Number : \",self.__accountNumber)\n",
        "    print(\"Account Name : \",self.__name)\n",
        "    print(\"Account Balance : \",self.__balance,'₹')"
      ],
      "metadata": {
        "id": "QaKFNMZbufu2"
      },
      "execution_count": 18,
      "outputs": []
    },
    {
      "cell_type": "code",
      "source": [
        "newAccount = BankAccount(2178514584, \"Mandy\" , 2800)\n",
        "newAccount.withdrawal(700)\n",
        "newAccount.deposit(1000)\n",
        "newAccount.display()"
      ],
      "metadata": {
        "colab": {
          "base_uri": "https://localhost:8080/"
        },
        "id": "o-dqhhlgoYqL",
        "outputId": "008b2a1a-85c4-4df6-f273-b8fad93856f9"
      },
      "execution_count": 19,
      "outputs": [
        {
          "output_type": "stream",
          "name": "stdout",
          "text": [
            "Account Number :  2178514584\n",
            "Account Name :  Mandy\n",
            "Account Balance :  3100 ₹\n"
          ]
        }
      ]
    },
    {
      "cell_type": "code",
      "source": [
        "newAccount.bankFees()"
      ],
      "metadata": {
        "colab": {
          "base_uri": "https://localhost:8080/",
          "height": 35
        },
        "id": "cJISeEaUo867",
        "outputId": "9209f39c-0830-43f7-cc1d-8dc0a8a208dc"
      },
      "execution_count": 20,
      "outputs": [
        {
          "output_type": "execute_result",
          "data": {
            "text/plain": [
              "'155.0 ₹'"
            ],
            "application/vnd.google.colaboratory.intrinsic+json": {
              "type": "string"
            }
          },
          "metadata": {},
          "execution_count": 20
        }
      ]
    },
    {
      "cell_type": "markdown",
      "source": [
        "##`Q-3:Computation class`\n",
        "\n",
        "1. Create a `Computation` class with a default constructor (without parameters) allowing to perform various calculations on integers numbers.\n",
        "2. Create a method called `Factorial()` which allows to calculate the factorial of an integer n. Integer n as parameter for this method\n",
        "\n",
        "3. Create a method called `naturalSum()` allowing to calculate the sum of the first n integers 1 + 2 + 3 + .. + n. Integer n as parameter for this method.\n",
        "\n",
        "4. Create a method called `testPrime()` in  the Calculation class to test the primality of a given integer n, n is Prime or Not? Integer n as parameter for this method.\n",
        "\n",
        "5. Create  a method called `testPrims()` allowing to test if two numbers are prime between them. Two integers are prime to one another if they have only `1` as their common divisor. Eg. 4 and 9 are prime to each other.\n",
        "\n",
        "5. Create a `tableMult()` method which creates and displays the multiplication table of a given integer. Then create an `allTablesMult()` method to display all the integer multiplication tables 1, 2, 3, ..., 9.\n",
        "\n",
        "6. Create a static `listDiv()` method that gets all the divisors of a given integer on new list called  Ldiv. Create another `listDivPrim()` method that gets all the prime divisors of a given integer."
      ],
      "metadata": {
        "id": "bovPQdFIugVg"
      }
    },
    {
      "cell_type": "code",
      "source": [
        "class Computation:\n",
        "\n",
        "  def __init__(self):\n",
        "    pass\n",
        "\n",
        "  # factorial\n",
        "  def factorial(self,n):\n",
        "    fact=1\n",
        "    for i in range(1,n+1):\n",
        "      fact=fact*i\n",
        "    return fact\n",
        "\n",
        "  # sum of n natural numbers\n",
        "  def naturalSum(self,n):\n",
        "    sum=0\n",
        "    for i in range(1,n+1):\n",
        "      sum=sum+i\n",
        "    return sum\n",
        "\n",
        "  # check if number is prime or not\n",
        "  def testPrime(self,n):\n",
        "    flag = 0\n",
        "    for i in range(2,n):\n",
        "      if n%i==0:\n",
        "        flag=1\n",
        "        break\n",
        "    if flag==0:\n",
        "      return True\n",
        "    else:\n",
        "      return False\n",
        "\n",
        "  # check if two numbers are prime to each other\n",
        "  def testPrims(self,a,b):\n",
        "    diva = Computation.listDiv(a)\n",
        "    divb = Computation.listDiv(b)\n",
        "    if len(set(diva)&set(divb))==1:\n",
        "      return True\n",
        "    else:\n",
        "      return False\n",
        "\n",
        "  # multiplication table\n",
        "  def tableMult(self,n):\n",
        "    for i in range(1,11):\n",
        "      print(n,'x',i,'=',n*i,end='  ')\n",
        "\n",
        "  # all multiplication tables\n",
        "  def allTablesMult(self):\n",
        "    for i in range(1,10):\n",
        "      self.tableMult(i)\n",
        "      print()\n",
        "\n",
        "  # list of divisors\n",
        "  @staticmethod\n",
        "  def listDiv(n):\n",
        "    res = []\n",
        "    for i in range(1,n+1):\n",
        "      if n%i==0:\n",
        "        res.append(i)\n",
        "    return res\n",
        "\n",
        "  # list of prime divisors\n",
        "  def listDivPrim(self,n):\n",
        "    L = Computation.listDiv(n)\n",
        "    res = []\n",
        "    for i in L:\n",
        "      if self.testPrime(i):\n",
        "        res.append(i)\n",
        "    res.remove(1)\n",
        "    return res"
      ],
      "metadata": {
        "id": "RqiqnAWqukT8"
      },
      "execution_count": 79,
      "outputs": []
    },
    {
      "cell_type": "code",
      "source": [
        "x = Computation()\n",
        "print(x.factorial(5))\n",
        "print(x.naturalSum(5))\n",
        "print(x.testPrime(24))"
      ],
      "metadata": {
        "colab": {
          "base_uri": "https://localhost:8080/"
        },
        "id": "tfejL1qrtTQV",
        "outputId": "755b80d4-e73c-415d-e15b-a6476ead73ca"
      },
      "execution_count": 80,
      "outputs": [
        {
          "output_type": "stream",
          "name": "stdout",
          "text": [
            "120\n",
            "15\n",
            "False\n"
          ]
        }
      ]
    },
    {
      "cell_type": "code",
      "source": [
        "x.tableMult(12)"
      ],
      "metadata": {
        "colab": {
          "base_uri": "https://localhost:8080/"
        },
        "id": "zbWWe1Fk0GSt",
        "outputId": "df30c0f0-b007-4ddc-91ca-feef36f556d0"
      },
      "execution_count": 85,
      "outputs": [
        {
          "output_type": "stream",
          "name": "stdout",
          "text": [
            "12 x 1 = 12  12 x 2 = 24  12 x 3 = 36  12 x 4 = 48  12 x 5 = 60  12 x 6 = 72  12 x 7 = 84  12 x 8 = 96  12 x 9 = 108  12 x 10 = 120  "
          ]
        }
      ]
    },
    {
      "cell_type": "code",
      "source": [
        "x.allTablesMult()"
      ],
      "metadata": {
        "colab": {
          "base_uri": "https://localhost:8080/"
        },
        "id": "Q17L7AEEulP0",
        "outputId": "de9d2f5c-b053-4016-93cb-3c354269c77e"
      },
      "execution_count": 50,
      "outputs": [
        {
          "output_type": "stream",
          "name": "stdout",
          "text": [
            "1 x 1 = 1  1 x 2 = 2  1 x 3 = 3  1 x 4 = 4  1 x 5 = 5  1 x 6 = 6  1 x 7 = 7  1 x 8 = 8  1 x 9 = 9  1 x 10 = 10  \n",
            "2 x 1 = 2  2 x 2 = 4  2 x 3 = 6  2 x 4 = 8  2 x 5 = 10  2 x 6 = 12  2 x 7 = 14  2 x 8 = 16  2 x 9 = 18  2 x 10 = 20  \n",
            "3 x 1 = 3  3 x 2 = 6  3 x 3 = 9  3 x 4 = 12  3 x 5 = 15  3 x 6 = 18  3 x 7 = 21  3 x 8 = 24  3 x 9 = 27  3 x 10 = 30  \n",
            "4 x 1 = 4  4 x 2 = 8  4 x 3 = 12  4 x 4 = 16  4 x 5 = 20  4 x 6 = 24  4 x 7 = 28  4 x 8 = 32  4 x 9 = 36  4 x 10 = 40  \n",
            "5 x 1 = 5  5 x 2 = 10  5 x 3 = 15  5 x 4 = 20  5 x 5 = 25  5 x 6 = 30  5 x 7 = 35  5 x 8 = 40  5 x 9 = 45  5 x 10 = 50  \n",
            "6 x 1 = 6  6 x 2 = 12  6 x 3 = 18  6 x 4 = 24  6 x 5 = 30  6 x 6 = 36  6 x 7 = 42  6 x 8 = 48  6 x 9 = 54  6 x 10 = 60  \n",
            "7 x 1 = 7  7 x 2 = 14  7 x 3 = 21  7 x 4 = 28  7 x 5 = 35  7 x 6 = 42  7 x 7 = 49  7 x 8 = 56  7 x 9 = 63  7 x 10 = 70  \n",
            "8 x 1 = 8  8 x 2 = 16  8 x 3 = 24  8 x 4 = 32  8 x 5 = 40  8 x 6 = 48  8 x 7 = 56  8 x 8 = 64  8 x 9 = 72  8 x 10 = 80  \n",
            "9 x 1 = 9  9 x 2 = 18  9 x 3 = 27  9 x 4 = 36  9 x 5 = 45  9 x 6 = 54  9 x 7 = 63  9 x 8 = 72  9 x 9 = 81  9 x 10 = 90  \n"
          ]
        }
      ]
    },
    {
      "cell_type": "code",
      "source": [
        "x.listDiv(90)"
      ],
      "metadata": {
        "colab": {
          "base_uri": "https://localhost:8080/"
        },
        "id": "PSXNyQM-wVLl",
        "outputId": "299000f4-3941-4e1b-896b-7460ca45d712"
      },
      "execution_count": 78,
      "outputs": [
        {
          "output_type": "execute_result",
          "data": {
            "text/plain": [
              "[1, 2, 3, 5, 6, 9, 10, 15, 18, 30, 45, 90]"
            ]
          },
          "metadata": {},
          "execution_count": 78
        }
      ]
    },
    {
      "cell_type": "code",
      "source": [
        "x.listDivPrim(90)"
      ],
      "metadata": {
        "colab": {
          "base_uri": "https://localhost:8080/"
        },
        "id": "4Qsq-OnVw_ka",
        "outputId": "634cd9b8-90fe-48d1-fe7f-6840a82b1696"
      },
      "execution_count": 77,
      "outputs": [
        {
          "output_type": "execute_result",
          "data": {
            "text/plain": [
              "[2, 3, 5]"
            ]
          },
          "metadata": {},
          "execution_count": 77
        }
      ]
    },
    {
      "cell_type": "code",
      "source": [
        "x.testPrims(24,45)"
      ],
      "metadata": {
        "colab": {
          "base_uri": "https://localhost:8080/"
        },
        "id": "_ocZXxfLzpjY",
        "outputId": "162e0ba5-fcd9-4d82-f755-717d7153c110"
      },
      "execution_count": 84,
      "outputs": [
        {
          "output_type": "execute_result",
          "data": {
            "text/plain": [
              "False"
            ]
          },
          "metadata": {},
          "execution_count": 84
        }
      ]
    },
    {
      "cell_type": "markdown",
      "source": [
        "##`Q-4`: Build flashcard using class in Python.\n",
        "\n",
        "Build a flashcard using class in python. A flashcard is a card having information on both sides, which can be used as an aid in memoization. Flashcards usually have a question on one side and an answer on the other.\n",
        "\n",
        "**Example 1:**\n",
        "\n",
        "Approach:\n",
        "\n",
        "- Create a class named FlashCard.\n",
        "- Initialize dictionary fruits using __init__() method. Here you have to define fruit name as key and it's color as value. E.g., {\"Banana\": \"yellow\", \"Strawberries\": \"pink\"}\n",
        "- Now randomly choose a pair from fruits by using _random_ module and store the key in variable _fruit_ and _value_ in variable color.\n",
        "- Now prompt the user to answer the color of the randomly chosen fruit.\n",
        "- If correct print correct else print wrong.\n",
        "\n",
        "Output:\n",
        "```bash\n",
        "welcome to fruit quiz\n",
        "What is the color of Strawberries\n",
        "pink\n",
        "Correct answer\n",
        "Enter 0, if you want to play again: 0\n",
        "What is the color of watermelon\n",
        "green\n",
        "Correct answer\n",
        "Enter 0, if you want to play again: 1\n",
        "```"
      ],
      "metadata": {
        "id": "v4OI4gGruk9F"
      }
    },
    {
      "cell_type": "code",
      "source": [
        "import random\n",
        "class FlashCard:\n",
        "\n",
        "  def __init__(self):\n",
        "    self.fruits = {\"Banana\": \"yellow\", \"Strawberries\": \"pink\", \"Watermelon\": \"green\", \"Apple\": \"red\"}\n",
        "\n",
        "  def play(self):\n",
        "    print(\"Welcome to fruit quiz\")\n",
        "    while True:\n",
        "      fruit,value = random.choice(list(self.fruits.items()))\n",
        "      print(\"What is the color of\",fruit)\n",
        "      user_input = input().lower()\n",
        "      if user_input == value:\n",
        "        print(\"Correct answer\")\n",
        "      else:\n",
        "        print(\"Wrong answer\")\n",
        "      play_again = input('Enter 0, if you want to play again: ')\n",
        "      if play_again != '0':\n",
        "        break"
      ],
      "metadata": {
        "id": "qDcWj272Lm1N"
      },
      "execution_count": 23,
      "outputs": []
    },
    {
      "cell_type": "code",
      "source": [
        "a = FlashCard()\n",
        "a.play()"
      ],
      "metadata": {
        "colab": {
          "base_uri": "https://localhost:8080/"
        },
        "id": "BaDlfNVEMSv7",
        "outputId": "e1b27678-151f-4ab2-eff5-1817e8154d9a"
      },
      "execution_count": 24,
      "outputs": [
        {
          "name": "stdout",
          "output_type": "stream",
          "text": [
            "Welcome to fruit quiz\n",
            "What is the color of Watermelon\n",
            "green\n",
            "Correct answer\n",
            "Enter 0, if you want to play again: 0\n",
            "What is the color of Watermelon\n",
            "GREEN\n",
            "Correct answer\n",
            "Enter 0, if you want to play again: 0\n",
            "What is the color of Banana\n",
            "yellow\n",
            "Correct answer\n",
            "Enter 0, if you want to play again: 0\n",
            "What is the color of Watermelon\n",
            "red\n",
            "Wrong answer\n",
            "Enter 0, if you want to play again: 1\n"
          ]
        }
      ]
    },
    {
      "cell_type": "markdown",
      "source": [
        "## `Q-5:` Problem 5 based on OOP Python.\n",
        "\n",
        "TechWorld, a technology training center, wants to allocate courses for instructors. An instructor is identified by name, technology skills, experience and average feedback. An instructor is allocated a course, if he/she satisfies the below two conditions:\n",
        "- eligibility criteria:\n",
        "    - if experience is more than 3 years, average feedback should be 4.5 or more\n",
        "    - if experience is 3 years or less, average feedback should be 4 or more\n",
        "- he/she should posses the technology skill for the course\n",
        "\n",
        "Identify the class name and attributes to represent instructors. Write a Python program to implement the class chosen with its attributes and methods.\n",
        "\n",
        "**Note:**\n",
        "- Consider all instance variables to be private and methods to be public.\n",
        "- An instructor may have multiple technology skills, so consider instance variable, technology_skill to be a list.\n",
        "- *check_eligibility()*: Return true if eligibility criteria is satisfied by the instructor. Else, return false\n",
        "- *allocate_course(technology)*: Return true if the course which requires the given technology can be allocated to the instructor. Else, return false.\n",
        "\n",
        "Represent a few objects of the class, initialize instance variables using setter methods, invoke\n",
        "appropriate methods and test your program."
      ],
      "metadata": {
        "id": "G-1xJXHHupo1"
      }
    },
    {
      "cell_type": "code",
      "source": [
        "class Instructor:\n",
        "\n",
        "  def __init__(self):\n",
        "    self.__name = ''\n",
        "    self.__experience = 0\n",
        "    self.__average_feedback = 0\n",
        "    self.__technology_skill = []\n",
        "\n",
        "  # setter methods and getter methods\n",
        "  def set_name(self,name):\n",
        "    self.__name = name\n",
        "\n",
        "  def get_name(self):\n",
        "    return self.__name\n",
        "\n",
        "  def set_experience(self,experience):\n",
        "    self.__experience = experience\n",
        "\n",
        "  def get_experience(self):\n",
        "    return self.__experience\n",
        "\n",
        "  def set_average_feedback(self,average_feedback):\n",
        "    self.__average_feedback = average_feedback\n",
        "\n",
        "  def get_average_feedback(self):\n",
        "    return self.__average_feedback\n",
        "\n",
        "  def set_technology_skill(self,technology_skill):\n",
        "    self.__technology_skill = technology_skill\n",
        "\n",
        "  def get_technology_skill(self):\n",
        "    return self.__technology_skill\n",
        "\n",
        "  # check eligibility based on experience and average feedback rating\n",
        "  def check_eligibility(self):\n",
        "    if self.__experience > 3 and self.__average_feedback >= 4.5:\n",
        "      return True\n",
        "    elif self.__experience <= 3 and self.__average_feedback >= 4:\n",
        "      return True\n",
        "    else:\n",
        "      return False\n",
        "\n",
        "  # check if instructor is eligible to allocate the course (has required skill)\n",
        "  def allocate_course(self,technology):\n",
        "    if self.check_eligibility():\n",
        "      if technology in self.__technology_skill:\n",
        "        return 'Can allocate'\n",
        "      else:\n",
        "        return 'Have no required skill'\n",
        "    else:\n",
        "      return 'Not Eligible'"
      ],
      "metadata": {
        "id": "czd7fNQmuuUa"
      },
      "execution_count": 75,
      "outputs": []
    },
    {
      "cell_type": "code",
      "source": [
        "i1 = Instructor()"
      ],
      "metadata": {
        "id": "C4qnVjR0PTeT"
      },
      "execution_count": 76,
      "outputs": []
    },
    {
      "cell_type": "code",
      "source": [
        "i1.set_name('nitish')\n",
        "i1.set_experience(3.5)\n",
        "i1.set_average_feedback(4.8)\n",
        "i1.set_technology_skill(['python','dsa','sql','excel'])"
      ],
      "metadata": {
        "id": "HWq4jpiITcco"
      },
      "execution_count": 77,
      "outputs": []
    },
    {
      "cell_type": "code",
      "source": [
        "i1.allocate_course('numpy')"
      ],
      "metadata": {
        "colab": {
          "base_uri": "https://localhost:8080/",
          "height": 35
        },
        "id": "bnKghe-jPe2d",
        "outputId": "0a90255b-fd15-4815-e7ef-1bbc98e54924"
      },
      "execution_count": 78,
      "outputs": [
        {
          "output_type": "execute_result",
          "data": {
            "text/plain": [
              "'Have no required skill'"
            ],
            "application/vnd.google.colaboratory.intrinsic+json": {
              "type": "string"
            }
          },
          "metadata": {},
          "execution_count": 78
        }
      ]
    },
    {
      "cell_type": "code",
      "source": [
        "i1.get_technology_skill()"
      ],
      "metadata": {
        "colab": {
          "base_uri": "https://localhost:8080/"
        },
        "id": "1PAdhrgRPhA2",
        "outputId": "4757f216-842f-4a8d-9551-877f28e99edb"
      },
      "execution_count": 79,
      "outputs": [
        {
          "output_type": "execute_result",
          "data": {
            "text/plain": [
              "['python', 'dsa', 'sql', 'excel']"
            ]
          },
          "metadata": {},
          "execution_count": 79
        }
      ]
    },
    {
      "cell_type": "code",
      "source": [
        "i2 = Instructor()"
      ],
      "metadata": {
        "id": "DllWlMWBP2iB"
      },
      "execution_count": 80,
      "outputs": []
    },
    {
      "cell_type": "code",
      "source": [
        "i2.set_name('prachi')\n",
        "i2.set_experience(2)\n",
        "i2.set_average_feedback(3.9)\n",
        "i2.set_technology_skill(['python','dsa','sql'])"
      ],
      "metadata": {
        "id": "UVAXjM35Tv6n"
      },
      "execution_count": 81,
      "outputs": []
    },
    {
      "cell_type": "code",
      "source": [
        "i2.allocate_course('python')"
      ],
      "metadata": {
        "colab": {
          "base_uri": "https://localhost:8080/",
          "height": 35
        },
        "id": "o-uAA1ODQHJZ",
        "outputId": "c97f65a4-2d8e-4a15-a093-9fd0d412bd51"
      },
      "execution_count": 82,
      "outputs": [
        {
          "output_type": "execute_result",
          "data": {
            "text/plain": [
              "'Not Eligible'"
            ],
            "application/vnd.google.colaboratory.intrinsic+json": {
              "type": "string"
            }
          },
          "metadata": {},
          "execution_count": 82
        }
      ]
    },
    {
      "cell_type": "code",
      "source": [
        "i2.get_technology_skill()"
      ],
      "metadata": {
        "colab": {
          "base_uri": "https://localhost:8080/"
        },
        "id": "RWSKZ16PUBP_",
        "outputId": "34c6e08d-ac8e-4d9d-9300-76c92ca6b15c"
      },
      "execution_count": 84,
      "outputs": [
        {
          "output_type": "execute_result",
          "data": {
            "text/plain": [
              "['python', 'dsa', 'sql']"
            ]
          },
          "metadata": {},
          "execution_count": 84
        }
      ]
    },
    {
      "cell_type": "code",
      "source": [
        "i2.get_experience()"
      ],
      "metadata": {
        "colab": {
          "base_uri": "https://localhost:8080/"
        },
        "id": "soGAgL00QF4-",
        "outputId": "0a2fde62-c011-47ee-ad78-93518d0f681a"
      },
      "execution_count": 83,
      "outputs": [
        {
          "output_type": "execute_result",
          "data": {
            "text/plain": [
              "2"
            ]
          },
          "metadata": {},
          "execution_count": 83
        }
      ]
    },
    {
      "cell_type": "code",
      "source": [
        "i2.get_average_feedback()"
      ],
      "metadata": {
        "colab": {
          "base_uri": "https://localhost:8080/"
        },
        "id": "l9KAY5c6T--E",
        "outputId": "b3d0da25-09ea-4c31-bbf8-3714b12bb881"
      },
      "execution_count": 85,
      "outputs": [
        {
          "output_type": "execute_result",
          "data": {
            "text/plain": [
              "3.9"
            ]
          },
          "metadata": {},
          "execution_count": 85
        }
      ]
    }
  ]
}