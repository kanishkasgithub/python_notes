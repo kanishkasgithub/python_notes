{
  "nbformat": 4,
  "nbformat_minor": 0,
  "metadata": {
    "colab": {
      "provenance": []
    },
    "kernelspec": {
      "name": "python3",
      "display_name": "Python 3"
    },
    "language_info": {
      "name": "python"
    }
  },
  "cells": [
    {
      "cell_type": "markdown",
      "source": [
        "Task-11"
      ],
      "metadata": {
        "id": "AYQfarsC_rNN"
      }
    },
    {
      "cell_type": "markdown",
      "source": [
        "###`Q-1`: You are given a function definition. There might be several issues on execution of this function. You are asked to do exception handling for diffrent errors that this function goes in to `without altering this function`. And print error text.\n",
        "\n"
      ],
      "metadata": {
        "id": "saKYKFVq_w07"
      }
    },
    {
      "cell_type": "markdown",
      "source": [
        "Function parameters `l -> list, s -> could be anything`\n",
        "\n",
        "```\n",
        "def function(l: list, s, **args):\n",
        "    last_element = l[-1]\n",
        "    \n",
        "    l[int(s)]=10\n",
        "    any_element = l[int(s)+10]\n",
        "    l[s]=10\n",
        "    \n",
        "    res = sum(l)\n",
        "    \n",
        "    p = args['p']\n",
        "    # print(p)\n",
        "    return res/last_element * p + any_element\n",
        "\n",
        "```\n",
        "Check for different function calls:-\n",
        "\n",
        "```\n",
        "function([1,2,1], 12)\n",
        "function([1,2,1]*9, '1-2')\n",
        "function([1,'2',1]*9, 12)\n",
        "function([1,'2',1]*9, 12)\n",
        "function([1,2,0]*9, 12  )\n",
        "function([1,2,1]*9, 12, p=None)\n",
        "function([1,2,0]*9, 12, p=10)\n",
        "```"
      ],
      "metadata": {
        "id": "trq74uGB_0vc"
      }
    },
    {
      "cell_type": "code",
      "execution_count": 14,
      "metadata": {
        "id": "vc6ISs7r_lJw"
      },
      "outputs": [],
      "source": [
        "def function(l: list, s, **args):\n",
        "    last_element = l[-1]\n",
        "\n",
        "    l[int(s)]=10\n",
        "    any_element = l[int(s)+10]\n",
        "    l[s]=10\n",
        "\n",
        "    res = sum(l)\n",
        "\n",
        "    p = args['p']\n",
        "    # print(p)\n",
        "    return res/last_element * p + any_element"
      ]
    },
    {
      "cell_type": "code",
      "source": [
        "try:\n",
        "  # res = function([1,2,1], 12)\n",
        "  res = function([1,2,1]*9, '1-2')\n",
        "  # res = function([1,'2',1]*9, 12)\n",
        "  # res = function([1,'2',1]*9, 12)\n",
        "  # res = function([1,2,0]*9, 12  )\n",
        "  # res = function([1,2,1]*9, 12, p=None)\n",
        "  # res = function([1,2,0]*9, 12, p=10)\n",
        "  # res = function([1,2,1]*9, 12, p=10)\n",
        "\n",
        "except IndexError:\n",
        "    print('Index out of range')\n",
        "except ValueError:\n",
        "    print('Invalid datatype')\n",
        "except TypeError:\n",
        "    print('Unsupported operations')\n",
        "except KeyError:\n",
        "    print('Key Error')\n",
        "except ZeroDivisionError:\n",
        "    print('Division by Zero')\n",
        "except Exception as e:\n",
        "    print(e.with_traceback)\n",
        "else:\n",
        "  print(res)"
      ],
      "metadata": {
        "colab": {
          "base_uri": "https://localhost:8080/"
        },
        "id": "GHBfKRKmANgP",
        "outputId": "9a229bff-65a6-4543-804c-ec7cb3383589"
      },
      "execution_count": 18,
      "outputs": [
        {
          "output_type": "stream",
          "name": "stdout",
          "text": [
            "Invalid datatype\n"
          ]
        }
      ]
    },
    {
      "cell_type": "code",
      "source": [
        "def function(l: list, s, **args):\n",
        "  # try block\n",
        "  try:\n",
        "    last_element = l[-1]\n",
        "\n",
        "    l[int(s)]=10\n",
        "    any_element = l[int(s)+10]\n",
        "    l[s]=10\n",
        "\n",
        "    res = sum(l)\n",
        "\n",
        "    p = args['p']\n",
        "    # print(p)\n",
        "    return res/last_element * p + any_element\n",
        "\n",
        "  # except block\n",
        "  except IndexError as e:\n",
        "    print('Index out of range')\n",
        "  except ValueError as e:\n",
        "    print('Invalid data type')\n",
        "  except TypeError as e:\n",
        "    print('Operation not supported')\n",
        "  except KeyError as e:\n",
        "    print('Key Error')\n",
        "  except ZeroDivisionError as e:\n",
        "    print('Division by zero')\n",
        "  except Exception as e:\n",
        "    print(e.with_traceback)"
      ],
      "metadata": {
        "id": "YduKvabgUl6l"
      },
      "execution_count": 19,
      "outputs": []
    },
    {
      "cell_type": "code",
      "source": [
        "function([1,2,1], 12)\n",
        "function([1,2,1]*9, '1-2')\n",
        "function([1,'2',1]*9, 12)\n",
        "function([1,'2',1]*9, 12)\n",
        "function([1,2,0]*9, 12  )\n",
        "function([1,2,1]*9, 12, p=None)\n",
        "function([1,2,0]*9, 12, p=10)\n",
        "function([1,2,1]*9, 12, p=10)"
      ],
      "metadata": {
        "colab": {
          "base_uri": "https://localhost:8080/"
        },
        "id": "TKC4CLOlV0at",
        "outputId": "f114ddb5-846d-4c72-dedf-bc8aadd3eb78"
      },
      "execution_count": 20,
      "outputs": [
        {
          "output_type": "stream",
          "name": "stdout",
          "text": [
            "Index out of range\n",
            "Invalid data type\n",
            "Operation not supported\n",
            "Operation not supported\n",
            "Key Error\n",
            "Operation not supported\n",
            "Division by zero\n"
          ]
        },
        {
          "output_type": "execute_result",
          "data": {
            "text/plain": [
              "452.0"
            ]
          },
          "metadata": {},
          "execution_count": 20
        }
      ]
    },
    {
      "cell_type": "markdown",
      "source": [
        "###`Q-2:` You are given a code snippet. There might be several issues on execution of this code. You are asked to do exception handling for diffrent errors, condition is what ever happens we need to execute last line printing correct result of `sum of elements`.\n",
        "\n",
        "List have elemnts as any no of  `key-pair dict with key as list index and value as any integer`, `integers` and `numeric-strings`. There is always only one element in the dict.\n",
        "\n",
        "\n",
        "```\n",
        "l = [{0:2},2,3,4,'5', {5:10}]\n",
        "# For calculating sum of above list\n",
        "s=0\n",
        "for i in range(len(l)):\n",
        "    #You can Edit code from here\n",
        "    s += l[i].get(i)\n",
        "    s += l[i]\n",
        "    s += int(l[i])\n",
        "\n",
        "\n",
        "print(s)\n",
        "```"
      ],
      "metadata": {
        "id": "cTC2_hWQELWy"
      }
    },
    {
      "cell_type": "code",
      "source": [
        "# l = [{0:2},2,3,4,'5', {5:10},'6',{7:10}]\n",
        "l = ['1',2,3,4,'5', {5:10},'6',{7:10}]\n",
        "s=0\n",
        "for i in range(len(l)):\n",
        "  try:\n",
        "    s = s + l[i]\n",
        "  except TypeError:\n",
        "    try:\n",
        "      s = s + l[i].get(i)\n",
        "    except AttributeError:\n",
        "      s = s + int(l[i])\n",
        "    except Exception as e:\n",
        "      print(e)\n",
        "  except Exception as e:\n",
        "    print(e)\n",
        "print(s)"
      ],
      "metadata": {
        "colab": {
          "base_uri": "https://localhost:8080/"
        },
        "id": "JKhfTQ4sd4Oz",
        "outputId": "285efffd-ed7e-425e-f609-3a50a4e2f7b1"
      },
      "execution_count": 50,
      "outputs": [
        {
          "output_type": "stream",
          "name": "stdout",
          "text": [
            "41\n"
          ]
        }
      ]
    },
    {
      "cell_type": "markdown",
      "source": [
        "### `Q-3:`: File Handling with Exception handling\n",
        "\n",
        "Write a program that opens a text file and write data to it as \"Hello, Good Morning!!!\". Handle exceptions that can be generated during the I/O operations. Do not show the success message on the main exception handling block (write inside the else block)."
      ],
      "metadata": {
        "id": "iSiqd3xnESJJ"
      }
    },
    {
      "cell_type": "code",
      "source": [
        "# write operation on file\n",
        "try:\n",
        "  with open('test.txt', 'w') as f:\n",
        "    f.write(\"Hello, Good Morning!!!\")\n",
        "except IOError:\n",
        "  print('Error working with file...')\n",
        "except Exception as e:\n",
        "  print(e.with_traceback)\n",
        "else:\n",
        "  print('File written successfully!!!')"
      ],
      "metadata": {
        "colab": {
          "base_uri": "https://localhost:8080/"
        },
        "id": "gnbdiH__h3qW",
        "outputId": "41e3ff5e-0cb6-429f-c93c-19e901e26669"
      },
      "execution_count": 59,
      "outputs": [
        {
          "output_type": "stream",
          "name": "stdout",
          "text": [
            "File written successfully!!!\n"
          ]
        }
      ]
    },
    {
      "cell_type": "code",
      "source": [
        "# reading from file\n",
        "try:\n",
        "  with open('test.txt', 'r') as f:\n",
        "    print(f.read())\n",
        "except FileNotFoundError:\n",
        "  print('File Not Found')\n",
        "except IOError:\n",
        "  print('Error working with file...')\n",
        "except Exception as e:\n",
        "  print(e.with_traceback)\n",
        "else:\n",
        "  print('File read successfully!!!')"
      ],
      "metadata": {
        "colab": {
          "base_uri": "https://localhost:8080/"
        },
        "id": "yp1k9GeQEiPQ",
        "outputId": "ace14cd0-0d99-4535-c951-e47bc2f7cd3e"
      },
      "execution_count": 60,
      "outputs": [
        {
          "output_type": "stream",
          "name": "stdout",
          "text": [
            "Hello, Good Morning!!!\n",
            "File read successfully!!!\n"
          ]
        }
      ]
    },
    {
      "cell_type": "markdown",
      "source": [
        "### `Q-4`: Number game program.\n",
        "\n",
        "Write a number game program. Ask the user to enter a number. If the number is greater than number to be guessed, raise a **ValueTooLarge** exception. If the value is smaller the number to be guessed the, raise a **ValueTooSmall** exception and prompt the user to enter again. Quit the program only when the user enters the correct number. Also raise **GuessError** if user guess a number less than 1."
      ],
      "metadata": {
        "id": "RFb1C7cfClkm"
      }
    },
    {
      "cell_type": "code",
      "source": [
        "class GuessError(Exception):\n",
        "  def __init__(self, message):\n",
        "    self.message = message\n",
        "\n",
        "class ValueTooLarge(Exception):\n",
        "  def __init__(self, message):\n",
        "    self.message = message\n",
        "\n",
        "class ValueTooSmall(Exception):\n",
        "  def __init__(self, message):\n",
        "    self.message = message"
      ],
      "metadata": {
        "id": "PAZO4k7zmzMr"
      },
      "execution_count": 73,
      "outputs": []
    },
    {
      "cell_type": "code",
      "source": [
        "import random\n",
        "correct_ans = random.randint(1,100)\n",
        "while True:\n",
        "  user_guess = int(input('Guess the number: '))\n",
        "  try:\n",
        "    if user_guess < 1:\n",
        "      raise GuessError('Guess between 1 to 100.')\n",
        "    else:\n",
        "      if user_guess > correct_ans:\n",
        "        raise ValueTooLarge('Input Value too Large')\n",
        "      elif user_guess < correct_ans:\n",
        "        raise ValueTooSmall('Input Value too Small')\n",
        "      else:\n",
        "        print('You guessed it correctly.')\n",
        "        break\n",
        "  except Exception as e:\n",
        "    print(e.message)"
      ],
      "metadata": {
        "colab": {
          "base_uri": "https://localhost:8080/"
        },
        "id": "RVMO5oaeCp_v",
        "outputId": "1e52dea9-7e70-4b80-8296-67923b3cbac5"
      },
      "execution_count": 75,
      "outputs": [
        {
          "output_type": "stream",
          "name": "stdout",
          "text": [
            "Guess the number: -1\n",
            "Guess between 1 to 100.\n",
            "Guess the number: 50\n",
            "Input Value too Small\n",
            "Guess the number: 70\n",
            "Input Value too Large\n",
            "Guess the number: 60\n",
            "Input Value too Large\n",
            "Guess the number: 55\n",
            "Input Value too Large\n",
            "Guess the number: 51\n",
            "Input Value too Small\n",
            "Guess the number: 52\n",
            "Input Value too Small\n",
            "Guess the number: 53\n",
            "You guessed it correctly.\n"
          ]
        }
      ]
    },
    {
      "cell_type": "markdown",
      "source": [
        "### `Q-5:` Cast vote\n",
        "\n",
        "Write a program that validate name and age as entered by the user to determine whether the person can cast vote or not. To handle the age, create **InvalidAge** exception and for name, create **InvalidName** exception. The name will be invalid when the string will be empty or name has only one word.\n",
        "\n",
        "Example 1:\n",
        "\n",
        "Input:\n",
        "\n",
        "```bash\n",
        "Enter the name:               goransh singh\n",
        "Enter the age: 25\n",
        "```\n",
        "\n",
        "Output:\n",
        "\n",
        "```bash\n",
        "Goransh Singh  Congratulation !!! You can vote.\n",
        "```"
      ],
      "metadata": {
        "id": "PJ62b4XZCqct"
      }
    },
    {
      "cell_type": "code",
      "source": [
        "class InvalidName(Exception):\n",
        "  def __init__(self, message):\n",
        "    self.message = message\n",
        "\n",
        "class InvalidAge(Exception):\n",
        "  def __init__(self, message):\n",
        "    self.message = message"
      ],
      "metadata": {
        "id": "yWCjoC0BCtj5"
      },
      "execution_count": 94,
      "outputs": []
    },
    {
      "cell_type": "code",
      "source": [
        "name = input('Enter the name: ')\n",
        "age = int(input('Enter the age: '))\n",
        "try:\n",
        "  if name == '' or len(name.split()) == 1:\n",
        "    raise InvalidName('Name cannot be empty or has one word.')\n",
        "  if age < 18:\n",
        "    raise InvalidAge('Age must be greater than 18.')\n",
        "except Exception as e:\n",
        "  print(e.message)\n",
        "else:\n",
        "  print((name.strip()).title(), 'Congratulation !!! You can vote.')\n",
        "finally:\n",
        "  print('Thank you!!!')"
      ],
      "metadata": {
        "colab": {
          "base_uri": "https://localhost:8080/"
        },
        "id": "GH50CLVPvUcJ",
        "outputId": "616873c9-a7db-4d50-dbeb-f38d84807272"
      },
      "execution_count": 99,
      "outputs": [
        {
          "output_type": "stream",
          "name": "stdout",
          "text": [
            "Enter the name:          goransh gupta\n",
            "Enter the age: 25\n",
            "Goransh Gupta Congratulation !!! You can vote.\n",
            "Thank you!!!\n"
          ]
        }
      ]
    },
    {
      "cell_type": "markdown",
      "source": [
        "### `Q-6`: Write a python function which infinitely prints natural numbers in a single line. Raise the **StopIteration** exception after displaying first 20 numnbers to exit from the program."
      ],
      "metadata": {
        "id": "1C7oMV6mCuHl"
      }
    },
    {
      "cell_type": "code",
      "source": [
        "def display(num):\n",
        "  i = 0\n",
        "  while True:\n",
        "    try:\n",
        "      i = i+1\n",
        "      num = num + 1\n",
        "      if i > 20:\n",
        "        raise StopIteration('\\nExceeded 20 numbers')\n",
        "    except StopIteration as e:\n",
        "      break\n",
        "    else:\n",
        "      print(num, end=' ')"
      ],
      "metadata": {
        "id": "zBVLTs6f1eGT"
      },
      "execution_count": 119,
      "outputs": []
    },
    {
      "cell_type": "code",
      "source": [
        "display(100)"
      ],
      "metadata": {
        "colab": {
          "base_uri": "https://localhost:8080/"
        },
        "id": "YM62_S8G13-w",
        "outputId": "5cbfe287-575d-451e-cffa-a6700e6fe952"
      },
      "execution_count": 120,
      "outputs": [
        {
          "output_type": "stream",
          "name": "stdout",
          "text": [
            "101 102 103 104 105 106 107 108 109 110 111 112 113 114 115 116 117 118 119 120 "
          ]
        }
      ]
    }
  ]
}