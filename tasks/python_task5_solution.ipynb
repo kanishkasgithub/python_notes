{
  "nbformat": 4,
  "nbformat_minor": 0,
  "metadata": {
    "colab": {
      "provenance": []
    },
    "kernelspec": {
      "name": "python3",
      "display_name": "Python 3"
    },
    "language_info": {
      "name": "python"
    }
  },
  "cells": [
    {
      "cell_type": "markdown",
      "source": [
        "Task 5"
      ],
      "metadata": {
        "id": "bewC0dWl76CB"
      }
    },
    {
      "cell_type": "markdown",
      "source": [
        "# Tuple"
      ],
      "metadata": {
        "id": "K8As-t918Acj"
      }
    },
    {
      "cell_type": "markdown",
      "source": [
        "###`Q1:` Join Tuples if similar initial element\n",
        "While working with Python tuples, we can have a problem in which we need to perform concatenation of records from the similarity of initial element. This problem can have applications in data domains such as Data Science.\n",
        "\n",
        "For eg.\n",
        "```\n",
        "Input  : test_list = [(5, 6), (5, 7), (5, 8), (6, 10), (7, 13)]\n",
        "Output : [(5, 6, 7, 8), (6, 10), (7, 13)]\n",
        "```"
      ],
      "metadata": {
        "id": "EoTiLAHv8DdN"
      }
    },
    {
      "cell_type": "code",
      "execution_count": 2,
      "metadata": {
        "colab": {
          "base_uri": "https://localhost:8080/"
        },
        "id": "vZZodZ8i71As",
        "outputId": "910138b3-e132-4312-ab52-aef517c31a17"
      },
      "outputs": [
        {
          "output_type": "stream",
          "name": "stdout",
          "text": [
            "7\n"
          ]
        }
      ],
      "source": [
        "test_list = [(5, 6), (5, 7), (5, 8), (6, 10), (7, 13)]\n",
        "print(test_list[1][1])"
      ]
    },
    {
      "cell_type": "code",
      "source": [
        "t = [(5, 6), (5, 7), (5, 8), (6, 10), (7, 13),(7,8),(5,10),(9,10),(10,11)]\n",
        "res = []\n",
        "for i in t:\n",
        "  temp = [i[0]]\n",
        "  for j in t:\n",
        "    if i[0] == j[0]:\n",
        "      temp.append(j[1])\n",
        "  res.append(tuple(temp))\n",
        "print(list(set(res)))"
      ],
      "metadata": {
        "colab": {
          "base_uri": "https://localhost:8080/"
        },
        "id": "6JrjHv33_2N-",
        "outputId": "97e3b273-8660-41af-fc67-98c3bbeda63b"
      },
      "execution_count": 35,
      "outputs": [
        {
          "output_type": "stream",
          "name": "stdout",
          "text": [
            "[(9, 10), (10, 11), (7, 13, 8), (5, 6, 7, 8, 10), (6, 10)]\n"
          ]
        }
      ]
    },
    {
      "cell_type": "code",
      "source": [
        "t = [(5, 6), (5, 7), (5, 8), (6, 10), (7, 13),(8,7)]\n",
        "res = []\n",
        "for i in t:\n",
        "  temp = [i[0]]\n",
        "  for j in t:\n",
        "    if i[0] == j[0]:\n",
        "      temp.append(j[1])\n",
        "  res.append(tuple(temp))\n",
        "L = []\n",
        "for i in res:\n",
        "  if i not in L:\n",
        "    L.append(i)\n",
        "print(L)"
      ],
      "metadata": {
        "colab": {
          "base_uri": "https://localhost:8080/"
        },
        "id": "rYwyw-TwBsG4",
        "outputId": "d050ee33-794a-405a-96ba-403f28665f44"
      },
      "execution_count": 38,
      "outputs": [
        {
          "output_type": "stream",
          "name": "stdout",
          "text": [
            "[(5, 6, 7, 8), (6, 10), (7, 13), (8, 7)]\n"
          ]
        }
      ]
    },
    {
      "cell_type": "code",
      "source": [
        "test_list = [(5, 6), (5, 7), (5, 8), (6, 10), (7, 13)]\n",
        "L = []\n",
        "for i in test_list:\n",
        "  t = (i[0],)\n",
        "  for j in test_list:\n",
        "    if i[0]==j[0]:\n",
        "      t = t + (j[1],)\n",
        "  L.append(t)\n",
        "print(list(set(L)))"
      ],
      "metadata": {
        "colab": {
          "base_uri": "https://localhost:8080/"
        },
        "id": "3Wk8ha11Eqm7",
        "outputId": "4baa6f61-62ad-4f1f-e6c3-624fcd1d02d2"
      },
      "execution_count": 37,
      "outputs": [
        {
          "output_type": "stream",
          "name": "stdout",
          "text": [
            "[(5, 6, 7, 8), (6, 10), (7, 13)]\n"
          ]
        }
      ]
    },
    {
      "cell_type": "markdown",
      "source": [
        "###`Q2:` Multiply Adjacent elements (both side) and take sum of right and left side multiplication result.\n",
        "\n",
        "\n",
        "For eg.\n",
        "```\n",
        "The original tuple : (1, 5, 7, 8, 10)\n",
        "Resultant tuple after multiplication :\n",
        "\n",
        "(1*5, 1*5+5*7, 7*5 + 7*8, 8*7 + 8*10, 10*8) -> (5, 40, 91, 136, 80)\n",
        "\n",
        "output-(5, 40, 91, 136, 80)\n",
        "```"
      ],
      "metadata": {
        "id": "bfSvx3MU8FMy"
      }
    },
    {
      "cell_type": "code",
      "source": [
        "t = (1, 5, 7, 8, 10)\n",
        "if len(t)==1:\n",
        "  print(t[0])\n",
        "else:\n",
        "  l = [t[0]*t[1]]\n",
        "  for i in range(1,len(t)-1):\n",
        "    l.append(t[i]*t[i-1] + t[i]*t[i+1])\n",
        "  l.append(t[-1]*t[-2])\n",
        "  print(tuple(l))"
      ],
      "metadata": {
        "colab": {
          "base_uri": "https://localhost:8080/"
        },
        "id": "pWwOmsQ9HEPO",
        "outputId": "7f0c1c5b-7ea3-4ee1-8c01-26f0dc83905a"
      },
      "execution_count": 58,
      "outputs": [
        {
          "output_type": "stream",
          "name": "stdout",
          "text": [
            "(5, 40, 91, 136, 80)\n"
          ]
        }
      ]
    },
    {
      "cell_type": "markdown",
      "source": [
        "###`Q3`: Check is tuples are same or not?\n",
        "Two tuples would be same if both tuples have same element at same index\n",
        "```\n",
        "t1 = (1,2,3,0)\n",
        "t2 = (0,1,2,3)\n",
        "\n",
        "t1 and t2 are not same\n",
        "```"
      ],
      "metadata": {
        "id": "I-QKROoU8KLD"
      }
    },
    {
      "cell_type": "code",
      "source": [
        "# t1 = (1,2,3,0)\n",
        "t2 = (0,1,2,3)\n",
        "t1 = (0,1,2,3)\n",
        "if t1 == t2:\n",
        "  print(\"Same\")\n",
        "else:\n",
        "  print(\"NOT Same\")"
      ],
      "metadata": {
        "colab": {
          "base_uri": "https://localhost:8080/"
        },
        "id": "Fwao6CIH8Ndc",
        "outputId": "01088c98-5e72-4ce4-bf2b-fd19b385aba8"
      },
      "execution_count": 63,
      "outputs": [
        {
          "output_type": "stream",
          "name": "stdout",
          "text": [
            "Same\n"
          ]
        }
      ]
    },
    {
      "cell_type": "markdown",
      "source": [
        "###`Q4`: Count no of tuples, list and set from a list\n",
        "```\n",
        "list1 = [{'hi', 'bye'},{'Geeks', 'forGeeks'},('a', 'b'),['hi', 'bye'],['a', 'b']]\n",
        "\n",
        "```\n",
        "`Output:`\n",
        "\n",
        "```\n",
        "List-2\n",
        "Set-2\n",
        "Tuples-1\n",
        "```"
      ],
      "metadata": {
        "id": "BTp7S-ay8N-i"
      }
    },
    {
      "cell_type": "code",
      "source": [
        "list1 = [{'hi', 'bye'},{'Geeks', 'forGeeks'},('a', 'b'),['hi', 'bye'],['a', 'b'],13,True]\n",
        "lcount = scount = tcount = 0\n",
        "for i in list1:\n",
        "  if type(i) == list:\n",
        "    lcount += 1\n",
        "  elif type(i) == set:\n",
        "    scount += 1\n",
        "  elif type(i) == tuple:\n",
        "    tcount += 1\n",
        "  else:\n",
        "    pass\n",
        "print(\"List-{}\\nSet-{}\\nTuples-{}\".format(lcount,scount,tcount))"
      ],
      "metadata": {
        "colab": {
          "base_uri": "https://localhost:8080/"
        },
        "id": "vAJ4PxdZMVql",
        "outputId": "d300e1e0-ae52-4e93-b87f-795391470aca"
      },
      "execution_count": 74,
      "outputs": [
        {
          "output_type": "stream",
          "name": "stdout",
          "text": [
            "List-2\n",
            "Set-2\n",
            "Tuples-1\n"
          ]
        }
      ]
    },
    {
      "cell_type": "markdown",
      "source": [
        "###`Q5`: Shortlist Students for a Job role\n",
        "Ask user to input students record and store in tuples for each record. Then Ask user to input three things he wants in the candidate- Primary Skill, Higher Education, Year of Graduation.\n",
        "\n",
        "Show every students record in form of tuples if matches all required criteria.\n",
        "\n",
        "It is assumed that there will be only one primry skill.\n",
        "\n",
        "If no such candidate found, print `No such candidate`\n",
        "\n",
        "`Input:`\n",
        "```\n",
        "Enter No of records- 2\n",
        "Enter Details of student-1\n",
        "Enter Student name- Manohar\n",
        "Enter Higher Education- B.Tech\n",
        "Enter Primary Skill- Python\n",
        "Enter Year of Graduation- 2022\n",
        "Enter Details of student-2\n",
        "Enter Student name- Ponian\n",
        "Enter Higher Education- B.Sc.\n",
        "Enter Primary Skill- C++\n",
        "Enter Year of Graduation- 2020\n",
        "\n",
        "Enter Job Role Requirement\n",
        "Enter Skill- Python\n",
        "Enter Higher Education- B.Tech\n",
        "Enter Year of Graduation- 2022\n",
        "```\n",
        "\n",
        "`Output`\n",
        "```\n",
        "('Manohar', 'B.tech', 'Python', '2022')\n",
        "```\n"
      ],
      "metadata": {
        "id": "_lFn69jf8R6p"
      }
    },
    {
      "cell_type": "code",
      "source": [
        "n = int(input(\"Enter No of records- \"))\n",
        "l = []\n",
        "for i in range(n):\n",
        "  print('Enter details of Student',i+1)\n",
        "  name = input(\"Enter Student name- \")\n",
        "  edu = input(\"Enter Higher Education- \")\n",
        "  skill = input(\"Enter Primary Skill- \")\n",
        "  year = input(\"Enter Year of Graduation- \")\n",
        "  l.append((name,edu,skill,year))\n",
        "print(l)\n",
        "\n",
        "print('\\nEnter Job Role Requirement')\n",
        "s = input(\"Enter Skill- \")\n",
        "e = input(\"Enter Higher Education- \")\n",
        "y = input(\"Enter Year of Graduation- \")\n",
        "L = []\n",
        "for i in l:\n",
        "  if i[2] == s and i[1] == e and i[3] == y:\n",
        "    L.append(i)\n",
        "if L:\n",
        "  print(L)\n",
        "else:\n",
        "  print(\"No such candidate\")"
      ],
      "metadata": {
        "colab": {
          "base_uri": "https://localhost:8080/"
        },
        "id": "4ioQWnem8VdG",
        "outputId": "6158154b-8fa7-4199-9bd1-7a02134ca399"
      },
      "execution_count": 84,
      "outputs": [
        {
          "output_type": "stream",
          "name": "stdout",
          "text": [
            "Enter No of records- 2\n",
            "Enter details of Student 1\n",
            "Enter Student name- Nora\n",
            "Enter Higher Education- B.Tech.\n",
            "Enter Primary Skill- Python\n",
            "Enter Year of Graduation- 2023\n",
            "Enter details of Student 2\n",
            "Enter Student name- Kapil\n",
            "Enter Higher Education- B.Sc.\n",
            "Enter Primary Skill- Java\n",
            "Enter Year of Graduation- 2020\n",
            "[('Nora', 'B.Tech.', 'Python', '2023'), ('Kapil', 'B.Sc.', 'Java', '2020')]\n",
            "\n",
            "Enter Job Role Requirement\n",
            "Enter Skill- Python\n",
            "Enter Higher Education- B.E.\n",
            "Enter Year of Graduation- 2022\n",
            "No such candidate\n"
          ]
        }
      ]
    },
    {
      "cell_type": "markdown",
      "source": [
        "# Set"
      ],
      "metadata": {
        "id": "Nsvm9yzY8XP6"
      }
    },
    {
      "cell_type": "markdown",
      "source": [
        "###`Q1:` Write a program to find set of common elements in three lists using sets.\n",
        "```\n",
        "Input : ar1 = [1, 5, 10, 20, 40, 80]\n",
        "        ar2 = [6, 7, 20, 80, 100]\n",
        "        ar3 = [3, 4, 15, 20, 30, 70, 80, 120]\n",
        "\n",
        "Output : [80, 20]\n",
        "```"
      ],
      "metadata": {
        "id": "C-S4KpAR8kee"
      }
    },
    {
      "cell_type": "code",
      "source": [
        "ar1 = [1, 5, 10, 20, 40, 80]\n",
        "ar2 = [6, 7, 20, 80, 100]\n",
        "ar3 = [3, 4, 15, 20, 30, 70, 80, 120]\n",
        "print(list(set(ar1) & set(ar2) & set(ar3)))"
      ],
      "metadata": {
        "colab": {
          "base_uri": "https://localhost:8080/"
        },
        "id": "2KHI5Y7v8orj",
        "outputId": "d4f1ff82-9e08-4326-eda3-79a808a94385"
      },
      "execution_count": 88,
      "outputs": [
        {
          "output_type": "stream",
          "name": "stdout",
          "text": [
            "[80, 20]\n"
          ]
        }
      ]
    },
    {
      "cell_type": "markdown",
      "source": [
        "###`Q2:` Write a program to count unique number of vowels using sets in a given string. Lowercase and upercase vowels will be taken as different.\n",
        "\n",
        "`Input:`\n",
        "```\n",
        "Str1 = \"hands-on data science mentorship progrAm with live classes at affordable fee only on CampusX\"\n",
        "```\n",
        "`Output:`\n",
        "```\n",
        "No of unique vowels-6\n",
        "```"
      ],
      "metadata": {
        "id": "H_w4fM6z8pVD"
      }
    },
    {
      "cell_type": "code",
      "source": [
        "str1 = \"hands-on data science mentorship progrAm with live classes at affordable fee only on CampusX\"\n",
        "s = list(set(str1))\n",
        "vowels = ['a','e','i','o','u']\n",
        "c = 0\n",
        "for i in s:\n",
        "  if i.lower() in vowels:\n",
        "    c += 1\n",
        "print(\"No of unique vowels-{}\".format(c))"
      ],
      "metadata": {
        "colab": {
          "base_uri": "https://localhost:8080/"
        },
        "id": "EdffMmU6Uuha",
        "outputId": "a3e6cf6f-ba04-4178-c744-c468a01311c9"
      },
      "execution_count": 95,
      "outputs": [
        {
          "output_type": "stream",
          "name": "stdout",
          "text": [
            "No of unique vowels-6\n"
          ]
        }
      ]
    },
    {
      "cell_type": "code",
      "source": [
        "str1 = \"hands-on data science mentorship progrAm with live classes at affordable fee only on CampusX\" # Is AbOUt to START\"\n",
        "vowels = {'a','e','i','o','u','A','E','I','O','U'}\n",
        "print('No. of unique vowels-',len(set(str1)&vowels))"
      ],
      "metadata": {
        "colab": {
          "base_uri": "https://localhost:8080/"
        },
        "id": "GnEb06RUV_QT",
        "outputId": "6d33af90-2890-415a-bf09-effef114c4be"
      },
      "execution_count": 97,
      "outputs": [
        {
          "output_type": "stream",
          "name": "stdout",
          "text": [
            "No. of unique vowels- 6\n"
          ]
        }
      ]
    },
    {
      "cell_type": "markdown",
      "source": [
        "### `Q3:` Write a program to Check if a given string is binary string of or not.\n",
        "\n",
        "A string is said to be binary if it's consists of only two unique characters.\n",
        "\n",
        "Take string input from user.\n",
        "\n",
        "```\n",
        "Input: str = \"01010101010\"\n",
        "Output: Yes\n",
        "\n",
        "Input: str = \"1222211\"\n",
        "Output: Yes\n",
        "\n",
        "Input: str = \"Campusx\"\n",
        "Output: No\n",
        "```"
      ],
      "metadata": {
        "id": "tv8eAleB8tca"
      }
    },
    {
      "cell_type": "code",
      "source": [
        "s = input('Enter string: ')\n",
        "if len(set(s)) == 2:\n",
        "  print('Yes')\n",
        "else:\n",
        "  print('No')"
      ],
      "metadata": {
        "colab": {
          "base_uri": "https://localhost:8080/"
        },
        "id": "kCn0m9MA8w8-",
        "outputId": "5cac8d9e-478a-4468-967d-8b3aca3c230b"
      },
      "execution_count": 104,
      "outputs": [
        {
          "output_type": "stream",
          "name": "stdout",
          "text": [
            "Enter string: Campusx\n",
            "No\n"
          ]
        }
      ]
    },
    {
      "cell_type": "markdown",
      "source": [
        "### `Q4`: find union of n arrays.\n",
        "\n",
        "**Example 1:**\n",
        "\n",
        "Input:\n",
        "```bash\n",
        "[[1, 2, 2, 4, 3, 6],\n",
        " [5, 1, 3, 4],\n",
        " [9, 5, 7, 1],\n",
        " [2, 4, 1, 3]]\n",
        "```\n",
        "\n",
        "Output:\n",
        "\n",
        "```bash\n",
        "[1, 2, 3, 4, 5, 6, 7, 9]\n",
        "```"
      ],
      "metadata": {
        "id": "tLdPcgo78xYf"
      }
    },
    {
      "cell_type": "code",
      "source": [
        "L = [[1, 2, 2, 4, 3, 6], [5, 1, 3, 4], [9, 5, 7, 1], [2, 4, 1, 3]]\n",
        "s = set()\n",
        "for i in L:\n",
        "  s.update(set(i))\n",
        "print(list(s))"
      ],
      "metadata": {
        "colab": {
          "base_uri": "https://localhost:8080/"
        },
        "id": "rGjqMiOJ80ka",
        "outputId": "6a288b34-cbc1-4fd0-95f9-cd1d1466c9a5"
      },
      "execution_count": 109,
      "outputs": [
        {
          "output_type": "stream",
          "name": "stdout",
          "text": [
            "[1, 2, 3, 4, 5, 6, 7, 9]\n"
          ]
        }
      ]
    },
    {
      "cell_type": "code",
      "source": [
        "a = [[1, 2, 2, 4, 3, 6],[5, 1, 3, 4],[9, 5, 7, 1],[2, 4, 1, 3]]\n",
        "list(set(i for j in a for i in j))"
      ],
      "metadata": {
        "colab": {
          "base_uri": "https://localhost:8080/"
        },
        "id": "asAJldqRX1LZ",
        "outputId": "83a2745d-08d9-4acb-9627-1737b6b73275"
      },
      "execution_count": 112,
      "outputs": [
        {
          "output_type": "execute_result",
          "data": {
            "text/plain": [
              "[1, 2, 3, 4, 5, 6, 7, 9]"
            ]
          },
          "metadata": {},
          "execution_count": 112
        }
      ]
    },
    {
      "cell_type": "markdown",
      "source": [
        "### `Q5`: Intersection of two lists. Intersection of two list means we need to take all those elements which are common to both of the initial lists and store them into another list. Only use using **list-comprehension**.\n",
        "\n",
        "**Example 1:**\n",
        "\n",
        "Input:\n",
        "```bash\n",
        "lst1 = {15, 9, 10, 56, 23, 78, 5, 4, 9}\n",
        "lst2 = {9, 4, 5, 36, 47, 26, 10, 45, 87}\n",
        "```\n",
        "\n",
        "Output:\n",
        "```bash\n",
        "[9, 10, 4, 5]\n",
        "```\n",
        "\n",
        "**Example 2:**\n",
        "\n",
        "Input:\n",
        "```bash\n",
        "lst1 = {4, 9, 1, 17, 11, 26, 28, 54, 69}\n",
        "lst2 = {9, 9, 74, 21, 45, 11, 63, 28, 26}\n",
        "```\n",
        "\n",
        "Output:\n",
        "```bash\n",
        "[9, 11, 26, 28]\n",
        "```"
      ],
      "metadata": {
        "id": "Co4hVSsf8050"
      }
    },
    {
      "cell_type": "code",
      "source": [
        "lst1 = {15, 9, 10, 56, 23, 78, 5, 4, 9}\n",
        "lst2 = {9, 4, 5, 36, 47, 26, 10, 45, 87}\n",
        "[i for i in lst1 if i in lst2]"
      ],
      "metadata": {
        "colab": {
          "base_uri": "https://localhost:8080/"
        },
        "id": "4pRakfbu84C2",
        "outputId": "a314f17e-908f-4243-f79c-43c96cb944b5"
      },
      "execution_count": 117,
      "outputs": [
        {
          "output_type": "execute_result",
          "data": {
            "text/plain": [
              "[4, 5, 9, 10]"
            ]
          },
          "metadata": {},
          "execution_count": 117
        }
      ]
    },
    {
      "cell_type": "markdown",
      "source": [
        "# Dictionary"
      ],
      "metadata": {
        "id": "Pty7uOHS84f8"
      }
    },
    {
      "cell_type": "markdown",
      "source": [
        "### `Q1`: Key with maximum unique values\n",
        "\n",
        "Given a dictionary with values list, extract key whose value has most unique values.\n",
        "\n",
        "**Example 1:**\n",
        "\n",
        "Input:\n",
        "\n",
        "```bash\n",
        "test_dict = {\"CampusX\" : [5, 7, 9, 4, 0], \"is\" : [6, 7, 4, 3, 3], \"Best\" : [9, 9, 6, 5, 5]}\n",
        "```\n",
        "\n",
        "Output:\n",
        "```bash\n",
        "CampusX\n",
        "```\n",
        "\n",
        "**Example 2:**\n",
        "\n",
        "Input:\n",
        "```bash\n",
        "test_dict = {\"CampusX\" : [5, 7, 7, 7, 7], \"is\" : [6, 7, 7, 7], \"Best\" : [9, 9, 6, 5, 5]}\n",
        "```\n",
        "\n",
        "Output:\n",
        "```bash\n",
        "Best\n",
        "```"
      ],
      "metadata": {
        "id": "bCQfHFPI89AN"
      }
    },
    {
      "cell_type": "code",
      "source": [
        "test_dict = {\"CampusX\" : [5, 7, 9, 4, 0], \"is\" : [6, 7, 4, 3, 3], \"Best\" : [9, 9, 6, 5, 5],\"Python\":[1,2,3,4,5]}\n",
        "res = {}\n",
        "for i in test_dict.items():\n",
        "  res[i[0]] = len(set(i[1]))\n",
        "print(res)\n",
        "for i in res.items():\n",
        "  if i[1] == max(res.values()):\n",
        "    print(i[0])"
      ],
      "metadata": {
        "colab": {
          "base_uri": "https://localhost:8080/"
        },
        "id": "nJ3LEjU3OVrG",
        "outputId": "03b4f661-b5a9-44f3-91ee-fde5eba5160f"
      },
      "execution_count": 16,
      "outputs": [
        {
          "output_type": "stream",
          "name": "stdout",
          "text": [
            "{'CampusX': 5, 'is': 4, 'Best': 3, 'Python': 5}\n",
            "CampusX\n",
            "Python\n"
          ]
        }
      ]
    },
    {
      "cell_type": "code",
      "source": [
        "test_dict = {\"CampusX\" : [5, 7, 9, 4, 0], \"is\" : [6, 7, 4, 3, 3], \"Best\" : [9, 9, 6, 5, 5]}\n",
        "# test_dict = {\"CampusX\" : [5, 7, 7, 7, 7], \"is\" : [6, 7, 7, 7], \"Best\" : [9]}\n",
        "d = {}\n",
        "for i in test_dict:\n",
        "  d[i] = len(set(test_dict[i]))\n",
        "{i for (i,j) in d.items() if j == max(d.values())}"
      ],
      "metadata": {
        "colab": {
          "base_uri": "https://localhost:8080/"
        },
        "id": "zedUPeagPYg4",
        "outputId": "7deaa6ed-0690-4cde-d8dd-c1603b1e88c7"
      },
      "execution_count": 21,
      "outputs": [
        {
          "output_type": "execute_result",
          "data": {
            "text/plain": [
              "{'CampusX'}"
            ]
          },
          "metadata": {},
          "execution_count": 21
        }
      ]
    },
    {
      "cell_type": "markdown",
      "source": [
        "### `Q2`: Replace words from Dictionary. Given String, replace it’s words from lookup dictionary.\n",
        "\n",
        "**Example 1:**\n",
        "\n",
        "Input:\n",
        "\n",
        "```bash\n",
        "test_str = 'CampusX best for DS students.'\n",
        "repl_dict = {\"best\" : \"is the best channel\", \"DS\" : \"Data-Science\"}\n",
        "```\n",
        "\n",
        "Output:\n",
        "\n",
        "```bash\n",
        "CampusX is the best channel for Data-Science students.\n",
        "```\n",
        "\n",
        "**Example 2:**\n",
        "\n",
        "Input:\n",
        "```bash\n",
        "test_str = 'CampusX best for DS students.'\n",
        "repl_dict = {\"good\" : \"is the best channel\", \"ds\" : \"Data-Science\"}\n",
        "```\n",
        "\n",
        "Output:\n",
        "```bash\n",
        "CampusX best for DS students.\n",
        "```"
      ],
      "metadata": {
        "id": "MNX6iCHl9BLY"
      }
    },
    {
      "cell_type": "code",
      "source": [
        "test_str = 'CampusX best for DS students.'\n",
        "# repl_dict = {\"good\" : \"is the best channel\", \"ds\" : \"Data-Science\"}\n",
        "repl_dict = {\"best\" : \"is the best channel\", \"DS\" : \"Data-Science\"}\n",
        "\n",
        "for i in repl_dict:\n",
        "  test_str = test_str.replace(i,repl_dict[i])\n",
        "print(test_str)"
      ],
      "metadata": {
        "colab": {
          "base_uri": "https://localhost:8080/"
        },
        "id": "LaEU-ZCD9EIu",
        "outputId": "4aaac638-6855-464f-a779-0fb969e5968f"
      },
      "execution_count": 26,
      "outputs": [
        {
          "output_type": "stream",
          "name": "stdout",
          "text": [
            "CampusX is the best channel for Data-Science students.\n"
          ]
        }
      ]
    },
    {
      "cell_type": "code",
      "source": [
        "test_str = 'CampusX best for DS students.'\n",
        "repl_dict = {\"best\" : \"is the best channel\", \"DS\" : \"Data-Science\"}\n",
        "\n",
        "L = test_str.split()\n",
        "for i in repl_dict:\n",
        "  if i in test_str:\n",
        "    L[L.index(i)]= repl_dict[i]\n",
        "print(' '.join(L))"
      ],
      "metadata": {
        "colab": {
          "base_uri": "https://localhost:8080/"
        },
        "id": "4yoSrMEnSr_z",
        "outputId": "08d52ef7-d065-4ca4-c16f-d44a46a51298"
      },
      "execution_count": 30,
      "outputs": [
        {
          "output_type": "stream",
          "name": "stdout",
          "text": [
            "CampusX is the best channel for Data-Science students.\n"
          ]
        }
      ]
    },
    {
      "cell_type": "code",
      "source": [
        "test_str = 'CampusX best for DS students.'\n",
        "# repl_dict = {\"good\" : \"is the best channel\", \"ds\" : \"Data-Science\"}\n",
        "repl_dict = {\"best\" : \"is the best channel\", \"DS\" : \"Data-Science\"}\n",
        "\n",
        "L = test_str.split()\n",
        "res = []\n",
        "for i in L:\n",
        "  if i in repl_dict:\n",
        "    res.append(repl_dict[i])\n",
        "  else:\n",
        "    res.append(i)\n",
        "print(\" \".join(res))"
      ],
      "metadata": {
        "colab": {
          "base_uri": "https://localhost:8080/"
        },
        "id": "R3mzwi3qRZ0t",
        "outputId": "584b6661-96d9-42ce-8de4-01064383b154"
      },
      "execution_count": 29,
      "outputs": [
        {
          "output_type": "stream",
          "name": "stdout",
          "text": [
            "CampusX is the best channel for Data-Science students.\n"
          ]
        }
      ]
    },
    {
      "cell_type": "markdown",
      "source": [
        "### `Q3`: Convert List to List of dictionaries. Given list values and keys list, convert these values to key value pairs in form of list of dictionaries.\n",
        "\n",
        "**Example 1:**\n",
        "\n",
        "Input:\n",
        "```bash\n",
        "test_list = [\"DataScience\", 3, \"is\", 8]\n",
        "key_list = [\"name\", \"id\"]\n",
        "```\n",
        "\n",
        "Output:\n",
        "\n",
        "```bash\n",
        "[{'name': 'DataScience', 'id': 3}, {'name': 'is', 'id': 8}]\n",
        "```\n",
        "\n",
        "**Example 2:**\n",
        "\n",
        "Input:\n",
        "```bash\n",
        "test_list = [\"CampusX\", 10]\n",
        "key_list = [\"name\", \"id\"]\n",
        "```\n",
        "\n",
        "Output:\n",
        "\n",
        "```bash\n",
        "[{'name': 'CampusX', 'id': 10}]\n",
        "```"
      ],
      "metadata": {
        "id": "CVDPIM809EhC"
      }
    },
    {
      "cell_type": "code",
      "source": [
        "test_list = [\"DataScience\", 3, \"is\", 8,\"python\",9]\n",
        "key_list = [\"name\", \"id\",\"age\"]\n",
        "L = []\n",
        "for i in range(0,len(test_list),len(key_list)):\n",
        "  res = {}\n",
        "  for j in range(len(key_list)):\n",
        "    res[key_list[j]] = test_list[i+j]\n",
        "  L.append(res)\n",
        "print(L)"
      ],
      "metadata": {
        "colab": {
          "base_uri": "https://localhost:8080/"
        },
        "id": "IJ7sRZRqVmWs",
        "outputId": "7f426fee-a609-44a2-8ab8-42301099d709"
      },
      "execution_count": 41,
      "outputs": [
        {
          "output_type": "stream",
          "name": "stdout",
          "text": [
            "[{'name': 'DataScience', 'id': 3, 'age': 'is'}, {'name': 8, 'id': 'python', 'age': 9}]\n"
          ]
        }
      ]
    },
    {
      "cell_type": "markdown",
      "source": [
        "### `Q4`: Convert a list of Tuples into Dictionary.\n",
        "\n",
        "**Example 1:**\n",
        "\n",
        "Input:\n",
        "```bash\n",
        "[(\"akash\", 10), (\"gaurav\", 12), (\"anand\", 14), (\"suraj\", 20), (\"akhil\", 25), (\"ashish\", 30)]\n",
        "```\n",
        "\n",
        "Output:\n",
        "```bash\n",
        "{'akash': [10], 'gaurav': [12], 'anand': [14], 'suraj': [20], 'akhil': [25], 'ashish': [30]}\n",
        "```\n",
        "\n",
        "**Example 2:**\n",
        "\n",
        "Input:\n",
        "```bash\n",
        "[('A', 1), ('B', 2), ('C', 3)]\n",
        "```\n",
        "\n",
        "Output:\n",
        "```bash\n",
        "{'A': [1], 'B': [2], 'C': [3]}\n",
        "```"
      ],
      "metadata": {
        "id": "J01lJL909H8t"
      }
    },
    {
      "cell_type": "code",
      "source": [
        "# L = [(\"akash\", 10), (\"gaurav\", 12), (\"anand\", 14), (\"suraj\", 20), (\"akhil\", 25), (\"ashish\", 30)]\n",
        "L = [('A', 1), ('B', 2), ('C', 3)]\n",
        "res = {}\n",
        "for i in L:\n",
        "  res[i[0]] = [i[1]]\n",
        "print(res)"
      ],
      "metadata": {
        "colab": {
          "base_uri": "https://localhost:8080/"
        },
        "id": "soEzRXd0Yf1x",
        "outputId": "e016a639-cf1f-47de-90da-c9f024bcbcce"
      },
      "execution_count": 44,
      "outputs": [
        {
          "output_type": "stream",
          "name": "stdout",
          "text": [
            "{'A': [1], 'B': [2], 'C': [3]}\n"
          ]
        }
      ]
    },
    {
      "cell_type": "code",
      "source": [
        "d = [(\"akash\", 10), (\"gaurav\", 12), (\"anand\", 14), (\"suraj\", 20), (\"akhil\", 25), (\"ashish\", 30)]\n",
        "# d = [('A', 1), ('B', 2), ('C', 3)]\n",
        "\n",
        "{i:[dict(d)[i]] for i in dict(d)}"
      ],
      "metadata": {
        "colab": {
          "base_uri": "https://localhost:8080/"
        },
        "id": "8AxEnYC8Y65Y",
        "outputId": "22f69073-9311-4983-87dc-71b4411f9290"
      },
      "execution_count": 46,
      "outputs": [
        {
          "output_type": "execute_result",
          "data": {
            "text/plain": [
              "{'akash': [10],\n",
              " 'gaurav': [12],\n",
              " 'anand': [14],\n",
              " 'suraj': [20],\n",
              " 'akhil': [25],\n",
              " 'ashish': [30]}"
            ]
          },
          "metadata": {},
          "execution_count": 46
        }
      ]
    },
    {
      "cell_type": "markdown",
      "source": [
        "### `Q5`: Sort Dictionary key and values List.\n",
        "\n",
        "**Example 1:**\n",
        "\n",
        "Input:\n",
        "\n",
        "```bash\n",
        "{'c': [3], 'b': [12, 10], 'a': [19, 4]}\n",
        "```\n",
        "\n",
        "Output:\n",
        "\n",
        "```bash\n",
        "{'a': [4, 19], 'b': [10, 12], 'c': [3]}\n",
        "```\n",
        "\n",
        "**Example 2:**\n",
        "\n",
        "Input:\n",
        "\n",
        "```bash\n",
        "{'c': [10, 34, 3]}\n",
        "```\n",
        "\n",
        "Output:\n",
        "\n",
        "```bash\n",
        "{'c': [3, 10, 34]}\n",
        "```"
      ],
      "metadata": {
        "id": "de68I-xn9Lgq"
      }
    },
    {
      "cell_type": "code",
      "source": [
        "d = {'c': [3], 'b': [12, 10], 'a': [19, 4]}\n",
        "# d = {'c': [10, 34, 3]}\n",
        "res = dict(sorted(d.items()))\n",
        "for i in res:\n",
        "  res[i] = sorted(res[i])\n",
        "print(res)"
      ],
      "metadata": {
        "colab": {
          "base_uri": "https://localhost:8080/"
        },
        "id": "0n8vTdVTZy5v",
        "outputId": "0c35f770-607c-4217-fb1f-aca36efa4d8c"
      },
      "execution_count": 59,
      "outputs": [
        {
          "output_type": "stream",
          "name": "stdout",
          "text": [
            "{'a': [4, 19], 'b': [10, 12], 'c': [3]}\n"
          ]
        }
      ]
    },
    {
      "cell_type": "code",
      "source": [
        "d = {'c': [3], 'b': [12, 10], 'a': [19, 4]}\n",
        "# d = {'c': [10, 34, 3]}\n",
        "\n",
        "print(d)\n",
        "{i:sorted(j) for (i,j) in dict(sorted(d.items())).items()}"
      ],
      "metadata": {
        "colab": {
          "base_uri": "https://localhost:8080/"
        },
        "id": "_CwRPVE6bCT9",
        "outputId": "d042b196-b954-4d76-cff3-02011cf9effe"
      },
      "execution_count": 60,
      "outputs": [
        {
          "output_type": "stream",
          "name": "stdout",
          "text": [
            "{'c': [3], 'b': [12, 10], 'a': [19, 4]}\n"
          ]
        },
        {
          "output_type": "execute_result",
          "data": {
            "text/plain": [
              "{'a': [4, 19], 'b': [10, 12], 'c': [3]}"
            ]
          },
          "metadata": {},
          "execution_count": 60
        }
      ]
    },
    {
      "cell_type": "code",
      "source": [
        "{i:sorted(j) for (i,j) in tuple(sorted(d.items()))}"
      ],
      "metadata": {
        "colab": {
          "base_uri": "https://localhost:8080/"
        },
        "id": "1NO1ROgObHdL",
        "outputId": "80bc2e39-5613-42c6-cff3-bd2c68356945"
      },
      "execution_count": 61,
      "outputs": [
        {
          "output_type": "execute_result",
          "data": {
            "text/plain": [
              "{'a': [4, 19], 'b': [10, 12], 'c': [3]}"
            ]
          },
          "metadata": {},
          "execution_count": 61
        }
      ]
    }
  ]
}