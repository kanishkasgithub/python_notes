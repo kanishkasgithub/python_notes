{
  "nbformat": 4,
  "nbformat_minor": 0,
  "metadata": {
    "colab": {
      "provenance": []
    },
    "kernelspec": {
      "name": "python3",
      "display_name": "Python 3"
    },
    "language_info": {
      "name": "python"
    }
  },
  "cells": [
    {
      "cell_type": "markdown",
      "source": [
        "Task-9"
      ],
      "metadata": {
        "id": "dle0fqE_Vwue"
      }
    },
    {
      "cell_type": "markdown",
      "source": [
        "### `Problem-1:` Class inheritence\n",
        "\n",
        "Create a **Bus** child class that inherits from the Vehicle class. The default fare charge of any vehicle is seating capacity * 100. If Vehicle is Bus instance, we need to add an extra 10% on full fare as a maintenance charge. So total fare for bus instance will become the final amount = total fare + 10% of the total fare.\n",
        "\n",
        "Note: The bus seating capacity is 50. so the final fare amount should be 5500. You need to override the fare() method of a Vehicle class in Bus class."
      ],
      "metadata": {
        "id": "Kidg2iCYV4IQ"
      }
    },
    {
      "cell_type": "code",
      "execution_count": 1,
      "metadata": {
        "id": "5NrJ4l9vVsBt"
      },
      "outputs": [],
      "source": [
        "class Vehicle:\n",
        "\n",
        "  def __init__(self,seating_capacity):\n",
        "    self.seating_capacity = seating_capacity\n",
        "\n",
        "  def fare(self):\n",
        "    return self.seating_capacity * 100"
      ]
    },
    {
      "cell_type": "code",
      "source": [
        "class Bus(Vehicle):\n",
        "\n",
        "  def fare(self):\n",
        "    return super().fare() * 1.1"
      ],
      "metadata": {
        "id": "jZLV5RfnXmga"
      },
      "execution_count": 2,
      "outputs": []
    },
    {
      "cell_type": "code",
      "source": [
        "b = Bus(50)"
      ],
      "metadata": {
        "id": "6eNypnHuYzMN"
      },
      "execution_count": 3,
      "outputs": []
    },
    {
      "cell_type": "code",
      "source": [
        "b.fare()"
      ],
      "metadata": {
        "colab": {
          "base_uri": "https://localhost:8080/"
        },
        "id": "UeYmQt9gY1j5",
        "outputId": "7d2e00e6-67ef-4066-9406-09f8d2954055"
      },
      "execution_count": 4,
      "outputs": [
        {
          "output_type": "execute_result",
          "data": {
            "text/plain": [
              "5500.0"
            ]
          },
          "metadata": {},
          "execution_count": 4
        }
      ]
    },
    {
      "cell_type": "markdown",
      "source": [
        "### `Problem-2:` Class Inheritence\n",
        "\n",
        "Create a Bus class that inherits from the Vehicle class. Give the capacity argument of *Bus.seating_capacity()* a default value of 50.\n",
        "\n",
        "Use the following code for your parent Vehicle class."
      ],
      "metadata": {
        "id": "NGj-X4PhV-aq"
      }
    },
    {
      "cell_type": "code",
      "source": [
        "class Vehicle:\n",
        "\n",
        "  def __init__(self,seating_capacity=50):\n",
        "    self.__seating_capacity = seating_capacity\n",
        "\n",
        "  def fare(self):\n",
        "    return self.__seating_capacity * 100\n",
        "\n",
        "  def seating_capacity(self):\n",
        "    return self.__seating_capacity"
      ],
      "metadata": {
        "id": "asrn40ioV_XL"
      },
      "execution_count": 16,
      "outputs": []
    },
    {
      "cell_type": "code",
      "source": [
        "class Bus(Vehicle):\n",
        "\n",
        "  def fare(self):\n",
        "    return super().fare() * 1.1"
      ],
      "metadata": {
        "id": "AbsNeTHLZxyb"
      },
      "execution_count": 17,
      "outputs": []
    },
    {
      "cell_type": "code",
      "source": [
        "b = Bus()"
      ],
      "metadata": {
        "id": "5hBYlEVSars3"
      },
      "execution_count": 18,
      "outputs": []
    },
    {
      "cell_type": "code",
      "source": [
        "b.fare()"
      ],
      "metadata": {
        "colab": {
          "base_uri": "https://localhost:8080/"
        },
        "id": "hBl0ywKxatxo",
        "outputId": "a6e9c352-a411-4d64-9321-ce42cc5d1bac"
      },
      "execution_count": 19,
      "outputs": [
        {
          "output_type": "execute_result",
          "data": {
            "text/plain": [
              "5500.0"
            ]
          },
          "metadata": {},
          "execution_count": 19
        }
      ]
    },
    {
      "cell_type": "code",
      "source": [
        "b.seating_capacity()"
      ],
      "metadata": {
        "colab": {
          "base_uri": "https://localhost:8080/"
        },
        "id": "XL1WPUmha0Sg",
        "outputId": "259994e5-a869-49fa-c407-4ef0e4ecf7fe"
      },
      "execution_count": 20,
      "outputs": [
        {
          "output_type": "execute_result",
          "data": {
            "text/plain": [
              "50"
            ]
          },
          "metadata": {},
          "execution_count": 20
        }
      ]
    },
    {
      "cell_type": "code",
      "source": [
        "b2 = Bus(100)\n",
        "print(b2.seating_capacity())\n",
        "print(b2.fare())"
      ],
      "metadata": {
        "colab": {
          "base_uri": "https://localhost:8080/"
        },
        "id": "9aRZNAlibIJU",
        "outputId": "8b3b2c31-7877-4231-f2c8-3fa98b5d00fd"
      },
      "execution_count": 21,
      "outputs": [
        {
          "output_type": "stream",
          "name": "stdout",
          "text": [
            "100\n",
            "11000.0\n"
          ]
        }
      ]
    },
    {
      "cell_type": "markdown",
      "source": [
        "### `Problem-3:` Write a program that has a class Point. Define another class Location which has two objects (Location & Destination) of class Point. Also define a function in Location that prints the reflection of Destination on the x axis."
      ],
      "metadata": {
        "id": "ahHmwuG4V_0G"
      }
    },
    {
      "cell_type": "code",
      "source": [
        "class Point:\n",
        "\n",
        "  def __init__(self,x,y):\n",
        "    self.x = x\n",
        "    self.y = y\n",
        "\n",
        "  def __str__(self):\n",
        "    return f\"({self.x},{self.y})\"\n",
        "\n",
        "  def __repr__(self):\n",
        "    return f\"({self.x},{self.y})\"\n",
        "\n",
        "class Location:\n",
        "\n",
        "  def __init__(self,x,y):\n",
        "    self.point = Point(x,y)\n",
        "\n",
        "  def __str__(self):\n",
        "    return str(self.point)\n",
        "\n",
        "  def reflect(self):\n",
        "    return Location(self.point.x,-self.point.y)\n",
        "\n",
        "  def __repr__(self):\n",
        "    return str(self.point)"
      ],
      "metadata": {
        "id": "2NgKXPJQWEEB"
      },
      "execution_count": 1,
      "outputs": []
    },
    {
      "cell_type": "code",
      "source": [
        "p1 = Point(1,2)\n",
        "print(p1)"
      ],
      "metadata": {
        "colab": {
          "base_uri": "https://localhost:8080/"
        },
        "id": "FYDVbYTQyLFY",
        "outputId": "8764fcb9-79e6-4476-bf34-f90fc13fc87e"
      },
      "execution_count": 2,
      "outputs": [
        {
          "output_type": "stream",
          "name": "stdout",
          "text": [
            "(1,2)\n"
          ]
        }
      ]
    },
    {
      "cell_type": "code",
      "source": [
        "l = Location(1,2)\n",
        "print(l)"
      ],
      "metadata": {
        "colab": {
          "base_uri": "https://localhost:8080/"
        },
        "id": "u0f8GQv8yOCn",
        "outputId": "4686b8eb-0696-4cc9-d453-cff25e612f1e"
      },
      "execution_count": 3,
      "outputs": [
        {
          "output_type": "stream",
          "name": "stdout",
          "text": [
            "(1,2)\n"
          ]
        }
      ]
    },
    {
      "cell_type": "code",
      "source": [
        "l.reflect()"
      ],
      "metadata": {
        "colab": {
          "base_uri": "https://localhost:8080/"
        },
        "id": "hZD1E38zyUl1",
        "outputId": "2eca949c-ed04-4626-87dc-5ba4704d535f"
      },
      "execution_count": 4,
      "outputs": [
        {
          "output_type": "execute_result",
          "data": {
            "text/plain": [
              "(1,-2)"
            ]
          },
          "metadata": {},
          "execution_count": 4
        }
      ]
    },
    {
      "cell_type": "code",
      "source": [
        "class Point:\n",
        "\n",
        "  def __init__(self,x,y):\n",
        "    self.x = x\n",
        "    self.y = y\n",
        "\n",
        "  def __str__(self):\n",
        "    return '({},{})'.format(self.x,self.y)\n",
        "\n",
        "  def __repr__(self):\n",
        "    return '({},{})'.format(self.x,self.y)\n",
        "\n",
        "class Location:\n",
        "\n",
        "  def __init__(self,location,destination):\n",
        "    self.location = location\n",
        "    self.destination = destination\n",
        "\n",
        "  def __str__(self):\n",
        "    return 'Location {} and Destination {}'.format(self.location,self.destination)\n",
        "\n",
        "  def reflect(self):\n",
        "    return 'Reflection of Destination {}'.format(Point(self.destination.x,-self.destination.y))\n",
        "\n",
        "  def distance(self):\n",
        "    return round(((self.location.x - self.destination.x)**2 + (self.location.y - self.destination.y)**2)**0.5,2)"
      ],
      "metadata": {
        "id": "ldBM0EYKzHJn"
      },
      "execution_count": 31,
      "outputs": []
    },
    {
      "cell_type": "code",
      "source": [
        "p = Point(3,4)\n",
        "print(p)"
      ],
      "metadata": {
        "colab": {
          "base_uri": "https://localhost:8080/"
        },
        "id": "M7k6BIQI0bf5",
        "outputId": "762eb1e7-c19e-456e-cb59-d250a82033d8"
      },
      "execution_count": 26,
      "outputs": [
        {
          "output_type": "stream",
          "name": "stdout",
          "text": [
            "(3,4)\n"
          ]
        }
      ]
    },
    {
      "cell_type": "code",
      "source": [
        "q = Point(5,6)\n",
        "print(q)"
      ],
      "metadata": {
        "colab": {
          "base_uri": "https://localhost:8080/"
        },
        "id": "v6HzFD070fRI",
        "outputId": "52280bcc-c965-49ab-ff91-fdd2c48356cb"
      },
      "execution_count": 27,
      "outputs": [
        {
          "output_type": "stream",
          "name": "stdout",
          "text": [
            "(5,6)\n"
          ]
        }
      ]
    },
    {
      "cell_type": "code",
      "source": [
        "L = Location(p,q)\n",
        "print(L)"
      ],
      "metadata": {
        "colab": {
          "base_uri": "https://localhost:8080/"
        },
        "id": "n_zUFQ6M0hjN",
        "outputId": "767f2127-4049-4504-a07f-465dc36dfdf7"
      },
      "execution_count": 32,
      "outputs": [
        {
          "output_type": "stream",
          "name": "stdout",
          "text": [
            "Location (3,4) and Destination (5,6)\n"
          ]
        }
      ]
    },
    {
      "cell_type": "code",
      "source": [
        "L.reflect()"
      ],
      "metadata": {
        "colab": {
          "base_uri": "https://localhost:8080/",
          "height": 35
        },
        "id": "oyD3Zydz0hgN",
        "outputId": "34e08043-d48a-4fd5-f362-ed92a2202558"
      },
      "execution_count": 33,
      "outputs": [
        {
          "output_type": "execute_result",
          "data": {
            "text/plain": [
              "'Reflection of Destination (5,-6)'"
            ],
            "application/vnd.google.colaboratory.intrinsic+json": {
              "type": "string"
            }
          },
          "metadata": {},
          "execution_count": 33
        }
      ]
    },
    {
      "cell_type": "code",
      "source": [
        "L.distance()"
      ],
      "metadata": {
        "colab": {
          "base_uri": "https://localhost:8080/"
        },
        "id": "mD9gwglC5Xjh",
        "outputId": "094967c1-d490-492c-c26e-07761306028c"
      },
      "execution_count": 34,
      "outputs": [
        {
          "output_type": "execute_result",
          "data": {
            "text/plain": [
              "2.83"
            ]
          },
          "metadata": {},
          "execution_count": 34
        }
      ]
    },
    {
      "cell_type": "markdown",
      "source": [
        "### `Problem-4:` Write a program that has an abstract class Polygon. Derive two classes Rectangle and Triamgle from Polygon and write methods to get the details of their dimensions and hence calculate the area."
      ],
      "metadata": {
        "id": "s65eZ27MWEei"
      }
    },
    {
      "cell_type": "code",
      "source": [
        "from abc import ABC, abstractmethod\n",
        "class Polygon(ABC):\n",
        "\n",
        "  @abstractmethod\n",
        "  def get_area(self):\n",
        "    pass"
      ],
      "metadata": {
        "id": "ChuEsPXXWKQh"
      },
      "execution_count": 28,
      "outputs": []
    },
    {
      "cell_type": "code",
      "source": [
        "class Rectangle(Polygon):\n",
        "\n",
        "  def __init__(self):\n",
        "    self.__length = 0\n",
        "    self.__breadth = 0\n",
        "\n",
        "  def set_length(self,length):\n",
        "    self.__length = length\n",
        "\n",
        "  def set_breadth(self,breadth):\n",
        "    self.__breadth = breadth\n",
        "\n",
        "  def get_length(self):\n",
        "    return self.__length\n",
        "\n",
        "  def get_breadth(self):\n",
        "    return self.__breadth\n",
        "\n",
        "  def get_area(self):\n",
        "    return self.__length * self.__breadth"
      ],
      "metadata": {
        "id": "qWezznLLcjDn"
      },
      "execution_count": 29,
      "outputs": []
    },
    {
      "cell_type": "code",
      "source": [
        "class Triangle(Polygon):\n",
        "\n",
        "  def __init__(self):\n",
        "    self.__base = 0\n",
        "    self.__height = 0\n",
        "\n",
        "  def set_base(self,base):\n",
        "    self.__base = base\n",
        "\n",
        "  def set_height(self,height):\n",
        "    self.__height = height\n",
        "\n",
        "  def get_base(self):\n",
        "    return self.__base\n",
        "\n",
        "  def get_height(self):\n",
        "    return self.__height\n",
        "\n",
        "  def get_area(self):\n",
        "    return 0.5 * self.__base * self.__height"
      ],
      "metadata": {
        "id": "GC671704cqSV"
      },
      "execution_count": 30,
      "outputs": []
    },
    {
      "cell_type": "code",
      "source": [
        "r = Rectangle()\n",
        "r.set_length(10)\n",
        "r.set_breadth(20)"
      ],
      "metadata": {
        "id": "r5tFUxVGczxg"
      },
      "execution_count": 31,
      "outputs": []
    },
    {
      "cell_type": "code",
      "source": [
        "r.get_area()"
      ],
      "metadata": {
        "colab": {
          "base_uri": "https://localhost:8080/"
        },
        "id": "xIvt1AkEc3JB",
        "outputId": "4ad00b18-52ae-42d1-a33b-9962f934d9b0"
      },
      "execution_count": 32,
      "outputs": [
        {
          "output_type": "execute_result",
          "data": {
            "text/plain": [
              "200"
            ]
          },
          "metadata": {},
          "execution_count": 32
        }
      ]
    },
    {
      "cell_type": "code",
      "source": [
        "t = Triangle()\n",
        "t.set_base(10)\n",
        "t.set_height(12)"
      ],
      "metadata": {
        "id": "Na-W_EJUc5Hc"
      },
      "execution_count": 33,
      "outputs": []
    },
    {
      "cell_type": "code",
      "source": [
        "t.get_area()"
      ],
      "metadata": {
        "colab": {
          "base_uri": "https://localhost:8080/"
        },
        "id": "bdulebMWefA8",
        "outputId": "70243920-ee90-4d57-c8cf-e08430b3dc4a"
      },
      "execution_count": 34,
      "outputs": [
        {
          "output_type": "execute_result",
          "data": {
            "text/plain": [
              "60.0"
            ]
          },
          "metadata": {},
          "execution_count": 34
        }
      ]
    },
    {
      "cell_type": "markdown",
      "source": [
        "### `Problem-5:` Write a program with class Bill. The users have the option to pay the bill either by cheque or by cash. Use the inheritance to model this situation."
      ],
      "metadata": {
        "id": "Ovjce8vGWO6b"
      }
    },
    {
      "cell_type": "code",
      "source": [
        "from abc import ABC, abstractmethod\n",
        "class Payment(ABC):\n",
        "\n",
        "  @abstractmethod\n",
        "  def pay(self):\n",
        "    pass"
      ],
      "metadata": {
        "id": "L98xTRHuWODT"
      },
      "execution_count": 50,
      "outputs": []
    },
    {
      "cell_type": "code",
      "source": [
        "class Cash(Payment):\n",
        "\n",
        "  def pay(self):\n",
        "    print(\"Paid by Cash\")"
      ],
      "metadata": {
        "id": "oh2CdjCgevwY"
      },
      "execution_count": 51,
      "outputs": []
    },
    {
      "cell_type": "code",
      "source": [
        "class Cheque(Payment):\n",
        "\n",
        "  def pay(self):\n",
        "    print(\"Paid by Cheque\")"
      ],
      "metadata": {
        "id": "SLaMhKVAey4r"
      },
      "execution_count": 52,
      "outputs": []
    },
    {
      "cell_type": "code",
      "source": [
        "class Bill(Cash,Cheque):\n",
        "\n",
        "  def __init__(self,payment):\n",
        "    self.payment = payment\n",
        "\n",
        "  def pay(self):\n",
        "    self.payment.pay()"
      ],
      "metadata": {
        "id": "6aHslClde2j8"
      },
      "execution_count": 53,
      "outputs": []
    },
    {
      "cell_type": "code",
      "source": [
        "b = Bill(Cheque())"
      ],
      "metadata": {
        "id": "IbefH6bpfqJi"
      },
      "execution_count": 54,
      "outputs": []
    },
    {
      "cell_type": "code",
      "source": [
        "b.pay()"
      ],
      "metadata": {
        "colab": {
          "base_uri": "https://localhost:8080/"
        },
        "id": "MyIH09BAftmD",
        "outputId": "f9b0cb5a-2e33-42d9-fc0b-6a577736a2c0"
      },
      "execution_count": 55,
      "outputs": [
        {
          "output_type": "stream",
          "name": "stdout",
          "text": [
            "Paid by Cheque\n"
          ]
        }
      ]
    },
    {
      "cell_type": "code",
      "source": [
        "c = Bill(Cash())\n",
        "c.pay()"
      ],
      "metadata": {
        "colab": {
          "base_uri": "https://localhost:8080/"
        },
        "id": "8DxzGbcKgIIZ",
        "outputId": "d552a146-2631-42c3-8994-f81e7d996735"
      },
      "execution_count": 57,
      "outputs": [
        {
          "output_type": "stream",
          "name": "stdout",
          "text": [
            "Paid by Cash\n"
          ]
        }
      ]
    },
    {
      "cell_type": "markdown",
      "source": [
        "###`Q-6:` FlexibleDict\n",
        "As of now we are accessing values from dictionary with exact keys. Now we want to amend accessing values functionality. if a dict have key `1` (int) the even if we try to access values by giving `'1'` (1 as str) as key, we should get the same result and vice versa.\n",
        "\n",
        "Write a class `FlexibleDict` upon builtin `dict` class with above required functionality.\n",
        "\n",
        "Hint- `dict[key] => dict.__getitem__(key)`"
      ],
      "metadata": {
        "id": "oXRFucbsWRNQ"
      }
    },
    {
      "cell_type": "markdown",
      "source": [
        "Ex.\n",
        "```\n",
        "fd = FlexibleDict()\n",
        "fd['a'] = 100\n",
        "print(fd['a']) # Like regular dict\n",
        "\n",
        "fd[5] = 500\n",
        "print(fd[5]) # Like regular dict\n",
        "\n",
        "fd[1] = 100\n",
        "print(fd['1']) # actual Key is int but still trying to access through str key.\n",
        "fd['1'] = 100\n",
        "print(fd[1])\n",
        "\n",
        "```\n",
        "`Output:`\n",
        "```\n",
        "100\n",
        "500\n",
        "100\n",
        "100\n",
        "\n",
        "```"
      ],
      "metadata": {
        "id": "C0ol5RrgWUG-"
      }
    },
    {
      "cell_type": "code",
      "source": [
        "class FlexibleDict():\n",
        "\n",
        "  def __init__(self,d):\n",
        "    self.d = d\n",
        "\n",
        "  def __getitem__(self,key):\n",
        "    if key in self.d:\n",
        "      return self.d[key]\n",
        "    elif int(key) in self.d:\n",
        "      return self.d[int(key)]\n",
        "    elif str(key) in self.d:\n",
        "      return self.d[str(key)]\n",
        "    else:\n",
        "      return 'Key Not Present'\n",
        "\n",
        "  def __str__(self):\n",
        "    return str(self.d)"
      ],
      "metadata": {
        "id": "aHkOBbHQ6ejs"
      },
      "execution_count": 62,
      "outputs": []
    },
    {
      "cell_type": "code",
      "source": [
        "d = {1:'apple','2':'banana',3:'pineapple'}\n",
        "fd = FlexibleDict(d)\n",
        "print(fd)"
      ],
      "metadata": {
        "colab": {
          "base_uri": "https://localhost:8080/"
        },
        "id": "s5tp3Xyd7M2w",
        "outputId": "2f25bf54-b762-463a-a867-6cd6ae212f7c"
      },
      "execution_count": 63,
      "outputs": [
        {
          "output_type": "stream",
          "name": "stdout",
          "text": [
            "{1: 'apple', '2': 'banana', 3: 'pineapple'}\n"
          ]
        }
      ]
    },
    {
      "cell_type": "code",
      "source": [
        "print(fd[1])"
      ],
      "metadata": {
        "colab": {
          "base_uri": "https://localhost:8080/"
        },
        "id": "pvloRy3j7Vay",
        "outputId": "2101ec09-6b44-4f32-f6eb-9b705cba74d9"
      },
      "execution_count": 64,
      "outputs": [
        {
          "output_type": "stream",
          "name": "stdout",
          "text": [
            "apple\n"
          ]
        }
      ]
    },
    {
      "cell_type": "code",
      "source": [
        "print(fd['1'])"
      ],
      "metadata": {
        "colab": {
          "base_uri": "https://localhost:8080/"
        },
        "id": "HhIaljD97WeG",
        "outputId": "518e6563-3bbc-466b-e125-176b3f00b127"
      },
      "execution_count": 65,
      "outputs": [
        {
          "output_type": "stream",
          "name": "stdout",
          "text": [
            "apple\n"
          ]
        }
      ]
    },
    {
      "cell_type": "code",
      "source": [
        "print(fd[2])"
      ],
      "metadata": {
        "colab": {
          "base_uri": "https://localhost:8080/"
        },
        "id": "P4Nn-SKl_DA8",
        "outputId": "87a0a983-b138-4263-af50-3ddf24d45276"
      },
      "execution_count": 66,
      "outputs": [
        {
          "output_type": "stream",
          "name": "stdout",
          "text": [
            "banana\n"
          ]
        }
      ]
    },
    {
      "cell_type": "code",
      "source": [
        "print(fd[4])"
      ],
      "metadata": {
        "colab": {
          "base_uri": "https://localhost:8080/"
        },
        "id": "Xcb4JDQ1_FC_",
        "outputId": "342d6a43-b3e8-441c-c240-4a37053513f9"
      },
      "execution_count": 67,
      "outputs": [
        {
          "output_type": "stream",
          "name": "stdout",
          "text": [
            "Key Not Present\n"
          ]
        }
      ]
    },
    {
      "cell_type": "code",
      "source": [
        "help(dict.__getitem__)"
      ],
      "metadata": {
        "colab": {
          "base_uri": "https://localhost:8080/"
        },
        "id": "d6FdGYCM9sNk",
        "outputId": "e1e2559f-9cc7-493d-8b4a-198222a09e3b"
      },
      "execution_count": 61,
      "outputs": [
        {
          "output_type": "stream",
          "name": "stdout",
          "text": [
            "Help on method_descriptor:\n",
            "\n",
            "__getitem__(...)\n",
            "    x.__getitem__(y) <==> x[y]\n",
            "\n"
          ]
        }
      ]
    }
  ]
}