{
  "nbformat": 4,
  "nbformat_minor": 0,
  "metadata": {
    "colab": {
      "provenance": []
    },
    "kernelspec": {
      "name": "python3",
      "display_name": "Python 3"
    },
    "language_info": {
      "name": "python"
    }
  },
  "cells": [
    {
      "cell_type": "markdown",
      "source": [
        "Task-6"
      ],
      "metadata": {
        "id": "qCLK9Z7Nt-G3"
      }
    },
    {
      "cell_type": "markdown",
      "source": [
        "### **`Problem-1:`** Write a Python function that takes a list and returns a new list with unique elements of the first list.\n",
        "\n",
        "**Exercise 1:**\n",
        "\n",
        "Input:\n",
        "\n",
        "```bash\n",
        "[1,2,3,3,3,3,4,5]\n",
        "```\n",
        "\n",
        "Output:\n",
        "\n",
        "```bash\n",
        "[1, 2, 3, 4, 5]\n",
        "```"
      ],
      "metadata": {
        "id": "MfGpcM-ru7PQ"
      }
    },
    {
      "cell_type": "code",
      "execution_count": 1,
      "metadata": {
        "id": "Udpu3XfXtxOZ"
      },
      "outputs": [],
      "source": [
        "def unique_list(l):\n",
        "  return list(set(l))"
      ]
    },
    {
      "cell_type": "code",
      "source": [
        "L = [1,2,3,3,3,3,4,5]\n",
        "unique_list(L)"
      ],
      "metadata": {
        "colab": {
          "base_uri": "https://localhost:8080/"
        },
        "id": "HPjH-mQQvJ23",
        "outputId": "36c63354-6c29-438c-a5b2-a6d8a79dda18"
      },
      "execution_count": 4,
      "outputs": [
        {
          "output_type": "execute_result",
          "data": {
            "text/plain": [
              "[1, 2, 3, 4, 5]"
            ]
          },
          "metadata": {},
          "execution_count": 4
        }
      ]
    },
    {
      "cell_type": "markdown",
      "source": [
        "### **`Problem-2:`** Write a Python function that accepts a hyphen-separated sequence of words as parameter and returns the words in a hyphen-separated sequence after sorting them alphabetically.\n",
        "\n",
        "**Example 1:**\n",
        "\n",
        "Input:\n",
        "```bash\n",
        "green-red-yellow-black-white\n",
        "```\n",
        "\n",
        "Output:\n",
        "```bash\n",
        "black-green-red-white-yellow\n",
        "```"
      ],
      "metadata": {
        "id": "mqc2BCa7voVg"
      }
    },
    {
      "cell_type": "code",
      "source": [
        "def hypen_sorted(s):\n",
        "  L = sorted(s.split(\"-\"))\n",
        "  return \"-\".join(L)"
      ],
      "metadata": {
        "id": "-XatCUaewzRe"
      },
      "execution_count": 8,
      "outputs": []
    },
    {
      "cell_type": "code",
      "source": [
        "s = 'green-red-yellow-black-white'\n",
        "hypen_sorted(s)"
      ],
      "metadata": {
        "colab": {
          "base_uri": "https://localhost:8080/",
          "height": 35
        },
        "id": "UdqiotMJw7Vc",
        "outputId": "3dff8517-dd7e-4292-cc8d-9264bac3651f"
      },
      "execution_count": 9,
      "outputs": [
        {
          "output_type": "execute_result",
          "data": {
            "text/plain": [
              "'black-green-red-white-yellow'"
            ],
            "application/vnd.google.colaboratory.intrinsic+json": {
              "type": "string"
            }
          },
          "metadata": {},
          "execution_count": 9
        }
      ]
    },
    {
      "cell_type": "markdown",
      "source": [
        "### **`Problem 3:`** Write a Python function that accepts a string and calculate the number of upper case letters and lower case letters.\n",
        "\n",
        "```\n",
        "Sample String : 'CampusX is an Online Mentorship Program fOr EnginEering studentS.'\n",
        "Expected Output :\n",
        "No. of Upper case characters :  9\n",
        "No. of Lower case Characters :  47\n",
        "```"
      ],
      "metadata": {
        "id": "DuTczme5ycdC"
      }
    },
    {
      "cell_type": "code",
      "source": [
        "def upper_lower(s):\n",
        "  ucount = 0\n",
        "  lcount = 0\n",
        "  for i in s:\n",
        "    if i.isupper():\n",
        "      ucount += 1\n",
        "    elif i.islower():\n",
        "      lcount += 1\n",
        "    else:\n",
        "      pass\n",
        "  print(\"No. of Upper case characters :\",ucount)\n",
        "  print(\"No. of Lower case Characters :\",lcount)"
      ],
      "metadata": {
        "id": "uQMPN8Asyh3d"
      },
      "execution_count": 12,
      "outputs": []
    },
    {
      "cell_type": "code",
      "source": [
        "s = 'CampusX is an Online Mentorship Program fOr EnginEering studentS.'\n",
        "upper_lower(s)"
      ],
      "metadata": {
        "colab": {
          "base_uri": "https://localhost:8080/"
        },
        "id": "Q3S6riw0zC-q",
        "outputId": "9a852a92-3e92-4675-fca8-de0677a3d150"
      },
      "execution_count": 13,
      "outputs": [
        {
          "output_type": "stream",
          "name": "stdout",
          "text": [
            "No. of Upper case characters : 9\n",
            "No. of Lower case Characters : 47\n"
          ]
        }
      ]
    },
    {
      "cell_type": "markdown",
      "source": [
        "### **`Problem 4:`** Write a Python program to print the even numbers from a given list.\n",
        "```\n",
        "Sample List : [1, 2, 3, 4, 5, 6, 7, 8, 9]\n",
        "Expected Result : [2, 4, 6, 8]\n",
        "```"
      ],
      "metadata": {
        "id": "OJTEgj7QzmLE"
      }
    },
    {
      "cell_type": "code",
      "source": [
        "def even(L):\n",
        "  even_list = []\n",
        "  for i in L:\n",
        "    if i%2 == 0:\n",
        "      even_list.append(i)\n",
        "  return even_list"
      ],
      "metadata": {
        "id": "gLfQ0yIHzr4U"
      },
      "execution_count": 14,
      "outputs": []
    },
    {
      "cell_type": "code",
      "source": [
        "def even(l):\n",
        "  L = [i for i in l if i%2==0]\n",
        "  return L"
      ],
      "metadata": {
        "id": "PQZwCeqN06Rh"
      },
      "execution_count": 18,
      "outputs": []
    },
    {
      "cell_type": "code",
      "source": [
        "L = [1, 2, 3, 4, 5, 6, 7, 8, 9]\n",
        "even(L)"
      ],
      "metadata": {
        "colab": {
          "base_uri": "https://localhost:8080/"
        },
        "id": "t_7-76a8zxyA",
        "outputId": "873e676e-29a2-4b6e-c09e-843cdacf6539"
      },
      "execution_count": 19,
      "outputs": [
        {
          "output_type": "execute_result",
          "data": {
            "text/plain": [
              "[2, 4, 6, 8]"
            ]
          },
          "metadata": {},
          "execution_count": 19
        }
      ]
    },
    {
      "cell_type": "markdown",
      "source": [
        "### **`Problem 5:`** Write a Python function to check whether a number is perfect or not.\n",
        "\n",
        "A Perfect number is a number that is half the sum of all of its positive divisors (including itself).\n",
        "\n",
        "Example :\n",
        "\n",
        "```\n",
        "The first perfect number is 6, because 1, 2, and 3 are its proper positive divisors, and 1 + 2 + 3 = 6.\n",
        "Equivalently, the number 6 is equal to half the sum of all its positive divisors: ( 1 + 2 + 3 + 6 ) / 2 = 6.\n",
        "\n",
        "The next perfect number is 28 = 1 + 2 + 4 + 7 + 14. This is followed by the perfect numbers 496 and 8128.\n",
        "```\n"
      ],
      "metadata": {
        "id": "GfX14K9i0e8-"
      }
    },
    {
      "cell_type": "code",
      "source": [
        "def perfect(n):\n",
        "  sum = 0\n",
        "  for i in range(1,n):\n",
        "    if n%i == 0:\n",
        "      sum += i\n",
        "  if sum == n:\n",
        "    return 'Perfect'\n",
        "  else:\n",
        "    return 'Not Perfect'"
      ],
      "metadata": {
        "id": "NSz3_LKa1n3m"
      },
      "execution_count": 20,
      "outputs": []
    },
    {
      "cell_type": "code",
      "source": [
        "def perfect(n):\n",
        "  L = [i for i in range(1,n) if n%i == 0]\n",
        "  if sum(L) == n:\n",
        "    return 'Perfect'\n",
        "  else:\n",
        "    return 'Not Perfect'"
      ],
      "metadata": {
        "id": "eZwQqkSi2xc1"
      },
      "execution_count": 26,
      "outputs": []
    },
    {
      "cell_type": "code",
      "source": [
        "n = int(input(\"Enter a number : \"))\n",
        "perfect(n)"
      ],
      "metadata": {
        "colab": {
          "base_uri": "https://localhost:8080/",
          "height": 53
        },
        "id": "Q8SyK9EB2D-S",
        "outputId": "a559f5c6-cd6a-4ae3-fc9c-aebd88c34a55"
      },
      "execution_count": 42,
      "outputs": [
        {
          "name": "stdout",
          "output_type": "stream",
          "text": [
            "Enter a number : 8128\n"
          ]
        },
        {
          "output_type": "execute_result",
          "data": {
            "text/plain": [
              "'Perfect'"
            ],
            "application/vnd.google.colaboratory.intrinsic+json": {
              "type": "string"
            }
          },
          "metadata": {},
          "execution_count": 42
        }
      ]
    },
    {
      "cell_type": "markdown",
      "source": [
        "### **`Problem-6:`** Write a Python function to concatenate any no of dictionaries to create a new one.\n",
        "\n",
        "```\n",
        "Sample Dictionary :\n",
        "dic1={1:10, 2:20}\n",
        "dic2={3:30, 4:40}\n",
        "dic3={5:50,6:60}\n",
        "Expected Result : {1: 10, 2: 20, 3: 30, 4: 40, 5: 50, 6: 60}\n",
        "```"
      ],
      "metadata": {
        "id": "gaet9Os22n7m"
      }
    },
    {
      "cell_type": "code",
      "source": [
        "def concate(*args):\n",
        "  d = {}\n",
        "  # print(args)\n",
        "  for i in args:\n",
        "    d.update(i)\n",
        "  return d"
      ],
      "metadata": {
        "id": "xTAMJ-MK2TV-"
      },
      "execution_count": 43,
      "outputs": []
    },
    {
      "cell_type": "code",
      "source": [
        "dic1={1:10, 2:20}\n",
        "dic2={3:30, 4:40}\n",
        "dic3={5:50,6:60}\n",
        "concate(dic1,dic2,dic3)"
      ],
      "metadata": {
        "colab": {
          "base_uri": "https://localhost:8080/"
        },
        "id": "Y-KufnPx3zqF",
        "outputId": "aa8550fa-f678-4d2b-9394-03a95cde804f"
      },
      "execution_count": 44,
      "outputs": [
        {
          "output_type": "execute_result",
          "data": {
            "text/plain": [
              "{1: 10, 2: 20, 3: 30, 4: 40, 5: 50, 6: 60}"
            ]
          },
          "metadata": {},
          "execution_count": 44
        }
      ]
    },
    {
      "cell_type": "markdown",
      "source": [
        "`Problem-7` Write a python function that accepts a string as input and returns the word with most occurence.\n",
        "\n",
        "```\n",
        "Input:\n",
        "hello how are you i am fine thank you\n",
        "```\n",
        "\n",
        "```\n",
        "Output\n",
        "you -> 2\n",
        "```"
      ],
      "metadata": {
        "id": "bVjhA7OAvv4Y"
      }
    },
    {
      "cell_type": "code",
      "source": [
        "def most_occurence(s):\n",
        "  L = s.split()\n",
        "  d = {}\n",
        "  for i in L:\n",
        "    d[i] = L.count(i)\n",
        "  m = max(d.values())\n",
        "  for k,v in d.items():\n",
        "    if v == m:\n",
        "      print('{} -> {}'.format(k,v))"
      ],
      "metadata": {
        "id": "wgFL4tOlwCTk"
      },
      "execution_count": 12,
      "outputs": []
    },
    {
      "cell_type": "code",
      "source": [
        "s = input(\"Enter a string : \")\n",
        "most_occurence(s)"
      ],
      "metadata": {
        "colab": {
          "base_uri": "https://localhost:8080/"
        },
        "id": "y9JwrSdgyKmz",
        "outputId": "0ff07743-c469-4cae-9d43-fa7a03018967"
      },
      "execution_count": 24,
      "outputs": [
        {
          "output_type": "stream",
          "name": "stdout",
          "text": [
            "Enter a string : hello how are you i am fine thank you\n",
            "you -> 2\n"
          ]
        }
      ]
    },
    {
      "cell_type": "code",
      "source": [
        "def most_occurence(s):\n",
        "  l = s.split()\n",
        "  d={}\n",
        "  for i in l:\n",
        "    d[i]=l.count(i)\n",
        "  res = {i:j for (i,j) in d.items() if j==max(d.values())}\n",
        "  for i in res:\n",
        "    print(i,'->',res[i])"
      ],
      "metadata": {
        "id": "Buc7abF2yuwR"
      },
      "execution_count": 23,
      "outputs": []
    },
    {
      "cell_type": "markdown",
      "source": [
        "`Problem-8` Write a python function that receives a list of integers and prints out a histogram of bin size 10\n",
        "\n",
        "```\n",
        "Input:\n",
        "[13,42,15,37,22,39,41,50]\n",
        "```\n",
        "\n",
        "```\n",
        "Output:\n",
        "{11-20:2,21-30:1,31-40:2,41-50:3}\n",
        "```"
      ],
      "metadata": {
        "id": "-5aky5oYzMba"
      }
    },
    {
      "cell_type": "code",
      "source": [
        "def histogram(list1):\n",
        "  list1.sort()\n",
        "\n",
        "  start = (list1[0]//10)*10\n",
        "\n",
        "  end = list1[-1]\n",
        "  if end%10!=0:\n",
        "    end = ((list1[-1]//10)+1)*10\n",
        "\n",
        "  d = {}\n",
        "  for i in range(start,end,10):\n",
        "    key = str(i+1)+'-'+str(i+10)\n",
        "    d[key] = len([j for j in list1 if j>i and j<=(i+10)])\n",
        "\n",
        "  return d"
      ],
      "metadata": {
        "id": "l06pvqt7zSah"
      },
      "execution_count": 47,
      "outputs": []
    },
    {
      "cell_type": "code",
      "source": [
        "list1 = [13,42,15,37,22,39,41,50,67,87,93]\n",
        "print(histogram(list1))"
      ],
      "metadata": {
        "colab": {
          "base_uri": "https://localhost:8080/"
        },
        "id": "5i-8q-Ml99ez",
        "outputId": "26add034-fbfa-4a9f-af58-b3a778434cc8"
      },
      "execution_count": 48,
      "outputs": [
        {
          "output_type": "stream",
          "name": "stdout",
          "text": [
            "{'11-20': 2, '21-30': 1, '31-40': 2, '41-50': 3, '51-60': 0, '61-70': 1, '71-80': 0, '81-90': 1, '91-100': 1}\n"
          ]
        }
      ]
    },
    {
      "cell_type": "markdown",
      "source": [
        "`Problem-9` Write a python function that accepts a list of 2D co-ordinates and a query point, and then finds the the co-ordinate which is closest in terms of distance from the query point.\n",
        "\n",
        "```\n",
        "List of Coordinates\n",
        "[(1,1),(2,2),(3,3),(4,4)]\n",
        "Query Point\n",
        "(0,0)\n",
        "```\n",
        "\n",
        "```\n",
        "Output\n",
        "Nearest to (0,0) is (1,1)\n",
        "```"
      ],
      "metadata": {
        "id": "jFjqWJ8azbuW"
      }
    },
    {
      "cell_type": "code",
      "source": [
        "def closest(p,l):\n",
        "  d = {}\n",
        "  for i in l:\n",
        "    d[i] = ((i[0]-p[0])**2+(i[1]-p[1])**2)**0.5\n",
        "  res = {i:j for (i,j) in d.items() if j==min(d.values())}\n",
        "  print('Nearest to',p,'is ',end='')\n",
        "  for i in res:\n",
        "    print(i,end=' ')"
      ],
      "metadata": {
        "id": "G0bQcXCU2LkW"
      },
      "execution_count": 50,
      "outputs": []
    },
    {
      "cell_type": "code",
      "source": [
        "qp = (0,0)\n",
        "L = [(1,1),(2,2),(3,3),(4,4)]\n",
        "closest(qp,L)"
      ],
      "metadata": {
        "colab": {
          "base_uri": "https://localhost:8080/"
        },
        "id": "W59S0geT2ORf",
        "outputId": "19f41942-9a43-4184-ef64-a3ff72a8be62"
      },
      "execution_count": 53,
      "outputs": [
        {
          "output_type": "stream",
          "name": "stdout",
          "text": [
            "Nearest to (0, 0) is (1, 1) "
          ]
        }
      ]
    },
    {
      "cell_type": "markdown",
      "source": [
        "`Problem-10`:Write a python program that receives a list of strings and performs bag of word operation on those strings\n",
        "\n",
        "https://en.wikipedia.org/wiki/Bag-of-words_model"
      ],
      "metadata": {
        "id": "IhcmzxWt2ov8"
      }
    },
    {
      "cell_type": "code",
      "source": [
        "def bag_of_word(l):\n",
        "  d = {}\n",
        "  res = [(j.lower()).strip(\".\") for i in l for j in i.split()]\n",
        "  # print(res)\n",
        "  for i in res:\n",
        "    d[i] = res.count(i)\n",
        "  return d"
      ],
      "metadata": {
        "id": "Q5aW5tbL8_3m"
      },
      "execution_count": 44,
      "outputs": []
    },
    {
      "cell_type": "code",
      "source": [
        "s1 = 'John likes to watch movies.'\n",
        "s2 = 'Mary likes movies too.'\n",
        "s3 = 'Mary also likes to watch football games.'\n",
        "s = [s1,s2,s3]\n",
        "bag_of_word(s)"
      ],
      "metadata": {
        "colab": {
          "base_uri": "https://localhost:8080/"
        },
        "id": "AmSmhmTs80RA",
        "outputId": "3b1ec9e8-7563-40cb-8377-c8938c1ef132"
      },
      "execution_count": 46,
      "outputs": [
        {
          "output_type": "execute_result",
          "data": {
            "text/plain": [
              "{'john': 1,\n",
              " 'likes': 3,\n",
              " 'to': 2,\n",
              " 'watch': 2,\n",
              " 'movies': 2,\n",
              " 'mary': 2,\n",
              " 'too': 1,\n",
              " 'also': 1,\n",
              " 'football': 1,\n",
              " 'games': 1}"
            ]
          },
          "metadata": {},
          "execution_count": 46
        }
      ]
    },
    {
      "cell_type": "markdown",
      "source": [
        "###`Problem 11:` Write a Python program to add three given lists using Python map and lambda."
      ],
      "metadata": {
        "id": "2g3QwXDV3GqX"
      }
    },
    {
      "cell_type": "code",
      "source": [
        "L = [1,2,3,4,5]\n",
        "M = [4,5,6,6,7]\n",
        "N = [7,8,9,10,8]\n",
        "list(map(lambda x:sum(x),zip(L,M,N)))"
      ],
      "metadata": {
        "colab": {
          "base_uri": "https://localhost:8080/"
        },
        "id": "BWAA6Axu3KFn",
        "outputId": "c00ae01f-085c-4d13-efec-00a1f5c1b002"
      },
      "execution_count": 65,
      "outputs": [
        {
          "output_type": "execute_result",
          "data": {
            "text/plain": [
              "[12, 15, 18, 20, 20]"
            ]
          },
          "metadata": {},
          "execution_count": 65
        }
      ]
    },
    {
      "cell_type": "code",
      "source": [
        "list(map(lambda x,y,z:x+y+z,L,M,N))"
      ],
      "metadata": {
        "colab": {
          "base_uri": "https://localhost:8080/"
        },
        "id": "T4fCQsnR5Gl2",
        "outputId": "1e154d6c-fa4a-4213-b64e-28764b42d9d9"
      },
      "execution_count": 66,
      "outputs": [
        {
          "output_type": "execute_result",
          "data": {
            "text/plain": [
              "[12, 15, 18, 20, 20]"
            ]
          },
          "metadata": {},
          "execution_count": 66
        }
      ]
    },
    {
      "cell_type": "markdown",
      "source": [
        "###`Problem-12:`Write a Python program to create a list containing the power of said number in bases raised to the corresponding number in the index using Python map.\n",
        "`Input:`\n",
        "```\n",
        "list1 = [1,2,3,4,5,6]\n",
        "```\n",
        "`Output:`\n",
        "```\n",
        "[1,2,9,64,625,-]\n",
        "```\n"
      ],
      "metadata": {
        "id": "qGB7TBdF3KqZ"
      }
    },
    {
      "cell_type": "code",
      "source": [
        "list1 = [1,2,3,4,5,6]\n",
        "list(map(lambda x,i:x**i,list1,range(len(list1))))"
      ],
      "metadata": {
        "colab": {
          "base_uri": "https://localhost:8080/"
        },
        "id": "4NdmqoCn7UkO",
        "outputId": "cde1b923-2248-4153-8845-546aada47aa2"
      },
      "execution_count": 68,
      "outputs": [
        {
          "output_type": "execute_result",
          "data": {
            "text/plain": [
              "[1, 2, 9, 64, 625, 7776]"
            ]
          },
          "metadata": {},
          "execution_count": 68
        }
      ]
    },
    {
      "cell_type": "code",
      "source": [
        "list1 = [1,2,3,4,5,6]\n",
        "list(map(lambda x,i:x**i,list1[:len(list1)-1],range(len(list1)-1)))+['-']"
      ],
      "metadata": {
        "colab": {
          "base_uri": "https://localhost:8080/"
        },
        "id": "gD9ji5Ydh4gn",
        "outputId": "189bb357-ac56-424d-9b6e-248006aea827"
      },
      "execution_count": 23,
      "outputs": [
        {
          "output_type": "execute_result",
          "data": {
            "text/plain": [
              "[1, 2, 9, 64, 625, '-']"
            ]
          },
          "metadata": {},
          "execution_count": 23
        }
      ]
    },
    {
      "cell_type": "markdown",
      "source": [
        "###`Problem-13` Using filter() and list() functions and .lower() method filter all the vowels in a given string.\n",
        "\n"
      ],
      "metadata": {
        "id": "kT4vhT4-3O6I"
      }
    },
    {
      "cell_type": "code",
      "source": [
        "# s = 'CampusX is an Online Mentorship Program fOr EnginEering studentS.'\n",
        "s = input('Enter string: ')\n",
        "list(set(filter(lambda x:x.lower() in 'aeiou',s)))"
      ],
      "metadata": {
        "colab": {
          "base_uri": "https://localhost:8080/"
        },
        "id": "PLSu9vJ03R2V",
        "outputId": "cc6671c5-6306-49a0-8fed-3ece87d75ef1"
      },
      "execution_count": 17,
      "outputs": [
        {
          "name": "stdout",
          "output_type": "stream",
          "text": [
            "Enter string: MACHine LearnIng\n"
          ]
        },
        {
          "output_type": "execute_result",
          "data": {
            "text/plain": [
              "['e', 'I', 'A', 'a', 'i']"
            ]
          },
          "metadata": {},
          "execution_count": 17
        }
      ]
    },
    {
      "cell_type": "markdown",
      "source": [
        "`Problem-14`: Use reduce to convert a 2D list to 1D"
      ],
      "metadata": {
        "id": "ZIFwYWxD3SaF"
      }
    },
    {
      "cell_type": "code",
      "source": [
        "import functools\n",
        "from functools import reduce\n",
        "L = [[1,2,3],[4,5,6],[7,8,9],[10,11,12]]\n",
        "list(reduce(lambda x,y:x+y,L))"
      ],
      "metadata": {
        "colab": {
          "base_uri": "https://localhost:8080/"
        },
        "id": "5yVpmnHg3VRJ",
        "outputId": "9f9ed930-e6db-467e-cdab-f2090101974f"
      },
      "execution_count": 11,
      "outputs": [
        {
          "output_type": "execute_result",
          "data": {
            "text/plain": [
              "[1, 2, 3, 4, 5, 6, 7, 8, 9, 10, 11, 12]"
            ]
          },
          "metadata": {},
          "execution_count": 11
        }
      ]
    },
    {
      "cell_type": "code",
      "source": [
        "[j for i in L for j in i]"
      ],
      "metadata": {
        "colab": {
          "base_uri": "https://localhost:8080/"
        },
        "id": "WLBue1VrdsiB",
        "outputId": "b0b6035a-4ca8-400b-8a19-0341dd702fd7"
      },
      "execution_count": 12,
      "outputs": [
        {
          "output_type": "execute_result",
          "data": {
            "text/plain": [
              "[1, 2, 3, 4, 5, 6, 7, 8, 9, 10, 11, 12]"
            ]
          },
          "metadata": {},
          "execution_count": 12
        }
      ]
    },
    {
      "cell_type": "markdown",
      "source": [
        "`Problem 15`- A dictionary contains following information about 5 employees:\n",
        "- First name\n",
        "- Last name\n",
        "- Age\n",
        "- Grade(Skilled,Semi-skilled,Highly skilled)<br>\n",
        "Write a program using map/filter/reduce to a list of employees(first name + last name) who are highly skilled"
      ],
      "metadata": {
        "id": "aQILiIl93V3e"
      }
    },
    {
      "cell_type": "code",
      "source": [
        "# Write code here\n",
        "employees = [\n",
        "    {\n",
        "        'fname':'Nitish',\n",
        "        'lname':'Singh',\n",
        "        'age' : 33,\n",
        "        'grade':'skilled'\n",
        "    },\n",
        "    {\n",
        "        'fname':'Ankit',\n",
        "        'lname':'Verma',\n",
        "        'age' : 34,\n",
        "        'grade':'semi-skilled'\n",
        "    },\n",
        "    {\n",
        "        'fname':'Neha',\n",
        "        'lname':'Singh',\n",
        "        'age' : 35,\n",
        "        'grade':'highly-skilled'\n",
        "    },\n",
        "    {\n",
        "        'fname':'Anurag',\n",
        "        'lname':'Kumar',\n",
        "        'age' : 30,\n",
        "        'grade':'skilled'\n",
        "    },\n",
        "    {\n",
        "        'fname':'Abhinav',\n",
        "        'lname':'Sharma',\n",
        "        'age' : 37,\n",
        "        'grade':'highly-skilled'\n",
        "    }\n",
        "\n",
        "]"
      ],
      "metadata": {
        "id": "6SfOYhsK3ZVQ"
      },
      "execution_count": 2,
      "outputs": []
    },
    {
      "cell_type": "code",
      "source": [
        "L = [i['fname']+' '+i['lname'] for i in employees if i['grade'] == 'highly-skilled']\n",
        "print(L)"
      ],
      "metadata": {
        "colab": {
          "base_uri": "https://localhost:8080/"
        },
        "id": "HaTcEydeZiAf",
        "outputId": "5648fe7f-6f41-49fc-ef79-4b91ac300889"
      },
      "execution_count": 4,
      "outputs": [
        {
          "output_type": "stream",
          "name": "stdout",
          "text": [
            "['Neha Singh', 'Abhinav Sharma']\n"
          ]
        }
      ]
    },
    {
      "cell_type": "code",
      "source": [
        "list(map(lambda x:x['fname']+' '+x['lname'],filter(lambda x:x['grade']=='highly-skilled',employees)))"
      ],
      "metadata": {
        "colab": {
          "base_uri": "https://localhost:8080/"
        },
        "id": "vMHtmKaOaNPH",
        "outputId": "2b1cc379-5bb9-410f-b850-2a7998878241"
      },
      "execution_count": 6,
      "outputs": [
        {
          "output_type": "execute_result",
          "data": {
            "text/plain": [
              "['Neha Singh', 'Abhinav Sharma']"
            ]
          },
          "metadata": {},
          "execution_count": 6
        }
      ]
    }
  ]
}