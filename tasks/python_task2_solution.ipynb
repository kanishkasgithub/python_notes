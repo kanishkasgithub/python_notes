{
  "nbformat": 4,
  "nbformat_minor": 0,
  "metadata": {
    "colab": {
      "provenance": []
    },
    "kernelspec": {
      "name": "python3",
      "display_name": "Python 3"
    },
    "language_info": {
      "name": "python"
    }
  },
  "cells": [
    {
      "cell_type": "markdown",
      "source": [
        "Task 2"
      ],
      "metadata": {
        "id": "CS3lDoWkSQDV"
      }
    },
    {
      "cell_type": "markdown",
      "source": [
        "### `Problem 1`: Write a program that will give you in hand monthly salary after deduction on CTC - HRA(10%), DA(5%), PF(3%) and taxes deduction as below:\n",
        "\n",
        "> Salary(Lakhs) : Tax(%)\n",
        "\n",
        "*   Below 5 : 0%\n",
        "*   5-10 : 10%\n",
        "*   10-20 : 20%\n",
        "*   aboove 20 : 30%"
      ],
      "metadata": {
        "id": "8Nc7_3sZSTry"
      }
    },
    {
      "cell_type": "code",
      "execution_count": null,
      "metadata": {
        "colab": {
          "base_uri": "https://localhost:8080/"
        },
        "id": "AxfYi7uER9OA",
        "outputId": "ca9e8ea7-c9f4-44b3-ab68-d923c91d94fc"
      },
      "outputs": [
        {
          "output_type": "stream",
          "name": "stdout",
          "text": [
            "Enter your salary: 1500000\n",
            "In hand monthly salary:  77500.0\n"
          ]
        }
      ],
      "source": [
        "sal = float(input(\"Enter your salary: \"))\n",
        "hra = sal*0.1\n",
        "da = sal*0.05\n",
        "pf = sal*0.03\n",
        "if sal < 500000:\n",
        "  tax = 0\n",
        "elif sal < 1000000:\n",
        "  tax = 0.1*sal\n",
        "elif sal < 2000000:\n",
        "  tax = 0.2*sal\n",
        "else:\n",
        "  tax = 0.3*sal\n",
        "print('In hand monthly salary: ', (sal - (hra + da + pf + tax))//12)"
      ]
    },
    {
      "cell_type": "markdown",
      "source": [
        "### `Problem 2`: Write a program that take a user input of three angles and will find out whether it can form a triangle or not."
      ],
      "metadata": {
        "id": "25rOdPyoXvbv"
      }
    },
    {
      "cell_type": "code",
      "source": [
        "a1 = int(input(\"Enter angle 1: \"))\n",
        "a2 = int(input(\"Enter angle 2: \"))\n",
        "a3 = int(input(\"Enter angle 3: \"))\n",
        "if a1 + a2 + a3 == 180:\n",
        "  print(\"Triangle can be formed\")\n",
        "else:\n",
        "  print(\"Triangle cannot be formed\")"
      ],
      "metadata": {
        "colab": {
          "base_uri": "https://localhost:8080/"
        },
        "id": "Q3kzWVCMXwQ9",
        "outputId": "d794e446-9084-40fe-e055-e1616ad9dc4f"
      },
      "execution_count": null,
      "outputs": [
        {
          "output_type": "stream",
          "name": "stdout",
          "text": [
            "Enter angle 1: 65\n",
            "Enter angle 2: 39\n",
            "Enter angle 3: 87\n",
            "Triangle cannot be formed\n"
          ]
        }
      ]
    },
    {
      "cell_type": "markdown",
      "source": [
        "### `Problem 3`: Write a program that will take user input of cost price and selling price and determines whether its a loss or a profit."
      ],
      "metadata": {
        "id": "A_8mRDkCYl7f"
      }
    },
    {
      "cell_type": "code",
      "source": [
        "cp = int(input(\"Enter cost price: \"))\n",
        "sp = int(input(\"Enter selling price: \"))\n",
        "if sp > cp:\n",
        "  print(\"Profit\")\n",
        "elif sp < cp:\n",
        "  print(\"Loss\")\n",
        "else:\n",
        "  print(\"Neither profit nor loss\")"
      ],
      "metadata": {
        "colab": {
          "base_uri": "https://localhost:8080/"
        },
        "id": "aysmKskqYmux",
        "outputId": "bb13ba17-835f-42e1-e003-fb202c9be10c"
      },
      "execution_count": null,
      "outputs": [
        {
          "output_type": "stream",
          "name": "stdout",
          "text": [
            "Enter cost price: 100\n",
            "Enter selling price: 120\n",
            "Profit\n"
          ]
        }
      ]
    },
    {
      "cell_type": "markdown",
      "source": [
        "### `Problem 4`: Write a menu-driven program -\n",
        "1. cm to ft\n",
        "2. km to miles\n",
        "3. USD to INR\n",
        "4. exit"
      ],
      "metadata": {
        "id": "rX8Wkw7jZD1U"
      }
    },
    {
      "cell_type": "code",
      "source": [
        "menu = int(input(\"1. cm to ft\\n2. km to miles\\n3. USD to INR\\n4. exit\\nEnter your choice: \"))\n",
        "if menu == 1:\n",
        "  cm = int(input(\"Enter length in cm: \"))\n",
        "  ft = cm/30.48\n",
        "  print(\"Length in ft: \", round(ft,2))\n",
        "elif menu == 2:\n",
        "  km = int(input(\"Enter length in km: \"))\n",
        "  miles = km/1.609\n",
        "  print(\"Length in miles: \", round(miles,2))\n",
        "elif menu == 3:\n",
        "  usd = int(input(\"Enter amount in USD: \"))\n",
        "  inr = usd*83.36\n",
        "  print(\"Amount in INR: \", inr)\n",
        "elif menu == 4:\n",
        "  print(\"Exiting...\")"
      ],
      "metadata": {
        "colab": {
          "base_uri": "https://localhost:8080/"
        },
        "id": "H2s5KwY5YyCk",
        "outputId": "7a955462-50c9-4679-d1b8-f9b7f1286c1b"
      },
      "execution_count": null,
      "outputs": [
        {
          "output_type": "stream",
          "name": "stdout",
          "text": [
            "1. cm to ft\n",
            "2. km to miles\n",
            "3. USD to INR\n",
            "4. exit\n",
            "Enter your choice: 3\n",
            "Enter amount in USD: 250\n",
            "Amount in INR:  20840.0\n"
          ]
        }
      ]
    },
    {
      "cell_type": "code",
      "source": [
        "while True:\n",
        "  user_input = int(input(\"\"\"Enter\n",
        "1. For cm to ft\n",
        "2. For km to miles\n",
        "3. For USD to INR\n",
        "4. For exit\n",
        "\"\"\"))\n",
        "  if user_input == 4:\n",
        "    print('EXIT')\n",
        "    break\n",
        "  else:\n",
        "    if user_input == 1:\n",
        "      cm = int(input('Enter cm: '))\n",
        "      print(cm ,'cm = ',round(cm*0.0328084,2),'ft')\n",
        "    elif user_input == 2:\n",
        "      km = int(input('Enter km: '))\n",
        "      print(km ,'km = ',round(km*0.62137119,2),'miles')\n",
        "    else:\n",
        "        usd = int(input('Enter usd: '))\n",
        "        print(usd ,'USD = ',round(usd*83.33,2),'INR')\n",
        "  print('-'*150)"
      ],
      "metadata": {
        "colab": {
          "base_uri": "https://localhost:8080/"
        },
        "id": "QexJ3Uky7x8z",
        "outputId": "1aa76613-52cf-490e-ffc6-24fbf20580d8"
      },
      "execution_count": 30,
      "outputs": [
        {
          "output_type": "stream",
          "name": "stdout",
          "text": [
            "Enter\n",
            "1. For cm to ft\n",
            "2. For km to miles\n",
            "3. For USD to INR\n",
            "4. For exit\n",
            "1\n",
            "Enter cm: 100\n",
            "100 cm =  3.28 ft\n",
            "------------------------------------------------------------------------------------------------------------------------------------------------------\n",
            "Enter\n",
            "1. For cm to ft\n",
            "2. For km to miles\n",
            "3. For USD to INR\n",
            "4. For exit\n",
            "3\n",
            "Enter usd: 9000\n",
            "9000 USD =  749970.0 INR\n",
            "------------------------------------------------------------------------------------------------------------------------------------------------------\n",
            "Enter\n",
            "1. For cm to ft\n",
            "2. For km to miles\n",
            "3. For USD to INR\n",
            "4. For exit\n",
            "4\n",
            "EXIT\n"
          ]
        }
      ]
    },
    {
      "cell_type": "markdown",
      "source": [
        "### `Problem 5` - Display Fibonacci series up to 10 terms.\n",
        "\n",
        "*Note: The Fibonacci Sequence is a series of numbers. The next number is found by adding up the two numbers before it. The first two numbers are 0 and 1. For example, 0, 1, 1, 2, 3, 5, 8, 13, 21. The next number in this series above is 13+21 = 34*"
      ],
      "metadata": {
        "id": "PrIuGf--LK7N"
      }
    },
    {
      "cell_type": "code",
      "source": [
        "n = int(input(\"Enter number of terms: \"))\n",
        "first = 0\n",
        "second = 1\n",
        "if n == 1:\n",
        "  print(first)\n",
        "elif n == 2:\n",
        "  print(first, second)\n",
        "else:\n",
        "  print(first, second, end = \" \")\n",
        "  for i in range(2, n):\n",
        "    third = first + second\n",
        "    print(third, end = \" \")\n",
        "    first = second\n",
        "    second = third"
      ],
      "metadata": {
        "colab": {
          "base_uri": "https://localhost:8080/"
        },
        "id": "rxE3EtjXJobv",
        "outputId": "2b980da2-d24a-493a-82e6-d42c0c24fb97"
      },
      "execution_count": null,
      "outputs": [
        {
          "output_type": "stream",
          "name": "stdout",
          "text": [
            "Enter number of terms: 10\n",
            "0 1 1 2 3 5 8 13 21 34 "
          ]
        }
      ]
    },
    {
      "cell_type": "markdown",
      "source": [
        "### `Problem 6` - Find the factorial of a given number.\n",
        "\n",
        "Write a program to use the loop to find the factorial of a given number.\n",
        "\n",
        "The factorial (symbol: `!`) means to multiply all whole numbers from the chosen number down to 1.\n",
        "\n",
        "For example: calculate the factorial of 5\n",
        "\n",
        "```bash\n",
        "5! = 5 × 4 × 3 × 2 × 1 = 120\n",
        "```\n",
        "\n",
        "Output:\n",
        "\n",
        "```bash\n",
        "120\n",
        "```"
      ],
      "metadata": {
        "id": "QeCrcGPmM3HO"
      }
    },
    {
      "cell_type": "code",
      "source": [
        "n = int(input(\"Enter number: \"))\n",
        "fact = 1\n",
        "for i in range(1, n+1):\n",
        "  fact *= i\n",
        "print(fact)"
      ],
      "metadata": {
        "colab": {
          "base_uri": "https://localhost:8080/"
        },
        "id": "MDQwR36tM4R8",
        "outputId": "b046188a-1d6e-4f39-affd-78bee1f359d2"
      },
      "execution_count": null,
      "outputs": [
        {
          "output_type": "stream",
          "name": "stdout",
          "text": [
            "Enter number: 5\n",
            "120\n"
          ]
        }
      ]
    },
    {
      "cell_type": "markdown",
      "source": [
        "### `Problem 7` - Reverse a given integer number.\n",
        "\n",
        "Example:\n",
        "\n",
        "`Input:`\n",
        "\n",
        "```bash\n",
        "76542\n",
        "```\n",
        "\n",
        "`Output:`\n",
        "\n",
        "```bash\n",
        "24567\n",
        "```"
      ],
      "metadata": {
        "id": "c8-G1yitOQkD"
      }
    },
    {
      "cell_type": "code",
      "source": [
        "num = int(input('Enter number: '))\n",
        "rev = 0\n",
        "while num != 0:\n",
        "  rev = rev*10 + num%10\n",
        "  num = num//10\n",
        "print(rev)"
      ],
      "metadata": {
        "colab": {
          "base_uri": "https://localhost:8080/"
        },
        "id": "TPrrz9IXQge1",
        "outputId": "d9121bbe-2914-46d2-9188-21de71d016da"
      },
      "execution_count": null,
      "outputs": [
        {
          "output_type": "stream",
          "name": "stdout",
          "text": [
            "Enter number: 12345678\n",
            "87654321\n"
          ]
        }
      ]
    },
    {
      "cell_type": "markdown",
      "source": [
        "### `Problem 8`: Take a user input as integer N. Find out the sum from 1 to N. If any number if divisible by 5, then skip that number. And if the sum is greater than 300, don't need to calculate the sum further more. Print the final result. And don't use for loop to solve this problem.\n",
        "\n",
        "**Example 1:**\n",
        "\n",
        "`Input:`\n",
        "\n",
        "```bash\n",
        "30\n",
        "```\n",
        "\n",
        "`Output:`\n",
        "\n",
        "```bash\n",
        "276\n",
        "```"
      ],
      "metadata": {
        "id": "IDjWTPvdR3_H"
      }
    },
    {
      "cell_type": "code",
      "source": [
        "n = int(input(\"Enter number: \"))\n",
        "sum = 0\n",
        "i = 1\n",
        "while i <= n and (sum+i) < 300:\n",
        "  if i%5 == 0:\n",
        "    i += 1\n",
        "    continue\n",
        "  sum += i\n",
        "  i += 1\n",
        "print(sum)"
      ],
      "metadata": {
        "colab": {
          "base_uri": "https://localhost:8080/"
        },
        "id": "66FyRdq9VcKy",
        "outputId": "056ab091-92c5-4e8f-bc2e-462164147b82"
      },
      "execution_count": null,
      "outputs": [
        {
          "output_type": "stream",
          "name": "stdout",
          "text": [
            "Enter number: 100\n",
            "276\n"
          ]
        }
      ]
    },
    {
      "cell_type": "markdown",
      "source": [
        "### `Problem 9`: Write a program that keeps on accepting a number from the user until the user enters Zero. Display the sum and average of all the numbers."
      ],
      "metadata": {
        "id": "k2ea_bnqYQD6"
      }
    },
    {
      "cell_type": "code",
      "source": [
        "num = int(input('Enter number: '))\n",
        "sum = 0\n",
        "count = 0\n",
        "while num != 0:\n",
        "  sum += num\n",
        "  count += 1\n",
        "  num = int(input('Enter number: '))\n",
        "print('Sum: ', sum)\n",
        "print('Average: ', sum/count)"
      ],
      "metadata": {
        "colab": {
          "base_uri": "https://localhost:8080/"
        },
        "id": "qXM-3KywYQ-D",
        "outputId": "b9df070a-2a8e-4830-8575-c0c2329b50ac"
      },
      "execution_count": null,
      "outputs": [
        {
          "output_type": "stream",
          "name": "stdout",
          "text": [
            "Enter number: 10\n",
            "Enter number: 20\n",
            "Enter number: 30\n",
            "Enter number: 40\n",
            "Enter number: 50\n",
            "Enter number: 60\n",
            "Enter number: 70\n",
            "Enter number: 0\n",
            "Sum:  280\n",
            "Average:  40.0\n"
          ]
        }
      ]
    },
    {
      "cell_type": "markdown",
      "source": [
        "###`Problem 10`: Write a program which will find all such numbers which are divisible by 7 but are not a multiple of 5, between 2000 and 3200 (both included). The numbers obtained should be printed in a comma-separated sequence on a single line."
      ],
      "metadata": {
        "id": "M4B6XIVZZnd8"
      }
    },
    {
      "cell_type": "code",
      "source": [
        "for i in range(2000, 3201):\n",
        "  if i%7 == 0 and i%5 != 0:\n",
        "    print(i,end=',')"
      ],
      "metadata": {
        "colab": {
          "base_uri": "https://localhost:8080/"
        },
        "id": "NIRGnzrUZoUv",
        "outputId": "619ba4fe-388e-44e4-e3fe-d313b295f172"
      },
      "execution_count": null,
      "outputs": [
        {
          "output_type": "stream",
          "name": "stdout",
          "text": [
            "2002,2009,2016,2023,2037,2044,2051,2058,2072,2079,2086,2093,2107,2114,2121,2128,2142,2149,2156,2163,2177,2184,2191,2198,2212,2219,2226,2233,2247,2254,2261,2268,2282,2289,2296,2303,2317,2324,2331,2338,2352,2359,2366,2373,2387,2394,2401,2408,2422,2429,2436,2443,2457,2464,2471,2478,2492,2499,2506,2513,2527,2534,2541,2548,2562,2569,2576,2583,2597,2604,2611,2618,2632,2639,2646,2653,2667,2674,2681,2688,2702,2709,2716,2723,2737,2744,2751,2758,2772,2779,2786,2793,2807,2814,2821,2828,2842,2849,2856,2863,2877,2884,2891,2898,2912,2919,2926,2933,2947,2954,2961,2968,2982,2989,2996,3003,3017,3024,3031,3038,3052,3059,3066,3073,3087,3094,3101,3108,3122,3129,3136,3143,3157,3164,3171,3178,3192,3199,"
          ]
        }
      ]
    },
    {
      "cell_type": "markdown",
      "source": [
        "###`Problem 11`: Write a program, which will find all such numbers between 1000 and 3000 (both included) such that each digit of the number is an even number. The numbers obtained should be printed in a space-separated sequence on a single line.\n",
        "\n"
      ],
      "metadata": {
        "id": "xfzRltbxcrqb"
      }
    },
    {
      "cell_type": "code",
      "source": [
        "for i in range(1000, 3001):\n",
        "  s = str(i)\n",
        "  if int(s[0])%2 == 0 and int(s[1])%2 == 0 and int(s[2])%2 == 0 and int(s[3])%2 == 0:\n",
        "    print(i,end=' ')"
      ],
      "metadata": {
        "colab": {
          "base_uri": "https://localhost:8080/"
        },
        "id": "aWCJ3NmocMN6",
        "outputId": "3b043256-4549-4760-a8b1-ecdede712c6f"
      },
      "execution_count": null,
      "outputs": [
        {
          "output_type": "stream",
          "name": "stdout",
          "text": [
            "2000 2002 2004 2006 2008 2020 2022 2024 2026 2028 2040 2042 2044 2046 2048 2060 2062 2064 2066 2068 2080 2082 2084 2086 2088 2200 2202 2204 2206 2208 2220 2222 2224 2226 2228 2240 2242 2244 2246 2248 2260 2262 2264 2266 2268 2280 2282 2284 2286 2288 2400 2402 2404 2406 2408 2420 2422 2424 2426 2428 2440 2442 2444 2446 2448 2460 2462 2464 2466 2468 2480 2482 2484 2486 2488 2600 2602 2604 2606 2608 2620 2622 2624 2626 2628 2640 2642 2644 2646 2648 2660 2662 2664 2666 2668 2680 2682 2684 2686 2688 2800 2802 2804 2806 2808 2820 2822 2824 2826 2828 2840 2842 2844 2846 2848 2860 2862 2864 2866 2868 2880 2882 2884 2886 2888 "
          ]
        }
      ]
    },
    {
      "cell_type": "code",
      "source": [
        "for i in range(1000, 3001):\n",
        "  num = i\n",
        "  count = 0\n",
        "  while num != 0:\n",
        "    if num%2 == 0:\n",
        "      count += 1\n",
        "    num = num//10\n",
        "  if count == 4:\n",
        "    print(i,end=' ')"
      ],
      "metadata": {
        "colab": {
          "base_uri": "https://localhost:8080/"
        },
        "id": "nWwfg4AFfQNA",
        "outputId": "e87ca9bf-1798-46b9-a100-28536e257c38"
      },
      "execution_count": null,
      "outputs": [
        {
          "output_type": "stream",
          "name": "stdout",
          "text": [
            "2000 2002 2004 2006 2008 2020 2022 2024 2026 2028 2040 2042 2044 2046 2048 2060 2062 2064 2066 2068 2080 2082 2084 2086 2088 2200 2202 2204 2206 2208 2220 2222 2224 2226 2228 2240 2242 2244 2246 2248 2260 2262 2264 2266 2268 2280 2282 2284 2286 2288 2400 2402 2404 2406 2408 2420 2422 2424 2426 2428 2440 2442 2444 2446 2448 2460 2462 2464 2466 2468 2480 2482 2484 2486 2488 2600 2602 2604 2606 2608 2620 2622 2624 2626 2628 2640 2642 2644 2646 2648 2660 2662 2664 2666 2668 2680 2682 2684 2686 2688 2800 2802 2804 2806 2808 2820 2822 2824 2826 2828 2840 2842 2844 2846 2848 2860 2862 2864 2866 2868 2880 2882 2884 2886 2888 "
          ]
        }
      ]
    },
    {
      "cell_type": "markdown",
      "source": [
        "###`Problem 12`: A robot moves in a plane starting from the original point (0,0). The robot can move toward UP, DOWN, LEFT and RIGHT with a given steps.\n",
        "The trace of robot movement is shown as the following:\n",
        "```\n",
        "UP 5\n",
        "DOWN 3\n",
        "LEFT 3\n",
        "RIGHT 2\n",
        "!\n",
        "```\n",
        "> The numbers after the direction are steps.\n",
        "\n",
        "> `!` means robot stop there.\n",
        "\n",
        "**Please write a program to compute the distance from current position after a sequence of movement and original point.**\n",
        "\n",
        "*If the distance is a float, then just print the nearest integer.*\n",
        "\n",
        "Example:\n",
        "\n",
        "`Input`:\n",
        "```\n",
        "UP 5\n",
        "DOWN 3\n",
        "LEFT 3\n",
        "RIGHT 2\n",
        "!\n",
        "```\n",
        "`Output`:\n",
        "```\n",
        "2\n",
        "```"
      ],
      "metadata": {
        "id": "oJ36xly3gj_a"
      }
    },
    {
      "cell_type": "code",
      "source": [
        "x = 0   # int(input('Enter x-coordinate: '))\n",
        "y = 0   # int(input('Enter y-coordinate: '))\n",
        "\n",
        "direction = input(\"\"\"\n",
        "Enter direction (UP, DOWN, LEFT, RIGHT or '!' to STOP):\n",
        "\"\"\").upper()\n",
        "\n",
        "while direction != '!':\n",
        "  d = int(input('Enter distance: '))\n",
        "  if direction == 'UP':\n",
        "    y += d\n",
        "  elif direction == 'DOWN':\n",
        "    y -= d\n",
        "  elif direction == 'LEFT':\n",
        "    x -= d\n",
        "  elif direction == 'RIGHT':\n",
        "    x += d\n",
        "  else:\n",
        "    pass\n",
        "  direction = input(\"\"\"\n",
        "Enter direction (UP, DOWN, LEFT, RIGHT or '!' to STOP):\n",
        "\"\"\").upper()\n",
        "\n",
        "print('-'*100)\n",
        "print('Distance moved:',round(((x**2 + y**2)**0.5)))"
      ],
      "metadata": {
        "id": "OtuoWNrPgmh6",
        "colab": {
          "base_uri": "https://localhost:8080/"
        },
        "outputId": "8e0310d2-95b2-4e97-d579-a6805607ff85"
      },
      "execution_count": 19,
      "outputs": [
        {
          "output_type": "stream",
          "name": "stdout",
          "text": [
            "\n",
            "Enter direction (UP, DOWN, LEFT, RIGHT or '!' to STOP):\n",
            "up\n",
            "Enter distance: 7\n",
            "\n",
            "Enter direction (UP, DOWN, LEFT, RIGHT or '!' to STOP):\n",
            "down\n",
            "Enter distance: 8\n",
            "\n",
            "Enter direction (UP, DOWN, LEFT, RIGHT or '!' to STOP):\n",
            "left\n",
            "Enter distance: 5\n",
            "\n",
            "Enter direction (UP, DOWN, LEFT, RIGHT or '!' to STOP):\n",
            "!\n",
            "----------------------------------------------------------------------------------------------------\n",
            "Distance moved: 5\n"
          ]
        }
      ]
    },
    {
      "cell_type": "markdown",
      "source": [
        "###`Problem 13`:Write a program to print whether a given number is a prime number or not"
      ],
      "metadata": {
        "id": "-wC9XzrbhUag"
      }
    },
    {
      "cell_type": "code",
      "source": [
        "num = int(input('Enter number: '))\n",
        "i = 2\n",
        "while i<num:\n",
        "  if num%i == 0:\n",
        "    print('Not prime')\n",
        "    break\n",
        "  i += 1\n",
        "else:\n",
        "  print('Prime')"
      ],
      "metadata": {
        "colab": {
          "base_uri": "https://localhost:8080/"
        },
        "id": "yG34h1Lg8pNM",
        "outputId": "b965938b-4906-4425-f31b-30c3227ddf5d"
      },
      "execution_count": 31,
      "outputs": [
        {
          "output_type": "stream",
          "name": "stdout",
          "text": [
            "Enter number: 79\n",
            "Prime\n"
          ]
        }
      ]
    },
    {
      "cell_type": "markdown",
      "source": [
        "###`Problem 14`:Print all the Armstrong numbers in a given range.\n",
        "Range will be provided by the user<br>\n",
        "Armstrong number is a number that is equal to the sum of cubes of its digits. For example 0, 1, 153, 370, 371 and 407 are the Armstrong numbers."
      ],
      "metadata": {
        "id": "OEKJsGG6hWWe"
      }
    },
    {
      "cell_type": "code",
      "source": [
        "lrange = int(input('Enter lower range: '))\n",
        "urange = int(input('Enter upper range: '))\n",
        "for i in range(lrange, urange+1):\n",
        "  sum = 0\n",
        "  num = i\n",
        "  d = len(str(num))\n",
        "  while num != 0:\n",
        "    sum += (num%10)**d\n",
        "    num = num//10\n",
        "  if sum == i:\n",
        "    print(i,end=',')"
      ],
      "metadata": {
        "colab": {
          "base_uri": "https://localhost:8080/"
        },
        "id": "NGFTS_C0haF1",
        "outputId": "411e4878-bea1-4223-839b-bb58b16dada5"
      },
      "execution_count": null,
      "outputs": [
        {
          "output_type": "stream",
          "name": "stdout",
          "text": [
            "Enter lower range: 1\n",
            "Enter upper range: 10000\n",
            "1,2,3,4,5,6,7,8,9,153,370,371,407,1634,8208,9474,"
          ]
        }
      ]
    },
    {
      "cell_type": "markdown",
      "source": [
        "An Armstrong number is a number that equals the sum of its individual digits, each raised to the power of the number of digits."
      ],
      "metadata": {
        "id": "83UpAUl3Vm35"
      }
    },
    {
      "cell_type": "markdown",
      "source": [
        "###`Problem 15`:Calculate the angle between the hour hand and minute hand.\n",
        "\n",
        "Note: There can be two angles between hands; we need to print a minimum of two. Also, we need to print the floor of the final result angle. For example, if the final angle is 10.61, we need to print 10.\n",
        "\n",
        "Input:<br>\n",
        "H = 9 , M = 0<br>\n",
        "Output:<br>\n",
        "90<br>\n",
        "Explanation:<br>\n",
        "The minimum angle between hour and minute\n",
        "hand when the time is 9 is 90 degress."
      ],
      "metadata": {
        "id": "UewNbFpqhatE"
      }
    },
    {
      "cell_type": "code",
      "source": [
        "import math\n",
        "h = int(input('Enter hour: '))\n",
        "m = int(input('Enter minute: '))\n",
        "angle = abs(5.5*m - 30*h)\n",
        "if angle > 180:\n",
        "  print(math.floor(360 - angle))\n",
        "else:\n",
        "  print(math.floor(angle))"
      ],
      "metadata": {
        "id": "vvAQlCGdheXm",
        "colab": {
          "base_uri": "https://localhost:8080/"
        },
        "outputId": "292a4daf-6e57-4d83-a150-c75047d2fade"
      },
      "execution_count": 28,
      "outputs": [
        {
          "output_type": "stream",
          "name": "stdout",
          "text": [
            "Enter hour: 7\n",
            "Enter minute: 13\n",
            "138\n"
          ]
        }
      ]
    },
    {
      "cell_type": "markdown",
      "source": [
        "[refer](https://byjusexamprep.com/ssc-exam/what-is-the-angle-between-the-hour-hand-and-the-minute-hand-of-the-clock-at-130)"
      ],
      "metadata": {
        "id": "MRINZtfdz_cF"
      }
    },
    {
      "cell_type": "markdown",
      "source": [
        "[For more details](https://www.splashlearn.com/math-vocabulary/clock-angle-formula)"
      ],
      "metadata": {
        "id": "N-byukVH0c3_"
      }
    },
    {
      "cell_type": "markdown",
      "source": [
        "###`Problem 16`:Given two rectangles, find if the given two rectangles overlap or not. A rectangle is denoted by providing the x and y coordinates of two points: the left top corner and the right bottom corner of the rectangle. Two rectangles sharing a side are considered overlapping. (L1 and R1 are the extreme points of the first rectangle and L2 and R2 are the extreme points of the second rectangle).\n",
        "\n",
        "Note: It may be assumed that the rectangles are parallel to the coordinate axis.\n",
        "\n",
        "<img src='https://www.geeksforgeeks.org/wp-content/uploads/rectanglesOverlap.png' width='300' height='200'>"
      ],
      "metadata": {
        "id": "TEGKZ5JQhe7e"
      }
    },
    {
      "cell_type": "markdown",
      "source": [
        "[refer](https://www.geeksforgeeks.org/find-two-rectangles-overlap/)"
      ],
      "metadata": {
        "id": "zOHxaTJI4cTX"
      }
    },
    {
      "cell_type": "code",
      "source": [
        "L1_x = int(input('Enter x-coordinate of L1: '))\n",
        "L1_y = int(input('Enter y-coordinate of L1: '))\n",
        "R1_x = int(input('Enter x-coordinate of R1: '))\n",
        "R1_y = int(input('Enter y-coordinate of R1: '))\n",
        "L2_x = int(input('Enter x-coordinate of L2: '))\n",
        "L2_y = int(input('Enter y-coordinate of L2: '))\n",
        "R2_x = int(input('Enter x-coordinate of R2: '))\n",
        "R2_y = int(input('Enter y-coordinate of R2: '))\n",
        "\n",
        "# if rectangle has area 0, no overlap\n",
        "if L1_x == R1_x or L1_y == R1_y or R2_x == L2_x or L2_y == R2_y:\n",
        "  print('Not overlapping')\n",
        "\n",
        "# If one rectangle is on left side of other\n",
        "elif L1_x > R2_x or L2_x > R1_x:\n",
        "  print('Not overlapping')\n",
        "\n",
        "# If one rectangle is above other\n",
        "elif R1_y > L2_y or R2_y > L1_y:\n",
        "  print('Not overlapping')\n",
        "\n",
        "else:\n",
        "  print('Overlapping')"
      ],
      "metadata": {
        "id": "wEvbt0Kbhkrt",
        "colab": {
          "base_uri": "https://localhost:8080/"
        },
        "outputId": "2150c98c-f442-47c0-d0f1-f74d58614581"
      },
      "execution_count": 29,
      "outputs": [
        {
          "output_type": "stream",
          "name": "stdout",
          "text": [
            "Enter x-coordinate of L1: 0\n",
            "Enter y-coordinate of L1: 10\n",
            "Enter x-coordinate of R1: 10\n",
            "Enter y-coordinate of R1: 0\n",
            "Enter x-coordinate of L2: 5\n",
            "Enter y-coordinate of L2: -1\n",
            "Enter x-coordinate of R2: 2\n",
            "Enter y-coordinate of R2: -3\n",
            "Not overlapping\n"
          ]
        }
      ]
    }
  ]
}