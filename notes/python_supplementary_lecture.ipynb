{
  "nbformat": 4,
  "nbformat_minor": 0,
  "metadata": {
    "colab": {
      "provenance": []
    },
    "kernelspec": {
      "name": "python3",
      "display_name": "Python 3"
    },
    "language_info": {
      "name": "python"
    }
  },
  "cells": [
    {
      "cell_type": "markdown",
      "source": [
        "Topics covered:\n",
        "*   Recursion\n",
        "*   Iterators\n",
        "*   Generators\n",
        "\n",
        "\n",
        "\n"
      ],
      "metadata": {
        "id": "TRMMEaUNCL90"
      }
    },
    {
      "cell_type": "markdown",
      "source": [
        "## Recursion"
      ],
      "metadata": {
        "id": "w4OyqL-oDDvJ"
      }
    },
    {
      "cell_type": "markdown",
      "source": [
        "Recursion is a function that calls itself during its execution."
      ],
      "metadata": {
        "id": "kUnzOjfUDIEU"
      }
    },
    {
      "cell_type": "code",
      "execution_count": 4,
      "metadata": {
        "id": "WJPfMEpGCC2g"
      },
      "outputs": [],
      "source": [
        "# using iteration\n",
        "def multiple(a,b):\n",
        "  product = 0\n",
        "  for i in range(b):\n",
        "    product = product + a\n",
        "  return product"
      ]
    },
    {
      "cell_type": "code",
      "source": [
        "multiple(6,23)"
      ],
      "metadata": {
        "colab": {
          "base_uri": "https://localhost:8080/"
        },
        "id": "tLc1r8bwEyJB",
        "outputId": "2a1a4b2c-f157-4d5d-ed0f-b318417fea6a"
      },
      "execution_count": 11,
      "outputs": [
        {
          "output_type": "execute_result",
          "data": {
            "text/plain": [
              "138"
            ]
          },
          "metadata": {},
          "execution_count": 11
        }
      ]
    },
    {
      "cell_type": "code",
      "source": [
        "# using recursion\n",
        "def multiple(a,b):\n",
        "  if b == 1:\n",
        "    return a\n",
        "  else:\n",
        "    return a + multiple(a,b-1)"
      ],
      "metadata": {
        "id": "W2wsrGGHEzcl"
      },
      "execution_count": 8,
      "outputs": []
    },
    {
      "cell_type": "code",
      "source": [
        "# factorial\n",
        "def fact(n):\n",
        "  if n==1:\n",
        "    return 1\n",
        "  else:\n",
        "    return n*fact(n-1)"
      ],
      "metadata": {
        "id": "SXY2c13lIJIi"
      },
      "execution_count": 12,
      "outputs": []
    },
    {
      "cell_type": "code",
      "source": [
        "fact(5)"
      ],
      "metadata": {
        "colab": {
          "base_uri": "https://localhost:8080/"
        },
        "id": "Y-5E2mQDIQUj",
        "outputId": "773760d0-0580-437a-e0bf-a22890f2b241"
      },
      "execution_count": 15,
      "outputs": [
        {
          "output_type": "execute_result",
          "data": {
            "text/plain": [
              "120"
            ]
          },
          "metadata": {},
          "execution_count": 15
        }
      ]
    },
    {
      "cell_type": "code",
      "source": [
        "# palindrome using recursion\n",
        "def palindrome(s):\n",
        "  if len(s)<=1:\n",
        "    return 'Palindrome'\n",
        "  else:\n",
        "    if s[0] == s[-1]:\n",
        "      return palindrome(s[1:-1])\n",
        "    else:\n",
        "      return 'Not Palindrome'"
      ],
      "metadata": {
        "id": "yl9qyjFXJbU6"
      },
      "execution_count": 3,
      "outputs": []
    },
    {
      "cell_type": "code",
      "source": [
        "palindrome('maddam')"
      ],
      "metadata": {
        "colab": {
          "base_uri": "https://localhost:8080/",
          "height": 35
        },
        "id": "1KJCU0cqJpvc",
        "outputId": "7c9e7304-bb1c-41d8-f1eb-d476ea85fa5f"
      },
      "execution_count": 4,
      "outputs": [
        {
          "output_type": "execute_result",
          "data": {
            "text/plain": [
              "'Palindrome'"
            ],
            "application/vnd.google.colaboratory.intrinsic+json": {
              "type": "string"
            }
          },
          "metadata": {},
          "execution_count": 4
        }
      ]
    },
    {
      "cell_type": "markdown",
      "source": [
        "#### The Rabbit problem\n",
        "[rabbit problem](https://library.ethz.ch/en/locations-and-media/platforms/virtual-exhibitions/fibonacci-un-ponte-sul-mediterraneo/fibonaccis-significance-for-the-present-day/the-rabbit-problem.html)"
      ],
      "metadata": {
        "id": "Cc5ErVnJKdLn"
      }
    },
    {
      "cell_type": "code",
      "source": [
        "# rabbit problem -> fibonnaci series\n",
        "def fib(n):\n",
        "  if n==0 or n==1:\n",
        "    return 1\n",
        "  else:\n",
        "    return fib(n-1) + fib(n-2)"
      ],
      "metadata": {
        "id": "Hw87JNKoKca2"
      },
      "execution_count": 5,
      "outputs": []
    },
    {
      "cell_type": "code",
      "source": [
        "fib(12)"
      ],
      "metadata": {
        "colab": {
          "base_uri": "https://localhost:8080/"
        },
        "id": "JIr3HzU1L1gg",
        "outputId": "dc507cc8-19f8-4b99-d3b1-dd9a177395bb"
      },
      "execution_count": 8,
      "outputs": [
        {
          "output_type": "execute_result",
          "data": {
            "text/plain": [
              "233"
            ]
          },
          "metadata": {},
          "execution_count": 8
        }
      ]
    },
    {
      "cell_type": "code",
      "source": [
        "import time\n",
        "def fib(n):\n",
        "  if n==0 or n==1:\n",
        "    return 1\n",
        "  else:\n",
        "    return fib(n-1) + fib(n-2)"
      ],
      "metadata": {
        "id": "LzNwyYv8p0yJ"
      },
      "execution_count": 11,
      "outputs": []
    },
    {
      "cell_type": "code",
      "source": [
        "start = time.time()\n",
        "print(fib(36))\n",
        "print(time.time()-start)"
      ],
      "metadata": {
        "colab": {
          "base_uri": "https://localhost:8080/"
        },
        "id": "KCakD9O8p4ZJ",
        "outputId": "6e31560d-9dc9-4906-e8e1-cc93bb3fd1eb"
      },
      "execution_count": 15,
      "outputs": [
        {
          "output_type": "stream",
          "name": "stdout",
          "text": [
            "24157817\n",
            "8.025875329971313\n"
          ]
        }
      ]
    },
    {
      "cell_type": "markdown",
      "source": [
        "Above code is not efficient. As we increase input value, time is increasing exponentially.<br><br>\n",
        "Use **memoization** (dynamic programming approach) to make code efficient.\n",
        "\n",
        "Memoization is used to speed up computer programs by eliminating the repetitive computation of results, and by avoiding repeated calls to functions that process the same input."
      ],
      "metadata": {
        "id": "SWEFatLws_lj"
      }
    },
    {
      "cell_type": "code",
      "source": [
        "import time\n",
        "def memo(n,d):\n",
        "  if n in d:\n",
        "    return d[n]\n",
        "  else:\n",
        "    d[n] = memo(n-1,d) + memo(n-2,d)\n",
        "    return d[n]"
      ],
      "metadata": {
        "id": "gdIQICbSpF_f"
      },
      "execution_count": 17,
      "outputs": []
    },
    {
      "cell_type": "code",
      "source": [
        "start = time.time()\n",
        "d = {0:1,1:1}\n",
        "print(memo(36,d))\n",
        "print(time.time()-start)"
      ],
      "metadata": {
        "colab": {
          "base_uri": "https://localhost:8080/"
        },
        "id": "cbIPDXSjL3kA",
        "outputId": "f1b3bed0-50c0-44c2-aba4-a18195e05dda"
      },
      "execution_count": 19,
      "outputs": [
        {
          "output_type": "stream",
          "name": "stdout",
          "text": [
            "24157817\n",
            "0.0009639263153076172\n"
          ]
        }
      ]
    },
    {
      "cell_type": "code",
      "source": [
        "# write a program to gives power set for given list using recursion"
      ],
      "metadata": {
        "id": "XgAD0fVswpEZ"
      },
      "execution_count": null,
      "outputs": []
    },
    {
      "cell_type": "code",
      "source": [
        "def example2(n):\n",
        "    h = lambda : print(n)\n",
        "    return(h)\n",
        "ourfunc = example2(5)\n",
        "ourfunc()"
      ],
      "metadata": {
        "colab": {
          "base_uri": "https://localhost:8080/"
        },
        "id": "nof6kTt5URZl",
        "outputId": "8909cd51-c855-4128-b038-dc52a8039ff3"
      },
      "execution_count": 1,
      "outputs": [
        {
          "output_type": "stream",
          "name": "stdout",
          "text": [
            "5\n"
          ]
        }
      ]
    },
    {
      "cell_type": "markdown",
      "source": [
        "## Iterators"
      ],
      "metadata": {
        "id": "dXq01wDouTyP"
      }
    },
    {
      "cell_type": "markdown",
      "source": [
        "#### What is an Iteration?\n",
        "\n",
        "Iteration is a general term for taking each item of something, one after another. Any time you use a loop, explicit or implicit, to go over a group of items, that is iteration."
      ],
      "metadata": {
        "id": "P9ZzZ-QU3w1U"
      }
    },
    {
      "cell_type": "code",
      "source": [
        "# example\n",
        "L = [1,2,3]\n",
        "for i in L:\n",
        "  print(i)"
      ],
      "metadata": {
        "colab": {
          "base_uri": "https://localhost:8080/"
        },
        "id": "v46ofjcGuh5I",
        "outputId": "b63e8d78-1993-4b31-94be-2aa388782ff6"
      },
      "execution_count": 1,
      "outputs": [
        {
          "output_type": "stream",
          "name": "stdout",
          "text": [
            "1\n",
            "2\n",
            "3\n"
          ]
        }
      ]
    },
    {
      "cell_type": "markdown",
      "source": [
        "#### What is an Iterator?\n",
        "\n",
        "An Iterator is an object that allows the programmer to traverse through a sequence of data without having to store the entire data in the memory"
      ],
      "metadata": {
        "id": "_O-c659S4aRf"
      }
    },
    {
      "cell_type": "code",
      "source": [
        "# example\n",
        "import sys\n",
        "\n",
        "L = [i for i in range(1,100000)]    # storing entire data in memory\n",
        "print(sys.getsizeof(L)/1024)\n",
        "\n",
        "x = range(1,100000)       # storing one element in memory at a time\n",
        "print(sys.getsizeof(x)/1024)"
      ],
      "metadata": {
        "colab": {
          "base_uri": "https://localhost:8080/"
        },
        "id": "ughGN9W03_ly",
        "outputId": "20fc0efe-a16a-4f82-b940-845dbc116a25"
      },
      "execution_count": 8,
      "outputs": [
        {
          "output_type": "stream",
          "name": "stdout",
          "text": [
            "782.2109375\n",
            "0.046875\n"
          ]
        }
      ]
    },
    {
      "cell_type": "markdown",
      "source": [
        "#### What is an iterable?\n",
        "\n",
        "Iterable is an object, which one can iterate over\n",
        "\n",
        "It generates an Iterator when passed to iter() method."
      ],
      "metadata": {
        "id": "6y4arYn76ukT"
      }
    },
    {
      "cell_type": "code",
      "source": [
        "# example\n",
        "\n",
        "L = [1,2,3]   # iterable\n",
        "x = range(1,100000)  # iterable"
      ],
      "metadata": {
        "id": "Y3DHd4Cq4vBT"
      },
      "execution_count": null,
      "outputs": []
    },
    {
      "cell_type": "markdown",
      "source": [
        "Iteration - process of traversing one-by-one on an object.\n",
        "<br>Iterator - with help of this iteration is possible.\n",
        "<br>Iterable - object on which iteration is possible."
      ],
      "metadata": {
        "id": "aqyUrAa47Og8"
      }
    },
    {
      "cell_type": "code",
      "source": [
        "L = [1,2,3]\n",
        "print(type(L))    # L is an iterable\n",
        "\n",
        "print(type(iter(L)))   # iter(L) is an iterator"
      ],
      "metadata": {
        "colab": {
          "base_uri": "https://localhost:8080/"
        },
        "id": "ciPaEB2Q8JfD",
        "outputId": "6f3f8cce-12d8-4f59-c97c-520b1c2b2070"
      },
      "execution_count": 11,
      "outputs": [
        {
          "output_type": "stream",
          "name": "stdout",
          "text": [
            "<class 'list'>\n",
            "<class 'list_iterator'>\n"
          ]
        }
      ]
    },
    {
      "cell_type": "markdown",
      "source": [
        "#### Point to remember\n",
        "\n",
        "*   Every **Iterator** is also and **Iterable**\n",
        "*   Not all **Iterables** are **Iterators**\n"
      ],
      "metadata": {
        "id": "NTEjRQz281he"
      }
    },
    {
      "cell_type": "code",
      "source": [
        "# list are iterable but not iterator -> as entire data stores in memory"
      ],
      "metadata": {
        "id": "bxN4_kuT8M3W"
      },
      "execution_count": null,
      "outputs": []
    },
    {
      "cell_type": "markdown",
      "source": [
        "#### Trick\n",
        "*   Every Iterable has an **iter function**\n",
        "*   Every Iterator has both **iter function** as well as a **next function**\n"
      ],
      "metadata": {
        "id": "LJJ11hkY9mj0"
      }
    },
    {
      "cell_type": "code",
      "source": [
        "# how to check if object is iterable or not\n",
        "\n",
        "a = 2\n",
        "\n",
        "# method-1  - if iteration can perform then it is iterable\n",
        "for i in a:\n",
        "  print(i)"
      ],
      "metadata": {
        "colab": {
          "base_uri": "https://localhost:8080/",
          "height": 211
        },
        "id": "Bq54mTWi92lg",
        "outputId": "5d0d4502-3a4c-4b99-b58f-62a95fc447dd"
      },
      "execution_count": 12,
      "outputs": [
        {
          "output_type": "error",
          "ename": "TypeError",
          "evalue": "'int' object is not iterable",
          "traceback": [
            "\u001b[0;31m---------------------------------------------------------------------------\u001b[0m",
            "\u001b[0;31mTypeError\u001b[0m                                 Traceback (most recent call last)",
            "\u001b[0;32m<ipython-input-12-bab9ef47aa08>\u001b[0m in \u001b[0;36m<cell line: 6>\u001b[0;34m()\u001b[0m\n\u001b[1;32m      4\u001b[0m \u001b[0;34m\u001b[0m\u001b[0m\n\u001b[1;32m      5\u001b[0m \u001b[0;31m# method-1\u001b[0m\u001b[0;34m\u001b[0m\u001b[0;34m\u001b[0m\u001b[0m\n\u001b[0;32m----> 6\u001b[0;31m \u001b[0;32mfor\u001b[0m \u001b[0mi\u001b[0m \u001b[0;32min\u001b[0m \u001b[0ma\u001b[0m\u001b[0;34m:\u001b[0m\u001b[0;34m\u001b[0m\u001b[0;34m\u001b[0m\u001b[0m\n\u001b[0m\u001b[1;32m      7\u001b[0m   \u001b[0mprint\u001b[0m\u001b[0;34m(\u001b[0m\u001b[0mi\u001b[0m\u001b[0;34m)\u001b[0m\u001b[0;34m\u001b[0m\u001b[0;34m\u001b[0m\u001b[0m\n\u001b[1;32m      8\u001b[0m \u001b[0;34m\u001b[0m\u001b[0m\n",
            "\u001b[0;31mTypeError\u001b[0m: 'int' object is not iterable"
          ]
        }
      ]
    },
    {
      "cell_type": "code",
      "source": [
        "# method-2 - use dir -> iter function is present then iterable\n",
        "dir(a)"
      ],
      "metadata": {
        "colab": {
          "base_uri": "https://localhost:8080/"
        },
        "id": "yJnsExlE-HRy",
        "outputId": "3f391134-dd93-4dfb-c396-5c9e98ded794"
      },
      "execution_count": 14,
      "outputs": [
        {
          "output_type": "execute_result",
          "data": {
            "text/plain": [
              "['__abs__',\n",
              " '__add__',\n",
              " '__and__',\n",
              " '__bool__',\n",
              " '__ceil__',\n",
              " '__class__',\n",
              " '__delattr__',\n",
              " '__dir__',\n",
              " '__divmod__',\n",
              " '__doc__',\n",
              " '__eq__',\n",
              " '__float__',\n",
              " '__floor__',\n",
              " '__floordiv__',\n",
              " '__format__',\n",
              " '__ge__',\n",
              " '__getattribute__',\n",
              " '__getnewargs__',\n",
              " '__gt__',\n",
              " '__hash__',\n",
              " '__index__',\n",
              " '__init__',\n",
              " '__init_subclass__',\n",
              " '__int__',\n",
              " '__invert__',\n",
              " '__le__',\n",
              " '__lshift__',\n",
              " '__lt__',\n",
              " '__mod__',\n",
              " '__mul__',\n",
              " '__ne__',\n",
              " '__neg__',\n",
              " '__new__',\n",
              " '__or__',\n",
              " '__pos__',\n",
              " '__pow__',\n",
              " '__radd__',\n",
              " '__rand__',\n",
              " '__rdivmod__',\n",
              " '__reduce__',\n",
              " '__reduce_ex__',\n",
              " '__repr__',\n",
              " '__rfloordiv__',\n",
              " '__rlshift__',\n",
              " '__rmod__',\n",
              " '__rmul__',\n",
              " '__ror__',\n",
              " '__round__',\n",
              " '__rpow__',\n",
              " '__rrshift__',\n",
              " '__rshift__',\n",
              " '__rsub__',\n",
              " '__rtruediv__',\n",
              " '__rxor__',\n",
              " '__setattr__',\n",
              " '__sizeof__',\n",
              " '__str__',\n",
              " '__sub__',\n",
              " '__subclasshook__',\n",
              " '__truediv__',\n",
              " '__trunc__',\n",
              " '__xor__',\n",
              " 'as_integer_ratio',\n",
              " 'bit_count',\n",
              " 'bit_length',\n",
              " 'conjugate',\n",
              " 'denominator',\n",
              " 'from_bytes',\n",
              " 'imag',\n",
              " 'numerator',\n",
              " 'real',\n",
              " 'to_bytes']"
            ]
          },
          "metadata": {},
          "execution_count": 14
        }
      ]
    },
    {
      "cell_type": "code",
      "source": [
        "T = (1,2,3)\n",
        "dir(T)"
      ],
      "metadata": {
        "colab": {
          "base_uri": "https://localhost:8080/"
        },
        "id": "QQcESnLT-Kks",
        "outputId": "2f439a5f-6611-4239-ea0f-a7f493f0ed58"
      },
      "execution_count": 15,
      "outputs": [
        {
          "output_type": "execute_result",
          "data": {
            "text/plain": [
              "['__add__',\n",
              " '__class__',\n",
              " '__class_getitem__',\n",
              " '__contains__',\n",
              " '__delattr__',\n",
              " '__dir__',\n",
              " '__doc__',\n",
              " '__eq__',\n",
              " '__format__',\n",
              " '__ge__',\n",
              " '__getattribute__',\n",
              " '__getitem__',\n",
              " '__getnewargs__',\n",
              " '__gt__',\n",
              " '__hash__',\n",
              " '__init__',\n",
              " '__init_subclass__',\n",
              " '__iter__',\n",
              " '__le__',\n",
              " '__len__',\n",
              " '__lt__',\n",
              " '__mul__',\n",
              " '__ne__',\n",
              " '__new__',\n",
              " '__reduce__',\n",
              " '__reduce_ex__',\n",
              " '__repr__',\n",
              " '__rmul__',\n",
              " '__setattr__',\n",
              " '__sizeof__',\n",
              " '__str__',\n",
              " '__subclasshook__',\n",
              " 'count',\n",
              " 'index']"
            ]
          },
          "metadata": {},
          "execution_count": 15
        }
      ]
    },
    {
      "cell_type": "code",
      "source": [
        "# how to check if object is iterator or not\n",
        "L = [1,2,3]   # not iterator\n",
        "dir(L)"
      ],
      "metadata": {
        "colab": {
          "base_uri": "https://localhost:8080/"
        },
        "id": "e_qgq-UV-fkD",
        "outputId": "e59cec51-bfd2-4c8e-d180-c7cd4028ffe1"
      },
      "execution_count": 16,
      "outputs": [
        {
          "output_type": "execute_result",
          "data": {
            "text/plain": [
              "['__add__',\n",
              " '__class__',\n",
              " '__class_getitem__',\n",
              " '__contains__',\n",
              " '__delattr__',\n",
              " '__delitem__',\n",
              " '__dir__',\n",
              " '__doc__',\n",
              " '__eq__',\n",
              " '__format__',\n",
              " '__ge__',\n",
              " '__getattribute__',\n",
              " '__getitem__',\n",
              " '__gt__',\n",
              " '__hash__',\n",
              " '__iadd__',\n",
              " '__imul__',\n",
              " '__init__',\n",
              " '__init_subclass__',\n",
              " '__iter__',\n",
              " '__le__',\n",
              " '__len__',\n",
              " '__lt__',\n",
              " '__mul__',\n",
              " '__ne__',\n",
              " '__new__',\n",
              " '__reduce__',\n",
              " '__reduce_ex__',\n",
              " '__repr__',\n",
              " '__reversed__',\n",
              " '__rmul__',\n",
              " '__setattr__',\n",
              " '__setitem__',\n",
              " '__sizeof__',\n",
              " '__str__',\n",
              " '__subclasshook__',\n",
              " 'append',\n",
              " 'clear',\n",
              " 'copy',\n",
              " 'count',\n",
              " 'extend',\n",
              " 'index',\n",
              " 'insert',\n",
              " 'pop',\n",
              " 'remove',\n",
              " 'reverse',\n",
              " 'sort']"
            ]
          },
          "metadata": {},
          "execution_count": 16
        }
      ]
    },
    {
      "cell_type": "code",
      "source": [
        "iter_L = iter(L)   # iter_L is iterator\n",
        "dir(iter_L)"
      ],
      "metadata": {
        "colab": {
          "base_uri": "https://localhost:8080/"
        },
        "id": "8GLgQeRD_F7a",
        "outputId": "d94d890d-fe27-40cb-dfc5-1bd0d5c38e73"
      },
      "execution_count": 17,
      "outputs": [
        {
          "output_type": "execute_result",
          "data": {
            "text/plain": [
              "['__class__',\n",
              " '__delattr__',\n",
              " '__dir__',\n",
              " '__doc__',\n",
              " '__eq__',\n",
              " '__format__',\n",
              " '__ge__',\n",
              " '__getattribute__',\n",
              " '__gt__',\n",
              " '__hash__',\n",
              " '__init__',\n",
              " '__init_subclass__',\n",
              " '__iter__',\n",
              " '__le__',\n",
              " '__length_hint__',\n",
              " '__lt__',\n",
              " '__ne__',\n",
              " '__new__',\n",
              " '__next__',\n",
              " '__reduce__',\n",
              " '__reduce_ex__',\n",
              " '__repr__',\n",
              " '__setattr__',\n",
              " '__setstate__',\n",
              " '__sizeof__',\n",
              " '__str__',\n",
              " '__subclasshook__']"
            ]
          },
          "metadata": {},
          "execution_count": 17
        }
      ]
    },
    {
      "cell_type": "markdown",
      "source": [
        "#### Understanding how for loop works"
      ],
      "metadata": {
        "id": "MLA0Hk1BZnjp"
      }
    },
    {
      "cell_type": "code",
      "source": [
        "L = [1,2,3]\n",
        "for i in L:\n",
        "  print(i)"
      ],
      "metadata": {
        "colab": {
          "base_uri": "https://localhost:8080/"
        },
        "id": "Orf5kx1d_PbV",
        "outputId": "264abe1d-7e6b-4486-897f-0f257010d1a6"
      },
      "execution_count": 1,
      "outputs": [
        {
          "output_type": "stream",
          "name": "stdout",
          "text": [
            "1\n",
            "2\n",
            "3\n"
          ]
        }
      ]
    },
    {
      "cell_type": "code",
      "source": [
        "L = [1,2,3]\n",
        "\n",
        "# step1 - fetch iterator\n",
        "iter_L = iter(L)\n",
        "\n",
        "# step2 - fetch elements using next\n",
        "print(next(iter_L))\n",
        "print(next(iter_L))\n",
        "print(next(iter_L))\n",
        "print(next(iter_L))"
      ],
      "metadata": {
        "colab": {
          "base_uri": "https://localhost:8080/",
          "height": 228
        },
        "id": "hgocfZArZsyw",
        "outputId": "6a986f1a-8d3e-4db2-e4d0-3afaa5cf1d7f"
      },
      "execution_count": 2,
      "outputs": [
        {
          "output_type": "stream",
          "name": "stdout",
          "text": [
            "1\n",
            "2\n",
            "3\n"
          ]
        },
        {
          "output_type": "error",
          "ename": "StopIteration",
          "evalue": "",
          "traceback": [
            "\u001b[0;31m---------------------------------------------------------------------------\u001b[0m",
            "\u001b[0;31mStopIteration\u001b[0m                             Traceback (most recent call last)",
            "\u001b[0;32m<ipython-input-2-c71e70b5ab5d>\u001b[0m in \u001b[0;36m<cell line: 10>\u001b[0;34m()\u001b[0m\n\u001b[1;32m      8\u001b[0m \u001b[0mprint\u001b[0m\u001b[0;34m(\u001b[0m\u001b[0mnext\u001b[0m\u001b[0;34m(\u001b[0m\u001b[0miter_L\u001b[0m\u001b[0;34m)\u001b[0m\u001b[0;34m)\u001b[0m\u001b[0;34m\u001b[0m\u001b[0;34m\u001b[0m\u001b[0m\n\u001b[1;32m      9\u001b[0m \u001b[0mprint\u001b[0m\u001b[0;34m(\u001b[0m\u001b[0mnext\u001b[0m\u001b[0;34m(\u001b[0m\u001b[0miter_L\u001b[0m\u001b[0;34m)\u001b[0m\u001b[0;34m)\u001b[0m\u001b[0;34m\u001b[0m\u001b[0;34m\u001b[0m\u001b[0m\n\u001b[0;32m---> 10\u001b[0;31m \u001b[0mprint\u001b[0m\u001b[0;34m(\u001b[0m\u001b[0mnext\u001b[0m\u001b[0;34m(\u001b[0m\u001b[0miter_L\u001b[0m\u001b[0;34m)\u001b[0m\u001b[0;34m)\u001b[0m\u001b[0;34m\u001b[0m\u001b[0;34m\u001b[0m\u001b[0m\n\u001b[0m",
            "\u001b[0;31mStopIteration\u001b[0m: "
          ]
        }
      ]
    },
    {
      "cell_type": "markdown",
      "source": [
        "#### Making your own for loop"
      ],
      "metadata": {
        "id": "HM5fYTMSaikX"
      }
    },
    {
      "cell_type": "code",
      "source": [
        "def my_loop(iterable):\n",
        "\n",
        "  iterator = iter(iterable)\n",
        "\n",
        "  while True:\n",
        "    try:\n",
        "      print(next(iterator))\n",
        "    except StopIteration:\n",
        "      break"
      ],
      "metadata": {
        "id": "p2uGWP7TapUY"
      },
      "execution_count": 3,
      "outputs": []
    },
    {
      "cell_type": "code",
      "source": [
        "my_loop([1,2,3,4,5])"
      ],
      "metadata": {
        "colab": {
          "base_uri": "https://localhost:8080/"
        },
        "id": "0B4omMEzaxrN",
        "outputId": "25f23eb6-0609-4226-c06c-d4fc1c9edd0d"
      },
      "execution_count": 7,
      "outputs": [
        {
          "output_type": "stream",
          "name": "stdout",
          "text": [
            "1\n",
            "2\n",
            "3\n",
            "4\n",
            "5\n"
          ]
        }
      ]
    },
    {
      "cell_type": "code",
      "source": [
        "my_loop({1:2,3:4,5:6})"
      ],
      "metadata": {
        "colab": {
          "base_uri": "https://localhost:8080/"
        },
        "id": "wsLyk_HxazJB",
        "outputId": "4d3d3167-9ed5-47dd-95ce-58de881185af"
      },
      "execution_count": 8,
      "outputs": [
        {
          "output_type": "stream",
          "name": "stdout",
          "text": [
            "1\n",
            "3\n",
            "5\n"
          ]
        }
      ]
    },
    {
      "cell_type": "markdown",
      "source": [
        "#### A confusing point"
      ],
      "metadata": {
        "id": "4WcjnunVcGYJ"
      }
    },
    {
      "cell_type": "code",
      "source": [
        "num = [1,2,3]\n",
        "iter_obj1 = iter(num)\n",
        "iter_obj2 = iter(iter_obj1)\n",
        "\n",
        "print(id(iter_obj1),'Address of iter_obj1')\n",
        "print(id(iter_obj2),'Address of iter_obj2')"
      ],
      "metadata": {
        "colab": {
          "base_uri": "https://localhost:8080/"
        },
        "id": "mupIm1OocI2X",
        "outputId": "7c9ee596-4e08-42e9-ff54-e9af55af023a"
      },
      "execution_count": 9,
      "outputs": [
        {
          "output_type": "stream",
          "name": "stdout",
          "text": [
            "135692581452720 Address of iter_obj1\n",
            "135692581452720 Address of iter_obj2\n"
          ]
        }
      ]
    },
    {
      "cell_type": "markdown",
      "source": [
        "![image.png](data:image/png;base64,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)"
      ],
      "metadata": {
        "id": "IzzVVxXTcm8F"
      }
    },
    {
      "cell_type": "markdown",
      "source": [
        "iter function on iterator gives itself."
      ],
      "metadata": {
        "id": "H_Yz26KOculh"
      }
    },
    {
      "cell_type": "markdown",
      "source": [
        "#### Let's create our own range() function"
      ],
      "metadata": {
        "id": "ecxMXweFdkCo"
      }
    },
    {
      "cell_type": "code",
      "source": [
        "class my_range():\n",
        "\n",
        "  def __init__(self, start,end):\n",
        "    self.start = start\n",
        "    self.end = end\n",
        "\n",
        "  def __iter__(self):\n",
        "    return my_range_iterator(self)"
      ],
      "metadata": {
        "id": "pnGXn58Acn5_"
      },
      "execution_count": 10,
      "outputs": []
    },
    {
      "cell_type": "code",
      "source": [
        "class my_range_iterator():\n",
        "\n",
        "  def __init__(self,iterable_obj):\n",
        "    self.iterable_obj = iterable_obj\n",
        "\n",
        "  def __iter__(self):\n",
        "    return self\n",
        "\n",
        "  def __next__(self):\n",
        "\n",
        "    if self.iterable_obj.start >= self.iterable_obj.end:\n",
        "      raise StopIteration\n",
        "    else:\n",
        "      current = self.iterable_obj.start\n",
        "      self.iterable_obj.start += 1\n",
        "      return current"
      ],
      "metadata": {
        "id": "CdD_JpoHdpyk"
      },
      "execution_count": 11,
      "outputs": []
    },
    {
      "cell_type": "code",
      "source": [
        "for i in my_range(1,10):\n",
        "  print(i)"
      ],
      "metadata": {
        "colab": {
          "base_uri": "https://localhost:8080/"
        },
        "id": "A88MPfbzgk3-",
        "outputId": "4e3db946-7046-42ef-d86e-7acdce9d29ff"
      },
      "execution_count": 12,
      "outputs": [
        {
          "output_type": "stream",
          "name": "stdout",
          "text": [
            "1\n",
            "2\n",
            "3\n",
            "4\n",
            "5\n",
            "6\n",
            "7\n",
            "8\n",
            "9\n"
          ]
        }
      ]
    },
    {
      "cell_type": "code",
      "source": [
        "x = my_range(1,10)"
      ],
      "metadata": {
        "id": "FSU0cJgBgl39"
      },
      "execution_count": 13,
      "outputs": []
    },
    {
      "cell_type": "code",
      "source": [
        "print(type(x))"
      ],
      "metadata": {
        "colab": {
          "base_uri": "https://localhost:8080/"
        },
        "id": "xCOsY_UGgwcT",
        "outputId": "02b86856-a109-4a55-da60-3d8dc1f3c725"
      },
      "execution_count": 15,
      "outputs": [
        {
          "output_type": "stream",
          "name": "stdout",
          "text": [
            "<class '__main__.my_range'>\n"
          ]
        }
      ]
    },
    {
      "cell_type": "code",
      "source": [
        "type(x)"
      ],
      "metadata": {
        "colab": {
          "base_uri": "https://localhost:8080/",
          "height": 104
        },
        "id": "oiwVdzTxgyil",
        "outputId": "7df0b98f-9075-4b9d-9e54-c7a3e6fbe95d"
      },
      "execution_count": 16,
      "outputs": [
        {
          "output_type": "execute_result",
          "data": {
            "text/plain": [
              "__main__.my_range"
            ],
            "text/html": [
              "<div style=\"max-width:800px; border: 1px solid var(--colab-border-color);\"><style>\n",
              "      pre.function-repr-contents {\n",
              "        overflow-x: auto;\n",
              "        padding: 8px 12px;\n",
              "        max-height: 500px;\n",
              "      }\n",
              "\n",
              "      pre.function-repr-contents.function-repr-contents-collapsed {\n",
              "        cursor: pointer;\n",
              "        max-height: 100px;\n",
              "      }\n",
              "    </style>\n",
              "    <pre style=\"white-space: initial; background:\n",
              "         var(--colab-secondary-surface-color); padding: 8px 12px;\n",
              "         border-bottom: 1px solid var(--colab-border-color);\"><b>my_range</b><br/>def __init__(start, end)</pre><pre class=\"function-repr-contents function-repr-contents-collapsed\" style=\"\"><a class=\"filepath\" style=\"display:none\" href=\"#\"></a>&lt;no docstring&gt;</pre></div>"
            ]
          },
          "metadata": {},
          "execution_count": 16
        }
      ]
    },
    {
      "cell_type": "code",
      "source": [
        "type(iter(x))"
      ],
      "metadata": {
        "colab": {
          "base_uri": "https://localhost:8080/",
          "height": 104
        },
        "id": "-uDMHBuag7q2",
        "outputId": "b3a92b2a-8b04-48e8-f737-1ea8f64e4024"
      },
      "execution_count": 17,
      "outputs": [
        {
          "output_type": "execute_result",
          "data": {
            "text/plain": [
              "__main__.my_range_iterator"
            ],
            "text/html": [
              "<div style=\"max-width:800px; border: 1px solid var(--colab-border-color);\"><style>\n",
              "      pre.function-repr-contents {\n",
              "        overflow-x: auto;\n",
              "        padding: 8px 12px;\n",
              "        max-height: 500px;\n",
              "      }\n",
              "\n",
              "      pre.function-repr-contents.function-repr-contents-collapsed {\n",
              "        cursor: pointer;\n",
              "        max-height: 100px;\n",
              "      }\n",
              "    </style>\n",
              "    <pre style=\"white-space: initial; background:\n",
              "         var(--colab-secondary-surface-color); padding: 8px 12px;\n",
              "         border-bottom: 1px solid var(--colab-border-color);\"><b>my_range_iterator</b><br/>def __init__(iterable_obj)</pre><pre class=\"function-repr-contents function-repr-contents-collapsed\" style=\"\"><a class=\"filepath\" style=\"display:none\" href=\"#\"></a>&lt;no docstring&gt;</pre></div>"
            ]
          },
          "metadata": {},
          "execution_count": 17
        }
      ]
    },
    {
      "cell_type": "code",
      "source": [
        "print(type(iter(x)))"
      ],
      "metadata": {
        "colab": {
          "base_uri": "https://localhost:8080/"
        },
        "id": "Hx5vh2EohBhQ",
        "outputId": "c3b0db09-2fc6-49ed-dd85-be64b3ad31f5"
      },
      "execution_count": 18,
      "outputs": [
        {
          "output_type": "stream",
          "name": "stdout",
          "text": [
            "<class '__main__.my_range_iterator'>\n"
          ]
        }
      ]
    },
    {
      "cell_type": "code",
      "source": [
        "x"
      ],
      "metadata": {
        "colab": {
          "base_uri": "https://localhost:8080/"
        },
        "id": "Q6jQWPhShFOx",
        "outputId": "8c0a4b35-3115-4f67-8e5d-5d3d6ad87886"
      },
      "execution_count": 19,
      "outputs": [
        {
          "output_type": "execute_result",
          "data": {
            "text/plain": [
              "<__main__.my_range at 0x7b6974e9f550>"
            ]
          },
          "metadata": {},
          "execution_count": 19
        }
      ]
    },
    {
      "cell_type": "code",
      "source": [
        "iter(x)"
      ],
      "metadata": {
        "colab": {
          "base_uri": "https://localhost:8080/"
        },
        "id": "-elsBnROhXBy",
        "outputId": "1b01d09c-83bd-4d10-ea0b-dba320b50a95"
      },
      "execution_count": 20,
      "outputs": [
        {
          "output_type": "execute_result",
          "data": {
            "text/plain": [
              "<__main__.my_range_iterator at 0x7b6974e9ff40>"
            ]
          },
          "metadata": {},
          "execution_count": 20
        }
      ]
    },
    {
      "cell_type": "markdown",
      "source": [
        "## Generators"
      ],
      "metadata": {
        "id": "7rx6agfTM3bj"
      }
    },
    {
      "cell_type": "markdown",
      "source": [
        "#### What is a Generator\n",
        "Python generators are a simple way of creating iterators."
      ],
      "metadata": {
        "id": "-2VKUcK_WlJl"
      }
    },
    {
      "cell_type": "code",
      "source": [
        "# iterable\n",
        "class my_range:\n",
        "\n",
        "    def __init__(self,start,end):\n",
        "        self.start = start\n",
        "        self.end = end\n",
        "\n",
        "    def __iter__(self):\n",
        "        return my_iterator(self)\n",
        "\n",
        "\n",
        "# iterator\n",
        "class my_iterator:\n",
        "\n",
        "    def __init__(self,iterable_obj):\n",
        "        self.iterable = iterable_obj\n",
        "\n",
        "    def __iter__(self):\n",
        "        return self\n",
        "\n",
        "    def __next__(self):\n",
        "\n",
        "        if self.iterable.start >= self.iterable.end:\n",
        "            raise StopIteration\n",
        "\n",
        "        current = self.iterable.start\n",
        "        self.iterable.start+=1\n",
        "        return current"
      ],
      "metadata": {
        "id": "IoUEC208Tqxu"
      },
      "execution_count": null,
      "outputs": []
    },
    {
      "cell_type": "markdown",
      "source": [
        "#### Why we use iterator?"
      ],
      "metadata": {
        "id": "yqZurwoGWzmG"
      }
    },
    {
      "cell_type": "code",
      "source": [
        "L = [x for x in range(100000)]\n",
        "\n",
        "#for i in L:\n",
        "    #print(i**2)\n",
        "\n",
        "import sys\n",
        "print(sys.getsizeof(L), 'list size')\n",
        "\n",
        "x = range(10000000)      # more memory-efficient (store one item at a time)\n",
        "\n",
        "#for i in x:\n",
        "    #print(i**2)\n",
        "print(sys.getsizeof(x),'iterator size')"
      ],
      "metadata": {
        "colab": {
          "base_uri": "https://localhost:8080/"
        },
        "id": "3NFphV53XYub",
        "outputId": "9e70c455-52f0-49fd-f362-6491a0a8805f"
      },
      "execution_count": 1,
      "outputs": [
        {
          "output_type": "stream",
          "name": "stdout",
          "text": [
            "800984 list size\n",
            "48 iterator size\n"
          ]
        }
      ]
    },
    {
      "cell_type": "markdown",
      "source": [
        "#### A Simple Generator Example\n",
        "\n",
        "Generator is function which contains yield keyword and not return keyword in it."
      ],
      "metadata": {
        "id": "Q6ncxmtnYgTN"
      }
    },
    {
      "cell_type": "code",
      "source": [
        "def gen_demo():\n",
        "\n",
        "  yield 'first statement'\n",
        "  yield 'second statement'\n",
        "  yield 'third statement'"
      ],
      "metadata": {
        "id": "CCkChiSuYMq3"
      },
      "execution_count": 2,
      "outputs": []
    },
    {
      "cell_type": "code",
      "source": [
        "gen = gen_demo()\n",
        "print(gen)  # generator function returns generator object"
      ],
      "metadata": {
        "colab": {
          "base_uri": "https://localhost:8080/"
        },
        "id": "nuJu8so2YSfH",
        "outputId": "0e6012c7-57fb-4342-8a99-837183163c4a"
      },
      "execution_count": 3,
      "outputs": [
        {
          "output_type": "stream",
          "name": "stdout",
          "text": [
            "<generator object gen_demo at 0x7c817952e2d0>\n"
          ]
        }
      ]
    },
    {
      "cell_type": "code",
      "source": [
        "print(next(gen))"
      ],
      "metadata": {
        "colab": {
          "base_uri": "https://localhost:8080/"
        },
        "id": "brxku1fwYWWo",
        "outputId": "33129aec-f561-41ce-d55a-0c4f13e1a854"
      },
      "execution_count": 4,
      "outputs": [
        {
          "output_type": "stream",
          "name": "stdout",
          "text": [
            "first statement\n"
          ]
        }
      ]
    },
    {
      "cell_type": "code",
      "source": [
        "print(next(gen))"
      ],
      "metadata": {
        "colab": {
          "base_uri": "https://localhost:8080/"
        },
        "id": "gt8MIvSWYYRf",
        "outputId": "1db20620-c8e7-4fd2-98d4-bafb8653db40"
      },
      "execution_count": 5,
      "outputs": [
        {
          "output_type": "stream",
          "name": "stdout",
          "text": [
            "second statement\n"
          ]
        }
      ]
    },
    {
      "cell_type": "code",
      "source": [
        "print(next(gen))"
      ],
      "metadata": {
        "colab": {
          "base_uri": "https://localhost:8080/"
        },
        "id": "wVfiaThrYZ-u",
        "outputId": "1dc277b4-bb4b-42ae-a9e6-9eea73337777"
      },
      "execution_count": 6,
      "outputs": [
        {
          "output_type": "stream",
          "name": "stdout",
          "text": [
            "third statement\n"
          ]
        }
      ]
    },
    {
      "cell_type": "code",
      "source": [
        "print(next(gen))"
      ],
      "metadata": {
        "colab": {
          "base_uri": "https://localhost:8080/",
          "height": 141
        },
        "id": "wnV68L1oYbig",
        "outputId": "38754b9a-b861-40a1-a0a9-64499affe9dd"
      },
      "execution_count": 7,
      "outputs": [
        {
          "output_type": "error",
          "ename": "StopIteration",
          "evalue": "",
          "traceback": [
            "\u001b[0;31m---------------------------------------------------------------------------\u001b[0m",
            "\u001b[0;31mStopIteration\u001b[0m                             Traceback (most recent call last)",
            "\u001b[0;32m<ipython-input-7-be0d7584d73f>\u001b[0m in \u001b[0;36m<cell line: 1>\u001b[0;34m()\u001b[0m\n\u001b[0;32m----> 1\u001b[0;31m \u001b[0mprint\u001b[0m\u001b[0;34m(\u001b[0m\u001b[0mnext\u001b[0m\u001b[0;34m(\u001b[0m\u001b[0mgen\u001b[0m\u001b[0;34m)\u001b[0m\u001b[0;34m)\u001b[0m\u001b[0;34m\u001b[0m\u001b[0;34m\u001b[0m\u001b[0m\n\u001b[0m",
            "\u001b[0;31mStopIteration\u001b[0m: "
          ]
        }
      ]
    },
    {
      "cell_type": "code",
      "source": [
        "gen = gen_demo()\n",
        "for i in gen:\n",
        "  print(i)"
      ],
      "metadata": {
        "colab": {
          "base_uri": "https://localhost:8080/"
        },
        "id": "wjwOuxtDYdD5",
        "outputId": "1f73ad3e-d271-47d1-aa3b-e03267dee34a"
      },
      "execution_count": 8,
      "outputs": [
        {
          "output_type": "stream",
          "name": "stdout",
          "text": [
            "first statement\n",
            "second statement\n",
            "third statement\n"
          ]
        }
      ]
    },
    {
      "cell_type": "code",
      "source": [
        "def gen_demo():\n",
        "\n",
        "  yield 'first statement'\n",
        "  yield 'second statement'\n",
        "  yield 'third statement'\n",
        "\n",
        "gen = gen_demo()   # this statement is not calling generator function\n",
        "\n",
        "for i in gen:   # calling generator function\n",
        "  print(i)\n",
        "\n",
        "# yield stores the state of the function. -> and in next calling start from there"
      ],
      "metadata": {
        "colab": {
          "base_uri": "https://localhost:8080/"
        },
        "id": "3_oX_XejbI_N",
        "outputId": "c5a51267-f608-4cf6-deba-0b0b0c8d6f4c"
      },
      "execution_count": 9,
      "outputs": [
        {
          "output_type": "stream",
          "name": "stdout",
          "text": [
            "first statement\n",
            "second statement\n",
            "third statement\n"
          ]
        }
      ]
    },
    {
      "cell_type": "markdown",
      "source": [
        "![image.png](data:image/png;base64,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)"
      ],
      "metadata": {
        "id": "q9pwVfipaC2r"
      }
    },
    {
      "cell_type": "markdown",
      "source": [
        "![image.png](data:image/png;base64,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)"
      ],
      "metadata": {
        "id": "f5yS1OB7aR0c"
      }
    },
    {
      "cell_type": "markdown",
      "source": [
        "![image.png](data:image/png;base64,iVBORw0KGgoAAAANSUhEUgAAAmkAAAEbCAIAAAAOEYTSAAAgAElEQVR4Ae2d7XMTR77v/Vfcmzf3Rar2xUmd8+JuJVUbbnZriU5xKbyVsNEtnyWcmwKuT5JNOWxIeVmSOMSLLRyX45hFxxvFG+EAuzIpszz52sAlZbyJExkRLGLk2BiwbGRbspCNIj8jDH2r57FnNHqyJY00+qooPNPz6+5ff3pmvvr1jLpLCD4gAAIgAAIgAALpEChJxxi2IAACIAACIAACBNqJkwAEQAAEQAAE0iMA7UyPF6xBAARAAARAANqJcwAEQAAEQAAE0iMA7UyPF6xBAARAAARAANqJcwAEQAAEQAAE0iMA7UyPF6xBAARAAARAANqJcwAEQAAEQAAE0iMA7UyPF6xBAARAAARAANqJcwAEQAAEQAAE0iMA7UyPF6xBAARAAARAANqJcwAEQAAEQAAE0iMA7UyPF6xBAARAAARAANqJcwAE8o+Ap+292vr6g7VNDlfoEeOep63pcojZ5zd9PWc8kZjU+Akp2muZrXjsH5/1My75O6tt7vhVxTmytlxxChOSQ5eb2jwxJm5bdadfTh3vOTuQDio5Z1pbEc+ZHl9aObSMtVvEWs5camr+ZpFNwXauCEA7k5Hus5jbAsmMcBwEMkrAbeMFKXS+3uaO+j2joRX/8NXRyP1Rz1SUkMiox+cf9biuDoeiJDp1tn6f7dJV1+h9xoeIz3PV5RoKRQkhQi66MXqftafl+IZcfDlcsX5qTyKjoxHNYn1/bzo5KtSy6PO4rrp6Wt+jrtIqIpFRj2cqGrrpcklVExIZp2aeAQ/rnqSd/NHhYJQQ2kwqa4u+YdpGErrJ7T6K+AYUHlIIHt5Pwufi4cxOCVUoanTbqs8Mjw7wKKL+c/W/t11yXeVKFmlFg8PUw9EIrVXNjW/Uot8z7J8adl31+HjlTezVfbdtX33bVRfXWdEQJSxmFCqNjHr8UkMYCKIDA77IIxLlWhQZ5Xhedbk4rwVvx4VvAJEvm47FfmMQm4a/2SNQpNrprCkRPmWOJMK4Hu2ccJiFasyOiZhOFI9Cm2PQFH2CqJ2j7e/Z3P6uD35f387d8YUoym3bU3/S7Qu5j9X+dZisfGN9/+RwJLLI6R5l92j42Mdtw8GI77LVejlCpNiLL1a2p+WcHQqFhtrqW9xR4rZ90MXFaG5bi1ujWBLqahalc+hYdfM3vkjI3fp7qp1uW8UHtq6vXZ6pRf+4LxKJjJ6ptfZFydCx6hZXSDITO1bQzqFjTSeGQxFfT7O15z4Z/mtTV5BELjdV2FxRMnrS2uUnkR6rtccXifguNdFEt62i2tb5jUvWThnObT4CVtXotu1p4FAdrT02RKLfWt9rV6CSPBz90jUaw01slK/rg/dsX4+GfJfqP+6JJPUq6jv5vvWbSGRxhURoF/giweG2j48Ny/G63JAZ3iDiu/SxzbUyfKzh7GgkEhpyDUcITym6GIlEQh5Hrc29SARiIffRppN8YBvpsf51WOSKv7kjULzaaemjlANtZi3pCjjKLE6+F9alnU4nL5l9lhK1SDstJSW8D7nrbdRUKATctj3v19fX1lo7RxeJv+sDcVhU0k5W5GTNE5sX6LIJA5VuW0NPRKWdsr0klv6zti4/m97C6aFQi1gscdtsLn7H32k7O0U3BRWUqiCLo1/amw7W17+/p7rTrzYTS+Jz+TttXfxXV7etntN467f+nr929TjsrkCPrX2UavIHtrNnzp4902a19YRkD8WCGDhSmdqO8d8bZD+FEkbbm3h7uh+Pm1yLv6uFB5WqV+4Woe/8nfXHhiS3JfLE3VJtow0829Zs6wn6L9W/V287eYkbMBDYEkIFvtUTpbSb6v9Kjc+21osD1FwXSwVjI1cEil07SZ+lpMbprJFkzGkpcwy0ieFijZP0Wcxlwq4gdWK8WFLDyeuEw1xm5i20ZJjrSa4WRZ/GpigOY6e4CYhxJ0chqXZ67LV8vChCC3ZZqfAQGjvaXOq4k0j24h38kefYx12MMnFxp2wmFkuGj1l7+LFCSQnU2jl6sv4EVzWnUqHzwoii/xw3tCuWxOcKnbfyYWz0W6vtKvXWZrUe6/SToTZbs/XYACHEY7eyz/NEh8VyiKxqgoqra5TEkkc6YK9lH39SNaqXxzzjcZNr4bUzqVehrlpBMj2t1m9WqLsKkWa+BFAD5RPL6GLIffQ9+4D4vWTRbT/UxT9jDp23tt2WG89t8Z2lSsRu1gkUu3Y6a0qo4FH9o4O3YhiqiDtljaRiGXCUCQOwguKKeQmhuhszAkzjy5igk1YkjhpzDmS9o1FBQRFITzujrpbqplZ7z7jUxkX30dp6m93WYO2aImTFZdtXa7NZrQd5AZPs6cihtdVuq68/5lkkJOqy/Z6zq32Pxp2SmVRs1GWzuTglIIFL9e/W22zW+nf38GO2wis5Kx77B7W2Vrvt4O9pyqKn7eDv3/ugtqmWioH0ERR30X3sYL2t1VZv5bXB3/VBNReJDh/bI0iO/7K1tsFmb7XWW1OKO9U1qrRzxWX7Y5O9lXmRZ9Ft/2O9rdVupYGckpuUV62dJJlXxHeuvt5mp+8lTXXVH7RS/4+6GYlkvgRM9VgpBDttYdDTRo3t1gab6z6vnZGej/dUW+32Vrv9Hz6udbW0yz6uFuLO0ZNW5bcBCTI2skqgeLVT9bzTWWN2TEiSKW0QGnfy7wpNOMxUOxmB5A8J6URxSNVpsr4KB0SR5nKViOPDqlzYBYF1EIguLkalB2yPoou85ikKZO7gYnpUfmoqJrF/h441nRNfW9UukxA2nd9+FHHZxIiVLY1uRxfnpee06mPifjSq4bx4UPU3eY2qDOpdBTf1QXY/Za8e0SLZnLHb0RXZIEkX0OGEqGi96GqxqcLW2MKRkg0Cxaud6meNfTQ+FEJMGlyKeqbWTq24kx+8ZWWV66tAm0V4RUh63ikN1UobxGmBdmbj1EaZyQlo/QolSa7o8PmT7pkkRvLhleGuVru9te3STeG9UPlQlrZyX2OWGpJCsdHRS110wAAfHQhAOyXoTkuJ/DasMKbKP+9UxJ2EDvDyQav0vDOOdsqWUsmyZBLpXV+1ikseYQMEQAAEQCAvCRSpdmr1BTMYq3UYaSAAAiAAAiDAE4B2CmdCoM2M+A9XRZ4QaMEHBEAgGQF9r1Zop778UTsIaBBoaWnRSEUSCICASED3awTaKXYF/oJA3hDQ/b6QNyTgCAhoE9D9GjGkdt5o3t87qw18PamBzv0XBgmZ7Tn3xc345dzsru8JEHL3q44f5jWspPSbX/zJlQUnNapEUsER0P2+UHDE4HCxEdD9GjG0di7eHbwVeBD2Dvomxwev99/i5y1Ynff90N9//da9B4SQ+fEf/MuErN67NU6F7MHUbf/ykn/wtj9ws7//h/G5VeaMFLTzQeCH8TAhtNi7t/qv94/eI3N3B/uvD05xWhn2DgaWHgR6q/Z0ftl/fTy8Ojt6vb9fqJ1Jnx0fnKQerAZoIYN352lVMVWv/kg9V3vCOIVNIxLQ/b5gRKhok6EI6H6NGFc7F2+f/tOFwUVCblz4t/p/DE4FBh0nj90i5Nal+vabs3N3v/pz51dhMv/1uc8GCbnV/b/3/cNPlvr+fGFwNdC5/4vmb72zU84DH7uY2FGMOy+ebL7BF9t7616g71PHbz+/7p/znq6mUSm5cWHvxQCJXm/a949bc7MPVpf8vrvzc7PjHSebri4x6XxwPPuVtfOrqdnZW931jpuEqKu+5Th9enx2/t7N/luIUQ115SdujOq+4O2oNG8ymV6o6uLXH+uzPFXm8CYugj067x2aWGYTkm6HPUPhhEZJDRLm1jqYvpNapSCtWAiorpHcN9ug2rmvs7m+s5//0TAvZpyqNd8gsxcvdN7jON+4cODrWXKvt+mU91b7pa96LpyeunnsyLUHVMA4FSSBziPs2K9aO6lGEjLLSykhg0dO0pKF6qRx4/nxngv1B08f2Ofg7KV0fuNG85EbnDeBzvpLt2Kqnu0+/dv6ztM9N2fZADj3pwlqzC0B5X3BbdliVyjlw8DQ7cTSpnRXmt9DmRx/j5kbRNsoqYF2tkSpaTuZqDAcMzwB5TWiQ3MNqp17uvv7L7x15AYdFFVp56XO09zaPQ/6zjVfXyXEe/pIZ7PjBplzffbnzs8u0UltM6GdP3xWzemu7x9V7dzkzYIbYjrhtfOHz/58jTpJvKc/7vVrVr06P3vj0luf/6DD2YEqdSIg3xfmw+FwV9VL9qFwOBymsWOgo9K0acOT8szJTstLjfa67aXPm0qb3NRirKvq5VLTJlPpu11hQtxWk+nZJ5/4F5Npk8lk1VyletltLS99wWTaZLZ76FoilZtMTz3x5IZNJtOmSm522SH7y6WldLe8+fqylsHyUGvl9t0V5bwBcVp2VVZt2lBpba54dkNV7zIhKgPirKlobq0sfWHDhl2nvCk5qVNPoNp8JSBfIzp5aFDtpO8Krc72ddZ33VVpJ1m8caz2XPPnnQesTj8N5lYHjxxvvrFKyOxX9V9wspoR7Vzq/8vJ+s8vfXXnh8/eO938+YXm2i+4uFNM9/Haueq/dK7Keukz67ljN+ZjZXvwxOmmz+nR5qsYs9XpEtGjWum+4O1obGyoKP3v26saGhsbusTok53Hw2l5YrtjjH79crxEJ5IMtJkrOpRRaZKQzmnZ1Dz0kG1nnLByjJ/SmSq4PGklIeS2fXsDp8rzXRWvnAoQJw2UxxzmXafCEw5LWyDGgDhrfsppKnHuFyfzSuIk6x62QYBI14heLAypnUlhPniwuJTUKGMGq0sPogmHXKM/PkhwPDqf6GjGvERBeURAeV9glZJ3kk1ht7mj80OOvWZTWUXzZXFRn2SyFO5tLN9kKq85JT7kVEojCTsbKra/Wl7+iulJYfpJhcHy+YonN20vf7W8/NXt5jL7EHFaapx0Qkruf0tbIMaAcEsvUG+lDXnRhTzqB7iSvwSU14gOfhpQO7e9deYX244b7N+2t87ocHagSp0IKO8LMeqoWHUg9ijn9EOvvWz7KV49+yzm42LIGr9F4ctVG+r4Qd2Ao6xKWPudEPKdxfQJt2rzmJ1bSoiPOxUGpbyBULhaO8l3FqWBLJkK7UzByfju40hxEVBeIzq03YDaqQNFVAkCGSWgvC8o1JE+v9y04cknnjJtMjV/p7Hyndtqrtjf2Li/onwv97CSELLsbtxSWr6/quIvWs87A12VuyobGxord3GPM7mGBE6XbyirbNxroUWEuiqeNVfSAitE7SQKA+Lteru09I2qxobK8k/cdDE+ZdxJ1AZa2pnYyYziRWEGIKC8RnRoELRTB+ioEgQSE9D9vpDYPRwFAd0J6H6NQDt1PwfgAAioCeh+X1A7hH0QyDMCul8j0M48OyPgDggQ/d8hRCeAQJ4TgHbmeQfBPRDQgYDu9wUd2owqQSAdArpfI4g70+ku2IJATgjofl/ISStRCQisnYDu1wi0c+2dh5wgkCUCut8XstQuFAsCmSKg+zVS8iU+IKATgUxdRcYrR/f7gvGQokUGI6D7NYK402BnFJpjBAK63xeMABFtMDQB3a8RaKehzy80rjAJ6H5fKExs8LqICOh+jUA7i+hsQ1MLhYDu94VCAQU/i5aA7tcItLNozz00PH8J6H5fyF808AwEOAK6XyPQTpyJIJB3BHS/L+QdETgEAkoCul8jeaOdfZYSYXkjJSFpr89Swn3MbeLKStKhrGwEHGXiyoLrKD/QZpYdnnCY5SWL11EoshqdgO73BaMDRvsKnoDu10imtXO4u729vb2bW7Eord5Jop2ZUbJ0PMpEjbFimaSZ6TgIW+MS0P2+YFy0aJlBCOh+jWRUO4e727uHgq6OdLQz4Cjj48kSMe6UUtiwz2kpscgLCmr1vrNGLKekhA/1Am1mRahKVwB2CNFrghhXDHBLSkQHpBQuV6DNbKmhxVjaHOaYusRW8GsciiXIDsdIMi08SdPk3NgqDgK63xeKAzNaWcAEdL9GMqqdXEekpZ3OGkHniBiQUWXq4woSgzZWFOPKjJidrlbPj4vyy9bTkkS5oirFi1l8JZ5wmAUlE3Mx6ww7a0osfYRKcpkjwGseX69UKa2L2tCPnMjtSv9JrvIp0E6JDDZEArrfF0RH8BcE8pSA7teIvtoZcJSJIZegKFLQyUWM8tPB+GrH96wkSKJiSUEnVxAnmZKNpKaxZwWNTfnnqaJ2Um2TP7x2UhvekitT8VBTKkHaUNUieqhKxi4ISAR0vy9InmADBPKTgO7XiL7aySiirJ2x45yErkSfeGCTxov8R8iu0DO+81PQTiYXo53KAV7BJgXtZMZvmdNPDoiZRGyCAENA9/sC4ws2QSAfCeh+jeirndIIp5MGd5xEyaO4iv5Kop3ySK+Uq89CR1alXUKkYWF5FJc9ym+LubiwlZNheRRXsI7VTlqyUJfUokRjtmJoyxWIMdvYXij6FN3vC0XfAwCQ7wR0v0Yyqp3TVzroW7b8p+PKdAr0hXjR7OhzmIXwjtNRPoaUA74k2kkfLsoDq0LoyTwo5UaGU4g7aYTLv3NU43TWyCGsWDZN0dBOwj0E5YwYXRQjVyUGqVghGdqp5IM9grWvcRKAQDICxtLOZK3N3nH+LR6+fHY7ezWmVLIcj4rmsn6LKfgLAjEEdL8vxHiEBBDILwK6XyMZjTt1ZMu+0aMaqo3nlSJU5WLGFDPGK1ArnXmAGn8UVysj0oqZgO73hWKGj7YXBAHdrxGjaGdB9DacBIHUCOh+X0jNTViBgG4EdL9GoJ269T0qBoF4BHS/L8RzDOkgkCcEdL9GoJ15cibADRCQCeh+X5BdwRYI5CUB3a8RaGdenhdwqrgJ6H5fKG78aH0BEND9GoF2FsBZAheLjYDu94ViA472FhwB3a8RaGfBnTNw2PgEdL8vGB8xWljgBHS/RqCdBX4GwX0jEtD9vmBEqGiToQjofo1AOw11PqExxiCg+33BGBjRCgMT0P0aybB2DnFLX9PVr4cN3GtoGghkl4Du94XsNg+lg8C6Ceh+jWRUO6evdHQPUSbD3e0dV4LrpoMCQKA4Ceh+XyhO7Gh1ARHQ/RrJqHZK4KevdEA7JRrYAIE0Ceh+X0jTX5iDQK4J6H6NZEU7h7oxZpvrMwn1GYmA7vcFI8FEWwxJQPdrJPPaOdTd3uHCeK0hT1c0KkcEdL8v5KidqAYE1kpA92sks9oZvNIB4VzruYB8ICAS0P2+IDqCvyCQpwR0v0Yyqp3D4lu23OrXeNU2T086uJX3BHS/L+Q9IThY7AR0v0Yyqp3F3ptoPwhkhoDu94XMNAOlgEDWCOh+jUA7s9a3KBgE1kpA9/vCWh1HPhDIEQHdrxFoZ456GtWAQOoEdL8vpO4qLEFAFwK6XyPQTl36HZWCQCICut8XEjmHYyCQBwR0v0agnXlwFsAFEFAS0P2+oHQHeyCQdwR0v0agnXl3TsAhEND9voAuAIE8J6D7NQLtzPMzBO4VIwHd7wvFCB1tLigCul8j0M6COl/gbHEQ0P2+UByY0coCJqD7NWJs7XRaSkpKapzxTxDOoKTE3BaIsQk4ysyOiZhkMSHQZlaXPOEwl3AfocaAo6ykpMwRW7RYhubfJPVq5iGEOGtKLH3xDgrpqdgkKSLe4T6LmgbnkhbYeEUgXSag+31BdgVbIJCXBHS/RjKqndNXOrgZhdrbO65M5yVvLacCbWatW3wSDYvVzgwpU5J6tVpA01KpPRWbeOUnSYd2JgGU3mHd7wvpuQtrEMg5Ad2vkYxqp4Qv5+t3Omvk2FFUCI2Ykgoe92HFUq2dfTRY5a3SiTtVmscFncqolzrWJsSmogOCkyUlXIwrV83VHzdiVuaS4l3eaz7SlYviSta0IaKTfO3EaSmzWLhY2VFTUlJi4QN2NbQ+i7nNITCiHkqFqKGxnSKdGthIhYDu94VUnIQNCOhIQPdrJGvayS+CnTO0Ew6zMDrqtDDDpApdnHCY5dFUeTxWbSNohkoLE7VEUhe14iqjMWeNOIQreivKPFt48nq1csWPOxkfVBkDbWZhmFfwh0qypY9qobnNKQxZx0KjqszTc1pEfSVMLWxjsL02ArrfF9bmNnKBQM4I6H6NZFg7gy5+1DbHykm46IeLk2hUJD9hZHUxnsKxNkTOnlzDlGeJlr1SUVTSRbNz0SHrMNcQWdeVVYh7GrlitVOKTeUnvkoHlPEi/cLBa2HAUWZx0miSuqEBTW4U02Q5UXQSf9dBQPf7wjp8R1YQyAUB3a+RDGunyIyufj0k7uTmLx9FOWuEkUa+UlYX2W3WJTad2WaEgbWOu61lr1QUpXTJBfH6JL7po1WObCtvKXOptVMeL2V8UDoQW5G2diqlndP72PCdqUV2EVtrJdCCDwiAQDICa728MpPPONpJ6OiixaJ8RshoIXfTZ4ZzJX6aNpwyJYv/pCLoRqwUsTJDLZTSpczMvK+UwEyRh9CgUBI2dputiw4Ui0xibaTsXMka2kkjYxU0WSaZJouj0CoPsQsCIAAChiSQUe2U1+/U5T1bOggpRm+ESin/8gr9X1BBKiTChwtPE9jUOJ0169FOZsiUPkSkJ0+sKMr+sPokveYjap7qzNPOJbWFL0oshL6dJJWjsqGDtOKH2mhpJ+e2aCSMiotizGin/MZQWtBULcMuCIAACBQGgYxqp85NVrwlpLMvqB4EQAAEQCBrBB49ejQ2Npa14pMXbAzt5F97QcSTvL9hAQIgAAKFTuDRo0fd3d0HDx7UsSHG0E4dAaJqEAABEACBnBL4/vvvDx48uH379pzWqqwM2qnkgT0QAAEQAIF8JfDo0aPvv/9++/btBw8ePHfunI5uQjt1hI+qQQAEQAAEUiUgDdUe5D6HDh1KNWcW7KCdWYCKIkEABEAABDJNYGxsjB+qPXfu3KFDhx48eJDpGtIoD9qZBiyYggAIgAAIgAAhBNqJ0wAEQAAEQAAE0iMA7UyPF6xBAARAAARAIIl2Lj9cLmRG3Lw50qw6Gi0RJtZRTk3H27GT5mjkpJP2JSpZI8s6k1Qz6iUtLXYao9gsqdjE5kopRZ66TzaXZ9mV07AFAiAAAoVHIIl2Xgv0zz2YS69Z3Mx83cPpZdLROo4mQTvX1yfQzvXxQ24QAIF8JkC1M/JgLt4/l/+qy381uBhMuQ10BZUrro4caycb0IixlEZMya89Que3jbNOGW2mOBOsNAuuZtvVcaeUS5qZVkphwlNpKlp54Ux2fl06K6zFISzQLU2TJM86y7qt9EpeUIyWLM1byxeunOFWaJemTcy0tM4as6XGTLO00blvebfVGLEatrIzsAcCIGB4AlQ7eYFM/P/Yj+OPyeNkOIJXOugs8MGcaydVC0G0FLPaKmLK2GWcufaobdJf+1qcRZ3FI7shajm3Fiajo+zSK6IScxLI2YheyRPciylsLcK25iGpXnUGJiJU2cSshk3nry+pcVL3yhxOftmWWIz0WwKv9Pxs8lyFTC1qB7APAiAAAgVOIFXtvBboX4wuJm6sJJnSRmL7jB7lV2ymUSMbnLGiIkVLXDAmRXWKlbyY7EnGbFXOcwGlXCYTvNLauHAtpkBZ7+kiKxaq/YyNoD2yBrNtUdUuBJoKYY5dtkWOX6UntUrtlINX6jT3XYQ34DWVd0ADoyyTsf6rPcU+CIAACBiAANXOoZnheP+ujn/r8l8duDew/HAlWWuHutuVn9yufq332tf8Ep5UKJ38wK9SydgoUyCZinYyNom0ky+RGyWWvjoodZFKqXBIljqVvjLKJ3a2pnZKVQhWcoFMCXKiWBb+ggAIgIBRCFDtTPCZ2PHSzVHX6uPVBDaxh/SIO7mHfHqufc1jEMWDPk3kRJShIw7MSklOi7iwqHhIzC6rr2jDPZ5Ui5ZUkrTBKJZKayUp5Ydh+RyxNqoqYrUTq2FLsLEBAiDAEpg597vfnZthUwy8nUQ7g798JvS/tjy8dTMtBPpoJ/eei/AODlG9LyOMpkqv6gjRoeJ9GaVNemtfy8OhkvYwY5vSWK48KCr4KTkgPKyN1U7p3SWLUzkczfYIUxcj2KrCxXeX0lkNWwhM2TFbfhFv/iWkmCCb8T/mtSPWYWyDQGERGDj8NPM5NFBY3mfB25lzv5OAHLouVKCpnQOHn5YMEjuSumXicnJzlGpn8JfPJP53b9P/WPnmH7lxaB21yI8G11EIsoIACICAmkBh3dbV3md6nwrn7rNigDlw6GlBHTW1M/XKCwtyStrJK+vD2yOpU8itJR/PSeFdbitHbSAAAkYnEHNbHzj09O9+t5uGXoeuEyYqFUJSJuXpQ+fOCjGaqDdy0HaYi2CDooEoQvmNc+bs7t+dZX+3eP3Q01xD5HY9/TQ/eMtz4ONO+SjfakLklN1nZ64fEgNZWrgMUISWb0xS0s4CiTvzjS38AQEQMAgB+VYuqALVToV+cA0dOCxrhjBQef2QGKLNnN3NxWei0hBCFYKX3hRHNfOD5sChp5Wj1sGzv+MUjok7ZT7C146YVhOZjNAs+QuKWGB+tFfbixSed/76f6b7vFO7KqSCAAiAQGESkG/rgv8K/ZDjJybeEuSQkQG+ENb4aVmJ+aBLqUl5yipR3Cm+KyTbxGs1I7QiU+bJqERJLDDvWCTRztn/+PdHoXt55zUcAgEQAIEcEkiknYw6Snog2zNHhUQmAlO1QMquSs+3XSps8lCq5vNO+btF3FYniDvlBsvlyGn5sZVEOx+vJP1ZZ360A16AAAiAQNYIyFooVMHe0+lgrPSRnvPFizsJ+5wvzuPSrLUjYwVLcSH/xJcvVzNRQhd7VB4J55VYeOT5u7M/yA+ACzXuzBhpFAQCIAACIFB0BMSnvIZreJK403DtRYNAAARAAARyQUAINOXR3VxUmrM6jK2d3JQF6rnxWLbCnAbShAbMMfZn/kyyuCnOBCTuM5Pn0STVrmjFTWKQ0m9pVDP+iAXE/StNG+NyR4UAACAASURBVBTXgqhm4EtgmP4hZj4jKbM8C6CUhA0QAAEQMASBjGrn9JUOaUbbjivs73/ymVUclcqKdqbOIY5XcQuAdsZFgwMgAAIgkGkCmdZOnSSTDXFEFdGIKaW569hAU61S4tx14rpa2sjZuJOZ6k9cNYWLOx013NR1wnx73Bpk3HE6WTz3oa62OcycleiSxvR+orn0V7LhQlhp7j2uHH79E2Yhl/g26mnznJYyi6WMrqDCeS5M76eGhtU6pX7ABgiAQLESMIh2MmOkipn5FLoYu/Ak1+tqm7Ws3xkzSMvpmdbSY8wKl9wgqiB1whhvSqt1il8OFOesZiK1YEZTVTYxq3VSSbb0UR/MbU5HmSi6wqC3GIhjtU4FeOyAAAgUI4FMa6c4ZtvhyvGQrc7rdzLizZ1GzPNOpWKptVOevJ7mk4VfoeiqM1O51hh/UFkLVxQfhpbQxau1bOSJ6akhDY5533iSglJKQScfGzsmWDEW1VSp0CpnsQsCIAACxiOQUe2U8Qx1t3dcmZb3c7Cl8/qdjFjSxjK7SlVLqJ1MrkTaydHkVU2SXmUta1utU1s7xcFksQ/lQBbaKTLBXxAAgSIjkB3tpC8N5Xbla16u9Fy/UyGKa9ROGvmJI6Ul4lLV8c9IVl/ZbX6ZMF5W01mtU0M7sVpnfPw4AgIgULwEMqqd8nu2uQ46uQ6UHxbSXcUbNJwg8c8XhZFM7kWYBDbprd9JK5TeGKKixUSQUkQoGVAXuHFU6ZB8AgpvKiVarVMuR3wLSdFePlF84ymd1Tq1tJNpF1brlLsJWyAAAsVNIKPaqTNK+WGhzo6gehAAARAAAUMTMIZ28q+9CMGlofsLjQMBEAABENCfgDG0U3+O8AAEQAAEQKB4CEA7i6ev0VIQAAEQAIHMEIB2ZoYjSgGBTBFo+7/nM1UUygEBEMgSAWhnlsCiWBBYIwFo5xrBIRsI5JAAtDOHsFEVCKRAANqZAiSYgIDOBKCdOncAqgcBFQFopwoIdkEgDwlAO/OwU+BSUROAdhZ196PxBUIA2lkgHQU3i4YAtLNourqQG7oajUYL2f91+55x7Rzq5pdS0Wkhz3UDQQEgoDMBbe18GB7q6+6+3O0OUPfcVpPp+aeeEFfIifFYXFYo5oCUkKwEznCsq7LMZNpUWnU+LGXEBgiQexcb62z2c56F1Fn4ejsGOfPhE42XjXA6ZVY7dVg+JfW+gyUIFAQBDe2cd1q2mBtPU+081ecVWiGvRxvbrOTaSfMkKoEed9eV2m/HFo6UIicQDXYeOPB3t3ssHA14vJwORgPe4DKhu4HgyDW3xyeo6oLP477mHgksBjsPVHza7b7mDYe9ngAXsc5Neq653bf41SrD3sHJ4JjHfW0kuFoYeDOqncPdOV+2szAow0sQSJ1ArHa6m0obr8cUoFA+b9e720s3mUxllV1jhJCAo6zC0rS99PkNpXXOZUJIuKvqhVITbzAhFqUoQUzk/z5cDofDXe+a7Z5wOBxefsgJ7e5m+9ulpc+byk/T4HfoL9tLXzCZNpnKP3Ev0zUDyivfNW14u7n5jQ0b9tNKl4ftlS9XVOwSDJQVYK+ACURdhw9/s7CwTILnq+wDtCHB8/aL9+juns96vfcmu+sbe+dI+KvGA53ehblJz1eee67DfzjtXZiLkgF71fkgWR05/tGJkXsLk18dPvxVmBCP/f/UnRqYDA4cr/rrSEGgyaR2Bl0dHa4rGLMtiI6Hk3lLIEY7A46yyu5lQm53NTY0NrY6hQEvRvm8rebKS1QiyW176d7uZaqdZjsV0eXuvWYH3RA/vVXygqxMCeJh8S9XV8WWn25/t7GxobHrNqedz1qc83TFoCp2AR/idbxEVyVy1pTab3sdZeWnQgFHjSNAvPZXGt20vOWu3dtPcUPNYun4W+AEBuyiZKq1U0y3X7wXvfInm1sKInnJJETQznsX7ef5iNNjr+tdIB77exe5fY/9M09B0MmwdraLy3YOdbd3DxcEATgJAvlFIFY7T73Cac/D5bDHbpZ0i1E+Z420EAK/mpA8ZsuvCU/mhxzvlpe/Wl7+0oaUtJNDwhSrMcAb7m2seKW8/NXtpp/w2mlxUs3m/q9xBOa7Kn5i2v4qrXT7S2Z7YdwP8+tMyF9vUtJO4vmsrlt6sjnIhZuSds5cPPz3SdrA5SuHP3HTuLOYtZPIY7bBKx26LOGZvycbPAOBFAnEaCfxtpaaj3OPOZl1YdmnlfKgbuhUxbt83MmtUEtjvvJTIRJo315xngtML6cWd3K+JtROt2VT8xA189qFuFOpncRt2cIbpNhumOUXgdVVKWaMcUzUTjLZ8Yd3Gu3/efjAO3X8mC0TdxISuFi3v9Heamv8tDe87LbR7d5JIQBd8Bw9UPep3VZ/+CIdkyhy7SREfMu2HQ8+Y043JIBASgRitZMQb9fbpaZdlZUvb9jwRleABLre5t6z/ckG06bKrgAh807LC6UV+yvLxeedXa9uMO9trHrDXNHOie715tIt5VV7yyverqhoC5DYErRcS6id4a7dG8x7qyp2VVbQWJM4a1TaSbwdlaUvVFQ1NFa+2swN3mrVgbR8JTA8PDw2NjY/T4fpE31Wo9H4IpsoIw06F9aeN0nRWT+cyTHbrDuLCkCgCAhoaWcRNBtNzDMCc3NzHo/n+++//+GHH6amphYW0vhBSp41JSvuQDuzghWFgsCaCUA714wOGRMQWF1dffjwYTQaXVlZWV5eXlpaWlxcnJ+fn5ubi0Qi4XD4R+ZD364Oh2dmZm7duuV2u69du3b9+vUbN26MjIw8evQoQS3FcwjaWTx9jZYWBgFoZ2H0U156+ejRo+Xl5UgkMjMzEwgEJiYmxsbG7ty5MzIycvv27Tt37vh8vrGxsbt37/p8vomJicnJSb/fH+A+0zGfYDB469at/v7+a9euud3u77//fnBwMC/brYNT0E4doKNKEEhAANqZAA4OxRJYXV2dm5ubnp4eHx8fGRkZHx/3+/0zMzORSGRxcfHBgweJ3vqJLU5MefDgwa1bt65fv+7xeEZHR8Ph8NrKEcvL2t+HTMnsNpOcjU1oZzaookwQWDsBaOfa2RVTzsePH//444+Tk5O3bt2anJwMh8MrKysZBPAD95mZmXnw4EEGi1UX1WeRfzSlPpbC/pijfJf44+GJU+W7HOK0WynkXZ8JtHN9/JAbBDJNANqZaaJGK29lZYUfTZ2ampqbm3v8+HE2Wjg3N5eNYtVlrks7vfZXqrj5OoRSly9Vmv+SI/WEdqq7EvsgoC8BaKe+/PO59pWVFb/ff+fOnZmZmYcPczhAqYbiPfWGuWJvuemJJ556nv4AST3/Yp+l4hN75QulG54tP8VOayWXE+6uoXM6lj7/FB93qkrQmOLxenM5N69kuZXOAUl/4XK5ytyqUkqv/aUqOglX9j/QzuwzRg0gkA4BaGc6tIrF9uHDh9PT03fu3Jmdnc1SoJkGyj4LP1mH97iZm3MjZv7FPstPuTmNCTsHJFNBuKOi/DQ355AQd6pLUE/xuNxd9ZKd08nl7r3CEgWaaxW4mzZYvmNqytomtHM9aOmsoQ5pZu01l6SaLEaadG3NBSJjIROAdhZy72XF9/v37w8NDYVCoXz5fciYw/yK3T3mtr9ipivtxM6/KI3EShtKMHTaDT4e5Q1iSlBPtcHMQClMM0mn49C4/UpHlRVmfi+T2hl0dfBrd3L/F8OcfBnRzphC+iwlcddlzPwZgBLzjYBhtLO9vT3f2BacP0tLSz6fb3JyMrPvAa2TQ7ijoqLN7bzsHArxJcXMvyhJprShrNL7F1NVL03yHjdzY7bqEtTaGe6q2HWKnxzX3bCdXxpPnoqSKdzdxMk5k5KlzUxqJ+MinQqem+uSSdPedFpKpA//JSLgKONTxO8UlL5DMFufqDhrpLpK+EH2QJtZqIxOVMZPeO0QHEgQ//VJXstOCkVzHtLvPjXUxtLmMJcIddEJSAUjfq5RWmGgjT91WDoxasoexLbRCUA7jd7DKbXv8ePHwWDwzp07P/74Y0oZcmnkad7wrLl8l7l0U7nlEh1JVc+/KEmmtKFyb+JU+ZbyyjfKG//SWMnde1UlqLWTEG97uenlyqo3zNLzTnK9sbRBNduju3ELv3qPqr7M72ZFO7nFyPj1ZZJ47KwpsfRRG0lC5IhbGsmkQsVLlNNSIqtOkqJjD0vxnFSyPA4gyhUnb5xLYkpsOdSGd0Oy4RevoKZ8i6gklzkC1HOLU6hXMqaNFSNLOVFRj+SqIhU7RUEA2lkU3ZywkfPz8+Pj48FgMF8GaZXeuutKm/llsh52KxekU9plfS/c9cZ2dok97/HtwmJ8Wa+aZEM7Uw86BaVhtFMKOrkAjY/8ZCGJozSc9AoRHf0jxoIqfFI5onZKQSeXl8slHpJUUFUG3ZW/SYn+yGEoLcnSJ34V4C35epmSCZG0VtpQ1qMwVh7CntEJQDuN3sNJ2hcMBr1eb45+IpLEF+3DgfOV5rKKqoaqijKz5bK0zJi2MSHEbaVrpMv/3qbrF2TmM++0vOEQSptwVNRwK71npugkpWReO1MPOnnJFDRPGCAV1Yh1W9I8bkXftb+bIw+ZCuIqBbtybYxoSTGxfJTbYnKJ3soeCraCTSraqRlJywGxqnLsGp8AtNP4fRynhYuLi2NjY9PT0/q/SRvHQyRLBDKunWkEnURYKVdyhm44a8Sng1KyrEyiVkmHxA2NCFI8JP2VR4OlpD4LHVmVdvnnnWJKPO0kYi6uUjFaVUqghnYSp0UMiFMZs13XXBtsi7BdaARyqp3yxZV5THhXKC2mMzMzd+7ciUQiaeWCsV4EMqydQ93prdyp0DxBtJi3h/g3g+TLO652poRPjjvlcV3m7SHuEWYKcScv8DRcrnFKL0kzDaFqqqWd3ItIfJQtyjMzWK1ogVSsIhU7xUEA2lkc/Uwikcjg4GB/f//o6KjP55uamtJ1uoMioZ6xZmZYO9P0i333h91Os5jUzNk4kt1OLXf2rOR4VKhD/q6QvUpRcv4SgHbmb99k1LPBwcFr4iccTv7UMKOVo7D1EtBXO+kIrfTJ+igl+0YPE/klRMgEwYKj63jRN15NTLBLf8eSqm/xikN6YROIq53swIl4kkhXkHD50PPHLPwUSrTRwMFeC8LvvqRTXX4bgLk2xR+JSc8m5BLiXhEYs9UgzyTxa3vx6skkY7MwCOisnYUBCV6CQA4JxNFO+go6/4Mu6QuWxmtrih9QifZq55mhDmGQg3kaIn57kwuXy5ReR4gtQV0HIQTaqQGFSRofH+eFs7+/n0nGZmEQgHYWRj/By+IhEEc7mYcaorxJQScfIFJlFQ8l+pEVY0NffKNxpxR0CiU5mZ9cc0eF4FIQVLYEdlvZSdBOJQ+NvZmZGb/fv7S0pHEMSflNANqZ3/0D74qPQBztTBgaSpQYJYv/UJ+R4di4UyxKjjupsiq1k3lpXFRfMRvzF9rJwMCm0QhAO43Wo2hPoROIo510Ug7pAaT02yom9BR/LiU+5oyvndzMVlJZ6uedJXzhCbWTdQbPOwv9jIP/ayEA7VwLNeQBgewRiKudUpUF8iY24k6px7BhPALQTuP1KVpU2ATiaSfzG+K4oV5My1UPMmmwKbxwFGOa8QRoZ8aRosD8IQDtzJ++gCcgQAnE086CowPtLLgug8OpE4B2ps4KliCQCwLQzlxQRh0gsD4CGdbOoW5x9esUl+9cn/fIDQLGIwDtNF6fokXGI5BR7RyWVrwOXumAeBrvbEGLckHASNopfpXG30QEcnFWoY5ME8iodk5f6WjnJHP6SkfHlZQWv850e1AeCBQ6AcNoZ6F3BPwHgQQEMqqdhBAqn+3tEM4EyHEIBBISMIx24l2hhP2Mg4VNIKPaOdwtqOZwdzsfgBY2HHgPAjoQgHbqAB1VgkCaBDKpnUFXR4eLH6kN0kHb6TR9gTkIgAB+o4JzAAQKgUAmtZMQ+TVbhJ2F0PvwMR8JIO7Mx14pMp8ePnx4g/tMTU1FIpHV1dUsA1jwnOudTK2O8OXGE8OJTSd7z3kWEpus+2hmtXPd7qAAECh6AtDOoj8F8gLAw4cPvV6v2+0eGBjweDxer3d2dlZa8iV4y+2+5vEMeoLL1NsFn8d9zT1yjxASDQ56g4ER9zXP5JzQENXRcDQ4cs0bXpj0XKOFULOw27b7wKlrbk8gSgjhC+ey09IEe5FKNODxhgkJez2+oHfQ7b4lvJbK5aI+RAMdB3bbuq+5vWESvuN2XxNtYrKQ1eDINbd70BteJeL25EJq3xOgnWKH4C8I5AcBaGd+9INhvXj8+PHq6mo0Gp2bm1taWlpYWJibm/vxxx/D4XAwGAyFQsFgMBAITE1NTUxMjIyMSGt09/f3u91uQkj4q8YDnd6FucmLtVUX75HwV4cPfzW5MDfZ/ZHtynLw4nt77N94g5PddR/1LlBj1dGKur93u695w+FJ772FhXtXbPs7JlcnT+093Du3sBAV7e+NnPjo+Mhq8OJ7or3YIcHzVfYBQgbsO+tOeSaDnr9WHb9FFr46bHMFF+Ym3QOTJHrl8N5T3rmF6Go06JtcmFvwnqs67IqqspDVkePv2N33FoJj3VdujRz/6MTIvYXgwPHGcykFwNBOsUPwFwTygwC0Mz/6IeteRCKRwcHB/v7+8fHxNVT26NGjhw8fPnjwYHl5eXFxMRQKRSKRcDh8//79mZmZ8fHx6elpv98/OTnp8/lGR0e9Xu+dO3ducZ87d+6Mjo6Oj4/fvXt3YmJiamoqEAgEg8Hp6enZ2dlwOByJRObn58Ph8M2bN/v7+69fv/7DDz8Eg8FolMaFns9sbi4483xGtdPz2R9s5zo6znWc+E9b90zw4nt2D21P8OJnF4PUWPMoITPuE3+qq6urqnjF7iFSLuL5jM9Ogufrjt+S0yVEknZWnecizgG7fYBEB4/v2X/4xHk3F6167O/RqglZ8F62N9bW1e19lRoP2NksxHeqsVOIWcm9i431xztoK+x1bSNSXQk2oJ0J4OAQCOhAANqpA3Q9qhwcHLwmflZWVlQh4OzsLB8C3r17lw8B7969OzY2Njo6OjY2NjIycvv2bV4Rx8fHfT7f2NiY3++fnp6+d+/ezMzM5OTkjz/+ODc3t7CwwJccjUZXV1cfP36cYlvD4fCNGze+//770dHRuTlx+JXL7Gmt6w7TLfcnnHa2HqYBpvCR1E7UTu2j0St/auRy8fbhi/sFyfS0Hr7CjQNP/r2xIyCVJhZPiKZ20sOr0YXJ7rrai2Hise/ntNN36sAXXnqIV02Vdt67WHdUlMmZi4d5S7meJFvQziSAcBgEckxAb+0MOMqktT25NUEJs96nvNin2SyYxV3UBb/vTHzmSGOh165dGxsbU4WAoVCIDwGnp6fn5+cXFxeXl5cfPHjwkPskLjkjR71e7927d1dWVjRKC/QefqfiD+8drnuv6uIMIYHew3+ss7XaD9ce7o2JO+McJcH/d+APTXb7J417/g9VzcnOurpP7R2DCyRwse6Ph+2th+uOehaYeFRyQ1M7w5dtdZ/a7Z/W1Z3zEhJ1f1rV2Grvve2xv3PA1mq3/bFCI+4kC57WKprrPw+cGl4Y+eLAgT/Z7Z82Vv1dFFSpSq0NaKcWFaSBgH4E9NVOutKZIJABRxmnncxyoeJ62k5LiSCrzpoSc1tAkxa0UxOLlDg+Ps6Hnf39/VJiYWysRqP05ZrJjrrjss5ww7lx/dc8ukxHgDU+q9EFLvTUOJQgifdKZUAf7KqS4u9qlhDHHNoZBwySQUAnAvpqp6iOhBBBO5l1Q2k8yiml01IihJuBNjO0c81nyszMjN/vl15eXXM5uc5478qJVru99ZSbvlhbpB9oZ5F2PJqdtwT01U5GCzXiThEatFMkgb/FSiAvtNNZwz9fEUaB1toXTktJiTjcFK+MVGzi5UU6COSCgL7aSQh3jQhPPGOed5aUWPoIZ4O4MxcnA+rIWwKZ1c4gNxM8XW2nO8m8DwyQCYe5zKH9wISxwiYIFAkBvbVTwiwHl1JSWht43pkWLhgXFoFMaqdyPtuU1+9k3kTg2Elfe8UwlBNXhxCbxnupT8gV79ELW7Js02cxtzlotJowYFU87+Ffo+gTMglh7oTDXOMQ3k5kvgfQeFp47aKwzgp4qycBnbVzwmEWgk4+xFw7Cmjn2tkhZ94TyI520pXIUpkLXpJJWb3kVxX6LCW8DnEXMzdSROSjWmSZRzVah7k0hQ2VQF6h43/FlsNiycZpEQVS8Ef2UHxExNUF7YzbDTgQn4DO2hnfsXSPQDvTJQb7AiKQSe2U54Lv6O5OfR0VRdwp6RP/mh8XZcrqlQSsQhfj2Cps5KoVmqfIKtcu+iYFnZziU1GXbZKou6Jk7ICAFgFopxYVpIFAfhHIrHZKbQte6VjbmK2oT7SkgKMsD7STeXWCj32JrLhie6GdIgn8XT8BaOf6GaIEEMg2gaxoJ12KLGXpVEoRndNElihpzFYcI02MQxFTxjFV2MgqGD/upM9ElW8y0RFa5WPXONqJMds4nYDkRASMpJ30vUF8khFIdDbgWL4SyKh20sec3Cd14SREqZ386+/8uwqiPjHKFBcj84KD+AgzxjbWJhXtZOLOEuEFfWaKMv5xKeMh+0QW2hnTB0hITsAw2pm8qbAAgYIlkFHtLFgKCRxn41R2O0EWHAKB9RAwjHbiXaH1nAbIm+cEoJ3JOkgRrYqhcLJMOA4CayYA7VwzOmQEgZwRgHbmDDUqAoGUCEA7U8IEIxDQlQC0U1f8qBwEYghAO2OQIAEE8o4AtDPvugQOFTkBaGeRnwBofkEQgHYWRDfBySIiYFjt5F5rV75wt+y2lps2mUwv2Ye4HvYeNz+V1jSWoaGhUFrnxrLXE0i4NGRSg7Sq44xVTmpwSL9M5NCbALRT7x5A/SCgJFBY2pnG2td9lp82ucMdFfIPpgOntu/tVihZ2Duk/DW1ko16L9BmFn4Orj4Sb1+eUDOORVKDOPniJ6udjOUQPy+O5C0BaGfedg0cK1IChaWdCTpJ/RuV0JB7Ypnw/xOyHA6HPXbzu11h+qEC6raaTM8/9YQUd044zLub7W+Xlj5vKj9NFXX5enP5C6WmTSbzX4YICXS9bTL9yxNPPmsybTJVdmhKrrfr3e2lm0ymF6q6QoR812zatOHJJ56ike6mZjchJNxVxRVoKqvsmtAyIOHuuu3lb1SYeYMJR9UbldufL7V80lj6rNlxmxahMCABx/5Ge9320uc3lNY5lzWdVHJIABCH8pkAtDOfewe+FSOBwtJO5Risor/U2qk4GHa2Nja+u/2nWyoaGxobW51h/ihdksgpGE44zM9anPN0vpQqbmYxZ42p2aMoRR3SKQ5yE03v7hJKFg7FCSt7q8RoWGGwfLmq4jRXwHBzaZ2bTDhooNxn+WmDm/RZLH1EbUBnEjU7xgghXsdLwk/akjip8hm7BUKg2LSTW7lFujg1O4mZJIg9rrxH0LkDhWVeOCPlUTYftkEgPQLFoZ0cE1YpeUhsCrvNHw05G3eZTLsspzyCICaTpeWhtkrzJnOFtTvwkC9CIY1kfsjxbnn5q+XlL23Q1M4h64YNL3EGu8yl73aFJxyWtgDh5+nktFNtIM3CLW/QacjSHFjmXcX/eU1gfdo53E2n4GNm4Au6hFn5OlzBvG53Auc0tVMzUVkIOxuf8gj2QCANAtBOAVasdvIHwt1Vz1roiCuhslTVK5gn+ONtNW9v5wd1nZaXHF7RNNC+veI897z1MhN3ahrwWWK0Uy5BKFNcwUKpnak4KTqFv4VBYB3aOdzd3j1ExVLSzuHu9o4rnGYO0a3pHCJgVrEWvj9yaqdcMTtmfWwmF79INZ2BlvmI3xZVM8VzQWfsctkp6GsOiaCqQiVQrNrJPb98/qknfrLBtKmyK8CNuCqGiAJdb5dXNjQ27i0v/8QtvGE0car8WXNlQ6VF83nnd83mN6oaG6oqdnGPM+kZsexuKC19tarqDTtV3+vNpVvKq/aWV7xdUSEs+aA0mHc3v2zavrexcX9FVUeYxGgnURnIkimJKCGJnSzU87TY/V6HdnLoWO0c6m7vHqapfPTJb+cIsGIVa245a24uPV782IhQMbiqyCXOtxcrgbEpGlPY04ayFeWo4ajGcASKSDsN13doUPEQyLh20vXH+Hg0p8O28oooooBpCh43yCM+2GCXcGEiy9iMscuQxdFOhTAXz0mElmaUQGFpZ4KmJ3xXKEE+HAKBAiCQYe1sF4dqg66OXMed4vCOs0aMO7VW/VTIm6y4SbSTH9FV9KecV07GSwEyC2ytlQC0c63kkA8Eckcgk9pJuCegnO86PO8U5I0O1XKjr7HhI+dZcu2kC3aK47d8R2gWpaWdgmznrvtQkwEJQDsN2KlokuEIrEM7pZWu6bu2wptB3Igt9+4t9+Azd7jok0v+wwWdhHvRQBV3KlYT48xk/WPiTu6xJV9WnHeFhHeOlDbcqt2qGnPXftRkHALQTuP0JVpiXALr0M68giKrYHbc6rOwv+bUrAMvCmliQWK6BKCd6RKDPQjkngC0M1XmisHemEyJj8aYIwEE4hIwknbSMSh8khGIeyrgQB4TMIp25jFiuAYCaREwjHam1WoYg0BhEYB2FlZ/wVvjE4B2Gr+P0cLCJwDtLPw+RAuMRQDaaaz+RGuMSaDkS3xAQCcCxryk1t0qaOe6EaIAEMg6AcSdWUeMCkAABEAABAxGANppsA5Fc0AABEAABLJOANqZdcSoAARAAARAwGAEoJ0G61A0BwRAAARAIOsEoJ1ZR4wKQAAEQAAEDEYA2mmwDkVzQAAEQAAEsk4A2pl1xKgABEAABEDAYASgnQbrUDQHBEAABEAg6wSgnVlHjApAAARAAAQMRqBYtfPGhV8cuZFeX97r3bu/dza9PGlZBzr3n+y8l1YW2o9gWgAAD6RJREFUGIMACIAACOhAwMDaeaN52/FfSP9Usidq5+CR43svBgghg0eON8eKKauX7DbfU/d69267MJixXoN2ZgwlCgIBEACBrBIwtnbGFzZROyW4a9FOKXNmNqCdmeFY6KW0/d/zvtAS/hUtgUI/gYvE/yLTzhsX5EiUG7OdvXiSxp1yOjtqGujcL0auR24QGnee3MsHskIUe6OZjztpACpYxgSvcvjLHZLL5ONdQuSUX2wTap+9eFLwM92B5SI5bQ3dTGhn0aom33BDn93GaZyxtVNUvm3Hf0HV7kazKE5ULFntTHHMVhihpWrHCaGgndoxKz1JJEvhjKGiKMihEGXGpki+xR1JNs7ph5ZoEIB2Qjs1Tgsk5RkBY2uncsyWfWC5Nu0UH5qKYinGnVSVeZ1W1kjTFSliRnoW8NtMCqOmYhT7i23C49g8O23gThYJQDuhnVk8vVB0hggUk3aySpZh7RR6QxgBlvsmpbiTGbzlxmxF3+RisFVMBKCd0M5iOt8Lta3G1k7VmC2RnyNuO64asxUfebLPO4VBV/roUXjeKfxGRQwW5TFb8TGqIsqkJ4X6Uaj8dFOUTClmPa7xvHOb1tu/hXqywe+UCEA7oZ0pnSgw0pWAgbVTV66oHATWSiC72nmhekvLWJGLU543f60nDvLllIBhtXPjv/9VjAWZ6JN5jlgoRzf++19zekagMr0JQDvzXNuy7Z7eJyDqT4mAYbUzpdbDCATyj4CWdg617Nq6482dz/2X//qTnx+6EFq67fzkNfPrO17euK2h73ZoyXehekfDJ69t3vz0Mztb3Jq/DQ188c5vTJs3mn7+T3zcqSrhzDs7X9uz8enfHqrd9bOnK3tuh5Zu9xzatnnzcxs3bvuQqwI/Oc0Vgfw7JeGRBgFopwYUJIGAjgQ0tPNC9ZY/D/lCS9/+eeuOL+77QkMN//bhBXorv3/0P37T8gPVzn/mBM/XuU9zSHbwb69vOxqgAZMwZqsu4cw7mxuuDllf3NkyMmZ95/P+yfO7f/XJt1wVX7y5ueGqph4jMSsEdDz3UHXqBKCdqbOCJQjkgoCGdro/3/Jvn1xw9zX821YqY+Nndjy58dev7Nz2ys5f/2prw9eSIjIbyiDpzDtbrXw8ymtnTAln3qk+Exqzvsj9/87n/QOfb3mnhx+c7G/ZuvdCVkQi24OfBVp+Lk4y1LFuAtDOdSNEASCQUQKx2jn4t9d3tPSdOdNzeYTXsL69/3roMquO0htA0gZ7NLT0bdPG3Z0077d/3soFpuoS1Np558yOl08McoVcqP4N4s5cynBGzyYUli0C0M5skUW5ILA2ArHa6fv60NPPbN328lbTxp17T3KDt397y7T59d3VH772Cn38KY7EMhtK7fQNnNj2rztf27Xz/aYPX+Pes/1WWYJaO0NL3x7Z+Zz5rd27tuJ5Zy6F0xdaWttpg1w5JgDtzDFwVAcCSQjEaueFqs21Ti7iDJzf/eLn/SpdxK6xCCQ5P3A4PwhAO/OjH+AFCIgEYrWz/4u3trz4+u7qfTte3Lr3DPfKT0K1uPDhxuc2Mv9+ewZym+PYcT3ViScC/uY1AWhnXncPnCtCArHauZ4bMfIWHIEiPOcLscnQzkLsNfhsZALQzoJTu8w6bOST20BtS1E7fT1nPJH4zfZ3Vtvc8Q/jCAiAQMoEoJ2ZlaKCKy3lMwWGehIoGb7qcg34Io+oE9HgsOuqyzMaid4f9UxFadL90dH7JDp1tn6f7dJV1+h9QqIhNsuiz+O66uppfQ/aqWc3om4DEYB2FpzaZdZhA53LRm5KyXAwEnIfa/q7jwwdq25xhSKh0S9do25bdaeftttto6K48o31/ZPDkcjiyvCxj9sUWZq/8UVC7tbfQzuNfJqgbTkkAO3MrBQVXGk5PNdQ1doJlJw9c/bsGXu9wzPa3nR2SixIpZ3Ebfugi2ppoKup4ZiUxd9p47NgzFYEh78gsF4C0M6CU7vMOrzeEwj5c0JAft7p76w/5hHrVGunx17LaWewy3piVDQiNMsQ3YN2SkywAQLrJADtzKwUFVxp6zx/kD03BEpqrXa7ran6hIcsuu1/rLe12q31bZ4Vl21frc1mtR7kH2RGXS3VTa32nvFFj6NWzhK4VP9uvc1mrX93D8Zsc9NhqMXwBApXO9vb2wtOqPLQYcOf4cZoYAl5FI1ybwWp2/MouriiThP22SwJzOLkRjIIgEACAtDOPNSzXLqU4NzAofwhII/Z5o9P8AQEipkAtDOXQpWHdRXzyV9AbYd2FlBnwdWiIADtzEM9y6VLRXGWF34joZ2F34dogbEIZFI7ez8K/vIZ4V/7ZLYFAM87M0LYWKezYVsD7TRs16JhBUogw9rZ9B13Q/9u+pcf+WNnkL95MigYZGB1a2gntLNAL7o1uA3tXAM0ZAGBLBLIsnZOBvbwkeibgZvS9jPTvUv+pjcDN6mCTrW/Od275AtNBva8GeSMp3vl7eCek1OxGsylQDuhnVm8MPKsaE3tjHjO9PjyzFG4AwJFQiDD2imM2cq6GOQHb/mIk4k7NbWTV1NeR/ltySxWJ6CdsUzWkFIk53mhN7PENTAaiUb9nlFuqveof9Qfve+27atvu+rip7SNjNMZa4eDmj9kKfTmw38QyDsCGdZOOiRL40sulFzyN4mPP3/5DI0gk2inNMw7GdgjbEM71yCHaWXJuzMSDmkRKAmNXnLd9nd9wM9t4O9q6fJHfSfft35DZ68lkctW62VfJOK79LHNFe/nnlrlIg0EQGBtBLKgnUu+kPC8UxyPFZ9uZlE7x6wvbrUO9OwtqT4TZ4w3LUVJZHyhekvLWCID2YH73349dlveFTnIKUkNYrMkSxlxXx5hbC5Ul7zT09+yNZ7PazttkCvHBPgxW6V2EmmXuFuqbXTC27NtzbaeYI59Q3UgUIwEsqOdSz76zu1Hfi4GFd68FUPS4C+5qJR5KVd83rmeuHPM+uLrR+/0vf8veaWdPXtf/LxfVkpG0oTEpAaxWZKk9Lds3XuBsblQ/c+1fYN/ex3aWdCXt6Z2hrpqhSn2PK3WbxYLuoFwHgQKjEAmtTORSDB38wyZKZ933u//0j0Y4v+ndd3uObRt8+bnNm7c0uTmYsTAF1W/2bbr9S0vvnV0gHNmvK/25Y3Pbdxo2nzoAnVp6Oie35g2bnzuxbeOupd8oTFr5YcNVb8x/fxnpqoeLnYMfPHOb0ybN5p+/k9xdEgsYfO+oyNLvi8PPbfxZ//tv/zTcxs3PreRq+LOmd2cS7SKAS2DkNLJgc9373rr1z/fvLfhQ9MzW61Xl3wqA7WTY0d/u/G5p/7rf3uGtuu1v3HB8Yj7wsB9H/+/FvkCO1+L1d0Se3N9m4f4zlVXH7JbrfXVDXTOd9+5+nqb/exAhEz1WA/yk9xaEXcW60mCdueUgFG0U63NZ97ZWPu1nHj7zL4dRwNURJ2HTFV9vtD9L/b8bO+XssG31q2vnbxPDa5+Ynrz/O0QNwhMRXTI+isayw7+7fVtfAnxxmwHPt/yH2cGFfoUJ6zs3Ceqr8JA7eTA579+8/ztC9X/XN3nu1C998KS2iDGSV9oSR13KvyR2yuNOef0bENlayUgv2cbXVyM9zpQdCXekbVWi3wgAAJxCBhVO30jPe+/vPG5l6tbvqaSefnDnz39q53bXtm57eWtpj1nBqnqKEZ3z7yz1crHoyFezyQDYYMaUCld8sXTztD9yy1vbdm4dceH5/sDvEoppNE37rbu4Xz41c80tVPt5MDne1vGhOo47VQbyK2QvIV2xjnRCzxZ1s4CbwjcBwGDENBVO+X3aaUwKPUN5ZitRkRFi7pzfvcz1RdCS/1HfrPjCy6sFOKwwNFdmxvoKKjw70Lt5vd7uO2REzv28HEnL66CLH3btHF3JzX49s9x37vhS/vWuvXXR/iXiXr2/urzb8UqZB/OMHGnpgGfJUY75RKEMiXJlDaodvJ+Sk1LvGGQ89jozYB2Gr2H0b5CI2BQ7Rw7+tudr1V/+P6bO7c19NGnleN9teaNv37zw/crX9/9N27w1n1i288376jct8PMPYwc79m7efOOyre2Sc87hcBUlKWBE9v+dedru3a+3/Tha5rv2X55aMuufe9X79vxsvhINXT/QvVm0yv7du/6hD5S7Tlk+tedu9/cueO3r+8QSlAaqJyM0c6YVoi+yQHokm/gxLZntr5W/dZe/nmnqNzxFLTQTtgi9RfaWaQdj2bnLQGDaqccUMbTDKTzBPL2zIRjLAFoJ0sD2yCgP4FsaiedWk+YKkiaV0gx8ZA4Ztv7kWL6odCS7+ZJ4ZctmJMvWeC4zi8B+p+C8CAFAtDOFCDBBARySCCb2sn9ypObk089SULvR9yk8PG0UxZddUZGSFJ63snYr1NjjJo9h+caqlo7AWjn2tkhJwhkg0B2tVOYYOi7aSF8/G5aWqRMmCqBmw9BHXcyZr98RghJY1QQ2pkROc/GSYUyM04A2plxpCgQBNZFIMvayS2T0iQMycpBpDA5X4K4U5pjKO6TS2gntHNdp35BZYZ2FlR3wdkiIJBt7eSeXDJPPTXjThqeirPG8wt8Ss87+Qn8YoJOX2gJ2gntLIILVGgitLN4+hotLQwCWddOLdnLyE0f2pkRjIVxmha9l9DOoj8FACDPCEA7M6JAhVtInp2PcEebALRTmwtSQUAvAtDOwpW9jHiu14mHetMiAO1MFVdvb29ra2uL+Gltbe3t7U01M+xAIGUCBa2d7fikT0CluCmfKTDUkwC0MyX6vb29ly9fnpubi4qfubm5y5cvQz5TwgejdAgUrnaqNAC7ayOQzskCW90IlIzikwKBI0eOsMLJC+jc3NyRI0dSyA2ToiPg9XpDodDaLmto59okxzC51nbaIFeOCZQ8wCcFAi0tLWLAqfjb0tKSQm6YFB2B5eXlQCCwNvmEdhpGBdfWkBxrAKpbGwFoZ0q3dWhnSphgxBBYXl72er1ruCyhnWuTHMPkWsM5gyy5JwDtZO528TehnfHZ4EhcAqOjo7m/pFEjCIBADghAO+Pe+NgD0E6WBrZTJADtzMEtDFWAgC4EoJ0p3QZbWlqWtT543pkSvmI1gnbqclNDpSCQAwLQzpTu69DOlDDBiCGw5uedObjsUQUIgMA6CUA7mbtd/E1oZ3w2OKJBYD3v2a7zkkZ2EACBHBDA7ztT+ulhS0vLitanpaUlpfwwKjIC6/l9Zw4ue1QBAiCwTgKYVyglgAm0M6X8MAIBEAABEDAQAWhnSp3Z2toaiURUY3ORSKS1tTWl/DACARAAARAwEAFoZ0qd2dvb293dzU7LNzc3193djflsU8IHIxAAARAwFoH/D7vbYIyqIDYRAAAAAElFTkSuQmCC)"
      ],
      "metadata": {
        "id": "8MPXGr1jaeU6"
      }
    },
    {
      "cell_type": "markdown",
      "source": [
        "![image.png](data:image/png;base64,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)"
      ],
      "metadata": {
        "id": "Bw48Fpz6asET"
      }
    },
    {
      "cell_type": "markdown",
      "source": [
        "![image.png](data:image/png;base64,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)"
      ],
      "metadata": {
        "id": "HT6-iulvbAN4"
      }
    },
    {
      "cell_type": "code",
      "source": [
        "# example 2\n",
        "def square(num):\n",
        "  for i in range(1,num+1):\n",
        "    yield i**2"
      ],
      "metadata": {
        "id": "_O3vTGe7ZLA_"
      },
      "execution_count": 12,
      "outputs": []
    },
    {
      "cell_type": "code",
      "source": [
        "s = square(10)\n",
        "print(next(s))"
      ],
      "metadata": {
        "colab": {
          "base_uri": "https://localhost:8080/"
        },
        "id": "LtT9uSGxcogr",
        "outputId": "b09b7aa5-8bd3-4cbd-d930-cbcaf5f76348"
      },
      "execution_count": 13,
      "outputs": [
        {
          "output_type": "stream",
          "name": "stdout",
          "text": [
            "1\n"
          ]
        }
      ]
    },
    {
      "cell_type": "code",
      "source": [
        "for i in s:\n",
        "  print(i)"
      ],
      "metadata": {
        "colab": {
          "base_uri": "https://localhost:8080/"
        },
        "id": "TCBxrCn4csxT",
        "outputId": "c2b5743c-1bc4-4021-9b5b-a7909856d3be"
      },
      "execution_count": 14,
      "outputs": [
        {
          "output_type": "stream",
          "name": "stdout",
          "text": [
            "4\n",
            "9\n",
            "16\n",
            "25\n",
            "36\n",
            "49\n",
            "64\n",
            "81\n",
            "100\n"
          ]
        }
      ]
    },
    {
      "cell_type": "markdown",
      "source": [
        "**Range Function using Generator**"
      ],
      "metadata": {
        "id": "IvG6a4RDdKsy"
      }
    },
    {
      "cell_type": "code",
      "source": [
        "def my_range(start,end):\n",
        "  for i in range(start,end):\n",
        "    yield i"
      ],
      "metadata": {
        "id": "jUC_D_pxcytA"
      },
      "execution_count": 19,
      "outputs": []
    },
    {
      "cell_type": "code",
      "source": [
        "for i in my_range(15,24):\n",
        "  print(i)"
      ],
      "metadata": {
        "colab": {
          "base_uri": "https://localhost:8080/"
        },
        "id": "jfbPqHvtdW2j",
        "outputId": "4aa3bdef-6ea2-4467-c365-cb3b25fc2c6c"
      },
      "execution_count": 22,
      "outputs": [
        {
          "output_type": "stream",
          "name": "stdout",
          "text": [
            "15\n",
            "16\n",
            "17\n",
            "18\n",
            "19\n",
            "20\n",
            "21\n",
            "22\n",
            "23\n"
          ]
        }
      ]
    },
    {
      "cell_type": "markdown",
      "source": [
        "#### Generator expression"
      ],
      "metadata": {
        "id": "__eabqn5d4H9"
      }
    },
    {
      "cell_type": "code",
      "source": [
        "# list comprehension\n",
        "L = [i**2 for i in range(10)]\n",
        "print(L)"
      ],
      "metadata": {
        "colab": {
          "base_uri": "https://localhost:8080/"
        },
        "id": "LUXv35gWda5o",
        "outputId": "56a62155-9764-448e-ea7c-9c07bc42105b"
      },
      "execution_count": 23,
      "outputs": [
        {
          "output_type": "stream",
          "name": "stdout",
          "text": [
            "[0, 1, 4, 9, 16, 25, 36, 49, 64, 81]\n"
          ]
        }
      ]
    },
    {
      "cell_type": "code",
      "source": [
        "# generator expression\n",
        "gen = (i**2 for i in range(10))\n",
        "\n",
        "for i in gen:\n",
        "  print(i)"
      ],
      "metadata": {
        "colab": {
          "base_uri": "https://localhost:8080/"
        },
        "id": "2z0Nbop3d8_9",
        "outputId": "29c5d25f-acdb-4438-c2d7-07d1146b3e35"
      },
      "execution_count": 26,
      "outputs": [
        {
          "output_type": "stream",
          "name": "stdout",
          "text": [
            "0\n",
            "1\n",
            "4\n",
            "9\n",
            "16\n",
            "25\n",
            "36\n",
            "49\n",
            "64\n",
            "81\n"
          ]
        }
      ]
    },
    {
      "cell_type": "markdown",
      "source": [
        "#### Practical Example"
      ],
      "metadata": {
        "id": "APTR--7ofwgI"
      }
    },
    {
      "cell_type": "code",
      "source": [
        "import os\n",
        "import cv2\n",
        "\n",
        "def image_data_reader(folder_path):\n",
        "\n",
        "    for file in os.listdir(folder_path):\n",
        "        f_array = cv2.imread(os.path.join(folder_path,file))\n",
        "        yield f_array"
      ],
      "metadata": {
        "id": "AhMOAqOCd_4I"
      },
      "execution_count": null,
      "outputs": []
    },
    {
      "cell_type": "code",
      "source": [
        "gen = image_data_reader('C:/Users/91842/emotion-detector/train/Sad')\n",
        "\n",
        "next(gen)\n",
        "next(gen)\n",
        "\n",
        "next(gen)\n",
        "next(gen)"
      ],
      "metadata": {
        "id": "aMgbGotlf0FQ"
      },
      "execution_count": null,
      "outputs": []
    },
    {
      "cell_type": "markdown",
      "source": [
        "#### Benefits of using a Generator"
      ],
      "metadata": {
        "id": "E66qb8oVf3rn"
      }
    },
    {
      "cell_type": "markdown",
      "source": [
        "**1. Ease of Implementation**"
      ],
      "metadata": {
        "id": "dfg-tHSAf8c1"
      }
    },
    {
      "cell_type": "code",
      "source": [
        "# iterable\n",
        "class my_range:\n",
        "\n",
        "    def __init__(self,start,end):\n",
        "        self.start = start\n",
        "        self.end = end\n",
        "\n",
        "    def __iter__(self):\n",
        "        return my_iterator(self)\n",
        "\n",
        "\n",
        "# iterator\n",
        "class my_iterator:\n",
        "\n",
        "    def __init__(self,iterable_obj):\n",
        "        self.iterable = iterable_obj\n",
        "\n",
        "    def __iter__(self):\n",
        "        return self\n",
        "\n",
        "    def __next__(self):\n",
        "\n",
        "        if self.iterable.start >= self.iterable.end:\n",
        "            raise StopIteration\n",
        "\n",
        "        current = self.iterable.start\n",
        "        self.iterable.start+=1\n",
        "        return current"
      ],
      "metadata": {
        "id": "Wz3WrpUHgBKc"
      },
      "execution_count": null,
      "outputs": []
    },
    {
      "cell_type": "code",
      "source": [
        "# generator\n",
        "def my_range(start,end):\n",
        "\n",
        "    for i in range(start,end):\n",
        "        yield i"
      ],
      "metadata": {
        "id": "wMoP5F67gLfa"
      },
      "execution_count": null,
      "outputs": []
    },
    {
      "cell_type": "markdown",
      "source": [
        "**2. Memory Efficient**"
      ],
      "metadata": {
        "id": "rFNvDG6zgR6m"
      }
    },
    {
      "cell_type": "code",
      "source": [
        "L = [x for x in range(100000)]\n",
        "gen = (x for x in range(100000))\n",
        "\n",
        "import sys\n",
        "\n",
        "print('Size of L in memory',sys.getsizeof(L))\n",
        "print('Size of gen in memory',sys.getsizeof(gen))"
      ],
      "metadata": {
        "colab": {
          "base_uri": "https://localhost:8080/"
        },
        "id": "isBBLuFagVj4",
        "outputId": "cbf03d11-5ab9-4cf1-89ef-bbef8869188c"
      },
      "execution_count": 27,
      "outputs": [
        {
          "output_type": "stream",
          "name": "stdout",
          "text": [
            "Size of L in memory 800984\n",
            "Size of gen in memory 104\n"
          ]
        }
      ]
    },
    {
      "cell_type": "markdown",
      "source": [
        "**3. Representing Infinite Streams**"
      ],
      "metadata": {
        "id": "SJSqUKIFgbXk"
      }
    },
    {
      "cell_type": "code",
      "source": [
        "def all_even():\n",
        "    n = 0\n",
        "    while True:\n",
        "        yield n\n",
        "        n += 2"
      ],
      "metadata": {
        "id": "4BBCPZ6KgZXw"
      },
      "execution_count": 28,
      "outputs": []
    },
    {
      "cell_type": "code",
      "source": [
        "even_num_gen = all_even()\n",
        "next(even_num_gen)\n",
        "next(even_num_gen)"
      ],
      "metadata": {
        "colab": {
          "base_uri": "https://localhost:8080/"
        },
        "id": "ubbHHkgMgmi-",
        "outputId": "c3a47860-9873-4f18-aa6b-0687ddce318f"
      },
      "execution_count": 29,
      "outputs": [
        {
          "output_type": "execute_result",
          "data": {
            "text/plain": [
              "2"
            ]
          },
          "metadata": {},
          "execution_count": 29
        }
      ]
    },
    {
      "cell_type": "markdown",
      "source": [
        "**4. Chaining Generators**"
      ],
      "metadata": {
        "id": "EtduTZgEgrJ2"
      }
    },
    {
      "cell_type": "code",
      "source": [
        "def fibonacci_numbers(nums):\n",
        "    x, y = 0, 1\n",
        "    for _ in range(nums):\n",
        "        x, y = y, x+y\n",
        "        yield x\n",
        "\n",
        "def square(nums):\n",
        "    for num in nums:\n",
        "        yield num**2\n",
        "\n",
        "print(sum(square(fibonacci_numbers(10))))"
      ],
      "metadata": {
        "colab": {
          "base_uri": "https://localhost:8080/"
        },
        "id": "AxMSbwHmgsl8",
        "outputId": "05b36cc5-a2ff-4a41-cfcf-fe092e069a31"
      },
      "execution_count": 34,
      "outputs": [
        {
          "output_type": "stream",
          "name": "stdout",
          "text": [
            "4895\n"
          ]
        }
      ]
    },
    {
      "cell_type": "code",
      "source": [
        "def fibonacci_numbers(nums):\n",
        "    x, y = 0, 1\n",
        "    for _ in range(nums):\n",
        "        x, y = y, x+y\n",
        "        yield x\n",
        "\n",
        "def square(nums):\n",
        "    for num in nums:\n",
        "        yield num**2\n",
        "\n",
        "s = square(fibonacci_numbers(5))\n",
        "for i in s:\n",
        "    print(i)"
      ],
      "metadata": {
        "colab": {
          "base_uri": "https://localhost:8080/"
        },
        "id": "NSEMFroWkD2z",
        "outputId": "e4fc6c4e-8533-4247-bf9f-bd2f24f73bf6"
      },
      "execution_count": 35,
      "outputs": [
        {
          "output_type": "stream",
          "name": "stdout",
          "text": [
            "1\n",
            "1\n",
            "4\n",
            "9\n",
            "25\n"
          ]
        }
      ]
    },
    {
      "cell_type": "markdown",
      "source": [
        "![image.png](data:image/png;base64,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)"
      ],
      "metadata": {
        "id": "S4dlBO9JlzAc"
      }
    },
    {
      "cell_type": "markdown",
      "source": [
        "![image.png](data:image/png;base64,iVBORw0KGgoAAAANSUhEUgAAAn0AAAFdCAIAAAD5VUwxAAAgAElEQVR4Aey9X3Abx53vi6pzHu6fOi+nTtXN262tk5et2oeTSureVe3uTcJzXbniXtsxqrRxtOsTexln14dRolxGsi1GlkVBDFeGKZNmDDOCKUteUD6U9Y9LSowSiJGpgKQsQqJAkSYpghQIAgRBCQIJEiREuW919/RMz2AADMABMAB+KJU409P9619/e4APfj2NbhOCFygACoACoAAoAAoUSgFToSqCekABUAAUAAVAAVAAAXfhJgAFQAFQABQABQqnAHC3cFpDTaAAKAAKgAKgAHAX7gFQABQABUABUKBwCgB3C6c11AQKgAKgACgACgB34R4ABUABUAAUAAUKpwBwt3BaQ02gACgACoACoABwF+4BUAAUAAVAAVCgcAoAdwunNdQECoACoAAoAAoAd+EeAAVAAVAAFAAFCqcAcLdwWkNNoAAoAAqAAqAAcBfuAVAAFAAFQAFQoHAKAHcLpzXUBAqAAqAAKAAKAHfhHgAFQAFQABQABQqnAHC3cFpDTaAAKAAKgAKgAHAX7gFQABQABUABUKBwCgB3C6c11AQKgAKgACgACgB34R4ABUpZAU/ngSNNTUePNDuGw0+5hng6m6+FuXN66Ou/4IkmpaZO0JhfLduGx/7uxQDnUqDnkM2duqoUV3IrlcKYkBy+1tzpScrith3qCUipc/0XR7ORSiqZ1VHUc6Hfl1UJtczqLeJzLl9tbruxxqfAcfEUAO7qp/2gxdwZ1M8cWAIFNCjgtlGYhS832dyJgGcmvBGYuDkTfTTjWUggFJ3x+AIznuGbE+EESixcbHrddvXm8MwjznLU57k5PDweTiCEhFL4YOYRnx/b8Y0PUzvEbADnR9GZmaiqWd9nzWdnhFrWfJ7hm8P9HQewq7iKaHTG41lIhL8cHharRig6h7N5Rj28eyJ36dWJUAIh3EyMxDXfBG4jCn9JTp9GfaMyD7EIHuonoqWoOA8XhCpkNbpthy5MzIxSKRKBS02/tF0dvkksM7USoQns4UwU16rUjTZqLeCZCCxMDN/0+Ci103v1yG17vanz5jDprEQYK8wKCpVGZzwBsSGcCMyBUV/0KUqQFkVniJ43h4eJ14K3c8K3h+jvm08lf9tgTYO/hVQAuJtBbVeDSXjtcmSA6na4O+8wC9WYHfNJLrGrwPUkaSo+gXF3puuAzR3ofeuXTV2EFkL05rbtbTrr9oXdp458MoE2brT+6uxENLpGmIm1ezpx6t3OiVDUd6219VoUiTEfNSvlx3YujofD451N7e4Ectve6iWxodvW7lYxi8K9bQy746cOtd3wRcPujl9i7rpttW/Zej8f9iysBeZ80Wh05sKR1sEEGj91qH04LGZjHStwd/xU85mJcNTX39ba/whNfNLcG0LRa821tuEEmjnb2htA0f7W1n5fNOq72owT3bbaQ7aeG8MSdyVxpmnkrajRbdt7jEj18ZFT4yjxp9YDXTKpRA9nfj88k6Qba5Sv960Dts9nwr6rTe/2RzN6lfCd/VXrjWh0bQNFcRf4oqGJzndPTUjjBFJDlmmGqO/qu7bhjYlTxy7ORKPh8eGJKKIqJdai0WjY4zhic68hQbGw++PmszSgjva3fjLBdIW/xVQAuJtBfVeDyTKI8wQ7zWrYCzp2WVzUxra463JR3A5aTErAuywmwYcMvsLlClTAbdv7q6amI0dae2bWUKD3LTaUK3KXB6TES6ZUsNcmDK66bcf6owruSvlF0AYu2noDfHo7YalQCzOL3DbbMD0J9NguLuBDgaBiFWht5vf25qNNTb/ae6gnoMzGLNFSgR5bL/3a67Y1ke8HrX8K9H/S2++wDwf7bV0zmOdv2S5euHjxQmerrT8secgMceKINtUdo985JD8FCzNdzTQ/Pk+lm1RLoLedCqXVK3e70HeBnqZT46LbovLI3X7Ihht4sbPN1h8KXG060GQ7e5UMVAjaIoS/HHR4Eljt5qZPcOaLHU1sUJ10sWgYDoqnAHA3g/Yid9GgxdTgkk6Ry7LLMdrJwtQGFxq0mHcJpxTViMWppgaC5nmHeZeZ5lBDOPGE1CLzKTlFdhlOKlsBFu8SFTJy12M/QuNUJlqotxVDC+GY1TasjHeRmJ99+j/1nHq3l6MaiXelbMwsmjjV2k/HN0WKKLk7c7bpDKmaEC58WRgFDVwiw9HMEi0VvtxKw+fEn1ptN7G3ttbWUz0BNN5pa2s9NYoQ8thb+eeXzGFmB0lEFL4BKGsUQUslHbUf4R/3YpI1SeO0qXSTaqHczehVuPeIgFtPR+uNDeyuDPDcFwicQf6ENrEWdn98wD7KvtOsue3He+kz9fDl1s5pqfHkiHaWIhFOi6AAcDeD6CJoXQ0mDEvMTjzgzMJfWbwr8RWDNujYJQwaC0ZYWUSYnTRqjePapGAXV8RGuokDGfyFyxWmQHbcTQy3H2rusPfPiSqtuT8+0mSz24619i4gtDFse/2IzdbaepTCT8yPRztbO+y2pqZTnjWEEsO2X5J8Rw7geFfMJppNDNtsw4QiKHi16c0mm6216c29dJxZmL604bG/dcTWYbcd/SVOWfN0Hv3lgbeONB/BIBFfAq3X3KeONtk6bE2tlCuB3rcOkQh44tReAVeBa61HjtnsHa1NrZriXWWNCu5uDNvebrZ3cJOe1tz2t5tsHfZWHEDKdRPLKrmLMnmFfJeammx2PIdrobfpaCv2/2M3h1fuC8RCfysWwY5bGPJ04sz21mO24UeUu9H+d/cearXbO+z2P/pI647gLnv3kBDvzpxtlX+TEEWGgwIrANzNIHjy811Xg9kxL+JWPEA43qXzquYdZsxdHBALcKWXhHQku6SoX2KzcIEBnpQysTFtRSk4BQW2oUBibS0hPlB8mlijvJQZ5D79WXpCekrMkvi/46eaL7Hpweo2EeLT6fHT6LCNRcq8NXycWFsVn0srr7HzRELFeXZR8TdzjYoCylOZbsqL/Llmr55ik3zJ5OPEhpQhQxfgYYwEy7023G5ThMvJxiGlMAoAdzPoLMa7Ur5BHJcKoS0OahkLldxVi3fpgDOPZGI32GkRplOJz3fF4WXxALkswF2pG+CokAqo/VIoQ/2Jictn3csZMkmXNyZ6O+z2js6rXwrzb6VLeToqfI15aogGs4mZq714oAJehlAAuJuhG1S4i/knzToWxoHp811ZvItUnu+m4K6UU7Qs4RaJMbfw2DiDy3AZFAAFQAFQwLgKAHdz6BtuADmH0lAEFAAFQAFQoIIVAO5m3fnBTjPEnVmrBgXyo0A7vEABUCCTAvl58+VuFbibu3ZQEhQougLt7e28D5Fpl3s+zqfAMShQTgpEs38p3iNGUAO4a4ReAB9AgRwVkD5TIm7rD6vNz34j5U/Dc6wBioECBlIge+xGpfeIYdpR4dy923Zw4KH+nRHsOXhlDKGH/Zc+/TK19S+dTf1BhB5c7763qpJLTP/y0/eG8+CkSpWQVHIKcJ8pkUhE/Fl5ybUDHAYFNCkA3NUkk7EzMe6uPRibCm5GvGM+/9zY7ZEp+rPbrVXfvZGR21NLmwih1bl7gThCW0tTcxiCmwvTgfh6YGw6EPxyZOTe3MoW11KBu5vBe3MRhLDZB1Mjt0dmltDKg7GR22MLhLMR71hwfTM4UL+35/cjt+ciWw9nbo+MCLVz6Q/nxvzYg60gNjL2YBVXlVT11mPsudITzik4LEcFOO7i5nG/9i7H1kKbKl4B4G4Z3AKEu2vT59+7MraG0N0rf9f0x7GF4Jjj7KkphKauNnV9+XDlwfXf9FyPoNXPL50YQ2jK+Q+v/zGA1gd/c2VsK9hz8NO2P3kfLrgOvzvMxaws3u0723aXmh2YWgoOfuj455O3Ayve84dwNIzuXtnXF0SJ282v/3Fq5eHm1nrA92B15eFc99nmm+tcOv1y8PB6a8/1hYcPp5xNji8RUlY95Th/fu7h6tKXI1MQG5fBnam1CcBdrUpBvrJQALhbBt14t+31nramnhH6g3IKQkLEtrvoYd+VniXSxrtXDn/+EC0NNJ/zTnVdvd5/5fzCl6c+urWJ4UcIioI9H/Hj1UruYr4i9JBiGKGxj85iy0J1LOZGq3P9V5qOnj/8uoPkF9Ppwd22j+4Sb4I9TVenkqp+6Dz/z0095/u/fMgH3mXQRdCEtAoAd9PKAxfLTQHgbhn06N22vc6RkSs//+guHshVcPdqz3myf9bm4KW221sIec9/1NPmuItWhk/8pufEVbxIsx7cvXfiEGG274/1XWQhc8ENlo4od++d+M0t7CTynn93IKBa9dbqw7tXf37yXhl0DDRBowISd4O9dc9UVf3F1772F1VVvxA279FoBLKBAqWiAHC3VHoqjZ8UaVsPB3uaeh8ouIvW7p46cqntZM/hVlcAB5FbYx+dbru7hdDD602fEiTrwt31kd+ebTp59fr9eycOnG87eaXtyKck3mXpPsHJwNVL9a1XT7ReOnV3NRn5Y2fON5/EV9tuwjhzmh4vt0sSd8utZdAeUEBFgVTc/f73v5/qkgHfIxU+n1mlX+VJm5tr6/KUfJ5trW8m0g4TJx5vprmeWE13NZ+Og+1iKWDAz5RiSQH1VoICqnD9PnupXjXge6Siufvizy/8zYuny+zfiz+/UAlvP2gjVcCAnynQNaBA/hRIJitjrvA3OYMB3yMVzd383RxgGRQojAIG/EwpTMOhlspUQIFVBXTpqSKPAd8jwN3KvHuh1WWigAE/U8pEWWiGIRVQMFXLqQHfI8BdQ95c4BQooE0BxWcKrM+sTTbIVaoKaAGtIo/iPWKElgN3jdAL4AMokKMC0mcKrM+co4RQrJQUUDBVy6n0HjFMQ4G7hukKcAQUyF4B7jMF1mfOXj4oUWoKaAGtIg/3HjFKa4G7RukJ8AMUyEEBxWcKrM+cg4ZQpIQUUDBVy6niPWKExgJ3jdAL4AMokKMCis8U4G6OOkKxElFAC2gVeRTvESM0VODu7+EFCpS4AkZ4OxXeB8VnCnC38F0ANRZSAQVTtZwq3iOF9DZVXRDvplIG0kGBElBA+kyB9ZlLoLvAxe0qoAW0ijzSe2S7letWHrirm5RgCBQovAIG/EwpvAhQY+UoQJl6XduLZjbgewS4Wzl3LLS0DBUw4GdKGaoMTTKMAsBdw3QFOAIKVKoCwN1K7fkKbTdwt0I7HpoNChhHAeCucfoCPCmAAsDdPIg8aDE1uNLYdTWYyMvsmE+da9AiZOoMkkwufC6azVRFaru5XQk6dplMuxzUldxMqJUKOnalFUGtTNo0l8VkSSd92sKpLroaTJbBVBchXQcFgLs6iAgmSkcB4G7qvppwdnV1dTnHU+dIcSU9FOcd5swAywSk9FWk8Mt4yZmamaXHeQOkzn5m2azyz67kbjzovuYOxsu/4dDCylQAuJui3yecXc7x0HB3NtwlQSGNUoXAVEzhojpNyFTEbSTYNZnMQuyLEDbiwDEoFwSzMJplG7SYOx1C1Cz4I9gx8aaQmChGiooU1gox2k7WbN5hFv0RvlVwrKJNxnksJGonnuNsJE8n9VGUSFE7wjTtdJhJW5kCzCUTF4nKhXU1mB2CZSGPRGXhq4/LsstiIXG8A49ACM0PdtKquNEFRAXnA2nsAHMmWQ5IyU4BOXfj7saa6p3i/ZCdKcgNChhfAeBuuj7KiruuBvZBzAAQ7DQL45PiBz2lMv0/BcZEfJJcIguRbDEBPApNP5gY3lilCHOUXJLyKCiOSB5qGfNDPoianEIkkuyrKTaPuUjsMH8oU+lAOi2L85gd8xirlkHqEsEn1YHZx7zkSyHMXWGImw0VyKRg7khYJSlSKckyaynXHZZBSlCXMOLNqmBWxb9iu2gKLaX3uLtYW4UdyLh722pudku3QYVJAc2tBAWAu+l6ORvuBh27GCOFD3oCFRG04tgyw0C6ijE7mTWWTwYbzgjlDU8dgfdSHokZHNSJ/WTMJKdQByRrzCH+L1eKeSJVSqJzFxLyuCxYCpG7jLLiVVExFsozg1x9BPPS0258hdOfZJRKMd+SUkQfLC7pWwLtNaX4+KsKPOXlekDfQ467busuqxurzW4MfWsCa6CAARQA7qbrhGy4y5FSQBQHHr6S9AATcnLWWFkduDtoYXOjmH3GJFYJYnSUEoSj9G5zdhifuObTsiJZM3BXyTxmUM0lacCcq45klEox35JSVLlLayFj3eJXJcEgkCCpC3RKELnr/a25rjsYiUR63zTbPRF4wquTwGDGWAoAd9P1RzbcxXESGWglH9lk7FQaeeYrSQ8wISfjIlcwBXeFnPippDBwzY0zCymMSWLVeAia4k10W6wpOYVcEsuKGfkDxjY+LmScY4Kk5S5rnUrtzA5fHzvmvFJkk06Zb3wV5PtHGu7yQ/G0LkU8jf2E57usG7b7l3E34uqwWo/hf7U7v7H7Tbsrsl3LUB4UMKACwN0UnbI41I1nM9NX99Biimx8Mh38NJkdgw6zhEA2bCqkJM/Q4U2Ix3LuCpapKRJ1sV8Z4elA7Ccu4hiykCIxiXFXnEKF50CxsFIyniqFgJO1Q6xO9BUfMLbx3MXDy/hF5jc1pBpnZnbF4FLyRwCbRFBWpTT1iR+Nl9qL80mlRN+YZTxLSxZzc+PMLA8vrNBAsQfxOXCXdYYefxl3JVswzixpAUdlpwBwt+y6tHIbpBIr6ySG+MVFJ3tgRq5AMnfl1+EMFCgrBYC7ZdWdBWmMLPwl4SoLlAtSfdpK5OMEabNqvyiFztrLQM5sFADuZqMW5C15BYC7Jd+F0ABQoNQVAO6Weg+C/1kpANzNSi7IDAqAAvorANzVX1OwaGAFgLsG7hxwDRSoDAWAu5XRz9BKQQHgLtwKoAAoUGQFZNwNj7uuOZ23YS2wIncKVJ8/BYC7+dMWLIMCoIAmBSTuzp+recXuDgbdv62p7YZf72pSDzKVnALA3ZLrMnAYFCg3BUTuBjvN9QOkdXFn3UvnIOYtt56G9hAFgLtwI4ACoECRFRC5G79Wv+OgMxiJBG+3adgus8huQ/WgQG4KAHdz0w1KgQKggG4KiNzFK4HdPmc/Zj/3hQPiXd30BUMGUwC4m7JDxsm293jn+4mUecrzgrgIpWxlxExtpSssiss9ZsoO10EBUQGeuzTR2wnPd0V54KDcFADupujRxaFu5zi+NuHs6h4KpciVj2S8+LBAL7wylPp6yEkV83swbGt9JYzPVFsmJNUqJtA1kKX9jsQLcAAKZFZA4m6wt+6Zqupnd9d1jsNmRJmFgxylqQBwN1O/LQ51F5a74pr+bP+cTB7S6+Lq/4hucKutVFIuqVIS9Wa35Q5wN0lPSNCigMRdLbkhDyhQ4goAdzN04LizKOPMZA3k7MZs2UZ1g5ZUsOS28SHbBM2rtJ1w1+XYZcIxt3yHH5XciiTgrkIQONWmAHBXm06Qq0wUoNzN6n8DvkdMeeqNcWdX93Ahx5jFdrgsu8zZzucMdpotg8jVsK1dCiibxZ0EUyFcdFR2ANyVyQEnWhUw4GeKVtchHyiQvQJZEZdmNuB7JB/cDQ11Fwu6wq5z0pAv7lcSAaef6DTvMDdYLKnzaIl3uZ10+W318DF76pz6LgPuptYGrqRRwICfKWm8hUugwDYVAO6mEHCCzWYmO98Xckoz3r5eYCdmrRhx4vQMI888KVO0S0OyiGexavzrjk6zid9kXmmHfC1ge9hrnAumtAHnlaoAcLdSe75C2w3cLZmOx+RLHcuSZmxrRlUGISCWzSAQXM5dARl3g27nNadrWlgkMj6PT8m/cVg3MneJoaSRFADuGqk3UvqScZoVGQc2mR1qU6VSWtV6gRrf1mNjrVVBvopUQOLuaq/loMM9MX5u3476a/iXRMFOc80HwN2KvC3Kt9HA3fLtW2gZKFAiCkjcFR1m0/LpbEExGQ5AgTJQQMHdT9Reijwq75FiC5GPeVXFbhPUDwpUjAJJnylx18Fq623c/mB3nfmlGvOzNZbL3orRAxpa5goomBqNRhXkTc6Q9B4pvkTA3eL3AXgACuSsgOIzxXu6pqZTQdnguVeq7dM51wAFQQEDKZCMVR69qlcV7xEjNAa4a4ReAB9AgRwV4D9TMHRPK6CLEIr37snT9IUcfYZioEDOCqiSlaI31SX+PZJzvfoWBO7qqydYAwUKqoD0mfKF5WumP9vxTFUV/tfmRsj929r6Y/W1z1bXdSfDuKBOQmWggF4KpIJrmnTpPaKXE9u2A9zdtoRgABQongIG/EwpnhhQc/krkIavqS4Z8D1Sjtxlm/Hxi1fk537UthZVfupOaVXa5iFlluwvuCzplv7I3h6U0EkBA36m6NQyMAMKqCiQCq5p0g34HskDdxeHuslKVV1d3UOLKsLlOUlYKjLPtRjWfN6anxecG1bGknHMgJ8pJaMdOFqCCqTha6pLBnyP5IG7Yl8WfP9dUrMyMsOLRJKXEP4SfjiExO2saEHXxBBXpkR4feYGB16N2ZRmWUrsngOvHCnua8TsmERTeH8keR5inJQh/1G3xQUmpVbIF6ZWsSNtMCxw1GXZZbGQFaSJJtSU5BK/bqVUlnYx3m8YJuyIt3txDgz4mVIcIaDWylAgFVzTpBvwPZJn7jrHC3kziIiV4CTtx+eyUEhgWpgoTpQgycFXyb6ARmI5TdApLRwtZyT+vaVjF8UYwR5Z2JLlES8h0WdXA2Oe5IOUjTQl2Y5UnO3igP2xDOKc5k4XdYBVmiSHIuQF7iYpVPgEA36mFF4EqLFyFEjD11SXDPgeyQt3Q8N0pLmw1BVuPVm8K1KKLpuHoaiAxzZvWIl5Mst8vfIaZO7RS+JuCiYhfOTwKdiXUphlMdgl3zHE3SBk2z9IpRDzkxUXvaX+0B2IWX7y1URtRWsV5+Wtg7NCK2DAz5RCSwD1VZICqeCaJt2A75G8cJfdBnjn+4IGvLhiGRskzJDlao3IXQw5cXRXjHeVsawUyouIVZnoJGs7F0Cj7LhL+49MT5PPTcvn7hHspoG/WSnQDi9QABTIpEBW76kCZC5z7nI7EXHjzLKgcHsiszgSW+EiaZ738goUaORKScO2LO5EIi+TgYdHhuloOWefK4hTuVPmJxtDJkPQWAfqjzzeFS2yUkICfoDtEi/i9sLzXUkOOAIFQAFQQJMCeeCutP9uUeYzK8EmRooCpTg6alIoZSbZSK8iks6Cu5iOZKx4l8MhPLJV4aXYCpyVwo+OBpOiYlTKsEqdVrFDYInLWDod5hTc5ca9pRlb0kC9KAhwV5QCDkABUAAU0KxAHriruW7IqFUB/rsCf6xSnoX1Kpe2l5Sh3u0Zh9KgACgACuRHgSdPnty5c2d1dTU/5nOxCtxNUo2LI0kwmeZHQUll85XAYmLiUNLwsrzWvABSOYogrxLOQAFQABQwogJPnjy5dOnSyZMnHz16ZBz/gLvG6QvwBBQABUABUEA3BTY3N//whz80NzdbrdZgMKib3W0bAu5uW0IwAAqAAqAAKGAwBZ48efKHP/zBarUePXr0/fffD4fDxnEQuGucvgBPQAFQABQABXRQgA4vNzc3Hz169O233z59+nQ0GtXBrk4mgLs6CQlmQAFQABQABYyhwJ07d06ePGm1Wt9///3Tp08b6uEuQgi4a4zbBLwABUABUAAU0EmB1dXVR48eBYPBcDhsqEiXtg+4q1M/gxlQABQABUABUECDAsBdDSJBFlAAFAAFQAFQQCcFgLs6CQlmQAFQABQABUABDQrkjbtktUjnhAYXIAsoAAqAAqAAKFAxCuSJu3gnoqHh7hLlLl6gWNg7gW5Pq+l24PZgQPJ1kjUVlzLhBbPYwshZLD4lucr5z+27gCvgV5GEJagkyeEIFAAFQIGCKZAP7oaGuvGOCKGS5S4GVAPe7SdLfIoko9v75N6J4rYKwU5zhlUh+UoESItukGtyckstGrSIuynwNuAYFAAFQAFQIK8K6M9dEbfiQV4bkDfjZLuhLHcMdNENhRT75fEukk1thWWfTckb+bGsAhSz5jfdSkjaeUmsCR+QGJr5JrjKKoS/oAAoAAqAAoVRQHfujju75K/C73yvj3Iuyy4z2SkvG3OEl8FOi2M+m1IqecmGu/MOS2d2a4ricHaXPESWx7tkU16LC7ks/E66Kg5AEigACoACoEBeFNCdu5KXpRzvCjvXSqOyuFkkAs6AK5dll8XS4EhJS43xLh7oNlsaZPwmsaw5HdGFberTjTML2+g2WLIYvpa6FI5AAVCg3BQYbfnm8dvl1iiDtwe4q9JBeJN5ga+YteJzUJyeaeTZ1SDlVzGtPWnQoqyLbFCYkpfcLvSE0GxmVnKN/Lyt5KuQAgqUiwKjLd/kXsdHy6VdObdj+dLPREFE1qpxd/T4N7XKpVY8ZwcrpWAeuVt+EmKeZYh3s34im0oltRlV/GzkVOU0pMOMKg0iQZYyUACQwHcihu6ei8tC0ujxbwph7jZV2mZx3sPKOQbuauzrzNOscDScZqqUxnoQQnQsWg542YQp7aYUOUnErAyjFXngFBQoFwWSkDB6/Js/+9keHPIdv43BI7xaaCTMpXzz+EUWGv7skoAqMXoWUkIXxeBRjB0NrNzyxT0/uxjiHLx9/Juk4WK7iCwIIaqDEO9KIbKgEpJS9lxcvi2q+LOLIUlAUTSuPjiUFADuSlrAESgACpSTAjxRCAkwd2Xswa0VE6XB1dGWb3JwxQRavvQzxhIBYElQN7hyUusER0MXf0bCX6kh+JsExS3LzNiMZaKPgW8f54JmIh97PMxJZHApiu8ecLf4fQAegAKgQD4UkIgiWGc4wafLF0ngS0JeCmPpKocQIZFHuDwuxGel8OQ4XbzL4nVRAeFACm2pTJeWOWWYpoy7nKTJX27y0b0lbBO4W8KdB66DAqBAGgXScJfjhwgkkTp8dCsRiMW7ygo5U8pLhjrP/HyXRcBkDIB8meDiXaEtqeNdqbHJpaRrcKGA4HoAACAASURBVIQVAO7CfQAKgALlqUAa7iLu6ew3hcHndNylA63sgTCO57gIuCTiXdzFfPzKYly+IWKcKpOCtVqahyWk0FlawiPen/3rv4rPu0U75Xlfbb9VwN3tawgWQAFQABQoIwWkB71l1CgjNQW4a6TeAF9AAVAAFCimAsJj71SD6sV0rYzqBu5q78yM61UFHbvIgsjynwCRCoQFsLRXBjlBAVAAFAAFylKBPHB3cahbXKG5e4j/wVhZKqhslLBYoyIZuKsQBE5BAVAAFKhQBfLD3RLHLb/WI9uSjwS73JqR+H4RF1vmA1wFd8U8phRLK+MMdE1HHC6La1JW6P0IzQYFQAFQoNwVAO6q9bC0hw/ZF4hlUW6TwNZqZmwm+XjuSishp4t3BbN8QVYj/AUFQAFQABQoMwXyw102ztw9XKLDzGyZZflSxjLuSoGsfHlIHp9S8XTcJXvzsf1xy+z+guaAAqAAKAAKyBXIA3elCsadXd1Di9J5CR3RbQlcDbJdfZTc5YeXxbZx3OXyZ+Su2bxLVpdoDw5AAVAAFAAFykmBfHIXT7Aq1V3v0bzD3GBRbA7PcRThDMJzWfn9wHEXPwAmY9Hpt84Vhqn5gnKTcAYKgAKgAChQNgrkgbvSfOZSDXZJ7+JZTtJmt3QnH/IrIRObIUX3CCJpdM6UMPeK5qJl6SZFpgaXq0F9XhU2IjwnJj9DUo2hy+Z2g4aAAqAAKFDxCuSBu2WiqWxGVZm0CZoBCoACoAAoUGwFgLvJPUCXv1APT5NzQwooAAqAAqAAKKBdAeCudq0gJygACoACoAAosF0FgLvbVRDKgwKgACgACoAC2hUA7mrXCnKCAsZSoPPfLhvLIfAGFAAFNCgA3NUgEmQBBQypAHDXkN0CToECGRQA7mYQCC6DAoZVALhr2K4Bx0CBNAoAd9OIA5dAAUMrANw1dPeAc6BACgWAuymEgWRQwPAKAHcN30XgICigogBwV0UUSAIFSkIB4G5JdJOBnNxKJBIGcqdiXckTd8eddEuiEt+It2JvC2h4SSigzt0nkfFBp/Oa0x3EjXC3VlV998+/lnL9Ubb1VuoGZ7JASs721u2qqnqmuv5yJLUluFJUBZb6rI02+yVPTLMXsbHuAR/JPXHGeg16VrNwmTLmg7slvA1RJrngOihgIAVUuLvqsuw0W89j7p4b9Aq+4k0+XCn8zsxdXDCdBXzd3Vhtn05RAyQbQoFEqOfw4c/c7tml0JiXIDQRmg0lUCI05g0FJ923PP4VwdGYz+O+5Z4MLrk/rMVFxkKJiNcTJJHyit9zy+2eIhu8RrweX8g7xk4N0czScCIP3J1wluy2u6XRZ+AlKEAVSOauu7naejtJHhk1vb1v7q5+pqpqV13vLCJ7P9damndXf3dHdaMrjhCK9NY/W11FM8wzUzILLJH+fRKPRCK9b5rtnkgkEok/IZDe02b/RXX1d6tqzuOge/y3u6ufrap6pqrmA3ccIVdDTd2bVTt+0db22o4dB3Gl8Ql73Q9ra18RMsgrgDN9FEgMt7TciMXiob4Ddg82Geo70RdCob4De+03vCG/s/GdgRhCkevWwz3e2Irfc90zfn4/LhJLoFF7/eUQ2po8/c6ZyaWY/3pLy/UIGrW/3HjO4w95Pqk/PaWPkxViRX/uhoa7u4eHYJy5Qm4gaGYRFUjibtCxq84ZR2i613rMau1wCSODHDW9Hea6qxivaNpevc8ZR3hnaDsGcNy5z+zAB+w1UG/uJEPV6eNdUlftzm/sftNqPWbtnSbc/UuLaxUh5KoX9tqiNr2OF/Am066Gavu017Gr5lw46GhwBJHX/pLVjbPEe/fsPsfqZH7AX50UGLXbRwluldzlMZwYes/m3hJqDF2uJ0WQwN2lPvtlEukij71xIEZhjPBVIZtOnpa9mbxwt4ttuzvu7HJOlL2G0EBQoDgKJHP33EuEW0/iEY/dLDKP4y63HyXdcUsaZw52mvHmlavjjjdral6tqXlhhybukqZzZlUGpSMD1tqXampe3V31dcpdiwvznvzf4Aiu9tZ+vWr3q7jS3S+YKQSKI2h516qJu8hzotHJnuRGfifn7nJfy2d+LFJ8qOUDtwBj4G72t43+3EXSOHNoqLukt+DNXk4oAQoUUIEk7iJvR7X5NHmsO+9Q5a40EB0+V/smjXcxC0msWXMujIJdu2svk4D4mrZ4l7Q3LXfdlmfaxnE2r12Id+XcRW7LTpqhgNqVY1VbWyxQVW0di0r9Pfv3N9tb3ju8v5GOM/PxLkLBvsaDVnuHzfrhQMTf3UinYgmhbczz8eHGD+22ppa+IAuCgbuqaqdNzAN3EWKzmbvgQW9a8eEiKLAtBZK5i5C39xfVVa/U1f1wx47XeoMo2PsLMp/56zuqnqnrDSK06rI8W117sK6GPd/tfXWHeZ+1/jVzbRcB9u226p019ftqan9RW4vHmZMsqLmclruR3j07zPvqa1+pq8UxLnI1KLiLvN111c/W1h+z1r3aRgac1eqAtEwKTExMzM7Orq7iIf4Mr/g2fk4UjyXS8j1D1XAZobxwF4QFBUCBAiigxt0CVAtVGFSBlZUVj8dz586de/fuLSwsxGLafzFk0BaVq1vA3XLtWWhX+SsA3C3vPt7a2nry5EkikdjY2IjH4+vr62tra6urqysrK9FoNBKJPOZeeDZ5JLK8vDw1NeV2u2/dunX79u27d+9OTk4+ffq0vIUqudYBd0uuy8BhUEBQALhbBrfC06dP4/F4NBpdXl4OBoPz8/Ozs7P379+fnJycnp6+f/++z+ebnZ198OCBz+ebn5/3+/2BQCBIXotJr1AoNDU1NTIycuvWLbfbfefOnbGxsTJQqcyaANwtsw6F5lSQAsDdEu3sra2tlZWVxcXFubm5ycnJubm5QCCwvLwcjUbX1tY2NzczzJBK0ezNzc2pqanbt297PJ6ZmZlIJJKbnRTmITkbBZ6kywzcTacOXAMFjKwAcNfIvZPs21dfffX48WO/3z81NeX3+yORyMbGRnK2nFPukdfy8vLm5mYKI3F3aw1eFOUFO5lhjrynzX8urmU2aJF+OZaivA7JT1yWv5D/UnxbRqUfwm3LDIq7GsyWL8hM/u0ZIqXj7kazZTClNeCuDhqDCVCgKAoAd4siew6Vbmxs0BHghYWFlZWVr776KgcjGYusrLCVHlNlDZ7bjRdL4V4R77i4UElhuItQcIIuVMm5kfuhPtyNX63bTX+Al7snipJe+wt1zhRTy4G7CrHgFBQoGQWAu8bvqo2NjUAgcP/+/eXl5SdP0g4+5rkxeD1Pj938Zi+ZgIXhq9zxYtBiPmipe7Z6x1/WnCMrl8Vvt9WQRUNrWvECn2jQUvuBnc+gWAEU/0a7u878TFXVs9V13YTnq+62V/ASodXPkl+IBXvrnqna8XWzQ1yCVNFqZRUiVoWDpEVGg45d8oVOUcTZuLvmtVrzrrpeUourwWz9rWX3s1VVz1pJM9hSqc/W94Zp9V77C/XS95GsfUCiUObf0nEEbDZ+rd7cwdZIlzcTuCvXA85AgdJRALhr5L568uTJ4uLi/fv3Hz58mKcAN5vmR1wdVuubu7+xszbVGqJo0PKNg2Stqml71UEXijvrX7ATbsSd+8i+FzgDWcSbX0MUOyGsAIoXH32FX+gz7nxzh+ULpZuyX3srLiqrSOauYpFR5UKn8Wv1tefJglsTbdWN+Nfgroav7e7E7fCeJiuyzTvMe3rZklykesUwQNY+IFdDVRtZ81rWmkhv7Uu8GtJFg3F30GISHzZITkpHrgYTeaX+uiTlLdBRsNOs/0MRfrGhArUDqik9BYC7hu2zR48ejY+Ph8NhY/2Gh1sxVJCOT5HGmckaotwlYQ1RMQM7UKwAilg66xeRmiyB/E3PXeHjVDAlWhDjXcWiK2IGRJ0cb92x4wWy0Okr5uo3MV+TqouPd9aZnzHXtjqDdACCayl2UGyFVh8QCrusr1RVvWI55+GBTpdilbWdnujP3dBwN917l/yf5TqR6blrQBrlz6X0Uqh0JSRVnALAXV26vKurSxc71Mj6+rrP5/P7/frOmdLHQwVgFDteiLyZaDMfc6NIb+0r5yhG3Md2430exQzCgXIFUHTbukP2/DjS+5rKBpFJIOQap6yCYXXVVf9fVBc7YxnwphryhU6Z1VTVeTvMu7vIYHikt/Y1LgLO2gdWU8RZ/5cWacG1SG+tTA2WLc/rVeFtEaTRbqnS5KOgYxcNZE0s3hVTuNBWA4qCnWbBEIubpRQTWYdWMoIHKMhjBpeFVS581SI0dQixNV29Fn+Zorm46Fa0QFqE72mH0BC6JD1HZVeDyTJIvpE14NosnQ6zySR+sxPqFxeyx/bkxsm3MBNtQrJ+kFKRCgB3del2vbj71VdfhUKh+/fvP378WBfH9Dci427SCqBfWHfsrKk/Vlezy0q2k0LerpqqH9bVv2YWn++KH1nkQLkCKEJx17Hqqh/WWffVCM93Z8/VfLe69mB97Q/J890v2qrw892v/fl3q6paJUJJLVUyD7lbq6tfrat9xWrZo85d5UKnq+62H1bt3me1Hqyt78ZfG5Tc/aLN/Fq99RheuJQ+AEYocu4VzGzhlYMPv6ipO2a17quhO11SO5HzNTV0xJsZFv/qH++KpsmGgHTTKDFN/cDVwBGI8FIY1qBfxzCNJDRiRDGmKs1xnBMuDVpMAsxclpTcFc2wPPMYinhvFtxn5EC6XzkcKqqTSrE8XAaRu9ifQQsmqPANgFUqeiEeSF8RSBItJV6Fg4pXALiryy2gC3dXV1fn5uZCoZCxBpZ1EagSjNy2VtNH13o1dtVV/xJ9Oq5iMX/czSrYFWJKJJBGDHZJHChGgQoOqTSHFmTWkDDiTzIyvElGGB0JXIWIk7KZ4yWtRAx2STYWgotfi2gmrpREa+a8yF38PZEWZJ6Qh9bMJt8oziCfDMegAFUAuKvLnbB97oZCIa/Xm/lnPLq4W0ZG8ITqZ7h/v8A7dxTr5e2ssQzIfmO1DU/iroYa2W7Wclv54q72YBfhWJaRUuKuGocYqORNSD4jwTEBnsA/nIXVIhlh3E2OiZOApz55SjJFfOBKZcVdUlj5jQEnSkE2yQL/gQJyBYC7cj1yPNsOd9fW1mZnZxcXFw0wYznH5kOxwiuQJ+5qD3bpg0w6qEt4ScaQpZFnXhIF5/hLymOBsjhOZQaFh6OMjiSEJXQXzYoDuSyPZFVis5SGucjCWZzKnTLec7AnA9cCv+XxLrPIvgewc2kWA00R3RMzwEFlK5Cau8KIEX1WgkXibs6S1oy9s/RsRM7cXV5evn//fjQa1dMbsFUBCuSFu+POLHfeJU9GTSazY9BhFp7dcg90xae5IiBTdYxgBw8Gs08c4QPI3OlgUbWQYsJzoGhUzerCKSTyVvuQYj9hwrbJPuFJU5+4UuKng1Bql8PB5lUljTOz2sVpVqx1yukAwF2mDPylCqTirvh1E+M2xaOTfGmo+g1Vv8rEd5Z+JpF27kaj0bGxsZGRkZmZGZ/Pt7CwUNylMHQUAUwVUoG8cLeQDdBcFws9NRfQlDF/nzIZv2Ro8g8ylbMCabjLvney5nNfCllSSf4tLnfHxsZusZfP5ytJBcFpAygA3N1uJ6g/+t2m1XL5lNymDFA8vQLq3JVGfSwucVqDlGhiM/zxXH3hJQ0ymc3CL/qEQR1uRqE45UIaoSF0l5+mu3VdFpPCPvdshX3R5Go0kWEq6qPgj+SzNKYlOiB4iN+Su8iv/nY5glzDld9FmLja4126vx4lbyAQYAbgLyiQnQKVw93sdIHcoIDxFVDnLpnGL/zOkucum4sgTJ7ghmpYEIm5SBfOTZ5gwcau8WMaDmCK0/QPkpPtq3NXcF4cJCe/OKCJzFVSER5C5yww5DNXcQdK+VN3p3buzs3NUeiOjIysr6+nNglXQIF0CgB306kD10ABIyuQG3fpCA0/TsOOpWcxLAUvUcSCYvq7eSkPUUZxmpG7UhhNOMpRk4t3lV8auG8SHEdp1WKwK4XFkvPYRTGDOC1D2aXauYsQWl5eDgQCAF2liHCejQLA3WzUgryggJEUyI27ArrU410FFzmsClxUBLiK0xy4K0TPYpDKUVOqXUyUuCtEtxy5WdeImVkC/quaSDNkxV3eJhyDArkpANzNTTcoBQoUX4HsuCvGrewHAtKzUun5roK73DNgcZ04xRPT5FM2oJ0kkApHxXgaP5ElbnCAVMkv+cyGxLmIVnh0zVng/dcn3k1qFCSAAlkrANzNWjIoAAoYRIFU3DWIe6XiBsS7pdJTZeMncLdsuhIaUnEKGJa7/JxkIcxOGQQXv9eAu8XvgwrzALhbYR0OzS0jBQzL3dLSGLhbWv1VBt5q4u7D+MNSaiqbgclmRRbXdzzxRPzFZHFdgdrLTAHgri4dCtzVRUYwol0BTdwdDtz0r/i1Gx13kj3vu7q0br+r3XTmnCrzGzMXghygQAkqANzVpdOAu7rICEa0KyBx17/iT/VvOHBzOHBz+tH006+eZjY9Ie52Hxrq1rjvfWarmnNIcyBpEXECpBD+kp8fKPa0VxrH+xY4hN8t0qme7MeF4nb0eIfg5B3slYZIsCtOBBW2GHLgCNiUJggOOnZZHJ1kwR1h0ib3ZYJ6grcqsmAP8ZrSoinxp4ri0kL095cpZ3Iq/YXzklIAuKtLd7EoIYu/utQLRipWAYm7FK7p//eExxJPExnEWhzqpnHu4lB395Cmje8zWNR6WUQswRqBjcRLtlYO+dkDXXBH+i2gogY8Uk3RxSgu2REQiGeOKHewV1hhp1JZusgO/cEih1KWkf0ltJb9poLLLHIXe4hBaxkUnFRvDuymwGQtv7/A3fLrU2hRJSiQNXc3tzJxFyGE0dvVVVjost5ipCTnPIpwhDqY/nf9zIZESga8pBThN4LqO/oxO/SvVFZWO++bvACrFJFoFQM4KUVYNMBlwdNEWZPJg21jPNWWNwjO8qMAcFcXXWGcWRcZwYh2BSTuphpk9q/43SM92Y0zU+JOOIvxgJdBiGjAs638uUuaTH/Cwa2gq/1mgJwlpgBwV5cOA+7qIiMY0a6AxN00ZYL/z18vuH6XJgN/KTTc3T1MR5dDeKB5kb9YgGMZd8XF58iiNmTomC2ens4VKUJlgSYrRaiG7RQ23hWXdydPcBtcbBtzebzLmsSv10PWA4Lnu0ya8voL3NWlPyuIu1uJhIbxSl1UBSNpFJC4u3n7Vqp/oW9/K/Td/2P94tk0hrhL0nTmYsxnlnGXbkhCf7kvhICMoJzDSYfJ3MUjvcQMnseknbviRCdcVjHKzcficg8Y7KVxZnF5erOj04KX01MbZ5Yeb/NrFMDzXbm45XQG3NWlNyuFu0t91kab/ZInplm12Fj3AN1leOKM9VpEcznImEEBibsYrpn+rRxvQk81TGnOUClcBgVAAR0UAO7qICJClcHdRKjn8OHP3O7ZpdCYlyA0EZoNJVAiNOYNBSfdtzz+FUHOmM/jvuWeDC65P6zFRcZCiYjXEySR8orfc8vtniIjmhGvxxfyjrFTXTqjMoxkx92lnf/Xk/tTlaEMtBIUMLoCwF1deqgyuIsSwy0tN2KxeKjvgN2DhQv1negLoVDfgb32G96Q39n4zkAMoch16+Eeb2zF77nuGT+/HxeJJdCovf5yCG1Nnn7nzORSzH+9peV6BI3aX2485/GHPJ/UnwYsZHMvStx99LOfpPpH4+Dl3S9s+emgQzY1QF5QABTIjwLAXV101c7daDQ6NjY2MjIyNzenS9UFNTJqt48S3Cq5y2M4MfSezb0l+BW6XE+KIIG7S332y3TujsfeOBCjMEb4qpCtoO0p4cok7qZpROjb33r0s598FdP+XCCNMbgECoAC+igA3NVFR+3cHRsbu8Vey8vLutReOCOauIs8Jxqd7Elu5Hdy7i73tXxGFi6MD7V84BZgDNzNvgs1cTfadBge62avLZQABfKrQHlxV5qEKPwGnfwenU6KpFvzSlMRxdmR3O6/3IJ0ZrLYmzD/kbeg2h/auTsyMsKwe2tubm59fX1jY+PJkydPS2LWC4tK/T379zfbW947vL+RjjPz8S5Cwb7Gg1Z7h8364UDE391Ip2IJoW3M8/Hhxg/ttqaWviALgoG7qndV2kRN3E1rAS6CAqBAcRQoJ+7KfvyG5WQLzHGz+lW4KwqPAUx+LycecAXp7xpS/ahdO3fn5uYod+lQs8/nm52dnZmZmSKv+/fvz87OPnjwYHZ2NhAILC4uhsPhhw8fPn78eGlpKRaLxePxzc3Nra2tr776SnRcx4OFhYWlpSVNxuPb+DlRPJZgA9E6Ol9RpoC7FdXd0NiyUqCcuEsWZaOhadLv7Nnv+tS4K0XJJpG77Hd0dA0ZId41mVIt5aaduwih5eXlQCCwvr6uuJO++uqrra2tzc3NeDz+8OHDlZWVSCTy8OHDcDi8uLg4Nzc3Pz//4MEDr9d7//79ycnJ6enp2dnZubk5n8/n9/uDweDc3Nzy8vKjR4+i0ejq6urKysrGxkYikdAeTC8uLt65c+fu3buLi4ubm5sKD+HUOAoAd43TF+AJKJCdAuXFXdZ2gbLcD/E57kpD0ASuEonF1VLFIWh5vMusq/zNirsq5XNKevr0aTwe39jYWF9fX11djUaj8/Pzy8vLS0tLwWBwYWGBUnlmZmZ6enpycvL+/fter5fye2FhYXFxcWlp6eHDh8vLyysrK7FYbH19fXNz8/Hjx3fv3h0ZGbl79+7c3Nzq6mpO3kGh/CoA3NWuL1srKmUJcW0NV1IWbimMpGvbSHBZ6HZJkonkFOkaHJWZAuXEXS42JfEuwkvCiaEqfb6Ll4uhSbvMZhrU8s+Ak+JdJDey/XHmIt4/W1t4ranHjx+vra2trKw8fvyYBtMLCwuBQMDv99Px7fv379+7d098Dj0yMnLnzp0iug1VqyqQD+6GyK4IeFMt54RqpWWdyL6byxupP3ddDSZzp8vRifcBpB8oySnc55QjKHcIzspAgXLibrruUH9PpSuR1bWixLtZeag9Mx1qpvGux+Pxer3z8/Oanvhqr0NLzidaMmnOo681zdXmL6P+3JWvz1z4/Xd10IoATOAUG8gSHiPJHhGJ37X5oFPxGSHmETYWTHIP76Sr2JGXgzS1pr7bLg0IhOCA2hWXj6anrgZ6FQfiqb7sJzkECSWjAHBXl64qD+7G4/F79+7duXNncnIyFAqtra3pIk4uRmYdNa+c0+2L/vy5mlcc3lz8MG6ZfHIX7wZY+H0R9NBaekRENx4QbMqnXEqXGJtJNp670tRKDqUKB8nQGYGimEc8YPsA4jwqu+1mjndZXTIPWSL8LXUFKoW7ee6n8uBunkXSbt5rf6nepetj5fjVOvNvy4q8+nMXIbYvQrfTWYT9iLTfH2lyBh27yG8S6Pa6LKOMu1Igi584SdEkz12pOIdSZk34KzFe3HSIyyzGu/hpVvLuQ8lPc5NTZJv+KiqH05JWALirS/dVDHe9vW/urn6mqurZ+t4wVi4+Ya97trrqWbP5u1Y8J0X8vGIH47/dXf1sVdUzVTUfuOOIfJLsabP/orr6u1U153FAiy38sLb2FZYBofi1enOHyMig46DV3ri7+rs7qhtd2AKzLBzMO+pfq9v93WrLB9bqvzQ7phFCSidJF3vtL9Q7cfkyeeWDu6I0oaHukhxnptMxLIPI1SDbQU/JXX54WWw0x10uP4dSMSc92BZ3FbbUTqWYW+0qpJWyAsBdXXqvUrg77zDv6WVLUSGE3NadVjdWMCnMEOko6Ot1vMB+G/2XFhLLuupxJOC1v0QtxHv37KYjy+7GajvGJ32Rz71ZTFPBgmiZHsw7du9zxgct3zjmRoMWHL0onRQMuZt3WL5gVkv/bx65i8PeUsUu6f4Gi2K2MMdRkoHOn1TcBBx38d63ZNal4rGrrIQKd8XAl82gFvIkx7sySyonOCiXfXVQyQNJJasAcFeXrsNTQLN86VJvwY3ExzvrzM+Ya1udwSfkE+wg/eVFSu5GBqy1L9XUvLq76uuMu3ywsdpb+/Wq3a/W1Lxas/sFM131is0poY1jllOhfd5h6QwKsS/lLpI7yTQKdpqlMUWWWLp/88Bd/FiXvEoXurg/5XORyFNY9quG5N850BT+J/zSHGNcqsElvx25G0aNu2SzepPJlG63Xc5EqkP2uybhpxcwpTmVUKWaDtwt1Z4rqt/eDvPuriCKO+teIPOVVl31/4VglQWj3tNmMoHUbXmmbRy76rWL8S7PXeS27KQZpPa4m6utt8XTlNwVqlDhrlBWcJJZcjebuTCapZbs3zxwt2S1kDsuTZuSp8MZKGAUBYC7uvREpYwzf9Fmfq3eeqy+9pW63nn8cNZ9rLr61dqa1yz1FKvh3tq/NNftq6ltrK/vDCIU6d2zw7wP56+l813wDytkixN4u+uqn62tP2ate7WNDFkjdNtafUw4lEawxXhXUUUyd5VO0h4Wh8R16fDiGwHuJvcBDRNlv89JzgQpoEDRFQDu6tIFlcLdlGKJUWnKHNlciPS+ttuBn+nq9vKe3l13tYxmVSEE3NXt5gBDoECBFQDu6iI4cFf4+YYuaiKEVl2W1/R7qjXvqG0gc6H1cs8AdoC7BugEcAEUyEkB4G5OsikLVTx3lYLAeb4VAO7mW2GwDwrkSwHgri7KAnd1kRGMaFcAuKtdK8gJChhLAeCuLv0B3NVFRjCiXQHgrnatICcoYCwFgLu69Id27kaj0bGxMbrpvS5Vg5HKVAC4W5n9Dq0uBwWAu7r0onbujo2N3WKvYDBIN9Dd2NjYJK8EeT0hry3yevKk7HbS0UXxijcC3K34WwAEKFkFgLuZu45b8SbVgkfauSvua3vr1q2JiYkHDx7MkdcseXnJa4a87pMX3bJ+amqK7lo/Ozv74MGD+fn5hYWFYDBIzYA/JAAAIABJREFUN65//PhxLBbb2Nh4+vRp5uZAjrJQALhbFt0IjahIBYC7Gbtdy05c2rk7NzdHw92RkZH19fWMtdMMT58+pbvWb2xsxOPxtbW11dXVaDT66NGjcDgcDAbn5+dnZ2cnJye9Xq/f7w+Hw6urqxAra5S3FLPpwF26/RC/xX1oWFgpsns4VIqigM+gQEkoANzV0E3i6q0pFyrXzl2E0PLyciAQ0A5dDR5KWRKJRCwWW15e9vv909PTc3Nz4XA4Hi+rJSOk1lbw0Xa5O+7sck6Ehrq7JO5OOLu6hwhvx/HRYgWrC00HBfKpAHBXu7qyTU3kxbLirrxofs/W19fD4fDs7Ozc3NyjR49gIDq/chfQ+na5S1yVcZeQGCfTqFficQFbBVWBApWgAHA3Yy+7GthuJqk35jIsd8XWra2tBYPBqamppaWlRCIhpsNBiSqQJ+6SsWfneGi4G4aaS/TOALeNrwBwV5c+Mj53aTOfPHmytLQ0OTm5tLS0tbWlS9vBSFEUyAt3u9jwcmi4G+LdovQrVFoJCgB3denlUuEubeyTJ09CodD09HQkwu1hr4sQYKRQCujPXTThZNvdw/PdQnUj1FORCgB3den20uIubXI8Hp+enp6fn4dZV7rcAwU2sl3uilOX8U73wnQqRGc4d3Vxk60K3CyoDhSoAAWAu7p0cilylzY8EolMT0+Hw2FddAAjBVNgu9wtmKNQESgACigUAO4qBMnttHS5ixB68uRJMBicnZ2NxWK0+U+fPg0EArlJAaUKowBwtzA6Qy2ggP4KAHd10RSP1WX50qVeHY2srq7Ozc2FQvj3m1tbW3fu3Hn8+LGO9sGUvgoAd/XVE6yBAoVTALhbOK0NX9NXX30VDAbn5ubW19enpqZGR0c3NzcN73WFOgjcrdCOh2aXgQLAXV06saTHmRUKPH78eGpqyufzud3u2dlZxVU4NYgCwF2DdAS4AQpkrQBwN2vJ1AqUDXfn5+cDgcD8/Py9e/fcbvft27dhypVahxc/Dbhb/D4AD0CB3BQA7uamm6JU2XB3enr67t27d+7cEfdNGh0dXVtbU7RXv1P/wCWPMJsrg9GIs/nMZPo8voHuMW3G0tsphavA3VLoJfARFFBTALirpkrWaWXDXdpyuqrz9PT06OjoyMjI3bt3xcWtQlNu9y2PZ8wTIlstxHwe9y335BJCKBEa84aCk+5bHv8KMbMV84+53bcmQ3hdrIh3LBSLeD1jocd+XMQ95o9toUSw+/Aem/OW2xtBaCs0ydL5/GxNS2w/glAi6PEGcU6PjyBWqMXjX0mEeg7Xfuh038LZIvfduJYpssx/xOvxhbxj7BQhtDTpvuX2zJJlQ2T1Zt31xSoA3C2W8lAvKLBdBYC721WQlC8z7oqaPHnyJBKJjI2N0ZTIdevhHm9sxd93pL5vCUWut7Rc98dW/M53bEPxUN+BvfYb3pDf2fjOQAxFBt5rGfDHYn6n9YOhBPLYX9pvuzzgHgst+b2hlVho2FZ/yY8SQy37znlXYoktIX9o6oz1k0nE5WfcDfUdsHsQCl2u33tiwLvkdzZZB1bQ5CeN3bOx2NKkeyqWGG7Zf94bW0ngLwE+f2wl5r1U3zKcQKP2lxvPefwhzyf1p6cQmjq9/4Q7tBLyXhvybk2efufM5FIsNHraeskvNtz4B8Dd7faRcp8TcZ/tBhcxHXTsMpl2OYK0nnmHWTzebs2aygc7zSaT2TGvKbP2TFq2NdVuDSGU3mDyVaXsWVVWLpmBu7r0ZLlyVyGO54TNTRZ19pzA3PWc2G+71N19qfvM+zbnssBFhEJ9J/pCyGN/w9aNr55p+dAZQR77gT66pWvEfaalsbHxYO3uEx7MVyHdY8eneDecvsbTk1K66ILEXfsoyXfZ3reEQn9o3NtoO3eNRNWj9vrLtJKY95rdeqSxcd+rOEVMH7XbR5H/M2u38GGK0FKftek08dPe2JlhGFt0xQgHOnA3ef9dvFQkXq1q3AgtzK8PSRxNJoTMgaT8squlc5Khmdk2ZNBiEr6mICR+cTFx31dQ0LFL+e1BZx+y9dkA+YG7mjsBf/21DKpnl3OXfFGmmxixr8jky2vmfY3UrRsm1dPR6CRDs+4PCHc7Wgakx6lJ3H2PuyhyND7UgqNhDLx6yt2DlMce+/tDJLT1n3unG2ObcZq1Xp27+OpWIjR6en+HB40x7vrOHf7Uiy9R4sq5G7rceHqCWV3ua6E5WUKp/N0ud9X33yU7EWXDXeleT/Xe0Cio9A5hn+NSCt0ITPqIFz/KxZ2xTeZO8lWK0NEh7CAmbJct2hHyYIdEC6J3ihTWLuYMhsouh2A5+V0thcgWB45TTWKoKtZu4rYzE/c4E0VTpLBSKXf8JoGm2dFpoR8q1I7EM+Fbgsuyy2IhUTvxHFvDeTod1EWxdladJhkl0CKXhWsUlUj8Risqi6SOY2nl8iWGtSfrv8DdrCVTKyDnrssivQ0FVOMbW3wLq1kojbTgQMsbtfsPtDQeqO9bRig40PJ2o63D3nKkZUAZ76LQ9ZbDTTZ7R8vh9wa4eDfUd2S/tcNue2fvy5i7CfeH9dYO+4APhX7XePg9u/29xtOjMS4OFoVR5+5k5+GWDlzKNhxBcbftoNXeMeCPe+xvHLZ12G1v1ybHuyjmsR+kbp+bRLHJTw/jej+01n9WYfEuQrL9d6nSeN1mzfGubmOGyR/EgxY2xss+3KWPbwUjMYMEAJCQSwaheYdZejeywEtenUgdnpdYDalGIZhTWhYALH4lJ7Qm1SUrI6YkfxYkp5C+YI0S3wLyA4xq6gDzU4W7JpNlEHtl7nTRuFMqJYqQLJGqjOzbhuQFq1dIEQ1KOehRcn9lGJ1WGii7c+Cu9i6V7uqkMnLuSpfFItxbm733pVylc7SVSGwhtOXvxkPB7JV2N1/ViwkyJ4uV5/4mYth+tq8E8UpRaiubXYZpuxQWjH263XiXtG673BWGFtN9o2SBI43Lkj+7BZVpNim8C3aaWTTG8CN9ykuf42KYKESTSR/93BtPikHRoIWLfakHkk2p36UaCXeZ85SgIkdxfsEgZ0Qsy42+kkq5PFLbVT8UWMMlh2RH4oeLGGgmpVALQccui4uF+FIe9mVFRaIkGckIgYkP2fGggdRHxDFlSyVvuUqFRJl6UsZKOQLuau/p5JtHLKvOXfGtJ+aj36HZ+5dPLo3jpaEzHXZ7xzk3nsAMr2IqYAzuUgUG8WhnEslyUIeMG5O3B/dmY/iR3k4MXckxcRIw1D/fJVOik8ymmJAc77L3bTbcxd8n6BcI5klyRckp1AnWcN4l7liSiLU6KUUrd5V9xwxytYkusSCbcFdZUCjgsshnhLkalF8slMxOqqm8E4C72vtXuquTyiRzN8XQETcklmQEEkAB7QoYibsKRMkaoTHeFcsIsBHfPySiJXEwgwGJz8jnuIhPDH5ZHtEcHitmvJQSmSkphYWDXErSOLNgh2FSsizClV2SBBFTcB5KKbFpYl3JKeRS1tzl0E7pmJa7vHoKiVT0EZ3lvBItiBfpAQ58paELEivzpzhTMokVNsr7FLirvX81c1d6i4nGXQ3sxpPereJFOAAFslZgu9xV2X93cahb2tyje2gxs08EgcLMHvrjm8xlVHNwQ5RseFkAtrnTwSbvCCmmBgebIsvmVeGUFNwlM4moi9wwqYhD0RtFCrNMSmKXOA/FIE9sPkvhjDAmsTx4DhSXTfBI0Vg8kkumbnLj56ZUE0OkzyMRk8xJPHMKo1Sdu0lq4Ket7JVCRmZZ9JAIxzEY8RLJo1vp+bGotsuiIL14pTIOgLva+1m6z5PKyOJd7hbFNzN5+KW8sZMsQAIokJUC2+VuVpUVNbP8w10vV+D7rx5KpojUedPcdxGWnOaTlGUp87/AXV06WMZdXSyCEVAgrQLA3bTyaLjIRmU1ZC12FhY0s6BUn6fp+rQqPUSTr5aQ7PoIpGYFuKumStZpwN2sJYMC21Ogcri7PZ2gNChgPAWAu7r0CXBXFxnBiHYFgLvatYKcoICxFADu6tIfwF1dZAQj2hUA7mrXCnKCAsZSALirS38Ad3WREYxoVwC4q10ryAkKGEsB4K4u/SH9/ELzkS71gpGKVQC4W7FdDw0veQWAuyXfhdCAilQAuFuR3Q6NLgsFgLtl0Y3QiIpTALhbcV0ODS4bBYC7ZdOV0JCKUsBA3GWLwshXKcq6N8gSUem2WKCLrKZcvynrCqEAKFAkBYC7RRIeqgUFtqWADtxN3veepuCd78UNijM6KS5SmDEnZAAFQAFQABQABUpWge1yV2Xf+8Whbrrz7oSzq3sopFEathAxyy6ubCyEv2R9IoewP3vKcFYoxVYwZsZkf5Py4N33MlrG29UJ6zxxteMYnTuV1QMnoAAoAAqAAqBAkgLb5S4xqLL/Lk5fHOrWxF0RsYRrBGPSuoBsAWSCPborSIaVlrWsICjLg7chonRPbTlFOA7cTbqjIAEUAAVAAVAgnQJ55C4JhdPVLbsmi3d5/tHt1nG4mTaKlYxpySnLI1Wtsvg+s0t3MWLbgbFU+AsKgAKgACgACmSlQL64O+7s6h7WOsaMPZbgp9hc2iDcpaqS0Lyy957L6vaCzKAAKAAKgAIKBfLBXTzsnB10ldzFwaWwpyw3zlzUeFfUjY/FyY6z8HxX1AYOQAFQABQABTIpsF3uqux7P+HkV1vTOqVZFu+yn/rgB77C0K5sZDhVq2R7Vqf4PVJyHqnq1OPMXCm2yTx2Ap7vpuoKSAcFQIFyV8A/cMkT09TIiLP5zGT6nL6B7jFtxtLbKYWr2+VuKbQRfAQFQAFQoMwViG0k/vbXZyznBrpc407P7O3ZxQfhx6vxTb7ZoSm3+5bHM+YJxXFyzOdx33JPLiGEEqExbyg46b7l8a+QElsx/5jbfWsytIUQinjHQrGI1zMWeuzHRdxj/tgWSgS7D++xOW+5vRGEtkKTLJ3PnxCqx/YjCCWCHm8Q5/T4CGKFWjz+lUSo53Dth073LZwtct+Na5kiTyojXo8v5B1jpwihpUn3LbdnNoJty+oVKjP+H+Cu8fsIPAQFQAFQIIMC18Zm/6H14td+fPx//vtf/y//0PQfX7H+x1es/+Glf/kP/+1faMnIdevhHm9sxd93pL5vCUWut7Rc98dW/M53bEPxUN+BvfYb3pDf2fjOQAxFBt5rGfDHYn6n9YOhBPLYX9pvuzzgHgst+b2hlVho2FZ/yY8SQy37znlXYoktIX9o6oz1k0nE5WfcDfUdsHsQCl2u33tiwLvkdzZZB1bQ5CeN3bOx2NKkeyqWGG7Zf94bW0ngLwE+f2wl5r1U3zKcQKP2lxvPefwhzyf1p6cQmjq9/4Q7tBLyXhvybk2efufM5FIsNHraesmfQSAjXQbuGqk3wBdQABQABXJVYP7hSueNsResZ/+n3b827Try735w9H9/rbX96gi15zlhc+PgFXlOYO56Tuy3XeruvtR95n2bc1ngIkKhvhN9IeSxv2HrxlfPtHzojCCP/UAfnSUbcZ9paWxsPFi7+4QH81VI99jxKcLFG09PSum0ZpLOuGsfJfku2/uWUOgPjXsbbeeukah61F5/mVYS816zW480Nu57FaeI6aN2+yjyf2btDjKzS33WptPET3tjZ4ZhbFbGEH+Bu4boBnACFAAFQIEcFPAtR3tGphvP33jxvfN/13zOcm7gxx/2/K//0PS1V4/Xnf59OLom2vR0NDrJ0Kz7A8LdjpYB6XFqEnff4y6KHI0PteBoGKGlvnrK3YOUxx77+0MktPWfe6cbY5txmtUuxbs8d/HVrURo9PT+Dg8aY9z1nTv8qRdfosSVczd0ufG0uAzicl8LzcmqKZW/wN1S6SnwExRQKtD5b5d94XX4ZwQFlH2Tz/Ol6FqX697RcwM/OH7uB8fPHz1/499Gph6Eowihvtv3/9M/vvsXdR/23ZlRuhAcaHmjdv+BlsYD9X3LCAUHWt5utHXYW460DCjjXRS63nK4yWbvaDn83gAX74b6juy3dtht7+x9GXM34f6w3tphH/Ch0O8aD79nt7/XeHo0xsXBogvq3J3sPNzSgUvZhiMo7rYdtNo7Bvxxj/2Nw7YOu+3t2uR4F8U89oPU7XOTKDb56WFc74fW+s8g3hXVhgNQABTImwLAXSMQl/qQt06WDN+ZWzzhvP1Pv+197l/+R8Nnn7f/fmR+GbNWfF0bm/1P//juP37wb4/XNsRE6WArkdhCaMvfjYeC2SvBnsCyBP6v6sUEmZPFZxOOEzFsP9tXgnilKLWVUK1akUs4pe1Sv2bQVIh3Ddox4BYokFEB4G7Zczf0OHbZPX347OfPNn36z7/ttTtvj86lW4/I7ryd8rZZGjrTYbd3nHPjCczwKqYCwN1iqg91gwLbUQC4W67cnQs/7hwY++lHff9v06cNn31+5fb98Ir0pHY79wyUNYIClcldstxj+nWmpMU0ZN0kbdiAk8mizdyykZoW95DZgxNQIHcFgLtlxt1ILH5uaOKnH/WZrWff6x3+YiaQ+80BJQ2sgA7cVe6/uzjULSxY1T20aOCmp3dNlbuqiXI7cjDLr8EZKKCrAsDdsuGu2xs8ev7Gd9/+pPH8jeHpBV1vEzBmOAW2y12V/XfFNma1/65YajsH3E66wmLOZP8+RwPdOVfcRhCfSqs9c6XIZrp06yFaBGd0zFOfZCszC8GuKWn/3RQ7Bm6nWVAWFFBVALhbBtz9g2d2T0ffy7/p/mxwYm0z3Swn1XsAEktRge1yl7Q5xf67E84u53hBRZHtpEt4SdZVpisq85GobEBYVort9Jcc2ianKLdzENrKV1TQ5kNlFaYAcLekuXvNM/uT9t6fn/zd5+MPKuzOrfTm5oW7bLOEAlNXtpmgAL8U0aeSu8KzXm5fhCTKBjvN/I4Iwo2TlA0/9dW8VXCl333Q/u0poMbd8Y/3/qDqO9/5q++9/vEk/mnvtOuDn3zve3/1ved3/vWvL4TXfVcO7WyfxbhiB9eaf1D1ve/81Xe+8+Kxwenwum/05M4fHz/2z9+r+uvvvPgxzoktmP/pRz9kGeAXw2oKZNWTE/7wvk/+8NqJyze+FAbTsioOmUtdgbxwl4mCB6ELGvByFHQ1sHiXm/fEHJOjUSqVgbvS0LRoSCorJmHjKoSWrsMRKKCPAircxdS8MCaBYfBX//XXV/DpbOtzh1S5y0LG8da/JRlGT+781qELc+u+cP+e506OhMeP/R218OjjH/+g/R4s06GugPYetTtv/+2vP71w80vtRSBnmSlQptzFw8tkxDjneDe5oBpikVqigPwyu1OgOcZTQIW74UfX2n++8zvP/+jXl0eCJHit6ydkTcndsZ5f/+jvXn7xpR/81Z8x7r5BixDAzF340Z995/svvfziSy9//2+fP/a5OnUYvCv3qpa7Y2Jh+bUTl4+cG3i4uq4lP+QpVwW2y102pExmMHcP4V90S/vvFnw+M35SS19sMlQyPrmddIU5UxI7uXiX/kYIG2OmkGJeFfkxEquPC3BdFrUIu1xvIGhXERVQ465Avj+1Pv/9j2Z9/ss/+duTfwqv++b69/yFLN7902+eJwPOg/u+c/waDojHj4nxLs/d8OC+/0ozVC5TtXyryHgbdH8xWXX4k3+7NZUxJ2QoewW2y11jCSQRNC9+BTvNZMJzOuMwqSqdOnBNVwVUuPv74ztfef1Xh17/0Q9//vHoui/86Mqh71W99E8vvnJoD8Xq5IUffev5n/z05R/Vv74HP+gNfvzj/3PnT3H+H9GB6NGTO2XcXf/Tv/686nv/tOfQr3/y0nEyZA0AVlEgfce+f+Xmqx/2TAcfps8GVytEAeBudh2dHqswoyo7NSH39hRQ4a70ZFfBBjbOnDKDIj+cZqdAqp7cSDypP9P/9tnrT7aepsoD6ZWmQHlxt9J6D9pb2QoAd7WMABcmj+qduBRd++/2K7/p+0L1KiRWrALA3Yrtemh4ySuQDXezi94Kw6pyqiX5ZvItR3/0m0uffH43+RKkVLgCwN0KvwGg+SWsAHDXOORW3Ea+5egzR/717GBBf0ep8AFODauAwN3fwwsUKHEFDPsey59jwF1jcnf+4co/tF78bGgif10PlktaAYh3S7r7wPmKVgC4a0DuLjxceen9ixDpVvQ7M1PjgbuZFILroIBRFQDuGo27gUer/63t0v9w3TPqLQN+GUIB4K4hugGcAAVyUAC4ayjuBiOxl3/T/emfALo53MuVVQS4W1n9Da0tJwWAu8bh7qPV9R+1XTpzY6ycbjBoS54UAO7mSVgwCwrkXQHgbnrudnV1pc+g19XZUGxPR9+pP47mvcuhgrJQALhbFt0IjahIBYC76cFZMO7u+ej371+5WZH3IDQ6FwWAu7moBmVAASMoANw1AncPdF7f/0m/Ee4H8KFUFADulkpPgZ+ggFIB4G7Rudt4fvC1E7/zhWFfP+XNCedpFADuphEHLoEChlYAuFtc7r5/2f3S+93TgRXgrqHfJ8ZzDrhrvD4Bj0ABbQoAd4vI3ZPXxr5/7DO3d5n6oK3HIBcogBUA7ma6D+5e+ZuPslzZfGlg38GBfO60Gew5eLZnKZPncL3cFQDuFou7Zwen/u+Gzs/HA6ID5X6vQfv0VAC4ixC62/bi6b8R/ymQybg79tHpfX1BhNDYR6fbkkHMs5Y/pp21NLDvxSv6/bIPuKvne6B0bQF3ReypHug+n/lfPx//zz/9zb/7wdH/7cfHe0dm+UpL9y4CzwuvAHCXcjc1FBl3xb7JhbtiYX0OgLv66FjqVkqXuxfeMO187nkTee27gvcovPCGiR74Rk/ufO7kSHjdF+7fR3Pg/w+1tgv5d7YT4I2e3MmuCgVxEdk/3bn7n3/6G9OuI/SftfsmX12p30vgfyEVAO6m4O7dK1IETMaZH/adxfGulM6P9AZ7DrKI+aO7CMe7Z/fRAFqInu+20XgXB75CzqSgWQq7ySXJJo2zEZJS/uZFofaHfWcFP7MdDC/kXQZ15UeB0uYuxeeVQyZC2RTcPXSBoBRzWsItTpTyy1nLs1B37v77F4+K3P3l6Wt8XfnpYbBangoAd1XHme+2MbBh0PLc1TjOLIwqY1ISiArcVY+V8a0l5hTuMwxUAaVCdJucIvqWcvS7PG9aaJWgQElzVxHdShyVxbsCd0fanxe4i4NgmihGw0IenoL0WHfu7m65RLn77188evWOj68RbkpQQLsCwF21eJd/QJsbd9lDYgZaFu9Kz5IVI9tiBqHvWEF8So+5FI7ELHr+mxeFx8/a+x5ylroCZcZdgawsAibjzGm4Kwwpc0iWDTL7wuu6c5cHreK41O8l8L+QCgB31biL6ci4qDN3hc4VRq2lrtYU73IDzmScmfkmmYGjSlKgnLiLH+vS57XPPc89303J3QtvsKe7QvirhC5wt5LeCiXWVuCu6jgzkp6bvnhaMc7MHvHyz3eFgWL8qFV4viv8jogFqdI4M3tszLgu3jDKR7/S01yGW+kBsMrz3RfVZlmLxuGgHBUoXe4qgsU8nUK8W453fTm0CbhbDr0IbahMBYC76YEN3K3M94XxWw3cRd/5+09YDMrmJHMPTUvo0nf+/hPj33DgoY4KAHeBuzreTmCqYAoAdwsmNVQECuisAHAXuKvzLQXmCqIAcLcgMkMloEAeFADuAnfzcFuBybwrANzNu8RQASiQJwWAuxm525WfV3K9eepiMFuWCgB3y7JboVEVoQBwN5l/xUqpiBsOGqmTAsBdnYQEM6BAwRUA7qanLMxnLvgtCRVqUgC4q0kmyAQKGFAB4C5w14C3JbiUUQHgbkaJIAMoYFAFgLvAXYPemuBWWgWAu2nlgYuggIEVAO4Cdw18e4JrKRXQnbu+/gueaMrqUKDnkM2d+jJcAQVAAc0KAHeBu5pvFshoIAVMCc6Z6Jxn+ObwRCiBEoGJL8PkyprP48McTYQnbg4Pj/qiT3FyIjQxfHPYMxNNPJrxLBAbj2ZmHqHEwsWm121Xbw7PPFIWWfNh4/0dB4C7nORwCArkrgBwF7ib+90DJYungBTvRq+1tl7zRaO+q+/ahjfQxCeHbO5ooKfZ7l5DTydOvds5EYqG3aeaP/Oh8VOH2ofD0fDM74dn3LZDPQHsv9uGgbpxo/VXZyei0bWNpCJtN3zRsLvjl8Dd4nU31FxWCgB3s+GuuF8v3siI7earsotRepuprpbVjQWNybMCEnfd7YdsFy5evHCxs83WH0LoaeDikZ8cuUSYGuxtPnbqIr5qb3J4ZrqaLy4wvxTcRW7bW724jLxIoMdGi8A4MxMO/oIC21UAuJuKgjRd/jui/n2m51tHdQOtourt9iWUryQFJO56OlpvrHFNf9Rvs52yHe8NPEUo1Nt6Zka8FuhpOuVhZ0rueuxHCHeTi4zjIsBdJhz8BQW2q0DZcBfvXf/c83RDXSESvXLI9EY/Ydts63OUl3zAeqi1XZ4/rALUJO6yLXsFyypFFDTVfrrdvoTylaSASZoDtdDferTJ1mFvbWrtDwZ6j+MB5jW37VA7/utxHDnSarfbmg+d8aA1t/1tmrPTszFse/2IzdbaepQ+uE0Mtx9q7rD3z8mLBK82vdlks7U2vbkXxpkr6QaDtuZRgXLirkDZ0ZM76T726tw9dIHw9cIbbKBYzJ+ZuyJlZ1ufM+27Ip7qc5DHbgbTZaeAFO/SpiU2+IlW8uY+TSRULz5NrG3Ic4pnfJE02cT8cAAKgAKaFSgn7rIHrv37NHAXx8ftsyQYZfmz4O46V1wf6PrC65o7DTKCAkjJXZAEFAAFSkWBMufucydHME3F57ISYjlwSonJY8KycebRk/sEVEO8Wyo3eNn6Cdwt266FhpW9AuXM3TCmI3nhR79kPpSE2Ny4u5M93mWxsm7BLsS7Zf9e07eBwF199QRroEDhFCgb7iaHqrqkyOKjehmBAAAKgUlEQVRdtYFoXWqhRgrX61BT6SsA3C39PoQWVKoCwN304ATuVuo7w+jtBu4avYfAP1AglQLAXeBuqnsD0o2swDa5G/Vc6PcZuX3gGyhQvgoAd4G75Xt3l3PLTHTJ5eicx0cXzViemAgm0NOob3R4+OZEmP5wSFiceSaaSAQ8M+Qnv4nATCDxyG17vanz5jBdolla3rmcFYO2gQJGUQC4C9w1yr0IfmSjgElYcvlRf/PR3kDUbccLVEX7W1v7yVLNzbbhxNOJU2/ZhkPR8MzV4elA71t03YtAb3tvIOE7+6vWG3g1ZqRY3jkbHyAvKAAK5KIAcDcjd7vy80quN5f+gzKVqoCJLrmMEFq7adv7/9mGcdTrtr1lI6sxd7ba+sMzZ5vpKs1YIzl3pVOkXN65UgWFdoMCBVMAuJvMv2KlFKzToaIyUEB6vjvhaLZ3kN2HkMfOL9Uc7G36WFyOWcHdcO8RYdlH5fLOZaANNAEUMLYCwN30lIX5zMa+fyvXOxNdcnnNbW/uCaCngd6jR3oXUOBa65FjNnsHXqo5jNbcHYeabHZ7W1OnB/kuHTp03N7a2nToGN7/wHepqclmvzgaRfzyzqHKFRRaDgoUTAHgLnC3YDcbVKSjAib1JZdxDYlEilWXE2trqus04zJplnfW0WswBQqAAggBd4G78D4oRQWkceZS9B58BgUqWQHgLnC3ku//0m07cLd0+w48r3QFSo+7A++Evv0t4V+XPz01t38Vnu9W+jvEqO0H7hq1Z8AvUCCTAiXJ3eYvCFC/WPz2O4HkNZO/PBsSMuiwaQFwN9MdBNeLowBwtzi6Q62gwPYVKAvu+oN7aQT80+CX4vG3FgfWA80/DX6J6bvQ9dPFgXVf2B/c+9MQybw4IB2H9p5dSOY3SQHubv8eAwv5UAC4mw9VwSYoUAgFSpK7wjizxNQQHXCmkS4X76pyl5KYMpgei9mSx6WBu4W4C6GO7BUA7mavGZQABYyhQElyFw8j47iWhLDrgWb2uPfb38KRawbuikPT/uBe4Ri4a4ybEbzIQgHgbhZiQVZQwFAKlCx3131h4fkuG0NmT3OBu4a6w8CZ/CgA3M2PrmAVFMi/AqXM3XUfntv8ToDEvsIMZxYKh75NomFu8jN7vruNeHf05E6TyfRGPx2OvvCGad8VBvsUj4eTB67TpOS/t6GG8lEAuFs+fQktqTQFSo+7ehAuDfwUl2TPd0dP7nzu0L7nnm8dxbgF7lbam8VQ7QXuGqo7wBlQIAsFgLsK0CpOk7h7cuTKIRrySty9csgkvA5dIF8LRtqf3/nc8zRtZ/sstXnhDSGTmKKoK4tug6wVrwBwt+JvARCgZBUA7irgpzhV4S6OdHHIy7jbv88kRMA+huSR9ueF4Wg8NI1hjEksAHi2lUXMirpK9iYCx4ugAHC3CKJDlaCALgpUAHelecsKzmk5VeWub/Tkzjf6Be7iweeTI3T0mx1zlO3fR7grBrs05lV9MKxLh4KRClEAuFshHQ3NLLICAwMDHR0d7ezV0dExMDCwTZ+Au+npq85dEvLufI7Oq1KPd1l0K3CXI3HKqVjb7EooXlEKmGbgBQqAAnlW4PLly06nc2VlJcFeKysrTqfz8uXLXq83HA7n9qED3M2NuzjkNbH5zKrPd4VRZYG7dB6W8IBXHJeWzxHLrQehVGUqYNqEFygACuRZgY6ODh66FL4rKysdHR3xeDwYDOaG3tLnLl7uUViCSlyvSragFRtnHnhHtqxVeN335Vnh10ewTmRlsquUWw3czfMnLpgHBTY329vbWaAr+9ve3r65uRmPx71ebw4fI6XPXfIrXrJOpHIBjYF3yAYJqbgrAVtZkAtDZePMXHr6KDm3qzl0HxSpWAWAu4AFUCDvCqTn7ubm5szMTA6fQeXAXWHhqi8WhbD1i0Vxo0BhGQ2yVoYy3uWyfftbQiicRFbgbg43FRQpgALA3bx/5kIFoABwN00QiQPWZmEYWQpehQUj08S74tpVKec6AXcLgBCoIgcFgLsABVAg7woAd9Nwlzyp5Z7yqsa7OCxmOyjQDXrF57t0UcmkYNcXXgfu5oAEKFIABYC7ef/MhQpAgfb29rjaiz7frexx5pTRajpUq1E2OT9wtwAIgSpyUAC4C1AABfKuQHruVvS8Km0ETWaqlhTgbg5IgCIFUAC4m/fPXKgAFEjD3cr+HVEeg10YZy4AP6CK3BSAdTPyvGICmAcFZmba29s31F7t7e2wboaWyDW3PF15eyX7k9vnL5SqTAVgncjK7HdodUEV6OjoePz4sYK8jx8/7ujo2I4fZfE7ovyGvMmAzFPKdvoRylaaAsDdSutxaG8RFBgYGHA6ndFoVBxyj0ajTqdzm0s0A3fzBNEczBbhroIqS1YB4G7Jdh04XlIKwL4IOcCshIqU1M0IzhZZAeBukTsAqgcFclYA4l3jgDnnToSCFagAcLcCOx2aDAqAAqAAKFA0BYC7RZMeKgYFQAFQABSoQAX05O758+f3F/t1/vx51V4sim/Gd6YosijukVQqqfYjJIICoAAoUOoK6Mnd/fv3R4r92r9/v2qXFMU34ztTFFkU90gqlVT7ERJBAVAAFCh1BYC7CgroeZqKKEWhnaozRfFEIbGqY6X+vgL/QQFQABRIpYBxuDt54vsm7vWrq5HJE9//1VXFh7TsdPKEXXk91Yd4FoC5d+JZzg/TAWUVMhf+//bM7TZCGIiiNGiJepA7MQWkBq+ULvigCpew0Tz8ZJw1iYhEdvgJMTC+viw+vvDtP6NioEfjNq61r8as+7eF6aB3Q6dxJVGMYMvDjvWeBJ6TkS5LO6Kw3u9V29UBdUAduLsDf8ZdwKp9pMk2hOBtAZvwmrLltbi/OXOAYm8SFwAT6+2rqeBald3dnIkYrxj9Oypmc2Y2ZnYE21HuNoCs4X2UKIoRbGnKHgs1Le353k71jf6RsLs/V6pfHVAH1IGeA9dz92ExPWZ6Aedga7LsMd1yC3BoNtNk3GdKosZtnI+bcCbS5fl8CoAB8MPWVAgCd4G+Zp4mQGPK5TgiQCbz0i81b0IYFYM9JtyWOyiQFOaFi18ms36Q+HopI3tCoBTFCLa0HA1+IRU0/BD4htIdZA9rGfGSvCo6Laz3e9V2dUAdUAfu7sC13G2jZIAZueUc56fEM5jlcR4vuIsvVPfVVPN7BUiuItJF4C6EsAb8McfBobyh2px6ExQxr9PL8BbAsdA57mLih1LchUB0MMSlt9AHQKZ+j7aHziJggLve81sKNsEveQkFPfZlAKHjooS0jQu7+3Ol+tUBdUAd6DlwLXdpXkaIZchx3q1nZOk9c+ZuxC2nK8i+W6iDKUNnlLtwupzVpLKsBK5J4Q9GhTIQPAWPWUkPdfIigKIhstYTWXOsxJ7oU24BYwl4p2PlAHfLgBtt52UJ3lOJu+yS5t3eY6ft6oA68MYOXM9dxhBALuITm9rPfpltEVxH7sYjDwtfZH+Td2MlRmkmhIjzrE3iq7eztdJn4NFFQDEQWpRAyC4Ry2q9naynsR+DZutnMULcFcW85m7WlkM/lWYrWu6+vNFDwt74kdShqwPqwD934AvjUsseDjoXtAAAAABJRU5ErkJggg==)"
      ],
      "metadata": {
        "id": "QxE0PrrjnoiG"
      }
    }
  ]
}