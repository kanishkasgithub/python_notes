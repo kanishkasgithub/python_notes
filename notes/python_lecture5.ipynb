{
  "nbformat": 4,
  "nbformat_minor": 0,
  "metadata": {
    "colab": {
      "provenance": []
    },
    "kernelspec": {
      "name": "python3",
      "display_name": "Python 3"
    },
    "language_info": {
      "name": "python"
    }
  },
  "cells": [
    {
      "cell_type": "markdown",
      "source": [
        "Topics covered:\n",
        "\n",
        "*   Tuples\n",
        "*   Sets\n",
        "*   Dictionary\n"
      ],
      "metadata": {
        "id": "cZnAYB1vVZ_M"
      }
    },
    {
      "cell_type": "markdown",
      "source": [
        "# Tuples\n",
        "\n",
        "A tuple in Python is similar to a list. The difference between the two is that we cannot change the elements of a tuple once it is assigned whereas we can change the elements of a list.\n",
        "\n",
        "In short, a tuple is an immutable list. A tuple can not be changed in any way once it is created.\n",
        "\n",
        "Characterstics\n",
        "\n",
        "- Ordered\n",
        "- Unchangeble\n",
        "- Allows duplicate"
      ],
      "metadata": {
        "id": "L4mKzr6RXZF0"
      }
    },
    {
      "cell_type": "markdown",
      "source": [
        "### Plan of attack\n",
        "\n",
        "- Creating a Tuple\n",
        "- Accessing items\n",
        "- Editing items\n",
        "- Adding items\n",
        "- Deleting items\n",
        "- Operations on Tuples\n",
        "- Tuple Functions"
      ],
      "metadata": {
        "id": "5skksi2rYM5o"
      }
    },
    {
      "cell_type": "markdown",
      "source": [
        "### Creating Tuples"
      ],
      "metadata": {
        "id": "b7qq2gqDZjK4"
      }
    },
    {
      "cell_type": "code",
      "execution_count": 10,
      "metadata": {
        "colab": {
          "base_uri": "https://localhost:8080/"
        },
        "id": "cfxhEMsFVVcG",
        "outputId": "df82f84e-b24c-44b0-857a-8eb68a235975"
      },
      "outputs": [
        {
          "output_type": "stream",
          "name": "stdout",
          "text": [
            "()\n",
            "2\n",
            "<class 'int'>\n",
            "(2,)\n",
            "<class 'tuple'>\n",
            "('hello',)\n",
            "(1, 2, 3)\n",
            "(1, 2, True, [4, 5], 'hello')\n",
            "(1, 2, (4, 5), (6, 7, (8, 9)))\n",
            "('h', 'e', 'l', 'l', 'o')\n"
          ]
        }
      ],
      "source": [
        "# empty tuple\n",
        "t1 = ()\n",
        "print(t1)\n",
        "\n",
        "# single item tuple\n",
        "t2 = (2)\n",
        "print(t2)\n",
        "print(type(t2))\n",
        "t3 = (2,)\n",
        "print(t3)\n",
        "print(type(t3))\n",
        "t4 = ('hello',)\n",
        "print(t4)\n",
        "\n",
        "# homogeneous\n",
        "t5 = (1,2,3)\n",
        "print(t5)\n",
        "\n",
        "# hetro\n",
        "t6 = (1,2,True,[4,5],'hello')\n",
        "print(t6)\n",
        "\n",
        "# tuple within tuple\n",
        "t7 = (1,2,(4,5),(6,7,(8,9)))\n",
        "print(t7)\n",
        "\n",
        "# using type conversion\n",
        "t8 = tuple('hello')\n",
        "print(t8)"
      ]
    },
    {
      "cell_type": "markdown",
      "source": [
        "### Accessing Items\n",
        "\n",
        "- Indexing\n",
        "- Slicing"
      ],
      "metadata": {
        "id": "HqbyN2HAcbrU"
      }
    },
    {
      "cell_type": "code",
      "source": [
        "t = (1,2,3,4)\n",
        "print(t)\n",
        "print(t[2])\n",
        "print(t[-1])"
      ],
      "metadata": {
        "colab": {
          "base_uri": "https://localhost:8080/"
        },
        "id": "GG4t0Hkice36",
        "outputId": "e797f42e-25fb-461e-abfa-818da3287f36"
      },
      "execution_count": 12,
      "outputs": [
        {
          "output_type": "stream",
          "name": "stdout",
          "text": [
            "(1, 2, 3, 4)\n",
            "3\n",
            "4\n"
          ]
        }
      ]
    },
    {
      "cell_type": "code",
      "source": [
        "t = (1,2,3,4)\n",
        "print(t[1:4])\n",
        "print(t[::-1])"
      ],
      "metadata": {
        "colab": {
          "base_uri": "https://localhost:8080/"
        },
        "id": "efBnaYRZc7te",
        "outputId": "d5d7002b-ad72-4f8e-d246-b95ada381a1a"
      },
      "execution_count": 13,
      "outputs": [
        {
          "output_type": "stream",
          "name": "stdout",
          "text": [
            "(2, 3, 4)\n",
            "(4, 3, 2, 1)\n"
          ]
        }
      ]
    },
    {
      "cell_type": "code",
      "source": [
        "t = (1,2,3,(4,5))\n",
        "print(t[-1][0])"
      ],
      "metadata": {
        "colab": {
          "base_uri": "https://localhost:8080/"
        },
        "id": "RnuTl8JddBpi",
        "outputId": "628b2e77-b125-437e-fad9-19f5dec1708d"
      },
      "execution_count": 14,
      "outputs": [
        {
          "output_type": "stream",
          "name": "stdout",
          "text": [
            "4\n"
          ]
        }
      ]
    },
    {
      "cell_type": "markdown",
      "source": [
        "### Editing items"
      ],
      "metadata": {
        "id": "mmEtIXtLdqHW"
      }
    },
    {
      "cell_type": "code",
      "source": [
        "t = (1,2,3,4)\n",
        "print(t)\n",
        "t[1] = 10\n",
        "print(t)\n",
        "\n",
        "# tuple is immutable"
      ],
      "metadata": {
        "colab": {
          "base_uri": "https://localhost:8080/",
          "height": 228
        },
        "id": "DLbBcoDLdq_j",
        "outputId": "c16e2298-f9cc-4003-e924-d8e5949ba3b0"
      },
      "execution_count": 16,
      "outputs": [
        {
          "output_type": "stream",
          "name": "stdout",
          "text": [
            "(1, 2, 3, 4)\n"
          ]
        },
        {
          "output_type": "error",
          "ename": "TypeError",
          "evalue": "'tuple' object does not support item assignment",
          "traceback": [
            "\u001b[0;31m---------------------------------------------------------------------------\u001b[0m",
            "\u001b[0;31mTypeError\u001b[0m                                 Traceback (most recent call last)",
            "\u001b[0;32m<ipython-input-16-e0404c4b3307>\u001b[0m in \u001b[0;36m<cell line: 3>\u001b[0;34m()\u001b[0m\n\u001b[1;32m      1\u001b[0m \u001b[0mt\u001b[0m \u001b[0;34m=\u001b[0m \u001b[0;34m(\u001b[0m\u001b[0;36m1\u001b[0m\u001b[0;34m,\u001b[0m\u001b[0;36m2\u001b[0m\u001b[0;34m,\u001b[0m\u001b[0;36m3\u001b[0m\u001b[0;34m,\u001b[0m\u001b[0;36m4\u001b[0m\u001b[0;34m)\u001b[0m\u001b[0;34m\u001b[0m\u001b[0;34m\u001b[0m\u001b[0m\n\u001b[1;32m      2\u001b[0m \u001b[0mprint\u001b[0m\u001b[0;34m(\u001b[0m\u001b[0mt\u001b[0m\u001b[0;34m)\u001b[0m\u001b[0;34m\u001b[0m\u001b[0;34m\u001b[0m\u001b[0m\n\u001b[0;32m----> 3\u001b[0;31m \u001b[0mt\u001b[0m\u001b[0;34m[\u001b[0m\u001b[0;36m1\u001b[0m\u001b[0;34m]\u001b[0m \u001b[0;34m=\u001b[0m \u001b[0;36m10\u001b[0m\u001b[0;34m\u001b[0m\u001b[0;34m\u001b[0m\u001b[0m\n\u001b[0m\u001b[1;32m      4\u001b[0m \u001b[0mprint\u001b[0m\u001b[0;34m(\u001b[0m\u001b[0mt\u001b[0m\u001b[0;34m)\u001b[0m\u001b[0;34m\u001b[0m\u001b[0;34m\u001b[0m\u001b[0m\n\u001b[1;32m      5\u001b[0m \u001b[0;34m\u001b[0m\u001b[0m\n",
            "\u001b[0;31mTypeError\u001b[0m: 'tuple' object does not support item assignment"
          ]
        }
      ]
    },
    {
      "cell_type": "markdown",
      "source": [
        "### Adding items"
      ],
      "metadata": {
        "id": "ELILm4lufXrt"
      }
    },
    {
      "cell_type": "code",
      "source": [
        "t = (1,2,3,4)\n",
        "print(t)\n",
        "# not possible - immutable"
      ],
      "metadata": {
        "colab": {
          "base_uri": "https://localhost:8080/"
        },
        "id": "w9pRYdIrduj1",
        "outputId": "95cb8c80-6667-4c1d-c649-fbf1e13f6027"
      },
      "execution_count": 17,
      "outputs": [
        {
          "output_type": "stream",
          "name": "stdout",
          "text": [
            "(1, 2, 3, 4)\n"
          ]
        }
      ]
    },
    {
      "cell_type": "markdown",
      "source": [
        "### Deleting items\n",
        "\n",
        "Deletion of entire tuple is possible, but deletion of its elements is not due to immutable nature."
      ],
      "metadata": {
        "id": "GQ2llvLRfvT0"
      }
    },
    {
      "cell_type": "code",
      "source": [
        "t = (1,2,3,4)\n",
        "print(t)\n",
        "del t   # deleted entire tuple t\n",
        "print(t)"
      ],
      "metadata": {
        "colab": {
          "base_uri": "https://localhost:8080/",
          "height": 193
        },
        "id": "mGctwUAUfv2u",
        "outputId": "5113ee3a-080e-4768-da20-b743503f8738"
      },
      "execution_count": 18,
      "outputs": [
        {
          "output_type": "stream",
          "name": "stdout",
          "text": [
            "(1, 2, 3, 4)\n"
          ]
        },
        {
          "output_type": "error",
          "ename": "NameError",
          "evalue": "name 't' is not defined",
          "traceback": [
            "\u001b[0;31m---------------------------------------------------------------------------\u001b[0m",
            "\u001b[0;31mNameError\u001b[0m                                 Traceback (most recent call last)",
            "\u001b[0;32m<ipython-input-18-9480adea721e>\u001b[0m in \u001b[0;36m<cell line: 4>\u001b[0;34m()\u001b[0m\n\u001b[1;32m      2\u001b[0m \u001b[0mprint\u001b[0m\u001b[0;34m(\u001b[0m\u001b[0mt\u001b[0m\u001b[0;34m)\u001b[0m\u001b[0;34m\u001b[0m\u001b[0;34m\u001b[0m\u001b[0m\n\u001b[1;32m      3\u001b[0m \u001b[0;32mdel\u001b[0m \u001b[0mt\u001b[0m\u001b[0;34m\u001b[0m\u001b[0;34m\u001b[0m\u001b[0m\n\u001b[0;32m----> 4\u001b[0;31m \u001b[0mprint\u001b[0m\u001b[0;34m(\u001b[0m\u001b[0mt\u001b[0m\u001b[0;34m)\u001b[0m\u001b[0;34m\u001b[0m\u001b[0;34m\u001b[0m\u001b[0m\n\u001b[0m",
            "\u001b[0;31mNameError\u001b[0m: name 't' is not defined"
          ]
        }
      ]
    },
    {
      "cell_type": "code",
      "source": [
        "t = (1,2,3,4)\n",
        "del t[-1]    # not possible - immutable"
      ],
      "metadata": {
        "colab": {
          "base_uri": "https://localhost:8080/",
          "height": 159
        },
        "id": "6-Xlf8F-f2WF",
        "outputId": "f877b342-79e0-4853-ff3c-0a681b773638"
      },
      "execution_count": 19,
      "outputs": [
        {
          "output_type": "error",
          "ename": "TypeError",
          "evalue": "'tuple' object doesn't support item deletion",
          "traceback": [
            "\u001b[0;31m---------------------------------------------------------------------------\u001b[0m",
            "\u001b[0;31mTypeError\u001b[0m                                 Traceback (most recent call last)",
            "\u001b[0;32m<ipython-input-19-2f0a81dd3a4b>\u001b[0m in \u001b[0;36m<cell line: 2>\u001b[0;34m()\u001b[0m\n\u001b[1;32m      1\u001b[0m \u001b[0mt\u001b[0m \u001b[0;34m=\u001b[0m \u001b[0;34m(\u001b[0m\u001b[0;36m1\u001b[0m\u001b[0;34m,\u001b[0m\u001b[0;36m2\u001b[0m\u001b[0;34m,\u001b[0m\u001b[0;36m3\u001b[0m\u001b[0;34m,\u001b[0m\u001b[0;36m4\u001b[0m\u001b[0;34m)\u001b[0m\u001b[0;34m\u001b[0m\u001b[0;34m\u001b[0m\u001b[0m\n\u001b[0;32m----> 2\u001b[0;31m \u001b[0;32mdel\u001b[0m \u001b[0mt\u001b[0m\u001b[0;34m[\u001b[0m\u001b[0;34m-\u001b[0m\u001b[0;36m1\u001b[0m\u001b[0;34m]\u001b[0m\u001b[0;34m\u001b[0m\u001b[0;34m\u001b[0m\u001b[0m\n\u001b[0m",
            "\u001b[0;31mTypeError\u001b[0m: 'tuple' object doesn't support item deletion"
          ]
        }
      ]
    },
    {
      "cell_type": "code",
      "source": [
        "t = (1,2,3,4,5)\n",
        "\n",
        "print(t[-1:-4:-1])\n",
        "print(t[-3:])"
      ],
      "metadata": {
        "colab": {
          "base_uri": "https://localhost:8080/"
        },
        "id": "tvA0x6dZf49U",
        "outputId": "181fac29-2871-4176-c556-f4f9c8ccbed8"
      },
      "execution_count": 20,
      "outputs": [
        {
          "output_type": "stream",
          "name": "stdout",
          "text": [
            "(5, 4, 3)\n",
            "(3, 4, 5)\n"
          ]
        }
      ]
    },
    {
      "cell_type": "markdown",
      "source": [
        "### Operations on Tuples\n",
        "*   Arithmetic (+,*)\n",
        "*   Membership (in,not in)\n",
        "*   Loop/iteration"
      ],
      "metadata": {
        "id": "EdFGBjRJiMeE"
      }
    },
    {
      "cell_type": "code",
      "source": [
        "# Arithmetic (+,*)\n",
        "t1 = (1,2,3)\n",
        "t2 = (4,5,6)\n",
        "print(t1+t2)\n",
        "print(t1*3)"
      ],
      "metadata": {
        "colab": {
          "base_uri": "https://localhost:8080/"
        },
        "id": "DQAlgn2JiNOI",
        "outputId": "ee9e1cd8-6a4e-4330-a8f1-06f362b36ac1"
      },
      "execution_count": 21,
      "outputs": [
        {
          "output_type": "stream",
          "name": "stdout",
          "text": [
            "(1, 2, 3, 4, 5, 6)\n",
            "(1, 2, 3, 1, 2, 3, 1, 2, 3)\n"
          ]
        }
      ]
    },
    {
      "cell_type": "code",
      "source": [
        "# Membership (in, not in)\n",
        "t = (1,2,3,4)\n",
        "print(1 in t)\n",
        "print(5 in t)\n",
        "print(4 not in t)"
      ],
      "metadata": {
        "colab": {
          "base_uri": "https://localhost:8080/"
        },
        "id": "2_Wc9v1XiNVF",
        "outputId": "f9488364-567d-4843-8542-337c013fd52b"
      },
      "execution_count": 23,
      "outputs": [
        {
          "output_type": "stream",
          "name": "stdout",
          "text": [
            "True\n",
            "False\n",
            "False\n"
          ]
        }
      ]
    },
    {
      "cell_type": "code",
      "source": [
        "# loop/iteration\n",
        "t = (1,2,3,4)\n",
        "for i in t:\n",
        "  print(i)"
      ],
      "metadata": {
        "colab": {
          "base_uri": "https://localhost:8080/"
        },
        "id": "bwR3MqImiWlb",
        "outputId": "09d74834-1421-4d24-c58b-9b8fb7b81a49"
      },
      "execution_count": 24,
      "outputs": [
        {
          "output_type": "stream",
          "name": "stdout",
          "text": [
            "1\n",
            "2\n",
            "3\n",
            "4\n"
          ]
        }
      ]
    },
    {
      "cell_type": "markdown",
      "source": [
        "### Tuple Functions\n",
        "*   len,sum,min,max,sorted\n",
        "*   count\n",
        "*   index\n"
      ],
      "metadata": {
        "id": "_HxMp3XmkgM5"
      }
    },
    {
      "cell_type": "code",
      "source": [
        "# len,sum,min,max,sorted\n",
        "t = (1,2,-2,2,5,6)\n",
        "\n",
        "print(len(t))\n",
        "print(sum(t))\n",
        "print(min(t))\n",
        "print(max(t))\n",
        "print(sorted(t))\n",
        "print(sorted(t,reverse=True))"
      ],
      "metadata": {
        "colab": {
          "base_uri": "https://localhost:8080/"
        },
        "id": "rlsqPkvDifVp",
        "outputId": "d406351c-b887-4c12-d9a0-d38fb7342052"
      },
      "execution_count": 36,
      "outputs": [
        {
          "output_type": "stream",
          "name": "stdout",
          "text": [
            "6\n",
            "14\n",
            "-2\n",
            "6\n",
            "[-2, 1, 2, 2, 5, 6]\n",
            "[6, 5, 2, 2, 1, -2]\n"
          ]
        }
      ]
    },
    {
      "cell_type": "code",
      "source": [
        "# count\n",
        "t = (1,2,3,3,4,5)\n",
        "print(t.count(3))\n",
        "print(t.count(50))"
      ],
      "metadata": {
        "colab": {
          "base_uri": "https://localhost:8080/"
        },
        "id": "5S-XT4wWkkVA",
        "outputId": "76ed4787-affd-4a72-ef30-f826a6dbd557"
      },
      "execution_count": 37,
      "outputs": [
        {
          "output_type": "stream",
          "name": "stdout",
          "text": [
            "2\n",
            "0\n"
          ]
        }
      ]
    },
    {
      "cell_type": "code",
      "source": [
        "# index - if value is present -> gives index of first occurence, otherwise gives error.\n",
        "t = (1,2,3,4,5,2)\n",
        "print(t.index(3))\n",
        "print(t.index(2))"
      ],
      "metadata": {
        "colab": {
          "base_uri": "https://localhost:8080/"
        },
        "id": "KnH3ZuCgkldr",
        "outputId": "2f24c8d2-8c7a-4d1e-b63e-30c86247385f"
      },
      "execution_count": 38,
      "outputs": [
        {
          "output_type": "stream",
          "name": "stdout",
          "text": [
            "2\n",
            "1\n"
          ]
        }
      ]
    },
    {
      "cell_type": "code",
      "source": [
        "print(t.index(50))"
      ],
      "metadata": {
        "colab": {
          "base_uri": "https://localhost:8080/",
          "height": 141
        },
        "id": "vefuc5PElHZp",
        "outputId": "6d0127ec-a45a-41ea-b1db-5d32a487aff3"
      },
      "execution_count": 33,
      "outputs": [
        {
          "output_type": "error",
          "ename": "ValueError",
          "evalue": "tuple.index(x): x not in tuple",
          "traceback": [
            "\u001b[0;31m---------------------------------------------------------------------------\u001b[0m",
            "\u001b[0;31mValueError\u001b[0m                                Traceback (most recent call last)",
            "\u001b[0;32m<ipython-input-33-186e2e1838c1>\u001b[0m in \u001b[0;36m<cell line: 1>\u001b[0;34m()\u001b[0m\n\u001b[0;32m----> 1\u001b[0;31m \u001b[0mprint\u001b[0m\u001b[0;34m(\u001b[0m\u001b[0mt\u001b[0m\u001b[0;34m.\u001b[0m\u001b[0mindex\u001b[0m\u001b[0;34m(\u001b[0m\u001b[0;36m50\u001b[0m\u001b[0;34m)\u001b[0m\u001b[0;34m)\u001b[0m\u001b[0;34m\u001b[0m\u001b[0;34m\u001b[0m\u001b[0m\n\u001b[0m",
            "\u001b[0;31mValueError\u001b[0m: tuple.index(x): x not in tuple"
          ]
        }
      ]
    },
    {
      "cell_type": "markdown",
      "source": [
        "### Difference between Lists and Tuples\n",
        "\n",
        "- Syntax\n",
        "- Mutability\n",
        "- Speed - Tuples are generally faster than Lists. Generally immutable datatypes are faster than mutable datatypes.\n",
        "- Memory - Tuples occupy less memory in comparsion to List. Generally immutable datatypes takes less memory than mutable datatypes.\n",
        "- Built in functionality - List has more built in functionality.\n",
        "- Error prone - List are more prone to error, due its mutable nature.\n",
        "- Usability\n"
      ],
      "metadata": {
        "id": "aubfEh_2qfNX"
      }
    },
    {
      "cell_type": "code",
      "source": [
        "import time\n",
        "\n",
        "L = list(range(100000000))\n",
        "T = tuple(range(100000000))\n",
        "\n",
        "start = time.time()\n",
        "for i in L:\n",
        "  i*5\n",
        "print('List time',time.time()-start)\n",
        "\n",
        "start = time.time()\n",
        "for i in T:\n",
        "  i*5\n",
        "print('Tuple time',time.time()-start)"
      ],
      "metadata": {
        "colab": {
          "base_uri": "https://localhost:8080/"
        },
        "id": "dSo3aOr4pswv",
        "outputId": "281e0ea2-3d3e-44c7-8107-55d1d2118ed7"
      },
      "execution_count": 1,
      "outputs": [
        {
          "output_type": "stream",
          "name": "stdout",
          "text": [
            "List time 10.386075973510742\n",
            "Tuple time 9.782715320587158\n"
          ]
        }
      ]
    },
    {
      "cell_type": "code",
      "source": [
        "import sys\n",
        "\n",
        "L = list(range(1000))\n",
        "T = tuple(range(1000))\n",
        "\n",
        "print('List size',sys.getsizeof(L))\n",
        "print('Tuple size',sys.getsizeof(T))"
      ],
      "metadata": {
        "colab": {
          "base_uri": "https://localhost:8080/"
        },
        "id": "OV2nAYp3CyLe",
        "outputId": "53903e31-6170-4cca-f381-b792d3ca61af"
      },
      "execution_count": 2,
      "outputs": [
        {
          "output_type": "stream",
          "name": "stdout",
          "text": [
            "List size 8056\n",
            "Tuple size 8040\n"
          ]
        }
      ]
    },
    {
      "cell_type": "code",
      "source": [
        "a = [1,2,3]\n",
        "b = a\n",
        "\n",
        "a.append(4)\n",
        "print(a)\n",
        "print(b)"
      ],
      "metadata": {
        "colab": {
          "base_uri": "https://localhost:8080/"
        },
        "id": "_xfeosgGC4rU",
        "outputId": "5fb369cb-814d-4013-b847-bfb87f92b667"
      },
      "execution_count": 3,
      "outputs": [
        {
          "output_type": "stream",
          "name": "stdout",
          "text": [
            "[1, 2, 3, 4]\n",
            "[1, 2, 3, 4]\n"
          ]
        }
      ]
    },
    {
      "cell_type": "markdown",
      "source": [
        "![image.png](data:image/png;base64,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)"
      ],
      "metadata": {
        "id": "60S8t_22DXnC"
      }
    },
    {
      "cell_type": "code",
      "source": [
        "a = (1,2,3)\n",
        "b = a\n",
        "\n",
        "a = a + (4,)\n",
        "print(a)\n",
        "print(b)"
      ],
      "metadata": {
        "colab": {
          "base_uri": "https://localhost:8080/"
        },
        "id": "3sxfrde4DYsP",
        "outputId": "57f07fff-2112-4165-bb61-a8b6a2f46f9e"
      },
      "execution_count": 4,
      "outputs": [
        {
          "output_type": "stream",
          "name": "stdout",
          "text": [
            "(1, 2, 3, 4)\n",
            "(1, 2, 3)\n"
          ]
        }
      ]
    },
    {
      "cell_type": "markdown",
      "source": [
        "![image.png](data:image/png;base64,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)"
      ],
      "metadata": {
        "id": "MX6KI1sEDwrU"
      }
    },
    {
      "cell_type": "markdown",
      "source": [
        "![image.png](data:image/png;base64,iVBORw0KGgoAAAANSUhEUgAAAiIAAADiCAIAAAD8oTvgAAAgAElEQVR4Ae2dbXATV7rnVbuztXf3Vu3W3dq7e2s/3N2p+bJftram2NrsVGaqWGZnWDJ1w6zrOiFkUpBJhslc8sLcDHkjibEtiHDAxsJGMQhjm8gOdvAbNgYH2YCJjBwsbCRsYmIbbCPFCOPIYBsr9vTeflV3q7vVstRSt/RXUbh1+vRznvM7fc7fzznt0yYCHxAAARAAARDQjIBJM8swDAIgAAIgAAIEZAY3AQiAAAiAgIYEIDMawoVpEAABEAAByAzuARAAARAAAQ0JQGY0hAvTIAACIAACkBncAyAAAiAAAhoSgMxoCBemQQAEQAAEIDO4B0AABEAABDQkAJnREC5MgwAIgAAIQGZwD4AACIAACGhIADKjIVyYBgEQAAEQgMzgHgABEAABENCQAGRGQ7gwDQIgAAIgAJnBPQACIAACIKAhAciMhnBhGgRAAARAADKDewAEZAh4a98rtFj2FBY73MEVXh5vbXFXkPedPpzobvKGolLlE1Tml8r22Gs/0OznueRvy7N55IuSObO6q2SMMcnBruJab1QWjy2vzR9Jvd3dPBgPqsiVcR2FvE3dE3FdIZVZukb8nPc7i8suz/NTcCwkoG+ZmXTkFLiEDuMbCKSKgMdGj93BMxabJ+z3jgYf+4f7RkMPRr13wwQRGvVO+Ee97r7hYJgI3222vG3r7HOPPuC5F5rw9rndQ8EwQRDMVeTB6AN+ftLOxJCbtkOZ9ZP5idDoaEjS7MTnxQ2jTCnzE153n7u78j3SVbKIUGjU670bDt50u7miCSJ0m8zmHfTy3eNkhj47PB0mCLKapALMTwyTdSSCN6mvK6GJQYGHJAQv7SdBX0XDmbnLFCEo0WPLaxoeHaRRhP0tlj/ZOt19lGWWVnh6mPRwNESWKuZGV2re7x323x1293knaJFS9uqBx/a2pbbPTTVWOEgSZi9kCg2Nev1cRXgQWAcGJ0IrRJiqUWiU4tnndlNeM97eZsQy9EVxdbS4slXDzzTIjKvAxHxyHQHlFkhIZlxmthxzr1QxveacWkH5gdoc6ZxSVyMt8wmwMjNa/57N42//8E+WempwZH4399h2WBo8E0FPdeGJYeLxZev7DcOh0DwlESScleHqA7XD06GJLqu1K0Rwv9HTZiP5STvNQ8HgUK2lwhMmPLYP26nf/D22Co+EWSLYXsaqzFB1XtnliVDQU/knUmY8tu0f2tovub135/23J0Kh0GhTobU3TAxV51W4g1w2tuUYmRmqLq4bDoYmusus3Q+I4RPF7dNEqKt4u80dJkYbrO1+ItRttXZPhEITncVkose2Pc/WdtkdkZkInFt0XCUq0WPbUUShqiqsHiLCX1rfqxeg4jwc/cI9GsWNrdRE+4fv2S6NBic6LQe6QzG9Ck80vG+9HArNPyZCZBNMhKaHaw9UD0eiwEhF7tMZQhOdB2zux8PVRc2joVBwyD0cImhK4flQKBT0OgptnnmCIRb0VBU30OFSqNt6Ypjlip9iAumRGXo0D9TmiAZ6yruAI9fMhDCJyYyLVpdJR46JNchUP+DIJSWIVzqjSZAZ8Q2Szd89th3vWyyFhda20XnC3/4hOy/FyQxfDyLywCILtNuYmSKPrag7JJKZSH5OV/zNtnY/P72Ckg6mFNYs4bHZ3PQXf5ut+S55yAgGVwQxP/qFvXiPxfL+jrw2vzgba4m+yt9ma6d/3fLYLJQcWr/0d59o73bY3YFuW/0oKV8f2pqbmpubaq227mDEQ9YQDw5nU9oxWmIjfjIWRuuL6fzkdzlukVL87RU0KLVeeSqYtvO3WaqHOLc58oSnIs9GVrC5tszWPe3vtLxnsTV0UmEow5YgSC2s9IZJ2sWWE2Tm5koLO0NINTFnGAdCAumUGaLXbCpwuQpM7ODuMuc6BmtzmCCkwEVMOnJyc+jvjCSQmkF96Mm06AzC6pHfyDwSYVO0yPE8ibaClOwjwEYzVM1jyozXXkhHISyo6XYrOUYTZERic4ujGYLLzw52K97qA+28QZyKZiLZWLPEcLW1m56s4QZNscyMNljqqKKpAT14hpnS8bdQc2usJfqq4BkrHRyFv7Ta+khvbVZrdZufGKq1lVmrBwmC8Nqt/LUH1mHWDhERAEbwxCVyukIjHbQX8pdqyIHbEpl0kuMWKYWWmZheBdsLGXXxVlovPybdFegZTy/JDMLVlfB80FP1nn2QlfB5j72knV4PC56x1t6KVJ46ohtLlIivDIF0yoyrgIonWBlgx31hNMMoBKlAASLgyM1xTJKuM5LAXksQdAZRu9JRiyiUYfKwxUUugcxEWOCIIH+JZ+MXMmCIFc2E3RV5xZX27tscu3lPVaHFZrcVWdvvEsRjt+3tQpvNat1Dj/VcfnLqxlppt1ks1d55ggi7bX+i8hW+R0YzXDbObNhts7mpQZMIdFretdhsVsu7O0hXudH8sdf+YaGt0m7b8ydy7X3eW7vnT+99WFhcSI6b3IcRp3lP9R6LrdJmsdLDqL/9wzwqvhmu3sGMzv4ua2GRzV5ptVhVRTPiEjnHaKSP3bbdxfZK3vr8vMe+22KrtFvJ8EDIjbs20gS0zBCxvCImWiwWm5183OBuu2WPlfS/ysNTE55e3u22khDsZA2nvbVkZru1yOZ+QMtMqPvAjjyr3V5pt1+YoGpXSDbZgTwmmhltsAqFk4OMA4Ig0iMzTLzCBhmughzHJKcu3AEViDCPANAqwtMSemUlMqvGOyVuWJdZPGlG5oDMiDnhuwYEwvPzYW4xYCU8T8uDoCDeYMemhyMrPGwS/+dQdXEL++CWtE2C4KfTxysht42Ng/jWyOPw/ENuTUl8jv0eDks4z54U/YxdougC8VcBN/FJ/nfVXq2QJvlXRh+HH0cyxGgCMkgNs7nn3RU2UTAUbTybU9IjM+wsGUu+l1qtZxRFQWakohmBDrEGCYLoNTOlRNZmBHoDmeHBwmEaCUg9shzDnfDwmQbP/RiZIqcfD7dX2u2VtZ03mSejIqc0Okp9iRpVRIXZ8GhnOxmG4iNLQB8yQ7jMJmY2jI4zyHCHXpsRqUj02owoQ6Sm0U+acTLDPAJAlsJNyjERFlVuxAiOQAAEQAAEEiKQBpmR8ldhyksqO9JAAARAAAQMQkAXMoM/WDHI3ZJdblbgAwIgEIuAmkFBFzKjxlHkAYEUE6ioqEhxiSgOBIxFQGUfgcwYq1nhbeoIqOxCqXMIJYGAzgio7CPaycz1sg96ZpIPJdD2QYePIGa6Wz67KW/9ptPSHSCIOxdbbzyUyMWl3/zsoFsDJyWKRJLhCKjsQoarFxwGgWQRUNlHtJeZ+Tu+kcDS7JhvYuq271r/CL2vxfLDiRv9/ddG7i0RBPHw9g3/IkEs3xu5TY75S3dv+RcX/L5b/sDN/v4bt+eWeVAYmVkK3Lg9SxCk2Tsj/df6R+8Rc3d8/dd8dylZmR3zBRaWAj27drR90X/t9uzyzOi1/n6mdF76zG3fFOnBcoA04rvzkCwqqujl70jPxZ7wnMJhJhKQ6ELfG62ehnPYaICz3F+JPiJFRGOZmb/VeLDDN08Q1zuesVzw3Q34HA3VIwQx0mmpvzkzd+diedvFWeLhpZajPoIYcf7m7Qt+YqG3vMO3HGj74LOyL8dm7rryD7h5EQkbzZxtKLtOm+0ZuRfo/cTxyvFr/rmxxjwy1iGud+w8GyDC14rfvjAyN7O0vOCfuPNwbuZ2a0Nx3wIvnQ65Zi5a2y7enZkZcVocNwlCXPSIo7Hx9szDezf7RxD5SN1EGZom7kIPXeZcs2eRre33AU/X0Cz7LfbPgMfZ5XTdUn1FcMjZ5XR2eQJxScViwNPlCdBOLnrMuWYXr/PEdhI5QCAeAuI+InOtljLzdluZpa2f/rsletynBKDsOjFztqPtHuXR9Y78SzPEvZ7iU2Mj9Z0Xuzsa796sPnZ1iRzrKcEgAm3H+JNvYpkh5YQgZmjVIQjfsQbSMlMcN3H38HZ3h2VPY/7bDio/l04fXC87dp3yJtBm6RyJKnrG2fiKpa2x++YMP6ySAYrkjCEg7EKLzp2bHeNM5cYa33zquZynpHaXkK7+w3bzBw7P8NCpnT/Z1cUplXReOnVx0uMZnx3r3Z+zwT6mlJF/btGz96WnNkT+BI24Zc/Z6VRVHt8MjkFAHQFhH5G9RkuZ2eHs7+9449h1clZKJDOdbY3UBtpLvS1l15YJYqzxWFuZ4zox5z5a3na0M0CFFInLzI2jeZRETVzYVU/tdce4waYTtMzcOFp+lXSSGGs80OOPkhnyzPLDmeudbxy/IQsSJzKOgKAL3bLnvBsZrxeDs+Q2euplhoMT9foJ7ozMgWf/hv1q31h2bX9OsYfauokztuh8N8cu3ueRO4sDEEiIgKCPyFvSUmbIRwCWZ3rbLO13RDJDzF+vLmwpO96Wb3X5yRBh2Xespuz6MkHMXLR8RilQUqKZhf4jDZbjnRe/uXH0vcay4x1lhZ9R0QybPkHLzLK/s2WXtfOotaX6+sNohfPVNRYfJ8+W9WHSTP5Wyrgz/C4UqN/8ZqcoKliFzCy6Pnhq/zWVpMbai/a/mfuTN8+onGfz7M8lBUkoM8Rs6/bN9YL3KqksHtlAICYBfh9RyKydzCgUSp9aWppfiJkpaRmWF5bCinNe4e+WFM6HHyqdTZqXMKQjAvwuJPUXxHHLzFjNSy/Vqp4Ao0k8HLK/sL09+pXQUZzGjuS82RqYnZ1tfzfH7p2NSGLc8VOUaSSAgAwBfh+RyUImayUzm95o+tmmmgz7t+mNJgWUOJVhBPhdaLZ1+/ZWUVQhkplFT43dJa8HpMbUCDVm3GlvHYvogQw+1wfr2FkvhSJmXZX79xeR/7Zv+PHmd+0u1tnZ1u1RcZhMSUgGgTgJ8PuIwqVayYxCkTgFAoYgIOhCwVMvvXiKHboJj3Xdul/85IemH/7kF+vKvqJrQ+7Hynsfq7CKX5n/hsq87hfr1v2ijF5rWew1/1h+dcdT8+b+ol3bc9e9ZOWeblMsgi1QOGk2e+rFl07Jix97EX6CwGoICPqIvAHIjDwbnMluAqIu5Cl+alePQuwx64xj3YUiO27f/Id2TrpUwI67iMWeXZuPCEMoFcUgCwioJCDqI3JXQWbkyCA92wlEdaExx+/MLmmhmXVVljm+ikcybrXvr2wfi+OPWuIvYtFl/p0DIpPt97GW9Y/qI9KFQWakuSAVBFR2IYACgawloLKPQGay9g5BxWMQUNmFYljBaRDIXAIq+whkJnNvAdQsMQISXSiufV8SK13i6vSWLuEQkrKdgEQfkUICmZGigjQQIAhxF0r3nmaB+vj/7AbtCAJaEhD3EZmyYsvMF/gkTEAGPpJ1TUDYhfSwp9micyd2jtH1PZNtzgn7iGztY8uM7KU4AQIZTUDQhXSyp5nQjYzGj8oZgICgj8j7C5mRZ4Mz2U2A34V0s6eZZ///MqvdSTO7mw+1TwEBfh9RKA4yowAHp7KaAL8L6WZPs4Aj1+zK6mZB5XVEgN9HFNyCzCjAwamsJsDvQvrY04wgCM/+XPWvn8nq5kPlU0CA30cUioPMKMDBqawmIOhCutjTjCCu7X+qCHNmWX1b6qrygj4i71kmy0ygNkd2K0N5InGfmXTk5DrwQo+4uen+AlEX0sGeZmOOF950xrE/je4Rw0GDExD1EbnaaCkz315pra+vb70yLVe4puni0Z/c3dZk4r2/Nrr0SUeOifrIy4argM5hMhXwZsh7zYKv0ZaRYkACUV0ovXuaEYGa7eZe6S3VDEgXLmcCgag+Il0pzWTm2yutrVemh53xyAytBNQ4zh/EpT1XTg04cvmKQn91mRVlht1BnXTD3BvTPj+PqDjla3HWGARUdiFjVAZegoAGBFT2Ec1khq5SfDLDYUh41BaHMrTlGDLDFe8q4EsIl8w/iPIQAQ0fT0Ycq+xCGVFXVAIEVkNAZR/Rl8wEaplZK9nZrV4zO2lF/pSNOaRfTKtOZqQlimsDF+2BeNUnxlXc5TgwDAGVXcgw9YGjIJBsAir7iJ5khlwaof8mICpWiJeOdGyhQmYiPsQoUvx8waQjJ9GJvhgl4nSKCajsQin2CsWBgH4IqOwjOpMZeu2dHOv5Kys8qiqjGenYQiwzVPDEK4g0Lv7bN3Ee1hexzEjHT2xu/DQgAZVdyIA1g8sgkBwCKvuIdjIz5KyPfJzDamrFPgKQ63AU8EZ/NZeK84jjocgTYibeQ2LUo2XszBtbOj0rxz1sJpdHGLuwjw+I/cB34xJQ2YWMW0F4DgIJElDZR7STmQT9T/jyXrOJkwpZY+L4RiqjijzSc3RSxpBmHAIqu5BxKgRPQSDJBFT2kcyVGYIQz2sJCdOPG7ChjPAc+01NHkJ6go41gZ+GJaCyCxm2fnAcBBIloLKPZLLMJIoQ12c3AZVdKLshofZZTUBlH4HMZPVdgsorEFDZhRQs4BQIZDYBlX0EMpPZtwFqt3oCKrvQ6gvAlSBgcAIq+whkxuDtDPc1I6CyC2lWPgyDgN4JqOwjkBm9NyT8SxcBlV0oXe6hXBBIOwGVfQQyk/aWggM6JaCyC+nUe7gFAtoTUNlHIDPaNwVKMCYBlV3ImJWD1yCQBAIq+4ieZAZ/gJKEdoeJpBFQ2YWSVh4MgYDRCKjsIxrKzLSbfKsZ+WIzt7oXm0FmjHaTZba/KrtQZkNA7UBAgYDKPqKdzAw56fdmku/QdA4peMqdomTGQb+eMvY+Mdxl0Qe83cmEO49FZ0UKCMgRqMAHBEAgFgG57sNP105muFKGnOplhn2FjIoXi3H2FQ7EG2gqZMUpEAABEAABLQhoLjPT7tZVTJrJbkem7kUA9F5k1FbLCe70rAVz2AQBEACBLCKgrcyQyzPqJsxI5Ly1GVmZUdM0kVeTIZpRwwt5QAAEQGA1BFZWVsbHx2NeqaHMkC+cUa8xApmRlwc10QwnVwqvR4sJBhlAAARAAATkCaysrDidzj179shnYc5oJjPkyn/ko2rejHqBGP1SsZzaQEzX5TOwjwAk4fVo8oXgDAiAAAhkMYGBgYE9e/Zs3rw5JgPNZCZmycgAAiAAAiBgQAIrKysDAwObN2/es2dPS0tLzBpAZmIiQgYQAAEQAAGGADdXtof6lJSUxEQDmYmJCBlAAARAAAQYAuPj4/RcWUtLS0lJydLSUkw0kJmYiJABBEAABEBg9QQgM6tnhytBAARAAARiEoDMxESEDCAAAiAAAqsnAJlZPTtcCQIgAAIgEJMAZCYmImQAARAAARBYPQHIzOrZ4UoQAAEQAIGYBLSTGXKvGfrjHI7pBjKAAAiAAAhkJgHtZIblpf59M+wV+AkCIAACIJAxBFIiM/T7zTKGGSoCAiAAAiCgmoCWMjNMT5u1XvlWtTvICAIgAAIgkFkEtJQZhtT0lVYoTWbdNagNCKSVwP2W119vuZ9WF1B4HAQgM3HAQlYQ0JrA/ZbX10Q+rzdPa12g7u1PN0eIlA7S7krKzGDpmpJrqqojebmqK5FpVQQ0kxne+2bwpNmqmgYXZSMBjICCVic1JqK1g6Vr1lBKkyClBC8XeIgvKghoJjMqykYWEAABEYHoEXCwdM3rr1G/0JcOkuMs8ymhf7HnpawpaWF/8X+tmZ5RisRGTBwwWMJeb4hJpygagyVryIpH6rVmDV0RmgMTzUQCIIYSEUl5vfkGS2kNGf3wTLGZRU2CrwkTgMwkjBAGQCB5BHijHvObOykzUesQXGJkpuhayRpGXe43v0ZNH10roX/3JwiCzhY1aifPb20sRWrH2L/f/BoZ3PAqMljChjtsZkaKyCsYApE8tBnh5VAXbRqPZxUyw4OBQxBINwHeCMi4wo6e5Fe+CHG/xUd+hWeDGE5U2NCF/EnlJxWI+kRmotJdY6Xyo2hEohlWehnh4aSUF7hQFX2t+f508+ssGbowgdlrbIDHLvwoOYRzqyIAmVkVNlwEAtoQEIyAVBERmeENl1w2ybNMIi+aETurcEqcNa3fY6/NRGIXFkUkhXVdIZphsxARueKScJAsApCZZJGEHRBIAgFOPzhb7OhJBjNsLMJFJ8xsGJmZJ0LcJfzoR7gOYYxohqkXHYCtYWYRRVEd93QZV2tBQEPHKFzIQs+wsUs1Jdcii1XcBCNHHgfJIgCZSRZJ2AEBEEgjAXZFKo0uoGgZApAZGTBIBgEQMAgBJmgTLsAYxPescBMykxXNjEqCAAiAQLoIQGbSRR7lggAIgEBWEIDMqGjmSUdOriOgIiObxWU2mV3sF/wEARAAgWwmoLHMUFvOtLoNvTFTwJGb45jk3yQBR67JpCw8cSsT3z6OQQAEQCBzCGgqM9TezG6napmhhm8T9SlIJBhQbUeFGARqc3JqBZEMleIwK8sMQbgKTObezLlRUBMQAAEQWB0BDWVmyFlPbpo5rF5muCpEBxDcqbgOYtmJLTNRFnrNJlICXTFlhohtPK66IDMIgAAIGJKAZjLDqQt3oIJPoDaHDmZMJtE8FXtxr5nNQP6UCxdi25l0cCVRBuWWUkRywn3lDljHJH5ihUYCCpJAAASyjYBGMjN9pbVe8FHznmZy6KeH+6gYIq5mUW8ndsAhkAqeetFiJ6OFjLdqpCiuiiEzCIAACBiPgEYywwOhPprhBn1SJ2RGcDXRjBo7tINcTp6/wkM5wRNICCU/UQ5POnISWmESOoJvIAACIGBMAnqSGYJdus91OAqiRu04+CbLDllk9CMAlCMCmSGXYaJm8AK1OXJzenFUBVlBAARAwOAEtJcZgwMiV/vlQqtI1aLyxI6TIhfjCARAAAQymABkRkXjKmoGvWAjDFwEKzoqCkAW3RGoPX1mIriQ2f90Bx0OZSgByEyGNiyqlRgByExi/HA1CEQIQGYiLHAEAhwByAyHAgcgkCAByEyCAHF5ZhKAzGRmu6JW6SAAmUkHdZSpewKQGd03ERw0DAHIjGGaCo6mkgBkJpW0UVZmE4DMZHb7onarJCAtM4FAV8eZz5rOdNwgH0Lr+Gjtkz/9r3/9TrfMA2nj1qfzmhQfV4tlgXrUzdO07em1T65d/9pnAZmCVvlE3CrRpPKyiZ5W3yMVBXrt75019D7wKupo4CxGlBnqry+VN0iWewRZLp1uQeWzBm5luB43AQmZud298+cb368iZaaiY4gZ8QePb0hAZkgjShYoMdu1vqhvlUKiLEtxQ0n1BeHptvztnzg9V8dmidkx33SYdGB2bHyW/N83NTXi8Vz9enqZIAhWZpYfTfm4xFS7i/LkCGgnM0POyKZmziG58jVKlxYMuZ1jeE4wGzDzUnCYlQSiZaajcP373VHDvUAkhqp2PLtu7donn36jyrMwERy3Pv37nYXPrvvpE+t2dd8KLkx80/Ta+vVP0hkGWVMCC2wiHQMFHvi+CVTt2Fh0KeD7JnArQGnSyyVFr6xf99O1m6rGJ4ILXcXPrlu/9sm1azcV9d4KLjS9s3XbjrVrXikpfPGJNW+Shd5yHd6W8/stzzEZ+MKj/4YNu0vfahx7NBeOCAnhtR/1kl9/u7d1ZHp6pG7vUW+YkZnZnoOlPVOPHk059x++QmmS/quYFR5qKjNxqgu5CZiDfGOYyURttk9Qf4FvdjDbNtPbz7AbyXDbhfGvokIcVwG9ryXzP/eHk6JtY3j7YPK3Z1YhRVlxY2R7JaNkZtz69BufTS1M9DW9n/fR+9ZuH60EPJH40rpxW8MDchzvO7zu1TO3SJnZWETqzYPPXt1oJQ/Yf21vb6ggRYL8x7MQyUCfosra8vP//usdH72f91FVH5X5f+Q13V6YCHa/9vTxfs5gcMj6K3KCrumd9UV9Q9ant1Z8PW5953h/cKjomY86yGwPql5+toKa6+NKMUAbD9p3naEnw9h4hZMZZpZsuvXw2WlGZrz2d2ytLa2tLXWlnzhnDVC9bHFRZzLD7AxGagklDy6zyUS/VUwgEvyYI7KfGE8hJKIZ3llh4wosEwTBNy7MiW/ZQyBaZiqeoYbpwAPfpcMbuCGeJxJN72y0MjFK904yQ2Rtpr9i486OhYnbHuuOrZte2LrpV0+okhlKRXhmJTTJ1/bRlme2bnrh2Sd/SMtMXhNTLiUzt5u2/HDtr18gC/31rzYWXWJ1jrJsgNb0xZKZ5a9rPj47y8nMwR41KzkGqHhmuaipzLCzZiqjGp42sEO/zK4tfCXgXRV5YSUvkW0v4WaXBEHvd0mHPIL3Y0pcy9rAz6whECUzC19a128op5ZkBo9LykxkVu3rui076GiGfgTgQdXLWyu+Xug/9uyWz6hwp0ldNBNbZnp3ri3pIrMNFTHRjFBmgr07f05nEAgMHdAYoDEXPbYP9tsre6aIsOfwjvxPbKUH83fQk2YvvFVaabft3Vsz/IibUpu+WJpvsdkrS/MP9iCa0U/7aiczXB3Jd8+Qr9GM+eGN7+z2xkmVGeZlNrQfXMAUtQczNvCP2VJZkCFaZiaCQ1WvrH/yuTe25Tyx5sWm/uB41SvUk2Y/fOLJtW9U3ViYuN29c/36LW++sYldm6l64YkNr3702osbtxyj9Km7ZN3Pt7726tYtr/x+CzlpFmWB0hVuUos+UIxmAlUvP7Hh1be3PPfGFuqptqZ3RDKz8OWnb6xb//vX8j7a9kIJNXsW0RvDNWN4kVtw4ebQJCoR5nJJnERSGgikQGaGnPWtV75VUbeIzHAbHq9WZshtlfkrLuSO/o5c/ssFuK+k3giimV6z4KsKx5El8whIyUxkgBYpgUG/GrnVpnpavJgfM0oLaiczkSfNVIUywlksdt0+Wi3I1RruQ2aLiBMRmTQjyGP6w5oSRy3sIwA5jlqBrrgSetWNUdodfsYgAJmJAQinQUA1Ae1kRrULXEaeYHBpST3ggiR5q/xVH/lcOJPxBCAzemji3Az66IFnunzIKpkRhD4SxDXXOYkykaRPApAZPbRLbm4uQbgS+Ze4BYJwJWh6xK4AABZ4SURBVG6EsqAHounxQU8ykx4CKBUEJAhAZiSgpDwpSeN7QkIFmUm82SEziTOEhQwkAJnRQ6NCZvTQCon7AJlJnCEsZCAByIweGhUyo4dWSNwHyEziDGEhAwlAZvTQqEKZueg9tXefJf9AlWN6Re08mNACedXcwOG2m2ovp5eFBEbGj5YW5ZuL8submhZUrxtRFvRAND0+QGbSwx2l6pwAZEYPDSQY30cOl58/RxCuBXdxZf9llc8FCCwQrrmhY3W2/BO+BGSGVbhrNXud99Xagczo4XaCDyCgLwLGlZn6+nqVfy6qL+JS3vBFYqZrLyMPd45WUnqjRmn4Fpj8voMJyQwdwaycO2c7fJOVnJieQGakmhdpIJDdBCAzemh/vkhMnzcz8vDtsRNplpmL3pPmOt/FmOrCZYDMJHQ7zSzOJHT9ai4mt4cxJfpaM26zGZ4H+LsZHowsP4TMpOwG+Mmu4wfb3V/enJx5uCAqlC8zxNCh8p5ucuAeOFj+JXWgYmlEYIHOn2A0s3K+r+bjtvE4NIZ9JFpUuSz6mujajNvfNzU3JQOM3DST+qjcolnGzCqSpQWDLy38Y14B2AWAByObDyEzqWn96e8e7ag69x9eLv73vz3ww+2H/ue7x145csbR423u+3p5ZUUgEivnnPZ9J04eLC8+fHMprkWRSGZ6bWaf7dC5IbVCxYoEY2T6vNlcfqjuJPnPNRmxzAUukgeIZmLfTlNzU3L/3P4+t7/v1oNbK39eERpSvTEzdxn/BWXMW8vIPc20ea0ZJTO19AZpkltqcm7hIBsJQGZS0+r35xa8E/dqLl7/pdnxly/sM+UWmnIL/9mz5r/8jYUgCIHMULHI9wtqF//p4T7agqQMKCcmbgQyE/t2orVE+X9v0Ccw9O2V1nhjGMELyrR+rRk180aLmSiCEX0V1ApfsoUAZCbpLX07+J3TO1Z32VfSduXtT51bylp+aXbk7G/4B3tHweeX/t/H9f/yub1/sfmjv/2D9cDpK/dC85Iyo6wH0WcTVwhRNBNdhJoUyEzs20lZYOizYpkZdtY7r8Q3acab6dL+tWa8STNeuSQL0dfYeJAjAwlAZhJp1MWl70cCM+evj1V2DeTVX3yxvHVd/onfHGreVde9r8XV5L7ZOzI1fm92Mfw9XUreyQv/ZkvRf/6D9eMWFy0wdHriIpG4BchMIncCfa2qtRm5GbOpuSlaYyQmzYad9exrZqbdra1u+oXeig7zxveUvNaMnSvjlUv6h9eaKbZSlpzMJJn59NLQj14t/8GmPZtLW/jPOiexKcPLy4O3vz3pumE+1bOVEpU3a77Ib7h4vHvA6R3/5tsH4WXRpHqk8OetTf/uxf3mxh6+wNCnExeJxC1AZiJNtdojVTKjYFz2EQDepNmQM963Z3I79ke/b4byhT+vxRMJ3vtmoi/khS+kjchXNnJia4nXmrEksvmnPmWmv2Ij+7KljdZB6desRf/dzI9eLafXPEy5hcmVGe/EveoLg3+s7vw/BZ++cqS99EzfuYHRsen43o/8+Ptl/+xDyZstcZFI3AJkRrJp4kpMVGYUHmiedjPPmdWrXKSh1maE7yKLVotkvdaMWpuhCxM+G43XmsV1A2VqZn3KDCcSpN6808195R9Ey8wPNu3hZGbEP8dlXnXb9Y8FDra7nyk+9dvDp22dV9237oa/X161NYULExeJxC1AZhQaSOWpRGVGZTGqsvHiElX5487EBUnyV/LjJPlcOJPxBHQqMx15bDRjUi8zm0tbuCe4fmmuO/LFIK008Tbi/FL4pOvG1vLWlz9pc/R4J++H4rUQb/7ERSJxC5CZeFstOn9WyUys5X3NdS6aP1J0SkCXMtO905TXFKTmyjry1MsMF75MBBe6vFOv2jufO9j8ee8t9ejnFpaOnvf83z21HzVd9k7cU39hgjljigQ1T670xyuKFo5E3vhecEThgTEFI4Hatazwr3XI/xkNZSFBGAa+XE8yY2CMcD3TCOhSZhaa3mHHNFMc0QxfZujjz3tvPXew+d3aruGp+zFbrvay76m9dSXt7rszczEzJzeDwvhOTO7OoWCYe1crM5O7zbWnKXU5YjbFFAnpUlwF21z05gK920y5uwMyGxNAZpJ7Y8AaCGQCAX3KTLRgRKdEr81E56FTTl0Z3lhUX9x25f6ceJcXugmvjEy9ZDudV38x3lX9ZN0BSjJDDeiJRTOccpx25K5SZrgYiAxr5EMiyEyybgnYAYHMIZANMkMQxMLS95909v+y0HHi0nV+4638+c+lZ/o2HWy8cOM2Pz3Fx6mRmUDt2hwmrOGER3AQww06rpIPZdjVnRTD01FxsSfNvsAnYQI6anC4oo5AlsgMDeNO8LvCz3ueL206OzBKEIT3zvRvbaf3t/Y+1ub5MXUtQOaKMb4TrsSjGVeBSVljWJEQCA8XxEQOJnfnyCsNohn1jY6cIJAtBLJKZuhGvTrqf73y3N9ZPvtvb1bQepP2xtZYZshHAJSXdmgVkXfjtKOAXY+BzMjfLrGjGflrcQYEMpZAFsoMQRDWjr6/P/D5r/bWFbddCS08Tnvryo/vLu4RAPI5gBhhhEwg0ruN90CFUkyj4IargLMRc3Un7TjT5gBkJm3oUbCeCRhaZujXb0T/L3oWgM//u/nHb3/qLGi4FF5eWfp+ufzc1af3nWz96mt+ntQfK4zvkdkqmYe7YgUiMtojZS1JbqSen15KhMzopSXgh64IGFdmRFqi8JUDfmPy3m+szce6rnEp/7QucmMy+Mfqzn+s7rwxGeSnp/I4SeN7HIoiqV5JciOV5PRVFmRGX+0Bb3RCwLgyo/6BZhr1ucHRtbtr5BZjWr76+ul9Jw+fu7qUjscBkjS+Q2bS3KsgM2luABSvTwJZIjO1l32/PXxa+Q/7QwuPD5y+8kzxqX/a1T/FjQWZSTFwjYqDzGgEFmaNTSAbZKbii/7fH2kPyOyOLGq//rHAK0fOfHjywt0HqdsLADIjagWDfoXMGLTh4La2BDJeZt6vu7TzxPn5x+G4OJ6g3qbc3HczrqtWnRkys2p0uroQMqOr5oAzeiGQwTJz597CjuPn36zuWh3rEf/M65XnPjx5IfotZKszqHAVZEYBjoFOQWYM1FhwNXUE9CkzTe+YdnZIv82Me6JM+RGAG5PfvWw7k3fy8kRQeh8zlYiPdw/8uqi+26ftVjSQGZXNofNsaZWZ6x0/OybYSSk2rHs9Oz/omYmdb9U5Am0fNLSlbqfzVfuJC7UlkJEy4751b1NJ88ctfbQmJUjw6qj/+dImW2d/gnYULs/NoI9CNTP+lNYyc71sU83PuH8ihWBlxnesZufZAEEQvmM1ZdG6w5cW/jHdOPd6dm7q8CWtoSAzSUNpaEOZJDOfXhr60avl/3zTnr/9g9V2boCLexJvoPnH4d0NF3eeOJ+CCbTEvYWFdBFIgczIawArM1zlVyMz3MXJOYDMJIej0a3oVma4vU3kZs+iJ81+9Go595JmTmMSnDTjt2/1xcFnS04NjH/LT8QxCHAE0iEz1zsi8Q01aTZztoGMZiLp/GmrQNsHbDx07DpBRjMNO+nwiImNrpfR0QwZ1jA5o0KiSFBFnYrYpKMogoik/GwTU/rM2QbGz3hn9ji6ODAsAd3KDKMug8c3cG/SpN+nyf4fLTM/2LRHU5khCMLpHf/f+Se+GBwzbIPDcQ0JpEBmWJHYVPMzUhiul7HjOKkrfJlROWnGTJGRwkBpBiMz0pEQiY7LyXAk9YNRDiZ2iU7hfJOdytOwUWA6/QT0LjNB3gubWYGhI5Vomdlc2kLLzA827dEimqFbyztx7+8PfN7QO5T+xoMHOiOQApkRTprxF1dWJzPsAg+rK2w0QwoYLWnCEsl0QQp7IdkU9DEvhSc8bGz0s03M0pHO2g7uaEhA7zIzeHzD08f7hQIjJzN8aeEfJx3f5P3Q1vLWExej11eTXhQMGolAymWGP+gnWWYY7swUXKQVVEUzvNkzatKM9S1iBkfZREC3MsOuzWy0Dko/2RwdzfClhX+sRXvef7iwraK9+sKgFsZh06AEUiAzokkzIrLmsalGNGnGLs/w12aYWS9ymYRZm2EeaGZDkMikGbvkI4hdyIYRL9tEVmJYdeEioRqJtZlNUs+/GbTB4bY6AvqUGb5IyB2nV2YIgnjwaPHlT9ocPV51pJEr8wloLTOZTxA1zEgCkJlEmnU6NP/CoebmvjS/riaRKuDaJBLQVmbWPn+CjTB4MQ1vzcMoZ9c+fyKJ0GFK/wQgMwm20dj07MZ9Jy/cuJOgHVyeAQS0lZkMAIQqZCcByEzi7d4/FvhF4adDU2l7K1riVYCFpBCAzCQFI4xkGgHITFJatOPaNy8cav5u/nFSrMGIQQlAZgzacHBbWwKGlpl6mY/oqQFtCbLWj5737KrrZr/hZzYSgMxkY6ujzjEJGFdmRFqi8DUmhGRl2FXXfcx5LVnWYMdwBCAzhmsyOJwKApCZJFL+bv7xMyWnLg3hcYAkQjWSKciMkVoLvqaMAGQmuajdt+7m7G+4P5fQS26S6xKspYwAZCZlqFGQkQhAZpLeWpVdAx+evJB0szCofwKQGf23ETwEgQwh8Mbxc43u4QypDKqhmgBkRjUqZAQBEEiMwDffPnjy/aqJ+6HEzOBqgxGAzBisweAuCBiaQN1l37uOLrVVmOhp9T1Skdlrf+/stIp8yJIWApCZtGBHoSCQvQT+WNXZ1HdTRf3D02352z9xeq6OzRKzY77pMHnN7Nj4LPm/b2pqxOO5+vX0MkEQrMwsP5rycYkqSkCWlBCAzKQEMwoBARBgCYz4Z35Z6Lj74CGbIPsz7C59q3Hs0Vw4IiSE137US3797d7Wkenpkbq9R71hRmZmew6W9kw9ejTl3H/4CqVJspZxIpUEIDOppI2yQAAESAInLnnf/0zF1gCD9l1n6MkwNl7hZIaZJZtuPXx2mpEZr/0dW2tLa2tLXeknzlmQ1g0ByIxumgKOgEA2EXit8mzr1ZEYNfbFkpnlr2s+PjvLyczBHjUrOTEKxelkE4DMJJso7IEACKggMDQV3LC3bvo7RV1Y9Ng+2G+v7Jkiwp7DO/I/sZUezN9BT5q98FZppd22d2/N8CNuSm36Ymm+xWavLM0/2INoRkUjpCgLZCZFoFEMCICAiEDVhcHd9RdFiQpfw4vcggs3hyaRPczlkjiJpDQQgMykATqKBAEQoAm8ZDvdOTgaP42pnhavYhwUv0lcoRkByIxmaGEYBEAgFoH+scAzJafC35NPJeOTqQQgM5nasqgXCBiDwIHTVw6fuyrpay4+PAKSiAyRCJkxRDPBSRDIWAKh+cd/t++k5Lucc3NzCcKVyL/ELRCEK3EjSbJg1HsAMmPUloPfIJAxBFq++vofq7+Irk6SRueEhAoyE90u8aZAZuIlhvwgAALJJ/DHqk76z2iCc/P3QvN0AZAZLpKjUCQfe2osQmZSwxmlgAAIKBHwTd7buO/k3MKS9Uzfj3cepbNCZiAzSjcNzoEACIBAXATKz35V3HbFdu7qX798YOXPfyYIQigzF72n9u6z5B+ockyvqJ0HE1ogr5obONx2U+3l9CgvMDJ+tLQo31yUX97UtKB63UhgYa6+7pB53978feVHv1lS6wllIS6cOsqMaEZHjQFXQCA7CdT2+HbWnB/xz+QWf761vPU/vlx8YzIolpmRw+XnzxGEa8FdXNl/mfs1X/lAML4TrrmhY3W2/BM+tYO7hMywCnetZq/zvlo7AjdWLn9PGZk+b1bvCWQmO7sGag0CIJAcAo3um//lH6x/87uSnxd8+p+2HfxXz1tOXSFfsskfnWe69jKD8p2jlZTeKAuMhELQwYfvoPrBXdbIyrlztsM3WcmJ6Qm/IlTm7m/OHzpSUxNnWJYc2qm3gmgm9cxRIgiAgJiA/8HDnP0Nf7H5o3/x3F5TbuHOE+dFMhP53f/bYyfSLDMXvSfNdb6LMdWFyxAlM5cX5s5/0/Lx5yNxxUNiaEb5DpkxSkvBTxDIfALvOJx/tfVjU27hT3YdF8kMMXSovKebHLgHDpZ/SR2oWBqJGt9dRILRzMr5vpqP28bj0BjZR6IHDpZ2neekSPmAqohRbwDIjFFbDn6DQEYSOHre81dbP/63W4q+m38sEImVc077vhMnD5YXH74Z38p5JGKg12b22Q6dG1IrVCKRmD5vNpcfqjtJ/nNNRiyrEAk2881PDtgO1p0sPmA55F1gE2NJJmQmI+92VAoEQCA9BM57x//185b9p3sFMkMNxN8vqF38p8f9aAvKeiB5NnEjURYuLzxaRUXS0xyJl4poJnGGsAACIJBkAr6Je+JJs1i/72ukEKJoRrKUmIlRMqM2iOEsUxaSDDll5iAzKUONgkAABOIjkKTROe4xnRvc6QM9uAGZie/WQW4QAAEQUENAD+M7ohk1LaWcB9GMMh+cBQEQSBsByAwXVyGaSdtdiIJBAAQymABkBjKTwbc3qgYCIJB+ApAZyEz670J4AAIgkMEEYsqMq8Bk7lVa4Ve0cMRsYj8FR7gBPfpAwUigdi1rYq1D/s9oFCwwxU3uzjEp1YWyYNSmxtqMUVsOfoNAxhNQGp2pcdmkODTHWL2f3G2uPU2N8kfMplWKhKtgm4t+0rp3myl3d0DmqWulipCXkA7k5EJmMv6ORgUziEBPT09lZWUF+6msrOzp6cmg+mVLVWKNzq7EohkuDDrtyF2lzHChDxnWyIdEihU57aAERrkulAWjtjuiGaO2HPyWI9DT09PV1TU3NxdmP3Nzc11dXVAaOWK6TVccnUmRUB6aY0QzbOQRqF2bw4Q1nPAIDmK4QcdV8qGMohukxtClK9fF2DIzig8IZBaBY8eO8TWG1pq5ubnKykrdjqdwTJJAjPE9GTLjKmBGeS4uiT6I6QZ5yeTuHHmlkbXATv2xCzyy82bGlpklfEAgswhUVFSwYYzgZ0VFheRYhkTdEpAdndlARDkCUAwj6BUR2WGdLzbybpx2FLDrMauTGbYiMSMzyExmjVKojcEJQGZ0KxvxOiY/vlPRAxcCrCKMIFxE7zbOgMmkFNMouOEq4GwkurqjLJmQGYMPS3A/swhAZuIdzXWbX2F850cbCseJW4gVEglWceQ8SdwNyExmjVKojcEJQGZ0KxvxOpak0VmVEsgpBGQm3laLzm8y+JAC90FATKCiomJR6oO1mej+r/MUyAwnfohmxP0c30EgjQQgMzoXD/XuQWYgM2kcSVA0CMgSgMyoH8d1nhMykyEyk1l/MoHagMBoRUXFY6kPJs10LirR7kFmMkRmopsWKSBgaAKQGUM3H995yAxkhn8/4BgE9EKgsrIyFAqJ5tRCoRB2AdBLC6n2AzIDmVF9syAjCKSQQE9Pj9Pp5O83Mzc353Q6sadZChshOUXl4sMjkBym6bCCrTPTQR1lakwAOzRrDBjmQSAOApCZOGAhKwiAAAiAQLwEIDPxEkN+EAABEACBOAiY3lL9aWxslDTc2Nio2kbSMso54/f7B1L+8fv90WTS4omo6pKORbuKFBAAARDQjoBpVvXnrbfekvTjrbfeUm0jaRnlnBkYGHiQ8s/AwEA0mbR4Iqq6pGPRriIFBEAABLQjAJkRjcyr+So5mkNmtLtrYRkEQMBABCAzq9EV0TWQGQPd8XAVBEAgxQT+P1Zgh6Gwdwb1AAAAAElFTkSuQmCC)"
      ],
      "metadata": {
        "id": "dYw61iC_DxhT"
      }
    },
    {
      "cell_type": "markdown",
      "source": [
        "### Why use tuple?\n",
        "For Read-only application we prefer tuple, such as college website. -> to display result and don't edit."
      ],
      "metadata": {
        "id": "Box_Zu-fENKu"
      }
    },
    {
      "cell_type": "markdown",
      "source": [
        "### Special Syntax - Tuple unpacking"
      ],
      "metadata": {
        "id": "TbdVfgLcFqyf"
      }
    },
    {
      "cell_type": "code",
      "source": [
        "a,b,c = (1,2,3)\n",
        "print(a,b,c)"
      ],
      "metadata": {
        "colab": {
          "base_uri": "https://localhost:8080/"
        },
        "id": "hw_HbCcwD5zz",
        "outputId": "eba092a1-69c9-4471-e1e0-99529d281f65"
      },
      "execution_count": 10,
      "outputs": [
        {
          "output_type": "stream",
          "name": "stdout",
          "text": [
            "1 2 3\n"
          ]
        }
      ]
    },
    {
      "cell_type": "code",
      "source": [
        "a,b = (1,2,3)\n",
        "print(a,b)"
      ],
      "metadata": {
        "colab": {
          "base_uri": "https://localhost:8080/",
          "height": 159
        },
        "id": "nZ2wci9qFwfP",
        "outputId": "49145daa-5050-4ce1-83f6-23b8e488a800"
      },
      "execution_count": 11,
      "outputs": [
        {
          "output_type": "error",
          "ename": "ValueError",
          "evalue": "too many values to unpack (expected 2)",
          "traceback": [
            "\u001b[0;31m---------------------------------------------------------------------------\u001b[0m",
            "\u001b[0;31mValueError\u001b[0m                                Traceback (most recent call last)",
            "\u001b[0;32m<ipython-input-11-22f327f11d4b>\u001b[0m in \u001b[0;36m<cell line: 1>\u001b[0;34m()\u001b[0m\n\u001b[0;32m----> 1\u001b[0;31m \u001b[0ma\u001b[0m\u001b[0;34m,\u001b[0m\u001b[0mb\u001b[0m \u001b[0;34m=\u001b[0m \u001b[0;34m(\u001b[0m\u001b[0;36m1\u001b[0m\u001b[0;34m,\u001b[0m\u001b[0;36m2\u001b[0m\u001b[0;34m,\u001b[0m\u001b[0;36m3\u001b[0m\u001b[0;34m)\u001b[0m\u001b[0;34m\u001b[0m\u001b[0;34m\u001b[0m\u001b[0m\n\u001b[0m\u001b[1;32m      2\u001b[0m \u001b[0mprint\u001b[0m\u001b[0;34m(\u001b[0m\u001b[0ma\u001b[0m\u001b[0;34m,\u001b[0m\u001b[0mb\u001b[0m\u001b[0;34m)\u001b[0m\u001b[0;34m\u001b[0m\u001b[0;34m\u001b[0m\u001b[0m\n",
            "\u001b[0;31mValueError\u001b[0m: too many values to unpack (expected 2)"
          ]
        }
      ]
    },
    {
      "cell_type": "code",
      "source": [
        "a,b,c = (1,2)\n",
        "print(a,b,c)"
      ],
      "metadata": {
        "colab": {
          "base_uri": "https://localhost:8080/",
          "height": 159
        },
        "id": "WmATPehKGdG7",
        "outputId": "1d27e7c0-5ba0-4a6e-e255-ff080732e1a5"
      },
      "execution_count": 14,
      "outputs": [
        {
          "output_type": "error",
          "ename": "ValueError",
          "evalue": "not enough values to unpack (expected 3, got 2)",
          "traceback": [
            "\u001b[0;31m---------------------------------------------------------------------------\u001b[0m",
            "\u001b[0;31mValueError\u001b[0m                                Traceback (most recent call last)",
            "\u001b[0;32m<ipython-input-14-18cd8a7e9c41>\u001b[0m in \u001b[0;36m<cell line: 1>\u001b[0;34m()\u001b[0m\n\u001b[0;32m----> 1\u001b[0;31m \u001b[0ma\u001b[0m\u001b[0;34m,\u001b[0m\u001b[0mb\u001b[0m\u001b[0;34m,\u001b[0m\u001b[0mc\u001b[0m \u001b[0;34m=\u001b[0m \u001b[0;34m(\u001b[0m\u001b[0;36m1\u001b[0m\u001b[0;34m,\u001b[0m\u001b[0;36m2\u001b[0m\u001b[0;34m)\u001b[0m\u001b[0;34m\u001b[0m\u001b[0;34m\u001b[0m\u001b[0m\n\u001b[0m\u001b[1;32m      2\u001b[0m \u001b[0mprint\u001b[0m\u001b[0;34m(\u001b[0m\u001b[0ma\u001b[0m\u001b[0;34m,\u001b[0m\u001b[0mb\u001b[0m\u001b[0;34m,\u001b[0m\u001b[0mc\u001b[0m\u001b[0;34m)\u001b[0m\u001b[0;34m\u001b[0m\u001b[0;34m\u001b[0m\u001b[0m\n",
            "\u001b[0;31mValueError\u001b[0m: not enough values to unpack (expected 3, got 2)"
          ]
        }
      ]
    },
    {
      "cell_type": "code",
      "source": [
        "a = 1\n",
        "b = 2\n",
        "a,b = b,a\n",
        "print(a,b)"
      ],
      "metadata": {
        "colab": {
          "base_uri": "https://localhost:8080/"
        },
        "id": "KoPBQxGxFz0D",
        "outputId": "c98d0ef2-d731-4b4c-d0eb-9e40698ba82a"
      },
      "execution_count": 12,
      "outputs": [
        {
          "output_type": "stream",
          "name": "stdout",
          "text": [
            "2 1\n"
          ]
        }
      ]
    },
    {
      "cell_type": "code",
      "source": [
        "a,b,*others = (1,2,3,4,5)\n",
        "print(a,b)\n",
        "print(others)"
      ],
      "metadata": {
        "colab": {
          "base_uri": "https://localhost:8080/"
        },
        "id": "nxovETbTF3L5",
        "outputId": "a5ad080d-6a83-4552-d730-14e1fb6e83cd"
      },
      "execution_count": 15,
      "outputs": [
        {
          "output_type": "stream",
          "name": "stdout",
          "text": [
            "1 2\n",
            "[3, 4, 5]\n"
          ]
        }
      ]
    },
    {
      "cell_type": "markdown",
      "source": [
        "### Zipping Tuples"
      ],
      "metadata": {
        "id": "dcE80I84IExU"
      }
    },
    {
      "cell_type": "code",
      "source": [
        "# zipping tuples\n",
        "a = (1,2,3,4)\n",
        "b = (5,6,7,8)\n",
        "\n",
        "print(zip(a,b))\n",
        "print(tuple(zip(a,b)))"
      ],
      "metadata": {
        "colab": {
          "base_uri": "https://localhost:8080/"
        },
        "id": "nk__yHUzF7_f",
        "outputId": "53f7c91b-caf5-4e8d-93a2-000f4e1a050f"
      },
      "execution_count": 16,
      "outputs": [
        {
          "output_type": "stream",
          "name": "stdout",
          "text": [
            "<zip object at 0x7ff8e4f53680>\n",
            "((1, 5), (2, 6), (3, 7), (4, 8))\n"
          ]
        }
      ]
    },
    {
      "cell_type": "markdown",
      "source": [
        "# Sets\n",
        "\n",
        "A set is an unordered collection of items. Every set element is unique (no duplicates) and must be immutable (cannot be changed).\n",
        "\n",
        "However, a set itself is mutable. We can add or remove items from it.\n",
        "\n",
        "Sets can also be used to perform mathematical set operations like union, intersection, symmetric difference, etc.\n",
        "\n",
        "Characterstics:\n",
        "- Unordered\n",
        "- Mutable\n",
        "- No Duplicates\n",
        "- Can't contain mutable data types"
      ],
      "metadata": {
        "id": "PgO7UwQcLNUm"
      }
    },
    {
      "cell_type": "markdown",
      "source": [
        "### Creating Sets"
      ],
      "metadata": {
        "id": "SWPX1s40MISK"
      }
    },
    {
      "cell_type": "code",
      "source": [
        "# empty\n",
        "s1 = {}     # this will create dictionary\n",
        "print(s1)\n",
        "print(type(s1))\n",
        "\n",
        "s2 = set()\n",
        "print(s2)\n",
        "print(type(s2))\n",
        "\n",
        "# 1D and 2D\n",
        "s3 = {1,2,3}\n",
        "print(s3)\n",
        "\n",
        "# s4 = {1,2,3,{4,5,6}}  # 2D set is not possible, mutable object not possible in set\n",
        "# print(s4)\n",
        "\n",
        "# homo and hetro\n",
        "s5 = {1,2,3,5,6}\n",
        "print(s5)\n",
        "s6 = {1,'hello',True,(3,5)}   # Python consider True as 1\n",
        "print(s6)\n",
        "\n",
        "# using type conversion\n",
        "s7 = set([1,2,3,4,5,6])\n",
        "print(s7)\n",
        "\n",
        "# duplicates not allowed\n",
        "s8 = {1,1,2,2,3,3}\n",
        "print(s8)\n",
        "\n",
        "# set can't have mutable items\n",
        "s9 = {1,2,[3,4]}\n",
        "print(s9)"
      ],
      "metadata": {
        "colab": {
          "base_uri": "https://localhost:8080/",
          "height": 349
        },
        "id": "mr9YSpCSMKxr",
        "outputId": "782651aa-15d4-446d-9ab6-f20f837c7639"
      },
      "execution_count": 20,
      "outputs": [
        {
          "output_type": "stream",
          "name": "stdout",
          "text": [
            "{}\n",
            "<class 'dict'>\n",
            "set()\n",
            "<class 'set'>\n",
            "{1, 2, 3}\n",
            "{1, 2, 3, 5, 6}\n",
            "{'hello', 1, (3, 5)}\n",
            "{1, 2, 3, 4, 5, 6}\n",
            "{1, 2, 3}\n"
          ]
        },
        {
          "output_type": "error",
          "ename": "TypeError",
          "evalue": "unhashable type: 'list'",
          "traceback": [
            "\u001b[0;31m---------------------------------------------------------------------------\u001b[0m",
            "\u001b[0;31mTypeError\u001b[0m                                 Traceback (most recent call last)",
            "\u001b[0;32m<ipython-input-20-6299eeb9b84f>\u001b[0m in \u001b[0;36m<cell line: 32>\u001b[0;34m()\u001b[0m\n\u001b[1;32m     30\u001b[0m \u001b[0;34m\u001b[0m\u001b[0m\n\u001b[1;32m     31\u001b[0m \u001b[0;31m# set can't have mutable items\u001b[0m\u001b[0;34m\u001b[0m\u001b[0;34m\u001b[0m\u001b[0m\n\u001b[0;32m---> 32\u001b[0;31m \u001b[0ms9\u001b[0m \u001b[0;34m=\u001b[0m \u001b[0;34m{\u001b[0m\u001b[0;36m1\u001b[0m\u001b[0;34m,\u001b[0m\u001b[0;36m2\u001b[0m\u001b[0;34m,\u001b[0m\u001b[0;34m[\u001b[0m\u001b[0;36m3\u001b[0m\u001b[0;34m,\u001b[0m\u001b[0;36m4\u001b[0m\u001b[0;34m]\u001b[0m\u001b[0;34m}\u001b[0m\u001b[0;34m\u001b[0m\u001b[0;34m\u001b[0m\u001b[0m\n\u001b[0m\u001b[1;32m     33\u001b[0m \u001b[0mprint\u001b[0m\u001b[0;34m(\u001b[0m\u001b[0ms9\u001b[0m\u001b[0;34m)\u001b[0m\u001b[0;34m\u001b[0m\u001b[0;34m\u001b[0m\u001b[0m\n",
            "\u001b[0;31mTypeError\u001b[0m: unhashable type: 'list'"
          ]
        }
      ]
    },
    {
      "cell_type": "code",
      "source": [
        "s4 = {1,2,3,{4,5,6}}  # mutable object not possible in set\n",
        "print(s4)"
      ],
      "metadata": {
        "colab": {
          "base_uri": "https://localhost:8080/",
          "height": 159
        },
        "id": "v9WY6zjgM8QO",
        "outputId": "e1f6cb33-4e05-4aec-bbfa-331b3925e09b"
      },
      "execution_count": 18,
      "outputs": [
        {
          "output_type": "error",
          "ename": "TypeError",
          "evalue": "unhashable type: 'set'",
          "traceback": [
            "\u001b[0;31m---------------------------------------------------------------------------\u001b[0m",
            "\u001b[0;31mTypeError\u001b[0m                                 Traceback (most recent call last)",
            "\u001b[0;32m<ipython-input-18-f3edb2478271>\u001b[0m in \u001b[0;36m<cell line: 1>\u001b[0;34m()\u001b[0m\n\u001b[0;32m----> 1\u001b[0;31m \u001b[0ms4\u001b[0m \u001b[0;34m=\u001b[0m \u001b[0;34m{\u001b[0m\u001b[0;36m1\u001b[0m\u001b[0;34m,\u001b[0m\u001b[0;36m2\u001b[0m\u001b[0;34m,\u001b[0m\u001b[0;36m3\u001b[0m\u001b[0;34m,\u001b[0m\u001b[0;34m{\u001b[0m\u001b[0;36m4\u001b[0m\u001b[0;34m,\u001b[0m\u001b[0;36m5\u001b[0m\u001b[0;34m,\u001b[0m\u001b[0;36m6\u001b[0m\u001b[0;34m}\u001b[0m\u001b[0;34m}\u001b[0m  \u001b[0;31m# mutable object not possible in set\u001b[0m\u001b[0;34m\u001b[0m\u001b[0;34m\u001b[0m\u001b[0m\n\u001b[0m\u001b[1;32m      2\u001b[0m \u001b[0mprint\u001b[0m\u001b[0;34m(\u001b[0m\u001b[0ms4\u001b[0m\u001b[0;34m)\u001b[0m\u001b[0;34m\u001b[0m\u001b[0;34m\u001b[0m\u001b[0m\n",
            "\u001b[0;31mTypeError\u001b[0m: unhashable type: 'set'"
          ]
        }
      ]
    },
    {
      "cell_type": "code",
      "source": [
        "# sets are unordered\n",
        "s1 = {1,2,3}\n",
        "s2 = {3,2,1}\n",
        "\n",
        "print(s1==s2)"
      ],
      "metadata": {
        "colab": {
          "base_uri": "https://localhost:8080/"
        },
        "id": "G-PYQ_ifNFAZ",
        "outputId": "1a9b34b2-bf07-458b-cdd0-e460bcda6285"
      },
      "execution_count": 19,
      "outputs": [
        {
          "output_type": "stream",
          "name": "stdout",
          "text": [
            "True\n"
          ]
        }
      ]
    },
    {
      "cell_type": "markdown",
      "source": [
        "### Accessing Items"
      ],
      "metadata": {
        "id": "AxoF8Zw2O6e6"
      }
    },
    {
      "cell_type": "markdown",
      "source": [
        "Accessing items from sets is **NOT** possible.\n",
        "\n",
        "Indexing and slicing is not allowed in sets -> due to its unordered nature."
      ],
      "metadata": {
        "id": "_TbT0BarNP3e"
      }
    },
    {
      "cell_type": "code",
      "source": [
        "s = {1,2,3,4,5}\n",
        "print(s[0])"
      ],
      "metadata": {
        "colab": {
          "base_uri": "https://localhost:8080/",
          "height": 159
        },
        "id": "MDe9wbWVOk3c",
        "outputId": "f71e8a51-874d-40ee-df60-ffb608c6b186"
      },
      "execution_count": 21,
      "outputs": [
        {
          "output_type": "error",
          "ename": "TypeError",
          "evalue": "'set' object is not subscriptable",
          "traceback": [
            "\u001b[0;31m---------------------------------------------------------------------------\u001b[0m",
            "\u001b[0;31mTypeError\u001b[0m                                 Traceback (most recent call last)",
            "\u001b[0;32m<ipython-input-21-6cf9e43976c1>\u001b[0m in \u001b[0;36m<cell line: 2>\u001b[0;34m()\u001b[0m\n\u001b[1;32m      1\u001b[0m \u001b[0ms\u001b[0m \u001b[0;34m=\u001b[0m \u001b[0;34m{\u001b[0m\u001b[0;36m1\u001b[0m\u001b[0;34m,\u001b[0m\u001b[0;36m2\u001b[0m\u001b[0;34m,\u001b[0m\u001b[0;36m3\u001b[0m\u001b[0;34m,\u001b[0m\u001b[0;36m4\u001b[0m\u001b[0;34m,\u001b[0m\u001b[0;36m5\u001b[0m\u001b[0;34m}\u001b[0m\u001b[0;34m\u001b[0m\u001b[0;34m\u001b[0m\u001b[0m\n\u001b[0;32m----> 2\u001b[0;31m \u001b[0mprint\u001b[0m\u001b[0;34m(\u001b[0m\u001b[0ms\u001b[0m\u001b[0;34m[\u001b[0m\u001b[0;36m0\u001b[0m\u001b[0;34m]\u001b[0m\u001b[0;34m)\u001b[0m\u001b[0;34m\u001b[0m\u001b[0;34m\u001b[0m\u001b[0m\n\u001b[0m",
            "\u001b[0;31mTypeError\u001b[0m: 'set' object is not subscriptable"
          ]
        }
      ]
    },
    {
      "cell_type": "code",
      "source": [
        "s = {1,2,3,4,5}\n",
        "print(s[0:3])"
      ],
      "metadata": {
        "colab": {
          "base_uri": "https://localhost:8080/",
          "height": 159
        },
        "id": "EHliz0y1Paqu",
        "outputId": "b418413b-aea5-4cef-943f-630164ea1314"
      },
      "execution_count": 22,
      "outputs": [
        {
          "output_type": "error",
          "ename": "TypeError",
          "evalue": "'set' object is not subscriptable",
          "traceback": [
            "\u001b[0;31m---------------------------------------------------------------------------\u001b[0m",
            "\u001b[0;31mTypeError\u001b[0m                                 Traceback (most recent call last)",
            "\u001b[0;32m<ipython-input-22-11e087005c27>\u001b[0m in \u001b[0;36m<cell line: 2>\u001b[0;34m()\u001b[0m\n\u001b[1;32m      1\u001b[0m \u001b[0ms\u001b[0m \u001b[0;34m=\u001b[0m \u001b[0;34m{\u001b[0m\u001b[0;36m1\u001b[0m\u001b[0;34m,\u001b[0m\u001b[0;36m2\u001b[0m\u001b[0;34m,\u001b[0m\u001b[0;36m3\u001b[0m\u001b[0;34m,\u001b[0m\u001b[0;36m4\u001b[0m\u001b[0;34m,\u001b[0m\u001b[0;36m5\u001b[0m\u001b[0;34m}\u001b[0m\u001b[0;34m\u001b[0m\u001b[0;34m\u001b[0m\u001b[0m\n\u001b[0;32m----> 2\u001b[0;31m \u001b[0mprint\u001b[0m\u001b[0;34m(\u001b[0m\u001b[0ms\u001b[0m\u001b[0;34m[\u001b[0m\u001b[0;36m0\u001b[0m\u001b[0;34m:\u001b[0m\u001b[0;36m3\u001b[0m\u001b[0;34m]\u001b[0m\u001b[0;34m)\u001b[0m\u001b[0;34m\u001b[0m\u001b[0;34m\u001b[0m\u001b[0m\n\u001b[0m",
            "\u001b[0;31mTypeError\u001b[0m: 'set' object is not subscriptable"
          ]
        }
      ]
    },
    {
      "cell_type": "markdown",
      "source": [
        "### Editing Items"
      ],
      "metadata": {
        "id": "cyW31AWYP9n8"
      }
    },
    {
      "cell_type": "markdown",
      "source": [
        "Edtitng items from sets is **NOT** possible -> due to its unordered nature."
      ],
      "metadata": {
        "id": "QDcMhy0YQd6l"
      }
    },
    {
      "cell_type": "code",
      "source": [
        "s = {1,2,3,4,5}\n",
        "s[0] = 100"
      ],
      "metadata": {
        "colab": {
          "base_uri": "https://localhost:8080/",
          "height": 159
        },
        "id": "nQxnckpQPb4k",
        "outputId": "5c30065f-c1ba-4f59-b2bc-7486cc76a008"
      },
      "execution_count": 23,
      "outputs": [
        {
          "output_type": "error",
          "ename": "TypeError",
          "evalue": "'set' object does not support item assignment",
          "traceback": [
            "\u001b[0;31m---------------------------------------------------------------------------\u001b[0m",
            "\u001b[0;31mTypeError\u001b[0m                                 Traceback (most recent call last)",
            "\u001b[0;32m<ipython-input-23-44339fc908e2>\u001b[0m in \u001b[0;36m<cell line: 2>\u001b[0;34m()\u001b[0m\n\u001b[1;32m      1\u001b[0m \u001b[0ms\u001b[0m \u001b[0;34m=\u001b[0m \u001b[0;34m{\u001b[0m\u001b[0;36m1\u001b[0m\u001b[0;34m,\u001b[0m\u001b[0;36m2\u001b[0m\u001b[0;34m,\u001b[0m\u001b[0;36m3\u001b[0m\u001b[0;34m,\u001b[0m\u001b[0;36m4\u001b[0m\u001b[0;34m,\u001b[0m\u001b[0;36m5\u001b[0m\u001b[0;34m}\u001b[0m\u001b[0;34m\u001b[0m\u001b[0;34m\u001b[0m\u001b[0m\n\u001b[0;32m----> 2\u001b[0;31m \u001b[0ms\u001b[0m\u001b[0;34m[\u001b[0m\u001b[0;36m0\u001b[0m\u001b[0;34m]\u001b[0m \u001b[0;34m=\u001b[0m \u001b[0;36m100\u001b[0m\u001b[0;34m\u001b[0m\u001b[0;34m\u001b[0m\u001b[0m\n\u001b[0m",
            "\u001b[0;31mTypeError\u001b[0m: 'set' object does not support item assignment"
          ]
        }
      ]
    },
    {
      "cell_type": "code",
      "source": [
        "# hashing controls indexing in sets"
      ],
      "metadata": {
        "id": "zp5aISaZQRn7"
      },
      "execution_count": null,
      "outputs": []
    },
    {
      "cell_type": "markdown",
      "source": [
        "### Adding Items\n",
        "*   add\n",
        "*   update"
      ],
      "metadata": {
        "id": "dyHuwJ2_RmRi"
      }
    },
    {
      "cell_type": "code",
      "source": [
        "# add and update\n",
        "s = {1,2,3,4}\n",
        "\n",
        "# add\n",
        "s.add(5)    # to add single item\n",
        "print(s)\n",
        "\n",
        "# update\n",
        "s.update([6,5,3,7,8])   # to add multiple items -> send them in List format\n",
        "print(s)"
      ],
      "metadata": {
        "colab": {
          "base_uri": "https://localhost:8080/"
        },
        "id": "FLch7FyzRi9a",
        "outputId": "5aa448a2-ac39-4a30-f547-d2ef69fe7fcf"
      },
      "execution_count": 24,
      "outputs": [
        {
          "output_type": "stream",
          "name": "stdout",
          "text": [
            "{1, 2, 3, 4, 5}\n",
            "{1, 2, 3, 4, 5, 6, 7, 8}\n"
          ]
        }
      ]
    },
    {
      "cell_type": "markdown",
      "source": [
        "### Deleting Items"
      ],
      "metadata": {
        "id": "B4CCNSIOSWIN"
      }
    },
    {
      "cell_type": "markdown",
      "source": [
        "*   del\n",
        "*   discard\n",
        "*   remove\n",
        "*   pop\n",
        "*   clear"
      ],
      "metadata": {
        "id": "YS64Wf7WTgSm"
      }
    },
    {
      "cell_type": "code",
      "source": [
        "# del - deletion of entire set is possible. Of a particular item or slice is not.\n",
        "s = {1,2,3,4,5}\n",
        "print(s)\n",
        "del s\n",
        "print(s)"
      ],
      "metadata": {
        "colab": {
          "base_uri": "https://localhost:8080/",
          "height": 193
        },
        "id": "QiZ6ffOYTt6N",
        "outputId": "f1067fc9-ee4e-4388-9cf6-d82f9e9e0912"
      },
      "execution_count": 25,
      "outputs": [
        {
          "output_type": "stream",
          "name": "stdout",
          "text": [
            "{1, 2, 3, 4, 5}\n"
          ]
        },
        {
          "output_type": "error",
          "ename": "NameError",
          "evalue": "name 's' is not defined",
          "traceback": [
            "\u001b[0;31m---------------------------------------------------------------------------\u001b[0m",
            "\u001b[0;31mNameError\u001b[0m                                 Traceback (most recent call last)",
            "\u001b[0;32m<ipython-input-25-065167881093>\u001b[0m in \u001b[0;36m<cell line: 5>\u001b[0;34m()\u001b[0m\n\u001b[1;32m      3\u001b[0m \u001b[0mprint\u001b[0m\u001b[0;34m(\u001b[0m\u001b[0ms\u001b[0m\u001b[0;34m)\u001b[0m\u001b[0;34m\u001b[0m\u001b[0;34m\u001b[0m\u001b[0m\n\u001b[1;32m      4\u001b[0m \u001b[0;32mdel\u001b[0m \u001b[0ms\u001b[0m\u001b[0;34m\u001b[0m\u001b[0;34m\u001b[0m\u001b[0m\n\u001b[0;32m----> 5\u001b[0;31m \u001b[0mprint\u001b[0m\u001b[0;34m(\u001b[0m\u001b[0ms\u001b[0m\u001b[0;34m)\u001b[0m\u001b[0;34m\u001b[0m\u001b[0;34m\u001b[0m\u001b[0m\n\u001b[0m",
            "\u001b[0;31mNameError\u001b[0m: name 's' is not defined"
          ]
        }
      ]
    },
    {
      "cell_type": "code",
      "source": [
        "s = {1,2,3,4,5}\n",
        "del s[0]\n",
        "print(s)"
      ],
      "metadata": {
        "colab": {
          "base_uri": "https://localhost:8080/",
          "height": 176
        },
        "id": "AIll88tTT084",
        "outputId": "eb5614cb-8e08-43c7-85b0-93645e19c4d1"
      },
      "execution_count": 26,
      "outputs": [
        {
          "output_type": "error",
          "ename": "TypeError",
          "evalue": "'set' object doesn't support item deletion",
          "traceback": [
            "\u001b[0;31m---------------------------------------------------------------------------\u001b[0m",
            "\u001b[0;31mTypeError\u001b[0m                                 Traceback (most recent call last)",
            "\u001b[0;32m<ipython-input-26-09492683a41a>\u001b[0m in \u001b[0;36m<cell line: 2>\u001b[0;34m()\u001b[0m\n\u001b[1;32m      1\u001b[0m \u001b[0ms\u001b[0m \u001b[0;34m=\u001b[0m \u001b[0;34m{\u001b[0m\u001b[0;36m1\u001b[0m\u001b[0;34m,\u001b[0m\u001b[0;36m2\u001b[0m\u001b[0;34m,\u001b[0m\u001b[0;36m3\u001b[0m\u001b[0;34m,\u001b[0m\u001b[0;36m4\u001b[0m\u001b[0;34m,\u001b[0m\u001b[0;36m5\u001b[0m\u001b[0;34m}\u001b[0m\u001b[0;34m\u001b[0m\u001b[0;34m\u001b[0m\u001b[0m\n\u001b[0;32m----> 2\u001b[0;31m \u001b[0;32mdel\u001b[0m \u001b[0ms\u001b[0m\u001b[0;34m[\u001b[0m\u001b[0;36m0\u001b[0m\u001b[0;34m]\u001b[0m\u001b[0;34m\u001b[0m\u001b[0;34m\u001b[0m\u001b[0m\n\u001b[0m\u001b[1;32m      3\u001b[0m \u001b[0mprint\u001b[0m\u001b[0;34m(\u001b[0m\u001b[0ms\u001b[0m\u001b[0;34m)\u001b[0m\u001b[0;34m\u001b[0m\u001b[0;34m\u001b[0m\u001b[0m\n",
            "\u001b[0;31mTypeError\u001b[0m: 'set' object doesn't support item deletion"
          ]
        }
      ]
    },
    {
      "cell_type": "code",
      "source": [
        "# discard - delete item which we pass, if not present return set, no error\n",
        "s = {1,2,3,4,5}\n",
        "s.discard(3)\n",
        "print(s)\n",
        "s.discard(6)\n",
        "print(s)"
      ],
      "metadata": {
        "colab": {
          "base_uri": "https://localhost:8080/"
        },
        "id": "iDWUDZkkUHjY",
        "outputId": "517a32e9-3653-44b0-8bb6-493c1c874ee4"
      },
      "execution_count": 27,
      "outputs": [
        {
          "output_type": "stream",
          "name": "stdout",
          "text": [
            "{1, 2, 4, 5}\n",
            "{1, 2, 4, 5}\n"
          ]
        }
      ]
    },
    {
      "cell_type": "code",
      "source": [
        "# remove  -> delete item which we pass, if not present throws error\n",
        "s = {1,2,3,4,5}\n",
        "s.remove(5)\n",
        "print(s)\n",
        "s.remove(10)\n",
        "print(s)"
      ],
      "metadata": {
        "colab": {
          "base_uri": "https://localhost:8080/",
          "height": 211
        },
        "id": "Wl-FV_nkUbP9",
        "outputId": "56fad2b2-b074-4e96-a02f-9f2e03f35370"
      },
      "execution_count": 28,
      "outputs": [
        {
          "output_type": "stream",
          "name": "stdout",
          "text": [
            "{1, 2, 3, 4}\n"
          ]
        },
        {
          "output_type": "error",
          "ename": "KeyError",
          "evalue": "10",
          "traceback": [
            "\u001b[0;31m---------------------------------------------------------------------------\u001b[0m",
            "\u001b[0;31mKeyError\u001b[0m                                  Traceback (most recent call last)",
            "\u001b[0;32m<ipython-input-28-0fd2b884d891>\u001b[0m in \u001b[0;36m<cell line: 5>\u001b[0;34m()\u001b[0m\n\u001b[1;32m      3\u001b[0m \u001b[0ms\u001b[0m\u001b[0;34m.\u001b[0m\u001b[0mremove\u001b[0m\u001b[0;34m(\u001b[0m\u001b[0;36m5\u001b[0m\u001b[0;34m)\u001b[0m\u001b[0;34m\u001b[0m\u001b[0;34m\u001b[0m\u001b[0m\n\u001b[1;32m      4\u001b[0m \u001b[0mprint\u001b[0m\u001b[0;34m(\u001b[0m\u001b[0ms\u001b[0m\u001b[0;34m)\u001b[0m\u001b[0;34m\u001b[0m\u001b[0;34m\u001b[0m\u001b[0m\n\u001b[0;32m----> 5\u001b[0;31m \u001b[0ms\u001b[0m\u001b[0;34m.\u001b[0m\u001b[0mremove\u001b[0m\u001b[0;34m(\u001b[0m\u001b[0;36m10\u001b[0m\u001b[0;34m)\u001b[0m\u001b[0;34m\u001b[0m\u001b[0;34m\u001b[0m\u001b[0m\n\u001b[0m\u001b[1;32m      6\u001b[0m \u001b[0mprint\u001b[0m\u001b[0;34m(\u001b[0m\u001b[0ms\u001b[0m\u001b[0;34m)\u001b[0m\u001b[0;34m\u001b[0m\u001b[0;34m\u001b[0m\u001b[0m\n",
            "\u001b[0;31mKeyError\u001b[0m: 10"
          ]
        }
      ]
    },
    {
      "cell_type": "code",
      "source": [
        "# pop - delete any random item\n",
        "s = {1,2,3,4,5}\n",
        "s.pop()\n",
        "print(s)"
      ],
      "metadata": {
        "colab": {
          "base_uri": "https://localhost:8080/"
        },
        "id": "x8Hy_t3LUi8C",
        "outputId": "646d4a9e-fbf9-4a44-dc37-94c2f5088727"
      },
      "execution_count": 29,
      "outputs": [
        {
          "output_type": "stream",
          "name": "stdout",
          "text": [
            "{2, 3, 4, 5}\n"
          ]
        }
      ]
    },
    {
      "cell_type": "code",
      "source": [
        "# clear - deletes all items -> empty set\n",
        "s = {1,2,3,4,5}\n",
        "s.clear()\n",
        "print(s)"
      ],
      "metadata": {
        "colab": {
          "base_uri": "https://localhost:8080/"
        },
        "id": "LIiSJUdVUotL",
        "outputId": "013564cc-4198-46fb-b5f3-1c3dc4f88125"
      },
      "execution_count": 30,
      "outputs": [
        {
          "output_type": "stream",
          "name": "stdout",
          "text": [
            "set()\n"
          ]
        }
      ]
    },
    {
      "cell_type": "markdown",
      "source": [
        "### Set Operation\n",
        "*   Union\n",
        "*   Intersection\n",
        "*   Difference\n",
        "*   Symmetric Difference\n",
        "*   Membership\n",
        "*   Iteration\n"
      ],
      "metadata": {
        "id": "vn-szWOy5oQ4"
      }
    },
    {
      "cell_type": "code",
      "source": [
        "s1 = {1,2,3,4,5}\n",
        "s2 = {4,5,6,7,8}\n",
        "\n",
        "# union (|)\n",
        "print(s1 | s2)\n",
        "\n",
        "# intersection (&)\n",
        "print(s1 & s2)\n",
        "\n",
        "# difference (-)\n",
        "print(s1-s2)\n",
        "print(s2-s1)\n",
        "\n",
        "# symmetric difference (^)\n",
        "print(s1^s2)"
      ],
      "metadata": {
        "colab": {
          "base_uri": "https://localhost:8080/"
        },
        "id": "s7vyOoScUvQp",
        "outputId": "1093828a-1982-424b-98b2-f31604edd113"
      },
      "execution_count": 8,
      "outputs": [
        {
          "output_type": "stream",
          "name": "stdout",
          "text": [
            "{1, 2, 3, 4, 5, 6, 7, 8}\n",
            "{4, 5}\n",
            "{1, 2, 3}\n",
            "{8, 6, 7}\n",
            "{1, 2, 3, 6, 7, 8}\n"
          ]
        }
      ]
    },
    {
      "cell_type": "code",
      "source": [
        "# Membership - in,not in\n",
        "print(1 in s1)\n",
        "print(5 not in s1)"
      ],
      "metadata": {
        "colab": {
          "base_uri": "https://localhost:8080/"
        },
        "id": "v3eqpjkN6LSi",
        "outputId": "b2925cf7-ffd8-4864-c6db-5af760143dc3"
      },
      "execution_count": 10,
      "outputs": [
        {
          "output_type": "stream",
          "name": "stdout",
          "text": [
            "True\n",
            "False\n"
          ]
        }
      ]
    },
    {
      "cell_type": "code",
      "source": [
        "# Iteration/Loop\n",
        "for i in s1:\n",
        "  print(i)"
      ],
      "metadata": {
        "colab": {
          "base_uri": "https://localhost:8080/"
        },
        "id": "bQEQpbj46xik",
        "outputId": "172aa0b8-eb83-4aa3-b846-e39317c6ac45"
      },
      "execution_count": 9,
      "outputs": [
        {
          "output_type": "stream",
          "name": "stdout",
          "text": [
            "1\n",
            "2\n",
            "3\n",
            "4\n",
            "5\n"
          ]
        }
      ]
    },
    {
      "cell_type": "markdown",
      "source": [
        "### Set Functions\n",
        "*   len,min,max,sum,sorted\n",
        "*   union,update\n",
        "*   intersection,intersection_update\n",
        "*   difference,difference_update\n",
        "*   symmetric_difference,symmetric_difference_update\n",
        "*   isdisjoint, issubset, issuperset\n",
        "*   copy"
      ],
      "metadata": {
        "id": "7er_VL_j8Y0I"
      }
    },
    {
      "cell_type": "code",
      "source": [
        "# len,min,max,sum,sorted\n",
        "s = {1,3,2,4,5}\n",
        "\n",
        "print(len(s))\n",
        "print(min(s))\n",
        "print(max(s))\n",
        "print(sum(s))\n",
        "print(sorted(s))\n",
        "print(sorted(s,reverse=True))"
      ],
      "metadata": {
        "colab": {
          "base_uri": "https://localhost:8080/"
        },
        "id": "qRJdNxe98b-c",
        "outputId": "1f94bd09-7dec-46e8-80b5-b03e0a3efd56"
      },
      "execution_count": 11,
      "outputs": [
        {
          "output_type": "stream",
          "name": "stdout",
          "text": [
            "5\n",
            "1\n",
            "5\n",
            "15\n",
            "[1, 2, 3, 4, 5]\n",
            "[5, 4, 3, 2, 1]\n"
          ]
        }
      ]
    },
    {
      "cell_type": "code",
      "source": [
        "# union / update\n",
        "s1 = {1,2,3,4,5}\n",
        "s2 = {4,5,6,7,8}\n",
        "\n",
        "print(s1.union(s2))\n",
        "print(s1)\n",
        "\n",
        "s1.update(s2)    # s1 = s1 | s2\n",
        "print(s1)\n",
        "print(s2)"
      ],
      "metadata": {
        "colab": {
          "base_uri": "https://localhost:8080/"
        },
        "id": "9Xz3cQ0y8zYL",
        "outputId": "16aae393-44b2-4af8-b4c8-a8d7ceae275b"
      },
      "execution_count": 15,
      "outputs": [
        {
          "output_type": "stream",
          "name": "stdout",
          "text": [
            "{1, 2, 3, 4, 5, 6, 7, 8}\n",
            "{1, 2, 3, 4, 5}\n",
            "{1, 2, 3, 4, 5, 6, 7, 8}\n",
            "{4, 5, 6, 7, 8}\n"
          ]
        }
      ]
    },
    {
      "cell_type": "code",
      "source": [
        "# intersection / intersection_update\n",
        "s1 = {1,2,3,4,5}\n",
        "s2 = {4,5,6,7,8}\n",
        "\n",
        "# s1 & s2\n",
        "print(s1.intersection(s2))\n",
        "\n",
        "s1.intersection_update(s2)  # s1 = s1 & s2\n",
        "print(s1)\n",
        "print(s2)"
      ],
      "metadata": {
        "colab": {
          "base_uri": "https://localhost:8080/"
        },
        "id": "kMB0uDZ69Ml5",
        "outputId": "a8cfa76b-90fa-4821-8045-de144e92c993"
      },
      "execution_count": 16,
      "outputs": [
        {
          "output_type": "stream",
          "name": "stdout",
          "text": [
            "{4, 5}\n",
            "{4, 5}\n",
            "{4, 5, 6, 7, 8}\n"
          ]
        }
      ]
    },
    {
      "cell_type": "code",
      "source": [
        "# difference / difference_update\n",
        "s1 = {1,2,3,4,5}\n",
        "s2 = {4,5,6,7,8}\n",
        "\n",
        "# s1 - s2\n",
        "print(s1.difference(s2))\n",
        "\n",
        "s1.difference_update(s2)  # s1 = s1 - s2\n",
        "print(s1)\n",
        "print(s2)"
      ],
      "metadata": {
        "colab": {
          "base_uri": "https://localhost:8080/"
        },
        "id": "vbGvOSMg9gRa",
        "outputId": "4490b050-e4aa-4bfa-f78e-2140a2d2e36b"
      },
      "execution_count": 17,
      "outputs": [
        {
          "output_type": "stream",
          "name": "stdout",
          "text": [
            "{1, 2, 3}\n",
            "{1, 2, 3}\n",
            "{4, 5, 6, 7, 8}\n"
          ]
        }
      ]
    },
    {
      "cell_type": "code",
      "source": [
        "# symmetric_difference / symmetric_difference_update\n",
        "s1 = {1,2,3,4,5}\n",
        "s2 = {4,5,6,7,8}\n",
        "\n",
        "# s1 ^ s2\n",
        "print(s1.symmetric_difference(s2))\n",
        "\n",
        "s1.symmetric_difference_update(s2)  # s1 = s1 ^ s2\n",
        "print(s1)\n",
        "print(s2)"
      ],
      "metadata": {
        "colab": {
          "base_uri": "https://localhost:8080/"
        },
        "id": "m6tciYBr9piI",
        "outputId": "fea2f17b-4d89-4b81-b41d-4fb333da0fae"
      },
      "execution_count": 18,
      "outputs": [
        {
          "output_type": "stream",
          "name": "stdout",
          "text": [
            "{1, 2, 3, 6, 7, 8}\n",
            "{1, 2, 3, 6, 7, 8}\n",
            "{4, 5, 6, 7, 8}\n"
          ]
        }
      ]
    },
    {
      "cell_type": "code",
      "source": [
        "# isdisjoint/issubset/issuperset\n",
        "s1 = {1,2,3,4}\n",
        "# s2 = {7,8,5,6}\n",
        "s2 = {2,3}\n",
        "\n",
        "print(s1.isdisjoint(s2))\n",
        "print(s1.issubset(s2))\n",
        "print(s2.issubset(s1))\n",
        "print(s1.issuperset(s2))\n",
        "print(s2.issuperset(s1))"
      ],
      "metadata": {
        "colab": {
          "base_uri": "https://localhost:8080/"
        },
        "id": "Cs5M6nwn9w3h",
        "outputId": "312f301c-edbb-4362-9b28-65ae80a195fd"
      },
      "execution_count": 19,
      "outputs": [
        {
          "output_type": "stream",
          "name": "stdout",
          "text": [
            "False\n",
            "False\n",
            "True\n",
            "True\n",
            "False\n"
          ]
        }
      ]
    },
    {
      "cell_type": "code",
      "source": [
        "# copy\n",
        "s1 = {1,2,3,4}\n",
        "s2 = s1.copy()\n",
        "\n",
        "print(s1)\n",
        "s1.add(5)\n",
        "print(s1)\n",
        "print(s2)"
      ],
      "metadata": {
        "colab": {
          "base_uri": "https://localhost:8080/"
        },
        "id": "0rvMpPAq-Dsi",
        "outputId": "dc7ed427-6871-43c8-e2a0-35967f3067c6"
      },
      "execution_count": 20,
      "outputs": [
        {
          "output_type": "stream",
          "name": "stdout",
          "text": [
            "{1, 2, 3, 4}\n",
            "{1, 2, 3, 4, 5}\n",
            "{1, 2, 3, 4}\n"
          ]
        }
      ]
    },
    {
      "cell_type": "markdown",
      "source": [
        "### Frozenset\n",
        "Frozen set is just an immutable version of a Python set object"
      ],
      "metadata": {
        "id": "3RGObd0WAWQG"
      }
    },
    {
      "cell_type": "code",
      "source": [
        "# create frozenset\n",
        "fs = frozenset([1,2,3,4,5])\n",
        "print(fs)\n",
        "print(type(fs))"
      ],
      "metadata": {
        "colab": {
          "base_uri": "https://localhost:8080/"
        },
        "id": "s1ZtdhLjAXG7",
        "outputId": "6b88656f-4c38-4e91-e383-7b01cc3927a5"
      },
      "execution_count": 21,
      "outputs": [
        {
          "output_type": "stream",
          "name": "stdout",
          "text": [
            "frozenset({1, 2, 3, 4, 5})\n",
            "<class 'frozenset'>\n"
          ]
        }
      ]
    },
    {
      "cell_type": "markdown",
      "source": [
        "#### What works and what does not on frozenset\n",
        "works -> all read functions <br>does't work -> write operations"
      ],
      "metadata": {
        "id": "74XnbqZtAkng"
      }
    },
    {
      "cell_type": "code",
      "source": [
        "fs1 = frozenset([1,2,3])\n",
        "fs2 = frozenset([3,4,5])\n",
        "\n",
        "fs1 | fs2"
      ],
      "metadata": {
        "colab": {
          "base_uri": "https://localhost:8080/"
        },
        "id": "4osApN5hAaVb",
        "outputId": "9b8d43a5-294c-442f-c5d9-d6bd1981ef0c"
      },
      "execution_count": 22,
      "outputs": [
        {
          "output_type": "execute_result",
          "data": {
            "text/plain": [
              "frozenset({1, 2, 3, 4, 5})"
            ]
          },
          "metadata": {},
          "execution_count": 22
        }
      ]
    },
    {
      "cell_type": "code",
      "source": [
        "# When to use\n",
        "# 2D sets\n",
        "fs = frozenset([1,2,frozenset([3,4])])\n",
        "fs"
      ],
      "metadata": {
        "colab": {
          "base_uri": "https://localhost:8080/"
        },
        "id": "_vEmDWVQBLiU",
        "outputId": "31486f45-52c7-4995-f46b-e5435d85ec77"
      },
      "execution_count": 23,
      "outputs": [
        {
          "output_type": "execute_result",
          "data": {
            "text/plain": [
              "frozenset({1, 2, frozenset({3, 4})})"
            ]
          },
          "metadata": {},
          "execution_count": 23
        }
      ]
    },
    {
      "cell_type": "markdown",
      "source": [
        "### Set Comprehension"
      ],
      "metadata": {
        "id": "xM8SSVNlCm2-"
      }
    },
    {
      "cell_type": "code",
      "source": [
        "{i for i in range(1,11)}"
      ],
      "metadata": {
        "colab": {
          "base_uri": "https://localhost:8080/"
        },
        "id": "dDb-UT_0CnYI",
        "outputId": "1e8f1efd-72aa-4c9c-bf7e-87c5bc491d13"
      },
      "execution_count": 24,
      "outputs": [
        {
          "output_type": "execute_result",
          "data": {
            "text/plain": [
              "{1, 2, 3, 4, 5, 6, 7, 8, 9, 10}"
            ]
          },
          "metadata": {},
          "execution_count": 24
        }
      ]
    },
    {
      "cell_type": "code",
      "source": [
        "{i for i in range(1,11) if i>5}"
      ],
      "metadata": {
        "colab": {
          "base_uri": "https://localhost:8080/"
        },
        "id": "LzEpBgQ5Cqiw",
        "outputId": "87675078-8f7b-4355-bb11-a2a7da2af8ad"
      },
      "execution_count": 25,
      "outputs": [
        {
          "output_type": "execute_result",
          "data": {
            "text/plain": [
              "{6, 7, 8, 9, 10}"
            ]
          },
          "metadata": {},
          "execution_count": 25
        }
      ]
    },
    {
      "cell_type": "code",
      "source": [
        "{i**2 for i in range(1,11) if i>5}"
      ],
      "metadata": {
        "colab": {
          "base_uri": "https://localhost:8080/"
        },
        "id": "-9zVeDrrCu21",
        "outputId": "eab5f067-c9d5-4b28-ed5a-b07e33159487"
      },
      "execution_count": 26,
      "outputs": [
        {
          "output_type": "execute_result",
          "data": {
            "text/plain": [
              "{36, 49, 64, 81, 100}"
            ]
          },
          "metadata": {},
          "execution_count": 26
        }
      ]
    },
    {
      "cell_type": "markdown",
      "source": [
        "# Dictionary\n",
        "\n",
        "Dictionary in Python is a collection of keys values, used to store data values like a map, which, unlike other data types which hold only a single value as an element.\n",
        "\n",
        "In some languages it is known as map or assosiative arrays.\n",
        "\n",
        "```\n",
        "dict = { 'name' : 'nitish' , 'age' : 33 , 'gender' : 'male' }\n",
        "```\n",
        "\n",
        "Characterstics:\n",
        "\n",
        "- Mutable\n",
        "- Indexing has no meaning\n",
        "- keys can't be duplicated\n",
        "- keys can't be mutable items - can't be list,set,dictionary"
      ],
      "metadata": {
        "id": "tJfr7pDEEqA4"
      }
    },
    {
      "cell_type": "markdown",
      "source": [
        "### Create Dictionary"
      ],
      "metadata": {
        "id": "qY4-IZd0F875"
      }
    },
    {
      "cell_type": "code",
      "source": [
        "# empty dictionary\n",
        "d1 = {}\n",
        "print(d1)\n",
        "\n",
        "# 1D dictionary - homo -> keys are of same type\n",
        "d2 = {'name':'nora','gender':'female'}\n",
        "print(d2)\n",
        "\n",
        "# with mixed keys\n",
        "d3 = {(1,2,3):4,'hello':5}\n",
        "print(d3)\n",
        "\n",
        "# 2D dictionary -> JSON\n",
        "s = {\n",
        "    'name':'nitish',\n",
        "    'clg':'iet',\n",
        "    'sem':2,\n",
        "    'subjects':{\n",
        "        'maths':54,\n",
        "        'dsa':65,\n",
        "        'english':40\n",
        "    }\n",
        "}\n",
        "print(s)\n",
        "\n",
        "# using sequence and dict function\n",
        "d4 = dict([(1,1),(2,2),(3,3)])\n",
        "print(d4)\n",
        "\n",
        "d5 = dict([('hello','world'),((1,2,3),2),(3,3)])\n",
        "print(d5)\n",
        "\n",
        "# duplicate keys\n",
        "d6 = {'name':'manish','name':'kiran'}   # duplicate keys are not allowed - it will override\n",
        "print(d6)\n",
        "\n",
        "# immutable items as keys\n",
        "d7 = {'name':'nitish',(1,2,3):2}\n",
        "print(d7)"
      ],
      "metadata": {
        "colab": {
          "base_uri": "https://localhost:8080/"
        },
        "id": "P1C8sXT4CyWP",
        "outputId": "95c16719-62e2-418e-bf6b-46e41270afe1"
      },
      "execution_count": 28,
      "outputs": [
        {
          "output_type": "stream",
          "name": "stdout",
          "text": [
            "{}\n",
            "{'name': 'nora', 'gender': 'female'}\n",
            "{(1, 2, 3): 4, 'hello': 5}\n",
            "{'name': 'nitish', 'clg': 'iet', 'sem': 2, 'subjects': {'maths': 54, 'dsa': 65, 'english': 40}}\n",
            "{1: 1, 2: 2, 3: 3}\n",
            "{'hello': 'world', (1, 2, 3): 2, 3: 3}\n",
            "{'name': 'kiran'}\n",
            "{'name': 'nitish', (1, 2, 3): 2}\n"
          ]
        }
      ]
    },
    {
      "cell_type": "code",
      "source": [
        "# mutable items as keys\n",
        "d8 = {'name':'nitish',[1,2,3]:2}\n",
        "print(d8)"
      ],
      "metadata": {
        "colab": {
          "base_uri": "https://localhost:8080/",
          "height": 176
        },
        "id": "POGQMrEqI_5X",
        "outputId": "aadea115-01c6-44f5-95a7-22856ece2199"
      },
      "execution_count": 29,
      "outputs": [
        {
          "output_type": "error",
          "ename": "TypeError",
          "evalue": "unhashable type: 'list'",
          "traceback": [
            "\u001b[0;31m---------------------------------------------------------------------------\u001b[0m",
            "\u001b[0;31mTypeError\u001b[0m                                 Traceback (most recent call last)",
            "\u001b[0;32m<ipython-input-29-01222bc6d5ae>\u001b[0m in \u001b[0;36m<cell line: 2>\u001b[0;34m()\u001b[0m\n\u001b[1;32m      1\u001b[0m \u001b[0;31m# mutable items as keys\u001b[0m\u001b[0;34m\u001b[0m\u001b[0;34m\u001b[0m\u001b[0m\n\u001b[0;32m----> 2\u001b[0;31m \u001b[0md8\u001b[0m \u001b[0;34m=\u001b[0m \u001b[0;34m{\u001b[0m\u001b[0;34m'name'\u001b[0m\u001b[0;34m:\u001b[0m\u001b[0;34m'nitish'\u001b[0m\u001b[0;34m,\u001b[0m\u001b[0;34m[\u001b[0m\u001b[0;36m1\u001b[0m\u001b[0;34m,\u001b[0m\u001b[0;36m2\u001b[0m\u001b[0;34m,\u001b[0m\u001b[0;36m3\u001b[0m\u001b[0;34m]\u001b[0m\u001b[0;34m:\u001b[0m\u001b[0;36m2\u001b[0m\u001b[0;34m}\u001b[0m\u001b[0;34m\u001b[0m\u001b[0;34m\u001b[0m\u001b[0m\n\u001b[0m\u001b[1;32m      3\u001b[0m \u001b[0mprint\u001b[0m\u001b[0;34m(\u001b[0m\u001b[0md8\u001b[0m\u001b[0;34m)\u001b[0m\u001b[0;34m\u001b[0m\u001b[0;34m\u001b[0m\u001b[0m\n",
            "\u001b[0;31mTypeError\u001b[0m: unhashable type: 'list'"
          ]
        }
      ]
    },
    {
      "cell_type": "markdown",
      "source": [
        "### Accessing items\n",
        "Indexing and slicing is not possible in dictionary.\n",
        "\n",
        "By using below ways we can access dictionary items:\n",
        "*   [ ]\n",
        "*   get"
      ],
      "metadata": {
        "id": "T1JryGqNJwZ0"
      }
    },
    {
      "cell_type": "code",
      "source": [
        "my_dict = {'name': 'Jack', 'age': 26}\n",
        "print(my_dict[0])\n",
        "\n",
        "# Indexing and slicing is not possible in dictionary"
      ],
      "metadata": {
        "colab": {
          "base_uri": "https://localhost:8080/",
          "height": 193
        },
        "id": "8DY-SYsdKppk",
        "outputId": "7e55d929-fcb2-4ee9-b862-12c803a66b83"
      },
      "execution_count": 32,
      "outputs": [
        {
          "output_type": "error",
          "ename": "KeyError",
          "evalue": "0",
          "traceback": [
            "\u001b[0;31m---------------------------------------------------------------------------\u001b[0m",
            "\u001b[0;31mKeyError\u001b[0m                                  Traceback (most recent call last)",
            "\u001b[0;32m<ipython-input-32-d9383dc9dd6d>\u001b[0m in \u001b[0;36m<cell line: 2>\u001b[0;34m()\u001b[0m\n\u001b[1;32m      1\u001b[0m \u001b[0mmy_dict\u001b[0m \u001b[0;34m=\u001b[0m \u001b[0;34m{\u001b[0m\u001b[0;34m'name'\u001b[0m\u001b[0;34m:\u001b[0m \u001b[0;34m'Jack'\u001b[0m\u001b[0;34m,\u001b[0m \u001b[0;34m'age'\u001b[0m\u001b[0;34m:\u001b[0m \u001b[0;36m26\u001b[0m\u001b[0;34m}\u001b[0m\u001b[0;34m\u001b[0m\u001b[0;34m\u001b[0m\u001b[0m\n\u001b[0;32m----> 2\u001b[0;31m \u001b[0mprint\u001b[0m\u001b[0;34m(\u001b[0m\u001b[0mmy_dict\u001b[0m\u001b[0;34m[\u001b[0m\u001b[0;36m0\u001b[0m\u001b[0;34m]\u001b[0m\u001b[0;34m)\u001b[0m\u001b[0;34m\u001b[0m\u001b[0;34m\u001b[0m\u001b[0m\n\u001b[0m\u001b[1;32m      3\u001b[0m \u001b[0;34m\u001b[0m\u001b[0m\n\u001b[1;32m      4\u001b[0m \u001b[0;31m# Indexing and slicing is not possible in dictionary\u001b[0m\u001b[0;34m\u001b[0m\u001b[0;34m\u001b[0m\u001b[0m\n",
            "\u001b[0;31mKeyError\u001b[0m: 0"
          ]
        }
      ]
    },
    {
      "cell_type": "code",
      "source": [
        "my_dict = {'name': 'Jack', 'age': 26}\n",
        "\n",
        "# []\n",
        "print(my_dict['name'])\n",
        "print(my_dict['age'])\n",
        "\n",
        "# get\n",
        "print(my_dict.get('name'))\n",
        "\n",
        "print(s)\n",
        "print(s['subjects']['dsa'])"
      ],
      "metadata": {
        "colab": {
          "base_uri": "https://localhost:8080/"
        },
        "id": "aC_8IZsLKK_e",
        "outputId": "799373ad-9c05-480c-e624-44f0df32f2a8"
      },
      "execution_count": 33,
      "outputs": [
        {
          "output_type": "stream",
          "name": "stdout",
          "text": [
            "Jack\n",
            "26\n",
            "Jack\n",
            "{'name': 'nitish', 'clg': 'iet', 'sem': 2, 'subjects': {'maths': 54, 'dsa': 65, 'english': 40}}\n",
            "65\n"
          ]
        }
      ]
    },
    {
      "cell_type": "markdown",
      "source": [
        "### Adding key-value pair\n",
        "\n",
        "```\n",
        "dictionary[new_key] = value\n",
        "```\n",
        "\n"
      ],
      "metadata": {
        "id": "tIQwtrXLLxwZ"
      }
    },
    {
      "cell_type": "code",
      "source": [
        "d2 = {'name':'nora','gender':'female'}\n",
        "d2['age'] = 25\n",
        "print(d2)"
      ],
      "metadata": {
        "colab": {
          "base_uri": "https://localhost:8080/"
        },
        "id": "wRg2x3rzNmhM",
        "outputId": "e40c08f3-2e15-47c5-cfcc-695fd6caa22e"
      },
      "execution_count": 35,
      "outputs": [
        {
          "output_type": "stream",
          "name": "stdout",
          "text": [
            "{'name': 'nora', 'gender': 'female', 'age': 25}\n"
          ]
        }
      ]
    },
    {
      "cell_type": "code",
      "source": [
        "print(s)\n",
        "s['subjects']['network'] = 80\n",
        "print(s)"
      ],
      "metadata": {
        "colab": {
          "base_uri": "https://localhost:8080/"
        },
        "id": "hjEcDHEtNta9",
        "outputId": "4d33852b-8268-45dc-832f-4b0a131e6e77"
      },
      "execution_count": 37,
      "outputs": [
        {
          "output_type": "stream",
          "name": "stdout",
          "text": [
            "{'name': 'nitish', 'clg': 'iet', 'sem': 2, 'subjects': {'maths': 54, 'dsa': 65, 'english': 40}}\n",
            "{'name': 'nitish', 'clg': 'iet', 'sem': 2, 'subjects': {'maths': 54, 'dsa': 65, 'english': 40, 'network': 80}}\n"
          ]
        }
      ]
    },
    {
      "cell_type": "markdown",
      "source": [
        "### Remove key-value pair\n",
        "\n",
        "*   pop\n",
        "*   popitem\n",
        "*   del\n",
        "*   clear\n"
      ],
      "metadata": {
        "id": "vZNZtLroOgpT"
      }
    },
    {
      "cell_type": "code",
      "source": [
        "d = {'name': 'nitish', 'age': 32, 3: 3, 'gender': 'male', 'weight': 72}\n",
        "print(d)\n",
        "\n",
        "# pop - removes passed key-value pair, if not present throws error\n",
        "d.pop(3)\n",
        "print(d)\n",
        "\n",
        "d.pop('height')\n",
        "print(d)"
      ],
      "metadata": {
        "colab": {
          "base_uri": "https://localhost:8080/",
          "height": 228
        },
        "id": "_GzvRrOsOC53",
        "outputId": "af6e0145-f25d-4c63-96e1-11c2d57602ea"
      },
      "execution_count": 41,
      "outputs": [
        {
          "output_type": "stream",
          "name": "stdout",
          "text": [
            "{'name': 'nitish', 'age': 32, 3: 3, 'gender': 'male', 'weight': 72}\n",
            "{'name': 'nitish', 'age': 32, 'gender': 'male', 'weight': 72}\n"
          ]
        },
        {
          "output_type": "error",
          "ename": "KeyError",
          "evalue": "'height'",
          "traceback": [
            "\u001b[0;31m---------------------------------------------------------------------------\u001b[0m",
            "\u001b[0;31mKeyError\u001b[0m                                  Traceback (most recent call last)",
            "\u001b[0;32m<ipython-input-41-67173c61bf0c>\u001b[0m in \u001b[0;36m<cell line: 8>\u001b[0;34m()\u001b[0m\n\u001b[1;32m      6\u001b[0m \u001b[0mprint\u001b[0m\u001b[0;34m(\u001b[0m\u001b[0md\u001b[0m\u001b[0;34m)\u001b[0m\u001b[0;34m\u001b[0m\u001b[0;34m\u001b[0m\u001b[0m\n\u001b[1;32m      7\u001b[0m \u001b[0;34m\u001b[0m\u001b[0m\n\u001b[0;32m----> 8\u001b[0;31m \u001b[0md\u001b[0m\u001b[0;34m.\u001b[0m\u001b[0mpop\u001b[0m\u001b[0;34m(\u001b[0m\u001b[0;34m'height'\u001b[0m\u001b[0;34m)\u001b[0m\u001b[0;34m\u001b[0m\u001b[0;34m\u001b[0m\u001b[0m\n\u001b[0m\u001b[1;32m      9\u001b[0m \u001b[0mprint\u001b[0m\u001b[0;34m(\u001b[0m\u001b[0md\u001b[0m\u001b[0;34m)\u001b[0m\u001b[0;34m\u001b[0m\u001b[0;34m\u001b[0m\u001b[0m\n",
            "\u001b[0;31mKeyError\u001b[0m: 'height'"
          ]
        }
      ]
    },
    {
      "cell_type": "code",
      "source": [
        "# popitem - removes last key-value pair\n",
        "d = {'name': 'nitish', 'age': 32, 3: 3, 'gender': 'male', 'weight': 72}\n",
        "print(d)\n",
        "d.popitem()\n",
        "print(d)"
      ],
      "metadata": {
        "colab": {
          "base_uri": "https://localhost:8080/"
        },
        "id": "gnA-_qvuPUg0",
        "outputId": "90eb0718-3bd6-4286-8aee-90a5e19b373b"
      },
      "execution_count": 43,
      "outputs": [
        {
          "output_type": "stream",
          "name": "stdout",
          "text": [
            "{'name': 'nitish', 'age': 32, 3: 3, 'gender': 'male', 'weight': 72}\n",
            "{'name': 'nitish', 'age': 32, 3: 3, 'gender': 'male'}\n"
          ]
        }
      ]
    },
    {
      "cell_type": "code",
      "source": [
        "# del - deletion of a key-value pair or of entire dictionary is possible\n",
        "d = {'name': 'nitish', 'age': 32, 3: 3, 'gender': 'male', 'weight': 72}\n",
        "print(d)\n",
        "del d[3]   # removes key-3\n",
        "print(d)\n",
        "del d     # deletes entire dictionary\n",
        "print(d)"
      ],
      "metadata": {
        "colab": {
          "base_uri": "https://localhost:8080/",
          "height": 211
        },
        "id": "hKyPpVZhQkzC",
        "outputId": "d324b8a5-0c77-458d-e674-c3e0a8e4c7bc"
      },
      "execution_count": 44,
      "outputs": [
        {
          "output_type": "stream",
          "name": "stdout",
          "text": [
            "{'name': 'nitish', 'age': 32, 3: 3, 'gender': 'male', 'weight': 72}\n",
            "{'name': 'nitish', 'age': 32, 'gender': 'male', 'weight': 72}\n"
          ]
        },
        {
          "output_type": "error",
          "ename": "NameError",
          "evalue": "name 'd' is not defined",
          "traceback": [
            "\u001b[0;31m---------------------------------------------------------------------------\u001b[0m",
            "\u001b[0;31mNameError\u001b[0m                                 Traceback (most recent call last)",
            "\u001b[0;32m<ipython-input-44-8a7956ca45bd>\u001b[0m in \u001b[0;36m<cell line: 7>\u001b[0;34m()\u001b[0m\n\u001b[1;32m      5\u001b[0m \u001b[0mprint\u001b[0m\u001b[0;34m(\u001b[0m\u001b[0md\u001b[0m\u001b[0;34m)\u001b[0m\u001b[0;34m\u001b[0m\u001b[0;34m\u001b[0m\u001b[0m\n\u001b[1;32m      6\u001b[0m \u001b[0;32mdel\u001b[0m \u001b[0md\u001b[0m\u001b[0;34m\u001b[0m\u001b[0;34m\u001b[0m\u001b[0m\n\u001b[0;32m----> 7\u001b[0;31m \u001b[0mprint\u001b[0m\u001b[0;34m(\u001b[0m\u001b[0md\u001b[0m\u001b[0;34m)\u001b[0m\u001b[0;34m\u001b[0m\u001b[0;34m\u001b[0m\u001b[0m\n\u001b[0m",
            "\u001b[0;31mNameError\u001b[0m: name 'd' is not defined"
          ]
        }
      ]
    },
    {
      "cell_type": "code",
      "source": [
        "# clear - deletes all key-value pairs -> results empty dictionary\n",
        "d = {'name': 'nitish', 'age': 32, 3: 3, 'gender': 'male', 'weight': 72}\n",
        "print(d)\n",
        "d.clear()\n",
        "print(d)"
      ],
      "metadata": {
        "colab": {
          "base_uri": "https://localhost:8080/"
        },
        "id": "3mMfr910RiWV",
        "outputId": "3c4a10c3-26f0-4e04-861e-38089d39059d"
      },
      "execution_count": 45,
      "outputs": [
        {
          "output_type": "stream",
          "name": "stdout",
          "text": [
            "{'name': 'nitish', 'age': 32, 3: 3, 'gender': 'male', 'weight': 72}\n",
            "{}\n"
          ]
        }
      ]
    },
    {
      "cell_type": "code",
      "source": [
        "print(s)\n",
        "del s['subjects']['maths']\n",
        "print(s)"
      ],
      "metadata": {
        "colab": {
          "base_uri": "https://localhost:8080/"
        },
        "id": "l4igC2XuR7mf",
        "outputId": "b19b0399-4ae3-437c-c8aa-a28294ca749c"
      },
      "execution_count": 47,
      "outputs": [
        {
          "output_type": "stream",
          "name": "stdout",
          "text": [
            "{'name': 'nitish', 'clg': 'iet', 'sem': 2, 'subjects': {'maths': 54, 'dsa': 65, 'english': 40, 'network': 80}}\n",
            "{'name': 'nitish', 'clg': 'iet', 'sem': 2, 'subjects': {'dsa': 65, 'english': 40, 'network': 80}}\n"
          ]
        }
      ]
    },
    {
      "cell_type": "markdown",
      "source": [
        "### Editing key-value pair\n",
        "\n",
        "```\n",
        "dictionary[exiting_key] = new_value\n",
        "```\n",
        "\n"
      ],
      "metadata": {
        "id": "iznkeYPHVXgB"
      }
    },
    {
      "cell_type": "code",
      "source": [
        "print(s)\n",
        "s['sem'] = 3\n",
        "print(s)\n",
        "\n",
        "s['subjects']['english'] = 70\n",
        "print(s)"
      ],
      "metadata": {
        "colab": {
          "base_uri": "https://localhost:8080/"
        },
        "id": "fXmKvfV1SSqw",
        "outputId": "7e95403b-90fa-4d86-81e1-e0517a3df8ef"
      },
      "execution_count": 52,
      "outputs": [
        {
          "output_type": "stream",
          "name": "stdout",
          "text": [
            "{'name': 'nitish', 'clg': 'iet', 'sem': 3, 'subjects': {'dsa': 65, 'english': 60, 'network': 80}}\n",
            "{'name': 'nitish', 'clg': 'iet', 'sem': 3, 'subjects': {'dsa': 65, 'english': 60, 'network': 80}}\n",
            "{'name': 'nitish', 'clg': 'iet', 'sem': 3, 'subjects': {'dsa': 65, 'english': 70, 'network': 80}}\n"
          ]
        }
      ]
    },
    {
      "cell_type": "markdown",
      "source": [
        "### Dictionary Operations\n",
        "\n",
        "- Membership\n",
        "- Iteration"
      ],
      "metadata": {
        "id": "w2bfg8R4XFaW"
      }
    },
    {
      "cell_type": "markdown",
      "source": [
        "In dictionary, everything works on keys."
      ],
      "metadata": {
        "id": "E8w7_W_VXPGY"
      }
    },
    {
      "cell_type": "code",
      "source": [
        "print(s)"
      ],
      "metadata": {
        "colab": {
          "base_uri": "https://localhost:8080/"
        },
        "id": "Ojfuj-MtVlQs",
        "outputId": "028ba4d0-a2c1-4c7c-ef1b-08fc14d1e697"
      },
      "execution_count": 53,
      "outputs": [
        {
          "output_type": "stream",
          "name": "stdout",
          "text": [
            "{'name': 'nitish', 'clg': 'iet', 'sem': 3, 'subjects': {'dsa': 65, 'english': 70, 'network': 80}}\n"
          ]
        }
      ]
    },
    {
      "cell_type": "code",
      "source": [
        "# membership - in/not in\n",
        "print('nitish' in s)   # checking if key 'nitish' is present in s\n",
        "print('name' in s)"
      ],
      "metadata": {
        "colab": {
          "base_uri": "https://localhost:8080/"
        },
        "id": "pp3ZNdB2XIdl",
        "outputId": "a2e1c520-78cc-4308-cb47-6aeada780c33"
      },
      "execution_count": 56,
      "outputs": [
        {
          "output_type": "stream",
          "name": "stdout",
          "text": [
            "False\n",
            "True\n"
          ]
        }
      ]
    },
    {
      "cell_type": "code",
      "source": [
        "# iteration / loop\n",
        "d = {'name':'nora','gender':'female','age':25}\n",
        "print(d)\n",
        "\n",
        "for i in d:\n",
        "  print(i)"
      ],
      "metadata": {
        "colab": {
          "base_uri": "https://localhost:8080/"
        },
        "id": "7pbaqjSVXXNo",
        "outputId": "1ab048b3-af64-4b16-fae3-ac88e2949590"
      },
      "execution_count": 57,
      "outputs": [
        {
          "output_type": "stream",
          "name": "stdout",
          "text": [
            "{'name': 'nora', 'gender': 'female', 'age': 25}\n",
            "name\n",
            "gender\n",
            "age\n"
          ]
        }
      ]
    },
    {
      "cell_type": "code",
      "source": [
        "for i in d:\n",
        "  print(i,d[i])"
      ],
      "metadata": {
        "colab": {
          "base_uri": "https://localhost:8080/"
        },
        "id": "OR4ifYttXhDS",
        "outputId": "52070793-da37-4660-bc59-87e093761243"
      },
      "execution_count": 58,
      "outputs": [
        {
          "output_type": "stream",
          "name": "stdout",
          "text": [
            "name nora\n",
            "gender female\n",
            "age 25\n"
          ]
        }
      ]
    },
    {
      "cell_type": "markdown",
      "source": [
        "### Dictionary Functions\n",
        "\n",
        "*   len,min,max,sorted\n",
        "*   items,keys,values\n",
        "*   update"
      ],
      "metadata": {
        "id": "SGC1SjYwYjkz"
      }
    },
    {
      "cell_type": "code",
      "source": [
        "# len,min,max,sorted\n",
        "d = {'name':'nora','gender':'female','age':25}\n",
        "print(d)\n",
        "\n",
        "print(len(d))    # no. of count key-values pairs\n",
        "print(max(d))\n",
        "print(min(d))\n",
        "print(sorted(d))\n",
        "print(sorted(d,reverse=True))"
      ],
      "metadata": {
        "colab": {
          "base_uri": "https://localhost:8080/"
        },
        "id": "OS7OvnZiZXT5",
        "outputId": "f186d70a-62ff-43ed-ab41-f0a9ac55cd14"
      },
      "execution_count": 59,
      "outputs": [
        {
          "output_type": "stream",
          "name": "stdout",
          "text": [
            "{'name': 'nora', 'gender': 'female', 'age': 25}\n",
            "3\n",
            "name\n",
            "age\n",
            "['age', 'gender', 'name']\n",
            "['name', 'gender', 'age']\n"
          ]
        }
      ]
    },
    {
      "cell_type": "code",
      "source": [
        "# items,keys,values\n",
        "d = {'name':'nora','gender':'female','age':25}\n",
        "print(d)\n",
        "\n",
        "print(d.items())\n",
        "print(d.keys())\n",
        "print(d.values())"
      ],
      "metadata": {
        "colab": {
          "base_uri": "https://localhost:8080/"
        },
        "id": "5XBYG_UtZcBe",
        "outputId": "84d1bc8b-4aba-4384-855e-eb27b544a23c"
      },
      "execution_count": 61,
      "outputs": [
        {
          "output_type": "stream",
          "name": "stdout",
          "text": [
            "{'name': 'nora', 'gender': 'female', 'age': 25}\n",
            "dict_items([('name', 'nora'), ('gender', 'female'), ('age', 25)])\n",
            "dict_keys(['name', 'gender', 'age'])\n",
            "dict_values(['nora', 'female', 25])\n"
          ]
        }
      ]
    },
    {
      "cell_type": "code",
      "source": [
        "# update\n",
        "a = {1:2,2:3,3:4}\n",
        "b = {3:7,4:5,5:6}\n",
        "a.update(b)\n",
        "print(a)"
      ],
      "metadata": {
        "colab": {
          "base_uri": "https://localhost:8080/"
        },
        "id": "-a37adyHZfX9",
        "outputId": "c06a146f-4d0c-4faa-e037-9fb3b38632b8"
      },
      "execution_count": 62,
      "outputs": [
        {
          "output_type": "stream",
          "name": "stdout",
          "text": [
            "{1: 2, 2: 3, 3: 7, 4: 5, 5: 6}\n"
          ]
        }
      ]
    },
    {
      "cell_type": "markdown",
      "source": [
        "### Dictionary Comprehension\n",
        "![image.png](data:image/png;base64,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)"
      ],
      "metadata": {
        "id": "_uW79RhPbvdU"
      }
    },
    {
      "cell_type": "code",
      "source": [
        "# print 1st 10 numbers and their squares\n",
        "{i:i**2 for i in range(1,11)}"
      ],
      "metadata": {
        "colab": {
          "base_uri": "https://localhost:8080/"
        },
        "id": "PK3vzRTKb06i",
        "outputId": "40b49680-521c-47d0-a217-cb260e4eafba"
      },
      "execution_count": 64,
      "outputs": [
        {
          "output_type": "execute_result",
          "data": {
            "text/plain": [
              "{1: 1, 2: 4, 3: 9, 4: 16, 5: 25, 6: 36, 7: 49, 8: 64, 9: 81, 10: 100}"
            ]
          },
          "metadata": {},
          "execution_count": 64
        }
      ]
    },
    {
      "cell_type": "code",
      "source": [
        "distances = {'delhi':1000,'mumbai':2000,'bangalore':3000}\n",
        "print(distances.items())\n",
        "\n",
        "# using existing dict -> convert distance km to mile\n",
        "{key:value*0.62 for (key,value) in distances.items()}"
      ],
      "metadata": {
        "colab": {
          "base_uri": "https://localhost:8080/"
        },
        "id": "TPKdf_o9b5VV",
        "outputId": "01e4c772-a488-4ba3-c6f4-9e1fb934a4be"
      },
      "execution_count": 68,
      "outputs": [
        {
          "output_type": "stream",
          "name": "stdout",
          "text": [
            "dict_items([('delhi', 1000), ('mumbai', 2000), ('bangalore', 3000)])\n"
          ]
        },
        {
          "output_type": "execute_result",
          "data": {
            "text/plain": [
              "{'delhi': 620.0, 'mumbai': 1240.0, 'bangalore': 1860.0}"
            ]
          },
          "metadata": {},
          "execution_count": 68
        }
      ]
    },
    {
      "cell_type": "code",
      "source": [
        "# using zip\n",
        "days = [\"Sunday\", \"Monday\",\"Tuesday\",\"Wednesday\",\"Thursday\",\"Friday\",\"Saturday\"]\n",
        "temp_C = [30.5,32.6,31.8,33.4,29.8,30.2,29.9]\n",
        "\n",
        "dict(zip(days,temp_C))"
      ],
      "metadata": {
        "colab": {
          "base_uri": "https://localhost:8080/"
        },
        "id": "7FAg2Wy_dQTo",
        "outputId": "292ac9f9-3ef9-4d2d-afbe-336fcf3c7f37"
      },
      "execution_count": 69,
      "outputs": [
        {
          "output_type": "execute_result",
          "data": {
            "text/plain": [
              "{'Sunday': 30.5,\n",
              " 'Monday': 32.6,\n",
              " 'Tuesday': 31.8,\n",
              " 'Wednesday': 33.4,\n",
              " 'Thursday': 29.8,\n",
              " 'Friday': 30.2,\n",
              " 'Saturday': 29.9}"
            ]
          },
          "metadata": {},
          "execution_count": 69
        }
      ]
    },
    {
      "cell_type": "code",
      "source": [
        "{i:j for (i,j) in zip(days,temp_C)}"
      ],
      "metadata": {
        "colab": {
          "base_uri": "https://localhost:8080/"
        },
        "id": "kZraHpPxdp6p",
        "outputId": "dc489ddc-55ba-4ff2-ec9f-8ad753629e51"
      },
      "execution_count": 70,
      "outputs": [
        {
          "output_type": "execute_result",
          "data": {
            "text/plain": [
              "{'Sunday': 30.5,\n",
              " 'Monday': 32.6,\n",
              " 'Tuesday': 31.8,\n",
              " 'Wednesday': 33.4,\n",
              " 'Thursday': 29.8,\n",
              " 'Friday': 30.2,\n",
              " 'Saturday': 29.9}"
            ]
          },
          "metadata": {},
          "execution_count": 70
        }
      ]
    },
    {
      "cell_type": "code",
      "source": [
        "# using if condition - product stock is not zero\n",
        "products = {'phone':10,'laptop':0,'charger':32,'tablet':0}\n",
        "\n",
        "{key:value for (key,value) in products.items() if value!=0}"
      ],
      "metadata": {
        "colab": {
          "base_uri": "https://localhost:8080/"
        },
        "id": "4bUT3_EVeFDU",
        "outputId": "5fc67efb-3a16-4337-9dbf-5f0688e5b4b9"
      },
      "execution_count": 72,
      "outputs": [
        {
          "output_type": "execute_result",
          "data": {
            "text/plain": [
              "{'phone': 10, 'charger': 32}"
            ]
          },
          "metadata": {},
          "execution_count": 72
        }
      ]
    },
    {
      "cell_type": "code",
      "source": [
        "# Nested Comprehension\n",
        "# print tables of number from 2 to 4\n",
        "\n",
        "{i:{j*i for j in range(1,11)} for i in range(2,5)}"
      ],
      "metadata": {
        "colab": {
          "base_uri": "https://localhost:8080/"
        },
        "id": "FQh3yol2ehwG",
        "outputId": "77a0ba23-7ed8-4e7c-9720-0c85932b3b61"
      },
      "execution_count": 80,
      "outputs": [
        {
          "output_type": "execute_result",
          "data": {
            "text/plain": [
              "{2: {2, 4, 6, 8, 10, 12, 14, 16, 18, 20},\n",
              " 3: {3, 6, 9, 12, 15, 18, 21, 24, 27, 30},\n",
              " 4: {4, 8, 12, 16, 20, 24, 28, 32, 36, 40}}"
            ]
          },
          "metadata": {},
          "execution_count": 80
        }
      ]
    },
    {
      "cell_type": "code",
      "source": [
        "{i:{j:j*i for j in range(1,11)} for i in range(2,5)}"
      ],
      "metadata": {
        "colab": {
          "base_uri": "https://localhost:8080/"
        },
        "id": "y06ewzghgQiC",
        "outputId": "292dad0c-caf9-446d-c30f-28d0c8cd30b8"
      },
      "execution_count": 81,
      "outputs": [
        {
          "output_type": "execute_result",
          "data": {
            "text/plain": [
              "{2: {1: 2, 2: 4, 3: 6, 4: 8, 5: 10, 6: 12, 7: 14, 8: 16, 9: 18, 10: 20},\n",
              " 3: {1: 3, 2: 6, 3: 9, 4: 12, 5: 15, 6: 18, 7: 21, 8: 24, 9: 27, 10: 30},\n",
              " 4: {1: 4, 2: 8, 3: 12, 4: 16, 5: 20, 6: 24, 7: 28, 8: 32, 9: 36, 10: 40}}"
            ]
          },
          "metadata": {},
          "execution_count": 81
        }
      ]
    }
  ]
}