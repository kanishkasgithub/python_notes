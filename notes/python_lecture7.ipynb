{
  "nbformat": 4,
  "nbformat_minor": 0,
  "metadata": {
    "colab": {
      "provenance": []
    },
    "kernelspec": {
      "name": "python3",
      "display_name": "Python 3"
    },
    "language_info": {
      "name": "python"
    }
  },
  "cells": [
    {
      "cell_type": "markdown",
      "source": [
        "Topics covered:\n",
        "\n",
        "*   OOP -> Object Oriented Programming\n",
        "\n"
      ],
      "metadata": {
        "id": "3rHuInEVu3P9"
      }
    },
    {
      "cell_type": "markdown",
      "source": [
        "# Object Oriented Programming"
      ],
      "metadata": {
        "id": "j-PQgGRFzWAe"
      }
    },
    {
      "cell_type": "code",
      "source": [
        "L = [1,2,3]\n",
        "L.upper()"
      ],
      "metadata": {
        "colab": {
          "base_uri": "https://localhost:8080/",
          "height": 159
        },
        "id": "EW2No8twwR9c",
        "outputId": "235b02d6-f89f-42c9-e8b4-fa36058f48b2"
      },
      "execution_count": 1,
      "outputs": [
        {
          "output_type": "error",
          "ename": "AttributeError",
          "evalue": "'list' object has no attribute 'upper'",
          "traceback": [
            "\u001b[0;31m---------------------------------------------------------------------------\u001b[0m",
            "\u001b[0;31mAttributeError\u001b[0m                            Traceback (most recent call last)",
            "\u001b[0;32m<ipython-input-1-9fa8b0af59ef>\u001b[0m in \u001b[0;36m<cell line: 2>\u001b[0;34m()\u001b[0m\n\u001b[1;32m      1\u001b[0m \u001b[0mL\u001b[0m \u001b[0;34m=\u001b[0m \u001b[0;34m[\u001b[0m\u001b[0;36m1\u001b[0m\u001b[0;34m,\u001b[0m\u001b[0;36m2\u001b[0m\u001b[0;34m,\u001b[0m\u001b[0;36m3\u001b[0m\u001b[0;34m]\u001b[0m\u001b[0;34m\u001b[0m\u001b[0;34m\u001b[0m\u001b[0m\n\u001b[0;32m----> 2\u001b[0;31m \u001b[0mL\u001b[0m\u001b[0;34m.\u001b[0m\u001b[0mupper\u001b[0m\u001b[0;34m(\u001b[0m\u001b[0;34m)\u001b[0m\u001b[0;34m\u001b[0m\u001b[0;34m\u001b[0m\u001b[0m\n\u001b[0m",
            "\u001b[0;31mAttributeError\u001b[0m: 'list' object has no attribute 'upper'"
          ]
        }
      ]
    },
    {
      "cell_type": "code",
      "source": [
        "s = 'hello'\n",
        "s.append('k')"
      ],
      "metadata": {
        "colab": {
          "base_uri": "https://localhost:8080/",
          "height": 159
        },
        "id": "1yT5vhhawaWL",
        "outputId": "373613c4-e24b-433a-93d1-a3ba02adcabe"
      },
      "execution_count": 2,
      "outputs": [
        {
          "output_type": "error",
          "ename": "AttributeError",
          "evalue": "'str' object has no attribute 'append'",
          "traceback": [
            "\u001b[0;31m---------------------------------------------------------------------------\u001b[0m",
            "\u001b[0;31mAttributeError\u001b[0m                            Traceback (most recent call last)",
            "\u001b[0;32m<ipython-input-2-060d6217723e>\u001b[0m in \u001b[0;36m<cell line: 2>\u001b[0;34m()\u001b[0m\n\u001b[1;32m      1\u001b[0m \u001b[0ms\u001b[0m \u001b[0;34m=\u001b[0m \u001b[0;34m'hello'\u001b[0m\u001b[0;34m\u001b[0m\u001b[0;34m\u001b[0m\u001b[0m\n\u001b[0;32m----> 2\u001b[0;31m \u001b[0ms\u001b[0m\u001b[0;34m.\u001b[0m\u001b[0mappend\u001b[0m\u001b[0;34m(\u001b[0m\u001b[0;34m'k'\u001b[0m\u001b[0;34m)\u001b[0m\u001b[0;34m\u001b[0m\u001b[0;34m\u001b[0m\u001b[0m\n\u001b[0m",
            "\u001b[0;31mAttributeError\u001b[0m: 'str' object has no attribute 'append'"
          ]
        }
      ]
    },
    {
      "cell_type": "markdown",
      "source": [
        "Everything in Python is an **object**.\n",
        "\n",
        "OOP allows **generality to specificity**. Specific for particular application and uses/creates datatype as per application."
      ],
      "metadata": {
        "id": "8uZ28p5azRXd"
      }
    },
    {
      "cell_type": "markdown",
      "source": [
        "The main benefit of OOP is - It allows programmer to create their own datatypes."
      ],
      "metadata": {
        "id": "nNyOjSSHzfAB"
      }
    },
    {
      "cell_type": "markdown",
      "source": [
        "**OOP Principles:**\n",
        "\n",
        "*   Class\n",
        "-   Object\n",
        "*   Encapsulation\n",
        "-   Polymorphism\n",
        "-   Abstraction\n",
        "-   Inheritance"
      ],
      "metadata": {
        "id": "skeM8QEU0TuY"
      }
    },
    {
      "cell_type": "markdown",
      "source": [
        "### Class"
      ],
      "metadata": {
        "id": "-zX2YX9Z5Srx"
      }
    },
    {
      "cell_type": "markdown",
      "source": [
        "Class is a blueprint. Set of rules which its object follows."
      ],
      "metadata": {
        "id": "k-l5XZW85csR"
      }
    },
    {
      "cell_type": "code",
      "source": [
        "L = [1,2,3]\n",
        "print(type(L))"
      ],
      "metadata": {
        "colab": {
          "base_uri": "https://localhost:8080/"
        },
        "id": "k13uIy315VuO",
        "outputId": "e114883d-b3fa-4ad1-c2e2-a084664bcdcd"
      },
      "execution_count": 3,
      "outputs": [
        {
          "output_type": "stream",
          "name": "stdout",
          "text": [
            "<class 'list'>\n"
          ]
        }
      ]
    },
    {
      "cell_type": "code",
      "source": [
        "L.upper()"
      ],
      "metadata": {
        "colab": {
          "base_uri": "https://localhost:8080/",
          "height": 141
        },
        "id": "ggFrF2Fd5nwm",
        "outputId": "8a327252-2798-4334-9af1-bfcaaa24f16e"
      },
      "execution_count": 4,
      "outputs": [
        {
          "output_type": "error",
          "ename": "AttributeError",
          "evalue": "'list' object has no attribute 'upper'",
          "traceback": [
            "\u001b[0;31m---------------------------------------------------------------------------\u001b[0m",
            "\u001b[0;31mAttributeError\u001b[0m                            Traceback (most recent call last)",
            "\u001b[0;32m<ipython-input-4-23af83e72fe0>\u001b[0m in \u001b[0;36m<cell line: 1>\u001b[0;34m()\u001b[0m\n\u001b[0;32m----> 1\u001b[0;31m \u001b[0mL\u001b[0m\u001b[0;34m.\u001b[0m\u001b[0mupper\u001b[0m\u001b[0;34m(\u001b[0m\u001b[0;34m)\u001b[0m\u001b[0;34m\u001b[0m\u001b[0;34m\u001b[0m\u001b[0m\n\u001b[0m",
            "\u001b[0;31mAttributeError\u001b[0m: 'list' object has no attribute 'upper'"
          ]
        }
      ]
    },
    {
      "cell_type": "markdown",
      "source": [
        "Every datatype in python is class and when we create variable of that datatype, we create object of that class."
      ],
      "metadata": {
        "id": "rPyOmdMd5rgY"
      }
    },
    {
      "cell_type": "markdown",
      "source": [
        "Class contains:\n",
        "\n",
        "*   Attribute - Data or property\n",
        "-   Functions - methods or behavior"
      ],
      "metadata": {
        "id": "chJ888V56BVH"
      }
    },
    {
      "cell_type": "markdown",
      "source": [
        "### Object"
      ],
      "metadata": {
        "id": "RtHunfrM52IR"
      }
    },
    {
      "cell_type": "markdown",
      "source": [
        "Object is an instance of a class.\n",
        "```\n",
        "#syntax to create object\n",
        "objectname = classname()\n",
        "```"
      ],
      "metadata": {
        "id": "yBkg-CIP7BY9"
      }
    },
    {
      "cell_type": "code",
      "source": [
        "# object literal\n",
        "L = [1,2,3]\n",
        "L"
      ],
      "metadata": {
        "colab": {
          "base_uri": "https://localhost:8080/"
        },
        "id": "ff6h0dTL7XP9",
        "outputId": "a787556c-73fb-4570-e412-15de50bae8c0"
      },
      "execution_count": 5,
      "outputs": [
        {
          "output_type": "execute_result",
          "data": {
            "text/plain": [
              "[1, 2, 3]"
            ]
          },
          "metadata": {},
          "execution_count": 5
        }
      ]
    },
    {
      "cell_type": "code",
      "source": [
        "L = list()\n",
        "L"
      ],
      "metadata": {
        "colab": {
          "base_uri": "https://localhost:8080/"
        },
        "id": "0FBSgw9U7jR-",
        "outputId": "ed31fc1c-bdaa-4b0d-81a9-105f5207f141"
      },
      "execution_count": 6,
      "outputs": [
        {
          "output_type": "execute_result",
          "data": {
            "text/plain": [
              "[]"
            ]
          },
          "metadata": {},
          "execution_count": 6
        }
      ]
    },
    {
      "cell_type": "code",
      "source": [
        "s = str()\n",
        "s"
      ],
      "metadata": {
        "colab": {
          "base_uri": "https://localhost:8080/",
          "height": 35
        },
        "id": "tiRgH8Fb7lxX",
        "outputId": "62392dc2-9788-4f54-aca1-0b6411238bcc"
      },
      "execution_count": 7,
      "outputs": [
        {
          "output_type": "execute_result",
          "data": {
            "text/plain": [
              "''"
            ],
            "application/vnd.google.colaboratory.intrinsic+json": {
              "type": "string"
            }
          },
          "metadata": {},
          "execution_count": 7
        }
      ]
    },
    {
      "cell_type": "code",
      "source": [
        "# Pascal case - use for class name\n",
        "\n",
        "# HelloWorld\n",
        "# MyAtm\n",
        "# MyFirstClass"
      ],
      "metadata": {
        "id": "Qxgp7hCyEO5T"
      },
      "execution_count": null,
      "outputs": []
    },
    {
      "cell_type": "markdown",
      "source": [
        "Types of classes:\n",
        "\n",
        "*   Built-in class - all datatype classes\n",
        "*   User-defined class"
      ],
      "metadata": {
        "id": "amt4WW2_Fx-q"
      }
    },
    {
      "cell_type": "code",
      "source": [
        "class Atm:\n",
        "\n",
        "  # constructor\n",
        "  def __init__(self):\n",
        "    self.pin = ''\n",
        "    self.balance = 0"
      ],
      "metadata": {
        "id": "tzVujIeLF5Gl"
      },
      "execution_count": 8,
      "outputs": []
    },
    {
      "cell_type": "code",
      "source": [
        "obj = Atm()"
      ],
      "metadata": {
        "id": "8wcItVlwGGM8"
      },
      "execution_count": 9,
      "outputs": []
    },
    {
      "cell_type": "code",
      "source": [
        "print(type(obj))"
      ],
      "metadata": {
        "colab": {
          "base_uri": "https://localhost:8080/"
        },
        "id": "g6SseaNqGIE6",
        "outputId": "4bb75ef9-7238-4b5c-aefb-89b5f2edbbd8"
      },
      "execution_count": 11,
      "outputs": [
        {
          "output_type": "stream",
          "name": "stdout",
          "text": [
            "<class '__main__.Atm'>\n"
          ]
        }
      ]
    },
    {
      "cell_type": "code",
      "source": [
        "obj.pin"
      ],
      "metadata": {
        "colab": {
          "base_uri": "https://localhost:8080/",
          "height": 35
        },
        "id": "63Mzu8OnGJsh",
        "outputId": "0276eb13-a3af-4440-83ea-d669241877c7"
      },
      "execution_count": 13,
      "outputs": [
        {
          "output_type": "execute_result",
          "data": {
            "text/plain": [
              "''"
            ],
            "application/vnd.google.colaboratory.intrinsic+json": {
              "type": "string"
            }
          },
          "metadata": {},
          "execution_count": 13
        }
      ]
    },
    {
      "cell_type": "code",
      "source": [
        "# Atm class\n",
        "class Atm:\n",
        "\n",
        "  # constructor - special method\n",
        "  def __init__(self):\n",
        "    self.pin = ''\n",
        "    self.balance = 0\n",
        "    self.menu()\n",
        "\n",
        "  # menu - to display all options\n",
        "  def menu(self):\n",
        "    user_input = input(\"\"\"\n",
        "    Hi how can I help you?\n",
        "    1. Press 1 to create pin\n",
        "    2. Press 2 to change pin\n",
        "    3. Press 3 to check balance\n",
        "    4. Press 4 to withdraw\n",
        "    5. Press anything else to exit\n",
        "    \"\"\")\n",
        "\n",
        "    if user_input == '1':\n",
        "      self.create_pin()\n",
        "    elif user_input == '2':\n",
        "      self.change_pin()\n",
        "    elif user_input == '3':\n",
        "      self.check_balance()\n",
        "    elif user_input == '4':\n",
        "      self.withdraw()\n",
        "    else:\n",
        "      # exit\n",
        "      pass\n",
        "\n",
        "  # create_pin -> to create pin\n",
        "  def create_pin(self):\n",
        "    user_pin = input('Enter your pin: ')\n",
        "    self.pin = user_pin\n",
        "\n",
        "    user_balance = int(input('Enter your balance: '))\n",
        "    self.balance = user_balance\n",
        "    print('Pin created successfully')\n",
        "    self.menu()\n",
        "\n",
        "  # change_pin -> to update pin\n",
        "  def change_pin(self):\n",
        "    old_pin = input('Enter old pin: ')\n",
        "    if old_pin == self.pin:\n",
        "      new_pin = input('Enter new pin: ')\n",
        "      self.pin = new_pin\n",
        "      print('Pin changed successfully')\n",
        "    else:\n",
        "      print('Invalid pin')\n",
        "    self.menu()\n",
        "\n",
        "  # check_balance -> to check balance\n",
        "  def check_balance(self):\n",
        "    user_pin = input('Enter your pin: ')\n",
        "    if user_pin == self.pin:\n",
        "      print('Your balance:',self.balance)\n",
        "    else:\n",
        "      print('Invalid pin')\n",
        "    self.menu()\n",
        "\n",
        "  # withdraw -> to withdraw amount\n",
        "  def withdraw(self):\n",
        "    user_pin = input('Enter your pin: ')\n",
        "    if user_pin == self.pin:\n",
        "      amount = int(input('Enter amount to withdraw: '))\n",
        "      if amount <= self.balance:\n",
        "        self.balance -= amount\n",
        "        print('Amount withdrawn successfully')\n",
        "      else:\n",
        "        print('Insufficient balance')\n",
        "    else:\n",
        "      print('Invalid pin')\n",
        "    self.menu()"
      ],
      "metadata": {
        "id": "IGyg_6RWGOav"
      },
      "execution_count": 26,
      "outputs": []
    },
    {
      "cell_type": "code",
      "source": [
        "obj = Atm()"
      ],
      "metadata": {
        "colab": {
          "base_uri": "https://localhost:8080/"
        },
        "id": "-1iqWnvkKxww",
        "outputId": "ac660e15-9ecc-49e1-d7c0-f8bad0648351"
      },
      "execution_count": 27,
      "outputs": [
        {
          "name": "stdout",
          "output_type": "stream",
          "text": [
            "\n",
            "    Hi how can I help you?\n",
            "    1. Press 1 to create pin\n",
            "    2. Press 2 to change pin\n",
            "    3. Press 3 to check balance\n",
            "    4. Press 4 to withdraw\n",
            "    5. Press anything else to exit\n",
            "    1\n",
            "Enter your pin: 1234\n",
            "Enter your balance: 10000\n",
            "Pin created successfully\n",
            "\n",
            "    Hi how can I help you?\n",
            "    1. Press 1 to create pin\n",
            "    2. Press 2 to change pin\n",
            "    3. Press 3 to check balance\n",
            "    4. Press 4 to withdraw\n",
            "    5. Press anything else to exit\n",
            "    2\n",
            "Enter old pin: 3245\n",
            "Invalid pin\n",
            "\n",
            "    Hi how can I help you?\n",
            "    1. Press 1 to create pin\n",
            "    2. Press 2 to change pin\n",
            "    3. Press 3 to check balance\n",
            "    4. Press 4 to withdraw\n",
            "    5. Press anything else to exit\n",
            "    2\n",
            "Enter old pin: 1234\n",
            "Enter new pin: 4567\n",
            "Pin changed successfully\n",
            "\n",
            "    Hi how can I help you?\n",
            "    1. Press 1 to create pin\n",
            "    2. Press 2 to change pin\n",
            "    3. Press 3 to check balance\n",
            "    4. Press 4 to withdraw\n",
            "    5. Press anything else to exit\n",
            "    3\n",
            "Enter your pin: 4567\n",
            "Your balance: 10000\n",
            "\n",
            "    Hi how can I help you?\n",
            "    1. Press 1 to create pin\n",
            "    2. Press 2 to change pin\n",
            "    3. Press 3 to check balance\n",
            "    4. Press 4 to withdraw\n",
            "    5. Press anything else to exit\n",
            "    4\n",
            "Enter your pin: 4567\n",
            "Enter amount to withdraw: 15000\n",
            "Insufficient balance\n",
            "\n",
            "    Hi how can I help you?\n",
            "    1. Press 1 to create pin\n",
            "    2. Press 2 to change pin\n",
            "    3. Press 3 to check balance\n",
            "    4. Press 4 to withdraw\n",
            "    5. Press anything else to exit\n",
            "    4\n",
            "Enter your pin: 4567\n",
            "Enter amount to withdraw: 8000\n",
            "Amount withdrawn successfully\n",
            "\n",
            "    Hi how can I help you?\n",
            "    1. Press 1 to create pin\n",
            "    2. Press 2 to change pin\n",
            "    3. Press 3 to check balance\n",
            "    4. Press 4 to withdraw\n",
            "    5. Press anything else to exit\n",
            "    3\n",
            "Enter your pin: 4567\n",
            "Your balance: 2000\n",
            "\n",
            "    Hi how can I help you?\n",
            "    1. Press 1 to create pin\n",
            "    2. Press 2 to change pin\n",
            "    3. Press 3 to check balance\n",
            "    4. Press 4 to withdraw\n",
            "    5. Press anything else to exit\n",
            "    9\n"
          ]
        }
      ]
    },
    {
      "cell_type": "markdown",
      "source": [
        "#### Methods vs Functions\n",
        "\n",
        "*   Methods -> function inside class\n",
        "*   Functions -> function outside class"
      ],
      "metadata": {
        "id": "vVxv8qF5uucJ"
      }
    },
    {
      "cell_type": "code",
      "source": [
        "L = [1,2,3,4,5]\n",
        "len(L)        # function (len) -> because it is outside list class\n",
        "L.append(6)   # method (append) -> because it is inside list class"
      ],
      "metadata": {
        "id": "FLOjSIBWKy1H"
      },
      "execution_count": null,
      "outputs": []
    },
    {
      "cell_type": "markdown",
      "source": [
        "#### Class diagram\n",
        "\n",
        "'+' is for public attributes/methods -> visible outside class<br>\n",
        "'-' is for private attributes/methods -> not visible outside class"
      ],
      "metadata": {
        "id": "_44Tr-cfwpOd"
      }
    },
    {
      "cell_type": "markdown",
      "source": [
        "![image.png](data:image/png;base64,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)"
      ],
      "metadata": {
        "id": "KHNjfD22wqUL"
      }
    },
    {
      "cell_type": "markdown",
      "source": [
        "### Magic methods aka Dunder methods"
      ],
      "metadata": {
        "id": "kXZb0YZQz_iq"
      }
    },
    {
      "cell_type": "markdown",
      "source": [
        "Magic methods are special methods which has some superpower.\n",
        "\n",
        "There are more than 100 magic methods.\n",
        "\n",
        "```\n",
        "#syntax for magic method:\n",
        "__methodname__()\n",
        "```\n",
        "\n"
      ],
      "metadata": {
        "id": "NI3SrCpB3CV_"
      }
    },
    {
      "cell_type": "markdown",
      "source": [
        "#### 1. Constructor"
      ],
      "metadata": {
        "id": "eG_OdaIh3fSg"
      }
    },
    {
      "cell_type": "markdown",
      "source": [
        "Constructor is a special method that is called when an object is created. No need to call it explicitly.\n",
        "\n",
        "```\n",
        "__init__()\n",
        "```\n",
        "\n",
        "\n",
        "\n",
        "It is used to initialize the object's properties and perform any necessary setup/configuration related codes. -> where no need to rely on users.\n",
        "\n",
        "*   Cannot rename constructor.\n",
        "*   Only one constructor is possible in a class.\n",
        "\n"
      ],
      "metadata": {
        "id": "Lh1w7DV73jHG"
      }
    },
    {
      "cell_type": "code",
      "source": [
        "class Temp:\n",
        "  def __init__(self):\n",
        "    print(\"Constructor called\")"
      ],
      "metadata": {
        "id": "Essx773n43tr"
      },
      "execution_count": 1,
      "outputs": []
    },
    {
      "cell_type": "code",
      "source": [
        "obj = Temp()"
      ],
      "metadata": {
        "colab": {
          "base_uri": "https://localhost:8080/"
        },
        "id": "rlRwBPpt47Lu",
        "outputId": "f915610c-fda4-4d0a-e821-317c9aeaa9b5"
      },
      "execution_count": 2,
      "outputs": [
        {
          "output_type": "stream",
          "name": "stdout",
          "text": [
            "Constructor called\n"
          ]
        }
      ]
    },
    {
      "cell_type": "markdown",
      "source": [
        "### Self\n",
        "\n",
        "Self is current object. (the object itself).\n",
        "We can name it as per our use.\n",
        "\n",
        "**Why we need Self?**\n",
        "\n",
        "OOP golden rule is ONLY object can access or communicate with attributes and class methods.\n",
        "\n",
        "To establish the communication between different methods or method with attributes in class, we need object of class inside the class. That's why we are using Self."
      ],
      "metadata": {
        "id": "sESss7cX9zTc"
      }
    },
    {
      "cell_type": "code",
      "source": [
        "class Demo:\n",
        "\n",
        "  def __init__(self):\n",
        "    print(id(self))\n",
        "\n",
        "  def m():  # method is not receiving self  -> # def m(self)\n",
        "    print('Inside method m')"
      ],
      "metadata": {
        "id": "9dkCk_kE48bH"
      },
      "execution_count": 3,
      "outputs": []
    },
    {
      "cell_type": "code",
      "source": [
        "obj = Demo()"
      ],
      "metadata": {
        "colab": {
          "base_uri": "https://localhost:8080/"
        },
        "id": "Sy6ogwqF6UbP",
        "outputId": "70775870-c54d-4015-f1c1-93e40d5520b9"
      },
      "execution_count": 4,
      "outputs": [
        {
          "output_type": "stream",
          "name": "stdout",
          "text": [
            "135595425072080\n"
          ]
        }
      ]
    },
    {
      "cell_type": "code",
      "source": [
        "print(id(obj))"
      ],
      "metadata": {
        "colab": {
          "base_uri": "https://localhost:8080/"
        },
        "id": "SuYDzU3N-XA6",
        "outputId": "0ade6bf7-2c1c-41a4-858e-ae4e02b8f30f"
      },
      "execution_count": 5,
      "outputs": [
        {
          "output_type": "stream",
          "name": "stdout",
          "text": [
            "135595425072080\n"
          ]
        }
      ]
    },
    {
      "cell_type": "code",
      "source": [
        "obj.m()  # obj is given as argument in m but method is not receiving it"
      ],
      "metadata": {
        "colab": {
          "base_uri": "https://localhost:8080/",
          "height": 141
        },
        "id": "zL8xLDF6-Y8H",
        "outputId": "0ba0ccad-7c9a-4c90-c91b-a9bbaaf9b15c"
      },
      "execution_count": 6,
      "outputs": [
        {
          "output_type": "error",
          "ename": "TypeError",
          "evalue": "Demo.m() takes 0 positional arguments but 1 was given",
          "traceback": [
            "\u001b[0;31m---------------------------------------------------------------------------\u001b[0m",
            "\u001b[0;31mTypeError\u001b[0m                                 Traceback (most recent call last)",
            "\u001b[0;32m<ipython-input-6-a4a6ee299ecc>\u001b[0m in \u001b[0;36m<cell line: 1>\u001b[0;34m()\u001b[0m\n\u001b[0;32m----> 1\u001b[0;31m \u001b[0mobj\u001b[0m\u001b[0;34m.\u001b[0m\u001b[0mm\u001b[0m\u001b[0;34m(\u001b[0m\u001b[0;34m)\u001b[0m\u001b[0;34m\u001b[0m\u001b[0;34m\u001b[0m\u001b[0m\n\u001b[0m",
            "\u001b[0;31mTypeError\u001b[0m: Demo.m() takes 0 positional arguments but 1 was given"
          ]
        }
      ]
    },
    {
      "cell_type": "markdown",
      "source": [
        "**Creating class for Fraction datatype**"
      ],
      "metadata": {
        "id": "o-hZZcVzTORY"
      }
    },
    {
      "cell_type": "code",
      "source": [
        "class Fraction:\n",
        "\n",
        "  # parameterized constructor - which needs arguments while creating class object\n",
        "  def __init__(self,x,y):\n",
        "    self.num = x\n",
        "    self.den = y\n",
        "\n",
        "  # __str__ special method - when we print object this method will trigger -> code here how to represent object\n",
        "  def __str__(self):\n",
        "    return '{}/{}'.format(self.num,self.den)\n",
        "\n",
        "  # __add__ - special method - triggers when gets + operand between two objects\n",
        "  def __add__(self,other):\n",
        "    new_num = self.num*other.den + self.den*other.num\n",
        "    new_den = self.den*other.den\n",
        "    return '{}/{}'.format(new_num,new_den)\n",
        "\n",
        "   # __sub__ - special method - triggers when gets - operand between two objects\n",
        "  def __sub__(self,other):\n",
        "    new_num = self.num*other.den - self.den*other.num\n",
        "    new_den = self.den*other.den\n",
        "    return '{}/{}'.format(new_num,new_den)\n",
        "\n",
        "  # __mul__ - special method - triggers when gets * operand between two objects\n",
        "  def __mul__(self,other):\n",
        "    new_num = self.num*other.num\n",
        "    new_den = self.den*other.den\n",
        "    return '{}/{}'.format(new_num,new_den)\n",
        "\n",
        "  # __truediv__ - special method - triggers when gets / operand between two objects\n",
        "  def __truediv__(self,other):\n",
        "    new_num = self.num*other.den\n",
        "    new_den = self.den*other.num\n",
        "    return '{}/{}'.format(new_num,new_den)\n",
        "\n",
        "  def convert_to_decimal(self):\n",
        "    return self.num/self.den"
      ],
      "metadata": {
        "id": "TiWL7bG9Y7Qd"
      },
      "execution_count": 31,
      "outputs": []
    },
    {
      "cell_type": "code",
      "source": [
        "fr1 = Fraction()"
      ],
      "metadata": {
        "colab": {
          "base_uri": "https://localhost:8080/",
          "height": 141
        },
        "id": "gdxK0YJ8TYoK",
        "outputId": "cf0d73db-809e-4ab1-adc8-148190cbe555"
      },
      "execution_count": 16,
      "outputs": [
        {
          "output_type": "error",
          "ename": "TypeError",
          "evalue": "Fraction.__init__() missing 2 required positional arguments: 'x' and 'y'",
          "traceback": [
            "\u001b[0;31m---------------------------------------------------------------------------\u001b[0m",
            "\u001b[0;31mTypeError\u001b[0m                                 Traceback (most recent call last)",
            "\u001b[0;32m<ipython-input-16-125751ce5329>\u001b[0m in \u001b[0;36m<cell line: 1>\u001b[0;34m()\u001b[0m\n\u001b[0;32m----> 1\u001b[0;31m \u001b[0mfr1\u001b[0m \u001b[0;34m=\u001b[0m \u001b[0mFraction\u001b[0m\u001b[0;34m(\u001b[0m\u001b[0;34m)\u001b[0m\u001b[0;34m\u001b[0m\u001b[0;34m\u001b[0m\u001b[0m\n\u001b[0m",
            "\u001b[0;31mTypeError\u001b[0m: Fraction.__init__() missing 2 required positional arguments: 'x' and 'y'"
          ]
        }
      ]
    },
    {
      "cell_type": "code",
      "source": [
        "fr1 = Fraction(1,2)"
      ],
      "metadata": {
        "id": "uGpfkKBPTas9"
      },
      "execution_count": 25,
      "outputs": []
    },
    {
      "cell_type": "code",
      "source": [
        "print(fr1)   # without __str__"
      ],
      "metadata": {
        "colab": {
          "base_uri": "https://localhost:8080/"
        },
        "id": "UpLFlabCTfcM",
        "outputId": "4fe40f7e-150f-482b-a76c-e39ca3bde0c5"
      },
      "execution_count": 23,
      "outputs": [
        {
          "output_type": "stream",
          "name": "stdout",
          "text": [
            "<__main__.Fraction object at 0x7b52c51d08b0>\n"
          ]
        }
      ]
    },
    {
      "cell_type": "code",
      "source": [
        "print(fr1) # after adding __str__ in Fraction class"
      ],
      "metadata": {
        "colab": {
          "base_uri": "https://localhost:8080/"
        },
        "id": "Dyd3mLTUTg4v",
        "outputId": "af99b6f4-9b80-4396-f030-e282bbe8bc6a"
      },
      "execution_count": 26,
      "outputs": [
        {
          "output_type": "stream",
          "name": "stdout",
          "text": [
            "1/2\n"
          ]
        }
      ]
    },
    {
      "cell_type": "code",
      "source": [
        "fr1 = Fraction(3,4)\n",
        "fr2 = Fraction(1,2)"
      ],
      "metadata": {
        "id": "TvzQYf6eZqlV"
      },
      "execution_count": 32,
      "outputs": []
    },
    {
      "cell_type": "code",
      "source": [
        "print(fr1+fr2)   # before adding __add__ in class"
      ],
      "metadata": {
        "colab": {
          "base_uri": "https://localhost:8080/",
          "height": 141
        },
        "id": "Y7bhjinDaFQO",
        "outputId": "96680b29-0960-4b6f-da9b-c38c5f7c85c3"
      },
      "execution_count": 29,
      "outputs": [
        {
          "output_type": "error",
          "ename": "TypeError",
          "evalue": "unsupported operand type(s) for +: 'Fraction' and 'Fraction'",
          "traceback": [
            "\u001b[0;31m---------------------------------------------------------------------------\u001b[0m",
            "\u001b[0;31mTypeError\u001b[0m                                 Traceback (most recent call last)",
            "\u001b[0;32m<ipython-input-29-fa257b8abd78>\u001b[0m in \u001b[0;36m<cell line: 1>\u001b[0;34m()\u001b[0m\n\u001b[0;32m----> 1\u001b[0;31m \u001b[0mprint\u001b[0m\u001b[0;34m(\u001b[0m\u001b[0mfr1\u001b[0m\u001b[0;34m+\u001b[0m\u001b[0mfr2\u001b[0m\u001b[0;34m)\u001b[0m\u001b[0;34m\u001b[0m\u001b[0;34m\u001b[0m\u001b[0m\n\u001b[0m",
            "\u001b[0;31mTypeError\u001b[0m: unsupported operand type(s) for +: 'Fraction' and 'Fraction'"
          ]
        }
      ]
    },
    {
      "cell_type": "code",
      "source": [
        "s1 = {1,2,3}\n",
        "s2 = {4,5,6}\n",
        "s1+s2"
      ],
      "metadata": {
        "colab": {
          "base_uri": "https://localhost:8080/",
          "height": 176
        },
        "id": "34NS3P4NaGyE",
        "outputId": "442661e3-b34e-42fa-9751-65f243668f78"
      },
      "execution_count": 30,
      "outputs": [
        {
          "output_type": "error",
          "ename": "TypeError",
          "evalue": "unsupported operand type(s) for +: 'set' and 'set'",
          "traceback": [
            "\u001b[0;31m---------------------------------------------------------------------------\u001b[0m",
            "\u001b[0;31mTypeError\u001b[0m                                 Traceback (most recent call last)",
            "\u001b[0;32m<ipython-input-30-632161dbd90b>\u001b[0m in \u001b[0;36m<cell line: 3>\u001b[0;34m()\u001b[0m\n\u001b[1;32m      1\u001b[0m \u001b[0ms1\u001b[0m \u001b[0;34m=\u001b[0m \u001b[0;34m{\u001b[0m\u001b[0;36m1\u001b[0m\u001b[0;34m,\u001b[0m\u001b[0;36m2\u001b[0m\u001b[0;34m,\u001b[0m\u001b[0;36m3\u001b[0m\u001b[0;34m}\u001b[0m\u001b[0;34m\u001b[0m\u001b[0;34m\u001b[0m\u001b[0m\n\u001b[1;32m      2\u001b[0m \u001b[0ms2\u001b[0m \u001b[0;34m=\u001b[0m \u001b[0;34m{\u001b[0m\u001b[0;36m4\u001b[0m\u001b[0;34m,\u001b[0m\u001b[0;36m5\u001b[0m\u001b[0;34m,\u001b[0m\u001b[0;36m6\u001b[0m\u001b[0;34m}\u001b[0m\u001b[0;34m\u001b[0m\u001b[0;34m\u001b[0m\u001b[0m\n\u001b[0;32m----> 3\u001b[0;31m \u001b[0ms1\u001b[0m\u001b[0;34m+\u001b[0m\u001b[0ms2\u001b[0m\u001b[0;34m\u001b[0m\u001b[0;34m\u001b[0m\u001b[0m\n\u001b[0m",
            "\u001b[0;31mTypeError\u001b[0m: unsupported operand type(s) for +: 'set' and 'set'"
          ]
        }
      ]
    },
    {
      "cell_type": "code",
      "source": [
        "print(fr1+fr2)\n",
        "print(fr1-fr2)\n",
        "print(fr1*fr2)\n",
        "print(fr1/fr2)"
      ],
      "metadata": {
        "colab": {
          "base_uri": "https://localhost:8080/"
        },
        "id": "akf8FIcdaUsN",
        "outputId": "1aa49795-cd80-4165-8873-b17cdf1cf384"
      },
      "execution_count": 33,
      "outputs": [
        {
          "output_type": "stream",
          "name": "stdout",
          "text": [
            "10/8\n",
            "2/8\n",
            "3/8\n",
            "6/4\n"
          ]
        }
      ]
    },
    {
      "cell_type": "code",
      "source": [
        "fr1 = Fraction(3,4)\n",
        "fr1.convert_to_decimal()"
      ],
      "metadata": {
        "colab": {
          "base_uri": "https://localhost:8080/"
        },
        "id": "6oIzy60oanur",
        "outputId": "ecf47aab-74c9-470a-a90d-53b62a96421f"
      },
      "execution_count": 34,
      "outputs": [
        {
          "output_type": "execute_result",
          "data": {
            "text/plain": [
              "0.75"
            ]
          },
          "metadata": {},
          "execution_count": 34
        }
      ]
    }
  ]
}