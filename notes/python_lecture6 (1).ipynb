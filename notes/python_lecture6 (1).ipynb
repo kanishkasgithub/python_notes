{
  "nbformat": 4,
  "nbformat_minor": 0,
  "metadata": {
    "colab": {
      "provenance": []
    },
    "kernelspec": {
      "name": "python3",
      "display_name": "Python 3"
    },
    "language_info": {
      "name": "python"
    }
  },
  "cells": [
    {
      "cell_type": "markdown",
      "source": [
        "Topics covered:\n",
        "*   Functions\n",
        "\n"
      ],
      "metadata": {
        "id": "wKlipWVHHLxz"
      }
    },
    {
      "cell_type": "markdown",
      "source": [
        "# Functions"
      ],
      "metadata": {
        "id": "EkOYO0OwKuvY"
      }
    },
    {
      "cell_type": "markdown",
      "source": [
        "### What are functions?\n",
        "\n",
        "Function is a block of code, which takes input and provides output.\n",
        "\n",
        "### Types of functions:\n",
        "- Built-in function\n",
        "- User-defined functions\n",
        "\n",
        "### Benefit of function:\n",
        "- Code reusability\n",
        "- Code modularity\n",
        "- Code readability\n",
        "\n",
        "### Principle used in functions:\n",
        "- Abstraction\n",
        "- Decomposition"
      ],
      "metadata": {
        "id": "ffxrFPGVK1Hk"
      }
    },
    {
      "cell_type": "markdown",
      "source": [
        "### Components of a function:\n",
        "\n",
        "**Function definition:**\n",
        "\n",
        "```\n",
        "def <function_name>(parameters):\n",
        "  \"\"\"\n",
        "  docstring - function description\n",
        "  \"\"\"\n",
        "  function_logic\n",
        "\n",
        "  return\n",
        "```\n",
        "**Function calling:**\n",
        "```\n",
        "function_name(arguments)\n",
        "```\n",
        "\n",
        "\n",
        "\n"
      ],
      "metadata": {
        "id": "ioRpJji2IVPr"
      }
    },
    {
      "cell_type": "markdown",
      "source": [
        "### Let's create a function(with docstring)"
      ],
      "metadata": {
        "id": "naaEYWVpPxzs"
      }
    },
    {
      "cell_type": "code",
      "execution_count": 15,
      "metadata": {
        "id": "ndD2M2GNHI9X"
      },
      "outputs": [],
      "source": [
        "def is_even(x):\n",
        "  \"\"\"\n",
        "  This function checks if a number is even or odd\n",
        "  Input: x - integer\n",
        "  Output: Even or Odd\n",
        "  Example: is_even(12)\n",
        "  Output: Even\n",
        "  \"\"\"\n",
        "  if x%2 == 0:\n",
        "    return 'Even'\n",
        "  else:\n",
        "    return 'Odd'"
      ]
    },
    {
      "cell_type": "code",
      "source": [
        "is_even(12)"
      ],
      "metadata": {
        "colab": {
          "base_uri": "https://localhost:8080/",
          "height": 35
        },
        "id": "KUfUU0t2OSKx",
        "outputId": "8d6bdf39-83ba-48b8-b41e-8aa07d958099"
      },
      "execution_count": 3,
      "outputs": [
        {
          "output_type": "execute_result",
          "data": {
            "text/plain": [
              "'Even'"
            ],
            "application/vnd.google.colaboratory.intrinsic+json": {
              "type": "string"
            }
          },
          "metadata": {},
          "execution_count": 3
        }
      ]
    },
    {
      "cell_type": "code",
      "source": [
        "for i in range(1,11):\n",
        "  print(is_even(i))"
      ],
      "metadata": {
        "colab": {
          "base_uri": "https://localhost:8080/"
        },
        "id": "DPFFoszFOUkN",
        "outputId": "b07ab4ca-ae73-40b6-b054-29b47efa99c5"
      },
      "execution_count": 5,
      "outputs": [
        {
          "output_type": "stream",
          "name": "stdout",
          "text": [
            "Odd\n",
            "Even\n",
            "Odd\n",
            "Even\n",
            "Odd\n",
            "Even\n",
            "Odd\n",
            "Even\n",
            "Odd\n",
            "Even\n"
          ]
        }
      ]
    },
    {
      "cell_type": "markdown",
      "source": [
        "How to check documentation of any function."
      ],
      "metadata": {
        "id": "8500oMAsOvCi"
      }
    },
    {
      "cell_type": "code",
      "source": [
        "print(is_even.__doc__)"
      ],
      "metadata": {
        "colab": {
          "base_uri": "https://localhost:8080/"
        },
        "id": "jdDK28-bO0px",
        "outputId": "1f70ff00-b0d6-4691-cead-fbd8784dd83a"
      },
      "execution_count": 17,
      "outputs": [
        {
          "output_type": "stream",
          "name": "stdout",
          "text": [
            "\n",
            "  This function checks if a number is even or odd\n",
            "  Input: x - integer\n",
            "  Output: Even or Odd\n",
            "  Example: is_even(12)\n",
            "  Output: Even\n",
            "  \n"
          ]
        }
      ]
    },
    {
      "cell_type": "code",
      "source": [
        "print(sorted.__doc__)"
      ],
      "metadata": {
        "colab": {
          "base_uri": "https://localhost:8080/"
        },
        "id": "WW8QmlgPO-o6",
        "outputId": "2cb75d1a-8fba-4556-dcc2-e137fec98d4f"
      },
      "execution_count": 18,
      "outputs": [
        {
          "output_type": "stream",
          "name": "stdout",
          "text": [
            "Return a new list containing all items from the iterable in ascending order.\n",
            "\n",
            "A custom key function can be supplied to customize the sort order, and the\n",
            "reverse flag can be set to request the result in descending order.\n"
          ]
        }
      ]
    },
    {
      "cell_type": "markdown",
      "source": [
        "### 2 Point of views\n",
        "- One view - of a person who create the function (Developer)\n",
        "- Another view - of a person who uses that function (User)\n",
        "\n",
        "Incase if any error occured, it is responsibililty of the person who created the function to fix it."
      ],
      "metadata": {
        "id": "1Ich_pIDQQfo"
      }
    },
    {
      "cell_type": "code",
      "source": [
        "is_even('hello')"
      ],
      "metadata": {
        "colab": {
          "base_uri": "https://localhost:8080/",
          "height": 263
        },
        "id": "1MMvot6DPaUG",
        "outputId": "b0784016-30ca-49db-c063-3ede99b830f7"
      },
      "execution_count": 6,
      "outputs": [
        {
          "output_type": "error",
          "ename": "TypeError",
          "evalue": "not all arguments converted during string formatting",
          "traceback": [
            "\u001b[0;31m---------------------------------------------------------------------------\u001b[0m",
            "\u001b[0;31mTypeError\u001b[0m                                 Traceback (most recent call last)",
            "\u001b[0;32m<ipython-input-6-1c65eb4c2e38>\u001b[0m in \u001b[0;36m<cell line: 1>\u001b[0;34m()\u001b[0m\n\u001b[0;32m----> 1\u001b[0;31m \u001b[0mis_even\u001b[0m\u001b[0;34m(\u001b[0m\u001b[0;34m'hello'\u001b[0m\u001b[0;34m)\u001b[0m\u001b[0;34m\u001b[0m\u001b[0;34m\u001b[0m\u001b[0m\n\u001b[0m",
            "\u001b[0;32m<ipython-input-1-2b378e5a845a>\u001b[0m in \u001b[0;36mis_even\u001b[0;34m(x)\u001b[0m\n\u001b[1;32m      1\u001b[0m \u001b[0;32mdef\u001b[0m \u001b[0mis_even\u001b[0m\u001b[0;34m(\u001b[0m\u001b[0mx\u001b[0m\u001b[0;34m)\u001b[0m\u001b[0;34m:\u001b[0m\u001b[0;34m\u001b[0m\u001b[0;34m\u001b[0m\u001b[0m\n\u001b[0;32m----> 2\u001b[0;31m   \u001b[0;32mif\u001b[0m \u001b[0mx\u001b[0m\u001b[0;34m%\u001b[0m\u001b[0;36m2\u001b[0m \u001b[0;34m==\u001b[0m \u001b[0;36m0\u001b[0m\u001b[0;34m:\u001b[0m\u001b[0;34m\u001b[0m\u001b[0;34m\u001b[0m\u001b[0m\n\u001b[0m\u001b[1;32m      3\u001b[0m     \u001b[0;32mreturn\u001b[0m \u001b[0;34m'Even'\u001b[0m\u001b[0;34m\u001b[0m\u001b[0;34m\u001b[0m\u001b[0m\n\u001b[1;32m      4\u001b[0m   \u001b[0;32melse\u001b[0m\u001b[0;34m:\u001b[0m\u001b[0;34m\u001b[0m\u001b[0;34m\u001b[0m\u001b[0m\n\u001b[1;32m      5\u001b[0m     \u001b[0;32mreturn\u001b[0m \u001b[0;34m'Odd'\u001b[0m\u001b[0;34m\u001b[0m\u001b[0;34m\u001b[0m\u001b[0m\n",
            "\u001b[0;31mTypeError\u001b[0m: not all arguments converted during string formatting"
          ]
        }
      ]
    },
    {
      "cell_type": "code",
      "source": [
        "def is_even(x):\n",
        "  \"\"\"\n",
        "  This function checks if a number is even or odd\n",
        "  Input: x - integer\n",
        "  Output: Even or Odd\n",
        "  Example: is_even(12)\n",
        "  Output: Even\n",
        "  \"\"\"\n",
        "  if type(x)== int:\n",
        "    if x%2 == 0:\n",
        "      return 'Even'\n",
        "    else:\n",
        "      return 'Odd'\n",
        "  else:\n",
        "    return 'Invalid input'"
      ],
      "metadata": {
        "id": "BQrBNSe0Ry74"
      },
      "execution_count": 7,
      "outputs": []
    },
    {
      "cell_type": "code",
      "source": [
        "is_even('hello')"
      ],
      "metadata": {
        "colab": {
          "base_uri": "https://localhost:8080/",
          "height": 35
        },
        "id": "Wq3tBntQSCLs",
        "outputId": "9ad21ce8-2e6e-4d66-97d6-71f6c16d7f33"
      },
      "execution_count": 8,
      "outputs": [
        {
          "output_type": "execute_result",
          "data": {
            "text/plain": [
              "'Invalid input'"
            ],
            "application/vnd.google.colaboratory.intrinsic+json": {
              "type": "string"
            }
          },
          "metadata": {},
          "execution_count": 8
        }
      ]
    },
    {
      "cell_type": "code",
      "source": [
        "is_even(10)"
      ],
      "metadata": {
        "colab": {
          "base_uri": "https://localhost:8080/",
          "height": 35
        },
        "id": "xI46_RH9SD2g",
        "outputId": "631bf07e-d74a-4602-cca6-4b6e21cc9278"
      },
      "execution_count": 9,
      "outputs": [
        {
          "output_type": "execute_result",
          "data": {
            "text/plain": [
              "'Even'"
            ],
            "application/vnd.google.colaboratory.intrinsic+json": {
              "type": "string"
            }
          },
          "metadata": {},
          "execution_count": 9
        }
      ]
    },
    {
      "cell_type": "markdown",
      "source": [
        "### Parameters Vs Arguments\n",
        "*   Parameter - at the time of function creation we call input -> paramter\n",
        "*   Argument - at the time of calling function we call input -> argument\n",
        "\n",
        "Argument is value of parameter.\n"
      ],
      "metadata": {
        "id": "7FXckRP4IIj7"
      }
    },
    {
      "cell_type": "markdown",
      "source": [
        "### Types of Arguments\n",
        "\n",
        "- Default Argument\n",
        "- Positional Argument\n",
        "- Keyword Argument"
      ],
      "metadata": {
        "id": "E-B_1o1vIjht"
      }
    },
    {
      "cell_type": "code",
      "source": [
        "def power(a,b):\n",
        "  return a**b"
      ],
      "metadata": {
        "id": "dpPEOrXQSFYN"
      },
      "execution_count": 1,
      "outputs": []
    },
    {
      "cell_type": "code",
      "source": [
        "power(2,3)"
      ],
      "metadata": {
        "colab": {
          "base_uri": "https://localhost:8080/"
        },
        "id": "nof7fzb3JU4L",
        "outputId": "1555cf7d-b8b6-49f8-da9e-3f94e8bebd52"
      },
      "execution_count": 2,
      "outputs": [
        {
          "output_type": "execute_result",
          "data": {
            "text/plain": [
              "8"
            ]
          },
          "metadata": {},
          "execution_count": 2
        }
      ]
    },
    {
      "cell_type": "code",
      "source": [
        "power(4)"
      ],
      "metadata": {
        "colab": {
          "base_uri": "https://localhost:8080/",
          "height": 141
        },
        "id": "M5jm3X2CJWmK",
        "outputId": "21fde656-d4c1-4558-f019-f61e8935ee66"
      },
      "execution_count": 3,
      "outputs": [
        {
          "output_type": "error",
          "ename": "TypeError",
          "evalue": "power() missing 1 required positional argument: 'b'",
          "traceback": [
            "\u001b[0;31m---------------------------------------------------------------------------\u001b[0m",
            "\u001b[0;31mTypeError\u001b[0m                                 Traceback (most recent call last)",
            "\u001b[0;32m<ipython-input-3-bf7901724530>\u001b[0m in \u001b[0;36m<cell line: 1>\u001b[0;34m()\u001b[0m\n\u001b[0;32m----> 1\u001b[0;31m \u001b[0mpower\u001b[0m\u001b[0;34m(\u001b[0m\u001b[0;36m4\u001b[0m\u001b[0;34m)\u001b[0m\u001b[0;34m\u001b[0m\u001b[0;34m\u001b[0m\u001b[0m\n\u001b[0m",
            "\u001b[0;31mTypeError\u001b[0m: power() missing 1 required positional argument: 'b'"
          ]
        }
      ]
    },
    {
      "cell_type": "code",
      "source": [
        "power()"
      ],
      "metadata": {
        "colab": {
          "base_uri": "https://localhost:8080/",
          "height": 141
        },
        "id": "WdR8AzBDJYgr",
        "outputId": "2a3430da-72ed-4182-deff-3e4116594256"
      },
      "execution_count": 4,
      "outputs": [
        {
          "output_type": "error",
          "ename": "TypeError",
          "evalue": "power() missing 2 required positional arguments: 'a' and 'b'",
          "traceback": [
            "\u001b[0;31m---------------------------------------------------------------------------\u001b[0m",
            "\u001b[0;31mTypeError\u001b[0m                                 Traceback (most recent call last)",
            "\u001b[0;32m<ipython-input-4-b5d41c958809>\u001b[0m in \u001b[0;36m<cell line: 1>\u001b[0;34m()\u001b[0m\n\u001b[0;32m----> 1\u001b[0;31m \u001b[0mpower\u001b[0m\u001b[0;34m(\u001b[0m\u001b[0;34m)\u001b[0m\u001b[0;34m\u001b[0m\u001b[0;34m\u001b[0m\u001b[0m\n\u001b[0m",
            "\u001b[0;31mTypeError\u001b[0m: power() missing 2 required positional arguments: 'a' and 'b'"
          ]
        }
      ]
    },
    {
      "cell_type": "code",
      "source": [
        "# default argument\n",
        "def power(a=1,b=1):\n",
        "  return a**b"
      ],
      "metadata": {
        "id": "lNrwmxpQJaD9"
      },
      "execution_count": 5,
      "outputs": []
    },
    {
      "cell_type": "code",
      "source": [
        "power()"
      ],
      "metadata": {
        "colab": {
          "base_uri": "https://localhost:8080/"
        },
        "id": "Hn_ZQ6YeJjrI",
        "outputId": "b704d075-a0ef-4c48-c142-d09f8b06cbd3"
      },
      "execution_count": 6,
      "outputs": [
        {
          "output_type": "execute_result",
          "data": {
            "text/plain": [
              "1"
            ]
          },
          "metadata": {},
          "execution_count": 6
        }
      ]
    },
    {
      "cell_type": "code",
      "source": [
        "power(4)"
      ],
      "metadata": {
        "colab": {
          "base_uri": "https://localhost:8080/"
        },
        "id": "pVF9KzFgJlKG",
        "outputId": "c6013839-7c7b-4f3d-e4db-8aade2c70502"
      },
      "execution_count": 7,
      "outputs": [
        {
          "output_type": "execute_result",
          "data": {
            "text/plain": [
              "4"
            ]
          },
          "metadata": {},
          "execution_count": 7
        }
      ]
    },
    {
      "cell_type": "code",
      "source": [
        "power(4,5)"
      ],
      "metadata": {
        "colab": {
          "base_uri": "https://localhost:8080/"
        },
        "id": "6qDtQsbFJmd8",
        "outputId": "8ababf20-ce11-498d-ccbe-17696513e92c"
      },
      "execution_count": 8,
      "outputs": [
        {
          "output_type": "execute_result",
          "data": {
            "text/plain": [
              "1024"
            ]
          },
          "metadata": {},
          "execution_count": 8
        }
      ]
    },
    {
      "cell_type": "code",
      "source": [
        "# positional argument - in which order we pass arguments, in that order only parameters receives value.\n",
        "power(3,4)"
      ],
      "metadata": {
        "colab": {
          "base_uri": "https://localhost:8080/"
        },
        "id": "CmnV36PNJofx",
        "outputId": "4a02ccbe-755a-435d-c289-0cff3ba808b2"
      },
      "execution_count": 9,
      "outputs": [
        {
          "output_type": "execute_result",
          "data": {
            "text/plain": [
              "81"
            ]
          },
          "metadata": {},
          "execution_count": 9
        }
      ]
    },
    {
      "cell_type": "code",
      "source": [
        "power(4,3)"
      ],
      "metadata": {
        "colab": {
          "base_uri": "https://localhost:8080/"
        },
        "id": "pVJ3ruiFLNrt",
        "outputId": "3de45b24-e75a-422f-c45f-7f34bb1023a2"
      },
      "execution_count": 10,
      "outputs": [
        {
          "output_type": "execute_result",
          "data": {
            "text/plain": [
              "64"
            ]
          },
          "metadata": {},
          "execution_count": 10
        }
      ]
    },
    {
      "cell_type": "code",
      "source": [
        "# keyword argument\n",
        "power(b=4,a=3)"
      ],
      "metadata": {
        "colab": {
          "base_uri": "https://localhost:8080/"
        },
        "id": "58Kly3JgLPKA",
        "outputId": "9786ad0b-6077-4574-c8a7-1e50f299dd0b"
      },
      "execution_count": 11,
      "outputs": [
        {
          "output_type": "execute_result",
          "data": {
            "text/plain": [
              "81"
            ]
          },
          "metadata": {},
          "execution_count": 11
        }
      ]
    },
    {
      "cell_type": "code",
      "source": [
        "power(3,b=2)"
      ],
      "metadata": {
        "colab": {
          "base_uri": "https://localhost:8080/"
        },
        "id": "NiL5XNkrLUvS",
        "outputId": "1a71f82d-59c9-4c79-85e9-c55ae9c165ca"
      },
      "execution_count": 12,
      "outputs": [
        {
          "output_type": "execute_result",
          "data": {
            "text/plain": [
              "9"
            ]
          },
          "metadata": {},
          "execution_count": 12
        }
      ]
    },
    {
      "cell_type": "code",
      "source": [
        "power(b=3,4)"
      ],
      "metadata": {
        "colab": {
          "base_uri": "https://localhost:8080/",
          "height": 106
        },
        "id": "GsZx7WLzLYKs",
        "outputId": "e988f982-d7f5-42e9-d9c3-3d9e82dac972"
      },
      "execution_count": 13,
      "outputs": [
        {
          "output_type": "error",
          "ename": "SyntaxError",
          "evalue": "positional argument follows keyword argument (<ipython-input-13-d5f3cccfd4a7>, line 1)",
          "traceback": [
            "\u001b[0;36m  File \u001b[0;32m\"<ipython-input-13-d5f3cccfd4a7>\"\u001b[0;36m, line \u001b[0;32m1\u001b[0m\n\u001b[0;31m    power(b=3,4)\u001b[0m\n\u001b[0m               ^\u001b[0m\n\u001b[0;31mSyntaxError\u001b[0m\u001b[0;31m:\u001b[0m positional argument follows keyword argument\n"
          ]
        }
      ]
    },
    {
      "cell_type": "markdown",
      "source": [
        "### `*args and **kwargs`\n",
        "`*args and **kwargs` are special Python keywords that are used to pass the variable length of arguments to a function"
      ],
      "metadata": {
        "id": "xESUehl1Pmal"
      }
    },
    {
      "cell_type": "code",
      "source": [
        "def multiply(a,b,c):\n",
        "  return a*b*c"
      ],
      "metadata": {
        "id": "xU9TMRJHLbg2"
      },
      "execution_count": 19,
      "outputs": []
    },
    {
      "cell_type": "code",
      "source": [
        "multiply(2,3,4)"
      ],
      "metadata": {
        "colab": {
          "base_uri": "https://localhost:8080/"
        },
        "id": "H-54ctQmP-Ku",
        "outputId": "ddbdec8d-ce17-4d6a-b202-1b76a64aacfc"
      },
      "execution_count": 20,
      "outputs": [
        {
          "output_type": "execute_result",
          "data": {
            "text/plain": [
              "24"
            ]
          },
          "metadata": {},
          "execution_count": 20
        }
      ]
    },
    {
      "cell_type": "code",
      "source": [
        "multiply(2,3,4,5,6)"
      ],
      "metadata": {
        "colab": {
          "base_uri": "https://localhost:8080/",
          "height": 141
        },
        "id": "eUtte7CsQBGr",
        "outputId": "2e21c456-66d3-4444-89e2-cbe6b85bb1b3"
      },
      "execution_count": 21,
      "outputs": [
        {
          "output_type": "error",
          "ename": "TypeError",
          "evalue": "multiply() takes 3 positional arguments but 5 were given",
          "traceback": [
            "\u001b[0;31m---------------------------------------------------------------------------\u001b[0m",
            "\u001b[0;31mTypeError\u001b[0m                                 Traceback (most recent call last)",
            "\u001b[0;32m<ipython-input-21-e84efe807a1b>\u001b[0m in \u001b[0;36m<cell line: 1>\u001b[0;34m()\u001b[0m\n\u001b[0;32m----> 1\u001b[0;31m \u001b[0mmultiply\u001b[0m\u001b[0;34m(\u001b[0m\u001b[0;36m2\u001b[0m\u001b[0;34m,\u001b[0m\u001b[0;36m3\u001b[0m\u001b[0;34m,\u001b[0m\u001b[0;36m4\u001b[0m\u001b[0;34m,\u001b[0m\u001b[0;36m5\u001b[0m\u001b[0;34m,\u001b[0m\u001b[0;36m6\u001b[0m\u001b[0;34m)\u001b[0m\u001b[0;34m\u001b[0m\u001b[0;34m\u001b[0m\u001b[0m\n\u001b[0m",
            "\u001b[0;31mTypeError\u001b[0m: multiply() takes 3 positional arguments but 5 were given"
          ]
        }
      ]
    },
    {
      "cell_type": "code",
      "source": [
        "# *args\n",
        "# allows us to pass a variable number of non-keyword arguments to a function.\n",
        "\n",
        "def multiply(*args):   # args -> tuple of input values\n",
        "  res = 1\n",
        "  for i in args:\n",
        "    res *= i\n",
        "  print(args)\n",
        "  return res"
      ],
      "metadata": {
        "id": "0CfOGblIQEap"
      },
      "execution_count": 25,
      "outputs": []
    },
    {
      "cell_type": "code",
      "source": [
        "multiply(2,3,4,5,6)"
      ],
      "metadata": {
        "colab": {
          "base_uri": "https://localhost:8080/"
        },
        "id": "e3FAXj0-QOGu",
        "outputId": "89f26c68-7b27-4b2c-ba58-61a7f406fe77"
      },
      "execution_count": 26,
      "outputs": [
        {
          "output_type": "stream",
          "name": "stdout",
          "text": [
            "(2, 3, 4, 5, 6)\n"
          ]
        },
        {
          "output_type": "execute_result",
          "data": {
            "text/plain": [
              "720"
            ]
          },
          "metadata": {},
          "execution_count": 26
        }
      ]
    },
    {
      "cell_type": "code",
      "source": [
        "multiply(2,3,4,5,6,7,8,9,10)"
      ],
      "metadata": {
        "colab": {
          "base_uri": "https://localhost:8080/"
        },
        "id": "5crOhl2LQQT9",
        "outputId": "3247f23d-7d4e-49a3-c3b6-05883fb50407"
      },
      "execution_count": 27,
      "outputs": [
        {
          "output_type": "stream",
          "name": "stdout",
          "text": [
            "(2, 3, 4, 5, 6, 7, 8, 9, 10)\n"
          ]
        },
        {
          "output_type": "execute_result",
          "data": {
            "text/plain": [
              "3628800"
            ]
          },
          "metadata": {},
          "execution_count": 27
        }
      ]
    },
    {
      "cell_type": "code",
      "source": [
        "# **kwargs\n",
        "# **kwargs allows us to pass any number of keyword arguments.\n",
        "# Keyword arguments mean that they contain a key-value pair, like a Python dictionary.\n",
        "\n",
        "def display(**kwargs):    # kwargs -> dictionary of input key-value pairs\n",
        "  print(kwargs)\n",
        "  for (key,value) in kwargs.items():\n",
        "    print(key,value)"
      ],
      "metadata": {
        "id": "H0iqvdWCQT6r"
      },
      "execution_count": 30,
      "outputs": []
    },
    {
      "cell_type": "code",
      "source": [
        "display(india='delhi',srilanka='colombo',nepal='kathmandu',pakistan='islamabad')"
      ],
      "metadata": {
        "colab": {
          "base_uri": "https://localhost:8080/"
        },
        "id": "gMHzFb1GSdbE",
        "outputId": "27ee2216-fefe-46e5-e00a-5474f4ec1239"
      },
      "execution_count": 33,
      "outputs": [
        {
          "output_type": "stream",
          "name": "stdout",
          "text": [
            "{'india': 'delhi', 'srilanka': 'colombo', 'nepal': 'kathmandu', 'pakistan': 'islamabad'}\n",
            "india delhi\n",
            "srilanka colombo\n",
            "nepal kathmandu\n",
            "pakistan islamabad\n"
          ]
        }
      ]
    },
    {
      "cell_type": "markdown",
      "source": [
        "##### Points to remember while using `*args and **kwargs`\n",
        "\n",
        "- order of the arguments matter(normal -> `*args` -> `**kwargs`)\n",
        "- The words “args” and “kwargs” are only a convention, you can use any name of your choice"
      ],
      "metadata": {
        "id": "2LjWKDgUTCXz"
      }
    },
    {
      "cell_type": "code",
      "source": [
        "def display(a,*x,**y):\n",
        "  # print(a,x,y)\n",
        "  print(a,'details:')\n",
        "  sum = 0\n",
        "  for i in x:\n",
        "    sum = sum+i\n",
        "  print('Total Marks:',sum)\n",
        "  for (key,value) in y.items():\n",
        "    print(key,':',value)"
      ],
      "metadata": {
        "id": "Q9XyU42hTvIt"
      },
      "execution_count": 38,
      "outputs": []
    },
    {
      "cell_type": "code",
      "source": [
        "display('nitish',50,60,70,75,science='A',maths='B',dsa='A+')"
      ],
      "metadata": {
        "colab": {
          "base_uri": "https://localhost:8080/"
        },
        "id": "j_2Fy9lvT146",
        "outputId": "49315fe1-a5d0-4c5a-c760-f8301cc273cb"
      },
      "execution_count": 39,
      "outputs": [
        {
          "output_type": "stream",
          "name": "stdout",
          "text": [
            "nitish details:\n",
            "Total Marks: 255\n",
            "science : A\n",
            "maths : B\n",
            "dsa : A+\n"
          ]
        }
      ]
    },
    {
      "cell_type": "code",
      "source": [
        "display(50,60,70,75,science='A',maths='B',dsa='A+','nitish')"
      ],
      "metadata": {
        "colab": {
          "base_uri": "https://localhost:8080/",
          "height": 106
        },
        "id": "dJEE1zbvUQQe",
        "outputId": "ced2bd3c-d7d5-43eb-c00c-baaf564b9ec9"
      },
      "execution_count": 40,
      "outputs": [
        {
          "output_type": "error",
          "ename": "SyntaxError",
          "evalue": "positional argument follows keyword argument (<ipython-input-40-9ea2ff8d10b5>, line 1)",
          "traceback": [
            "\u001b[0;36m  File \u001b[0;32m\"<ipython-input-40-9ea2ff8d10b5>\"\u001b[0;36m, line \u001b[0;32m1\u001b[0m\n\u001b[0;31m    display(50,60,70,75,science='A',maths='B',dsa='A+','nitish')\u001b[0m\n\u001b[0m                                                               ^\u001b[0m\n\u001b[0;31mSyntaxError\u001b[0m\u001b[0;31m:\u001b[0m positional argument follows keyword argument\n"
          ]
        }
      ]
    },
    {
      "cell_type": "code",
      "source": [
        "display(science='A',maths='B',dsa='A+',50,60,70,75,'nitish')"
      ],
      "metadata": {
        "colab": {
          "base_uri": "https://localhost:8080/",
          "height": 106
        },
        "id": "Ypff_wJKUSTq",
        "outputId": "0f7ed9dc-6d38-4e35-f7f7-830968a48ae7"
      },
      "execution_count": 41,
      "outputs": [
        {
          "output_type": "error",
          "ename": "SyntaxError",
          "evalue": "positional argument follows keyword argument (<ipython-input-41-6fffdd5a40c0>, line 1)",
          "traceback": [
            "\u001b[0;36m  File \u001b[0;32m\"<ipython-input-41-6fffdd5a40c0>\"\u001b[0;36m, line \u001b[0;32m1\u001b[0m\n\u001b[0;31m    display(science='A',maths='B',dsa='A+',50,60,70,75,'nitish')\u001b[0m\n\u001b[0m                                                               ^\u001b[0m\n\u001b[0;31mSyntaxError\u001b[0m\u001b[0;31m:\u001b[0m positional argument follows keyword argument\n"
          ]
        }
      ]
    },
    {
      "cell_type": "markdown",
      "source": [
        "### How Functions are executed in memory?"
      ],
      "metadata": {
        "id": "-r6JJnGbtyef"
      }
    },
    {
      "cell_type": "code",
      "source": [
        "def is_even(x):\n",
        "  if x%2==0:\n",
        "    return 'even'\n",
        "  else:\n",
        "    return 'odd'\n",
        "\n",
        "print(is_even(7))"
      ],
      "metadata": {
        "colab": {
          "base_uri": "https://localhost:8080/"
        },
        "id": "yhhmZ7_jt4Pm",
        "outputId": "2c75d5a4-68dd-4763-e963-074bc50a73d8"
      },
      "execution_count": 1,
      "outputs": [
        {
          "output_type": "stream",
          "name": "stdout",
          "text": [
            "odd\n"
          ]
        }
      ]
    },
    {
      "cell_type": "markdown",
      "source": [
        "Function behaves as an independent program in memory. It gets independent memory.\n",
        "Function lifetime or its variables lifetime -> is only till function execution.\n",
        "<br>city -> house -> room<br>\n",
        "memory -> program -> function\n"
      ],
      "metadata": {
        "id": "5r2031dFuqPI"
      }
    },
    {
      "cell_type": "markdown",
      "source": [
        "![image.png](data:image/png;base64,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)"
      ],
      "metadata": {
        "id": "fc5J6YbkuDRk"
      }
    },
    {
      "cell_type": "markdown",
      "source": [
        "![image.png](data:image/png;base64,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)"
      ],
      "metadata": {
        "id": "241uymECuETH"
      }
    },
    {
      "cell_type": "markdown",
      "source": [
        "![image.png](data:image/png;base64,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)"
      ],
      "metadata": {
        "id": "iTasrQOtuSwQ"
      }
    },
    {
      "cell_type": "markdown",
      "source": [
        "![image.png](data:image/png;base64,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)"
      ],
      "metadata": {
        "id": "rpmhCt6_uaQG"
      }
    },
    {
      "cell_type": "markdown",
      "source": [
        "### Without return statement"
      ],
      "metadata": {
        "id": "2fN10gpcwEeX"
      }
    },
    {
      "cell_type": "markdown",
      "source": [
        "Then it will return NONE."
      ],
      "metadata": {
        "id": "B5HPrnFKverO"
      }
    },
    {
      "cell_type": "code",
      "source": [
        "def is_even(x):\n",
        "  if x%2==0:\n",
        "    print('even')\n",
        "  else:\n",
        "    print('odd')\n",
        "\n",
        "print(is_even(7))"
      ],
      "metadata": {
        "colab": {
          "base_uri": "https://localhost:8080/"
        },
        "id": "5J8qbPOqwFjB",
        "outputId": "63a9f351-5df9-482a-8559-ad2dc993a181"
      },
      "execution_count": 2,
      "outputs": [
        {
          "output_type": "stream",
          "name": "stdout",
          "text": [
            "odd\n",
            "None\n"
          ]
        }
      ]
    },
    {
      "cell_type": "markdown",
      "source": [
        "![image.png](data:image/png;base64,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)"
      ],
      "metadata": {
        "id": "4X6ET_miwoW6"
      }
    },
    {
      "cell_type": "markdown",
      "source": [
        "![image.png](data:image/png;base64,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)"
      ],
      "metadata": {
        "id": "cfwVVNIJwpWs"
      }
    },
    {
      "cell_type": "code",
      "source": [
        "L = [1,2,3]\n",
        "print(L.append(4))"
      ],
      "metadata": {
        "colab": {
          "base_uri": "https://localhost:8080/"
        },
        "id": "sRLSZ3WLw3W4",
        "outputId": "569eeed7-0faf-47a5-8c49-cdfb3e0a5657"
      },
      "execution_count": 3,
      "outputs": [
        {
          "output_type": "stream",
          "name": "stdout",
          "text": [
            "None\n"
          ]
        }
      ]
    },
    {
      "cell_type": "code",
      "source": [
        "print(L)"
      ],
      "metadata": {
        "colab": {
          "base_uri": "https://localhost:8080/"
        },
        "id": "3V94MArUw43R",
        "outputId": "8dec2cd7-3a06-4ab4-9b31-70883dcb18cc"
      },
      "execution_count": 4,
      "outputs": [
        {
          "output_type": "stream",
          "name": "stdout",
          "text": [
            "[1, 2, 3, 4]\n"
          ]
        }
      ]
    },
    {
      "cell_type": "markdown",
      "source": [
        "### Variable Scope"
      ],
      "metadata": {
        "id": "89QT4KOG0Nct"
      }
    },
    {
      "cell_type": "markdown",
      "source": [
        "\n",
        "*   Global variable - whose scope is entire program\n",
        "*   Local variable - whose scope is a function\n",
        "\n",
        "From function we can access global variables. But we can't use local variables outside its function."
      ],
      "metadata": {
        "id": "bb2bW28i0ggr"
      }
    },
    {
      "cell_type": "code",
      "source": [
        "def g(y):\n",
        "    print(x)\n",
        "    print(x+1)\n",
        "x = 5\n",
        "g(x)\n",
        "print(x)\n",
        "\n",
        "# from function, we can access global variables."
      ],
      "metadata": {
        "colab": {
          "base_uri": "https://localhost:8080/"
        },
        "id": "hMzaWeZS0yOC",
        "outputId": "f6f08c20-61bf-40fa-d57b-8d9a1be4e805"
      },
      "execution_count": 5,
      "outputs": [
        {
          "output_type": "stream",
          "name": "stdout",
          "text": [
            "5\n",
            "6\n",
            "5\n"
          ]
        }
      ]
    },
    {
      "cell_type": "markdown",
      "source": [
        "![image.png](data:image/png;base64,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)"
      ],
      "metadata": {
        "id": "ghYZh_ds1LSl"
      }
    },
    {
      "cell_type": "code",
      "source": [
        "def f(y):\n",
        "    x = 1\n",
        "    x += 1\n",
        "    print(x)\n",
        "x = 5\n",
        "f(x)\n",
        "print(x)\n",
        "\n",
        "# we can create local variable as of same name as global variable."
      ],
      "metadata": {
        "colab": {
          "base_uri": "https://localhost:8080/"
        },
        "id": "UC4JqZEE1MBl",
        "outputId": "9103337a-631e-4268-80fa-d4dc93a799f3"
      },
      "execution_count": 6,
      "outputs": [
        {
          "output_type": "stream",
          "name": "stdout",
          "text": [
            "2\n",
            "5\n"
          ]
        }
      ]
    },
    {
      "cell_type": "markdown",
      "source": [
        "![image.png](data:image/png;base64,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)"
      ],
      "metadata": {
        "id": "A7yO-_Jn1k31"
      }
    },
    {
      "cell_type": "code",
      "source": [
        "def h(y):\n",
        "    x += 1  # updating global variable\n",
        "x = 5\n",
        "h(x)\n",
        "print(x)\n",
        "\n",
        "# access of global variable from function is possible, but we can't update/change it from function."
      ],
      "metadata": {
        "colab": {
          "base_uri": "https://localhost:8080/",
          "height": 315
        },
        "id": "Qfy3QnHz1loS",
        "outputId": "8d74f8dd-0e5e-4852-dae7-e7a043dd51ba"
      },
      "execution_count": 7,
      "outputs": [
        {
          "output_type": "error",
          "ename": "UnboundLocalError",
          "evalue": "local variable 'x' referenced before assignment",
          "traceback": [
            "\u001b[0;31m---------------------------------------------------------------------------\u001b[0m",
            "\u001b[0;31mUnboundLocalError\u001b[0m                         Traceback (most recent call last)",
            "\u001b[0;32m<ipython-input-7-91d91a088cc2>\u001b[0m in \u001b[0;36m<cell line: 4>\u001b[0;34m()\u001b[0m\n\u001b[1;32m      2\u001b[0m     \u001b[0mx\u001b[0m \u001b[0;34m+=\u001b[0m \u001b[0;36m1\u001b[0m\u001b[0;34m\u001b[0m\u001b[0;34m\u001b[0m\u001b[0m\n\u001b[1;32m      3\u001b[0m \u001b[0mx\u001b[0m \u001b[0;34m=\u001b[0m \u001b[0;36m5\u001b[0m\u001b[0;34m\u001b[0m\u001b[0;34m\u001b[0m\u001b[0m\n\u001b[0;32m----> 4\u001b[0;31m \u001b[0mh\u001b[0m\u001b[0;34m(\u001b[0m\u001b[0mx\u001b[0m\u001b[0;34m)\u001b[0m\u001b[0;34m\u001b[0m\u001b[0;34m\u001b[0m\u001b[0m\n\u001b[0m\u001b[1;32m      5\u001b[0m \u001b[0mprint\u001b[0m\u001b[0;34m(\u001b[0m\u001b[0mx\u001b[0m\u001b[0;34m)\u001b[0m\u001b[0;34m\u001b[0m\u001b[0;34m\u001b[0m\u001b[0m\n",
            "\u001b[0;32m<ipython-input-7-91d91a088cc2>\u001b[0m in \u001b[0;36mh\u001b[0;34m(y)\u001b[0m\n\u001b[1;32m      1\u001b[0m \u001b[0;32mdef\u001b[0m \u001b[0mh\u001b[0m\u001b[0;34m(\u001b[0m\u001b[0my\u001b[0m\u001b[0;34m)\u001b[0m\u001b[0;34m:\u001b[0m\u001b[0;34m\u001b[0m\u001b[0;34m\u001b[0m\u001b[0m\n\u001b[0;32m----> 2\u001b[0;31m     \u001b[0mx\u001b[0m \u001b[0;34m+=\u001b[0m \u001b[0;36m1\u001b[0m\u001b[0;34m\u001b[0m\u001b[0;34m\u001b[0m\u001b[0m\n\u001b[0m\u001b[1;32m      3\u001b[0m \u001b[0mx\u001b[0m \u001b[0;34m=\u001b[0m \u001b[0;36m5\u001b[0m\u001b[0;34m\u001b[0m\u001b[0;34m\u001b[0m\u001b[0m\n\u001b[1;32m      4\u001b[0m \u001b[0mh\u001b[0m\u001b[0;34m(\u001b[0m\u001b[0mx\u001b[0m\u001b[0;34m)\u001b[0m\u001b[0;34m\u001b[0m\u001b[0;34m\u001b[0m\u001b[0m\n\u001b[1;32m      5\u001b[0m \u001b[0mprint\u001b[0m\u001b[0;34m(\u001b[0m\u001b[0mx\u001b[0m\u001b[0;34m)\u001b[0m\u001b[0;34m\u001b[0m\u001b[0;34m\u001b[0m\u001b[0m\n",
            "\u001b[0;31mUnboundLocalError\u001b[0m: local variable 'x' referenced before assignment"
          ]
        }
      ]
    },
    {
      "cell_type": "markdown",
      "source": [
        "![image.png](data:image/png;base64,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)"
      ],
      "metadata": {
        "id": "yofP3-pF2MQK"
      }
    },
    {
      "cell_type": "code",
      "source": [
        "# using global keyword, we can change global variable in function. But it is not recommended (not a good practice)\n",
        "def h(y):\n",
        "    global x\n",
        "    x += 1\n",
        "x = 5\n",
        "h(x)\n",
        "print(x)"
      ],
      "metadata": {
        "colab": {
          "base_uri": "https://localhost:8080/"
        },
        "id": "1BNWFmPr2NDz",
        "outputId": "f6c76a77-8562-4041-ba54-9bdd5ee9cbc1"
      },
      "execution_count": 8,
      "outputs": [
        {
          "output_type": "stream",
          "name": "stdout",
          "text": [
            "6\n"
          ]
        }
      ]
    },
    {
      "cell_type": "markdown",
      "source": [
        "![image.png](data:image/png;base64,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)"
      ],
      "metadata": {
        "id": "YPGUxWIs3AJk"
      }
    },
    {
      "cell_type": "code",
      "source": [
        "def f(x):\n",
        "   x = x + 1\n",
        "   print('in f(x): x =', x)\n",
        "   return x\n",
        "\n",
        "x = 3\n",
        "z = f(x)\n",
        "print('in main program scope: z =', z)\n",
        "print('in main program scope: x =', x)"
      ],
      "metadata": {
        "colab": {
          "base_uri": "https://localhost:8080/"
        },
        "id": "V0coze493BBy",
        "outputId": "cc54de70-6913-424a-9785-4afb3886354b"
      },
      "execution_count": 9,
      "outputs": [
        {
          "output_type": "stream",
          "name": "stdout",
          "text": [
            "in f(x): x = 4\n",
            "in main program scope: z = 4\n",
            "in main program scope: x = 3\n"
          ]
        }
      ]
    },
    {
      "cell_type": "markdown",
      "source": [
        "### Nested Functions"
      ],
      "metadata": {
        "id": "jC_kwHeQ89BI"
      }
    },
    {
      "cell_type": "code",
      "source": [
        "def f():\n",
        "  def g():\n",
        "    print('inside function g')\n",
        "  g()\n",
        "  print('inside function f')"
      ],
      "metadata": {
        "id": "ig2i15sg89og"
      },
      "execution_count": 10,
      "outputs": []
    },
    {
      "cell_type": "code",
      "source": [
        "f()"
      ],
      "metadata": {
        "colab": {
          "base_uri": "https://localhost:8080/"
        },
        "id": "QpAL7a5s9DR3",
        "outputId": "854ce817-622d-4a7d-ccfd-e5675a62d9bf"
      },
      "execution_count": 11,
      "outputs": [
        {
          "output_type": "stream",
          "name": "stdout",
          "text": [
            "inside function g\n",
            "inside function f\n"
          ]
        }
      ]
    },
    {
      "cell_type": "code",
      "source": [
        "g()  # nested function - is hidden inside other function -> cannot access from outside of function"
      ],
      "metadata": {
        "colab": {
          "base_uri": "https://localhost:8080/",
          "height": 141
        },
        "id": "O8GdLCPJ9D5w",
        "outputId": "7ad0b53d-b6ee-4aeb-e199-5e36309d2940"
      },
      "execution_count": 12,
      "outputs": [
        {
          "output_type": "error",
          "ename": "TypeError",
          "evalue": "g() missing 1 required positional argument: 'y'",
          "traceback": [
            "\u001b[0;31m---------------------------------------------------------------------------\u001b[0m",
            "\u001b[0;31mTypeError\u001b[0m                                 Traceback (most recent call last)",
            "\u001b[0;32m<ipython-input-12-5fd69ddb5074>\u001b[0m in \u001b[0;36m<cell line: 1>\u001b[0;34m()\u001b[0m\n\u001b[0;32m----> 1\u001b[0;31m \u001b[0mg\u001b[0m\u001b[0;34m(\u001b[0m\u001b[0;34m)\u001b[0m\u001b[0;34m\u001b[0m\u001b[0;34m\u001b[0m\u001b[0m\n\u001b[0m",
            "\u001b[0;31mTypeError\u001b[0m: g() missing 1 required positional argument: 'y'"
          ]
        }
      ]
    },
    {
      "cell_type": "code",
      "source": [
        "def f():\n",
        "  def g():\n",
        "    print('inside function g')\n",
        "    f()\n",
        "  g()\n",
        "  print('inside function f')"
      ],
      "metadata": {
        "id": "qWDcRJBz9HRx"
      },
      "execution_count": 13,
      "outputs": []
    },
    {
      "cell_type": "code",
      "source": [
        "f()"
      ],
      "metadata": {
        "colab": {
          "base_uri": "https://localhost:8080/",
          "height": 1000
        },
        "id": "woDKov-T9Zyq",
        "outputId": "b1b697ef-0ae5-4972-b74a-243c3bde49e0"
      },
      "execution_count": 14,
      "outputs": [
        {
          "output_type": "stream",
          "name": "stdout",
          "text": [
            "inside function g\n",
            "inside function g\n",
            "inside function g\n",
            "inside function g\n",
            "inside function g\n",
            "inside function g\n",
            "inside function g\n",
            "inside function g\n",
            "inside function g\n",
            "inside function g\n",
            "inside function g\n",
            "inside function g\n",
            "inside function g\n",
            "inside function g\n",
            "inside function g\n",
            "inside function g\n",
            "inside function g\n",
            "inside function g\n",
            "inside function g\n",
            "inside function g\n",
            "inside function g\n",
            "inside function g\n",
            "inside function g\n",
            "inside function g\n",
            "inside function g\n",
            "inside function g\n",
            "inside function g\n",
            "inside function g\n",
            "inside function g\n",
            "inside function g\n",
            "inside function g\n",
            "inside function g\n",
            "inside function g\n",
            "inside function g\n",
            "inside function g\n",
            "inside function g\n",
            "inside function g\n",
            "inside function g\n",
            "inside function g\n",
            "inside function g\n",
            "inside function g\n",
            "inside function g\n",
            "inside function g\n",
            "inside function g\n",
            "inside function g\n",
            "inside function g\n",
            "inside function g\n",
            "inside function g\n",
            "inside function g\n",
            "inside function g\n",
            "inside function g\n",
            "inside function g\n",
            "inside function g\n",
            "inside function g\n",
            "inside function g\n",
            "inside function g\n",
            "inside function g\n",
            "inside function g\n",
            "inside function g\n",
            "inside function g\n",
            "inside function g\n",
            "inside function g\n",
            "inside function g\n",
            "inside function g\n",
            "inside function g\n",
            "inside function g\n",
            "inside function g\n",
            "inside function g\n",
            "inside function g\n",
            "inside function g\n",
            "inside function g\n",
            "inside function g\n",
            "inside function g\n",
            "inside function g\n",
            "inside function g\n",
            "inside function g\n",
            "inside function g\n",
            "inside function g\n",
            "inside function g\n",
            "inside function g\n",
            "inside function g\n",
            "inside function g\n",
            "inside function g\n",
            "inside function g\n",
            "inside function g\n",
            "inside function g\n",
            "inside function g\n",
            "inside function g\n",
            "inside function g\n",
            "inside function g\n",
            "inside function g\n",
            "inside function g\n",
            "inside function g\n",
            "inside function g\n",
            "inside function g\n",
            "inside function g\n",
            "inside function g\n",
            "inside function g\n",
            "inside function g\n",
            "inside function g\n",
            "inside function g\n",
            "inside function g\n",
            "inside function g\n",
            "inside function g\n",
            "inside function g\n",
            "inside function g\n",
            "inside function g\n",
            "inside function g\n",
            "inside function g\n",
            "inside function g\n",
            "inside function g\n",
            "inside function g\n",
            "inside function g\n",
            "inside function g\n",
            "inside function g\n",
            "inside function g\n",
            "inside function g\n",
            "inside function g\n",
            "inside function g\n",
            "inside function g\n",
            "inside function g\n",
            "inside function g\n",
            "inside function g\n",
            "inside function g\n",
            "inside function g\n",
            "inside function g\n",
            "inside function g\n",
            "inside function g\n",
            "inside function g\n",
            "inside function g\n",
            "inside function g\n",
            "inside function g\n",
            "inside function g\n",
            "inside function g\n",
            "inside function g\n",
            "inside function g\n",
            "inside function g\n",
            "inside function g\n",
            "inside function g\n",
            "inside function g\n",
            "inside function g\n",
            "inside function g\n",
            "inside function g\n",
            "inside function g\n",
            "inside function g\n",
            "inside function g\n",
            "inside function g\n",
            "inside function g\n",
            "inside function g\n",
            "inside function g\n",
            "inside function g\n",
            "inside function g\n",
            "inside function g\n",
            "inside function g\n",
            "inside function g\n",
            "inside function g\n",
            "inside function g\n",
            "inside function g\n",
            "inside function g\n",
            "inside function g\n",
            "inside function g\n",
            "inside function g\n",
            "inside function g\n",
            "inside function g\n",
            "inside function g\n",
            "inside function g\n",
            "inside function g\n",
            "inside function g\n",
            "inside function g\n",
            "inside function g\n",
            "inside function g\n",
            "inside function g\n",
            "inside function g\n",
            "inside function g\n",
            "inside function g\n",
            "inside function g\n",
            "inside function g\n",
            "inside function g\n",
            "inside function g\n",
            "inside function g\n",
            "inside function g\n",
            "inside function g\n",
            "inside function g\n",
            "inside function g\n",
            "inside function g\n",
            "inside function g\n",
            "inside function g\n",
            "inside function g\n",
            "inside function g\n",
            "inside function g\n",
            "inside function g\n",
            "inside function g\n",
            "inside function g\n",
            "inside function g\n",
            "inside function g\n",
            "inside function g\n",
            "inside function g\n",
            "inside function g\n",
            "inside function g\n",
            "inside function g\n",
            "inside function g\n",
            "inside function g\n",
            "inside function g\n",
            "inside function g\n",
            "inside function g\n",
            "inside function g\n",
            "inside function g\n",
            "inside function g\n",
            "inside function g\n",
            "inside function g\n",
            "inside function g\n",
            "inside function g\n",
            "inside function g\n",
            "inside function g\n",
            "inside function g\n",
            "inside function g\n",
            "inside function g\n",
            "inside function g\n",
            "inside function g\n",
            "inside function g\n",
            "inside function g\n",
            "inside function g\n",
            "inside function g\n",
            "inside function g\n",
            "inside function g\n",
            "inside function g\n",
            "inside function g\n",
            "inside function g\n",
            "inside function g\n",
            "inside function g\n",
            "inside function g\n",
            "inside function g\n",
            "inside function g\n",
            "inside function g\n",
            "inside function g\n",
            "inside function g\n",
            "inside function g\n",
            "inside function g\n",
            "inside function g\n",
            "inside function g\n",
            "inside function g\n",
            "inside function g\n",
            "inside function g\n",
            "inside function g\n",
            "inside function g\n",
            "inside function g\n",
            "inside function g\n",
            "inside function g\n",
            "inside function g\n",
            "inside function g\n",
            "inside function g\n",
            "inside function g\n",
            "inside function g\n",
            "inside function g\n",
            "inside function g\n",
            "inside function g\n",
            "inside function g\n",
            "inside function g\n",
            "inside function g\n",
            "inside function g\n",
            "inside function g\n",
            "inside function g\n",
            "inside function g\n",
            "inside function g\n",
            "inside function g\n",
            "inside function g\n",
            "inside function g\n",
            "inside function g\n",
            "inside function g\n",
            "inside function g\n",
            "inside function g\n",
            "inside function g\n",
            "inside function g\n",
            "inside function g\n",
            "inside function g\n",
            "inside function g\n",
            "inside function g\n",
            "inside function g\n",
            "inside function g\n",
            "inside function g\n",
            "inside function g\n",
            "inside function g\n",
            "inside function g\n",
            "inside function g\n",
            "inside function g\n",
            "inside function g\n",
            "inside function g\n",
            "inside function g\n",
            "inside function g\n",
            "inside function g\n",
            "inside function g\n",
            "inside function g\n",
            "inside function g\n",
            "inside function g\n",
            "inside function g\n",
            "inside function g\n",
            "inside function g\n",
            "inside function g\n",
            "inside function g\n",
            "inside function g\n",
            "inside function g\n",
            "inside function g\n",
            "inside function g\n",
            "inside function g\n",
            "inside function g\n",
            "inside function g\n",
            "inside function g\n",
            "inside function g\n",
            "inside function g\n",
            "inside function g\n",
            "inside function g\n",
            "inside function g\n",
            "inside function g\n",
            "inside function g\n",
            "inside function g\n",
            "inside function g\n",
            "inside function g\n",
            "inside function g\n",
            "inside function g\n",
            "inside function g\n",
            "inside function g\n",
            "inside function g\n",
            "inside function g\n",
            "inside function g\n",
            "inside function g\n",
            "inside function g\n",
            "inside function g\n",
            "inside function g\n",
            "inside function g\n",
            "inside function g\n",
            "inside function g\n",
            "inside function g\n",
            "inside function g\n",
            "inside function g\n",
            "inside function g\n",
            "inside function g\n",
            "inside function g\n",
            "inside function g\n",
            "inside function g\n",
            "inside function g\n",
            "inside function g\n",
            "inside function g\n",
            "inside function g\n",
            "inside function g\n",
            "inside function g\n",
            "inside function g\n",
            "inside function g\n",
            "inside function g\n",
            "inside function g\n",
            "inside function g\n",
            "inside function g\n",
            "inside function g\n",
            "inside function g\n",
            "inside function g\n",
            "inside function g\n",
            "inside function g\n",
            "inside function g\n",
            "inside function g\n",
            "inside function g\n",
            "inside function g\n",
            "inside function g\n",
            "inside function g\n",
            "inside function g\n",
            "inside function g\n",
            "inside function g\n",
            "inside function g\n",
            "inside function g\n",
            "inside function g\n",
            "inside function g\n",
            "inside function g\n",
            "inside function g\n",
            "inside function g\n",
            "inside function g\n",
            "inside function g\n",
            "inside function g\n",
            "inside function g\n",
            "inside function g\n",
            "inside function g\n",
            "inside function g\n",
            "inside function g\n",
            "inside function g\n",
            "inside function g\n",
            "inside function g\n",
            "inside function g\n",
            "inside function g\n",
            "inside function g\n",
            "inside function g\n",
            "inside function g\n",
            "inside function g\n",
            "inside function g\n",
            "inside function g\n",
            "inside function g\n",
            "inside function g\n",
            "inside function g\n",
            "inside function g\n",
            "inside function g\n",
            "inside function g\n",
            "inside function g\n",
            "inside function g\n",
            "inside function g\n",
            "inside function g\n",
            "inside function g\n",
            "inside function g\n",
            "inside function g\n",
            "inside function g\n",
            "inside function g\n",
            "inside function g\n",
            "inside function g\n",
            "inside function g\n",
            "inside function g\n",
            "inside function g\n",
            "inside function g\n",
            "inside function g\n",
            "inside function g\n",
            "inside function g\n",
            "inside function g\n",
            "inside function g\n",
            "inside function g\n",
            "inside function g\n",
            "inside function g\n",
            "inside function g\n",
            "inside function g\n",
            "inside function g\n",
            "inside function g\n",
            "inside function g\n",
            "inside function g\n",
            "inside function g\n",
            "inside function g\n",
            "inside function g\n",
            "inside function g\n",
            "inside function g\n",
            "inside function g\n",
            "inside function g\n",
            "inside function g\n",
            "inside function g\n",
            "inside function g\n",
            "inside function g\n",
            "inside function g\n",
            "inside function g\n",
            "inside function g\n",
            "inside function g\n",
            "inside function g\n",
            "inside function g\n",
            "inside function g\n",
            "inside function g\n",
            "inside function g\n",
            "inside function g\n",
            "inside function g\n",
            "inside function g\n",
            "inside function g\n",
            "inside function g\n",
            "inside function g\n",
            "inside function g\n",
            "inside function g\n",
            "inside function g\n",
            "inside function g\n",
            "inside function g\n",
            "inside function g\n",
            "inside function g\n",
            "inside function g\n",
            "inside function g\n",
            "inside function g\n",
            "inside function g\n",
            "inside function g\n",
            "inside function g\n",
            "inside function g\n",
            "inside function g\n",
            "inside function g\n",
            "inside function g\n",
            "inside function g\n",
            "inside function g\n",
            "inside function g\n",
            "inside function g\n",
            "inside function g\n",
            "inside function g\n",
            "inside function g\n",
            "inside function g\n"
          ]
        },
        {
          "output_type": "error",
          "ename": "RecursionError",
          "evalue": "maximum recursion depth exceeded",
          "traceback": [
            "\u001b[0;31m---------------------------------------------------------------------------\u001b[0m",
            "\u001b[0;31mRecursionError\u001b[0m                            Traceback (most recent call last)",
            "\u001b[0;32m<ipython-input-14-c43e34e6d405>\u001b[0m in \u001b[0;36m<cell line: 1>\u001b[0;34m()\u001b[0m\n\u001b[0;32m----> 1\u001b[0;31m \u001b[0mf\u001b[0m\u001b[0;34m(\u001b[0m\u001b[0;34m)\u001b[0m\u001b[0;34m\u001b[0m\u001b[0;34m\u001b[0m\u001b[0m\n\u001b[0m",
            "\u001b[0;32m<ipython-input-13-374a68ddd49e>\u001b[0m in \u001b[0;36mf\u001b[0;34m()\u001b[0m\n\u001b[1;32m      3\u001b[0m     \u001b[0mprint\u001b[0m\u001b[0;34m(\u001b[0m\u001b[0;34m'inside function g'\u001b[0m\u001b[0;34m)\u001b[0m\u001b[0;34m\u001b[0m\u001b[0;34m\u001b[0m\u001b[0m\n\u001b[1;32m      4\u001b[0m     \u001b[0mf\u001b[0m\u001b[0;34m(\u001b[0m\u001b[0;34m)\u001b[0m\u001b[0;34m\u001b[0m\u001b[0;34m\u001b[0m\u001b[0m\n\u001b[0;32m----> 5\u001b[0;31m   \u001b[0mg\u001b[0m\u001b[0;34m(\u001b[0m\u001b[0;34m)\u001b[0m\u001b[0;34m\u001b[0m\u001b[0;34m\u001b[0m\u001b[0m\n\u001b[0m\u001b[1;32m      6\u001b[0m   \u001b[0mprint\u001b[0m\u001b[0;34m(\u001b[0m\u001b[0;34m'inside function f'\u001b[0m\u001b[0;34m)\u001b[0m\u001b[0;34m\u001b[0m\u001b[0;34m\u001b[0m\u001b[0m\n",
            "\u001b[0;32m<ipython-input-13-374a68ddd49e>\u001b[0m in \u001b[0;36mg\u001b[0;34m()\u001b[0m\n\u001b[1;32m      2\u001b[0m   \u001b[0;32mdef\u001b[0m \u001b[0mg\u001b[0m\u001b[0;34m(\u001b[0m\u001b[0;34m)\u001b[0m\u001b[0;34m:\u001b[0m\u001b[0;34m\u001b[0m\u001b[0;34m\u001b[0m\u001b[0m\n\u001b[1;32m      3\u001b[0m     \u001b[0mprint\u001b[0m\u001b[0;34m(\u001b[0m\u001b[0;34m'inside function g'\u001b[0m\u001b[0;34m)\u001b[0m\u001b[0;34m\u001b[0m\u001b[0;34m\u001b[0m\u001b[0m\n\u001b[0;32m----> 4\u001b[0;31m     \u001b[0mf\u001b[0m\u001b[0;34m(\u001b[0m\u001b[0;34m)\u001b[0m\u001b[0;34m\u001b[0m\u001b[0;34m\u001b[0m\u001b[0m\n\u001b[0m\u001b[1;32m      5\u001b[0m   \u001b[0mg\u001b[0m\u001b[0;34m(\u001b[0m\u001b[0;34m)\u001b[0m\u001b[0;34m\u001b[0m\u001b[0;34m\u001b[0m\u001b[0m\n\u001b[1;32m      6\u001b[0m   \u001b[0mprint\u001b[0m\u001b[0;34m(\u001b[0m\u001b[0;34m'inside function f'\u001b[0m\u001b[0;34m)\u001b[0m\u001b[0;34m\u001b[0m\u001b[0;34m\u001b[0m\u001b[0m\n",
            "... last 2 frames repeated, from the frame below ...\n",
            "\u001b[0;32m<ipython-input-13-374a68ddd49e>\u001b[0m in \u001b[0;36mf\u001b[0;34m()\u001b[0m\n\u001b[1;32m      3\u001b[0m     \u001b[0mprint\u001b[0m\u001b[0;34m(\u001b[0m\u001b[0;34m'inside function g'\u001b[0m\u001b[0;34m)\u001b[0m\u001b[0;34m\u001b[0m\u001b[0;34m\u001b[0m\u001b[0m\n\u001b[1;32m      4\u001b[0m     \u001b[0mf\u001b[0m\u001b[0;34m(\u001b[0m\u001b[0;34m)\u001b[0m\u001b[0;34m\u001b[0m\u001b[0;34m\u001b[0m\u001b[0m\n\u001b[0;32m----> 5\u001b[0;31m   \u001b[0mg\u001b[0m\u001b[0;34m(\u001b[0m\u001b[0;34m)\u001b[0m\u001b[0;34m\u001b[0m\u001b[0;34m\u001b[0m\u001b[0m\n\u001b[0m\u001b[1;32m      6\u001b[0m   \u001b[0mprint\u001b[0m\u001b[0;34m(\u001b[0m\u001b[0;34m'inside function f'\u001b[0m\u001b[0;34m)\u001b[0m\u001b[0;34m\u001b[0m\u001b[0;34m\u001b[0m\u001b[0m\n",
            "\u001b[0;31mRecursionError\u001b[0m: maximum recursion depth exceeded"
          ]
        }
      ]
    },
    {
      "cell_type": "code",
      "source": [
        "def g(x):\n",
        "    def h():\n",
        "        x = 'abc'\n",
        "    x = x + 1\n",
        "    print('in g(x): x =', x)\n",
        "    h()\n",
        "    return x\n",
        "\n",
        "x = 3\n",
        "z = g(x)"
      ],
      "metadata": {
        "colab": {
          "base_uri": "https://localhost:8080/"
        },
        "id": "4fq_kcP99abn",
        "outputId": "49d9fdb9-42f7-46c0-e0e0-810c5b85a85d"
      },
      "execution_count": 15,
      "outputs": [
        {
          "output_type": "stream",
          "name": "stdout",
          "text": [
            "in g(x): x = 4\n"
          ]
        }
      ]
    },
    {
      "cell_type": "code",
      "source": [
        "def g(x):\n",
        "    def h(x):\n",
        "        x = x+1\n",
        "        print(\"in h(x): x = \", x)\n",
        "    x = x + 1\n",
        "    print('in g(x): x = ', x)\n",
        "    h(x)\n",
        "    return x\n",
        "\n",
        "x = 3\n",
        "z = g(x)\n",
        "print('in main program scope: x = ', x)\n",
        "print('in main program scope: z = ', z)"
      ],
      "metadata": {
        "colab": {
          "base_uri": "https://localhost:8080/"
        },
        "id": "zkIfNNhU9jF0",
        "outputId": "6f063464-026a-45c0-8443-6f75d60467b3"
      },
      "execution_count": 16,
      "outputs": [
        {
          "output_type": "stream",
          "name": "stdout",
          "text": [
            "in g(x): x =  4\n",
            "in h(x): x =  5\n",
            "in main program scope: x =  3\n",
            "in main program scope: z =  4\n"
          ]
        }
      ]
    },
    {
      "cell_type": "markdown",
      "source": [
        "### Functions are 1st class citizens"
      ],
      "metadata": {
        "id": "7BlGaYS99luL"
      }
    },
    {
      "cell_type": "markdown",
      "source": [
        "In python, function will act as a datatype.\n",
        "\n",
        "Properties of first class functions:\n",
        "\n",
        "*   A function is an instance of the Object type.\n",
        "*   You can store the function in a variable.\n",
        "-   You can pass the function as a parameter to another function.\n",
        "-   You can return the function from a function.\n",
        "-   You can store them in data structures such as hash tables, lists, …\n",
        "\n",
        "[wiki](https://en.wikipedia.org/wiki/First-class_citizen)\n",
        "\n",
        "[geeksforgeeks](https://www.geeksforgeeks.org/first-class-functions-python/)\n"
      ],
      "metadata": {
        "id": "yyHYJkMBEBc8"
      }
    },
    {
      "cell_type": "code",
      "source": [
        "def square(x):\n",
        "  return x**2"
      ],
      "metadata": {
        "id": "l-9gQzoOEmjR"
      },
      "execution_count": 24,
      "outputs": []
    },
    {
      "cell_type": "code",
      "source": [
        "# type and id\n",
        "\n",
        "print(type(square))\n",
        "print(id(square))"
      ],
      "metadata": {
        "colab": {
          "base_uri": "https://localhost:8080/"
        },
        "id": "5xyRbTgJFFJA",
        "outputId": "33fbd0e6-0bf6-41f4-a316-1c155bda83d7"
      },
      "execution_count": 18,
      "outputs": [
        {
          "output_type": "stream",
          "name": "stdout",
          "text": [
            "<class 'function'>\n",
            "138066826162624\n"
          ]
        }
      ]
    },
    {
      "cell_type": "code",
      "source": [
        "# reassign\n",
        "a = square\n",
        "print(a)\n",
        "print(a(4))\n",
        "print(id(a))"
      ],
      "metadata": {
        "colab": {
          "base_uri": "https://localhost:8080/"
        },
        "id": "fkOYFCL3FK9o",
        "outputId": "c7a6f5f9-6393-4fba-f30f-c1df576c5f28"
      },
      "execution_count": 20,
      "outputs": [
        {
          "output_type": "stream",
          "name": "stdout",
          "text": [
            "<function square at 0x7d923020f1c0>\n",
            "16\n",
            "138066826162624\n"
          ]
        }
      ]
    },
    {
      "cell_type": "code",
      "source": [
        "# deleting a function\n",
        "del square"
      ],
      "metadata": {
        "id": "5CeXdOvcFVAN"
      },
      "execution_count": 21,
      "outputs": []
    },
    {
      "cell_type": "code",
      "source": [
        "square(5)"
      ],
      "metadata": {
        "colab": {
          "base_uri": "https://localhost:8080/",
          "height": 141
        },
        "id": "VgFmbVA8Fmrc",
        "outputId": "9e00ada8-4a62-44a0-b510-d174c1a9ba65"
      },
      "execution_count": 22,
      "outputs": [
        {
          "output_type": "error",
          "ename": "NameError",
          "evalue": "name 'square' is not defined",
          "traceback": [
            "\u001b[0;31m---------------------------------------------------------------------------\u001b[0m",
            "\u001b[0;31mNameError\u001b[0m                                 Traceback (most recent call last)",
            "\u001b[0;32m<ipython-input-22-5cdc49c75719>\u001b[0m in \u001b[0;36m<cell line: 1>\u001b[0;34m()\u001b[0m\n\u001b[0;32m----> 1\u001b[0;31m \u001b[0msquare\u001b[0m\u001b[0;34m(\u001b[0m\u001b[0;36m5\u001b[0m\u001b[0;34m)\u001b[0m\u001b[0;34m\u001b[0m\u001b[0;34m\u001b[0m\u001b[0m\n\u001b[0m",
            "\u001b[0;31mNameError\u001b[0m: name 'square' is not defined"
          ]
        }
      ]
    },
    {
      "cell_type": "code",
      "source": [
        "# storing\n",
        "L = [1,2,3,4,square]\n",
        "print(L)"
      ],
      "metadata": {
        "colab": {
          "base_uri": "https://localhost:8080/"
        },
        "id": "tygzEiHPFpVt",
        "outputId": "1a790a40-74de-409c-b978-7fab63fee046"
      },
      "execution_count": 28,
      "outputs": [
        {
          "output_type": "stream",
          "name": "stdout",
          "text": [
            "[1, 2, 3, 4, <function square at 0x7d91fe291900>]\n"
          ]
        }
      ]
    },
    {
      "cell_type": "code",
      "source": [
        "print(L[-1](4))"
      ],
      "metadata": {
        "colab": {
          "base_uri": "https://localhost:8080/"
        },
        "id": "UymDRAFrF1UE",
        "outputId": "403e9996-b7c4-466d-d4b8-887c9716bc3b"
      },
      "execution_count": 29,
      "outputs": [
        {
          "output_type": "stream",
          "name": "stdout",
          "text": [
            "16\n"
          ]
        }
      ]
    },
    {
      "cell_type": "code",
      "source": [
        "s = {square}   # function is an immutable datatype\n",
        "print(s)"
      ],
      "metadata": {
        "colab": {
          "base_uri": "https://localhost:8080/"
        },
        "id": "Ff_fssMXGFlE",
        "outputId": "59e5cf28-1988-4a4d-85e5-470b40251bf2"
      },
      "execution_count": 30,
      "outputs": [
        {
          "output_type": "stream",
          "name": "stdout",
          "text": [
            "{<function square at 0x7d91fe291900>}\n"
          ]
        }
      ]
    },
    {
      "cell_type": "code",
      "source": [
        "# returning a function\n",
        "\n",
        "def f():\n",
        "    def x(a, b):\n",
        "        return a+b\n",
        "    return x\n",
        "\n",
        "val = f()(3,4)\n",
        "print(val)"
      ],
      "metadata": {
        "colab": {
          "base_uri": "https://localhost:8080/"
        },
        "id": "TGkDICMcGIiE",
        "outputId": "d2f07ae8-da1c-48ba-b5b9-8d3aa9597aba"
      },
      "execution_count": 31,
      "outputs": [
        {
          "output_type": "stream",
          "name": "stdout",
          "text": [
            "7\n"
          ]
        }
      ]
    },
    {
      "cell_type": "markdown",
      "source": [
        "![image.png](data:image/png;base64,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)"
      ],
      "metadata": {
        "id": "QTlDLXmyGt-_"
      }
    },
    {
      "cell_type": "code",
      "source": [
        "# function as argument\n",
        "\n",
        "def func_a():\n",
        "    print('inside func_a')\n",
        "\n",
        "def func_b(z):\n",
        "    print('inside func_b')\n",
        "    return z()\n",
        "\n",
        "print(func_b(func_a))"
      ],
      "metadata": {
        "colab": {
          "base_uri": "https://localhost:8080/"
        },
        "id": "oEhuPsh5GusL",
        "outputId": "5925e4cb-65c7-4654-8fe8-288438354fa6"
      },
      "execution_count": 32,
      "outputs": [
        {
          "output_type": "stream",
          "name": "stdout",
          "text": [
            "inside func_b\n",
            "inside func_a\n",
            "None\n"
          ]
        }
      ]
    },
    {
      "cell_type": "markdown",
      "source": [
        "### Benefits of using a Function\n",
        "\n",
        "- Code Modularity\n",
        "- Code Readibility\n",
        "- Code Reusability"
      ],
      "metadata": {
        "id": "9aA026ZqHE7Z"
      }
    },
    {
      "cell_type": "markdown",
      "source": [
        "### Lambda Function\n",
        "\n",
        "A lambda function is a small anonymous function.\n",
        "\n",
        "A lambda function can take any number of arguments, but can only have one expression.\n",
        "\n",
        "![image.png](data:image/png;base64,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)"
      ],
      "metadata": {
        "id": "KDwOMtD8e4Wz"
      }
    },
    {
      "cell_type": "code",
      "source": [
        "# x -> x**2\n",
        "a = lambda x:x**2\n",
        "print(a)\n",
        "print(a(4))"
      ],
      "metadata": {
        "colab": {
          "base_uri": "https://localhost:8080/"
        },
        "id": "FlsrcfMUfL7W",
        "outputId": "f4e44aea-1d6c-45a5-f20a-9c6cd33ae2d7"
      },
      "execution_count": 3,
      "outputs": [
        {
          "output_type": "stream",
          "name": "stdout",
          "text": [
            "<function <lambda> at 0x7daf9ec5ba30>\n",
            "16\n"
          ]
        }
      ]
    },
    {
      "cell_type": "code",
      "source": [
        "# x,y -> x+y\n",
        "b = lambda x,y:x+y\n",
        "print(b(4,5))"
      ],
      "metadata": {
        "colab": {
          "base_uri": "https://localhost:8080/"
        },
        "id": "aXcFjOwnffOt",
        "outputId": "c4a1f41f-283b-4eca-8035-4b923f4a39f6"
      },
      "execution_count": 4,
      "outputs": [
        {
          "output_type": "stream",
          "name": "stdout",
          "text": [
            "9\n"
          ]
        }
      ]
    },
    {
      "cell_type": "code",
      "source": [
        "# check if a string has a\n",
        "f = lambda s:True if 'a' in s else False\n",
        "f('mumbai')"
      ],
      "metadata": {
        "colab": {
          "base_uri": "https://localhost:8080/"
        },
        "id": "J0WW01A4HJVX",
        "outputId": "1d59ad8a-d8d8-4703-d669-df584ea06327"
      },
      "execution_count": 36,
      "outputs": [
        {
          "output_type": "execute_result",
          "data": {
            "text/plain": [
              "True"
            ]
          },
          "metadata": {},
          "execution_count": 36
        }
      ]
    },
    {
      "cell_type": "code",
      "source": [
        "f = lambda s:'a' in s\n",
        "print(f('pune'))"
      ],
      "metadata": {
        "colab": {
          "base_uri": "https://localhost:8080/"
        },
        "id": "UgAXiOLGf9-T",
        "outputId": "a5413f48-c49f-45c5-8feb-8ea7603044c4"
      },
      "execution_count": 6,
      "outputs": [
        {
          "output_type": "stream",
          "name": "stdout",
          "text": [
            "False\n"
          ]
        }
      ]
    },
    {
      "cell_type": "code",
      "source": [
        "# odd or even\n",
        "e = lambda x:'Even' if x%2==0 else 'Odd'\n",
        "e(11)"
      ],
      "metadata": {
        "colab": {
          "base_uri": "https://localhost:8080/",
          "height": 35
        },
        "id": "lEcAFeulahXx",
        "outputId": "1a9d0047-2bdb-4f96-a216-734260319a8c"
      },
      "execution_count": 39,
      "outputs": [
        {
          "output_type": "execute_result",
          "data": {
            "text/plain": [
              "'Odd'"
            ],
            "application/vnd.google.colaboratory.intrinsic+json": {
              "type": "string"
            }
          },
          "metadata": {},
          "execution_count": 39
        }
      ]
    },
    {
      "cell_type": "markdown",
      "source": [
        "#### Diff between lambda vs Normal Function\n",
        "\n",
        "- No name\n",
        "- lambda has no return value(infact,returns a function)\n",
        "- lambda is written in 1 line\n",
        "- not reusable\n",
        "\n",
        "Then why use lambda functions?<br>\n",
        "**They are used with HOF**"
      ],
      "metadata": {
        "id": "btSOTeAigMJt"
      }
    },
    {
      "cell_type": "markdown",
      "source": [
        "### Higher Order Functions"
      ],
      "metadata": {
        "id": "_NElcG7ogiZ5"
      }
    },
    {
      "cell_type": "markdown",
      "source": [
        "Higher order functions are those functions which returns another function OR function which gets another function as input.\n",
        "\n",
        "Few examples of HOF:\n",
        "- map\n",
        "- reduce\n",
        "- filter"
      ],
      "metadata": {
        "id": "9lK2zA05iZi-"
      }
    },
    {
      "cell_type": "code",
      "source": [
        "# Example\n",
        "\n",
        "def square(x):\n",
        "  return x**2\n",
        "\n",
        "def cube(x):\n",
        "  return x**3\n",
        "\n",
        "# HOF\n",
        "def transform(f,L):\n",
        "  output = []\n",
        "  for i in L:\n",
        "    output.append(f(i))\n",
        "\n",
        "  print(output)\n",
        "\n",
        "L = [1,2,3,4,5]\n",
        "\n",
        "transform(square,L)\n",
        "transform(cube,L)"
      ],
      "metadata": {
        "colab": {
          "base_uri": "https://localhost:8080/"
        },
        "id": "Szto3h37iELT",
        "outputId": "b0c4fd0a-ee5f-4063-abba-7185844f508e"
      },
      "execution_count": 7,
      "outputs": [
        {
          "output_type": "stream",
          "name": "stdout",
          "text": [
            "[1, 4, 9, 16, 25]\n",
            "[1, 8, 27, 64, 125]\n"
          ]
        }
      ]
    },
    {
      "cell_type": "code",
      "source": [
        "transform(lambda x:x**2,L)"
      ],
      "metadata": {
        "colab": {
          "base_uri": "https://localhost:8080/"
        },
        "id": "DJQTsGL9a15Z",
        "outputId": "4cf7f6b6-1133-4ef5-e0c5-60781d4a287e"
      },
      "execution_count": 8,
      "outputs": [
        {
          "output_type": "stream",
          "name": "stdout",
          "text": [
            "[1, 4, 9, 16, 25]\n"
          ]
        }
      ]
    },
    {
      "cell_type": "code",
      "source": [
        "transform(lambda x:x**3,L)"
      ],
      "metadata": {
        "colab": {
          "base_uri": "https://localhost:8080/"
        },
        "id": "tJq__-ymiO1x",
        "outputId": "24eb27da-14e6-49ab-e92f-eba1feca5170"
      },
      "execution_count": 9,
      "outputs": [
        {
          "output_type": "stream",
          "name": "stdout",
          "text": [
            "[1, 8, 27, 64, 125]\n"
          ]
        }
      ]
    },
    {
      "cell_type": "markdown",
      "source": [
        "### Map"
      ],
      "metadata": {
        "id": "r1wCGsfsjHe2"
      }
    },
    {
      "cell_type": "code",
      "source": [
        "# map - map(function,iterable)\n",
        "\n",
        "# square the items of a list\n",
        "a = map(lambda x:x**2,[1,2,3,4,5])\n",
        "print(a)\n",
        "print(list(a))"
      ],
      "metadata": {
        "colab": {
          "base_uri": "https://localhost:8080/"
        },
        "id": "7wCK5m2uixkm",
        "outputId": "4e3bd61d-dbf5-4fb0-a5d5-6647d348f231"
      },
      "execution_count": 17,
      "outputs": [
        {
          "output_type": "stream",
          "name": "stdout",
          "text": [
            "<map object at 0x7daf90837f40>\n",
            "[1, 4, 9, 16, 25]\n"
          ]
        }
      ]
    },
    {
      "cell_type": "code",
      "source": [
        "# odd/even labelling of list items\n",
        "list(map(lambda x:'even' if x%2==0 else 'odd',range(1,6)))"
      ],
      "metadata": {
        "colab": {
          "base_uri": "https://localhost:8080/"
        },
        "id": "biYz9_3QjU1Z",
        "outputId": "8d0db587-916c-4541-ff59-4915ff389cd7"
      },
      "execution_count": 16,
      "outputs": [
        {
          "output_type": "execute_result",
          "data": {
            "text/plain": [
              "['odd', 'even', 'odd', 'even', 'odd']"
            ]
          },
          "metadata": {},
          "execution_count": 16
        }
      ]
    },
    {
      "cell_type": "code",
      "source": [
        "# fetch names from a list of dict\n",
        "\n",
        "users = [\n",
        "    {\n",
        "        'name':'Rahul',\n",
        "        'age':45,\n",
        "        'gender':'male'\n",
        "    },\n",
        "    {\n",
        "        'name':'Nitish',\n",
        "        'age':33,\n",
        "        'gender':'male'\n",
        "    },\n",
        "    {\n",
        "        'name':'Ankita',\n",
        "        'age':50,\n",
        "        'gender':'female'\n",
        "    }\n",
        "]\n",
        "\n",
        "list(map(lambda x:x['name'],users))"
      ],
      "metadata": {
        "colab": {
          "base_uri": "https://localhost:8080/"
        },
        "id": "HwdMkzNMj_-L",
        "outputId": "3691397b-fd37-4765-ac7e-3cf58bbefb9a"
      },
      "execution_count": 18,
      "outputs": [
        {
          "output_type": "execute_result",
          "data": {
            "text/plain": [
              "['Rahul', 'Nitish', 'Ankita']"
            ]
          },
          "metadata": {},
          "execution_count": 18
        }
      ]
    },
    {
      "cell_type": "markdown",
      "source": [
        "### Filter"
      ],
      "metadata": {
        "id": "GhzNy9jjlYW2"
      }
    },
    {
      "cell_type": "code",
      "source": [
        "# filter - filter(lambda function provides condition, iterable)\n",
        "\n",
        "# numbers greater than 5\n",
        "L = [3,4,5,6,7]\n",
        "list(filter(lambda x:x>5,L))"
      ],
      "metadata": {
        "colab": {
          "base_uri": "https://localhost:8080/"
        },
        "id": "WBmBS8YXlZKB",
        "outputId": "71f2dda0-e420-4936-cbd0-4cb281996166"
      },
      "execution_count": 20,
      "outputs": [
        {
          "output_type": "execute_result",
          "data": {
            "text/plain": [
              "[6, 7]"
            ]
          },
          "metadata": {},
          "execution_count": 20
        }
      ]
    },
    {
      "cell_type": "code",
      "source": [
        "# fetch fruits starting with 'a'\n",
        "fruits = ['apple','guava','cherry','almond','watermelon']\n",
        "list(filter(lambda x:x.startswith('a'),fruits))"
      ],
      "metadata": {
        "colab": {
          "base_uri": "https://localhost:8080/"
        },
        "id": "zaLF2B0clfk4",
        "outputId": "078daa02-f738-4ac0-d76d-f2aabf743801"
      },
      "execution_count": 24,
      "outputs": [
        {
          "output_type": "execute_result",
          "data": {
            "text/plain": [
              "['apple', 'almond']"
            ]
          },
          "metadata": {},
          "execution_count": 24
        }
      ]
    },
    {
      "cell_type": "markdown",
      "source": [
        "### Reduce"
      ],
      "metadata": {
        "id": "ZDa2QvVBm4oc"
      }
    },
    {
      "cell_type": "code",
      "source": [
        "# sum of all item\n",
        "import functools\n",
        "L = [1,2,3,4,5]\n",
        "\n",
        "functools.reduce(lambda x,y:x+y,L)"
      ],
      "metadata": {
        "colab": {
          "base_uri": "https://localhost:8080/"
        },
        "id": "dQGWFemgm5Vh",
        "outputId": "a60d9efb-bd18-4088-a386-090db3bf8ff4"
      },
      "execution_count": 25,
      "outputs": [
        {
          "output_type": "execute_result",
          "data": {
            "text/plain": [
              "15"
            ]
          },
          "metadata": {},
          "execution_count": 25
        }
      ]
    },
    {
      "cell_type": "code",
      "source": [
        "# find min\n",
        "functools.reduce(lambda x,y:x if x<y else y,[2,3,4,-1,5,2,0])"
      ],
      "metadata": {
        "colab": {
          "base_uri": "https://localhost:8080/"
        },
        "id": "7mFBCaMom-ms",
        "outputId": "dceabbe0-3509-4798-8642-a07f044ae59f"
      },
      "execution_count": 28,
      "outputs": [
        {
          "output_type": "execute_result",
          "data": {
            "text/plain": [
              "-1"
            ]
          },
          "metadata": {},
          "execution_count": 28
        }
      ]
    },
    {
      "cell_type": "code",
      "source": [
        "# find max\n",
        "functools.reduce(lambda x,y:x if x>y else y,[2,3,4,-1,5,2,0])"
      ],
      "metadata": {
        "colab": {
          "base_uri": "https://localhost:8080/"
        },
        "id": "K24Ba2YwnZHv",
        "outputId": "1472fabd-8116-42b0-ec72-12ce707658f4"
      },
      "execution_count": 29,
      "outputs": [
        {
          "output_type": "execute_result",
          "data": {
            "text/plain": [
              "5"
            ]
          },
          "metadata": {},
          "execution_count": 29
        }
      ]
    }
  ]
}