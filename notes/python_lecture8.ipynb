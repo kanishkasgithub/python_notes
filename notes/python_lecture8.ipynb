{
  "nbformat": 4,
  "nbformat_minor": 0,
  "metadata": {
    "colab": {
      "provenance": []
    },
    "kernelspec": {
      "name": "python3",
      "display_name": "Python 3"
    },
    "language_info": {
      "name": "python"
    }
  },
  "cells": [
    {
      "cell_type": "markdown",
      "source": [
        "Topics covered:\n",
        "\n",
        "*   OOP - Object oriented programming (continued)\n"
      ],
      "metadata": {
        "id": "QjFKBzpoav2T"
      }
    },
    {
      "cell_type": "markdown",
      "source": [
        "### Write OOP classes to handle the following scenarios:\n",
        "\n",
        "- A user can create and view 2D coordinates\n",
        "- A user can find out the distance between 2 coordinates\n",
        "- A user can find find the distance of a coordinate from origin\n",
        "- A user can check if a point lies on a given line\n",
        "- A user can find the distance between a given 2D point and a given line"
      ],
      "metadata": {
        "id": "zmVanGS5zno1"
      }
    },
    {
      "cell_type": "code",
      "execution_count": 36,
      "metadata": {
        "id": "OI7Cbt9Qasml"
      },
      "outputs": [],
      "source": [
        "class Point:\n",
        "\n",
        "  def __init__(self,x,y):\n",
        "    self.x = x\n",
        "    self.y = y\n",
        "\n",
        "  def __str__(self):\n",
        "    return '<{},{}>'.format(self.x,self.y)\n",
        "\n",
        "  def euclidean_distance(self,p):\n",
        "    d = ((self.x - p.x)**2 + (self.y - p.y)**2)**0.5\n",
        "    return round(d,2)\n",
        "\n",
        "  def distance_from_origin(self):\n",
        "    # d = (self.x**2 + self.y**2)**0.5\n",
        "    # return round(d,2)\n",
        "    return self.euclidean_distance(Point(0,0))  # creating class object inside class"
      ]
    },
    {
      "cell_type": "code",
      "source": [
        "import math\n",
        "class Line:\n",
        "\n",
        "  def __init__(self,A,B,C):\n",
        "    self.A = A\n",
        "    self.B = B\n",
        "    self.C = C\n",
        "\n",
        "  def __str__(self):\n",
        "    return '{}x + {}y + {} = 0'.format(self.A,self.B,self.C)\n",
        "\n",
        "  def point_on_line(line,point):\n",
        "    if line.A*point.x + line.B*point.y + line.C == 0:\n",
        "      return 'Lies on line'\n",
        "    else:\n",
        "      return 'Does not lie on line'\n",
        "\n",
        "  def shortest_distance(line,point):\n",
        "    d = abs(line.A*point.x + line.B*point.y + line.C)/ (line.A**2 + line.B**2)**0.5\n",
        "    return round(d,2)\n",
        "\n",
        "  def intersect(line1,line2):\n",
        "    m1 = -1*(line1.A/line1.B)\n",
        "    m2 = -1*(line2.A/line2.B)\n",
        "    if m1 == m2:\n",
        "      return 'Lines are parallel'\n",
        "    elif m1*m2 == -1:\n",
        "      return 'Lines are perpendicular, angle = 90'\n",
        "    else:\n",
        "      x = abs((m2-m1)/(1+m1*m2))\n",
        "      angle = math.degrees(math.atan(x))\n",
        "      return 'Lines intersect, angle = {}'.format(angle)"
      ],
      "metadata": {
        "id": "eI0NiCIClNkK"
      },
      "execution_count": 79,
      "outputs": []
    },
    {
      "cell_type": "code",
      "source": [
        "p = Point(1,2)\n",
        "q = Point(3,4)\n",
        "print(p.euclidean_distance(q))\n",
        "print(p,q)"
      ],
      "metadata": {
        "colab": {
          "base_uri": "https://localhost:8080/"
        },
        "id": "nvo5daRPeIhF",
        "outputId": "cd65facf-b8b8-40a1-d155-b6fac4452601"
      },
      "execution_count": 27,
      "outputs": [
        {
          "output_type": "stream",
          "name": "stdout",
          "text": [
            "2.83\n",
            "<1,2> <3,4>\n"
          ]
        }
      ]
    },
    {
      "cell_type": "code",
      "source": [
        "p.distance_from_origin()"
      ],
      "metadata": {
        "colab": {
          "base_uri": "https://localhost:8080/"
        },
        "id": "EtYO7XgAeJ20",
        "outputId": "e239a8b8-ad3d-43e6-c639-eac22405591f"
      },
      "execution_count": 20,
      "outputs": [
        {
          "output_type": "execute_result",
          "data": {
            "text/plain": [
              "2.24"
            ]
          },
          "metadata": {},
          "execution_count": 20
        }
      ]
    },
    {
      "cell_type": "code",
      "source": [
        "q.distance_from_origin()"
      ],
      "metadata": {
        "colab": {
          "base_uri": "https://localhost:8080/"
        },
        "id": "L1ek4wgvg69Q",
        "outputId": "125cc44a-4e63-4ff7-c81c-f2cac5faf2da"
      },
      "execution_count": 21,
      "outputs": [
        {
          "output_type": "execute_result",
          "data": {
            "text/plain": [
              "5.0"
            ]
          },
          "metadata": {},
          "execution_count": 21
        }
      ]
    },
    {
      "cell_type": "code",
      "source": [
        "l1 = Line(3,4,5)\n",
        "print(l1)"
      ],
      "metadata": {
        "colab": {
          "base_uri": "https://localhost:8080/"
        },
        "id": "g6gh6hC_g975",
        "outputId": "fcaf7479-f361-438d-97c0-15130448cbb6"
      },
      "execution_count": 55,
      "outputs": [
        {
          "output_type": "stream",
          "name": "stdout",
          "text": [
            "3x + 4y + 5 = 0\n"
          ]
        }
      ]
    },
    {
      "cell_type": "code",
      "source": [
        "l2 = Line(1,1,-2)\n",
        "print(l2)"
      ],
      "metadata": {
        "colab": {
          "base_uri": "https://localhost:8080/"
        },
        "id": "dBzeCyW-jbr1",
        "outputId": "ca24ef8d-637c-498b-e854-e4532b29ddf7"
      },
      "execution_count": 56,
      "outputs": [
        {
          "output_type": "stream",
          "name": "stdout",
          "text": [
            "1x + 1y + -2 = 0\n"
          ]
        }
      ]
    },
    {
      "cell_type": "code",
      "source": [
        "p1 = Point(1,1)"
      ],
      "metadata": {
        "id": "KoHeOVTIkRLx"
      },
      "execution_count": 57,
      "outputs": []
    },
    {
      "cell_type": "code",
      "source": [
        "l1.point_on_line(p1)"
      ],
      "metadata": {
        "colab": {
          "base_uri": "https://localhost:8080/",
          "height": 35
        },
        "id": "q64eGRkLkqLi",
        "outputId": "2c4202ac-bcb2-4324-f548-7d5baaccf989"
      },
      "execution_count": 42,
      "outputs": [
        {
          "output_type": "execute_result",
          "data": {
            "text/plain": [
              "'Does not lie on line'"
            ],
            "application/vnd.google.colaboratory.intrinsic+json": {
              "type": "string"
            }
          },
          "metadata": {},
          "execution_count": 42
        }
      ]
    },
    {
      "cell_type": "code",
      "source": [
        "l2.point_on_line(p1)"
      ],
      "metadata": {
        "colab": {
          "base_uri": "https://localhost:8080/",
          "height": 35
        },
        "id": "f6kpiz4skY5K",
        "outputId": "41638b25-4712-44f8-fb13-6595a41534d9"
      },
      "execution_count": 43,
      "outputs": [
        {
          "output_type": "execute_result",
          "data": {
            "text/plain": [
              "'Lies on line'"
            ],
            "application/vnd.google.colaboratory.intrinsic+json": {
              "type": "string"
            }
          },
          "metadata": {},
          "execution_count": 43
        }
      ]
    },
    {
      "cell_type": "code",
      "source": [
        "l1.shortest_distance(p1)"
      ],
      "metadata": {
        "colab": {
          "base_uri": "https://localhost:8080/"
        },
        "id": "-Ey78xYdkamF",
        "outputId": "38287483-9afc-4b35-f85d-b785d2747f63"
      },
      "execution_count": 58,
      "outputs": [
        {
          "output_type": "execute_result",
          "data": {
            "text/plain": [
              "2.4"
            ]
          },
          "metadata": {},
          "execution_count": 58
        }
      ]
    },
    {
      "cell_type": "code",
      "source": [
        "l2.shortest_distance(p1)"
      ],
      "metadata": {
        "colab": {
          "base_uri": "https://localhost:8080/"
        },
        "id": "ki3n8uGto9XX",
        "outputId": "64178864-46e4-4dac-c51f-d21c0fa2d3f7"
      },
      "execution_count": 59,
      "outputs": [
        {
          "output_type": "execute_result",
          "data": {
            "text/plain": [
              "0.0"
            ]
          },
          "metadata": {},
          "execution_count": 59
        }
      ]
    },
    {
      "cell_type": "code",
      "source": [
        "import math"
      ],
      "metadata": {
        "id": "5MMUIAbio_UU"
      },
      "execution_count": 60,
      "outputs": []
    },
    {
      "cell_type": "code",
      "source": [
        "math.degrees(math.acos(0))"
      ],
      "metadata": {
        "colab": {
          "base_uri": "https://localhost:8080/"
        },
        "id": "J53OFwsI66iN",
        "outputId": "19081b0f-85f2-4473-9bb2-5d2790623ca7"
      },
      "execution_count": 67,
      "outputs": [
        {
          "output_type": "execute_result",
          "data": {
            "text/plain": [
              "90.0"
            ]
          },
          "metadata": {},
          "execution_count": 67
        }
      ]
    },
    {
      "cell_type": "code",
      "source": [
        "l1 = Line(1,-2,1)\n",
        "l2 = Line(1,-2,-3)\n",
        "print(l1)\n",
        "print(l2)\n",
        "l1.intersect(l2)"
      ],
      "metadata": {
        "colab": {
          "base_uri": "https://localhost:8080/",
          "height": 70
        },
        "id": "N_JzZQRN7Aod",
        "outputId": "9d8c4f4c-8b5f-47ab-916e-8db25b5859c1"
      },
      "execution_count": 80,
      "outputs": [
        {
          "output_type": "stream",
          "name": "stdout",
          "text": [
            "1x + -2y + 1 = 0\n",
            "1x + -2y + -3 = 0\n"
          ]
        },
        {
          "output_type": "execute_result",
          "data": {
            "text/plain": [
              "'Lines are parallel'"
            ],
            "application/vnd.google.colaboratory.intrinsic+json": {
              "type": "string"
            }
          },
          "metadata": {},
          "execution_count": 80
        }
      ]
    },
    {
      "cell_type": "code",
      "source": [
        "l1 = Line(1,1,-1)\n",
        "l2 = Line(1,-1,1)\n",
        "print(l1)\n",
        "print(l2)\n",
        "l1.intersect(l2)"
      ],
      "metadata": {
        "colab": {
          "base_uri": "https://localhost:8080/",
          "height": 70
        },
        "id": "SBSVUFC68ZOL",
        "outputId": "845f3cf6-f6c8-4267-d2a3-8aa091c2fd52"
      },
      "execution_count": 81,
      "outputs": [
        {
          "output_type": "stream",
          "name": "stdout",
          "text": [
            "1x + 1y + -1 = 0\n",
            "1x + -1y + 1 = 0\n"
          ]
        },
        {
          "output_type": "execute_result",
          "data": {
            "text/plain": [
              "'Lines are perpendicular, angle = 90'"
            ],
            "application/vnd.google.colaboratory.intrinsic+json": {
              "type": "string"
            }
          },
          "metadata": {},
          "execution_count": 81
        }
      ]
    },
    {
      "cell_type": "code",
      "source": [
        "l1 = Line(2,1,3)\n",
        "l2 = Line(-3,1,3)\n",
        "print(l1)\n",
        "print(l2)\n",
        "l1.intersect(l2)"
      ],
      "metadata": {
        "colab": {
          "base_uri": "https://localhost:8080/",
          "height": 70
        },
        "id": "x1hG9tHQBKUb",
        "outputId": "28c5508d-7ba4-48b9-9d29-9c91ab05cc0d"
      },
      "execution_count": 82,
      "outputs": [
        {
          "output_type": "stream",
          "name": "stdout",
          "text": [
            "2x + 1y + 3 = 0\n",
            "-3x + 1y + 3 = 0\n"
          ]
        },
        {
          "output_type": "execute_result",
          "data": {
            "text/plain": [
              "'Lines intersect, angle = 45.0'"
            ],
            "application/vnd.google.colaboratory.intrinsic+json": {
              "type": "string"
            }
          },
          "metadata": {},
          "execution_count": 82
        }
      ]
    },
    {
      "cell_type": "markdown",
      "source": [
        "[intersect logic](https://www.cuemath.com/geometry/intersection-of-two-lines/)"
      ],
      "metadata": {
        "id": "hpg4RU7ICPk7"
      }
    },
    {
      "cell_type": "markdown",
      "source": [
        "### How objects access attributes"
      ],
      "metadata": {
        "id": "zDNYOVO3EDVr"
      }
    },
    {
      "cell_type": "code",
      "source": [
        "class Person:\n",
        "\n",
        "  def __init__(self,name_input,country_input):\n",
        "    self.name = name_input\n",
        "    self.country = country_input\n",
        "\n",
        "  def greet(self):\n",
        "    if self.country == 'india':\n",
        "      print('Namaste',self.name)\n",
        "    else:\n",
        "      print('Hello',self.name)"
      ],
      "metadata": {
        "id": "o2BQk8jSCU-k"
      },
      "execution_count": 83,
      "outputs": []
    },
    {
      "cell_type": "code",
      "source": [
        "p = Person('rahul','india')"
      ],
      "metadata": {
        "id": "-FFJCYQEEURH"
      },
      "execution_count": 84,
      "outputs": []
    },
    {
      "cell_type": "code",
      "source": [
        "# how to access attributes\n",
        "p.name"
      ],
      "metadata": {
        "colab": {
          "base_uri": "https://localhost:8080/",
          "height": 35
        },
        "id": "vNyyj1TeEVia",
        "outputId": "521932b2-1dc4-4597-f37f-0164b6414c41"
      },
      "execution_count": 85,
      "outputs": [
        {
          "output_type": "execute_result",
          "data": {
            "text/plain": [
              "'rahul'"
            ],
            "application/vnd.google.colaboratory.intrinsic+json": {
              "type": "string"
            }
          },
          "metadata": {},
          "execution_count": 85
        }
      ]
    },
    {
      "cell_type": "code",
      "source": [
        "p.country"
      ],
      "metadata": {
        "colab": {
          "base_uri": "https://localhost:8080/",
          "height": 35
        },
        "id": "1Bq_3VJ6EXO0",
        "outputId": "52b98ac0-3142-4ea1-d7ce-2378675f17df"
      },
      "execution_count": 86,
      "outputs": [
        {
          "output_type": "execute_result",
          "data": {
            "text/plain": [
              "'india'"
            ],
            "application/vnd.google.colaboratory.intrinsic+json": {
              "type": "string"
            }
          },
          "metadata": {},
          "execution_count": 86
        }
      ]
    },
    {
      "cell_type": "code",
      "source": [
        "# how to access methods\n",
        "p.greet()"
      ],
      "metadata": {
        "colab": {
          "base_uri": "https://localhost:8080/"
        },
        "id": "KI8ivS-REY2H",
        "outputId": "c69858d0-b3b6-43d3-eba8-5d1f2a538246"
      },
      "execution_count": 87,
      "outputs": [
        {
          "output_type": "stream",
          "name": "stdout",
          "text": [
            "Namaste rahul\n"
          ]
        }
      ]
    },
    {
      "cell_type": "code",
      "source": [
        "# what if i try to access non-existent attributes\n",
        "p.gender"
      ],
      "metadata": {
        "colab": {
          "base_uri": "https://localhost:8080/",
          "height": 159
        },
        "id": "fUBy7NNaEaaa",
        "outputId": "07741495-eac6-4a44-c2d7-d4583e430800"
      },
      "execution_count": 88,
      "outputs": [
        {
          "output_type": "error",
          "ename": "AttributeError",
          "evalue": "'Person' object has no attribute 'gender'",
          "traceback": [
            "\u001b[0;31m---------------------------------------------------------------------------\u001b[0m",
            "\u001b[0;31mAttributeError\u001b[0m                            Traceback (most recent call last)",
            "\u001b[0;32m<ipython-input-88-39388d77d830>\u001b[0m in \u001b[0;36m<cell line: 2>\u001b[0;34m()\u001b[0m\n\u001b[1;32m      1\u001b[0m \u001b[0;31m# what if i try to access non-existent attributes\u001b[0m\u001b[0;34m\u001b[0m\u001b[0;34m\u001b[0m\u001b[0m\n\u001b[0;32m----> 2\u001b[0;31m \u001b[0mp\u001b[0m\u001b[0;34m.\u001b[0m\u001b[0mgender\u001b[0m\u001b[0;34m\u001b[0m\u001b[0;34m\u001b[0m\u001b[0m\n\u001b[0m",
            "\u001b[0;31mAttributeError\u001b[0m: 'Person' object has no attribute 'gender'"
          ]
        }
      ]
    },
    {
      "cell_type": "markdown",
      "source": [
        "### Attribute creation from outside of the class"
      ],
      "metadata": {
        "id": "A26lkIl1E2uI"
      }
    },
    {
      "cell_type": "code",
      "source": [
        "p.gender = 'male'"
      ],
      "metadata": {
        "id": "03KoSxBCE1pb"
      },
      "execution_count": 89,
      "outputs": []
    },
    {
      "cell_type": "code",
      "source": [
        "p.gender"
      ],
      "metadata": {
        "colab": {
          "base_uri": "https://localhost:8080/",
          "height": 35
        },
        "id": "ne1NJQ5JE6eq",
        "outputId": "cc73cf4d-d4af-4a40-8d6f-0ad481badacb"
      },
      "execution_count": 90,
      "outputs": [
        {
          "output_type": "execute_result",
          "data": {
            "text/plain": [
              "'male'"
            ],
            "application/vnd.google.colaboratory.intrinsic+json": {
              "type": "string"
            }
          },
          "metadata": {},
          "execution_count": 90
        }
      ]
    },
    {
      "cell_type": "markdown",
      "source": [
        "![image.png](data:image/png;base64,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)"
      ],
      "metadata": {
        "id": "Q-qLFB2oF07e"
      }
    },
    {
      "cell_type": "markdown",
      "source": [
        "![image.png](data:image/png;base64,iVBORw0KGgoAAAANSUhEUgAAAw0AAAE2CAIAAACsoenwAAAgAElEQVR4Aey9fXCTR77vqd2a2r1b9+7uH1N7K3W2aneyZ2pqpypb9055qybUnGwRn0OyYS6EiOOZwJmcwPXAhOs4L9dDBuIQsBGOhzEQjBMBURzjjBTiYF4MtolzhHlJZJsXMY6JHSCYxAaEcIiPweBEMfPsdvfT/fTzIuvtkSzJX1Uq7qef7l//+tOS+suvW087FLxAAARAAARAAARAAASsCDisMpEHAiAAAiAAAiAAAiCgQCfhTQACIAACIAACIAAC1gSgk6y5IBcEQAAEQAAEQAAEoJPwHgABEAABEAABEAABawLQSdZckAsCIAACIAACIAAC0El4D4AACIAACIAACICANQHoJGsuyAUBEAABEAABEAAB6CS8B0AABEAABEAABEDAmgB0kjUX5IIACBACfb6X11dXb1i/2dszck9C0ufbfGREumbJoc59fWOm3OgZcZa3KvZtn2fT/muSS9cOrXUHozcV5U5ytaIYU7NHjmz29ZmKBN1rD13Tcr/s3N+bCCqtZkKpsb59nUMJ1bAqbN0jueTXHZvrPr4j5yANAvlCADop60dy2OusDGS9l3AwTwkE3Ux8jLRVu4ORa32XRr69NnDy0tg3l/quRhRl7FLf0LVLfT0nB0YiSuTq/uo/uDtO9lz6RqIxNtR3sqenfySiKIpaiyQufSOXJ3aG+nuYHWr2GimvjF26NGZpdmjP5g8uqa3cGerrOdnTWf8ycZU0MTZ2qa/vamTk854e0bSijH1JivX19snuCZ3E7g6EI4pCukkkzJ2hAdJHZeRzenlvbKhX5yGB0Mf8VFgtBufmVbUJXYtB99p9A5d6GYrItQPVv3d39JykljmtSHiAeHhpjLRq5MY6deda38C1qwM9J/uGmMqa2qtvgu4/VPtO9tDBiowQwryi2ujYpb5roiMSBO5A79DYPSVCezR2ifI82dNDvVa9/VJVe2Mfbd5lVoe8a/gLArlLADppesYuUOlQX0Xe0NQupKSTAi7ejqvLqpkul9Onaz/kc1qXtKqNvPwnwHXSpaaX3cFrra/+vrqJzu5qdCTofqH6g+DQSHDX+ncHlG8/rn3lg4GxsTtU4xA49wZ2bfINhMeGjtTWHhlTREyFmdXKEzv7+0dG+n3VO4IRJeh+tZXGXoLuHUELs8pIax2XSf271tZ9PDQ2Eqz/PdFJQXfJq+7W4z19V+9c+3JobGzs0r71tV0RpX/X2h09I6IYHzlVJ/Xv2vzewMjYUGddbec3ysC7m1vDytiRzSXunohy6YPa1mvKWGdtbefQ2NhQx2aSGXSXrHUf+rhH00kanIsssmVoMeh+YSNF1bB+V78S+aT25SYdKuHhpY96Lpm48U4Ntb76svv4pZGhjupNnWMxvYoMffBK7cdjY3e+VcbIEAyNhQd8m3YNaHE4rSNfswJjQx2b3D3fDuzauP/S2NhIf8/AmMIoRe6MjY2N9HnXu4N3FJXYSLBh8wcsYDXWWfvuAOeKvyCQPwSgk6ZnLAOVDiZHQj6nQalQh0LeIpcaREpNJwWYPBr2Oh3coNrjkLeIaCipdVVUQSdNz3siO1sNul94pbp6/fraQ5fuKNdaX+VLW0InyYJG0ze8M6FWt7rYFHRv7Bwz6CStvBBG1/a7W6/J+Tuo9lFb4WaVoNvdwy6uHXLvv0qSquIRTSh3Ln3k2byhuvqVF9YeumYsxi2xWtcOuVvZvxeC7mqq52o/udb5bmun19MT6nQ3XSL661X3/n379+/z1bo7RzQPuSEJjrBp7RjTiJqfqoVLTZtZeXIdjZvWyrXWHQxUvF4Fd6hjd+1Q9a5+4bYgrwR3rHWTDu731bk7w9c6ql+udn/QQQOBKltFIWKuvi9CaG+ufpcU3l9fzRcZ6RALw0iAQL4QgE6anpEUOknpcjkqA9qlEnAVeXt9TjUMVBlQhr3OIie7VjUNET30xdbjzAXMfSJlLAJXZpUmeWK2gpyZR4DHk2jPY+qkPs96FgfioMKttURkKCQm5O4xxpMUUZ7P1vf6dm1qlVQIjSdpxbhZZWBXbSdb7xGzvlEnXfqg+j3aNFUkI23qqtC1A3R5jltitUbaall4KvJJrfsk8dZdW7vr0DWl3+euq93VSzZqeWrl/TfcYW5H0RSMqtiMLQphxJD2etbL25WI8qjW1q2icdNaYTopplcjretVedRXX/vxt8RdnSCTBB8poN9hFLkzEmx42dPLNeidoGdLK9sTNtJW67uodZ6m2GAZMnEJAjlPADppeoZQyJFAJY3ocB3DhYs+nqRKHCKhQkrIW+T0DhO3VSO8rkI1lm4VjZRicSNDMEntNW9OgyAc07KQmskEEtNJkZ4dazfXezq/FMjuBBvWV7s97o21rVcV5dse9x/Wu921tRuYWBHlyepPbb3HXV29q++OokR63L+n5da/TOJJopgwG+lxu3vorK+EOqpXV7vdtdWrX2Drbup26W/7PK+ud9d73Bt+T3Lu9Pk2/P7lV9dvXk8mfvFS1dWd4K4N1e56d3Ut0wHXWl9dSyNMA7teUOXFtSO16ze6PfW11bVxxZOMLRp00rc97nWbPfXSJus7Qc+6ane9p5YEaPTcRF2jTlJieaUMHaiudnvInvGrrdUbaon/DUFJDkmC72pnLYHgIT0M9/lIYU/tRnfPN0wnjXVuemFtrcdT7/EcHaK9W0+GbNNaNZ506YNavfITkJEAgZwmAJ00PcNn3p8UqHR6h4U8EgmFxJPUfdxMJ7H/U7fZ7iJjAcseBVzGdTdSDDrJEhYy7SUQuXMnIjbE3IvcYfpG14Y0W/P8iLbLiWfJf/t3bT7Afz5mbVNR5HyWvjfW4+aRKNkaSUfu3Bb7qoz3+HUkYuE8v2n4G7tFQwXjpY6b8aZ8HbdX94hJuaY5HflWKxBjCEiYMMJL3+nZ4TaEo8zGkQMCuUgAOml6Rs0ibNNFt1yrkmgKnWQVT9IJKalHXS51s5G2P0knmKCTJFhITiMBq1/+x3AnMtD2QfDrGIW0298OtNZ7PPW+js/V32dpt9KUynyLaepIHGYjlzpaSSAQLxDIQwLQSdMzqBY6SQm4HOqCGov0kC1IbH+SQQaZ9ycZCmh9Mv/eTegkdR83aUWs67FtT6xdzQhSIAACIAACIDBDCUAnZc/ASwtq2eMUPAEBEAABEACBGUwAOilbBh8PLsqWkYAfEoEdeIEACMQiIH1ikMxDAtBJeTio6BII2EVgx44ddpmCHRDISwL4jOTlsMqdgk6SaSANAiCgI4A5QIcDFyBgIoDPiAlJvmVAJ6V1RD+tW3Pipv0thA6taT+nKDc7D+z+PLr1z/3VnSFF+epYy2e3LUqJ/M93v96TBictmkRWzhHAHJBzQwaHM0wAn5EMA898c9BJaWXOddKdr85dCH03Onhu6MqX586eucAeBjl5e+izM2fOXrjxnaIot7/87NqEokzeuPAlES3fXb14beLutXMXr4U+P3Pmsy9vTUqOqjrpu9BnX44qCjH71YUzZ89cuqHc+urcmbPnrlJdNDp4LnT3u9CJ8hcOfXTm7JejkzcvnT1zRm1dyr/55bkrxIPJEDFy7qvbpClT05P/Sjw3eiI5hWQ+EsAckI+jij7ZSQCfETtpZqUt6KS0DgvVSXcu7n29/dwdRfm0/VfVR89dDZ3zfrDrgqJc6Khu+vzmra+OvXHo2Khy+/iBt84pygX/b/5w9Jpyt+uN9nOToUNrdtd9MnjzaqBiU48UE+LxpMMf1H3KzJ64cCPUtd37zDtnr90a3LuWRJuUT9tXHg4pkbOb/3D0wq2b303evTb01e1bN79s+WDzybtSPhNzN4/VHjp29ebNC/5q7+eKYmz6gnfv3i9v3r7x+ZkLiD2l9T2TXcbFHDAxHPT3jVLnJkKn+lkqdV9H+2wzRZzRnrkazbVg3ZzCwgfuwyGG0QAhP1EC4jOSaEWUzxUC0ElpHalP6/5wqK760Bn2ADYmXKiCqftUuXm4/dAN2vqn7RXHbyo3TmxuHrzQ1HGss33v1c93vX36OyJWqOJRQofeltfvjDqJ6CFFuclkk6Kce/sDYlltjse0lNtfdrZXb9hb8QcvLS/yWeLTurc/pd6EDlV3XDA1fdO/95nqQ3s7P78pB7bSCg/Gs4CAmANCPud995U0j7CTcKyPwUncX+l5qolXtqgRWyeRSvhtqQU6ZCVLQHxGkjWAetlOADoprSP0ad0L/jNn2p9/+1OysGXQSR2H9g6R1r/rOlB3dlJRBve+fajO+6lyq+etNw691RGiQZ3UddJnb62lGmvoaHkTPbhSdYPnK0wnffbWG6eJk8rg3k0nrpl0Erkzefvmpx3Pv/NZWpHBeFYREHNAyOcs31izeOcgPTGQ6KTRtvK58woL5xQ6V5KT0EK+8pKViwsfc9VtnjuryDtoKqAoE8HaYlrF6elTlFBr2ZzCn953/6w5hYVzyuhhahP99WWLS0uK5xTXnZ2w4hBwPVHjqVo89+HCuZuDE+Ymhr3OUlfNormFD86tOUUs0OOAiCWRgE6yAou85AmIz0jyJlAzuwlAJ6V1fJgEmbzZdai69SuDTlLufLpr/YG6dw5V1AaukSDN5Lm3G+s+nVSUm8eqd1MJZUs86e6ZnR9Uv9Nx7IvP3np5b9077XXrd9N4Es8fUp281nGgvLbjrdoDuz69bZZo597bu/kdcrfuJNbd0vqeyS7jYg6gMZhBzxPl/gljECiwhjxHPuRbXNYxEaj8Wc1ZJVCpCzixAuSc5jl1/d/LHdSbuuhZvDFIbt9uLXmq2XSiM1E7rvsWey8TNe99wqoJeib0oKIol9VTEYU8EgnoJHkAkE6dgPiMpG4KFrKTAHTS9I7Ld9/duZs5DybvfheZctks8q/fTXE/cnuqu5nrBlrKHAExB7C1qokj5c56v7eIaJSJAW/50uLiZcXOB5lOcnmH1bAN00mGAoqijJ6oKZ5TWFzZzDcl6XTSRFvJ/XMWFy8rLl622Fnk6bfopfGZ9cYmxLobTwh5JBLQSRZckZUCAfEZScEGqmY1AeikNA7Pk8/ve+jJxjz778nn96URGUxnGQExB/A9PYOep4qLSSwn1PxUSSv9cYF/taVOMhYQPRs9Uj6risaNlJC3qDwgbpxyzX3TSh2JAopBJ5ma4PJIbOjm8mjQW6Q7PBH7uDWoSKVGQHxGUjOD2tlLADope8cGnoHAtBMQcwDXScro3mKHg8STgrVz5y4rL1taUraihK67GeNJhgJkQ9LSspqNNWVLte1Hob3Fs4rKala66P6kwdYX585dUV6zsaz4TSakDAAMOsnog5BHIjHaVjKrqKxsaYlrTbl3WN0UVfjAffc/WFj4Im3T0AIuQSBBAuIzkmA9FM8ZAtBJOTNUcBQEMk8Ac0DmmaPF3CKAz0hujVcS3kInJQENVUBgphDAHDBTRhr9TJYAPiPJksuZetBJOTNUcBQEMk8Ac0DmmaPF3CKAz0hujVcS3kInJQENVUBgphDAHDBTRhr9TJYAPiPJksuZetBJOTNUcBQEMk8Ac0DmmaPF3CKAz0hujVcS3kInJQENVUBgphBIZA7A0Wkz5V2BfsoEEvmMyPWQzhkCjo/wAgEQyHoC0/WNkugcIB4fMF0Oo10QyDCBRD8jGXYPzaVOAPGk1BnCAgjkLQExB8RxfBuBoNNJI37XouKSFU52AFzeMkLHZjYB8RmZ2RjyuffQSfk8uugbCKRIQMwBcRzfRpqSdNKEf3VJ8wjJ7H9zrutUio6gOghkKQHxGclS/+BWygSgk1JGCAMgkL8ExBwQ8hkft208W41CkHRSf92Ds5zksLbi4qK55W2j+QsJPZvRBMRnZEZTyOvOQyfl9fCicyCQGgExB5h0kulsNdqQpJO0Aqm5gNogkNUExGckq72EcykQgE5KAR6qgkC+ExBzgEknmc5WC7WWzSmUj06bOFu3+OHFZRtryleUt9IFuHynhf7NRALiMzITOz8z+jxtOinkczrIixyoiRcIgEB2EsAckJ3jAq+yhwA+I9kzFmnyJDmdFO5uaWpqaum+nqJXAVcadFKgkgowpsK6UvQQ1UFgRhPAHDCjhx+dj4MAPiNxQMrtIknopHB3S0v39X5/Yjop4FLVixxA0ukkHmGSg0yiltM7zECbc4wDEKh0uJg8GvY6VR0W8hax5lU7IZ/T6fOqLlWykJYow6srxrYClU6vT62kNkEaJxWdvpDRD1yDQO4TwByQ+2OIHqSXAD4j6eWbBdaT0EnM64R0ElESkrAQ/dbpJJFLRQyRHZri4ffMOfyO9lcrw3WStrd02Oss8obor5f5kp/qg2hUGNLsdLkctBaJVNGE0uVyqOoKOkkAQyIPCWAOyMNBRZdsJYDPiK04s9FYRnQSVycmAHqdRGSN+lLDM10keKML1ZhzzEa1dTcWPdICRcQ610k6s4qisNY19SP7FvIWkTCYppyi9sjkDTJAIJcJYA7I5dGD75kggM9IJihPaxvZo5O0mJMhtMPW4+RwlDlHZqipGTU35C0Sy3Y8i6y7Wa2UaToMOkmGivQMJYA5YIYOPLodNwF8RuJGlasFM6KT6A4eWehwWgYtooV/DCLGoJzYY38NZbhNKerDswKV+qAUXXeLVp2vqWm6jeTwdTe1F7p4EikZ1Rr3AX9BIBcJYA7IxVGDz5kkgM9IJmlPS1vJ6KR+f5P28vfH5be2pqbu45Z/lcb2+vB93GSvNJMdWhm2K4iufKkrczzH3LopnkR2OvFd5A7RlkHZ8NYtd5FrPkMnmYEjJ48JYA7I48FF12whgM+ILRiz2UgyOimb+wPfQAAEbCSAOcBGmDCVlwTwGcnLYZU7BZ0k00AaBEBARwBzgA4HLkDARACfEROSfMuATsq3EUV/QMBGApgDbIQJU3lJAJ+RvBxWuVPQSTINpEEABHQEMAfocOACBEwE8BkxIcm3DOikfBtR9AcEbCSAOcBGmDCVlwTwGcnLYZU7BZ0k00AaBEBARwBzgA4HLkDARACfEROSfMuATsq3EUV/QMBGApgDbIQJU3lJAJ+RvBxWuVPQSTINpEEABHQEMAfocOACBEwE8BkxIcm3DOikfBtR9AcEbCSAOcBGmDCVlwTwGcnLYZU7BZ0k00AaBEBARwBzgA4HLkDARACfEROSfMtISidd725hB5e0dIfzDQj6AwIgoBHAHKCxQAoErAjgM2JFJa/yktFJ/f6W7uuKooS7W5r8A3mFA50BARCQCezACwRAIBYB+SODdP4RSEYnCQr9fugkAQMJEAABEAABEACBfCOQgk663t2Cdbd8ez+gPyAAAiAAAiAAAhqBZHUS2aLk79fsIAUCIAACIAACM47AvXv3Ll++POO6PZM6nJROGvA3QSTNpHcJ+goCIAACIGAmcO/ePb/fv2HDBvMt5OQNgSR0Etm+rb2w9JY37wV0BARAAARAIBECf/nLXzZs2LB48eJEKqFsjhFIQiflWA/hLgiAAAiAAAjYS+DevXt/+ctfFi9evGHDhgMHDthrHNayigB0UlYNB5wBARAAARDIdgJiuW0DfW3ZsiXbPYZ/KRCATkoBHqqCAAiAAAjMPAKXL19my20HDhzYsmXLd999N/MYzKAeQyfNoMFGV0EABEAABEAABBIiAJ2UEC4UBgEQAAEQAAEQmEEEoJNm0GCjqyAAAiAAAiAAAgkRgE5KCBcKgwAIgAAIgAAIzCAC0EkzaLDRVRAAARAAARAAgYQIZKNOCvmcTl8oejdC3iIHfbkC0QvFvtPlcjgcrq4pC5rKBCpjVYluL8G6vJuV+l4Oe52s94b86O3aeCfkczocTu9wqiYTRJFac10uhz2s6IgUead4a8bnaMhbpGc47HXaYDa+xlEKBEAABEAgEQLJ6KR+P38cd3pOeIuhk2yb9hLhxMsmP8En57apVvIO8C5kw9+M9sLEcLoJmHSSoihZ5+R0Q0L7IAACIJAdBJLRSdxzcoCJf4Bf2fA3QCI89MXjSSJHCx3FUFFxukEDRXJoJFDp9PrU9tUgk6GMCOQwFxMLAARcDq0LiqLQwAw1xEMdIof3nfbEOH1aTbFyl4e9zkqvGm9TPeRxKYdDDauQMi7SVVZSLWaBWjYs+Sw6EvIWubwkwuQQJCWMashEk0QsahI3RjOQQCVD71ARaXA4li6X0+dVR5GAlfounKRueFVTpC+BSm6QpqOEGLkpPl6KGbWcw4pJgSKVg/qmUjsiBbp4FwR0UlKgFrlIgAAIgAAIZJRAijqppfu6Xe6SeYhNUUIJkUmXLfGwGVE/xer0RDJe6GYmMgczxaDNvkQbGJZItFk/oRZ1NhUyxRpkFpli2fqavkWpotANdI7lZAxuUEQUo94OKcZzSBmnd5gII1eXKuCMqA1mtUtZ8FHpQN2WhkzCSPuoEZN6rWVqlvWpLpc6HCJbQxFwsbU/LYd3jWgLRkbyUytGbWmIiEIirDTHAi7DuIjWWUI2pdnhretyDJZ5W8QOLz+FcRZhgk4yIMIlCIAACGScQHI6SV15a+kJ2+ewNkXxSVdEOKgw4P+O53dTb1k3XWkztzZrWkxpWrFE2g/5nPooBQtOaNGCqBpInphJizqfLVyQnBeuSsaphlDLMOBMT1ijtrCvSPpDdob7KRpVeEktx8o3qyZInlaLl5BzVJ68UQ2LOce8pCW5wW2TwBhRqSQcNeXuI82+rK64t5Jl9V0q5Uj+RxlEqTB3DH9BAARAAASmmUByOkl1OtzTYptUkiYJroTkKVnDxO9qOcmmdNOVNo1JnmgTMG9DK8Zz4vkbxWeqTmgAI0oB87YVnc8WTUvOq66SIAcTZLyuWsagkzTRZmFWy5IHhRuUtIjERxW+Wo7ZN82sMaXV4nfkHLt1ElkGdXUpgcpYEBLRSfpIFddSpDsSN9478leLKcq5SIOANYGvDzz33IGvre8hFwRAwD4CWaOTSPiBRzscbL+IthIn9zeqpJALxZXWTVfaNCxN5+YpLcnW5flV5xuXHeZlJlbMWFHnMy1CQ1NitUhyXu2RyCGCiRMm5WWdZI1a56l6wR0ml5Iz3E+BkQSxdEtyOj8tMNKNO1rUzQREGKSRKrkjbLMXzeFu6HwTBFgXDJcis9Ll4jFLta/mP5r9qeNJ/M3Mg2pkm7b040pBSdeCIZo1g/cnfX3guQLt9dx+G8PWOuK5cxHerxHZ2sv8ttRJvVsLtpyNq1+W1eOqiUIgMMMIJKGTyPZt9WXv793oXEL2rooJg274YFtexYKIxRSb+JhJS1Hqfhpt6uLzqLkMaUe4JKRJXK3L8kIyop87+eZeFtXQrYVxASFJE94u9ZMHQrjz0tIVFSgO0k0v2++llpF1ks4lgZq3oP4V26iJn0RSSM5wAaGVEXw4MZdP2pXFM6VNSKS/ctPClMgUORINtibrVbeRcTd0vhE/1TcR2e4mIZI6GFMpmoZDsqNJUjGE/HkTqs8EvvRECfWtznfWUz+0LWLMrZmtkxAp0d6cRCRpYrF3a0EBlUopCp0Uq2vuIQUC+U4gCZ2U70jS0z8pHGJ3A6bQi90NJGBPk5sJVGJFYyqVhC0mUkFdJUykiqmspJxM92JlaAovVskZcN88hfduLXiulIZUtvYSoaC+trDQipRTsOUAD72U7meLUlp0So3E9G7h9XNCjZlo9G4pIB3X+lVQwDrCOKjxJC0EpVJStJzn9n/GKRWQ+JNkiheeAW8zdBEE4iSQbzpJFwSi/7if++xc/o989a+IT8TJKGoxERQRDfynEmNjIqxitTc5quV4b7BICQ8mxVsrdjkRuRE94yGcGHWT1Ek0vmLbuMTw0XCbMaTLduodXeiIEoiPcNI6KemKhq7ky6U0bauxE6KTTHtxRKa22HR2S4Eqj77eX0pXoM5uYdEXRVFYMZPsyHZqWu9UT7/eX0rCS1JHerfwgBMvrGopUkMloJVhZvTVIY+y/W0A/6aRQL7ppGlEiaZBAARsISBN4ao9Pv2TS1lFiTiKFkThYSShinjwiPyl5YmEoi9tMcsWt9NkxERDiydx7agqJ6EFpdAR7Wjp/q/D+5/jZJifOrNneYiNb35KU19gFgRykQB0Ui6OGnwGgXwmoJvCaUc1nSTN96KY5V01U4onGZFNcctYdFqvY+9P0qJHHIWWw12fIp7Eiyia3hJZSIAACEAn4T0AAiCQXQSEABJu8emfhJN4NEjEh9QFNVJYUlGiihx/0u/FyY14ktovFgIrUBciDXE18Rs30WtdSIlFiUTQiC3S8e1KW85qG7bEGqUgjwQIgAB0Et4DIAACIJAfBPiurPzoDXoBAtlBADopO8YBXoAACIBACgTUsJl+E1IK9lAVBEBAJQCdhLcCCIAACIAACIAACFgTgE6y5oJcEAABEAABEAABEMhHnaQ+7Fh+Ig4ZaP5MIGP+DHgT0EcESU9ySrbL0gO4kzWBeiAAAiAAAiCQQwSS1kn09JKW7mw9eck0o+NRfja8K01UbbAJEyAAAiAAAiCQvQSS1EnhnpaWnm7/NOgk8axkERYSOfJDk00zeqxzIcjpWj5yWKl2Xqk4hIsdH0sOjnW5ithBaaRUgA6reAJ4So+TJkfaedXm1dNY2XOiqUP8QFlXJT1O1ed1iqPQhJNRz3DldrQCIW+Ry+tzUtMMo5zD+iUBZOhEQ7QaO+M2e9/X8AwEQAAEQAAE7CCQlE4a8DeRE3D7M6+TzMdiaKeH6pSQNM2TM9ullyYXdPzIqhxbmdLZoWXUHGLH1UVkh9MXUA9eHfY6VYNyizrLcV0QFcIki/7EXFJZtUwEWZE3REqSo4KpUtFOJTOT0bWr6xRVTtRtfqiwLifaGbfCE51lXIAACIAACIBA/hJIQicJeSQSGcRDoxpS5CaaBjKpFp1QsHBY0xnaCp1knKgKpmBI6CUgaxdNg4kQl86+CDjRgtZlFM09zXOpIqmlahoSeQqp5fUxnmCWKcQAACAASURBVKmOYNPsa8KLeKnma40qavelHK2ulKnrIi5AAARAAARAID8JJKyTwj0tTbpXS/f1TKNhAoLKAnP0hTljmtG1yd7aW7NOClQ6VEGm1rXWSZJos7YcV67mHvecHLKrWwKz1klRwmPGRjX7cegkYpO7oWkpfUVjA7gGARAAARAAgTwkkLBOkhhMRzyJNy8vGFnFUaRpnlXRCQWaRYMxoq6lTmJ3yZJclHgSicfE+h2ZFBZy8MU13g3xV3OPey7CWkQwRYknaVpKGIqS0Ozr5Y6azxulvwpkyo8DoUE1rsZ4ZpRWkA0CIAACIAAC+UUgx3QS/20/30ukKGSdiK98sQlep0uEiNEJBTqGsXQS0UD05fKxTUgW8STpcQPazu5k3iGae0Ky8P3XRV5vZRSdpJDFONF777Bly9LqIdlfFU0ncTNcEvHu0+3txkwmHC2bQyYIgAAIgAAI5A+BVHRS/lCY8T0R4mzGkwAAEAABEAABEJAIQCdJMHI+qQsdsVgYe3hBrJ5BJ8UiNCPv+w62DY3cze//ZuTAotMgAAIJEIBOSgAWioLAjCIAnTSjhhudBQEQsCQAnWSJBZkgAAIKdBLeBCAAAiAAnYT3AAiAgDUB6CRrLsgFARCYSQSgk2bSaKOvIJAIAeikRGihLAiAQH4SgE7Kz3FFr0AgdQLQSakzhAUQAIFcJwCdlOsjCP9BIF0ErHVSKHSkvW33vrb2z8hP4dpfm/2Lv/s//5dVnVF+Fne5dv7afVP+aC6WBfqDu+C+5fNn/2L2o6W7Q1EaSvJ3eeliZ6Pdr/1bX66oqiqv2u4fHLfRrs5UuK3c06vLwQUIgAAjkI86SX0+pPEkNf6MSmO+/W8F7aGR9ttOm0X7Hg2gf4Bn0g7j2d9Jo7OrooVO+rJz5d8//koD0Uk72vtVydL7zmMp6CRiZCoLVI2VP7rxZJJKaGpdZRerNNq5cdjTFib2z3mq2sLK5PiVc8Hg6fPhSUVRIuFzg6OR8PnTg6Nqft+VW6Ts+FBf8HTw/A2SjoT6BkPh86eDfUNGnaUWC0VUnTQ5Ong6KCrytlSb4QvSrTR2GKZBILsIJKOT+v3aAW/+gezqD/fGNOuLY0B4iTT+neE6ySay0Ek2gUzejFknta9/9JVOk17RqZz+hhd+XTh79i/mP98QvDs0crl2/u9Wrv914d/9vLC88+LI3aEv9pU++ugvWIFebkpngWeyKFTom3NfhBpeeHzj8dC5L0IXQ1RU/XbLxmceLfy72U82XB4auXtk868LH539i9mzn9zYdXHk7r5VS5a/MLvgmS3rl/68oIw0ejHw5nLn755epBaQlVPydDJWk+uk8cDW8raLJ17feuLK+PgVf82b3RElfPjlkqo9/uDpwTPvVrVcHh+/cT54YVy50Fiz+3z41pUT27aeGFXCbeUvvHVi8MYVf3XNCaqimO+jx2oqDg2O37rSd6zvIosnTYSvXBkfvzXYsmZr94RyXrI5fmyruyc8futKsPdKxrqOhkAgGwgkqZOmTx6JRymKsJDIYafGMqomnRSHdhFngPCjbYVltS1t5haqq8vl9HnV803I4R78sBH1FBBakRb2VrIs4qR2wi5NizPmknpDCCfV7ote0DPp6Lku/PAW7n/IW+TyqgeeUA/5CS2q1/SUElLYp54JQ4DIZ8mJ7ps9NgXzApX05BP21Etyaooi5UQBK51FQ+px/82tISetBEw66XLt/Od3X7k7dHLfK2tfe6W28xyTMpLK+aT28eUffEOEyMk3C59tu0h00uMbiWD6Zvezj9eSBP/v0B8e20FUDvlPsqAVYLdoW0///X9Y8MJrr6x9reEkLfx/r9335d2hkc7S+e+cEQZH+mt/Sdb49q16dOPJ/tr5S3acv1y76p0zI/0bf/VaOyn2TcNvf72DLheKVtIK0B7jNw5XlJZXrS+vaAiOTvZ5VrlbDrS0HHhv63b/KNFJnj7aTPhfql6ocjcfIXGmcJvnMI0kKb2eqmPjYk1NyydVIt2vu4MkKEVeapnxQf9bNRVVVS8tKz98Q5FtRs41vrBm63ttQRavUqvhDwjMAAI5ppP4TK+NDJl02blmOiUk6yShJOhcLY4q02zQlOlEW60tfkvLEUKByALmADv9jZuSW6GzvjhSlyREdSXgSkkEEFmmk1maZX5LyyH6jBamYo56yI8T1h/6RjtBlimZb9wCr04OldM1aiBJxCIfFCoEVTt8gDTLU4C1QUEa3cJ1ogTMOmnHr6jOCH1z7vibjwmNIqmcfaser1WjRJ0rSQFtf9KZHY+vbL879GWw9oUlTz615Mlf/jwunURlkGTWQlSdO/Ta079a8uRTv/7F/Uwnrd2ntkt10pf7nr5/9oKnSKMLfvn4xuNcqFHLiTKZhvI8nkSb7vO8fkJaPNN0Erk7GQn3Nr5U3zf64dbmIZIRCWx1B7kGImKI6ydm660q/yhNcZ10ZU/Fe1+QnL63iE4iL26Tpcev+KvWH+aVaAH8DwTynUCSOokvvPn7MwyIhit4vIfEJtRYDouEaOpEN1UTH/kkHc1fIQJ4AUn3kIlfjQOp+oBLB8ms1KKhLVGYm6ZhJxr+IeGokJYtp/QxHmtdYrIs6R7SZTUOxKUY76Olq1ImdYMXlnxSvVVpSDcMSZ0pzQ73VsshwxcFLHSSAep0XJp00t1Pah997A26Lan3HUudpC3MnX/v6RdYPInt4/6m4bdLdpy/e+btXz+9mwac9sUXT4qtk7pWzt5yhBTr36jGk/Q6aaRr5d+zAjqFxEJK08E1wTZ1OkkJH9taUe321G+teJ0sqYl40nlfxdZ6j+f1KnfPqDLe17iuyl3vrnr9MA0vqXu0DTpJCR2uWlPjqXfXbD/B1t0i5zwvrXN73nJX/Beik2Sbo0fcVds9nu1VVQcGE+wAioNAbhNIRieJHod7WpoyrpRI6IOuGVHpIKsZ4ZdFdEQSNHIxLS1N3ixTtmy7TlJDMoFKdbFM8yOhFFceolJ6dRKLfg17XdG0nepHIjqJajgNvtQjLVN0D4nMEjDrpKGR/oZnHv3FoueXO39esHTfmZHLDc/Q37vd//NfzH6+4bO7Q192rnz00afLnn+S709qeOrnjz37WunSx59+mwqszi2Ff7+k9NklTz/zu6fJupvJAhVGYl2MJaaMJ4Uafvvzx579w9OLnn+a/rZu3yqDTrr7yZ+fL3z0d6VrX1v+1Ba6AKcJpswSta21SMTKVCQS4etoJJg0blnIqqKcpzeiyJeTOvtyJaRBII8JpKST+v1NLT30hxgZJ8QFAV9dMjqgm6rJTUOMh+U4pEUrvgbELUmW+S25UcNaEg0R8cUmabIn1gyXrIFhr7PS5dICYLxZ8TeeeBLdDqULNXFX2U4pnZSkBmmOBEfCYtAlhkvmV6DS6ap0qQudwlVjQrIvh4U4B2GZ6F3d8h9dEOTRL07baB3XGSNgpZM0hWGQMjl6mTGYaAgEQCBHCSSjk7Tfu2U8mMR/28+3zjAVwhbdHA62hqVtZJa3AEuCQB0qTTeoGcI4XwsTi3o86sP3F5MNzmw618zK4oDO98Qrqpy4PtC/RSQdpr+R2BV3yUEXsESwjbTNoz5qv4q8Xm1/Epd0mv9USkrLl0LN6PzRdJguW1yY4Wt2OAfBWdugzXuhgZVHlisn0QoSmSEAnZQZzmgFBEAgmwkko5OyuT+541uKO7inp6OxdnDH5ZWmnOIqjkLTRgA6adrQSw1X4wUCIJARAtLHTpeETtLhyMgFizbxiE5GmrShEbYOKC0UamEhHs/TrQBGbxI6KTqb7LoDnZQN41FdXR0Z6cza/6qrqxWFPO0E/4FAThOg72TrTzx0kjUX5IIACEAnZcN7ADopp2dfOJ8rBKCTsuHrDj6AQI4RgE7KhgGDTsqViRZ+5jQB6KRs+LqDDyCQYwSgk7JhwKCTcnr2hfO5QgA6KRu+7uADCOQYAeikbBgw6KRcmWjhZ04TgE7Khq87+AACOUYAOikbBgw6KadnXzifKwSgk7Lh6w4+gECOEchdndTU1BTncy+zf0hyUidNHM+V2RF+ggAjAJ2U/V+G8BAEso4AdFI2DEmu6aTjfQ0v1dS7TgzF/6SAQycOvD9OnizwkX9zzXk8YgAEpoMAdFI2fN3BBxDIMQLQSdkwYDmmk0a97vUV/tPvh6/v7wvRqNLo/sHRgDK6v2+offCcN3ihXQ1g3GgOnvb2Xf4oEtpWUVrhP+0dHD0ePrd/lM6R4Qve4On3r9wKKArJDIea+WX88gslQSABAvbrJHICLn35B7LhmwQ+gAAI2E8AOsl+polbzDGdNHmoeduWwVudkbOu8jYqiXpdnt6A0utaUrWl70p737vPNV4IKBeqX3rLG77VPnikcTDSuHUlrTLZfvhlV58SGD22ZuuxQ+M3mt/7U/V5kvk7z8f7w1d2Vv2pnoadEpj8sKgEAnESsFknEZGU8ZPdEv96QQ0QAIGUCEAnpYTPpso5ppOU9sNvucMKEUYGnSRfXtmzuiUk5M77npdpFUXVSX1vEbWkKIFw20uNF9RMRViejkWZOOdaFMtdAvbqpHB3C1SSTV+BMAMCWUwAOikbBicvdRIRQAOSTlqj10n1a7onyF0qp6CTBCgk0kjAXp3U72/yd2PdLRu+QeEDCKSTgA06qfedx/jxf45VnXH+Bi31Yvi9W8bOg6Ozizx78XjShNf9wn91b1+zdd3v2LqbHE9Sxt/3rHnJXe/aun7LeeV4cPtzdOs3l0Qhd9W6NZ76NVUN74/zIBPiSbkbqskJz23XSU0tPWHy/Xy9u6Wlm6bS+W0N2yAAAtNBwB6dNP+dMyN3h0bu7lvleGzH5dQ1UDwWzDrpz8f7//bZN37w5IbFWw/IFqaDa2Jt5lo8SdJMk8cjEekyofWyyePjNKSUE1MsnMwDAvbqJGndbcCPjUqJfeehNAjkDgF7ddKZHY8znbRvlRpiYpckf/7jJGv+O2ek+NPKdlVdqaV5OIroLVbe4WBlZN3D0mad9LfPvuEoWs/+29vzxadffcNKZv9opKyTmhvnOyraO60iTOJWXYWj+PiIZZkYmaZ4UrLCKCEVhcIgYDcBe3USDSOxX7tBJWX/tyw8BIFkCdiqky7XzieyRqiloZHLtfMfr+0lOWJJbt8qvfRpX0vEEw9HCeWkxqWkuwapZNZJP3hyg9BJz+w8/A+Vvif+tGflu53N3QOfDY/89a/JMkp/vZR1UgyhQ/UTdBLk3UwnYLdOSv9XA1oAARCYdgL26CT9/iQRTGLZeuV0d2ikc6Vafu2+EVlUaWlNS/W+8xhXUTF10uKtB5hO+sGTG1jhwOfXG49+tvlQ97Lth/6h8s/Pvn34jcOnNx3suvbN7WknLzuQuk46vorFk+oqHA8tmM/4qtEjdus4j/A55r8ylGBUCfGkPFhyQhcUJQCdJH/tIA0CIBAXAXt0kl7KSPEksqw2pBdDQu6oxaSIkZBHIjGUiE4Slg0JBmIi8n3wcsh34twzb7X946Y9/7hpz5rdR30nzgUvh0bvTMQFK22F7NVJjb0kvHR8lWPBjmaWoEtyiCfN9GhKnkul72OPL3RS2r7DYBgE8pdAOnQS29DNY0zqupvY3y1Fm0g8SVdY2p+kbkuyTycZxvDa6O0jfZffOHzq2bcPP113YNn2Q5sPdred/eLyjVFDyQxc2qqT1DDS0I6HplcnDTbO/mnlzinmZmOBEV//SOypTm/waKBytuvUUX1mFCOhTWVzCmb9eLZ3WCpweVNZUUHhnFnlbR1xGbF7x4yiBIwcEm7i6GDfwYmEa0kQEq872udjD1VPHlrX8p8WrRtMvGnRosGHUNO8Yt8ecdcyAZ2UgW8zNAEC+UbABp1EtY4hhJOBS/P+pGiNxhyze39VPhseae4ecDWf+E3t/nnVu19691+efftw14Ur/3rn25jVUy+QlzpJGd3Trz1n0mpW1hcI+Wa7uqyKRZ9KJzoWLW6MMTUa5stApU4nBatmeS4m1qjBoA2Xeg6JG9zpKloXik4pcYMxgRz0Fi0PpNji9wf7L6aiTc0+HPWvnD31aEInpf5lBQsgMOMIQCeZh/zm7buffD7saj5R1vjRL19775/rDry275Pq/Z98fvVrc2FbcjKik8hKHHllZH9SsLag8OEf3SfiSV3LS95cXTZv1qwH5zVfJtOwvsDB1hcLCh/44f0PFhTOKShrORjf1L7H88QSv/ZkgT2tqx+ZO6egcN6SVhqXmhhYXbZoYcnSguI3G0S4RdNJ3x8dHe1oXT3b09cxOtoxEceqjWLqRf/OR+bOIz6zJgKV88pWF8x6saxuxQOz1uycUAKWPsi903MImJo46F1T5t38yNyHH5hbRQwqXcudPsqHJU6VFc554P77flQ4p6BwTlkwLu2yp3Xl7MI5BXPnLWolQvZosHYe7cW8urMkMicQqYnhdeUbV7sWzSp8cJar66hCw3I/ve9vZpEWmYWdridKPVWPzH24YO7mhomJbeUPljJPRlsWFu+1EEOhlkXEbSHvDE0QH5Z4fIvmzntg1tIqEnMaXudk7yWWsPCBaruLq52rt4mxljmzNHSSLd9XMAICM4sAdFLM8b50/ZtDZy7+1n2w2H3wEZf3+Xc+dHecOXLu8vVR2zaDp66TrJ4IEM+P4OIqQ2eXmDEGUwExt9HZ/WdUNygnlqjTvDz50dk94XhSqGrxSmlSHF7nLN0kLQbt8TzFZuujraWPNPPIlhABysVNNRtLSx77yeLVpTUbS1vjiSp1LbfoBXF+j/cJEl8JVM7yXNzjLZrXPHLQW7kupFj7YJy/pwJ10Fs020OUJQmWeC+bdBJpPbF40mD9rOImTYlOHFni3Eljcre3lT22etBKJznZAtllLlYUQyxnp+u+R4hvnENw4wM0NNjRvHRec9S1VMnt4XWGJgKVPyk/QgTW4M6C8hMmnUR6bfCBvf0aah5cPoVYhE6K+XWHAiAAAkYC0ElGIlNe3/k2cvrStXePf7p8R6uz5oNfb2le23Rs9yef9X55/bvvJ6esSm5eDN20LBNNJw3teIhv8+J/5yzQnn6u5j3ENm7HLZXqKrgx8fe3T4kkT6yqEwZt0Um6KAgVRlqQgF4mrJNkeUEsHO33LXLOmV1Suy30fUC5vankxwWLl80rXjZv8ROzPX2qjNN0Em3UcGlUMMxP8X9DLEcJjJ4oLXlqXvGyRwp/zHTS8oA6f1OdFMUHYytyR4xNaGpA5WMskLBOMnRZwq62JQqoCeGeSBg1iqR4GCsW1xmpKpkquiPVEpZ5Qvigxs94vvSe0chIPC0zNQUPnWT5/YNMEACBqQhAJ01FJ9a9KzdvffTp4Lb2k//F0/bwund/6z74emvPh3+59NXImLnqh3+59L/+7vWW0xfMt6LpJKFUpjeRMZ1EIgdClMRMjG4qWSEHkNS6g/WzF5N4SYPrsbJ+kxFtAqa3DJeKssdfv2lQW8vT+2PUKA2uOayJPR41nqTXSVF8MPZRiADzspqmSI62ltKdVdyHwcbZPDK30/WEfkP05W2elj3Rlp+Cmx8o69B2vktLYw01T8nxpD3eItqicE8kiFdLpP1JkuJRgXc0L11Ys/mR8iNaQ8Zey2EwYZknxLj0vzmLhKZ4/sSJJT9TF3MNPrCRaqgpIl0wtaXm5JhOCvmcTl/I/H3Bc0LeIvbPGleAZ6Xpb6DS4eoy2w64HAk1HXBRf42d6mLZDpYfpS1z68gBgQwRyGmdpD4K1/THsKE7Mygn7/1138nPm7r6K/ccX/T63gUbm1Z5j9Qf+UvPxau37n7HfHj+nQ9/uLTmn7cduHBNF1jKO51E9xs9/KP7fvyAuoWFz+58e42pAFmGqyp+cHbZxkWuePcn6Zd1TpU5Vyyp2bikZOmiVvqLtsGWRXPnLSzfWFq2jG7cIVt5Cmb9+Ic/fbigsLaBTaViPlZn1omdrv/oiLqd3NiLjtbSB5wrSYsldF9zoNKgkwJGH4xTuImDsYmD3qK/ca4sLV8xu6SJro6NbCp5cHbZynklVUvK2UYl5Whw46y5y5aUr1jNlpwmupb/zBF9n/XtnTXzChavLC1bxnYX7WleVrB45ZKSInV/0mjbwllFi8qWLnStWUJ+G8g1ipZQAqG982YVLapZuZzucDLrpMBoy0LHf1R3KZlVC9mVxbdV1Z2yaCJQ+cPCZUtqVs5zbqS7spSGusdmFa9cWLxxeQnf9Kb3gSqhs6VzN6oja27U9ucn9fvlrx5/v+1fNDF0UpfLUZlugaT2yVK7WGbGhGDqVMhb5PQOy/XMOfJdpEEg0wRyVycZxNAUl5lmStsbuXXn+MDQ2vePvdjQ8f9u8C15o+WP+wMtp84/uWXvv/mn1/63FbXb2k8Jx/JOJ0X9B73l7JV85tnSuWzbk1F/JOvA93s8Ty1k28CT98ouZ4idGAtJ1k5eXr3YKtJmXdhObzXsUrhLy4zfAaN+jcvJPd6nFvlvT9VcuuJJ4Z4W9UBc8ZlOKaHGXRwONcSiKCJHi9+YBIe5SVGLWPIOK7SKV43eqBpLBKWEWNHnDHudfC2e/C3yqgEuk0oL+XhBrt5EjhxAMrltFZQyGQ9UOjImCs0ckTPDCeSuTrLxuQAZeA9cCN1sOXX+j/sD/1D55/9uUZWjaP1/v/i1//D7nQdOnVcUJbd0Eg0GkB95qf8t/+0zIk0TJEIQ18QWtVj8TQz65rlOTLG4E7UJKw/3tG5c3XrZLmumpumvtDRucwriAJW4Trq4qaZ+0+CUcsGq7yZvkx5B2k1n5Ta+p76hTv/2iOf3jEnopFDjQvJzvCndTpNO6rf1FFwiU9gil5AUgUouYpiA0GsXWYXI32Ui3iPsUOHClJaqTkI+p7qgNux1Ug1kzlEURZgS9o05vLoooAx7nZoU4/4rTKupWouoH+2lSUBFMYaUoJM0sEhlnAB0UsaQ+06c+/nL9f/jP290FK3/N4tf+5+f3vhvf1P97576Y87ppKmnItwFgawlkBadZH8wicdsuL6Rw0JaWIXfjfoNJqSMKCkSvI4IHVG1Qto155CywpRUUZY1ClU2Doe0XUkEk6hpa51ErVnFkyxa5C3jLwhknAB0UmaQD9+89b+vqP27NQ2l9YfrDp86ePrCyS+ufjUyxn4ll1vxpKydBeEYCExNIB06yd5gkkLCMBY6ySBKyLeWSfQYv8o0pWI0KEoawzbmQA4raqWTNOkjzKnrg7S5aO6Z8qPpJEv7UlNIgkCmCEAnZYr0VO1AJ009veEuCNhCwH6dZHcwicRuXHQvERFM6v4kbSVO/hYxCQ75JgvwGNWVuUqgUmyBUqubcyw1mUk5ida57ulyaZuZxE0LecfLS2WoXNM5j3U3HR5cZJYAdFJmeVu3Bp1kyywIIyAwNQG7ddL17pamNPzOTf2dvCvQ5VL3HkkbksRuJLPoMXy7aPEkvv/aqoq0qKduJzLn0CgX20jEQ1OKYau15KF4goC0/YiKHqkM21dOHbbSSdreJrVP0EmGwcVlJglAJ2WSdrS2oJOmnt5wFwRsIWC3Tor2gc6KfFl/yGm7nLOOctlh3bwaaIdV2ACBZAlAJyVLzs560Em2zIIwAgJTE5hROolsvhYvEYWy83uLLBHqVsdsMR59Rc8W8zACAgkTyCed9Ofj/X/77Bs/eHLD4q0H5McpJQwl4xWq8QIBEMgIgWgfbke0G8gHARCY4QSyUyftYyfb038MrWy/K4sekTY/P+lvn33DUbSe/SeKDY3czf4hRjxp6jAA7oKALQRmVjwp+7/44CEI5ASBrNVJqjzqfecxx9p9IxZSyayTfvDkBuikdJwER2cX+55DOOWTAG2ZDmEEBCwJQCflxKwEJ0Eguwhku04a6VwZt05avPUA00n/7a9cf9zfI0JK2UXcyhvEkyxnNWSCgL0EoJOsvn6QBwIgMCWBbNdJve88Nv+dM/HFk4Qw+vzq2H9+s7VqbxfLmRJAVtyETrJ3OoQ1ELAkAJ2UFd93cAIEcotA1uok/kONx2t7LRbdhkbumtfdhE4aGrl78drtZdvb1u8JYH9S6itxWHeznHSRmXMEoJNya3qCtyCQFQSyVidF274txNDUOmlo5O7g9fFndh5e1/RxVoCe0omcjCdNHM+5aRIOz3AC0ElTfg/hJgiAgBWBPNZJQyN3v7pxp8Tz4aaD3VZdz6K8XNNJx/saXqqpd50Yin9z96ETB94fJzu4P/JvrjmPrdwgMB0E8kon0cdtGw5BE6fYpvBYI/Vp4AbL4mlMxnz7v0cNT/q2v4FYFslzw3UArVBbG9E98ZySFE8nt64gjqmJchvZ2UAgO3WSCBpNkYgZTxJ1X3mvc+OBQDbQjuZDjumkUa97fYX/9Pvh6/v7QjSqNLp/cDSgjO7vG2ofPOcNXmhX4xY3moOnvX2XP4qEtlWUVvhPewdHj4fP7R+lc2T4gjd4+v0rtwKKQjLDoWZ+Gb/8QkkQSICA3TqJnFvCXi3d16N9ujOYb5vCMD0RWzqdN+39sa0XyXpq0knxG9LppLiq8eP84iqMQtNDYCbopP+f7NqmY6/ty94FuBzTSZOHmrdtGbzVGTnrKm+jkqjX5ekNKL2uJVVb+q609737XOOFgHKh+qW3vOFb7YNHGgcjjVtX0iqT7YdfdvUpgdFja7YeOzR+o/m9P1WfJ5m/83y8P3xlZ9Wf6mnYKYHJb4avJaH78ROwVyeFu1u4PBrwt/SEM/kVzs9uM4Y9Yj13WwScHDzOIXLkQJFJJ8WjXcTxbfwMOPFAcNUrzQi3Tw6w87rYZlRyupxwhmUxl8hTv70+J80iOaTv6lF0JB2ry4kPi14nmVCHvEU6f2gD2qF4WmeJxxJVNVCnzzTHk0jrUq3E3UcN2wnMEJ2kKErlnuPrm0/YDtAWgzmmk5T2w2+5wwoRRgadJF9e2bO6JSTkzvuel2kV3IMN7AAAIABJREFURdVJfW8RtaQogXDbS40X1ExFWJ6ORZn4p1uUzFEC9uokpd/fxORRv7/JP2DLV0FCRqRjQ4RGYWrCF7I0ZFYVIZ9TFUy6iBHXMcSKpgCIbS5QTPZNcRFNFfFbWg63T6SDJobUoL9WjDVCHGDig/svOk4kS0aWCkSLiirmKAfuD5F3DCPPYZ7zbhpgGTuovw2dpOeRDVc5rZPUkLfpj1hxYwnBecPej9c1HROX2ZPIS51EBNCApJPW6HVS/ZruCXKXyinoJAEKiTQSsFknKQqRSk1N0yKSmILRqQT9JG31/cbklKZ19PEbHgeiUkAf0ph6alcUxVRAPqZNVWNaGS4gzDkWpmSNonYqUEndG/Y6tb7o+6sFb4i6IyLGnKOvMeWV7AN3XnM14OLo9EMglSTWJcUZze0pncDN6SKQuzrJIIamuJTZ/nH/J2t2H5VzsiGdqzppwut+4b+6t6/Zuu53bN1Njicp4+971rzkrndtXb/lvHI8uP05uvWbS6KQu2rdGk/9mqqG98d5kAnxpByN0+SK2/bqpHB3C1NIJJHhdTf6tSVP3iRDP0lH/2ajioFGaAwTuahiytcEjSijT5gKpFUnKWTBLhTyubzDejfSdSWjluCwXkuhOP0QSCUVshFeW5KDTkrXSKXF7kzTSYqi1LR0vew7khaayRrNNZ0k/Yt/8ngkIl0mtF42eXychpRyZZaFn7lOwF6dRFbb+tlnfkBLJvslkEQ9efIm1fWT9JQGuazRJm9dcd0ET+7w8lopKrb4JicWLNGFoKRdRHzdjesJuuOHFtbMSi3yYrwtYzdpfsBV5HJVeq3XF5nDdAmS/S/t8SS2ekjDdaoYIl5KnaI6ieEi27am0ElYd+MDnz1/Z6BOUhRly6Gel/7sn4h8nyUDkUU6qfeVBfNfGRrplJ9OSWeXZMVQQsoJhUEgnQTs1UlKuIf/3K2Jb+jO1DeK2CIt7xmKqZP4lmSyEsW39RgXg6QyDgdfTopDJ0kLW7yWcJLLKb7MV+n1FkXXSdpubia8LHWSFJ5JM3PRC45aUj9C56mLeq4ADXQxzarpNAaEL/y5fNGXCxVFgU5K84AmYX5m6iRFUf544JP/7D6YBLF0VIFOyvVABfzPCQI266R0fBfAZnwEMraDOz53UAoE8pTA6609WbIAZ5tOai/W/g2zqi4y0jm046EF8x8imTRKdHyVen/BjmYWMdLnNDfO5wZodVYG8aScEAFwMiYB6KR8+C5nAR4eo8qHHqEPIJDNBP7U0rX2/en/BZxNOqmuwvFQYy9dMmsvdnCdxBKqZlLlUXPjfFKSqCh9TgTrbulc94k5kaNAWglAJ2XztzF8AwEQyFICVXs/Xr9nmp+rZI9OkiWOpJO4EuoUoSMWMqpot8iZfp30va0boey1BgmV4wSgk7L0WxhugQAIZDmBig+OV+//ZBqdtEcnjdRVOIqPsy3YVjpJih6p27TNORnUSUcH+w5OGObdy+uKl1aFDJlRLoO1BYUP/+i+yp1SBOJosHZe4ZyCwidW9ysBZbiqeOm6wSjVpVq2KjM0l8UEoJOm8VsOTYMACOQ2gTW7j2462DVdfbBJJ5F1NL69yCHW3UQ8KTIiB5DUFTopyMRy+BaltO9P2ukqWqeXRHs8Ty0J3E5EtQyvc8o6KVS1eOU2WXtNdCxy7twDSQQCjAB00nR9xaFdEACBfCCwyuvf2nZyWnpil04SP+a3CBTpf+ovSsaToLOLTr5MdJU6ly4qK/obx48fKGs5qAyvc5aWeV6cNffhguK9BxUlMDGwumzRwpKlBcVvNlDh0uGveqR4xUJn0aLW4YByqqxwzgP33/cjEvuZUxakEYiJI0uc9ZqmmThbVjxvVuGcAudOH53k9BZY0ELSSROjHaN9q52rN42OdoyOHuXKYI/niSV+PKUpi2M8fKR0b7A0ZUInTcv3GxoFARDIEwL3/vrXssaP3vzwdOb7Y5dO0oJDpmcgxaOHopUx6aSD3qIlATL17ix/sIyucK1zPrichoJ2lpMo0R7PU6VU/RxtLX2kORSYOLKkZG8HmfwGyuZWNdBZ0BhPClbN8lzUJstAZUFdn3ZpZSFA9JkaT+oI1JfWrH7kZ48trNlYWlO/c5Qrg+DmB1ynNDtpmoBhNicIQCdl/ssNLYIACOQVgW8jk8+98+HGA/wRbJnqnF06KZrQSTHfpJOOBtbMKm/bM9i2pHA1XefS9ApVJLc3lfy4YPGyecXL5i1+YranL9Bf+8CsJ8hl8dLZc1dvoiLGqJMClbO9w5KgGdlZs7SgcOny5j4isKwsyDqJVjS4QaVSyDfb1SWZ5fopJ+Z1OGkvAegkq68045O1LcrIh5BIt41PgIzydG+phl1J4zO7re1KzwS3LhBPLn/wpngyJ6vEn5mpPbEzHmNJlDFCTsIEqoCAvQTC/zr+zM62d499aq/Zqa3lmk5qqCkq85/d5j/LN2IbBUqD6zEaZ+KiJNT0SEmbWAtjqmWn6wndJuvg5lk1Z02CZnRb+YPLg0rAykJcOim4ebYcprJ33oW13CJgt04aoKfgNjU1tXSHp/6I5/hdS51kzpR1EpUXqrYwl0yVRwZ1EnXVJFbEk7hT7Ukc9ePrbByGUAQEbCPw9a27T9cdaO4esM1iLEO5ppM6Wlf8TeFT8xY/UeBcsTp426RXlMBgy6K58xaWbywtW0a3H91uqFtUsHhlac2aheUtdAFOORrcOGvusiXlK1az/UnK2dK5G9mSXEBRDra+OK9sY2nNynnqDiejhYOtL9Lfu/34gcI5i1pD0eJJDTWPsRVAkwLjGi63Znp4mwoBe3WS7ny36TgHN8b3SqDS6fW56C871JPX6MEmXpalHjGmHqahFiDntGm1HORZjvTMMu3nIfxMEouTTOSjXulhc65KF3saJNdJ2hkp7BC0QKXTVel0OFQ/aWFjGdJJfuIHO0dFd5CIgzopl5GOTosjniSaEwREjhxAMuqkmEfEGDHKHrLD4BR6RF0RORzGWylOkhFhKuEPAcABxhhx3AaBTBL4amRs4aY9Hb2XMtNojumkUNXi0k3sZ2WD9bPsW9XqaF3xiPeynYJmsPGRsg5DHMtO+6nM2aibeQLp0kn9/iZxJG5mvjLiaYXoCXGyGE1IMR554pcOLKNTslaLaw7zPG3OMbgU8jldXQEXbddUWG2deFgZIF4VeQM+p3SCLDtYlykV2VXeiDHEojaUqKQwOUZl4jBtRRcxknzQC0e9z9y9KBjV26plIshcXUQYOX0BduAdhUZLGTpouNTaQQoEppPAueEbc9Z7ey5ezYATOaaTJhrqlhYUryTBnsIV6wZt/DXZ7Z2uFYaHBaQga4bXlVTulB8TkPmJGS1mFQF7dZJ2Dq7f789OncTCOYqiTvNRoiBGnaTWkuZmk56Ifbwam/LZ/0V1KRRENBDLFyV5kElEr7RlOxJzYvKFfR9LvpEMEXCiVXmv4/jqphUlrSOCSdQQl4kCoLAYhaS4L0WANFcl48QyGxRGkg2BCCbR1kXojliVhJrWCFIgMP0EPvl8+Jev7b4QupluV3JMJ2HFCgRyk4DNOkn7XhjwZ+W6G1+TIks83hBdC5M0gXA/OZ2kFy7CGE+ooZFhr7MyoOqkLpcaqeKzvoVOMpUR9rxFYnGKrgbKMkIX++E14v5Lw2yMVTQ5YsxPQidpm7e0eJIroBh0UjSqWsAs7m6hIAhkiMDB0xeerjswOj6R1vagk7Iq6gBn8pVAenTS9e6Wppbu62n9ikjGuIjiiG06UWb32DrJXFEYj+aZqpNI0MjpLKIqRKgZEsWJEk8ylZHsy37qhQtZC1ODT1J5c5IGbGSBxYvwDpICVuEofXNWipOKLU3laHx4PEnksNVGHiKSdRKJQlkJWaoLteAWdxp/QSBrCNQf+cvKd/8lre5AJ+XrxIx+ZRUBm3US2ZZEXtkokthOHXUFiysDrga0bzMWSpGLiemc7ODmFbXd3CJHCBrNmC4ldBKrS8UHX3iq9HqLougkEmqiL16G6gnVQVlDiCU8JmukjmhiRecQvaDFNEUljPBAl27fOmtOK+Mgu6mYzSgktaYtMPLFQZePxNgsdZLcWdGWwjbFT9txEWaKyAEBCwJVez/edLDb4oZNWdBJWTWbwpl8JWCzTrLp458uM9pUnZYWooVe0tKYbUa1dT3bTKbdkCxY094YGgCB5AmUeNrfD3yWfP0pa0In5evEjH5lFQHopCm/hxK+aVyNSthARiuwXdJaMCmjjSffWG5BTr6fqJkHBK7cvDXvj+93X7iSjr5U4wUCIJARAtE+v45oN5APAiAAAiAQJ4GPPx9auGnPjbE7cZZHMRAAgVwhAJ2UKyMFP0EABLKawK6jvau8/qx2Ec6BAAgkTgA6KXFmqAECIAACVgTK3+t8p/MvVneQBwIgkKsEoJNydeTgNwiAQLYR+Pr23Sf+1HTyi0w8pzvb+g5/QCBfCUAn5evIol8gAALTQODoZ18+tW3/d99PTkPbaBIEQCANBKCT0gAVJkEABGYwgddbezYfSuMTlWYwWnQdBKaBAHTSNEBHkyAAAnlM4N5f//qb2v0nBobyuI/oGgjMHAI5r5P4A6lz7vlAM+c9hp6CwIwjEDg//Jva/d9P3ptxPUeHQSDvCMSjk8LdLYZTSvjJJU3+/qwggmcSZsUwwAkQAAFB4E8tXe4PT4tLJEAABHKUQEydFO5uaem+3u/XTnMjssk/QPob7mnJuFLi56Dpzn816CT2BGpyOBo/21XkaCeR0fPXpMscHUC4DQIgkJUEbt39bl71+58N38hK7+AUCIBAvARi6iRmSNJJ14lwCpNsGlVS0/G2l2K5QCVXNrrzaHU6yfKsVlUwyUeGDXudDm4tRbdQHQRAAARMBA6cOl/W+JEpGxkgAAK5RCBJndTf09JEIkz9/owGlEQwicSKpIPldTqJBorkuyKYRGsVeUO5NEDwFQRAIIcJPFd/uO3sFzncAbgOAjOeQFI6qamJq6N+f0bjSXo9pA2eVX6Xy+FwOH0hRQl5ixA30mAhBQIgkDECZy9ff/L1vZP3sKE7Y8jREAjYTCBxnaSwHUvEj4zvTyKRIb7lSAZhpZMUReFrc4FKJpjkKgr2J+lx4AoEQCAtBF7b90lDZ29aTMMoCIBA+gnE1knit21NIox0nf4Ajv4Gjm5USr+bogWyqUh90ViREqjk13wljj8pgGzjDqgVpQW7Sp6H/UmCKhIgAAJpI3D1m1v/UPnn8NidtLUAwyAAAmkkEFsnpbFxmAYBEACBGUBg+0dnXm/tmQEdRRdBIA8JQCfl4aCiSyAAAllFYPzbyNyq9wbDo1nlFZwBARCIhwB0UjyUUAYEQAAEUiLw7vFPq/Z9nJIJVAYBEJgOAtBJ00EdbYIACMwwAvf++tcn/tT0+dWvE+731/6tL1dUVZVXbfcPjidce4oKo0dq3qNPDI5aZuhEyzlbm4zaEm6AQPYSgE7K3rGBZyAAAvlEYPcnn63fcyLhHt047GmjP5g556lqCyuT41fOBYOnz4cnFUWJhM8NjkbC508Pjqr5fVdukRbGh/qCp4Pn6cPAI6G+wVD4/Olg35BO9JD8UUUZHewbCg+eCwYvqD/LCV8I0rqR8KGKku3+4Gla6guSqZYxVVEmif3gucHRSYWnr4wTD/ECgZwnAJ2U80OIDoAACOQKAWfNBwmHlLhOGg9sLW+7eOL1rSeujI9f8de82R1RwodfLqnaQ6TMmXerWi6Pj984H7wwrlxorNl9PnzryoltW0+MKuG28hfeOjF444q/uuYEVVEMV7it3NOrKL2eJVXNfVfCfe+WN15Qxo9tdfeEx29dCfZeifRsfWnv4PitCBFkQ1fGb40PHijf2hMxVFEmzzeu8gRvjIcv+7svnG/803vnb4yHextrDlzJlXGBnyAwBQHopCng4BYIgAAI2EngvU/ObWhOcJfSjcMVpeVV68srGoKjk32eVe6WAy0tB97but0/SnSSp486GP6Xqheq3M1HSJwp3OY5zI6V6/VUHRtX9ZAi5bMqXCeVs3hVr8fTq0TONb6wZut7bUESl+r1qLeU8cEjnpr1VVUrl5EckU+rKEPNNYf4I2JuHK6pbqQeeqp85+1kB1sgME0EoJOmCTyaBQEQmHkEJu/9df4f3790/ZsEus7jSbRKn+f1E9LimaaTyN3JSLi38aX6vtEPtzYPkYxIYKs7SOJJJG4Un05idsav+KvWHx49x3XSUHPF7kFyiykkg066cbiqgUuirw9vZSVJabxAIB8IzGCdRA82sXq6tzaugcq4Hv9t/bxvzYw5pT73kj0qk94255hrkRzyFE3xqEzrIrFz+aM4xXM4WRVxEJ4hP7bBBEtEeX56glZQHARykcCuo701LV0JeK7TSUr42NaKarenfmvF62RJTcSTzvsqttZ7PK9XuXtGlfG+xnVV7np31euHaXgpAZ00esRdtd3j2V5VdWBQmQi619R46k9cmejzrKpw13vc60os4knKeF99Oam1raJ5YPz87oqK1z2e7TXle7h4SqC3KAoCWUcgHp0Upo/fbum+Lrw354hbeZWw1EnmTFknhXxOob3MJWU6IZ9T0knkjjlHLs/StugkasokVvgxL+ZG7c8Z9jpxILH9WGExBwiMfxv5f17ddf1fpahQ4l5HIlZ1IpGItHU6Mm5ZyKqiIW9SZ0e9ORmxbtRQl11aWrAsiUwQyHoCMXUSO82t398kdJI5J7t6Gah0en3kEFyHQz3+luoPL8tSgzE0mCQKKIoi1aIxJOmAFGJJTOpWYiKmTuLxG90xc2ZVZMgRteQAUmydpHZN7zM73EUXiDLqJEPrpkENeYtcXh87NkYDywzzI2ICriKXq4g07SXnybC4lAhT6U4jnlpEmlpHBgjkD4E3Pjy9veNM/vQHPQGBvCYQUyex3ss6KVpOtnAiJ74xWdPlYgkqONicLYuDkLdIm7l1tbieMM/l5hxDty3iScNep2pQ16JZl+hytIhLtNN/DS2zS7mDPIeLPL3zUkm9KDREuXgzVO7Qjuj8pLd5Dlk9dHWRkk5fgOHVgGg9onUMl7wZ/AWBvCdw9eatxzb47n73fd73FB0EgTwgkJ86ia98qVKAz+KG8dKpFk1DSPO3lqlWJTEVfo6uwRovoUZc1DiLq4vuKOJRFzmCZfZKzpHTSpcrinax8IEeDKzpP0WEl6gPnAyJoLm0c4KJHV2LFoYlXCKoJgks6iGzySix8iKYRJvnio2aNzpg0SayQCBPCby275P3Pj4XT+ciI53Z9l91dbWiBLLvv3hwogwIJEwg33USnZijKABp4ifrbnzLdgydJEkQK9pa+ITbjNK6hS6RS8rphHQSdYqpEyrphKYxemuUKboWjYWJjtLCb6pN0goTXryupU6KRizg0skmiyaRBQL5SqD/ysivtzTH07tsE0mRkU7opHgGDmXyhkA+6ySxlYfP4oZRkyZ+rmlICUknmStqcspgjF+adRKJ6FgJArNxXY5WS5MjvBH5L5VEFvZ570jIxzIGFlsn0fVKoXK4QUUhPSILcCKH+BAlnkQEqHUwTFuOlLuDNAjMFAKrvEdagxdj9hY6Ke7AVUyWKAACyRCIrZP6/U3ay9+vKIo5J5mW01aHLjzpVnl0+oO2SxUAXwyjIkMTQJJOIpqJlRJCJGp4Ru2PhU6iIow3RiWLMEtyqRAx57BHANBq1jqDA5R2X7HVNLUpUUvqrCp6NEQOh9gkHoXSFDpJLCmSjfPRdBJd4OO95xu/2DKftAjIO4O/IDBjCHRfuLJ8x6GY3YVOgk6K+SZBgbQSiK2T0tp8Ooxriicd1kkQha/QpcV+4ka1yFPidaerhixGp8sHtAsC003gv3jaPv6cPhEyuifQSdBJ0d8duJMJAtBJSVA2rlglYcKmKnTRzXpZzaYW0mImewCmpXswCgJxEviw99Lv3/2XqQtDJ0EnTf0Owd10E8hDnZRuZLAPAiAAAnYR+KfafZ9+xQ9HszIKnQSdZPW+QF7mCEAnZY41WgIBEAABA4EPuvrX7zlhyJQvs10nDa9zFq0LdS13VO7kgmaPt+hHrq5YDw4YXucUVbqW/7Ro3WC0Zw1YNGFpXMaGNAjYRgA6yTaUMAQCIAACiRKITN5bvHVv14XhaBXTrZOGdjy0YEdzQq3ongswvM65YtPo2dKfCdGjBEYv+kLfW0oZKVPWSd8f7L/YwWWWVIYpJ6smrApHQ4h8EEiJAHRSSvhQGQRAAARSJLDjozNvfng6mpGEFEwShVPVSRMHgwMdCvs/kTUNdXMKCh/4oYgnBSoX1tUvmjvvgVlLq2jE6Gg/uSwonPPA/VRahVoWkXTRupAaT/J5Fs2aO6egcM68urNHiR4yNmESUmrFaAiRDwIpEYBOSgkfKoMACIBAigSu3Lz1y9d2fz95z9JOdOlTV8EfuFHR3hkZaW6cr16r8aH2YseqOlq9uXH+Q429nZGRugrHQwvUYsXHRzojva8skIwcX+VYMP8hkrGqjqTVOBOxTJtQnwyuiyepGkWnXUK+2ZJO+kn5CSJ3Amtme4cDytnSuRsbiPqR40nKTpemk7ipy9LCnFUrppCSJT9kgkCqBKCTUiWI+iAAAiCQIoF1Tcf2nzxvaSSKTjJql6EdDxlVURSdRAVTp5BBcjxJZJJGe19ZMP+VITnBT1BJUCdReaQEApUkEfLNLj9BlVBUndQR2Lhw8bJ5xU8VsICTSQ9xIWUUT5b8kAkCqRKATkqVIOqDAAiAQIoETn5xddl262dORtFJdRUOGhDi2uX4Ki3ko6atdZJaS8gjkYiMEPEkx42OryJRKENmPOeW6ONJOp000bHI2bhHUQITJ5ZIW5qkeNKp5YVv+og2urxa2+htlESWUinFQUB1ELAmAJ1kzQW5IAACIJBJAst3tPZcvGpuMYpOii+exAJCdLmNr7sloJMiRGkVV6hGtON4p4onhTaV0f1J9z9YUPjiphAPI5F1NxpPUiYaah6bXbZyXkl9WQndnxSspXuV7vtR4ZyCulMBZWRTyYOzy9YsLF65EDrJ/H5ATuYJxKOTwt0tTU1NLd3XuXvXaQbNm+q5H7w4/oIACIAACExN4MCp86++f9RcJopOMm4tstifpO1YemiBtj/JqJPEFqWKdnPoiKgxvkspPp0UV+DHMhqUeqYZHnJAwAYCMXVSuLulpft6v1/SSf1+ppmIfvIP2OAETIAACIDADCcwee/evOrdw1+PGThE1Ul8xS2dBYyre6ytqeJJ0EmG8cNl7hOIqZNYF3U6SfS63w+dJGAgAQIgAAIpEdjecWZ7xxmDiXTKIC1EZNmKblu3JMugkwxjhMv8JpCCTrpOIk1Yd8vv9wd6BwIgkDECw1+Pzavefe/eX+UWLRXM9GZCJ8kDhHTeE0hWJ5EtSv7+vMeDDoIACIBABgm8+v7RA6d0DwiYXklk2Tp0UgbfEWhq+gkkpZMG/E0QSdM/dvAABEAg3wj0XLy6fEeroijnhm+cvUx+O2OpVKY3Ezop39526M+UBGLrpH5/k/YiIST28zeeh6W3KfniJgiAAAgkRGDZ9kOnvrjm8Z/9yXNvQCfF/ZDJQEKQURgE4icQWyfFbwslQQAEQAAEkibQeOzTa6O39588v67p2LIdh/62tE5RlGq84iOQNHZUBIGpCUAnTc0Hd0EABEAgQwT+U/Xuf1+8+c0PTz9W9d5PX3T/H89uQzwJ8aQMvfnQTHQC0EnR2eAOCIAACGSWwKLX9/5P//zHv1n++r976o/3l2z7NjI5vVuRLFvH/qTMvinQ2jQTgE6a5gFA8yAAAiAgCEQmJ/9x054fPLnBUbT+/pJtI7fuWCqV6c2EThLjhcRMIACdNBNGGX0EARDIGQLfjE884vL+N79y/fvfbh4Mj06vJLJsHTopZ95McNQOAtBJdlCEDRAAARCwj8DQ12P/V9mO/+GfXuv9MmypVKY3EzrJvqGGpRwgAJ2UA4MEF0EABGYagf4rI//2N9Vrm45OrySybB06aaa9G2d4f6GTZvgbAN0HARDIUgIXrt3E793we7csfXfOJLegk2KOdsDlcEmPMAu4HE7vcMxaUoEul6NSMiDdkZIBl4O8nL6QlKmEfM6YdU1lQt4ih6PIqzMkG5XSIZ9TtEjsxOzasNcp0xj2OuNrSGoTSRAAgQQIWEZ07M08vspR0R7jTFy5RV08aXids2hdqGu5o3JnfJqmoW5OQeEDP3R1BaKVD1Q6XF0HvUWzvcNRy1jVTYAqioJA/ATi0UnsAdwt3eQZ+uSlPaE70ye8UQVA9UTsGV11NtU/9BMrG0mTTiJNyKqFNWnSQLInajqeMhbVaJa5xWgl1XyDTlIUJS4VGMMqboMACEQjIAuUNKVT1UkrNo2eLf1ZvDqJSJ+Qb/aUOuknNWc7WldAJ0V7UyA/owRi6qRwd0tL9/V+f5Omk7iDRD/5B/jVFH+Hvc5KLwlyOBwxoyNTmFGUkLeIx3K6XDxkokZiHDzOQed+LwvP8OY0geXqYi2IWqrBQKXT61Mr8TKWIkCvk2hAxVvJtBsLOwnLPDhElIS++5q2kHpkj07iPRURLBm+FvsxOkmDSQ7BkIk2VZFysAScWSfJgzLl4OEmCIBAEgTSpI1ksynppImDwYEOhf2fCKAlJSsfKXxsed3mWbOK1g0qgdG2JXPnFRTOKXCu3BRS1PiQTieNbHMtmleyYrYoMDrQEJoIsP9bxY2iBZmSoIsqIBCbQEydxExE00lm8WTVJJlcHVR8kFlcUyFWZafMk1QF10lE37BVMC4+6JQvJAtJmKMmWpRIs8PXqrgdRVG0YtHc0rpmLswX7LpcPPol5ag6RuqRlZ/Rmo2RL3WBKhsBn7HSRkFPhrunt64vo7/HruTmrO4jDwRAIGkCsqCxTve+soD/m8Yx/5WhEbKCdnzupsH7AAARNUlEQVSVmrVgRzOp1fvKgvkPqcVMZRwOvu6mmSo+zu0smP8QsbWqTrSuW3fj0ocJmpDvkbKOo4HKn9ScDQQqlweku4E1WnxI0klH/asXNo8Q6dP/5izXqWgaKJ78pBmjIghMRSA5naSuvLX0hKeyLe5Ju1iiT7pahIN8JkU4RBghCR4sISWEElK/DkQtiyaompFsyoIg5C0ipjRJpHmr3tK5YLjQCms3Amp4iTupyQiuisw5tLaF55rVRFKafRoB4mEk3seAi+foW5SxsNCRylbsYbJ2wgqCdUnkggAIJEhAqJMoiebG+ZLKoRpoaMdDqjwaaW6c/1BjL9VJDiZ9ePn2YllU0f1JdRVqmc5IezETRsdXObgpbQPTlDppuXc4EKgkkojppImBdeVL5xUvm+d80FIn+eoefMC5jBQoLppV3taRSADJIJ4SJIviIBAfgeR0kmo73NMSl1SS5tGQz2lPPEl1QT+100z93C9hIHEdthYm15paJ/FglWRGl5S6pubzAJWi8FY01ZIdOknyWc+KO0x6Ei3mpOu9ekGW9mJuVLeqiDwQAIFYBKLII6FaJHFDgkYkniSCSewfOkQD8Vss1FTR3ilpKVJeLSP9q5OpKMsluUR00sHmpxa23iaCxr/aUidpBVJQSEwwxUKJ+yCQFIEM6yT95h6dx3HGkwzCRZvOhTH93C+yaUKVLFItLmt4rMUyAKM3Il9JmkPNFqqIyDIa9BI5YisPr0WXCLUeTeW5ap1G1Hg0SHZEl9ZatOwOHwUaZpNiRQadpC3SSWV07agXXa4YBawqIQ8EQCAeArF0Eo8YqYtrRCfJGkitbtJJImIklFNkRJJcdNFNuiVkGUkkopMCwdpZc5ctKVu6sGzFQvL7tdCmMvp7t/sfLCh8kexYmjhbtvjhR8o2lpavWNJKF+CSFUzx4EQZEEiYQGydpP26rampifzAjf38rYm84vy9G1v2ov9SSSGYxIIcmqpQ+yoZZ7O1WW3wTcp8IYzUFLKMrd9ZrrtZ7uPWI+aKR8rllsne7Sg6SSwgkjK0R1Iv+GYmyaSUlHZfSblakrcuaEsealqQhtaIjOMSR1orVBc9OTSyvX1qGaRtEdPcQAoEQMAeArF0El0jE3Egi71HfN1NukVX2cgCnHjRHLY8x/PohqRE40nJShzDClpyl/YAhxUQMBCIrZMMFZK5lKbqZKpPZx0p8jSdbkht8wCYlDWtSTl2Na2OoHEQyEsCsXUSj/3IIaIEaonqcSemiCdBJ+Xlm3CGdwo6KeYbQF6Nilk4rQXoopv8K/20thaP8RxWwPF0D2VAYPoJxFQ8Qzvo79FIGEj9kVrMKikWgE6a/rcFPMgggYzopAz2B02BAAiAQD4RSFHTpKM6dFI+vcHQl5gEoJNiIkIBEAABEJg2AukQOinahE6atncDGp4OAtBJ00EdbYIACIBAfARS1DTpqA6dFN/QoVSeEIBOypOBRDdAAATykkA6hE6KNqGT8vKdhk5FIwCdFI0M8kEABEBg+glU4xUfgekfKniQpwSgk/J0YNEtEACBvCCQYuwnHdURT8qLdxY6ES8B6KR4SaEcCIAACGSeQDqEToo2oZMy/zZAi9NIID91kvbgaR1a+UlIclpXCBcgAAIgkD0EUtQ06agOnZQ9bw94kgEC8egkdlBJS/d12R+a2dIdlvOyJm2pk4yZeEZi1owXHAEBEIhGIB1CJ0Wb0EnRBgv5eUkgpk4Kd7e0dF/v9zfpdFK4p6Wlp9sfp04i58l7vUX02KApDpbXnXFGTkYjysbnddJ6/IgxcX6Zei6b8aQ2nRGHQxwZa3W8hlE55eUIo1MgAAK5TCBFTZOO6tBJufyGgu8JE4ipk5hFvU4a8NMTcPsT0EkOBz0Bd4rj0kLqibBMHnWRdsnhrEzo8NiPduQq1z3mHFbRcOCutSTiZhPGhgogAAIgkBEC6RA6KdqETsrIyKORbCGQhE4S8kgkYnVGkiMhn5NHhgy1rHWSXu6IYJIITZlziFmTKgp5i0T8SW4Xu5RkGkiDAAhkHYEUNU06qkMnZd27BA6lk0DCOinc09Kke+nW46xd1eskvfTRapDoEXvxtTmT3DHLGnMOMWiqqIkwrT1a0CUW5vQ3cAUCIAAC2UAgHUInRZs6nTS8zlm0LtS13FG5U1HIdokY/w2vc8Yo2VA3p6DwgR+6uripeJvIhuGCD3lIIGGdJDFIIp4UcDmc3mHVRsjndGiXAbNksZI7bP1OeGG9kGeOWplMUQtk41RA2EICBEAABLKNQIqaJh3VjTppxabRs6U/i6F+JNETR8mQb7ZOJ8XVRLYNHfzJEwKxdVK/Xwof+fulfieik3ioSA4m6XUS3Y3EizmofLEQN9I2bXX9zpyjKIrIFOEivp9J8l8J+ZyyP/ItpEEABEAgGwikQ+ikaFOnkyYOBgc6FPZ/Ekza6Xqi1FP1yNyHC+ZubphQAqNtS+bOKyicU+BcuSmkBJThdc7S5TWLZhU+OKvm1FFFCQQqZ3uHiYoSCUUJ6HSSsQkuuYyxq2wYLviQhwRi6yQbOi2tu0W1JpeR01ErJHrDFHlKSyuJeoXyIAACIDAVgeQ0zdCOhxbMf4j9w3PBjmZipPeVBfwfouYcx/xXGleptyvaO2mjdRVqxkONvSxH/b9OJxnFyk7XfY94LwcUZY/3ieUB6W5gDdVDdBFtUAkol9UFOCGPRMKokyQjUy7qTYUR90AgaQJZo5MUomPEKz1hHnkzk5xOmh4qggAIgEB6CSStkxyr6rg8Kj4+IgkdIphoTu8rC+a/MkRuNTfOd6jyqL3YQTKbG+dzeaQVi08nFa0jcSP+38TAuvKl84qXzXM+yHUSW3fjG5WEPBIJ6KT0vqVgPUECGdFJCfqE4iAAAiAAAoxA0jpJDRqN1FUwVUQS4mXQSZ3HV3GdpKoiubDDoVpIQicdbH5qYettIpv8q6fWSXu8ReoCHHQS3vxZRQA6KauGA86AAAiAgI6AXTpJU0JCOUmBIu2uminFk+RYFE3HWHfTx5OCtbPmLltStnRh2YqFZB8SDyOJxGjbwllFi8qWLnStWUIKhDaV0d+73f9gQeGLdEsTD02JGFWUhI4bLkDALgLQSXaRhB0QAAEQsJ+AXTop0l4soklqfGgqndT5/7V3LjtqI1EA9Tci9Q8hL+ZHzIIl2xFbNx0li5kFvcuMFCk0US+SlkY9PYniUT1u1S0/wA0Y3OSwCO5y+Vb5gKKjW4Xvfzr/5Jfn+uST4opbh80M1+H08IkIgaqq8CS+BhCAAATGS+AwTxr0qp35pOE0aG/k8X6IzOxNE8CT3vTHx+QhAIErJzCo8RwWHE+68u8ct5cSwJNSHvwFAQhAYEwEDlOZQa/Ck8b0BWEugxO4Hk9qPoN7GHjJI8X7DeGL0HUUtosxymm2t0/szREEIPALEBjUeA4Ljif9At87bjES6ONJ25Up6RbruOkndC/vY6zLHo3YkwyYPtPDky77FWJ0CIyQwGEqM+hVeNIIvydMaTgCez1pu1osVg/rZepJr9MjU0at8I+R3FFPLRQbMb/KyG3dNZ+JkT83xU1emKpwWVIYTn7FIcmY8MhKX0vOOkqRu247JtALc5JPKqeTfGqr1M1MePt4zDDnJDlU8yRbs8XexmwThsWTAgoOIAABR2BQ4zksOJ7El/OXIrDXkxyNoz3JO0SjeEiEvSluvNaEsm7lVIrm+upsVoCs6Ih2xIDSoqq2SWUSKyVBvNxBHPiYo3KaZdPSxL8pytlERM2FTB75HaZnzsX6u/Guj5kG10IAAtdK4Dde/Qhc6xeA+7o4gQM9SUrjJnVxO29GfGXn8lM0BvGkmJgxiRejR7FP5c2pzKXSrYhISCbZ9JE9K6c6J2gju3RTvGpH73DKTdXV0w2jGHnyr+hk4ayDIB10YixE5QACEIAABCAAgVEQOMSTwsS3d4t5H1NKPamrdlvUC780luRj7KANT0oj23SO6iMT1Y4ibad5b/Gk2zzz6pbMX89BH59mHkSBAAQgAAEIQGAAAkd5klmNu9vun1W0mWRzj10Ok5W1KmaGJGBcU1Mt0j/kkzLbYvc2uWWv5i6fHl7SkoWSQXe9t3uS87zbXLZVmQjJHKJL7QrOOQhAAAIQgAAELktgvyfpX7e57FFs6ZNMcttxZJ1JJ5NST6piPsmvstl9PHJhPVfkPakyC3DmlZe3uWwPUgt2yWam06Nu8aRKRjdb1+26W7I/3Xueutm4Nnf6+RERAhCAAAQgAIEjCOz3pCOCy6UxnyQtzXfdRx83e9ICAQhAAAIQgAAEzkJgNJ5k9mhL7sj/OO4sABgEAhCAAAQgAAEIdBA4iyd1jE0zBCAAAQhAAAIQGDMBPGnMnw5zgwAEIAABCEDgkgTwpEvSZ2wIQAACEIAABMZMAE8a86fD3CAAAQhAAAIQuCQBPOmS9BkbAhCAAAQgAIExE8CTxvzpMDcIQAACEIAABC5JYFyeVHvyZBuYlrIkptuZH7kUnnLZNsVmm3scZbOdFghAAAIQgAAExkzAe9JfX//+Wf3smOh2tZjP54vVQzxvKrvZ1/I+Np7lqNWTWhuHnM4rPSmp4DvkvIgNAQhAAAIQgMAJCXhPuvv8bv14/+Pnj0bo7WqxWD2YSm7Bk/qWvw2xPhUTU8TDPkbS17g1VUryWTGxba7eiE0m2Qok/sJNcZMXM9+l+BRKlMjjKCVUUjqtqsrppJi5YiZSDC7MJB5IdRETzHULD7oMpUVCnEzKrYQ+WaZGdxPyVVNsZquYujZVk+TVahXnyhEEIAABCEAAAhchkK0f79eP93ef3919fvfHlz+fv//bNg/tSdvVomddN4lkC5xZ1TCe4ZzDFDi7KTb1JbMyz4JbWCmpF2hrpo7qLTFyd7nZsBAWHGszm3gZkiW8JI6dRqywG6THKGBp71OmEW/WuuCtQDAPHN/hbaEbBxCAAAQgAAEIjIVA5gwp/Pv+4UPb1LQnrZfz5epV625iHlVVBS8JppIOV/MkEYvgJS22UebOtySQiqyjyWn7HvrIfFSiKPMCF/rI5ieT33JOZIrvisBJdkvyUupmkyFNoivkpWpn+BMCEIAABCAAgTESqHvSx68f26ZZ86T54m5ruj2YRTl71HZRaFPqENI2HdKgzUYlYMRL2jb66EvMkCpyXaHCjGSNT3JaLfql4vj5q4FkPqJZIfCuHeVmQfCT6skhBCAAAQhAAALjJpB9e3n69vLk8knbf7qcR3uSWne7X877LMFFTypzvxlIWUgCSLmIdhfxklSD3JVKp2xD8CQjQ35RzO9tUtuMJDMko8c1NdWSrsSFRUO7t8lFbi7txZuVQP5dpaNqZ/gTAhCAAAQgAIFREvD7uN9vPjy9PLXOcL10v2xzP29bmz4P9gdwpqGPJdkUi6xOiam0eJLZDxRexkKUAClPMmte7iUOVEvqxDh6Pc5eFUaP+SRZZasqtbPbRg6+Jetu4UYmxW3YlmRuRF7Wvbo8Ke5kasVMIwQgAAEIQAACoyPgPen5+/OAU+tSh5MNGdNUbQmn5jA6a6WPmz1P1aKc71QhiQMBCEAAAhCAwMAEvCcNO8rgnpTsCop5oO67UkmgzP+ev7vz8Wf6TOn4UYgAAQhAAAIQgMBpCZzFk047ZaJBAAIQgAAEIACBsxDAk86CmUEgAAEIQAACEHiDBPCkN/ihMWUIQAACEIAABM5CAE86C2YGgQAEIAABCEDgDRLIfucFAQiMnsAb/L+FKUMAAhC4BgLkk67hU+QeIAABCEAAAhAYggCeNARVYkIAAhCAAAQgcA0E8KRr+BS5BwhAAAIQgAAEhiCAJw1BlZgQgAAEIAABCFwDATzpGj5F7gECEIAABCAAgSEI/A+vJJlpC2Ui8wAAAABJRU5ErkJggg==)"
      ],
      "metadata": {
        "id": "ZQ7nQdsTGFQd"
      }
    },
    {
      "cell_type": "markdown",
      "source": [
        "We can create attribute from outside the class for a object. It will be inaccessible by other objects."
      ],
      "metadata": {
        "id": "R_vlbLgyGdG9"
      }
    },
    {
      "cell_type": "code",
      "source": [
        "p2 = Person('john','usa')"
      ],
      "metadata": {
        "id": "Wu9vfb54E-e-"
      },
      "execution_count": 91,
      "outputs": []
    },
    {
      "cell_type": "code",
      "source": [
        "p2.gender"
      ],
      "metadata": {
        "colab": {
          "base_uri": "https://localhost:8080/",
          "height": 141
        },
        "id": "tgg1X1lbHQEf",
        "outputId": "19ed8f7b-64af-4afa-a99f-5f5e8b69adc2"
      },
      "execution_count": 92,
      "outputs": [
        {
          "output_type": "error",
          "ename": "AttributeError",
          "evalue": "'Person' object has no attribute 'gender'",
          "traceback": [
            "\u001b[0;31m---------------------------------------------------------------------------\u001b[0m",
            "\u001b[0;31mAttributeError\u001b[0m                            Traceback (most recent call last)",
            "\u001b[0;32m<ipython-input-92-608df17fe983>\u001b[0m in \u001b[0;36m<cell line: 1>\u001b[0;34m()\u001b[0m\n\u001b[0;32m----> 1\u001b[0;31m \u001b[0mp2\u001b[0m\u001b[0;34m.\u001b[0m\u001b[0mgender\u001b[0m\u001b[0;34m\u001b[0m\u001b[0;34m\u001b[0m\u001b[0m\n\u001b[0m",
            "\u001b[0;31mAttributeError\u001b[0m: 'Person' object has no attribute 'gender'"
          ]
        }
      ]
    },
    {
      "cell_type": "code",
      "source": [
        "p2.greet()"
      ],
      "metadata": {
        "colab": {
          "base_uri": "https://localhost:8080/"
        },
        "id": "b_f3_121HR29",
        "outputId": "d26c8340-9638-433e-8b3b-7a28eea05e29"
      },
      "execution_count": 93,
      "outputs": [
        {
          "output_type": "stream",
          "name": "stdout",
          "text": [
            "Hello john\n"
          ]
        }
      ]
    },
    {
      "cell_type": "markdown",
      "source": [
        "### Reference Variables\n",
        "\n",
        "- Reference variables hold the objects\n",
        "- We can create objects without reference variable as well\n",
        "- An object can have multiple reference variables\n",
        "- Assigning a new reference variable to an existing object does not create a new object"
      ],
      "metadata": {
        "id": "2gB4uKOSMBia"
      }
    },
    {
      "cell_type": "code",
      "source": [
        "# object without a reference\n",
        "class Person:\n",
        "\n",
        "  def __init__(self):\n",
        "    self.name = 'nitish'\n",
        "    self.gender = 'male'\n",
        "\n",
        "Person()   # creates object without a reference variable"
      ],
      "metadata": {
        "colab": {
          "base_uri": "https://localhost:8080/"
        },
        "id": "zMpNZsqKHTwF",
        "outputId": "b0bddb64-a595-4db9-97e0-efeeddcfec2c"
      },
      "execution_count": 94,
      "outputs": [
        {
          "output_type": "execute_result",
          "data": {
            "text/plain": [
              "<__main__.Person at 0x7aaed263fb50>"
            ]
          },
          "metadata": {},
          "execution_count": 94
        }
      ]
    },
    {
      "cell_type": "code",
      "source": [
        "p = Person() # p is a reference variable"
      ],
      "metadata": {
        "id": "VX811nGvMtqP"
      },
      "execution_count": 95,
      "outputs": []
    },
    {
      "cell_type": "markdown",
      "source": [
        "- Person() -> creates object and we are storing its memory address in p.\n",
        "- p is not an object, it is a reference variable which contains reference / address of object which is created."
      ],
      "metadata": {
        "id": "GyEUr78gNAox"
      }
    },
    {
      "cell_type": "markdown",
      "source": [
        "![image.png](data:image/png;base64,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)"
      ],
      "metadata": {
        "id": "F97oOdKYNwZ2"
      }
    },
    {
      "cell_type": "code",
      "source": [
        "# multiple reference\n",
        "q = p\n",
        "print(id(p))\n",
        "print(id(q))"
      ],
      "metadata": {
        "colab": {
          "base_uri": "https://localhost:8080/"
        },
        "id": "okNEPOX9NfHN",
        "outputId": "6069af81-c1fd-4473-9f65-19acf80eb71d"
      },
      "execution_count": 96,
      "outputs": [
        {
          "output_type": "stream",
          "name": "stdout",
          "text": [
            "134891272878352\n",
            "134891272878352\n"
          ]
        }
      ]
    },
    {
      "cell_type": "markdown",
      "source": [
        "![image.png](data:image/png;base64,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)"
      ],
      "metadata": {
        "id": "enLNZstFOIAS"
      }
    },
    {
      "cell_type": "code",
      "source": [
        "# change attribute value with the help of 2nd object\n",
        "\n",
        "print(p.name)\n",
        "print(q.name)\n",
        "q.name = 'john'\n",
        "print(p.name)\n",
        "print(q.name)"
      ],
      "metadata": {
        "colab": {
          "base_uri": "https://localhost:8080/"
        },
        "id": "m4sz-_kOOIug",
        "outputId": "a83bbb0e-c8a4-4b9c-b281-51ef395a3558"
      },
      "execution_count": 97,
      "outputs": [
        {
          "output_type": "stream",
          "name": "stdout",
          "text": [
            "nitish\n",
            "nitish\n",
            "john\n",
            "john\n"
          ]
        }
      ]
    },
    {
      "cell_type": "markdown",
      "source": [
        "### Pass by reference"
      ],
      "metadata": {
        "id": "t-Y9U13xdpUc"
      }
    },
    {
      "cell_type": "markdown",
      "source": [
        "We can pass object as function input and also function can return object."
      ],
      "metadata": {
        "id": "CagCZTGMe7aI"
      }
    },
    {
      "cell_type": "code",
      "source": [
        "class Person:\n",
        "\n",
        "  def __init__(self,name,gender):\n",
        "    self.name = name\n",
        "    self.gender = gender"
      ],
      "metadata": {
        "id": "ipScK3ngOPLC"
      },
      "execution_count": 98,
      "outputs": []
    },
    {
      "cell_type": "code",
      "source": [
        "# outside class -> function\n",
        "def greet(person):   # passing class object to function as input\n",
        "  print('Hi my name is',person.name,'and I am a',person.gender)\n",
        "  p1 = Person('Ankit','Male')\n",
        "  return p1   #  function returning class object\n",
        "\n",
        "p = Person('John','Male')\n",
        "x = greet(p)\n",
        "print(x.name)\n",
        "print(x.gender)"
      ],
      "metadata": {
        "colab": {
          "base_uri": "https://localhost:8080/"
        },
        "id": "WbWKJcBceW-q",
        "outputId": "1b0cc42d-15f7-4619-8bad-f68ed1ae70f2"
      },
      "execution_count": 100,
      "outputs": [
        {
          "output_type": "stream",
          "name": "stdout",
          "text": [
            "Hi my name is John and I am a Male\n",
            "Ankit\n",
            "Male\n"
          ]
        }
      ]
    },
    {
      "cell_type": "code",
      "source": [
        "def greet(person):   # pass by reference -> technically it is receiving address/reference of an object\n",
        "  print(id(person))\n",
        "  print('Hi my name is',person.name,'and I am a',person.gender)\n",
        "\n",
        "p = Person('John','Male')\n",
        "print(id(p))\n",
        "greet(p)"
      ],
      "metadata": {
        "colab": {
          "base_uri": "https://localhost:8080/"
        },
        "id": "HdqPRVHrgPlr",
        "outputId": "8074f1e2-357e-44bc-d7e2-e3ccbc22b762"
      },
      "execution_count": 101,
      "outputs": [
        {
          "output_type": "stream",
          "name": "stdout",
          "text": [
            "134891272873216\n",
            "134891272873216\n",
            "Hi my name is John and I am a Male\n"
          ]
        }
      ]
    },
    {
      "cell_type": "code",
      "source": [
        "def greet(person):\n",
        "  print(id(person))\n",
        "  person.name = 'ankit'\n",
        "\n",
        "p = Person('John','Male')\n",
        "print(id(p))\n",
        "greet(p)\n",
        "print(p.name)"
      ],
      "metadata": {
        "colab": {
          "base_uri": "https://localhost:8080/"
        },
        "id": "KoxaX4TNgh4-",
        "outputId": "1e173f36-6080-48dc-95ca-4d738dca432d"
      },
      "execution_count": 102,
      "outputs": [
        {
          "output_type": "stream",
          "name": "stdout",
          "text": [
            "134891272875184\n",
            "134891272875184\n",
            "ankit\n"
          ]
        }
      ]
    },
    {
      "cell_type": "markdown",
      "source": [
        "### Object's mutability"
      ],
      "metadata": {
        "id": "71lDC2zKiJr-"
      }
    },
    {
      "cell_type": "markdown",
      "source": [
        "By default objects are mutable, we change/update them in their memory location.\n",
        "\n",
        "If object is immutable, then after making changes on them it will store in new memory location."
      ],
      "metadata": {
        "id": "FzgYvMQJitIW"
      }
    },
    {
      "cell_type": "code",
      "source": [
        "class Person:\n",
        "\n",
        "  def __init__(self,name,gender):\n",
        "    self.name = name\n",
        "    self.gender = gender\n",
        "\n",
        "def greet(person):\n",
        "  person.name = 'ankit'\n",
        "  return person\n",
        "\n",
        "p = Person('nitish','male')\n",
        "print(id(p))\n",
        "p1 = greet(p)\n",
        "print(id(p1))"
      ],
      "metadata": {
        "colab": {
          "base_uri": "https://localhost:8080/"
        },
        "id": "rKHrp4jXhcIJ",
        "outputId": "44837a1b-62d9-4f46-f10a-c90e6008477f"
      },
      "execution_count": 103,
      "outputs": [
        {
          "output_type": "stream",
          "name": "stdout",
          "text": [
            "134891272863904\n",
            "134891272863904\n"
          ]
        }
      ]
    },
    {
      "cell_type": "markdown",
      "source": [
        "#### Instance variable"
      ],
      "metadata": {
        "id": "WH3MHJMSi7Q9"
      }
    },
    {
      "cell_type": "markdown",
      "source": [
        "Instance variable is special type of variable whose value depends on the object.\n",
        "\n",
        "For every object, value of instance variable is different."
      ],
      "metadata": {
        "id": "xSGvT3Mj0sRN"
      }
    },
    {
      "cell_type": "code",
      "source": [
        "class Person:\n",
        "\n",
        "  def __init__(self,name_input,country_input):\n",
        "    self.name = name_input\n",
        "    self.country = country_input\n",
        "\n",
        "p1 = Person('nitish','india')\n",
        "p2 = Person('steve','australia')"
      ],
      "metadata": {
        "id": "qs6chXDh0zMQ"
      },
      "execution_count": 1,
      "outputs": []
    },
    {
      "cell_type": "code",
      "source": [
        "p1.name"
      ],
      "metadata": {
        "colab": {
          "base_uri": "https://localhost:8080/",
          "height": 35
        },
        "id": "MAmth88a045Y",
        "outputId": "63f4069a-c84e-4ddb-9031-04f5003f2403"
      },
      "execution_count": 2,
      "outputs": [
        {
          "output_type": "execute_result",
          "data": {
            "text/plain": [
              "'nitish'"
            ],
            "application/vnd.google.colaboratory.intrinsic+json": {
              "type": "string"
            }
          },
          "metadata": {},
          "execution_count": 2
        }
      ]
    },
    {
      "cell_type": "code",
      "source": [
        "p2.name"
      ],
      "metadata": {
        "colab": {
          "base_uri": "https://localhost:8080/",
          "height": 35
        },
        "id": "tDj4TehT06O8",
        "outputId": "51b7ab0a-f7f3-42d2-e475-1cd1f5370553"
      },
      "execution_count": 4,
      "outputs": [
        {
          "output_type": "execute_result",
          "data": {
            "text/plain": [
              "'steve'"
            ],
            "application/vnd.google.colaboratory.intrinsic+json": {
              "type": "string"
            }
          },
          "metadata": {},
          "execution_count": 4
        }
      ]
    },
    {
      "cell_type": "markdown",
      "source": [
        "![image.png](data:image/png;base64,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)"
      ],
      "metadata": {
        "id": "OFNXOWYy1PSV"
      }
    },
    {
      "cell_type": "markdown",
      "source": [
        "### Encapsulation"
      ],
      "metadata": {
        "id": "oxOYkHnY2aic"
      }
    },
    {
      "cell_type": "code",
      "source": [
        "class Atm:\n",
        "\n",
        "  def __init__(self):\n",
        "    print(id(self))\n",
        "    self.pin = ''\n",
        "    self.balance = 0\n",
        "    # self.menu()\n",
        "\n",
        "  def menu(self):\n",
        "    user_input = input(\"\"\"\n",
        "    Hi how can I help you?\n",
        "    1. Press 1 to create pin\n",
        "    2. Press 2 to change pin\n",
        "    3. Press 3 to check balance\n",
        "    4. Press 4 to withdraw\n",
        "    5. Anything else to exit\n",
        "    \"\"\")\n",
        "\n",
        "    if user_input == '1':\n",
        "      self.create_pin()\n",
        "    elif user_input == '2':\n",
        "      self.change_pin()\n",
        "    elif user_input == '3':\n",
        "      self.check_balance()\n",
        "    elif user_input == '4':\n",
        "      self.withdraw()\n",
        "    else:\n",
        "      exit()\n",
        "\n",
        "  def create_pin(self):\n",
        "    user_pin = input('enter your pin')\n",
        "    self.pin = user_pin\n",
        "\n",
        "    user_balance = int(input('enter balance'))\n",
        "    self.balance = user_balance\n",
        "\n",
        "    print('pin created successfully')\n",
        "\n",
        "  def change_pin(self):\n",
        "    old_pin = input('enter old pin')\n",
        "\n",
        "    if old_pin == self.pin:\n",
        "      new_pin = input('enter new pin')\n",
        "      self.pin = new_pin\n",
        "      print('pin change successful')\n",
        "    else:\n",
        "      print('nai karne de sakta re baba')\n",
        "\n",
        "  def check_balance(self):\n",
        "    user_pin = input('enter your pin')\n",
        "    if user_pin == self.pin:\n",
        "      print('your balance is ',self.balance)\n",
        "    else:\n",
        "      print('chal nikal yahan se')\n",
        "\n",
        "  def withdraw(self):\n",
        "    user_pin = input('enter the pin')\n",
        "    if user_pin == self.pin:\n",
        "      amount = int(input('enter the amount'))\n",
        "      if amount <= self.balance:\n",
        "        self.balance = self.balance - amount\n",
        "        print('withdrawl successful.balance is',self.balance)\n",
        "      else:\n",
        "        print('abe garib')\n",
        "    else:\n",
        "      print('sale chor')"
      ],
      "metadata": {
        "id": "0SS1SOks07Wi"
      },
      "execution_count": 10,
      "outputs": []
    },
    {
      "cell_type": "code",
      "source": [
        "obj = Atm()"
      ],
      "metadata": {
        "colab": {
          "base_uri": "https://localhost:8080/"
        },
        "id": "xJ4CMnuO2oEp",
        "outputId": "82176fe2-94c7-4a29-aa59-7ee51c9db84b"
      },
      "execution_count": 11,
      "outputs": [
        {
          "output_type": "stream",
          "name": "stdout",
          "text": [
            "139995356214464\n"
          ]
        }
      ]
    },
    {
      "cell_type": "code",
      "source": [
        "obj.create_pin()\n",
        "obj.balance = 'hehehehe'   # attribute is changed from outside the class"
      ],
      "metadata": {
        "colab": {
          "base_uri": "https://localhost:8080/"
        },
        "id": "RXn6v5pZ2pnY",
        "outputId": "6523bf3d-65b5-43b6-f7a4-0e1b66248a1d"
      },
      "execution_count": 12,
      "outputs": [
        {
          "output_type": "stream",
          "name": "stdout",
          "text": [
            "enter your pin1234\n",
            "enter balance10000\n",
            "pin created successfully\n"
          ]
        }
      ]
    },
    {
      "cell_type": "code",
      "source": [
        "obj.withdraw()   # due to balance value changed to string -> code got crashed/failed"
      ],
      "metadata": {
        "colab": {
          "base_uri": "https://localhost:8080/",
          "height": 297
        },
        "id": "fYrWbtld2sge",
        "outputId": "dbbbf8c6-2a4e-4fed-922d-43273b6a246b"
      },
      "execution_count": 14,
      "outputs": [
        {
          "name": "stdout",
          "output_type": "stream",
          "text": [
            "enter the pin1234\n",
            "enter the amount5000\n"
          ]
        },
        {
          "output_type": "error",
          "ename": "TypeError",
          "evalue": "'<=' not supported between instances of 'int' and 'str'",
          "traceback": [
            "\u001b[0;31m---------------------------------------------------------------------------\u001b[0m",
            "\u001b[0;31mTypeError\u001b[0m                                 Traceback (most recent call last)",
            "\u001b[0;32m<ipython-input-14-826ea677aa70>\u001b[0m in \u001b[0;36m<cell line: 1>\u001b[0;34m()\u001b[0m\n\u001b[0;32m----> 1\u001b[0;31m \u001b[0mobj\u001b[0m\u001b[0;34m.\u001b[0m\u001b[0mwithdraw\u001b[0m\u001b[0;34m(\u001b[0m\u001b[0;34m)\u001b[0m\u001b[0;34m\u001b[0m\u001b[0;34m\u001b[0m\u001b[0m\n\u001b[0m",
            "\u001b[0;32m<ipython-input-10-4c9328030056>\u001b[0m in \u001b[0;36mwithdraw\u001b[0;34m(self)\u001b[0m\n\u001b[1;32m     58\u001b[0m     \u001b[0;32mif\u001b[0m \u001b[0muser_pin\u001b[0m \u001b[0;34m==\u001b[0m \u001b[0mself\u001b[0m\u001b[0;34m.\u001b[0m\u001b[0mpin\u001b[0m\u001b[0;34m:\u001b[0m\u001b[0;34m\u001b[0m\u001b[0;34m\u001b[0m\u001b[0m\n\u001b[1;32m     59\u001b[0m       \u001b[0mamount\u001b[0m \u001b[0;34m=\u001b[0m \u001b[0mint\u001b[0m\u001b[0;34m(\u001b[0m\u001b[0minput\u001b[0m\u001b[0;34m(\u001b[0m\u001b[0;34m'enter the amount'\u001b[0m\u001b[0;34m)\u001b[0m\u001b[0;34m)\u001b[0m\u001b[0;34m\u001b[0m\u001b[0;34m\u001b[0m\u001b[0m\n\u001b[0;32m---> 60\u001b[0;31m       \u001b[0;32mif\u001b[0m \u001b[0mamount\u001b[0m \u001b[0;34m<=\u001b[0m \u001b[0mself\u001b[0m\u001b[0;34m.\u001b[0m\u001b[0mbalance\u001b[0m\u001b[0;34m:\u001b[0m\u001b[0;34m\u001b[0m\u001b[0;34m\u001b[0m\u001b[0m\n\u001b[0m\u001b[1;32m     61\u001b[0m         \u001b[0mself\u001b[0m\u001b[0;34m.\u001b[0m\u001b[0mbalance\u001b[0m \u001b[0;34m=\u001b[0m \u001b[0mself\u001b[0m\u001b[0;34m.\u001b[0m\u001b[0mbalance\u001b[0m \u001b[0;34m-\u001b[0m \u001b[0mamount\u001b[0m\u001b[0;34m\u001b[0m\u001b[0;34m\u001b[0m\u001b[0m\n\u001b[1;32m     62\u001b[0m         \u001b[0mprint\u001b[0m\u001b[0;34m(\u001b[0m\u001b[0;34m'withdrawl successful.balance is'\u001b[0m\u001b[0;34m,\u001b[0m\u001b[0mself\u001b[0m\u001b[0;34m.\u001b[0m\u001b[0mbalance\u001b[0m\u001b[0;34m)\u001b[0m\u001b[0;34m\u001b[0m\u001b[0;34m\u001b[0m\u001b[0m\n",
            "\u001b[0;31mTypeError\u001b[0m: '<=' not supported between instances of 'int' and 'str'"
          ]
        }
      ]
    },
    {
      "cell_type": "markdown",
      "source": [
        "#### Private\n",
        "\n",
        "To avoid updation of attributes from outside the class or to retrict methods/attribute use from outside the class -> make them private (add __ in their name)."
      ],
      "metadata": {
        "id": "aoc4StmI425O"
      }
    },
    {
      "cell_type": "code",
      "source": [
        "class Atm:\n",
        "\n",
        "  def __init__(self):\n",
        "    print(id(self))\n",
        "    self.pin = ''\n",
        "    self.__balance = 0    # private attribute\n",
        "    # self.menu()\n",
        "\n",
        "  def __menu(self):       # private method\n",
        "    user_input = input(\"\"\"\n",
        "    Hi how can I help you?\n",
        "    1. Press 1 to create pin\n",
        "    2. Press 2 to change pin\n",
        "    3. Press 3 to check balance\n",
        "    4. Press 4 to withdraw\n",
        "    5. Anything else to exit\n",
        "    \"\"\")\n",
        "\n",
        "    if user_input == '1':\n",
        "      self.create_pin()\n",
        "    elif user_input == '2':\n",
        "      self.change_pin()\n",
        "    elif user_input == '3':\n",
        "      self.check_balance()\n",
        "    elif user_input == '4':\n",
        "      self.withdraw()\n",
        "    else:\n",
        "      exit()\n",
        "\n",
        "  def create_pin(self):\n",
        "    user_pin = input('enter your pin')\n",
        "    self.pin = user_pin\n",
        "\n",
        "    user_balance = int(input('enter balance'))\n",
        "    self.__balance = user_balance\n",
        "\n",
        "    print('pin created successfully')\n",
        "\n",
        "  def change_pin(self):\n",
        "    old_pin = input('enter old pin')\n",
        "\n",
        "    if old_pin == self.pin:\n",
        "      new_pin = input('enter new pin')\n",
        "      self.pin = new_pin\n",
        "      print('pin change successful')\n",
        "    else:\n",
        "      print('nai karne de sakta re baba')\n",
        "\n",
        "  def check_balance(self):\n",
        "    user_pin = input('enter your pin')\n",
        "    if user_pin == self.pin:\n",
        "      print('your balance is ',self.__balance)\n",
        "    else:\n",
        "      print('chal nikal yahan se')\n",
        "\n",
        "  def withdraw(self):\n",
        "    user_pin = input('enter the pin')\n",
        "    if user_pin == self.pin:\n",
        "      amount = int(input('enter the amount'))\n",
        "      if amount <= self.__balance:\n",
        "        self.__balance = self.__balance - amount\n",
        "        print('withdrawl successful.balance is',self.__balance)\n",
        "      else:\n",
        "        print('abe garib')\n",
        "    else:\n",
        "      print('sale chor')"
      ],
      "metadata": {
        "id": "6Ig02lw73SwB"
      },
      "execution_count": 15,
      "outputs": []
    },
    {
      "cell_type": "code",
      "source": [
        "obj = Atm()"
      ],
      "metadata": {
        "colab": {
          "base_uri": "https://localhost:8080/"
        },
        "id": "_SElb6e25Jwz",
        "outputId": "e36340ae-f56b-4d41-f0e9-eb9b10911bbb"
      },
      "execution_count": 17,
      "outputs": [
        {
          "output_type": "stream",
          "name": "stdout",
          "text": [
            "139995356215472\n"
          ]
        }
      ]
    },
    {
      "cell_type": "code",
      "source": [
        "obj.create_pin()\n",
        "obj.__balance = 'hehehe'  # will create new attribute for the object as __balance"
      ],
      "metadata": {
        "colab": {
          "base_uri": "https://localhost:8080/"
        },
        "id": "tPvqf_TD5K6S",
        "outputId": "8bdee2b7-66f3-45c7-e629-bdf9b089ad60"
      },
      "execution_count": 18,
      "outputs": [
        {
          "output_type": "stream",
          "name": "stdout",
          "text": [
            "enter your pin1234\n",
            "enter balance10000\n",
            "pin created successfully\n"
          ]
        }
      ]
    },
    {
      "cell_type": "code",
      "source": [
        "obj.withdraw()"
      ],
      "metadata": {
        "colab": {
          "base_uri": "https://localhost:8080/"
        },
        "id": "KLW1_FWC6G_M",
        "outputId": "b7d2e149-393a-4cfc-d0ad-16bfc53d362d"
      },
      "execution_count": 19,
      "outputs": [
        {
          "output_type": "stream",
          "name": "stdout",
          "text": [
            "enter the pin1234\n",
            "enter the amount5000\n",
            "withdrawl successful.balance is 5000\n"
          ]
        }
      ]
    },
    {
      "cell_type": "markdown",
      "source": [
        "When we make attribute/method private, its will store in memory as\n",
        "\n",
        "```\n",
        "_classname__attributename/methodname\n",
        "eg: __balance  ->  _Atm__balance\n",
        "```\n",
        "\n"
      ],
      "metadata": {
        "id": "_JwFnmcz79dx"
      }
    },
    {
      "cell_type": "code",
      "source": [
        "class Person:\n",
        "\n",
        "  def __init__(self):\n",
        "    self.__name = 'nitish'\n",
        "\n",
        "p1 = Person()\n",
        "p1.__name = 'ankit'"
      ],
      "metadata": {
        "id": "Dvmvw0y99C6P"
      },
      "execution_count": 20,
      "outputs": []
    },
    {
      "cell_type": "markdown",
      "source": [
        "![image.png](data:image/png;base64,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)"
      ],
      "metadata": {
        "id": "tSCxyAT48_nz"
      }
    },
    {
      "cell_type": "code",
      "source": [
        "obj._Atm__balance = 'hehehe' # it will update the private attribute"
      ],
      "metadata": {
        "id": "dmcxcdkq9AjP"
      },
      "execution_count": 21,
      "outputs": []
    },
    {
      "cell_type": "code",
      "source": [
        "obj.withdraw()"
      ],
      "metadata": {
        "colab": {
          "base_uri": "https://localhost:8080/",
          "height": 297
        },
        "id": "yRK-LDkO9kt3",
        "outputId": "5bfd4b6e-ff30-4960-8f8f-822c9d08bf57"
      },
      "execution_count": 22,
      "outputs": [
        {
          "name": "stdout",
          "output_type": "stream",
          "text": [
            "enter the pin1234\n",
            "enter the amount5000\n"
          ]
        },
        {
          "output_type": "error",
          "ename": "TypeError",
          "evalue": "'<=' not supported between instances of 'int' and 'str'",
          "traceback": [
            "\u001b[0;31m---------------------------------------------------------------------------\u001b[0m",
            "\u001b[0;31mTypeError\u001b[0m                                 Traceback (most recent call last)",
            "\u001b[0;32m<ipython-input-22-826ea677aa70>\u001b[0m in \u001b[0;36m<cell line: 1>\u001b[0;34m()\u001b[0m\n\u001b[0;32m----> 1\u001b[0;31m \u001b[0mobj\u001b[0m\u001b[0;34m.\u001b[0m\u001b[0mwithdraw\u001b[0m\u001b[0;34m(\u001b[0m\u001b[0;34m)\u001b[0m\u001b[0;34m\u001b[0m\u001b[0;34m\u001b[0m\u001b[0m\n\u001b[0m",
            "\u001b[0;32m<ipython-input-15-62c153c3aee1>\u001b[0m in \u001b[0;36mwithdraw\u001b[0;34m(self)\u001b[0m\n\u001b[1;32m     58\u001b[0m     \u001b[0;32mif\u001b[0m \u001b[0muser_pin\u001b[0m \u001b[0;34m==\u001b[0m \u001b[0mself\u001b[0m\u001b[0;34m.\u001b[0m\u001b[0mpin\u001b[0m\u001b[0;34m:\u001b[0m\u001b[0;34m\u001b[0m\u001b[0;34m\u001b[0m\u001b[0m\n\u001b[1;32m     59\u001b[0m       \u001b[0mamount\u001b[0m \u001b[0;34m=\u001b[0m \u001b[0mint\u001b[0m\u001b[0;34m(\u001b[0m\u001b[0minput\u001b[0m\u001b[0;34m(\u001b[0m\u001b[0;34m'enter the amount'\u001b[0m\u001b[0;34m)\u001b[0m\u001b[0;34m)\u001b[0m\u001b[0;34m\u001b[0m\u001b[0;34m\u001b[0m\u001b[0m\n\u001b[0;32m---> 60\u001b[0;31m       \u001b[0;32mif\u001b[0m \u001b[0mamount\u001b[0m \u001b[0;34m<=\u001b[0m \u001b[0mself\u001b[0m\u001b[0;34m.\u001b[0m\u001b[0m__balance\u001b[0m\u001b[0;34m:\u001b[0m\u001b[0;34m\u001b[0m\u001b[0;34m\u001b[0m\u001b[0m\n\u001b[0m\u001b[1;32m     61\u001b[0m         \u001b[0mself\u001b[0m\u001b[0;34m.\u001b[0m\u001b[0m__balance\u001b[0m \u001b[0;34m=\u001b[0m \u001b[0mself\u001b[0m\u001b[0;34m.\u001b[0m\u001b[0m__balance\u001b[0m \u001b[0;34m-\u001b[0m \u001b[0mamount\u001b[0m\u001b[0;34m\u001b[0m\u001b[0;34m\u001b[0m\u001b[0m\n\u001b[1;32m     62\u001b[0m         \u001b[0mprint\u001b[0m\u001b[0;34m(\u001b[0m\u001b[0;34m'withdrawl successful.balance is'\u001b[0m\u001b[0;34m,\u001b[0m\u001b[0mself\u001b[0m\u001b[0;34m.\u001b[0m\u001b[0m__balance\u001b[0m\u001b[0;34m)\u001b[0m\u001b[0;34m\u001b[0m\u001b[0;34m\u001b[0m\u001b[0m\n",
            "\u001b[0;31mTypeError\u001b[0m: '<=' not supported between instances of 'int' and 'str'"
          ]
        }
      ]
    },
    {
      "cell_type": "markdown",
      "source": [
        "In python, nothing is truely private. Because python is made for adults."
      ],
      "metadata": {
        "id": "iIe1sXB8-yel"
      }
    },
    {
      "cell_type": "markdown",
      "source": [
        "#### Getter and Setter"
      ],
      "metadata": {
        "id": "wtHCX92DBuuk"
      }
    },
    {
      "cell_type": "markdown",
      "source": [
        "Private attribute/methods are not available outside the class but are accessible within class.\n",
        "\n",
        "To access, private attribute outside class - we use getter and setter.\n",
        "\n",
        "*   getter - to access variable from outside the class\n",
        "*   setter - to update variable from outside the class\n"
      ],
      "metadata": {
        "id": "qatYsyyN-9Y2"
      }
    },
    {
      "cell_type": "code",
      "source": [
        "class Atm:\n",
        "\n",
        "  def __init__(self):\n",
        "    print(id(self))\n",
        "    self.pin = ''\n",
        "    self.__balance = 0\n",
        "    #self.menu()\n",
        "\n",
        "  # getter method\n",
        "  def get_balance(self):\n",
        "    return self.__balance\n",
        "\n",
        "  # setter method\n",
        "  def set_balance(self,new_balance):\n",
        "    if type(new_balance) == int:\n",
        "      self.__balance = new_balance\n",
        "\n",
        "  def __menu(self):\n",
        "    user_input = input(\"\"\"\n",
        "    Hi how can I help you?\n",
        "    1. Press 1 to create pin\n",
        "    2. Press 2 to change pin\n",
        "    3. Press 3 to check balance\n",
        "    4. Press 4 to withdraw\n",
        "    5. Anything else to exit\n",
        "    \"\"\")\n",
        "\n",
        "    if user_input == '1':\n",
        "      self.create_pin()\n",
        "    elif user_input == '2':\n",
        "      self.change_pin()\n",
        "    elif user_input == '3':\n",
        "      self.check_balance()\n",
        "    elif user_input == '4':\n",
        "      self.withdraw()\n",
        "    else:\n",
        "      exit()\n",
        "\n",
        "  def create_pin(self):\n",
        "    user_pin = input('enter your pin')\n",
        "    self.pin = user_pin\n",
        "\n",
        "    user_balance = int(input('enter balance'))\n",
        "    self.__balance = user_balance\n",
        "\n",
        "    print('pin created successfully')\n",
        "\n",
        "  def change_pin(self):\n",
        "    old_pin = input('enter old pin')\n",
        "\n",
        "    if old_pin == self.pin:\n",
        "      new_pin = input('enter new pin')\n",
        "      self.pin = new_pin\n",
        "      print('pin change successful')\n",
        "    else:\n",
        "      print('nai karne de sakta re baba')\n",
        "\n",
        "  def check_balance(self):\n",
        "    user_pin = input('enter your pin')\n",
        "    if user_pin == self.pin:\n",
        "      print('your balance is ',self.__balance)\n",
        "    else:\n",
        "      print('chal nikal yahan se')\n",
        "\n",
        "  def withdraw(self):\n",
        "    user_pin = input('enter the pin')\n",
        "    if user_pin == self.pin:\n",
        "      amount = int(input('enter the amount'))\n",
        "      if amount <= self.__balance:\n",
        "        self.__balance = self.__balance - amount\n",
        "        print('withdrawl successful.balance is',self.__balance)\n",
        "      else:\n",
        "        print('abe garib')\n",
        "    else:\n",
        "      print('sale chor')"
      ],
      "metadata": {
        "id": "2t23FrvokiL3"
      },
      "execution_count": 32,
      "outputs": []
    },
    {
      "cell_type": "code",
      "source": [
        "obj = Atm()"
      ],
      "metadata": {
        "colab": {
          "base_uri": "https://localhost:8080/"
        },
        "id": "YQUXcTQWCVnr",
        "outputId": "41a3ae62-0f34-4d66-9cf6-215ee0c40264"
      },
      "execution_count": 33,
      "outputs": [
        {
          "output_type": "stream",
          "name": "stdout",
          "text": [
            "139995073692384\n"
          ]
        }
      ]
    },
    {
      "cell_type": "code",
      "source": [
        "obj.get_balance()"
      ],
      "metadata": {
        "colab": {
          "base_uri": "https://localhost:8080/"
        },
        "id": "5jg_3fHWCXC1",
        "outputId": "ca15419f-a2cd-480d-8c56-b029ab361979"
      },
      "execution_count": 25,
      "outputs": [
        {
          "output_type": "execute_result",
          "data": {
            "text/plain": [
              "0"
            ]
          },
          "metadata": {},
          "execution_count": 25
        }
      ]
    },
    {
      "cell_type": "code",
      "source": [
        "obj.set_balance(1000)\n",
        "obj.get_balance()"
      ],
      "metadata": {
        "colab": {
          "base_uri": "https://localhost:8080/"
        },
        "id": "xOQRUV-BCZhC",
        "outputId": "6c7fce87-c19b-487e-a7dc-c866f6347e5d"
      },
      "execution_count": 27,
      "outputs": [
        {
          "output_type": "execute_result",
          "data": {
            "text/plain": [
              "1000"
            ]
          },
          "metadata": {},
          "execution_count": 27
        }
      ]
    },
    {
      "cell_type": "code",
      "source": [
        "obj.set_balance('hehehe')  # before applying if condition in setter"
      ],
      "metadata": {
        "id": "bzhl95_4CieO"
      },
      "execution_count": 30,
      "outputs": []
    },
    {
      "cell_type": "code",
      "source": [
        "obj.get_balance()"
      ],
      "metadata": {
        "colab": {
          "base_uri": "https://localhost:8080/",
          "height": 35
        },
        "id": "TsS6ZkygCw1O",
        "outputId": "5ccbe1d6-c196-4352-9fd7-4fb91ffac471"
      },
      "execution_count": 31,
      "outputs": [
        {
          "output_type": "execute_result",
          "data": {
            "text/plain": [
              "'hehehe'"
            ],
            "application/vnd.google.colaboratory.intrinsic+json": {
              "type": "string"
            }
          },
          "metadata": {},
          "execution_count": 31
        }
      ]
    },
    {
      "cell_type": "code",
      "source": [
        "# after applying if condition -> balance will update when we will pass int only\n",
        "print(obj.get_balance())\n",
        "obj.set_balance('hehehe')\n",
        "print(obj.get_balance())"
      ],
      "metadata": {
        "colab": {
          "base_uri": "https://localhost:8080/"
        },
        "id": "fSccXnX5CyqY",
        "outputId": "30c0d956-ba1f-4a60-f6d8-1e8f73e4b3dc"
      },
      "execution_count": 35,
      "outputs": [
        {
          "output_type": "stream",
          "name": "stdout",
          "text": [
            "0\n",
            "0\n"
          ]
        }
      ]
    },
    {
      "cell_type": "markdown",
      "source": [
        "### Collection of objects"
      ],
      "metadata": {
        "id": "utRR5PlOKG7k"
      }
    },
    {
      "cell_type": "code",
      "source": [
        "# list of objects\n",
        "class Person:\n",
        "\n",
        "  def __init__(self,name,gender):\n",
        "    self.name = name\n",
        "    self.gender = gender\n",
        "\n",
        "p1 = Person('nitish','male')\n",
        "p2 = Person('ankit','male')\n",
        "p3 = Person('ankita','female')\n",
        "\n",
        "L = [p1,p2,p3]\n",
        "print(L)"
      ],
      "metadata": {
        "colab": {
          "base_uri": "https://localhost:8080/"
        },
        "id": "FMbI0SBoKHxP",
        "outputId": "508ecee2-abdb-4475-8a1d-f51167817618"
      },
      "execution_count": 36,
      "outputs": [
        {
          "output_type": "stream",
          "name": "stdout",
          "text": [
            "[<__main__.Person object at 0x7f5302d1aef0>, <__main__.Person object at 0x7f5302d19ba0>, <__main__.Person object at 0x7f5302d1bdc0>]\n"
          ]
        }
      ]
    },
    {
      "cell_type": "code",
      "source": [
        "for i in L:\n",
        "  print(i.name,i.gender)"
      ],
      "metadata": {
        "colab": {
          "base_uri": "https://localhost:8080/"
        },
        "id": "rXGZ_zjlKNq-",
        "outputId": "746b9467-1534-41ff-c0cb-c4e84877b022"
      },
      "execution_count": 37,
      "outputs": [
        {
          "output_type": "stream",
          "name": "stdout",
          "text": [
            "nitish male\n",
            "ankit male\n",
            "ankita female\n"
          ]
        }
      ]
    },
    {
      "cell_type": "code",
      "source": [
        "# sets of objects --> check how is it possible as object are mutable\n",
        "s = {p1,p2,p3}\n",
        "print(s)"
      ],
      "metadata": {
        "colab": {
          "base_uri": "https://localhost:8080/"
        },
        "id": "MfqGVWz5KQxD",
        "outputId": "2799f736-b9cc-403d-eb79-23f863d91dba"
      },
      "execution_count": 38,
      "outputs": [
        {
          "output_type": "stream",
          "name": "stdout",
          "text": [
            "{<__main__.Person object at 0x7f5302d19ba0>, <__main__.Person object at 0x7f5302d1bdc0>, <__main__.Person object at 0x7f5302d1aef0>}\n"
          ]
        }
      ]
    },
    {
      "cell_type": "code",
      "source": [
        "# dict of objects\n",
        "d = {'p1':p1,'p2':p2,'p3':p3}\n",
        "print(d)\n",
        "for i in d:\n",
        "  # print(i)\n",
        "  print(d[i].name)"
      ],
      "metadata": {
        "colab": {
          "base_uri": "https://localhost:8080/"
        },
        "id": "IZqxeOjTKVDh",
        "outputId": "f0d28d6c-dfab-4b9b-f4e0-cd3e2d791e57"
      },
      "execution_count": 42,
      "outputs": [
        {
          "output_type": "stream",
          "name": "stdout",
          "text": [
            "{'p1': <__main__.Person object at 0x7f5302d1aef0>, 'p2': <__main__.Person object at 0x7f5302d19ba0>, 'p3': <__main__.Person object at 0x7f5302d1bdc0>}\n",
            "nitish\n",
            "ankit\n",
            "ankita\n"
          ]
        }
      ]
    },
    {
      "cell_type": "markdown",
      "source": [
        "### Static Variables(Vs Instance variables)"
      ],
      "metadata": {
        "id": "vulvJVe8Pr9F"
      }
    },
    {
      "cell_type": "markdown",
      "source": [
        "Static variable is a class variable. Every objects have same value of static variables.\n",
        "\n",
        "Instance variable is a object variable. Every objects have different value of instance variables."
      ],
      "metadata": {
        "id": "22hiBzb1Pt5u"
      }
    },
    {
      "cell_type": "code",
      "source": [
        "# need for static vars - to have common variable for all objects like counter\n",
        "class Atm:\n",
        "\n",
        "  def __init__(self):\n",
        "    print(id(self))\n",
        "    self.pin = ''\n",
        "    self.__balance = 0\n",
        "    self.cid = 0\n",
        "    self.cid += 1"
      ],
      "metadata": {
        "id": "acDAo9KRPtWG"
      },
      "execution_count": 43,
      "outputs": []
    },
    {
      "cell_type": "code",
      "source": [
        "c1 = Atm()"
      ],
      "metadata": {
        "colab": {
          "base_uri": "https://localhost:8080/"
        },
        "id": "m1iFBq6KKcKa",
        "outputId": "b757e6c7-fc1c-441a-b011-bb7879bb324d"
      },
      "execution_count": 44,
      "outputs": [
        {
          "output_type": "stream",
          "name": "stdout",
          "text": [
            "139994506297936\n"
          ]
        }
      ]
    },
    {
      "cell_type": "code",
      "source": [
        "c2 = Atm()"
      ],
      "metadata": {
        "colab": {
          "base_uri": "https://localhost:8080/"
        },
        "id": "9LT7hDThQITL",
        "outputId": "7ce9000a-a350-4fe7-9a22-9fcf70ee82a8"
      },
      "execution_count": 45,
      "outputs": [
        {
          "output_type": "stream",
          "name": "stdout",
          "text": [
            "139994506302496\n"
          ]
        }
      ]
    },
    {
      "cell_type": "code",
      "source": [
        "c3 = Atm()"
      ],
      "metadata": {
        "colab": {
          "base_uri": "https://localhost:8080/"
        },
        "id": "w-xOACO0QJuP",
        "outputId": "b6b4e7e5-5016-4039-d857-923fae82822a"
      },
      "execution_count": 46,
      "outputs": [
        {
          "output_type": "stream",
          "name": "stdout",
          "text": [
            "139994506308736\n"
          ]
        }
      ]
    },
    {
      "cell_type": "code",
      "source": [
        "print(c1.cid,c2.cid,c3.cid)  # cid is instance variable"
      ],
      "metadata": {
        "colab": {
          "base_uri": "https://localhost:8080/"
        },
        "id": "Mete35LoQLHX",
        "outputId": "f28c1d5b-7f47-439c-d32d-0b843cb51fa5"
      },
      "execution_count": 47,
      "outputs": [
        {
          "output_type": "stream",
          "name": "stdout",
          "text": [
            "1 1 1\n"
          ]
        }
      ]
    },
    {
      "cell_type": "markdown",
      "source": [
        "Static variable is class variable, must always declare outside of all methods.\n",
        "\n",
        "To access static variable use below syntax:\n",
        "```\n",
        "classname.variablename\n",
        "```\n"
      ],
      "metadata": {
        "id": "6feeP4wmQlQx"
      }
    },
    {
      "cell_type": "code",
      "source": [
        "class Atm:\n",
        "\n",
        "  counter = 1   # static variable\n",
        "\n",
        "  def __init__(self):\n",
        "    print(id(self))\n",
        "    self.pin = ''\n",
        "    self.__balance = 0\n",
        "    self.cid = Atm.counter   # accessing static variable\n",
        "    Atm.counter += 1"
      ],
      "metadata": {
        "id": "dKL8ADyYQOrR"
      },
      "execution_count": 48,
      "outputs": []
    },
    {
      "cell_type": "code",
      "source": [
        "c1 = Atm()\n",
        "c2 = Atm()\n",
        "c3 = Atm()"
      ],
      "metadata": {
        "colab": {
          "base_uri": "https://localhost:8080/"
        },
        "id": "ht9RbMrcRBXY",
        "outputId": "8f44a056-5816-44a5-9711-3c84f45bff35"
      },
      "execution_count": 49,
      "outputs": [
        {
          "output_type": "stream",
          "name": "stdout",
          "text": [
            "139994506297552\n",
            "139994506304848\n",
            "139994506305856\n"
          ]
        }
      ]
    },
    {
      "cell_type": "code",
      "source": [
        "print(c1.cid,c2.cid,c3.cid)"
      ],
      "metadata": {
        "colab": {
          "base_uri": "https://localhost:8080/"
        },
        "id": "pgfHTx8aRF0E",
        "outputId": "fbe3bd1d-7003-4cec-b450-dad980eff203"
      },
      "execution_count": 50,
      "outputs": [
        {
          "output_type": "stream",
          "name": "stdout",
          "text": [
            "1 2 3\n"
          ]
        }
      ]
    },
    {
      "cell_type": "code",
      "source": [
        "Atm.counter"
      ],
      "metadata": {
        "colab": {
          "base_uri": "https://localhost:8080/"
        },
        "id": "XwAN0VC8RJXR",
        "outputId": "6f8245dd-7cbb-4605-c241-95e8092437c0"
      },
      "execution_count": 51,
      "outputs": [
        {
          "output_type": "execute_result",
          "data": {
            "text/plain": [
              "4"
            ]
          },
          "metadata": {},
          "execution_count": 51
        }
      ]
    },
    {
      "cell_type": "code",
      "source": [
        "Atm.counter = 'hehehe'  # updated static variable from outside the class -> to avoid accessing outside make it private"
      ],
      "metadata": {
        "id": "mcnTtGirRKp4"
      },
      "execution_count": 52,
      "outputs": []
    },
    {
      "cell_type": "code",
      "source": [
        "c4 = Atm()"
      ],
      "metadata": {
        "colab": {
          "base_uri": "https://localhost:8080/",
          "height": 245
        },
        "id": "MTSz4ymBRXXs",
        "outputId": "b0d391dc-8d85-4a0a-a6f0-70d617ff77a0"
      },
      "execution_count": 53,
      "outputs": [
        {
          "output_type": "stream",
          "name": "stdout",
          "text": [
            "139994506307056\n"
          ]
        },
        {
          "output_type": "error",
          "ename": "TypeError",
          "evalue": "can only concatenate str (not \"int\") to str",
          "traceback": [
            "\u001b[0;31m---------------------------------------------------------------------------\u001b[0m",
            "\u001b[0;31mTypeError\u001b[0m                                 Traceback (most recent call last)",
            "\u001b[0;32m<ipython-input-53-012a893ea562>\u001b[0m in \u001b[0;36m<cell line: 1>\u001b[0;34m()\u001b[0m\n\u001b[0;32m----> 1\u001b[0;31m \u001b[0mc4\u001b[0m \u001b[0;34m=\u001b[0m \u001b[0mAtm\u001b[0m\u001b[0;34m(\u001b[0m\u001b[0;34m)\u001b[0m\u001b[0;34m\u001b[0m\u001b[0;34m\u001b[0m\u001b[0m\n\u001b[0m",
            "\u001b[0;32m<ipython-input-48-e490c4e4b2d1>\u001b[0m in \u001b[0;36m__init__\u001b[0;34m(self)\u001b[0m\n\u001b[1;32m      8\u001b[0m     \u001b[0mself\u001b[0m\u001b[0;34m.\u001b[0m\u001b[0m__balance\u001b[0m \u001b[0;34m=\u001b[0m \u001b[0;36m0\u001b[0m\u001b[0;34m\u001b[0m\u001b[0;34m\u001b[0m\u001b[0m\n\u001b[1;32m      9\u001b[0m     \u001b[0mself\u001b[0m\u001b[0;34m.\u001b[0m\u001b[0mcid\u001b[0m \u001b[0;34m=\u001b[0m \u001b[0mAtm\u001b[0m\u001b[0;34m.\u001b[0m\u001b[0mcounter\u001b[0m   \u001b[0;31m# accessing static variable\u001b[0m\u001b[0;34m\u001b[0m\u001b[0;34m\u001b[0m\u001b[0m\n\u001b[0;32m---> 10\u001b[0;31m     \u001b[0mAtm\u001b[0m\u001b[0;34m.\u001b[0m\u001b[0mcounter\u001b[0m \u001b[0;34m+=\u001b[0m \u001b[0;36m1\u001b[0m\u001b[0;34m\u001b[0m\u001b[0;34m\u001b[0m\u001b[0m\n\u001b[0m",
            "\u001b[0;31mTypeError\u001b[0m: can only concatenate str (not \"int\") to str"
          ]
        }
      ]
    },
    {
      "cell_type": "code",
      "source": [
        "class Atm:\n",
        "\n",
        "  __counter = 1   # private static variable\n",
        "\n",
        "  def __init__(self):\n",
        "    print(id(self))\n",
        "    self.pin = ''\n",
        "    self.__balance = 0\n",
        "    self.cid = Atm.__counter   # accessing static variable\n",
        "    Atm.__counter += 1"
      ],
      "metadata": {
        "id": "Q75v0rrpRZBB"
      },
      "execution_count": 54,
      "outputs": []
    },
    {
      "cell_type": "code",
      "source": [
        "c1 = Atm()\n",
        "c2 = Atm()\n",
        "c3 = Atm()"
      ],
      "metadata": {
        "colab": {
          "base_uri": "https://localhost:8080/"
        },
        "id": "uIgF1JAOR2pd",
        "outputId": "694b8a91-4df6-423a-9aee-2d1a7e1b1381"
      },
      "execution_count": 55,
      "outputs": [
        {
          "output_type": "stream",
          "name": "stdout",
          "text": [
            "139994506309696\n",
            "139994506311328\n",
            "139994506311232\n"
          ]
        }
      ]
    },
    {
      "cell_type": "code",
      "source": [
        "print(c1.cid,c2.cid,c3.cid)"
      ],
      "metadata": {
        "colab": {
          "base_uri": "https://localhost:8080/"
        },
        "id": "-lmGmbvhR5Xr",
        "outputId": "1ccb59d7-a6f5-460e-c803-204f53f79492"
      },
      "execution_count": 56,
      "outputs": [
        {
          "output_type": "stream",
          "name": "stdout",
          "text": [
            "1 2 3\n"
          ]
        }
      ]
    },
    {
      "cell_type": "code",
      "source": [
        "Atm.counter   # use getter method to access it outside the class"
      ],
      "metadata": {
        "colab": {
          "base_uri": "https://localhost:8080/",
          "height": 141
        },
        "id": "w3ndHttHR6nP",
        "outputId": "a713afe2-ca57-43d0-fecc-e4ab5e56cf83"
      },
      "execution_count": 57,
      "outputs": [
        {
          "output_type": "error",
          "ename": "AttributeError",
          "evalue": "type object 'Atm' has no attribute 'counter'",
          "traceback": [
            "\u001b[0;31m---------------------------------------------------------------------------\u001b[0m",
            "\u001b[0;31mAttributeError\u001b[0m                            Traceback (most recent call last)",
            "\u001b[0;32m<ipython-input-57-bc2e44b41fb4>\u001b[0m in \u001b[0;36m<cell line: 1>\u001b[0;34m()\u001b[0m\n\u001b[0;32m----> 1\u001b[0;31m \u001b[0mAtm\u001b[0m\u001b[0;34m.\u001b[0m\u001b[0mcounter\u001b[0m\u001b[0;34m\u001b[0m\u001b[0;34m\u001b[0m\u001b[0m\n\u001b[0m",
            "\u001b[0;31mAttributeError\u001b[0m: type object 'Atm' has no attribute 'counter'"
          ]
        }
      ]
    },
    {
      "cell_type": "code",
      "source": [
        "Atm._Atm__counter"
      ],
      "metadata": {
        "colab": {
          "base_uri": "https://localhost:8080/"
        },
        "id": "ADiyT1XiR7zx",
        "outputId": "d57db934-ef3c-443b-890b-3a7d6214940a"
      },
      "execution_count": 58,
      "outputs": [
        {
          "output_type": "execute_result",
          "data": {
            "text/plain": [
              "4"
            ]
          },
          "metadata": {},
          "execution_count": 58
        }
      ]
    },
    {
      "cell_type": "markdown",
      "source": [
        "### Static methods"
      ],
      "metadata": {
        "id": "AxqjZ5qJSMxB"
      }
    },
    {
      "cell_type": "code",
      "source": [
        "class Atm:\n",
        "\n",
        "  __counter = 1   # static variable\n",
        "\n",
        "  def __init__(self):\n",
        "    print(id(self))\n",
        "    self.pin = ''\n",
        "    self.__balance = 0\n",
        "    self.cid = Atm.__counter   # accessing static variable\n",
        "    Atm.__counter += 1\n",
        "\n",
        "  # utility method - method which don't need object to access\n",
        "  @staticmethod      # static method with decorator\n",
        "  def get_counter():\n",
        "    return Atm.__counter"
      ],
      "metadata": {
        "id": "3JBLG9QiR_iU"
      },
      "execution_count": 62,
      "outputs": []
    },
    {
      "cell_type": "code",
      "source": [
        "c1 = Atm()"
      ],
      "metadata": {
        "colab": {
          "base_uri": "https://localhost:8080/"
        },
        "id": "Qq7jCyY6Sjwl",
        "outputId": "0d7d888c-d00f-4a74-c9b6-ba8a9bb1ab93"
      },
      "execution_count": 66,
      "outputs": [
        {
          "output_type": "stream",
          "name": "stdout",
          "text": [
            "139994503259728\n"
          ]
        }
      ]
    },
    {
      "cell_type": "code",
      "source": [
        "c1.get_counter()"
      ],
      "metadata": {
        "colab": {
          "base_uri": "https://localhost:8080/"
        },
        "id": "53SsjiXbSlLi",
        "outputId": "915ea54d-0341-4a71-f0a4-765a0aff45c3"
      },
      "execution_count": 67,
      "outputs": [
        {
          "output_type": "execute_result",
          "data": {
            "text/plain": [
              "3"
            ]
          },
          "metadata": {},
          "execution_count": 67
        }
      ]
    },
    {
      "cell_type": "code",
      "source": [
        "Atm.get_counter()"
      ],
      "metadata": {
        "colab": {
          "base_uri": "https://localhost:8080/"
        },
        "id": "h-FWwLvVSoH7",
        "outputId": "479c15d2-2df6-4f3b-a7c5-c33b1b9f62d5"
      },
      "execution_count": 68,
      "outputs": [
        {
          "output_type": "execute_result",
          "data": {
            "text/plain": [
              "3"
            ]
          },
          "metadata": {},
          "execution_count": 68
        }
      ]
    },
    {
      "cell_type": "code",
      "source": [
        "class Atm:\n",
        "\n",
        "  __counter = 1\n",
        "\n",
        "  def __init__(self):\n",
        "    print(id(self))\n",
        "    self.pin = ''\n",
        "    self.__balance = 0\n",
        "    self.cid = Atm.__counter\n",
        "    Atm.__counter += 1\n",
        "\n",
        "  def get_counter():   # static method without decorator\n",
        "    return Atm.__counter"
      ],
      "metadata": {
        "id": "druLXO5ES3qK"
      },
      "execution_count": 72,
      "outputs": []
    },
    {
      "cell_type": "code",
      "source": [
        "c = Atm()"
      ],
      "metadata": {
        "colab": {
          "base_uri": "https://localhost:8080/"
        },
        "id": "xrBM6EsJTcsg",
        "outputId": "279eabb7-03a1-4c3a-ada5-322c38f383b1"
      },
      "execution_count": 73,
      "outputs": [
        {
          "output_type": "stream",
          "name": "stdout",
          "text": [
            "139994503265584\n"
          ]
        }
      ]
    },
    {
      "cell_type": "code",
      "source": [
        "c.get_counter()   # static methods are not accessible by objects"
      ],
      "metadata": {
        "colab": {
          "base_uri": "https://localhost:8080/",
          "height": 141
        },
        "id": "J11eVedtTdq7",
        "outputId": "c8265665-6f28-4360-ef55-d007ad332234"
      },
      "execution_count": 74,
      "outputs": [
        {
          "output_type": "error",
          "ename": "TypeError",
          "evalue": "Atm.get_counter() takes 0 positional arguments but 1 was given",
          "traceback": [
            "\u001b[0;31m---------------------------------------------------------------------------\u001b[0m",
            "\u001b[0;31mTypeError\u001b[0m                                 Traceback (most recent call last)",
            "\u001b[0;32m<ipython-input-74-649295a0c5f7>\u001b[0m in \u001b[0;36m<cell line: 1>\u001b[0;34m()\u001b[0m\n\u001b[0;32m----> 1\u001b[0;31m \u001b[0mc\u001b[0m\u001b[0;34m.\u001b[0m\u001b[0mget_counter\u001b[0m\u001b[0;34m(\u001b[0m\u001b[0;34m)\u001b[0m\u001b[0;34m\u001b[0m\u001b[0;34m\u001b[0m\u001b[0m\n\u001b[0m",
            "\u001b[0;31mTypeError\u001b[0m: Atm.get_counter() takes 0 positional arguments but 1 was given"
          ]
        }
      ]
    },
    {
      "cell_type": "code",
      "source": [
        "Atm.get_counter()   # use class name to access static methods"
      ],
      "metadata": {
        "colab": {
          "base_uri": "https://localhost:8080/"
        },
        "id": "qDCoHj83TfI_",
        "outputId": "820a0ae6-ca87-4594-8ad0-c5f375938ead"
      },
      "execution_count": 75,
      "outputs": [
        {
          "output_type": "execute_result",
          "data": {
            "text/plain": [
              "2"
            ]
          },
          "metadata": {},
          "execution_count": 75
        }
      ]
    },
    {
      "cell_type": "markdown",
      "source": [
        "##### Points to remember about static\n",
        "\n",
        "- Static attributes are created at class level.\n",
        "- Static attributes are accessed using ClassName.\n",
        "- Static attributes are object independent. We can access them without creating instance (object) of the class in which they are defined.\n",
        "- The value stored in static attribute is shared between all instances(objects) of the class in which the static attribute is defined."
      ],
      "metadata": {
        "id": "y65CDot3UX8K"
      }
    },
    {
      "cell_type": "code",
      "source": [
        "class Lion:\n",
        "  __water_source=\"well in the circus\"\n",
        "\n",
        "  def __init__(self,name, gender):\n",
        "      self.__name=name\n",
        "      self.__gender=gender\n",
        "\n",
        "  def drinks_water(self):\n",
        "      print(self.__name,\n",
        "      \"drinks water from the\",Lion.__water_source)\n",
        "\n",
        "  @staticmethod\n",
        "  def get_water_source():\n",
        "      return Lion.__water_source\n",
        "\n",
        "simba=Lion(\"Simba\",\"Male\")\n",
        "simba.drinks_water()\n",
        "print( \"Water source of lions:\",Lion.get_water_source())"
      ],
      "metadata": {
        "colab": {
          "base_uri": "https://localhost:8080/"
        },
        "id": "itKHcuaMTs8Y",
        "outputId": "a250a93f-0232-425c-bacb-b2c89c9aafd7"
      },
      "execution_count": 76,
      "outputs": [
        {
          "output_type": "stream",
          "name": "stdout",
          "text": [
            "Simba drinks water from the well in the circus\n",
            "Water source of lions: well in the circus\n"
          ]
        }
      ]
    },
    {
      "cell_type": "code",
      "source": [
        "simba.get_water_source()"
      ],
      "metadata": {
        "colab": {
          "base_uri": "https://localhost:8080/",
          "height": 35
        },
        "id": "7lndAdsfU30u",
        "outputId": "a81e31fd-5780-4675-f394-7aeee24b14f5"
      },
      "execution_count": 77,
      "outputs": [
        {
          "output_type": "execute_result",
          "data": {
            "text/plain": [
              "'well in the circus'"
            ],
            "application/vnd.google.colaboratory.intrinsic+json": {
              "type": "string"
            }
          },
          "metadata": {},
          "execution_count": 77
        }
      ]
    },
    {
      "cell_type": "code",
      "source": [
        "simba.drinks_water()"
      ],
      "metadata": {
        "colab": {
          "base_uri": "https://localhost:8080/"
        },
        "id": "knFK5gvBU6Y2",
        "outputId": "90517041-28ad-418f-9c3c-fbc230d76ad0"
      },
      "execution_count": 78,
      "outputs": [
        {
          "output_type": "stream",
          "name": "stdout",
          "text": [
            "Simba drinks water from the well in the circus\n"
          ]
        }
      ]
    }
  ]
}