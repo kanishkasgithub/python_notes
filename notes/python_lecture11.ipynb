{
  "nbformat": 4,
  "nbformat_minor": 0,
  "metadata": {
    "colab": {
      "provenance": []
    },
    "kernelspec": {
      "name": "python3",
      "display_name": "Python 3"
    },
    "language_info": {
      "name": "python"
    }
  },
  "cells": [
    {
      "cell_type": "markdown",
      "source": [
        "Topics covered:\n",
        "*   Exception handling\n",
        "\n"
      ],
      "metadata": {
        "id": "waoGAjkLXTK8"
      }
    },
    {
      "cell_type": "markdown",
      "source": [
        "## Exception Handling"
      ],
      "metadata": {
        "id": "3Z6-sleVbFo4"
      }
    },
    {
      "cell_type": "markdown",
      "source": [
        "There are 2 stages where error may happen in a program\n",
        "\n",
        "- During compilation -> Syntax Error\n",
        "- During execution -> Exceptions"
      ],
      "metadata": {
        "id": "BQaaxK6cbI0o"
      }
    },
    {
      "cell_type": "markdown",
      "source": [
        "Compilation - process of converting high-level code to machine code."
      ],
      "metadata": {
        "id": "LHVEBGs7dGvR"
      }
    },
    {
      "cell_type": "markdown",
      "source": [
        "### Syntax Error\n",
        "\n",
        "- Something in the program is not written according to the program grammar.\n",
        "- Error is raised by the interpreter/compiler\n",
        "- You can solve it by rectifying the program"
      ],
      "metadata": {
        "id": "XzUvLSo7bSM7"
      }
    },
    {
      "cell_type": "code",
      "source": [
        "# Examples of syntax error\n",
        "print 'hello world'"
      ],
      "metadata": {
        "colab": {
          "base_uri": "https://localhost:8080/",
          "height": 106
        },
        "id": "mOfC7E9ubd73",
        "outputId": "04347488-c756-4068-939f-0c2bbaa06f2c"
      },
      "execution_count": 1,
      "outputs": [
        {
          "output_type": "error",
          "ename": "SyntaxError",
          "evalue": "Missing parentheses in call to 'print'. Did you mean print(...)? (<ipython-input-1-4655b84ba7b7>, line 2)",
          "traceback": [
            "\u001b[0;36m  File \u001b[0;32m\"<ipython-input-1-4655b84ba7b7>\"\u001b[0;36m, line \u001b[0;32m2\u001b[0m\n\u001b[0;31m    print 'hello world'\u001b[0m\n\u001b[0m    ^\u001b[0m\n\u001b[0;31mSyntaxError\u001b[0m\u001b[0;31m:\u001b[0m Missing parentheses in call to 'print'. Did you mean print(...)?\n"
          ]
        }
      ]
    },
    {
      "cell_type": "markdown",
      "source": [
        "### Other examples of syntax error\n",
        "\n",
        "- Leaving symbols like colon,brackets\n",
        "- Misspelling a keyword\n",
        "- Incorrect indentation\n",
        "- empty if/else/loops/class/functions"
      ],
      "metadata": {
        "id": "n-IJfll3blvL"
      }
    },
    {
      "cell_type": "code",
      "source": [
        "a = 5\n",
        "if a==3\n",
        "  print('hello')"
      ],
      "metadata": {
        "colab": {
          "base_uri": "https://localhost:8080/",
          "height": 106
        },
        "id": "FxTEt20Xbmt1",
        "outputId": "23cd528c-f1d6-4d8d-f3ca-438566738eb8"
      },
      "execution_count": 2,
      "outputs": [
        {
          "output_type": "error",
          "ename": "SyntaxError",
          "evalue": "expected ':' (<ipython-input-2-efc58c10458d>, line 2)",
          "traceback": [
            "\u001b[0;36m  File \u001b[0;32m\"<ipython-input-2-efc58c10458d>\"\u001b[0;36m, line \u001b[0;32m2\u001b[0m\n\u001b[0;31m    if a==3\u001b[0m\n\u001b[0m           ^\u001b[0m\n\u001b[0;31mSyntaxError\u001b[0m\u001b[0;31m:\u001b[0m expected ':'\n"
          ]
        }
      ]
    },
    {
      "cell_type": "code",
      "source": [
        "a = 5\n",
        "iff a==3:\n",
        "  print('hello')"
      ],
      "metadata": {
        "colab": {
          "base_uri": "https://localhost:8080/",
          "height": 106
        },
        "id": "SwwqLXuab4pM",
        "outputId": "64342c56-0fe4-4cf7-d15c-560e25c0c47c"
      },
      "execution_count": 3,
      "outputs": [
        {
          "output_type": "error",
          "ename": "SyntaxError",
          "evalue": "invalid syntax (<ipython-input-3-d1e6fae154d5>, line 2)",
          "traceback": [
            "\u001b[0;36m  File \u001b[0;32m\"<ipython-input-3-d1e6fae154d5>\"\u001b[0;36m, line \u001b[0;32m2\u001b[0m\n\u001b[0;31m    iff a==3:\u001b[0m\n\u001b[0m        ^\u001b[0m\n\u001b[0;31mSyntaxError\u001b[0m\u001b[0;31m:\u001b[0m invalid syntax\n"
          ]
        }
      ]
    },
    {
      "cell_type": "code",
      "source": [
        "a = 5\n",
        "if a==3:\n",
        "print('hello')"
      ],
      "metadata": {
        "colab": {
          "base_uri": "https://localhost:8080/",
          "height": 106
        },
        "id": "HoRVmpllb8Xw",
        "outputId": "2b957e34-d805-4429-ac3e-8db0ce875a62"
      },
      "execution_count": 4,
      "outputs": [
        {
          "output_type": "error",
          "ename": "IndentationError",
          "evalue": "expected an indented block after 'if' statement on line 2 (<ipython-input-4-ccc702dc036c>, line 3)",
          "traceback": [
            "\u001b[0;36m  File \u001b[0;32m\"<ipython-input-4-ccc702dc036c>\"\u001b[0;36m, line \u001b[0;32m3\u001b[0m\n\u001b[0;31m    print('hello')\u001b[0m\n\u001b[0m    ^\u001b[0m\n\u001b[0;31mIndentationError\u001b[0m\u001b[0;31m:\u001b[0m expected an indented block after 'if' statement on line 2\n"
          ]
        }
      ]
    },
    {
      "cell_type": "code",
      "source": [
        "for i in range(10):"
      ],
      "metadata": {
        "colab": {
          "base_uri": "https://localhost:8080/",
          "height": 106
        },
        "id": "FKpmVl3ahYuv",
        "outputId": "39c1e86a-0464-4f01-efa6-c029cfbee86f"
      },
      "execution_count": 12,
      "outputs": [
        {
          "output_type": "error",
          "ename": "SyntaxError",
          "evalue": "incomplete input (<ipython-input-12-e61162350cc4>, line 1)",
          "traceback": [
            "\u001b[0;36m  File \u001b[0;32m\"<ipython-input-12-e61162350cc4>\"\u001b[0;36m, line \u001b[0;32m1\u001b[0m\n\u001b[0;31m    for i in range(10):\u001b[0m\n\u001b[0m                       ^\u001b[0m\n\u001b[0;31mSyntaxError\u001b[0m\u001b[0;31m:\u001b[0m incomplete input\n"
          ]
        }
      ]
    },
    {
      "cell_type": "code",
      "source": [
        "# IndexError\n",
        "# The IndexError is thrown when trying to access an item at an invalid index.\n",
        "L = [1,2,3]\n",
        "L[100]"
      ],
      "metadata": {
        "colab": {
          "base_uri": "https://localhost:8080/",
          "height": 176
        },
        "id": "a-joskOhcB2J",
        "outputId": "287f88da-51ac-4292-e501-a06d217eb18b"
      },
      "execution_count": 5,
      "outputs": [
        {
          "output_type": "error",
          "ename": "IndexError",
          "evalue": "list index out of range",
          "traceback": [
            "\u001b[0;31m---------------------------------------------------------------------------\u001b[0m",
            "\u001b[0;31mIndexError\u001b[0m                                Traceback (most recent call last)",
            "\u001b[0;32m<ipython-input-5-c90668d2b194>\u001b[0m in \u001b[0;36m<cell line: 4>\u001b[0;34m()\u001b[0m\n\u001b[1;32m      2\u001b[0m \u001b[0;31m# The IndexError is thrown when trying to access an item at an invalid index.\u001b[0m\u001b[0;34m\u001b[0m\u001b[0;34m\u001b[0m\u001b[0m\n\u001b[1;32m      3\u001b[0m \u001b[0mL\u001b[0m \u001b[0;34m=\u001b[0m \u001b[0;34m[\u001b[0m\u001b[0;36m1\u001b[0m\u001b[0;34m,\u001b[0m\u001b[0;36m2\u001b[0m\u001b[0;34m,\u001b[0m\u001b[0;36m3\u001b[0m\u001b[0;34m]\u001b[0m\u001b[0;34m\u001b[0m\u001b[0;34m\u001b[0m\u001b[0m\n\u001b[0;32m----> 4\u001b[0;31m \u001b[0mL\u001b[0m\u001b[0;34m[\u001b[0m\u001b[0;36m100\u001b[0m\u001b[0;34m]\u001b[0m\u001b[0;34m\u001b[0m\u001b[0;34m\u001b[0m\u001b[0m\n\u001b[0m",
            "\u001b[0;31mIndexError\u001b[0m: list index out of range"
          ]
        }
      ]
    },
    {
      "cell_type": "code",
      "source": [
        "# ModuleNotFoundError\n",
        "# The ModuleNotFoundError is thrown when a module could not be found.\n",
        "import maths\n",
        "math.floor(5.3)"
      ],
      "metadata": {
        "colab": {
          "base_uri": "https://localhost:8080/",
          "height": 366
        },
        "id": "K8zxxpdGcEw5",
        "outputId": "b6d324c5-9e1c-4947-b779-52443afd9690"
      },
      "execution_count": 6,
      "outputs": [
        {
          "output_type": "error",
          "ename": "ModuleNotFoundError",
          "evalue": "No module named 'maths'",
          "traceback": [
            "\u001b[0;31m---------------------------------------------------------------------------\u001b[0m",
            "\u001b[0;31mModuleNotFoundError\u001b[0m                       Traceback (most recent call last)",
            "\u001b[0;32m<ipython-input-6-eec65c605886>\u001b[0m in \u001b[0;36m<cell line: 3>\u001b[0;34m()\u001b[0m\n\u001b[1;32m      1\u001b[0m \u001b[0;31m# ModuleNotFoundError\u001b[0m\u001b[0;34m\u001b[0m\u001b[0;34m\u001b[0m\u001b[0m\n\u001b[1;32m      2\u001b[0m \u001b[0;31m# The ModuleNotFoundError is thrown when a module could not be found.\u001b[0m\u001b[0;34m\u001b[0m\u001b[0;34m\u001b[0m\u001b[0m\n\u001b[0;32m----> 3\u001b[0;31m \u001b[0;32mimport\u001b[0m \u001b[0mmaths\u001b[0m\u001b[0;34m\u001b[0m\u001b[0;34m\u001b[0m\u001b[0m\n\u001b[0m\u001b[1;32m      4\u001b[0m \u001b[0mmath\u001b[0m\u001b[0;34m.\u001b[0m\u001b[0mfloor\u001b[0m\u001b[0;34m(\u001b[0m\u001b[0;36m5.3\u001b[0m\u001b[0;34m)\u001b[0m\u001b[0;34m\u001b[0m\u001b[0;34m\u001b[0m\u001b[0m\n",
            "\u001b[0;31mModuleNotFoundError\u001b[0m: No module named 'maths'",
            "",
            "\u001b[0;31m---------------------------------------------------------------------------\u001b[0;32m\nNOTE: If your import is failing due to a missing package, you can\nmanually install dependencies using either !pip or !apt.\n\nTo view examples of installing some common dependencies, click the\n\"Open Examples\" button below.\n\u001b[0;31m---------------------------------------------------------------------------\u001b[0m\n"
          ],
          "errorDetails": {
            "actions": [
              {
                "action": "open_url",
                "actionText": "Open Examples",
                "url": "/notebooks/snippets/importing_libraries.ipynb"
              }
            ]
          }
        }
      ]
    },
    {
      "cell_type": "code",
      "source": [
        "# KeyError\n",
        "# The KeyError is thrown when a key is not found\n",
        "d = {'name':'nitish'}\n",
        "d['age']"
      ],
      "metadata": {
        "colab": {
          "base_uri": "https://localhost:8080/",
          "height": 176
        },
        "id": "JxH7RgIVcJkd",
        "outputId": "47fa6843-0238-436e-baad-bda7f08bfecb"
      },
      "execution_count": 7,
      "outputs": [
        {
          "output_type": "error",
          "ename": "KeyError",
          "evalue": "'age'",
          "traceback": [
            "\u001b[0;31m---------------------------------------------------------------------------\u001b[0m",
            "\u001b[0;31mKeyError\u001b[0m                                  Traceback (most recent call last)",
            "\u001b[0;32m<ipython-input-7-453afa1c9765>\u001b[0m in \u001b[0;36m<cell line: 5>\u001b[0;34m()\u001b[0m\n\u001b[1;32m      3\u001b[0m \u001b[0;34m\u001b[0m\u001b[0m\n\u001b[1;32m      4\u001b[0m \u001b[0md\u001b[0m \u001b[0;34m=\u001b[0m \u001b[0;34m{\u001b[0m\u001b[0;34m'name'\u001b[0m\u001b[0;34m:\u001b[0m\u001b[0;34m'nitish'\u001b[0m\u001b[0;34m}\u001b[0m\u001b[0;34m\u001b[0m\u001b[0;34m\u001b[0m\u001b[0m\n\u001b[0;32m----> 5\u001b[0;31m \u001b[0md\u001b[0m\u001b[0;34m[\u001b[0m\u001b[0;34m'age'\u001b[0m\u001b[0;34m]\u001b[0m\u001b[0;34m\u001b[0m\u001b[0;34m\u001b[0m\u001b[0m\n\u001b[0m",
            "\u001b[0;31mKeyError\u001b[0m: 'age'"
          ]
        }
      ]
    },
    {
      "cell_type": "code",
      "source": [
        "# TypeError\n",
        "# The TypeError is thrown when an operation or function is applied to an object of an inappropriate type.\n",
        "1 + 'a'"
      ],
      "metadata": {
        "colab": {
          "base_uri": "https://localhost:8080/",
          "height": 176
        },
        "id": "QJiIZoFacNaf",
        "outputId": "5cb986ef-958c-43be-9c7a-3d87736aaebb"
      },
      "execution_count": 8,
      "outputs": [
        {
          "output_type": "error",
          "ename": "TypeError",
          "evalue": "unsupported operand type(s) for +: 'int' and 'str'",
          "traceback": [
            "\u001b[0;31m---------------------------------------------------------------------------\u001b[0m",
            "\u001b[0;31mTypeError\u001b[0m                                 Traceback (most recent call last)",
            "\u001b[0;32m<ipython-input-8-2a3eb3f5bb0a>\u001b[0m in \u001b[0;36m<cell line: 3>\u001b[0;34m()\u001b[0m\n\u001b[1;32m      1\u001b[0m \u001b[0;31m# TypeError\u001b[0m\u001b[0;34m\u001b[0m\u001b[0;34m\u001b[0m\u001b[0m\n\u001b[1;32m      2\u001b[0m \u001b[0;31m# The TypeError is thrown when an operation or function is applied to an object of an inappropriate type.\u001b[0m\u001b[0;34m\u001b[0m\u001b[0;34m\u001b[0m\u001b[0m\n\u001b[0;32m----> 3\u001b[0;31m \u001b[0;36m1\u001b[0m \u001b[0;34m+\u001b[0m \u001b[0;34m'a'\u001b[0m\u001b[0;34m\u001b[0m\u001b[0;34m\u001b[0m\u001b[0m\n\u001b[0m",
            "\u001b[0;31mTypeError\u001b[0m: unsupported operand type(s) for +: 'int' and 'str'"
          ]
        }
      ]
    },
    {
      "cell_type": "code",
      "source": [
        "# ValueError\n",
        "# The ValueError is thrown when a function's argument is of an inappropriate type.\n",
        "int('a')"
      ],
      "metadata": {
        "colab": {
          "base_uri": "https://localhost:8080/",
          "height": 176
        },
        "id": "dZ-JWcpMcR75",
        "outputId": "9e748790-1940-47be-ac75-f1e6b573a84c"
      },
      "execution_count": 9,
      "outputs": [
        {
          "output_type": "error",
          "ename": "ValueError",
          "evalue": "invalid literal for int() with base 10: 'a'",
          "traceback": [
            "\u001b[0;31m---------------------------------------------------------------------------\u001b[0m",
            "\u001b[0;31mValueError\u001b[0m                                Traceback (most recent call last)",
            "\u001b[0;32m<ipython-input-9-e419d2a084b4>\u001b[0m in \u001b[0;36m<cell line: 3>\u001b[0;34m()\u001b[0m\n\u001b[1;32m      1\u001b[0m \u001b[0;31m# ValueError\u001b[0m\u001b[0;34m\u001b[0m\u001b[0;34m\u001b[0m\u001b[0m\n\u001b[1;32m      2\u001b[0m \u001b[0;31m# The ValueError is thrown when a function's argument is of an inappropriate type.\u001b[0m\u001b[0;34m\u001b[0m\u001b[0;34m\u001b[0m\u001b[0m\n\u001b[0;32m----> 3\u001b[0;31m \u001b[0mint\u001b[0m\u001b[0;34m(\u001b[0m\u001b[0;34m'a'\u001b[0m\u001b[0;34m)\u001b[0m\u001b[0;34m\u001b[0m\u001b[0;34m\u001b[0m\u001b[0m\n\u001b[0m",
            "\u001b[0;31mValueError\u001b[0m: invalid literal for int() with base 10: 'a'"
          ]
        }
      ]
    },
    {
      "cell_type": "code",
      "source": [
        "# NameError\n",
        "# The NameError is thrown when an object could not be found.\n",
        "print(k)"
      ],
      "metadata": {
        "colab": {
          "base_uri": "https://localhost:8080/",
          "height": 176
        },
        "id": "1xiCvp5CcWKX",
        "outputId": "ce16819f-1889-4fef-d13c-558d3015c08f"
      },
      "execution_count": 10,
      "outputs": [
        {
          "output_type": "error",
          "ename": "NameError",
          "evalue": "name 'k' is not defined",
          "traceback": [
            "\u001b[0;31m---------------------------------------------------------------------------\u001b[0m",
            "\u001b[0;31mNameError\u001b[0m                                 Traceback (most recent call last)",
            "\u001b[0;32m<ipython-input-10-e3e8aaa4ec45>\u001b[0m in \u001b[0;36m<cell line: 3>\u001b[0;34m()\u001b[0m\n\u001b[1;32m      1\u001b[0m \u001b[0;31m# NameError\u001b[0m\u001b[0;34m\u001b[0m\u001b[0;34m\u001b[0m\u001b[0m\n\u001b[1;32m      2\u001b[0m \u001b[0;31m# The NameError is thrown when an object could not be found.\u001b[0m\u001b[0;34m\u001b[0m\u001b[0;34m\u001b[0m\u001b[0m\n\u001b[0;32m----> 3\u001b[0;31m \u001b[0mprint\u001b[0m\u001b[0;34m(\u001b[0m\u001b[0mk\u001b[0m\u001b[0;34m)\u001b[0m\u001b[0;34m\u001b[0m\u001b[0;34m\u001b[0m\u001b[0m\n\u001b[0m",
            "\u001b[0;31mNameError\u001b[0m: name 'k' is not defined"
          ]
        }
      ]
    },
    {
      "cell_type": "code",
      "source": [
        "# AttributeError\n",
        "# occurs when you try to access an attribute (like a variable or function) of an object that doesn't actually exist.\n",
        "L = [1,2,3]\n",
        "L.upper()"
      ],
      "metadata": {
        "colab": {
          "base_uri": "https://localhost:8080/",
          "height": 176
        },
        "id": "hEy8S4l4cZ9u",
        "outputId": "9a066577-d267-4365-a531-8464c6b33ce8"
      },
      "execution_count": 11,
      "outputs": [
        {
          "output_type": "error",
          "ename": "AttributeError",
          "evalue": "'list' object has no attribute 'upper'",
          "traceback": [
            "\u001b[0;31m---------------------------------------------------------------------------\u001b[0m",
            "\u001b[0;31mAttributeError\u001b[0m                            Traceback (most recent call last)",
            "\u001b[0;32m<ipython-input-11-dd5a29625ddc>\u001b[0m in \u001b[0;36m<cell line: 3>\u001b[0;34m()\u001b[0m\n\u001b[1;32m      1\u001b[0m \u001b[0;31m# AttributeError\u001b[0m\u001b[0;34m\u001b[0m\u001b[0;34m\u001b[0m\u001b[0m\n\u001b[1;32m      2\u001b[0m \u001b[0mL\u001b[0m \u001b[0;34m=\u001b[0m \u001b[0;34m[\u001b[0m\u001b[0;36m1\u001b[0m\u001b[0;34m,\u001b[0m\u001b[0;36m2\u001b[0m\u001b[0;34m,\u001b[0m\u001b[0;36m3\u001b[0m\u001b[0;34m]\u001b[0m\u001b[0;34m\u001b[0m\u001b[0;34m\u001b[0m\u001b[0m\n\u001b[0;32m----> 3\u001b[0;31m \u001b[0mL\u001b[0m\u001b[0;34m.\u001b[0m\u001b[0mupper\u001b[0m\u001b[0;34m(\u001b[0m\u001b[0;34m)\u001b[0m\u001b[0;34m\u001b[0m\u001b[0;34m\u001b[0m\u001b[0m\n\u001b[0m",
            "\u001b[0;31mAttributeError\u001b[0m: 'list' object has no attribute 'upper'"
          ]
        }
      ]
    },
    {
      "cell_type": "markdown",
      "source": [
        "**Stacktrace** - message we get when error occurs. It contains information about what went wrong in the code. Such as line number, function name, file name etc."
      ],
      "metadata": {
        "id": "K_zmkIidlirG"
      }
    },
    {
      "cell_type": "markdown",
      "source": [
        "### Exceptions\n",
        "\n",
        "If things go wrong during the execution of the program(runtime). It generally happens when something unforeseen has happened.\n",
        "\n",
        "- Exceptions are raised by python runtime\n",
        "- You have to tackle it on the fly\n",
        "\n",
        "#### **Examples**\n",
        "\n",
        "- Memory overflow\n",
        "- Divide by 0 -> logical error\n",
        "- Database error"
      ],
      "metadata": {
        "id": "ORfBzxXOiwau"
      }
    },
    {
      "cell_type": "markdown",
      "source": [
        "Exceptions are logical error depending on the execution of the program."
      ],
      "metadata": {
        "id": "n1p-brn6i6p9"
      }
    },
    {
      "cell_type": "markdown",
      "source": [
        "Why is it important to handle exceptions:\n",
        "*   To enhance user-experience - Stacktrace contains technical information user might get confuse, so to enhance user-experience we perform exception handling.\n",
        "*   For security - To not show curical information (technical info) to hackers, to avoid security breach.\n",
        "\n"
      ],
      "metadata": {
        "id": "ZThrWH2mmNoQ"
      }
    },
    {
      "cell_type": "code",
      "source": [
        "# how to handle exceptions -> Try except block"
      ],
      "metadata": {
        "id": "OZLkEJjWolIl"
      },
      "execution_count": null,
      "outputs": []
    },
    {
      "cell_type": "code",
      "source": [
        "# create a file\n",
        "with open('sample.txt','w') as f:\n",
        "  f.write('hello world')"
      ],
      "metadata": {
        "id": "8ZmbT0Leoo_1"
      },
      "execution_count": 13,
      "outputs": []
    },
    {
      "cell_type": "code",
      "source": [
        "with open('sample1.txt','r') as f:   # sample1.txt is not present -> to handle this use try-except block\n",
        "  print(f.read())"
      ],
      "metadata": {
        "colab": {
          "base_uri": "https://localhost:8080/",
          "height": 159
        },
        "id": "t-TJI7POowKo",
        "outputId": "1cc21668-a4e4-436e-df44-974a0cadd946"
      },
      "execution_count": 15,
      "outputs": [
        {
          "output_type": "error",
          "ename": "FileNotFoundError",
          "evalue": "[Errno 2] No such file or directory: 'sample1.txt'",
          "traceback": [
            "\u001b[0;31m---------------------------------------------------------------------------\u001b[0m",
            "\u001b[0;31mFileNotFoundError\u001b[0m                         Traceback (most recent call last)",
            "\u001b[0;32m<ipython-input-15-6bf363df0c75>\u001b[0m in \u001b[0;36m<cell line: 1>\u001b[0;34m()\u001b[0m\n\u001b[0;32m----> 1\u001b[0;31m \u001b[0;32mwith\u001b[0m \u001b[0mopen\u001b[0m\u001b[0;34m(\u001b[0m\u001b[0;34m'sample1.txt'\u001b[0m\u001b[0;34m,\u001b[0m\u001b[0;34m'r'\u001b[0m\u001b[0;34m)\u001b[0m \u001b[0;32mas\u001b[0m \u001b[0mf\u001b[0m\u001b[0;34m:\u001b[0m\u001b[0;34m\u001b[0m\u001b[0;34m\u001b[0m\u001b[0m\n\u001b[0m\u001b[1;32m      2\u001b[0m   \u001b[0mprint\u001b[0m\u001b[0;34m(\u001b[0m\u001b[0mf\u001b[0m\u001b[0;34m.\u001b[0m\u001b[0mread\u001b[0m\u001b[0;34m(\u001b[0m\u001b[0;34m)\u001b[0m\u001b[0;34m)\u001b[0m\u001b[0;34m\u001b[0m\u001b[0;34m\u001b[0m\u001b[0m\n",
            "\u001b[0;31mFileNotFoundError\u001b[0m: [Errno 2] No such file or directory: 'sample1.txt'"
          ]
        }
      ]
    },
    {
      "cell_type": "code",
      "source": [
        "# try-except block\n",
        "try:\n",
        "  with open('sample1.txt','r') as f:\n",
        "    print(f.read())\n",
        "except:\n",
        "  print('File not found')"
      ],
      "metadata": {
        "colab": {
          "base_uri": "https://localhost:8080/"
        },
        "id": "KuxvECcopDrb",
        "outputId": "29c06e5d-9428-4d6a-9434-e18db4dd70fe"
      },
      "execution_count": 16,
      "outputs": [
        {
          "output_type": "stream",
          "name": "stdout",
          "text": [
            "File not found\n"
          ]
        }
      ]
    },
    {
      "cell_type": "code",
      "source": [
        "# multiple errors\n",
        "try:\n",
        "  f = open('sample1.txt','r')\n",
        "  print(f.read())\n",
        "  print(m)\n",
        "except:\n",
        "  print('some error occured')"
      ],
      "metadata": {
        "colab": {
          "base_uri": "https://localhost:8080/"
        },
        "id": "42I2qRKTrK8N",
        "outputId": "7f6409f1-b0f3-44aa-e03f-323e7de0f779"
      },
      "execution_count": 19,
      "outputs": [
        {
          "output_type": "stream",
          "name": "stdout",
          "text": [
            "some error occured\n"
          ]
        }
      ]
    },
    {
      "cell_type": "markdown",
      "source": [
        "**Try-except block**"
      ],
      "metadata": {
        "id": "0tMsn0fxtqq1"
      }
    },
    {
      "cell_type": "code",
      "source": [
        "try:\n",
        "  f = open('sample.txt','r')\n",
        "  print(f.read())\n",
        "  print(m)\n",
        "except:\n",
        "  print('some error occured')"
      ],
      "metadata": {
        "colab": {
          "base_uri": "https://localhost:8080/"
        },
        "id": "cqAvzz-_rt4r",
        "outputId": "594a676d-f99c-4e1d-eb29-8e24f90e702d"
      },
      "execution_count": 20,
      "outputs": [
        {
          "output_type": "stream",
          "name": "stdout",
          "text": [
            "hello world\n",
            "some error occured\n"
          ]
        }
      ]
    },
    {
      "cell_type": "code",
      "source": [
        "# catching specific error -> create multiple except block for specific error\n",
        "try:\n",
        "  f = open('sample.txt','r')\n",
        "  print(f.read())\n",
        "  print(m)\n",
        "except Exception as e:\n",
        "  print(e.with_traceback)"
      ],
      "metadata": {
        "colab": {
          "base_uri": "https://localhost:8080/"
        },
        "id": "yow6eH9mryHm",
        "outputId": "26e796fb-cfee-4909-ed18-843d5f892101"
      },
      "execution_count": 21,
      "outputs": [
        {
          "output_type": "stream",
          "name": "stdout",
          "text": [
            "hello world\n",
            "<built-in method with_traceback of NameError object at 0x7ac1284634c0>\n"
          ]
        }
      ]
    },
    {
      "cell_type": "code",
      "source": [
        "try:\n",
        "  f = open('sample.txt','r')\n",
        "  print(f.read())\n",
        "  print(a)\n",
        "except NameError:\n",
        "  print('variable not defined')\n",
        "except FileNotFoundError:\n",
        "  print('file not found')\n",
        "except Exception as e:\n",
        "  print(e)"
      ],
      "metadata": {
        "colab": {
          "base_uri": "https://localhost:8080/"
        },
        "id": "S4T3fuNFsFUU",
        "outputId": "b8c46298-842c-4f2b-c6e0-418271cd0a70"
      },
      "execution_count": 28,
      "outputs": [
        {
          "output_type": "stream",
          "name": "stdout",
          "text": [
            "hello world\n",
            "variable not defined\n"
          ]
        }
      ]
    },
    {
      "cell_type": "code",
      "source": [
        "# catching specific exception\n",
        "try:\n",
        "  m=5\n",
        "  f = open('sample1.txt','r')\n",
        "  print(f.read())\n",
        "  print(m)\n",
        "  print(5/2)\n",
        "  L = [1,2,3]\n",
        "  L[100]\n",
        "except FileNotFoundError:\n",
        "  print('file not found')\n",
        "except NameError:\n",
        "  print('variable not defined')\n",
        "except ZeroDivisionError:\n",
        "  print(\"can't divide by 0\")\n",
        "except Exception as e:       # to handle generic error -> always put it in end\n",
        "  print(e)"
      ],
      "metadata": {
        "colab": {
          "base_uri": "https://localhost:8080/"
        },
        "id": "KlaD0n6Hsq-e",
        "outputId": "8cd12e91-e86d-4bff-a287-639d466a1258"
      },
      "execution_count": 31,
      "outputs": [
        {
          "output_type": "stream",
          "name": "stdout",
          "text": [
            "file not found\n"
          ]
        }
      ]
    },
    {
      "cell_type": "markdown",
      "source": [
        "Exception handling can be done for both types of errors - syntax error and exceptions."
      ],
      "metadata": {
        "id": "H0Ku9pJr6hJf"
      }
    },
    {
      "cell_type": "markdown",
      "source": [
        "**try-except-else**"
      ],
      "metadata": {
        "id": "TDCw42GL7cJn"
      }
    },
    {
      "cell_type": "code",
      "source": [
        "try:\n",
        "  f = open('sample.txt','r')\n",
        "  print(f.read())\n",
        "except FileNotFoundError:\n",
        "  print('file not found')\n",
        "except Exception:\n",
        "  print('some error')\n",
        "else:         # executes when no error occured in try block\n",
        "  print(f.read())"
      ],
      "metadata": {
        "colab": {
          "base_uri": "https://localhost:8080/"
        },
        "id": "Pi9tJdg_txeP",
        "outputId": "19770924-e9bb-4d92-a470-95d431970f1c"
      },
      "execution_count": 34,
      "outputs": [
        {
          "output_type": "stream",
          "name": "stdout",
          "text": [
            "hello world\n",
            "\n"
          ]
        }
      ]
    },
    {
      "cell_type": "markdown",
      "source": [
        "**try-except-else-finally**"
      ],
      "metadata": {
        "id": "-KtQhA4C81g0"
      }
    },
    {
      "cell_type": "code",
      "source": [
        "# finally\n",
        "try:\n",
        "  f = open('sample.txt','r')\n",
        "  print(f.read())\n",
        "except FileNotFoundError:\n",
        "  print('file not found')\n",
        "except Exception:\n",
        "  print('some error')\n",
        "else:\n",
        "  print(f.read(),end='')\n",
        "finally:    # finally block always execute\n",
        "  print('this is always executed')\n",
        "  f.close()"
      ],
      "metadata": {
        "colab": {
          "base_uri": "https://localhost:8080/"
        },
        "id": "kaYM4J6Y80qo",
        "outputId": "8b588744-4fd3-4373-ae4b-3cdab551ae7f"
      },
      "execution_count": 39,
      "outputs": [
        {
          "output_type": "stream",
          "name": "stdout",
          "text": [
            "hello world\n",
            "this is always executed\n"
          ]
        }
      ]
    },
    {
      "cell_type": "markdown",
      "source": [
        "![image.png](data:image/png;base64,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)"
      ],
      "metadata": {
        "id": "nK15dY2W-NkG"
      }
    },
    {
      "cell_type": "markdown",
      "source": [
        "#### Raise exception"
      ],
      "metadata": {
        "id": "d7S1ce8OAuNz"
      }
    },
    {
      "cell_type": "markdown",
      "source": [
        "In Python programming, exceptions are raised when errors occur at runtime.\n",
        "<br>We can also manually raise exceptions using the raise keyword.\n",
        "<br>We can optionally pass values to the exception to clarify why that exception was raised"
      ],
      "metadata": {
        "id": "x5Dw1ypaDG4k"
      }
    },
    {
      "cell_type": "code",
      "source": [
        "raise NameError()"
      ],
      "metadata": {
        "colab": {
          "base_uri": "https://localhost:8080/",
          "height": 141
        },
        "id": "WHnncNAqDXMK",
        "outputId": "1bc50ee2-93ae-404c-bc9b-588652aa2f2c"
      },
      "execution_count": 41,
      "outputs": [
        {
          "output_type": "error",
          "ename": "NameError",
          "evalue": "",
          "traceback": [
            "\u001b[0;31m---------------------------------------------------------------------------\u001b[0m",
            "\u001b[0;31mNameError\u001b[0m                                 Traceback (most recent call last)",
            "\u001b[0;32m<ipython-input-41-1d90210dd9ab>\u001b[0m in \u001b[0;36m<cell line: 1>\u001b[0;34m()\u001b[0m\n\u001b[0;32m----> 1\u001b[0;31m \u001b[0;32mraise\u001b[0m \u001b[0mNameError\u001b[0m\u001b[0;34m(\u001b[0m\u001b[0;34m)\u001b[0m\u001b[0;34m\u001b[0m\u001b[0;34m\u001b[0m\u001b[0m\n\u001b[0m",
            "\u001b[0;31mNameError\u001b[0m: "
          ]
        }
      ]
    },
    {
      "cell_type": "code",
      "source": [
        "raise NameError('variable not defined')"
      ],
      "metadata": {
        "colab": {
          "base_uri": "https://localhost:8080/",
          "height": 141
        },
        "id": "m41PxcOI-Oo0",
        "outputId": "445a1dd0-1e86-4572-8455-2464cafd0946"
      },
      "execution_count": 40,
      "outputs": [
        {
          "output_type": "error",
          "ename": "NameError",
          "evalue": "variable not defined",
          "traceback": [
            "\u001b[0;31m---------------------------------------------------------------------------\u001b[0m",
            "\u001b[0;31mNameError\u001b[0m                                 Traceback (most recent call last)",
            "\u001b[0;32m<ipython-input-40-e098bd2539b3>\u001b[0m in \u001b[0;36m<cell line: 1>\u001b[0;34m()\u001b[0m\n\u001b[0;32m----> 1\u001b[0;31m \u001b[0;32mraise\u001b[0m \u001b[0mNameError\u001b[0m\u001b[0;34m(\u001b[0m\u001b[0;34m'variable not defined'\u001b[0m\u001b[0;34m)\u001b[0m\u001b[0;34m\u001b[0m\u001b[0;34m\u001b[0m\u001b[0m\n\u001b[0m",
            "\u001b[0;31mNameError\u001b[0m: variable not defined"
          ]
        }
      ]
    },
    {
      "cell_type": "code",
      "source": [
        "raise ZeroDivisionError('Cannot divide by 0')"
      ],
      "metadata": {
        "colab": {
          "base_uri": "https://localhost:8080/",
          "height": 141
        },
        "id": "1ke5ACQEDVY2",
        "outputId": "dd311a48-68d7-4d53-f3fc-572171d716a0"
      },
      "execution_count": 42,
      "outputs": [
        {
          "output_type": "error",
          "ename": "ZeroDivisionError",
          "evalue": "Cannot divide by 0",
          "traceback": [
            "\u001b[0;31m---------------------------------------------------------------------------\u001b[0m",
            "\u001b[0;31mZeroDivisionError\u001b[0m                         Traceback (most recent call last)",
            "\u001b[0;32m<ipython-input-42-a01e9b5ffd54>\u001b[0m in \u001b[0;36m<cell line: 1>\u001b[0;34m()\u001b[0m\n\u001b[0;32m----> 1\u001b[0;31m \u001b[0;32mraise\u001b[0m \u001b[0mZeroDivisionError\u001b[0m\u001b[0;34m(\u001b[0m\u001b[0;34m'Cannot divide by 0'\u001b[0m\u001b[0;34m)\u001b[0m\u001b[0;34m\u001b[0m\u001b[0;34m\u001b[0m\u001b[0m\n\u001b[0m",
            "\u001b[0;31mZeroDivisionError\u001b[0m: Cannot divide by 0"
          ]
        }
      ]
    },
    {
      "cell_type": "code",
      "source": [
        "class Bank:\n",
        "\n",
        "  def __init__(self,balance):\n",
        "    self.balance = balance\n",
        "\n",
        "  def withdraw(self,amount):\n",
        "    if amount > self.balance:\n",
        "      raise Exception('Insufficient balance')    # throws exception -> Exception() -> creates object\n",
        "    if amount < 0:\n",
        "      raise Exception('Amount cannot be negative')\n",
        "    self.balance -= amount\n",
        "\n",
        "obj = Bank(10000)\n",
        "try:\n",
        "  obj.withdraw(-2000)\n",
        "except Exception as e:   # here, except catches the exception -> e as Exception object\n",
        "  print(e)\n",
        "else:\n",
        "  print(obj.balance)"
      ],
      "metadata": {
        "colab": {
          "base_uri": "https://localhost:8080/"
        },
        "id": "NZchJMOgDeij",
        "outputId": "23710818-e48e-4931-de10-2169934e3a20"
      },
      "execution_count": 46,
      "outputs": [
        {
          "output_type": "stream",
          "name": "stdout",
          "text": [
            "Amount cannot be negative\n"
          ]
        }
      ]
    },
    {
      "cell_type": "markdown",
      "source": [
        "### Exception hierarchy in python"
      ],
      "metadata": {
        "id": "61qMigkcODoH"
      }
    },
    {
      "cell_type": "markdown",
      "source": [
        "![image.png](data:image/png;base64,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)"
      ],
      "metadata": {
        "id": "FaZ6VIt9OLxh"
      }
    },
    {
      "cell_type": "markdown",
      "source": [
        "### Creating custom exception (exception class)"
      ],
      "metadata": {
        "id": "z2FLRR3sOccY"
      }
    },
    {
      "cell_type": "code",
      "source": [
        "class MyException(Exception):    # custom exception -> must be child of Exception class\n",
        "  def __init__(self,message):\n",
        "    print(message)\n",
        "\n",
        "class Bank:\n",
        "\n",
        "  def __init__(self,balance):\n",
        "    self.balance = balance\n",
        "\n",
        "  def withdraw(self,amount):\n",
        "    if amount > self.balance:\n",
        "      raise MyException('Insufficient balance')    # raise exception -> creating MyException class object -> so, triggers constructor of MyException class\n",
        "    if amount < 0:\n",
        "      raise MyException('Amount cannot be negative')\n",
        "    self.balance -= amount\n",
        "\n",
        "obj = Bank(10000)\n",
        "try:\n",
        "  obj.withdraw(2000)\n",
        "except MyException as e:   # here, except catches the MyException object\n",
        "  pass\n",
        "else:\n",
        "  print(obj.balance)"
      ],
      "metadata": {
        "colab": {
          "base_uri": "https://localhost:8080/"
        },
        "id": "WGoiQRRAOWXL",
        "outputId": "f2d22e12-3651-42d1-cd29-f2910839f7ab"
      },
      "execution_count": 49,
      "outputs": [
        {
          "output_type": "stream",
          "name": "stdout",
          "text": [
            "8000\n"
          ]
        }
      ]
    },
    {
      "cell_type": "code",
      "source": [
        "class SecurityError(Exception):\n",
        "\n",
        "  def __init__(self,message):\n",
        "    print(message)\n",
        "\n",
        "  def logout(self):\n",
        "    print('Logged out')\n",
        "\n",
        "class Google:\n",
        "\n",
        "  def __init__(self,name,email,password,device):\n",
        "    self.name = name\n",
        "    self.email = email\n",
        "    self.password = password\n",
        "    self.device = device\n",
        "\n",
        "  def login(self,email,password,device):\n",
        "    if device != self.device:\n",
        "      raise SecurityError('Invalid device')\n",
        "    if email == self.email and password == self.password:\n",
        "      print('Login successful!!! Welcome',end=' ')\n",
        "    else:\n",
        "      print('Invalid password')\n",
        "\n",
        "\n",
        "obj = Google('nitish','nitish@gmail.com',1234,'android')\n",
        "try:\n",
        "  obj.login('nitish@gmail.com',1234,'android')\n",
        "  # obj.login('nitish@gmail.com',1234,'ios')\n",
        "except SecurityError as e:\n",
        "  e.logout()\n",
        "else:\n",
        "  print(obj.name)\n",
        "finally:\n",
        "  print('database connection closed')"
      ],
      "metadata": {
        "colab": {
          "base_uri": "https://localhost:8080/"
        },
        "id": "C0t7LiTOR5fJ",
        "outputId": "d48f5a78-73cd-4ee0-906c-82f45e4011d0"
      },
      "execution_count": 53,
      "outputs": [
        {
          "output_type": "stream",
          "name": "stdout",
          "text": [
            "Login successful!!! Welcome nitish\n",
            "database connection closed\n"
          ]
        }
      ]
    }
  ]
}