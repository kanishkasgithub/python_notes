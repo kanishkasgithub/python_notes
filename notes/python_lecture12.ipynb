{
  "nbformat": 4,
  "nbformat_minor": 0,
  "metadata": {
    "colab": {
      "provenance": []
    },
    "kernelspec": {
      "name": "python3",
      "display_name": "Python 3"
    },
    "language_info": {
      "name": "python"
    }
  },
  "cells": [
    {
      "cell_type": "markdown",
      "source": [
        "Topics covered:\n",
        "\n",
        "*   Namespaces\n",
        "*   Decorators\n",
        "\n"
      ],
      "metadata": {
        "id": "yk4piifE6Ovr"
      }
    },
    {
      "cell_type": "markdown",
      "source": [
        "## Namespaces"
      ],
      "metadata": {
        "id": "Whn2PyqW-MFt"
      }
    },
    {
      "cell_type": "markdown",
      "source": [
        "A namespace is a space that holds names(identifiers).Programmatically speaking, namespaces are dictionary of identifiers(keys) and their objects(values)\n",
        "\n",
        "There are 4 types of namespaces:\n",
        "- Builtin Namespace\n",
        "- Global Namespace\n",
        "- Enclosing Namespace\n",
        "- Local Namespace"
      ],
      "metadata": {
        "id": "iGuq6zUH-RzF"
      }
    },
    {
      "cell_type": "markdown",
      "source": [
        "Suppose program has 2 variables:\n",
        "- a=2\n",
        "- b=3\n",
        "\n",
        "Then, namespace will be -> {a:2,b:3}"
      ],
      "metadata": {
        "id": "2VJaeECQ-e2-"
      }
    },
    {
      "cell_type": "markdown",
      "source": [
        "### Scope and LEGB Rule\n",
        "\n",
        "A scope is a textual region of a Python program where a namespace is directly accessible.\n",
        "\n",
        "**LEGB rule** (Local,Enclosing,Global,Built-in) - The interpreter searches for a name from the inside out, looking in the local, enclosing, global, and finally the built-in scope. If the interpreter doesn’t find the name in any of these locations, then Python raises a NameError exception."
      ],
      "metadata": {
        "id": "IAyrKVnx-Z00"
      }
    },
    {
      "cell_type": "markdown",
      "source": [
        "![image.png](data:image/png;base64,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)"
      ],
      "metadata": {
        "id": "EVb7bkKVAMYg"
      }
    },
    {
      "cell_type": "markdown",
      "source": [
        "**Local and Global scope**"
      ],
      "metadata": {
        "id": "SCiaeqkxM0WG"
      }
    },
    {
      "cell_type": "code",
      "execution_count": 1,
      "metadata": {
        "colab": {
          "base_uri": "https://localhost:8080/"
        },
        "id": "G5FF3mQU6LVQ",
        "outputId": "8c59451e-57a2-4c30-b318-3df52d0a551f"
      },
      "outputs": [
        {
          "output_type": "stream",
          "name": "stdout",
          "text": [
            "3\n",
            "2\n"
          ]
        }
      ],
      "source": [
        "# local and global\n",
        "a = 2    # global var\n",
        "\n",
        "def temp():\n",
        "  b = 3    # local var\n",
        "  print(b)\n",
        "\n",
        "temp()\n",
        "print(a)"
      ]
    },
    {
      "cell_type": "code",
      "source": [
        "# local and global -> same name\n",
        "a = 2\n",
        "\n",
        "def temp():\n",
        "  a = 3\n",
        "  print(a)\n",
        "\n",
        "temp()\n",
        "print(a)"
      ],
      "metadata": {
        "colab": {
          "base_uri": "https://localhost:8080/"
        },
        "id": "0joXMYPDDdAH",
        "outputId": "fba00209-fec3-4926-9983-019fe7495caa"
      },
      "execution_count": 2,
      "outputs": [
        {
          "output_type": "stream",
          "name": "stdout",
          "text": [
            "3\n",
            "2\n"
          ]
        }
      ]
    },
    {
      "cell_type": "code",
      "source": [
        "# local and global -> local does not have but global has\n",
        "a = 2\n",
        "\n",
        "def temp():\n",
        "  print(a)\n",
        "\n",
        "temp()\n",
        "print(a)"
      ],
      "metadata": {
        "colab": {
          "base_uri": "https://localhost:8080/"
        },
        "id": "6BHnpkjSDiTw",
        "outputId": "44d0c308-8dce-423e-86c7-b9fa98540fcc"
      },
      "execution_count": 3,
      "outputs": [
        {
          "output_type": "stream",
          "name": "stdout",
          "text": [
            "2\n",
            "2\n"
          ]
        }
      ]
    },
    {
      "cell_type": "code",
      "source": [
        "# local and global -> editing global\n",
        "a = 2\n",
        "\n",
        "def temp():\n",
        "  a += 1\n",
        "  print(a)\n",
        "\n",
        "temp()\n",
        "print(a)"
      ],
      "metadata": {
        "colab": {
          "base_uri": "https://localhost:8080/",
          "height": 315
        },
        "id": "sIY0qkaZFmKP",
        "outputId": "a8b919f9-19cb-464e-c3ce-9d19e134a635"
      },
      "execution_count": 4,
      "outputs": [
        {
          "output_type": "error",
          "ename": "UnboundLocalError",
          "evalue": "local variable 'a' referenced before assignment",
          "traceback": [
            "\u001b[0;31m---------------------------------------------------------------------------\u001b[0m",
            "\u001b[0;31mUnboundLocalError\u001b[0m                         Traceback (most recent call last)",
            "\u001b[0;32m<ipython-input-4-9be43c6c4f5e>\u001b[0m in \u001b[0;36m<cell line: 8>\u001b[0;34m()\u001b[0m\n\u001b[1;32m      6\u001b[0m   \u001b[0mprint\u001b[0m\u001b[0;34m(\u001b[0m\u001b[0ma\u001b[0m\u001b[0;34m)\u001b[0m\u001b[0;34m\u001b[0m\u001b[0;34m\u001b[0m\u001b[0m\n\u001b[1;32m      7\u001b[0m \u001b[0;34m\u001b[0m\u001b[0m\n\u001b[0;32m----> 8\u001b[0;31m \u001b[0mtemp\u001b[0m\u001b[0;34m(\u001b[0m\u001b[0;34m)\u001b[0m\u001b[0;34m\u001b[0m\u001b[0;34m\u001b[0m\u001b[0m\n\u001b[0m\u001b[1;32m      9\u001b[0m \u001b[0mprint\u001b[0m\u001b[0;34m(\u001b[0m\u001b[0ma\u001b[0m\u001b[0;34m)\u001b[0m\u001b[0;34m\u001b[0m\u001b[0;34m\u001b[0m\u001b[0m\n",
            "\u001b[0;32m<ipython-input-4-9be43c6c4f5e>\u001b[0m in \u001b[0;36mtemp\u001b[0;34m()\u001b[0m\n\u001b[1;32m      3\u001b[0m \u001b[0;34m\u001b[0m\u001b[0m\n\u001b[1;32m      4\u001b[0m \u001b[0;32mdef\u001b[0m \u001b[0mtemp\u001b[0m\u001b[0;34m(\u001b[0m\u001b[0;34m)\u001b[0m\u001b[0;34m:\u001b[0m\u001b[0;34m\u001b[0m\u001b[0;34m\u001b[0m\u001b[0m\n\u001b[0;32m----> 5\u001b[0;31m   \u001b[0ma\u001b[0m \u001b[0;34m+=\u001b[0m \u001b[0;36m1\u001b[0m\u001b[0;34m\u001b[0m\u001b[0;34m\u001b[0m\u001b[0m\n\u001b[0m\u001b[1;32m      6\u001b[0m   \u001b[0mprint\u001b[0m\u001b[0;34m(\u001b[0m\u001b[0ma\u001b[0m\u001b[0;34m)\u001b[0m\u001b[0;34m\u001b[0m\u001b[0;34m\u001b[0m\u001b[0m\n\u001b[1;32m      7\u001b[0m \u001b[0;34m\u001b[0m\u001b[0m\n",
            "\u001b[0;31mUnboundLocalError\u001b[0m: local variable 'a' referenced before assignment"
          ]
        }
      ]
    },
    {
      "cell_type": "markdown",
      "source": [
        "In local scope, we can view (read) global variables but can't update (write) on it directly. To update it, use global keyword. But it is not a good programming practice."
      ],
      "metadata": {
        "id": "6jjcVSysF2N2"
      }
    },
    {
      "cell_type": "code",
      "source": [
        "a = 2\n",
        "\n",
        "def temp():\n",
        "  global a\n",
        "  a += 1\n",
        "  print(a)\n",
        "\n",
        "temp()\n",
        "print(a)"
      ],
      "metadata": {
        "colab": {
          "base_uri": "https://localhost:8080/"
        },
        "id": "OtcxW3LZFvW8",
        "outputId": "81e8d8a2-df1a-4110-efcd-434eaa8a3db9"
      },
      "execution_count": 5,
      "outputs": [
        {
          "output_type": "stream",
          "name": "stdout",
          "text": [
            "3\n",
            "3\n"
          ]
        }
      ]
    },
    {
      "cell_type": "markdown",
      "source": [
        "![image.png](data:image/png;base64,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)"
      ],
      "metadata": {
        "id": "vBIp90XqGhsc"
      }
    },
    {
      "cell_type": "markdown",
      "source": [
        "![image.png](data:image/png;base64,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)"
      ],
      "metadata": {
        "id": "YvGFlfT1Gip_"
      }
    },
    {
      "cell_type": "code",
      "source": [
        "# local and global -> global created inside local\n",
        "def temp():\n",
        "  global a\n",
        "  a = 1\n",
        "  print(a)\n",
        "\n",
        "temp()\n",
        "print(a)"
      ],
      "metadata": {
        "colab": {
          "base_uri": "https://localhost:8080/"
        },
        "id": "6lRDp3dYGscR",
        "outputId": "175f9f08-5098-4596-f05c-a0c2b080906a"
      },
      "execution_count": 6,
      "outputs": [
        {
          "output_type": "stream",
          "name": "stdout",
          "text": [
            "1\n",
            "1\n"
          ]
        }
      ]
    },
    {
      "cell_type": "markdown",
      "source": [
        "![image.png](data:image/png;base64,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)"
      ],
      "metadata": {
        "id": "0ZVX9QoaHSpU"
      }
    },
    {
      "cell_type": "markdown",
      "source": [
        "We can create global variable from local scope, but it not a good programming practice."
      ],
      "metadata": {
        "id": "6T1qks_IHlKb"
      }
    },
    {
      "cell_type": "code",
      "source": [
        "# local and global -> function parameter is local\n",
        "def temp(z):\n",
        "  print(z)\n",
        "\n",
        "a = 5\n",
        "temp(a)\n",
        "print(a)\n",
        "print(z)"
      ],
      "metadata": {
        "colab": {
          "base_uri": "https://localhost:8080/",
          "height": 211
        },
        "id": "G7ThRlTqHYEH",
        "outputId": "79093156-c07f-4a7a-d241-2a20901a4da2"
      },
      "execution_count": 7,
      "outputs": [
        {
          "output_type": "stream",
          "name": "stdout",
          "text": [
            "5\n",
            "5\n"
          ]
        },
        {
          "output_type": "error",
          "ename": "NameError",
          "evalue": "name 'z' is not defined",
          "traceback": [
            "\u001b[0;31m---------------------------------------------------------------------------\u001b[0m",
            "\u001b[0;31mNameError\u001b[0m                                 Traceback (most recent call last)",
            "\u001b[0;32m<ipython-input-7-7440b8f752ea>\u001b[0m in \u001b[0;36m<cell line: 8>\u001b[0;34m()\u001b[0m\n\u001b[1;32m      6\u001b[0m \u001b[0mtemp\u001b[0m\u001b[0;34m(\u001b[0m\u001b[0ma\u001b[0m\u001b[0;34m)\u001b[0m\u001b[0;34m\u001b[0m\u001b[0;34m\u001b[0m\u001b[0m\n\u001b[1;32m      7\u001b[0m \u001b[0mprint\u001b[0m\u001b[0;34m(\u001b[0m\u001b[0ma\u001b[0m\u001b[0;34m)\u001b[0m\u001b[0;34m\u001b[0m\u001b[0;34m\u001b[0m\u001b[0m\n\u001b[0;32m----> 8\u001b[0;31m \u001b[0mprint\u001b[0m\u001b[0;34m(\u001b[0m\u001b[0mz\u001b[0m\u001b[0;34m)\u001b[0m\u001b[0;34m\u001b[0m\u001b[0;34m\u001b[0m\u001b[0m\n\u001b[0m",
            "\u001b[0;31mNameError\u001b[0m: name 'z' is not defined"
          ]
        }
      ]
    },
    {
      "cell_type": "markdown",
      "source": [
        "**Built-in scope**"
      ],
      "metadata": {
        "id": "X-fwTaqAM5M9"
      }
    },
    {
      "cell_type": "code",
      "source": [
        "# built-in scope -> all pre-defined functions and variables\n",
        "print('hello world')"
      ],
      "metadata": {
        "colab": {
          "base_uri": "https://localhost:8080/"
        },
        "id": "co-AMG4RM79J",
        "outputId": "4aeba4ea-96f1-44df-841c-3a4b19237e43"
      },
      "execution_count": 8,
      "outputs": [
        {
          "output_type": "stream",
          "name": "stdout",
          "text": [
            "hello world\n"
          ]
        }
      ]
    },
    {
      "cell_type": "code",
      "source": [
        "# how to see all the built-ins\n",
        "import builtins\n",
        "dir(builtins)"
      ],
      "metadata": {
        "colab": {
          "base_uri": "https://localhost:8080/"
        },
        "id": "jEQV461eNFaL",
        "outputId": "2ac33c40-b046-4692-d16b-73becf91d426"
      },
      "execution_count": 9,
      "outputs": [
        {
          "output_type": "execute_result",
          "data": {
            "text/plain": [
              "['ArithmeticError',\n",
              " 'AssertionError',\n",
              " 'AttributeError',\n",
              " 'BaseException',\n",
              " 'BlockingIOError',\n",
              " 'BrokenPipeError',\n",
              " 'BufferError',\n",
              " 'BytesWarning',\n",
              " 'ChildProcessError',\n",
              " 'ConnectionAbortedError',\n",
              " 'ConnectionError',\n",
              " 'ConnectionRefusedError',\n",
              " 'ConnectionResetError',\n",
              " 'DeprecationWarning',\n",
              " 'EOFError',\n",
              " 'Ellipsis',\n",
              " 'EncodingWarning',\n",
              " 'EnvironmentError',\n",
              " 'Exception',\n",
              " 'False',\n",
              " 'FileExistsError',\n",
              " 'FileNotFoundError',\n",
              " 'FloatingPointError',\n",
              " 'FutureWarning',\n",
              " 'GeneratorExit',\n",
              " 'IOError',\n",
              " 'ImportError',\n",
              " 'ImportWarning',\n",
              " 'IndentationError',\n",
              " 'IndexError',\n",
              " 'InterruptedError',\n",
              " 'IsADirectoryError',\n",
              " 'KeyError',\n",
              " 'KeyboardInterrupt',\n",
              " 'LookupError',\n",
              " 'MemoryError',\n",
              " 'ModuleNotFoundError',\n",
              " 'NameError',\n",
              " 'None',\n",
              " 'NotADirectoryError',\n",
              " 'NotImplemented',\n",
              " 'NotImplementedError',\n",
              " 'OSError',\n",
              " 'OverflowError',\n",
              " 'PendingDeprecationWarning',\n",
              " 'PermissionError',\n",
              " 'ProcessLookupError',\n",
              " 'RecursionError',\n",
              " 'ReferenceError',\n",
              " 'ResourceWarning',\n",
              " 'RuntimeError',\n",
              " 'RuntimeWarning',\n",
              " 'StopAsyncIteration',\n",
              " 'StopIteration',\n",
              " 'SyntaxError',\n",
              " 'SyntaxWarning',\n",
              " 'SystemError',\n",
              " 'SystemExit',\n",
              " 'TabError',\n",
              " 'TimeoutError',\n",
              " 'True',\n",
              " 'TypeError',\n",
              " 'UnboundLocalError',\n",
              " 'UnicodeDecodeError',\n",
              " 'UnicodeEncodeError',\n",
              " 'UnicodeError',\n",
              " 'UnicodeTranslateError',\n",
              " 'UnicodeWarning',\n",
              " 'UserWarning',\n",
              " 'ValueError',\n",
              " 'Warning',\n",
              " 'ZeroDivisionError',\n",
              " '__IPYTHON__',\n",
              " '__build_class__',\n",
              " '__debug__',\n",
              " '__doc__',\n",
              " '__import__',\n",
              " '__loader__',\n",
              " '__name__',\n",
              " '__package__',\n",
              " '__spec__',\n",
              " 'abs',\n",
              " 'aiter',\n",
              " 'all',\n",
              " 'anext',\n",
              " 'any',\n",
              " 'ascii',\n",
              " 'bin',\n",
              " 'bool',\n",
              " 'breakpoint',\n",
              " 'bytearray',\n",
              " 'bytes',\n",
              " 'callable',\n",
              " 'chr',\n",
              " 'classmethod',\n",
              " 'compile',\n",
              " 'complex',\n",
              " 'copyright',\n",
              " 'credits',\n",
              " 'delattr',\n",
              " 'dict',\n",
              " 'dir',\n",
              " 'display',\n",
              " 'divmod',\n",
              " 'enumerate',\n",
              " 'eval',\n",
              " 'exec',\n",
              " 'execfile',\n",
              " 'filter',\n",
              " 'float',\n",
              " 'format',\n",
              " 'frozenset',\n",
              " 'get_ipython',\n",
              " 'getattr',\n",
              " 'globals',\n",
              " 'hasattr',\n",
              " 'hash',\n",
              " 'help',\n",
              " 'hex',\n",
              " 'id',\n",
              " 'input',\n",
              " 'int',\n",
              " 'isinstance',\n",
              " 'issubclass',\n",
              " 'iter',\n",
              " 'len',\n",
              " 'license',\n",
              " 'list',\n",
              " 'locals',\n",
              " 'map',\n",
              " 'max',\n",
              " 'memoryview',\n",
              " 'min',\n",
              " 'next',\n",
              " 'object',\n",
              " 'oct',\n",
              " 'open',\n",
              " 'ord',\n",
              " 'pow',\n",
              " 'print',\n",
              " 'property',\n",
              " 'range',\n",
              " 'repr',\n",
              " 'reversed',\n",
              " 'round',\n",
              " 'runfile',\n",
              " 'set',\n",
              " 'setattr',\n",
              " 'slice',\n",
              " 'sorted',\n",
              " 'staticmethod',\n",
              " 'str',\n",
              " 'sum',\n",
              " 'super',\n",
              " 'tuple',\n",
              " 'type',\n",
              " 'vars',\n",
              " 'zip']"
            ]
          },
          "metadata": {},
          "execution_count": 9
        }
      ]
    },
    {
      "cell_type": "code",
      "source": [
        "# renaming built-ins\n",
        "L = [1,2,3]\n",
        "print(max(L))\n",
        "\n",
        "def max():   # overriding built-in max function\n",
        "  print('hello')\n",
        "\n",
        "print(max(L))"
      ],
      "metadata": {
        "colab": {
          "base_uri": "https://localhost:8080/",
          "height": 193
        },
        "id": "pzVmOnJGNkSW",
        "outputId": "1ab0554c-87eb-4cb9-c5bc-1e7492b26d61"
      },
      "execution_count": 10,
      "outputs": [
        {
          "output_type": "stream",
          "name": "stdout",
          "text": [
            "3\n"
          ]
        },
        {
          "output_type": "error",
          "ename": "TypeError",
          "evalue": "max() takes 0 positional arguments but 1 was given",
          "traceback": [
            "\u001b[0;31m---------------------------------------------------------------------------\u001b[0m",
            "\u001b[0;31mTypeError\u001b[0m                                 Traceback (most recent call last)",
            "\u001b[0;32m<ipython-input-10-ebd6311e5ecc>\u001b[0m in \u001b[0;36m<cell line: 8>\u001b[0;34m()\u001b[0m\n\u001b[1;32m      6\u001b[0m   \u001b[0mprint\u001b[0m\u001b[0;34m(\u001b[0m\u001b[0;34m'hello'\u001b[0m\u001b[0;34m)\u001b[0m\u001b[0;34m\u001b[0m\u001b[0;34m\u001b[0m\u001b[0m\n\u001b[1;32m      7\u001b[0m \u001b[0;34m\u001b[0m\u001b[0m\n\u001b[0;32m----> 8\u001b[0;31m \u001b[0mprint\u001b[0m\u001b[0;34m(\u001b[0m\u001b[0mmax\u001b[0m\u001b[0;34m(\u001b[0m\u001b[0mL\u001b[0m\u001b[0;34m)\u001b[0m\u001b[0;34m)\u001b[0m\u001b[0;34m\u001b[0m\u001b[0;34m\u001b[0m\u001b[0m\n\u001b[0m",
            "\u001b[0;31mTypeError\u001b[0m: max() takes 0 positional arguments but 1 was given"
          ]
        }
      ]
    },
    {
      "cell_type": "markdown",
      "source": [
        "**Enclosing scope**"
      ],
      "metadata": {
        "id": "1uyYoHWqO1GN"
      }
    },
    {
      "cell_type": "code",
      "source": [
        "# Enclosing scope - for nested functions\n",
        "def outer():\n",
        "  def inner():\n",
        "    print('inner function')\n",
        "  inner()\n",
        "  print('outer function')\n",
        "\n",
        "outer()\n",
        "print('main program')"
      ],
      "metadata": {
        "colab": {
          "base_uri": "https://localhost:8080/"
        },
        "id": "cQ6dFmlTN-lD",
        "outputId": "af10b12d-b438-40ca-a8ec-bd8d7f1f72bc"
      },
      "execution_count": 11,
      "outputs": [
        {
          "output_type": "stream",
          "name": "stdout",
          "text": [
            "inner function\n",
            "outer function\n",
            "main program\n"
          ]
        }
      ]
    },
    {
      "cell_type": "markdown",
      "source": [
        "![image.png](data:image/png;base64,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)"
      ],
      "metadata": {
        "id": "McyGCEJwQcVh"
      }
    },
    {
      "cell_type": "code",
      "source": [
        "def outer():\n",
        "  a = 2\n",
        "  def inner():\n",
        "    a = 3\n",
        "    print(a)\n",
        "  inner()\n",
        "  print('outer function')\n",
        "\n",
        "a = 1\n",
        "outer()\n",
        "print('main program')"
      ],
      "metadata": {
        "colab": {
          "base_uri": "https://localhost:8080/"
        },
        "id": "EhgduhedQSfo",
        "outputId": "155e7775-bffd-41c2-cd6b-71e5c7a6d95e"
      },
      "execution_count": 12,
      "outputs": [
        {
          "output_type": "stream",
          "name": "stdout",
          "text": [
            "3\n",
            "outer function\n",
            "main program\n"
          ]
        }
      ]
    },
    {
      "cell_type": "code",
      "source": [
        "def outer():\n",
        "  a = 2\n",
        "  def inner():\n",
        "    print(a)\n",
        "  inner()\n",
        "  print('outer function')\n",
        "\n",
        "a = 1\n",
        "outer()\n",
        "print('main program')"
      ],
      "metadata": {
        "colab": {
          "base_uri": "https://localhost:8080/"
        },
        "id": "nKzcxj3mQ_me",
        "outputId": "c45a8860-35ea-447c-aea4-5f0cc029b46d"
      },
      "execution_count": 13,
      "outputs": [
        {
          "output_type": "stream",
          "name": "stdout",
          "text": [
            "2\n",
            "outer function\n",
            "main program\n"
          ]
        }
      ]
    },
    {
      "cell_type": "code",
      "source": [
        "def outer():\n",
        "  def inner():\n",
        "    print(a)\n",
        "  inner()\n",
        "  print('outer function')\n",
        "\n",
        "a = 1\n",
        "outer()\n",
        "print('main program')"
      ],
      "metadata": {
        "colab": {
          "base_uri": "https://localhost:8080/"
        },
        "id": "fl5uuXd7RCgS",
        "outputId": "72fe89d6-3ee8-49b1-a206-2b9d315453aa"
      },
      "execution_count": 14,
      "outputs": [
        {
          "output_type": "stream",
          "name": "stdout",
          "text": [
            "1\n",
            "outer function\n",
            "main program\n"
          ]
        }
      ]
    },
    {
      "cell_type": "code",
      "source": [
        "def outer():\n",
        "  def inner():\n",
        "    print(a)\n",
        "  inner()\n",
        "  print('outer function')\n",
        "\n",
        "outer()\n",
        "print('main program')"
      ],
      "metadata": {
        "colab": {
          "base_uri": "https://localhost:8080/",
          "height": 339
        },
        "id": "twNGFjGjRGmW",
        "outputId": "5b89bf76-f0af-4deb-ee93-9ea9ee6eb444"
      },
      "execution_count": 1,
      "outputs": [
        {
          "output_type": "error",
          "ename": "NameError",
          "evalue": "name 'a' is not defined",
          "traceback": [
            "\u001b[0;31m---------------------------------------------------------------------------\u001b[0m",
            "\u001b[0;31mNameError\u001b[0m                                 Traceback (most recent call last)",
            "\u001b[0;32m<ipython-input-1-ceecd8001486>\u001b[0m in \u001b[0;36m<cell line: 7>\u001b[0;34m()\u001b[0m\n\u001b[1;32m      5\u001b[0m   \u001b[0mprint\u001b[0m\u001b[0;34m(\u001b[0m\u001b[0;34m'outer function'\u001b[0m\u001b[0;34m)\u001b[0m\u001b[0;34m\u001b[0m\u001b[0;34m\u001b[0m\u001b[0m\n\u001b[1;32m      6\u001b[0m \u001b[0;34m\u001b[0m\u001b[0m\n\u001b[0;32m----> 7\u001b[0;31m \u001b[0mouter\u001b[0m\u001b[0;34m(\u001b[0m\u001b[0;34m)\u001b[0m\u001b[0;34m\u001b[0m\u001b[0;34m\u001b[0m\u001b[0m\n\u001b[0m\u001b[1;32m      8\u001b[0m \u001b[0mprint\u001b[0m\u001b[0;34m(\u001b[0m\u001b[0;34m'main program'\u001b[0m\u001b[0;34m)\u001b[0m\u001b[0;34m\u001b[0m\u001b[0;34m\u001b[0m\u001b[0m\n",
            "\u001b[0;32m<ipython-input-1-ceecd8001486>\u001b[0m in \u001b[0;36mouter\u001b[0;34m()\u001b[0m\n\u001b[1;32m      2\u001b[0m   \u001b[0;32mdef\u001b[0m \u001b[0minner\u001b[0m\u001b[0;34m(\u001b[0m\u001b[0;34m)\u001b[0m\u001b[0;34m:\u001b[0m\u001b[0;34m\u001b[0m\u001b[0;34m\u001b[0m\u001b[0m\n\u001b[1;32m      3\u001b[0m     \u001b[0mprint\u001b[0m\u001b[0;34m(\u001b[0m\u001b[0ma\u001b[0m\u001b[0;34m)\u001b[0m\u001b[0;34m\u001b[0m\u001b[0;34m\u001b[0m\u001b[0m\n\u001b[0;32m----> 4\u001b[0;31m   \u001b[0minner\u001b[0m\u001b[0;34m(\u001b[0m\u001b[0;34m)\u001b[0m\u001b[0;34m\u001b[0m\u001b[0;34m\u001b[0m\u001b[0m\n\u001b[0m\u001b[1;32m      5\u001b[0m   \u001b[0mprint\u001b[0m\u001b[0;34m(\u001b[0m\u001b[0;34m'outer function'\u001b[0m\u001b[0;34m)\u001b[0m\u001b[0;34m\u001b[0m\u001b[0;34m\u001b[0m\u001b[0m\n\u001b[1;32m      6\u001b[0m \u001b[0;34m\u001b[0m\u001b[0m\n",
            "\u001b[0;32m<ipython-input-1-ceecd8001486>\u001b[0m in \u001b[0;36minner\u001b[0;34m()\u001b[0m\n\u001b[1;32m      1\u001b[0m \u001b[0;32mdef\u001b[0m \u001b[0mouter\u001b[0m\u001b[0;34m(\u001b[0m\u001b[0;34m)\u001b[0m\u001b[0;34m:\u001b[0m\u001b[0;34m\u001b[0m\u001b[0;34m\u001b[0m\u001b[0m\n\u001b[1;32m      2\u001b[0m   \u001b[0;32mdef\u001b[0m \u001b[0minner\u001b[0m\u001b[0;34m(\u001b[0m\u001b[0;34m)\u001b[0m\u001b[0;34m:\u001b[0m\u001b[0;34m\u001b[0m\u001b[0;34m\u001b[0m\u001b[0m\n\u001b[0;32m----> 3\u001b[0;31m     \u001b[0mprint\u001b[0m\u001b[0;34m(\u001b[0m\u001b[0ma\u001b[0m\u001b[0;34m)\u001b[0m\u001b[0;34m\u001b[0m\u001b[0;34m\u001b[0m\u001b[0m\n\u001b[0m\u001b[1;32m      4\u001b[0m   \u001b[0minner\u001b[0m\u001b[0;34m(\u001b[0m\u001b[0;34m)\u001b[0m\u001b[0;34m\u001b[0m\u001b[0;34m\u001b[0m\u001b[0m\n\u001b[1;32m      5\u001b[0m   \u001b[0mprint\u001b[0m\u001b[0;34m(\u001b[0m\u001b[0;34m'outer function'\u001b[0m\u001b[0;34m)\u001b[0m\u001b[0;34m\u001b[0m\u001b[0;34m\u001b[0m\u001b[0m\n",
            "\u001b[0;31mNameError\u001b[0m: name 'a' is not defined"
          ]
        }
      ]
    },
    {
      "cell_type": "code",
      "source": [
        "def outer():\n",
        "  a = 1\n",
        "  def inner():\n",
        "    a += 1\n",
        "    print('inner',a)\n",
        "  inner()\n",
        "  print('outer',a)\n",
        "\n",
        "outer()\n",
        "print('main program')"
      ],
      "metadata": {
        "colab": {
          "base_uri": "https://localhost:8080/",
          "height": 339
        },
        "id": "obV9ljoxRwzO",
        "outputId": "a51c64a1-1233-436b-e316-4594da689c24"
      },
      "execution_count": 19,
      "outputs": [
        {
          "output_type": "error",
          "ename": "UnboundLocalError",
          "evalue": "local variable 'a' referenced before assignment",
          "traceback": [
            "\u001b[0;31m---------------------------------------------------------------------------\u001b[0m",
            "\u001b[0;31mUnboundLocalError\u001b[0m                         Traceback (most recent call last)",
            "\u001b[0;32m<ipython-input-19-b2faef6263cf>\u001b[0m in \u001b[0;36m<cell line: 10>\u001b[0;34m()\u001b[0m\n\u001b[1;32m      8\u001b[0m   \u001b[0mprint\u001b[0m\u001b[0;34m(\u001b[0m\u001b[0;34m'outer'\u001b[0m\u001b[0;34m,\u001b[0m\u001b[0ma\u001b[0m\u001b[0;34m)\u001b[0m\u001b[0;34m\u001b[0m\u001b[0;34m\u001b[0m\u001b[0m\n\u001b[1;32m      9\u001b[0m \u001b[0;34m\u001b[0m\u001b[0m\n\u001b[0;32m---> 10\u001b[0;31m \u001b[0mouter\u001b[0m\u001b[0;34m(\u001b[0m\u001b[0;34m)\u001b[0m\u001b[0;34m\u001b[0m\u001b[0;34m\u001b[0m\u001b[0m\n\u001b[0m\u001b[1;32m     11\u001b[0m \u001b[0mprint\u001b[0m\u001b[0;34m(\u001b[0m\u001b[0;34m'main program'\u001b[0m\u001b[0;34m)\u001b[0m\u001b[0;34m\u001b[0m\u001b[0;34m\u001b[0m\u001b[0m\n",
            "\u001b[0;32m<ipython-input-19-b2faef6263cf>\u001b[0m in \u001b[0;36mouter\u001b[0;34m()\u001b[0m\n\u001b[1;32m      5\u001b[0m     \u001b[0ma\u001b[0m \u001b[0;34m+=\u001b[0m \u001b[0;36m1\u001b[0m\u001b[0;34m\u001b[0m\u001b[0;34m\u001b[0m\u001b[0m\n\u001b[1;32m      6\u001b[0m     \u001b[0mprint\u001b[0m\u001b[0;34m(\u001b[0m\u001b[0;34m'inner'\u001b[0m\u001b[0;34m,\u001b[0m\u001b[0ma\u001b[0m\u001b[0;34m)\u001b[0m\u001b[0;34m\u001b[0m\u001b[0;34m\u001b[0m\u001b[0m\n\u001b[0;32m----> 7\u001b[0;31m   \u001b[0minner\u001b[0m\u001b[0;34m(\u001b[0m\u001b[0;34m)\u001b[0m\u001b[0;34m\u001b[0m\u001b[0;34m\u001b[0m\u001b[0m\n\u001b[0m\u001b[1;32m      8\u001b[0m   \u001b[0mprint\u001b[0m\u001b[0;34m(\u001b[0m\u001b[0;34m'outer'\u001b[0m\u001b[0;34m,\u001b[0m\u001b[0ma\u001b[0m\u001b[0;34m)\u001b[0m\u001b[0;34m\u001b[0m\u001b[0;34m\u001b[0m\u001b[0m\n\u001b[1;32m      9\u001b[0m \u001b[0;34m\u001b[0m\u001b[0m\n",
            "\u001b[0;32m<ipython-input-19-b2faef6263cf>\u001b[0m in \u001b[0;36minner\u001b[0;34m()\u001b[0m\n\u001b[1;32m      3\u001b[0m   \u001b[0ma\u001b[0m \u001b[0;34m=\u001b[0m \u001b[0;36m1\u001b[0m\u001b[0;34m\u001b[0m\u001b[0;34m\u001b[0m\u001b[0m\n\u001b[1;32m      4\u001b[0m   \u001b[0;32mdef\u001b[0m \u001b[0minner\u001b[0m\u001b[0;34m(\u001b[0m\u001b[0;34m)\u001b[0m\u001b[0;34m:\u001b[0m\u001b[0;34m\u001b[0m\u001b[0;34m\u001b[0m\u001b[0m\n\u001b[0;32m----> 5\u001b[0;31m     \u001b[0ma\u001b[0m \u001b[0;34m+=\u001b[0m \u001b[0;36m1\u001b[0m\u001b[0;34m\u001b[0m\u001b[0;34m\u001b[0m\u001b[0m\n\u001b[0m\u001b[1;32m      6\u001b[0m     \u001b[0mprint\u001b[0m\u001b[0;34m(\u001b[0m\u001b[0;34m'inner'\u001b[0m\u001b[0;34m,\u001b[0m\u001b[0ma\u001b[0m\u001b[0;34m)\u001b[0m\u001b[0;34m\u001b[0m\u001b[0;34m\u001b[0m\u001b[0m\n\u001b[1;32m      7\u001b[0m   \u001b[0minner\u001b[0m\u001b[0;34m(\u001b[0m\u001b[0;34m)\u001b[0m\u001b[0;34m\u001b[0m\u001b[0;34m\u001b[0m\u001b[0m\n",
            "\u001b[0;31mUnboundLocalError\u001b[0m: local variable 'a' referenced before assignment"
          ]
        }
      ]
    },
    {
      "cell_type": "markdown",
      "source": [
        "In local scope, we can view (read) enclosing variables but can't update (write) on it directly. To update it, use nonlocal keyword. But it is not a good programming practice."
      ],
      "metadata": {
        "id": "AKa7TJVZTAOq"
      }
    },
    {
      "cell_type": "code",
      "source": [
        "# nonlocal keyword\n",
        "def outer():\n",
        "  a = 1\n",
        "  def inner():\n",
        "    nonlocal a\n",
        "    a += 1\n",
        "    print('inner',a)\n",
        "  inner()\n",
        "  print('outer',a)\n",
        "\n",
        "outer()\n",
        "print('main program')"
      ],
      "metadata": {
        "colab": {
          "base_uri": "https://localhost:8080/"
        },
        "id": "bISkvAUISoXS",
        "outputId": "3d61b6d8-4b9f-4e11-dec7-23516ee1934a"
      },
      "execution_count": 20,
      "outputs": [
        {
          "output_type": "stream",
          "name": "stdout",
          "text": [
            "inner 2\n",
            "outer 2\n",
            "main program\n"
          ]
        }
      ]
    },
    {
      "cell_type": "markdown",
      "source": [
        "## Decorators"
      ],
      "metadata": {
        "id": "kHYo7wOvTjbZ"
      }
    },
    {
      "cell_type": "markdown",
      "source": [
        "A decorator in python is a function that receives another function as input and adds some functionality(decoration) to it and returns it.\n",
        "\n",
        "This can happen only because python functions are 1st class citizens.\n",
        "\n",
        "There are 2 types of decorators available in python\n",
        "- `Built in decorators` like `@staticmethod`, `@classmethod`, `@abstractmethod` and `@property` etc\n",
        "- `User defined decorators` that we programmers can create according to our needs"
      ],
      "metadata": {
        "id": "HN9vFW9urIZ7"
      }
    },
    {
      "cell_type": "code",
      "source": [
        "# Python are 1st class function\n",
        "def function():\n",
        "  print('hello')\n",
        "\n",
        "a = function\n",
        "a()"
      ],
      "metadata": {
        "colab": {
          "base_uri": "https://localhost:8080/"
        },
        "id": "eRFpgxe3rG0O",
        "outputId": "67640e59-6293-4910-8e21-fcc2e789f44d"
      },
      "execution_count": 2,
      "outputs": [
        {
          "output_type": "stream",
          "name": "stdout",
          "text": [
            "hello\n"
          ]
        }
      ]
    },
    {
      "cell_type": "code",
      "source": [
        "def function():\n",
        "  print('hello')\n",
        "\n",
        "del function\n",
        "function()"
      ],
      "metadata": {
        "colab": {
          "base_uri": "https://localhost:8080/",
          "height": 176
        },
        "id": "tM_we0sRrf6g",
        "outputId": "5fa532df-5737-4fa8-c16e-96205e000039"
      },
      "execution_count": 3,
      "outputs": [
        {
          "output_type": "error",
          "ename": "NameError",
          "evalue": "name 'function' is not defined",
          "traceback": [
            "\u001b[0;31m---------------------------------------------------------------------------\u001b[0m",
            "\u001b[0;31mNameError\u001b[0m                                 Traceback (most recent call last)",
            "\u001b[0;32m<ipython-input-3-3b1297ba083d>\u001b[0m in \u001b[0;36m<cell line: 5>\u001b[0;34m()\u001b[0m\n\u001b[1;32m      3\u001b[0m \u001b[0;34m\u001b[0m\u001b[0m\n\u001b[1;32m      4\u001b[0m \u001b[0;32mdel\u001b[0m \u001b[0mfunction\u001b[0m\u001b[0;34m\u001b[0m\u001b[0;34m\u001b[0m\u001b[0m\n\u001b[0;32m----> 5\u001b[0;31m \u001b[0mfunction\u001b[0m\u001b[0;34m(\u001b[0m\u001b[0;34m)\u001b[0m\u001b[0;34m\u001b[0m\u001b[0;34m\u001b[0m\u001b[0m\n\u001b[0m",
            "\u001b[0;31mNameError\u001b[0m: name 'function' is not defined"
          ]
        }
      ]
    },
    {
      "cell_type": "code",
      "source": [
        "def modify(func,num):\n",
        "  return func(num)\n",
        "\n",
        "def square(num):\n",
        "  return num**2\n",
        "\n",
        "modify(square,8)"
      ],
      "metadata": {
        "colab": {
          "base_uri": "https://localhost:8080/"
        },
        "id": "zm1E1mZprmdJ",
        "outputId": "060aaab8-bdf3-4999-9083-36ba0f698367"
      },
      "execution_count": 5,
      "outputs": [
        {
          "output_type": "execute_result",
          "data": {
            "text/plain": [
              "64"
            ]
          },
          "metadata": {},
          "execution_count": 5
        }
      ]
    },
    {
      "cell_type": "code",
      "source": [
        "# decorator example\n",
        "def my_decorator(func):\n",
        "  def wrapper():\n",
        "    print('*'*50)\n",
        "    func()\n",
        "    print('*'*50)\n",
        "  return wrapper   # wrapper function will return\n",
        "\n",
        "def hello():\n",
        "  print('hello')\n",
        "\n",
        "a = my_decorator(hello)  # 'a' will get wrapper function\n",
        "a()"
      ],
      "metadata": {
        "colab": {
          "base_uri": "https://localhost:8080/"
        },
        "id": "PuSHCfLirxEc",
        "outputId": "e11bcec4-3551-4eaa-87d5-5e9c5a5c55cf"
      },
      "execution_count": 7,
      "outputs": [
        {
          "output_type": "stream",
          "name": "stdout",
          "text": [
            "**************************************************\n",
            "hello\n",
            "**************************************************\n"
          ]
        }
      ]
    },
    {
      "cell_type": "markdown",
      "source": [
        "![image.png](data:image/png;base64,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)"
      ],
      "metadata": {
        "id": "EFn0DrPJwZGV"
      }
    },
    {
      "cell_type": "code",
      "source": [
        "def outer():\n",
        "    a = 5\n",
        "    def inner():\n",
        "        print(a)\n",
        "    return inner\n",
        "\n",
        "b = outer()\n",
        "b()"
      ],
      "metadata": {
        "colab": {
          "base_uri": "https://localhost:8080/"
        },
        "id": "k7UMqzbiwZ_x",
        "outputId": "50369404-5102-412a-8da2-661509992855"
      },
      "execution_count": 8,
      "outputs": [
        {
          "output_type": "stream",
          "name": "stdout",
          "text": [
            "5\n"
          ]
        }
      ]
    },
    {
      "cell_type": "markdown",
      "source": [
        "![image.png](data:image/png;base64,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)"
      ],
      "metadata": {
        "id": "naM3IMOjyCi2"
      }
    },
    {
      "cell_type": "markdown",
      "source": [
        "How this works -> It is based on **Closure**.\n",
        "\n",
        "**Closures in Python**:\n",
        "\n",
        "A closure in Python occurs when a nested function captures the local variables from its enclosing scope. This allows the nested function to access these variables even after the outer function has finished executing.\n",
        "\n",
        "Closures are created when:\n",
        "\n",
        "*   There is a nested function.\n",
        "*   The nested function references a value in its enclosing scope.\n",
        "*   The enclosing function returns the nested function.\n"
      ],
      "metadata": {
        "id": "roz-Y3EPyfj1"
      }
    },
    {
      "cell_type": "code",
      "source": [
        "# closure example code\n",
        "def outer_function(msg):\n",
        "    message = msg\n",
        "\n",
        "    def inner_function():\n",
        "        print(message)\n",
        "\n",
        "    return inner_function\n",
        "\n",
        "closure = outer_function(\"Hello, World!\")\n",
        "closure()"
      ],
      "metadata": {
        "colab": {
          "base_uri": "https://localhost:8080/"
        },
        "id": "Q-pbrLzMyDdO",
        "outputId": "19c36d6c-9f2c-4d56-adad-159d44b3ca21"
      },
      "execution_count": 11,
      "outputs": [
        {
          "output_type": "stream",
          "name": "stdout",
          "text": [
            "Hello, World!\n"
          ]
        }
      ]
    },
    {
      "cell_type": "code",
      "source": [
        "#  better syntax\n",
        "def my_decorator(func):\n",
        "  def wrapper():\n",
        "    print('*'*50)\n",
        "    func()\n",
        "    print('*'*50)\n",
        "  return wrapper\n",
        "\n",
        "@my_decorator\n",
        "def hello():\n",
        "  print('hello')\n",
        "\n",
        "hello()"
      ],
      "metadata": {
        "colab": {
          "base_uri": "https://localhost:8080/"
        },
        "id": "2joN51Xl09B8",
        "outputId": "9e8f8051-1e63-4a87-b363-0a88a339df98"
      },
      "execution_count": 12,
      "outputs": [
        {
          "output_type": "stream",
          "name": "stdout",
          "text": [
            "**************************************************\n",
            "hello\n",
            "**************************************************\n"
          ]
        }
      ]
    },
    {
      "cell_type": "code",
      "source": [
        "# decorator to find execution time of function\n",
        "import time\n",
        "def timer(func):\n",
        "  def wrapper():\n",
        "    start = time.time()\n",
        "    func()\n",
        "    print('Time taken by',func.__name__,time.time()-start,'secs')\n",
        "  return wrapper\n",
        "\n",
        "@timer\n",
        "def hello():\n",
        "  print('hello world')\n",
        "  time.sleep(2)\n",
        "\n",
        "@timer\n",
        "def display():\n",
        "  print('inside display function')\n",
        "\n",
        "hello()\n",
        "display()"
      ],
      "metadata": {
        "colab": {
          "base_uri": "https://localhost:8080/"
        },
        "id": "fHjaHZxS1FIT",
        "outputId": "025c9ed0-c9fa-4c31-f6d3-3927364bc128"
      },
      "execution_count": 15,
      "outputs": [
        {
          "output_type": "stream",
          "name": "stdout",
          "text": [
            "hello world\n",
            "Time taken by hello 2.002200126647949 secs\n",
            "inside display function\n",
            "Time taken by display 0.00016355514526367188 secs\n"
          ]
        }
      ]
    },
    {
      "cell_type": "code",
      "source": [
        "@timer\n",
        "def square(num):\n",
        "  print(num**2)\n",
        "\n",
        "square(3)\n",
        "\n",
        "# above timer decorator works only for zero argument function"
      ],
      "metadata": {
        "colab": {
          "base_uri": "https://localhost:8080/",
          "height": 176
        },
        "id": "ZTjhmAOx_rvk",
        "outputId": "547995f1-b7eb-434e-e742-ab2d02d5e49d"
      },
      "execution_count": 17,
      "outputs": [
        {
          "output_type": "error",
          "ename": "TypeError",
          "evalue": "timer.<locals>.wrapper() takes 0 positional arguments but 1 was given",
          "traceback": [
            "\u001b[0;31m---------------------------------------------------------------------------\u001b[0m",
            "\u001b[0;31mTypeError\u001b[0m                                 Traceback (most recent call last)",
            "\u001b[0;32m<ipython-input-17-a1daccf7180a>\u001b[0m in \u001b[0;36m<cell line: 5>\u001b[0;34m()\u001b[0m\n\u001b[1;32m      3\u001b[0m   \u001b[0mprint\u001b[0m\u001b[0;34m(\u001b[0m\u001b[0mnum\u001b[0m\u001b[0;34m**\u001b[0m\u001b[0;36m2\u001b[0m\u001b[0;34m)\u001b[0m\u001b[0;34m\u001b[0m\u001b[0;34m\u001b[0m\u001b[0m\n\u001b[1;32m      4\u001b[0m \u001b[0;34m\u001b[0m\u001b[0m\n\u001b[0;32m----> 5\u001b[0;31m \u001b[0msquare\u001b[0m\u001b[0;34m(\u001b[0m\u001b[0;36m3\u001b[0m\u001b[0;34m)\u001b[0m\u001b[0;34m\u001b[0m\u001b[0;34m\u001b[0m\u001b[0m\n\u001b[0m",
            "\u001b[0;31mTypeError\u001b[0m: timer.<locals>.wrapper() takes 0 positional arguments but 1 was given"
          ]
        }
      ]
    },
    {
      "cell_type": "code",
      "source": [
        "# decorator to find execution time of function\n",
        "import time\n",
        "def timer(func):\n",
        "  def wrapper(*args):  # passing *args in wrapper\n",
        "    start = time.time()\n",
        "    func(*args)    # passing *args\n",
        "    print('Time taken by',func.__name__,time.time()-start,'secs')\n",
        "  return wrapper\n",
        "\n",
        "@timer\n",
        "def hello():\n",
        "  print('hello world')\n",
        "  time.sleep(2)\n",
        "\n",
        "@timer\n",
        "def square(num):\n",
        "  print(num**2)\n",
        "\n",
        "@timer\n",
        "def power(a,b):\n",
        "  print(a**b)\n",
        "\n",
        "hello()\n",
        "square(5)\n",
        "power(4,3)"
      ],
      "metadata": {
        "colab": {
          "base_uri": "https://localhost:8080/"
        },
        "id": "wbOacpJOBS9K",
        "outputId": "55feed69-c61d-4f32-855b-db61ef15770c"
      },
      "execution_count": 20,
      "outputs": [
        {
          "output_type": "stream",
          "name": "stdout",
          "text": [
            "hello world\n",
            "Time taken by hello 2.002798080444336 secs\n",
            "25\n",
            "Time taken by square 0.0004391670227050781 secs\n",
            "64\n",
            "Time taken by power 2.1696090698242188e-05 secs\n"
          ]
        }
      ]
    },
    {
      "cell_type": "markdown",
      "source": [
        "![image.png](data:image/png;base64,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)"
      ],
      "metadata": {
        "id": "AcoMEJu3EiCE"
      }
    },
    {
      "cell_type": "code",
      "source": [
        "def square(num):\n",
        "  print(num**2)"
      ],
      "metadata": {
        "id": "lpf-rIJLEi4I"
      },
      "execution_count": 21,
      "outputs": []
    },
    {
      "cell_type": "code",
      "source": [
        "square(2)"
      ],
      "metadata": {
        "colab": {
          "base_uri": "https://localhost:8080/"
        },
        "id": "0IK6eh9QFPfl",
        "outputId": "9b66e0e9-9d8e-4761-de22-c937ea7f1575"
      },
      "execution_count": 22,
      "outputs": [
        {
          "output_type": "stream",
          "name": "stdout",
          "text": [
            "4\n"
          ]
        }
      ]
    },
    {
      "cell_type": "code",
      "source": [
        "square('hello')"
      ],
      "metadata": {
        "colab": {
          "base_uri": "https://localhost:8080/",
          "height": 211
        },
        "id": "wgIugrhPFRu6",
        "outputId": "43fa2db1-4d25-4477-a5ea-81ef2af95715"
      },
      "execution_count": 23,
      "outputs": [
        {
          "output_type": "error",
          "ename": "TypeError",
          "evalue": "unsupported operand type(s) for ** or pow(): 'str' and 'int'",
          "traceback": [
            "\u001b[0;31m---------------------------------------------------------------------------\u001b[0m",
            "\u001b[0;31mTypeError\u001b[0m                                 Traceback (most recent call last)",
            "\u001b[0;32m<ipython-input-23-0bae62f0f508>\u001b[0m in \u001b[0;36m<cell line: 1>\u001b[0;34m()\u001b[0m\n\u001b[0;32m----> 1\u001b[0;31m \u001b[0msquare\u001b[0m\u001b[0;34m(\u001b[0m\u001b[0;34m'hello'\u001b[0m\u001b[0;34m)\u001b[0m\u001b[0;34m\u001b[0m\u001b[0;34m\u001b[0m\u001b[0m\n\u001b[0m",
            "\u001b[0;32m<ipython-input-21-a301adddde74>\u001b[0m in \u001b[0;36msquare\u001b[0;34m(num)\u001b[0m\n\u001b[1;32m      1\u001b[0m \u001b[0;32mdef\u001b[0m \u001b[0msquare\u001b[0m\u001b[0;34m(\u001b[0m\u001b[0mnum\u001b[0m\u001b[0;34m)\u001b[0m\u001b[0;34m:\u001b[0m\u001b[0;34m\u001b[0m\u001b[0;34m\u001b[0m\u001b[0m\n\u001b[0;32m----> 2\u001b[0;31m   \u001b[0mprint\u001b[0m\u001b[0;34m(\u001b[0m\u001b[0mnum\u001b[0m\u001b[0;34m**\u001b[0m\u001b[0;36m2\u001b[0m\u001b[0;34m)\u001b[0m\u001b[0;34m\u001b[0m\u001b[0;34m\u001b[0m\u001b[0m\n\u001b[0m",
            "\u001b[0;31mTypeError\u001b[0m: unsupported operand type(s) for ** or pow(): 'str' and 'int'"
          ]
        }
      ]
    },
    {
      "cell_type": "code",
      "source": [
        "# decorator to check if input given is valid or not\n",
        "def check_datatype(data_type):\n",
        "  def outer_wrapper(func):\n",
        "    def inner_wrapper(*args):\n",
        "      if type(*args) == data_type:\n",
        "        func(*args)\n",
        "      else:\n",
        "        raise TypeError('Invalid datatype')\n",
        "    return inner_wrapper\n",
        "  return outer_wrapper\n",
        "\n",
        "@check_datatype(int)\n",
        "def square(num):\n",
        "  print(num**2)\n",
        "\n",
        "@check_datatype(str)\n",
        "def hello(name):\n",
        "  print('hello',name)\n",
        "\n",
        "square(5)\n",
        "hello('nitish')"
      ],
      "metadata": {
        "colab": {
          "base_uri": "https://localhost:8080/"
        },
        "id": "URmpScxwFUE9",
        "outputId": "2f40e090-5d3c-4839-b573-7cb3d2794fc4"
      },
      "execution_count": 30,
      "outputs": [
        {
          "output_type": "stream",
          "name": "stdout",
          "text": [
            "25\n",
            "hello nitish\n"
          ]
        }
      ]
    },
    {
      "cell_type": "code",
      "source": [
        "square('machine')"
      ],
      "metadata": {
        "colab": {
          "base_uri": "https://localhost:8080/",
          "height": 263
        },
        "id": "-vugvt_bGvGB",
        "outputId": "a73d3be4-52e3-45bc-c129-a0159e7d908a"
      },
      "execution_count": 31,
      "outputs": [
        {
          "output_type": "error",
          "ename": "TypeError",
          "evalue": "Invalid datatype",
          "traceback": [
            "\u001b[0;31m---------------------------------------------------------------------------\u001b[0m",
            "\u001b[0;31mTypeError\u001b[0m                                 Traceback (most recent call last)",
            "\u001b[0;32m<ipython-input-31-50542f556e0a>\u001b[0m in \u001b[0;36m<cell line: 1>\u001b[0;34m()\u001b[0m\n\u001b[0;32m----> 1\u001b[0;31m \u001b[0msquare\u001b[0m\u001b[0;34m(\u001b[0m\u001b[0;34m'machine'\u001b[0m\u001b[0;34m)\u001b[0m\u001b[0;34m\u001b[0m\u001b[0;34m\u001b[0m\u001b[0m\n\u001b[0m",
            "\u001b[0;32m<ipython-input-30-36e377dc6587>\u001b[0m in \u001b[0;36minner_wrapper\u001b[0;34m(*args)\u001b[0m\n\u001b[1;32m      6\u001b[0m         \u001b[0mfunc\u001b[0m\u001b[0;34m(\u001b[0m\u001b[0;34m*\u001b[0m\u001b[0margs\u001b[0m\u001b[0;34m)\u001b[0m\u001b[0;34m\u001b[0m\u001b[0;34m\u001b[0m\u001b[0m\n\u001b[1;32m      7\u001b[0m       \u001b[0;32melse\u001b[0m\u001b[0;34m:\u001b[0m\u001b[0;34m\u001b[0m\u001b[0;34m\u001b[0m\u001b[0m\n\u001b[0;32m----> 8\u001b[0;31m         \u001b[0;32mraise\u001b[0m \u001b[0mTypeError\u001b[0m\u001b[0;34m(\u001b[0m\u001b[0;34m'Invalid datatype'\u001b[0m\u001b[0;34m)\u001b[0m\u001b[0;34m\u001b[0m\u001b[0;34m\u001b[0m\u001b[0m\n\u001b[0m\u001b[1;32m      9\u001b[0m     \u001b[0;32mreturn\u001b[0m \u001b[0minner_wrapper\u001b[0m\u001b[0;34m\u001b[0m\u001b[0;34m\u001b[0m\u001b[0m\n\u001b[1;32m     10\u001b[0m   \u001b[0;32mreturn\u001b[0m \u001b[0mouter_wrapper\u001b[0m\u001b[0;34m\u001b[0m\u001b[0;34m\u001b[0m\u001b[0m\n",
            "\u001b[0;31mTypeError\u001b[0m: Invalid datatype"
          ]
        }
      ]
    },
    {
      "cell_type": "code",
      "source": [
        "hello(5)"
      ],
      "metadata": {
        "colab": {
          "base_uri": "https://localhost:8080/",
          "height": 263
        },
        "id": "p8YeODNzHXHR",
        "outputId": "b84fd0b2-2a9c-4e46-b0f5-96b3ce8608dd"
      },
      "execution_count": 32,
      "outputs": [
        {
          "output_type": "error",
          "ename": "TypeError",
          "evalue": "Invalid datatype",
          "traceback": [
            "\u001b[0;31m---------------------------------------------------------------------------\u001b[0m",
            "\u001b[0;31mTypeError\u001b[0m                                 Traceback (most recent call last)",
            "\u001b[0;32m<ipython-input-32-c8bbaafb0f2b>\u001b[0m in \u001b[0;36m<cell line: 1>\u001b[0;34m()\u001b[0m\n\u001b[0;32m----> 1\u001b[0;31m \u001b[0mhello\u001b[0m\u001b[0;34m(\u001b[0m\u001b[0;36m5\u001b[0m\u001b[0;34m)\u001b[0m\u001b[0;34m\u001b[0m\u001b[0;34m\u001b[0m\u001b[0m\n\u001b[0m",
            "\u001b[0;32m<ipython-input-30-36e377dc6587>\u001b[0m in \u001b[0;36minner_wrapper\u001b[0;34m(*args)\u001b[0m\n\u001b[1;32m      6\u001b[0m         \u001b[0mfunc\u001b[0m\u001b[0;34m(\u001b[0m\u001b[0;34m*\u001b[0m\u001b[0margs\u001b[0m\u001b[0;34m)\u001b[0m\u001b[0;34m\u001b[0m\u001b[0;34m\u001b[0m\u001b[0m\n\u001b[1;32m      7\u001b[0m       \u001b[0;32melse\u001b[0m\u001b[0;34m:\u001b[0m\u001b[0;34m\u001b[0m\u001b[0;34m\u001b[0m\u001b[0m\n\u001b[0;32m----> 8\u001b[0;31m         \u001b[0;32mraise\u001b[0m \u001b[0mTypeError\u001b[0m\u001b[0;34m(\u001b[0m\u001b[0;34m'Invalid datatype'\u001b[0m\u001b[0;34m)\u001b[0m\u001b[0;34m\u001b[0m\u001b[0;34m\u001b[0m\u001b[0m\n\u001b[0m\u001b[1;32m      9\u001b[0m     \u001b[0;32mreturn\u001b[0m \u001b[0minner_wrapper\u001b[0m\u001b[0;34m\u001b[0m\u001b[0;34m\u001b[0m\u001b[0m\n\u001b[1;32m     10\u001b[0m   \u001b[0;32mreturn\u001b[0m \u001b[0mouter_wrapper\u001b[0m\u001b[0;34m\u001b[0m\u001b[0;34m\u001b[0m\u001b[0m\n",
            "\u001b[0;31mTypeError\u001b[0m: Invalid datatype"
          ]
        }
      ]
    }
  ]
}